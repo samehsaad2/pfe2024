{
 "cells": [
  {
   "cell_type": "markdown",
   "id": "314092a4",
   "metadata": {},
   "source": [
    "<h1 style=\"text-align:center;\">Etape 1: Exploration de données(EDA) </h1>"
   ]
  },
  {
   "cell_type": "markdown",
   "id": "a7dfd3e4",
   "metadata": {},
   "source": [
    "L'Exploration de Données (EDA), également connue sous le nom de Data Exploration en anglais, est une phase cruciale dans le processus d'analyse de données. Elle consiste à examiner, résumer et visualiser les données pour mieux comprendre leur nature, leur structure, leurs modèles et leurs caractéristiques.\n",
    "\n",
    "L'EDA est généralement la première étape entreprise par les analystes de données et les scientifiques des données avant de construire des modèles d'apprentissage automatique ou de prendre des décisions basées sur les données.\n",
    "\n",
    "# Data Description  \n",
    "\n",
    "Ce projet a pour objectif de mettre en place un système de prédiction des prix de voitures d'occasion en utilisant des critères spécifiques tels que la marque, la transmission, le type de carburant, le nombre d'anciens propriétaires, l'année de fabrication, et bien d'autres. Pour ce faire, nous utilisons des techniques de Machine Learning.\n",
    "\n",
    "Notre approche consiste à développer un algorithme de Machine Learning capable de prendre en compte ces critères pour estimer de manière précise le prix d'une voiture d'occasion. Cette solution permettra aux utilisateurs d'obtenir une estimation fiable du prix d'une voiture d'occasion en se basant sur des informations clés, facilitant ainsi le processus d'achat ou de vente de véhicules d'occasion.\n",
    "\n",
    "Le Machine Learning joue un rôle central dans ce projet en nous permettant d'exploiter les données existantes pour créer un modèle prédictif robuste. Grâce à l'analyse des données et à l'entraînement du modèle, nous pourrons fournir des prédictions de prix précises et personnalisées en fonction des caractéristiques spécifiques de chaque véhicule.\n",
    "\n",
    "voici la signification des noms des colonnes :\n",
    "\n",
    "    * feature name: Le nom de chaque colonne ou caractéristique dans l'ensemble de données.\n",
    "\n",
    "    * year: L'année de fabrication ou de mise en circulation du véhicule.\n",
    "\n",
    "    * selling_price: Le prix de vente du véhicule.\n",
    "\n",
    "    * km_driven: Le nombre de kilomètres parcourus par le véhicule.\n",
    "\n",
    "    * fuel: Le type de carburant utilisé par le véhicule (par exemple, essence, diesel, électrique, etc.).\n",
    "\n",
    "    *  seller_type: Le type de vendeur (par exemple, vendeur individuel, concessionnaire, etc.).\n",
    "\n",
    "    * transmission: Le type de transmission du véhicule (par exemple, manuelle, automatique).\n",
    "\n",
    "    * owner: Le nombre de propriétaires précédents du véhicule.\n",
    "\n",
    "    * mileage: La consommation de carburant du véhicule en termes de kilomètres par litre.\n",
    "\n",
    "    * engine: La cylindrée du moteur du véhicule.\n",
    "\n",
    "    * max_power: La puissance maximale du moteur du véhicule.\n",
    "\n",
    "    * torque: Le couple du moteur du véhicule.\n",
    "\n",
    "    * seats: Le nombre de places (sièges) dans le véhicule.\n",
    "    \n",
    "Les données originales proviennent de Vehicle dataset sur Kaggle URL: https://www.kaggle.com/datasets/nehalbirla/vehicle-dataset-from-cardekho?fbclid=IwAR1mCHhtXoBV8PZESSd6621bkUp7hTrrvmTid6VzgcAuTZJqtgw-zECtAXw\n"
   ]
  },
  {
   "cell_type": "markdown",
   "id": "c574fbe7",
   "metadata": {},
   "source": [
    "# 1. Importation des packages"
   ]
  },
  {
   "cell_type": "code",
   "execution_count": 1,
   "id": "d0a7780b",
   "metadata": {},
   "outputs": [],
   "source": [
    "import pandas as pd  # Importe la bibliothèque pandas pour la manipulation de données sous forme de dataframes.\n",
    "import numpy as np   # Importe la bibliothèque numpy pour la manipulation de tableaux (arrays).\n",
    "\n",
    "import matplotlib.pyplot as plt  # Importe la bibliothèque matplotlib pour la visualisation de données.\n",
    "import seaborn as sns  # Importe la bibliothèque seaborn pour la visualisation de données basée sur matplotlib."
   ]
  },
  {
   "cell_type": "markdown",
   "id": "044f9c50",
   "metadata": {},
   "source": [
    "# 2. charger des données"
   ]
  },
  {
   "cell_type": "code",
   "execution_count": 2,
   "id": "086810af",
   "metadata": {},
   "outputs": [
    {
     "ename": "FileNotFoundError",
     "evalue": "[Errno 2] No such file or directory: './Data_csv/Car.csv'",
     "output_type": "error",
     "traceback": [
      "\u001b[1;31m---------------------------------------------------------------------------\u001b[0m",
      "\u001b[1;31mFileNotFoundError\u001b[0m                         Traceback (most recent call last)",
      "Cell \u001b[1;32mIn[2], line 1\u001b[0m\n\u001b[1;32m----> 1\u001b[0m data\u001b[38;5;241m=\u001b[39mpd\u001b[38;5;241m.\u001b[39mread_csv(\u001b[38;5;124m'\u001b[39m\u001b[38;5;124m./Data_csv/Car.csv\u001b[39m\u001b[38;5;124m'\u001b[39m)\n",
      "File \u001b[1;32m~\\anaconda3\\Lib\\site-packages\\pandas\\io\\parsers\\readers.py:912\u001b[0m, in \u001b[0;36mread_csv\u001b[1;34m(filepath_or_buffer, sep, delimiter, header, names, index_col, usecols, dtype, engine, converters, true_values, false_values, skipinitialspace, skiprows, skipfooter, nrows, na_values, keep_default_na, na_filter, verbose, skip_blank_lines, parse_dates, infer_datetime_format, keep_date_col, date_parser, date_format, dayfirst, cache_dates, iterator, chunksize, compression, thousands, decimal, lineterminator, quotechar, quoting, doublequote, escapechar, comment, encoding, encoding_errors, dialect, on_bad_lines, delim_whitespace, low_memory, memory_map, float_precision, storage_options, dtype_backend)\u001b[0m\n\u001b[0;32m    899\u001b[0m kwds_defaults \u001b[38;5;241m=\u001b[39m _refine_defaults_read(\n\u001b[0;32m    900\u001b[0m     dialect,\n\u001b[0;32m    901\u001b[0m     delimiter,\n\u001b[1;32m   (...)\u001b[0m\n\u001b[0;32m    908\u001b[0m     dtype_backend\u001b[38;5;241m=\u001b[39mdtype_backend,\n\u001b[0;32m    909\u001b[0m )\n\u001b[0;32m    910\u001b[0m kwds\u001b[38;5;241m.\u001b[39mupdate(kwds_defaults)\n\u001b[1;32m--> 912\u001b[0m \u001b[38;5;28;01mreturn\u001b[39;00m _read(filepath_or_buffer, kwds)\n",
      "File \u001b[1;32m~\\anaconda3\\Lib\\site-packages\\pandas\\io\\parsers\\readers.py:577\u001b[0m, in \u001b[0;36m_read\u001b[1;34m(filepath_or_buffer, kwds)\u001b[0m\n\u001b[0;32m    574\u001b[0m _validate_names(kwds\u001b[38;5;241m.\u001b[39mget(\u001b[38;5;124m\"\u001b[39m\u001b[38;5;124mnames\u001b[39m\u001b[38;5;124m\"\u001b[39m, \u001b[38;5;28;01mNone\u001b[39;00m))\n\u001b[0;32m    576\u001b[0m \u001b[38;5;66;03m# Create the parser.\u001b[39;00m\n\u001b[1;32m--> 577\u001b[0m parser \u001b[38;5;241m=\u001b[39m TextFileReader(filepath_or_buffer, \u001b[38;5;241m*\u001b[39m\u001b[38;5;241m*\u001b[39mkwds)\n\u001b[0;32m    579\u001b[0m \u001b[38;5;28;01mif\u001b[39;00m chunksize \u001b[38;5;129;01mor\u001b[39;00m iterator:\n\u001b[0;32m    580\u001b[0m     \u001b[38;5;28;01mreturn\u001b[39;00m parser\n",
      "File \u001b[1;32m~\\anaconda3\\Lib\\site-packages\\pandas\\io\\parsers\\readers.py:1407\u001b[0m, in \u001b[0;36mTextFileReader.__init__\u001b[1;34m(self, f, engine, **kwds)\u001b[0m\n\u001b[0;32m   1404\u001b[0m     \u001b[38;5;28mself\u001b[39m\u001b[38;5;241m.\u001b[39moptions[\u001b[38;5;124m\"\u001b[39m\u001b[38;5;124mhas_index_names\u001b[39m\u001b[38;5;124m\"\u001b[39m] \u001b[38;5;241m=\u001b[39m kwds[\u001b[38;5;124m\"\u001b[39m\u001b[38;5;124mhas_index_names\u001b[39m\u001b[38;5;124m\"\u001b[39m]\n\u001b[0;32m   1406\u001b[0m \u001b[38;5;28mself\u001b[39m\u001b[38;5;241m.\u001b[39mhandles: IOHandles \u001b[38;5;241m|\u001b[39m \u001b[38;5;28;01mNone\u001b[39;00m \u001b[38;5;241m=\u001b[39m \u001b[38;5;28;01mNone\u001b[39;00m\n\u001b[1;32m-> 1407\u001b[0m \u001b[38;5;28mself\u001b[39m\u001b[38;5;241m.\u001b[39m_engine \u001b[38;5;241m=\u001b[39m \u001b[38;5;28mself\u001b[39m\u001b[38;5;241m.\u001b[39m_make_engine(f, \u001b[38;5;28mself\u001b[39m\u001b[38;5;241m.\u001b[39mengine)\n",
      "File \u001b[1;32m~\\anaconda3\\Lib\\site-packages\\pandas\\io\\parsers\\readers.py:1661\u001b[0m, in \u001b[0;36mTextFileReader._make_engine\u001b[1;34m(self, f, engine)\u001b[0m\n\u001b[0;32m   1659\u001b[0m     \u001b[38;5;28;01mif\u001b[39;00m \u001b[38;5;124m\"\u001b[39m\u001b[38;5;124mb\u001b[39m\u001b[38;5;124m\"\u001b[39m \u001b[38;5;129;01mnot\u001b[39;00m \u001b[38;5;129;01min\u001b[39;00m mode:\n\u001b[0;32m   1660\u001b[0m         mode \u001b[38;5;241m+\u001b[39m\u001b[38;5;241m=\u001b[39m \u001b[38;5;124m\"\u001b[39m\u001b[38;5;124mb\u001b[39m\u001b[38;5;124m\"\u001b[39m\n\u001b[1;32m-> 1661\u001b[0m \u001b[38;5;28mself\u001b[39m\u001b[38;5;241m.\u001b[39mhandles \u001b[38;5;241m=\u001b[39m get_handle(\n\u001b[0;32m   1662\u001b[0m     f,\n\u001b[0;32m   1663\u001b[0m     mode,\n\u001b[0;32m   1664\u001b[0m     encoding\u001b[38;5;241m=\u001b[39m\u001b[38;5;28mself\u001b[39m\u001b[38;5;241m.\u001b[39moptions\u001b[38;5;241m.\u001b[39mget(\u001b[38;5;124m\"\u001b[39m\u001b[38;5;124mencoding\u001b[39m\u001b[38;5;124m\"\u001b[39m, \u001b[38;5;28;01mNone\u001b[39;00m),\n\u001b[0;32m   1665\u001b[0m     compression\u001b[38;5;241m=\u001b[39m\u001b[38;5;28mself\u001b[39m\u001b[38;5;241m.\u001b[39moptions\u001b[38;5;241m.\u001b[39mget(\u001b[38;5;124m\"\u001b[39m\u001b[38;5;124mcompression\u001b[39m\u001b[38;5;124m\"\u001b[39m, \u001b[38;5;28;01mNone\u001b[39;00m),\n\u001b[0;32m   1666\u001b[0m     memory_map\u001b[38;5;241m=\u001b[39m\u001b[38;5;28mself\u001b[39m\u001b[38;5;241m.\u001b[39moptions\u001b[38;5;241m.\u001b[39mget(\u001b[38;5;124m\"\u001b[39m\u001b[38;5;124mmemory_map\u001b[39m\u001b[38;5;124m\"\u001b[39m, \u001b[38;5;28;01mFalse\u001b[39;00m),\n\u001b[0;32m   1667\u001b[0m     is_text\u001b[38;5;241m=\u001b[39mis_text,\n\u001b[0;32m   1668\u001b[0m     errors\u001b[38;5;241m=\u001b[39m\u001b[38;5;28mself\u001b[39m\u001b[38;5;241m.\u001b[39moptions\u001b[38;5;241m.\u001b[39mget(\u001b[38;5;124m\"\u001b[39m\u001b[38;5;124mencoding_errors\u001b[39m\u001b[38;5;124m\"\u001b[39m, \u001b[38;5;124m\"\u001b[39m\u001b[38;5;124mstrict\u001b[39m\u001b[38;5;124m\"\u001b[39m),\n\u001b[0;32m   1669\u001b[0m     storage_options\u001b[38;5;241m=\u001b[39m\u001b[38;5;28mself\u001b[39m\u001b[38;5;241m.\u001b[39moptions\u001b[38;5;241m.\u001b[39mget(\u001b[38;5;124m\"\u001b[39m\u001b[38;5;124mstorage_options\u001b[39m\u001b[38;5;124m\"\u001b[39m, \u001b[38;5;28;01mNone\u001b[39;00m),\n\u001b[0;32m   1670\u001b[0m )\n\u001b[0;32m   1671\u001b[0m \u001b[38;5;28;01massert\u001b[39;00m \u001b[38;5;28mself\u001b[39m\u001b[38;5;241m.\u001b[39mhandles \u001b[38;5;129;01mis\u001b[39;00m \u001b[38;5;129;01mnot\u001b[39;00m \u001b[38;5;28;01mNone\u001b[39;00m\n\u001b[0;32m   1672\u001b[0m f \u001b[38;5;241m=\u001b[39m \u001b[38;5;28mself\u001b[39m\u001b[38;5;241m.\u001b[39mhandles\u001b[38;5;241m.\u001b[39mhandle\n",
      "File \u001b[1;32m~\\anaconda3\\Lib\\site-packages\\pandas\\io\\common.py:859\u001b[0m, in \u001b[0;36mget_handle\u001b[1;34m(path_or_buf, mode, encoding, compression, memory_map, is_text, errors, storage_options)\u001b[0m\n\u001b[0;32m    854\u001b[0m \u001b[38;5;28;01melif\u001b[39;00m \u001b[38;5;28misinstance\u001b[39m(handle, \u001b[38;5;28mstr\u001b[39m):\n\u001b[0;32m    855\u001b[0m     \u001b[38;5;66;03m# Check whether the filename is to be opened in binary mode.\u001b[39;00m\n\u001b[0;32m    856\u001b[0m     \u001b[38;5;66;03m# Binary mode does not support 'encoding' and 'newline'.\u001b[39;00m\n\u001b[0;32m    857\u001b[0m     \u001b[38;5;28;01mif\u001b[39;00m ioargs\u001b[38;5;241m.\u001b[39mencoding \u001b[38;5;129;01mand\u001b[39;00m \u001b[38;5;124m\"\u001b[39m\u001b[38;5;124mb\u001b[39m\u001b[38;5;124m\"\u001b[39m \u001b[38;5;129;01mnot\u001b[39;00m \u001b[38;5;129;01min\u001b[39;00m ioargs\u001b[38;5;241m.\u001b[39mmode:\n\u001b[0;32m    858\u001b[0m         \u001b[38;5;66;03m# Encoding\u001b[39;00m\n\u001b[1;32m--> 859\u001b[0m         handle \u001b[38;5;241m=\u001b[39m \u001b[38;5;28mopen\u001b[39m(\n\u001b[0;32m    860\u001b[0m             handle,\n\u001b[0;32m    861\u001b[0m             ioargs\u001b[38;5;241m.\u001b[39mmode,\n\u001b[0;32m    862\u001b[0m             encoding\u001b[38;5;241m=\u001b[39mioargs\u001b[38;5;241m.\u001b[39mencoding,\n\u001b[0;32m    863\u001b[0m             errors\u001b[38;5;241m=\u001b[39merrors,\n\u001b[0;32m    864\u001b[0m             newline\u001b[38;5;241m=\u001b[39m\u001b[38;5;124m\"\u001b[39m\u001b[38;5;124m\"\u001b[39m,\n\u001b[0;32m    865\u001b[0m         )\n\u001b[0;32m    866\u001b[0m     \u001b[38;5;28;01melse\u001b[39;00m:\n\u001b[0;32m    867\u001b[0m         \u001b[38;5;66;03m# Binary mode\u001b[39;00m\n\u001b[0;32m    868\u001b[0m         handle \u001b[38;5;241m=\u001b[39m \u001b[38;5;28mopen\u001b[39m(handle, ioargs\u001b[38;5;241m.\u001b[39mmode)\n",
      "\u001b[1;31mFileNotFoundError\u001b[0m: [Errno 2] No such file or directory: './Data_csv/Car.csv'"
     ]
    }
   ],
   "source": [
    "data=pd.read_csv('./Data_csv/Car.csv') # lire"
   ]
  },
  {
   "cell_type": "markdown",
   "id": "2bb7cf91",
   "metadata": {},
   "source": [
    "# 3. Visualisation de données"
   ]
  },
  {
   "cell_type": "code",
   "execution_count": null,
   "id": "b1de7542",
   "metadata": {},
   "outputs": [],
   "source": [
    "data.head() #Affichage des premières lignes des données"
   ]
  },
  {
   "cell_type": "code",
   "execution_count": null,
   "id": "985a9418",
   "metadata": {},
   "outputs": [],
   "source": [
    "# Utilisation de la méthode .shape pour obtenir les dimensions du dataframe Dimensions des données (nombre de lignes et de colonnes\n",
    "dimensions = data.shape\n",
    "\n",
    "# Affichage des dimensions\n",
    "print(dimensions)\n"
   ]
  },
  {
   "cell_type": "code",
   "execution_count": null,
   "id": "5d1c5dea",
   "metadata": {},
   "outputs": [],
   "source": [
    "data.info() #Informations sur les données :"
   ]
  },
  {
   "cell_type": "code",
   "execution_count": null,
   "id": "d2290dcb",
   "metadata": {},
   "outputs": [],
   "source": [
    "data.describe()"
   ]
  },
  {
   "cell_type": "code",
   "execution_count": null,
   "id": "59ac7675",
   "metadata": {},
   "outputs": [],
   "source": [
    "data.describe(include=object)\n",
    "#obtenir des statistiques descriptives spécifiques aux colonnes de type objet (chaînes de caractères)"
   ]
  },
  {
   "cell_type": "code",
   "execution_count": null,
   "id": "3caaa9ad",
   "metadata": {},
   "outputs": [],
   "source": [
    "data['seller_type'].value_counts()\n",
    " # Comptage des valeurs"
   ]
  },
  {
   "cell_type": "code",
   "execution_count": null,
   "id": "7d5eca9f",
   "metadata": {},
   "outputs": [],
   "source": [
    "data.isna().sum()"
   ]
  },
  {
   "cell_type": "code",
   "execution_count": null,
   "id": "d3b7691d",
   "metadata": {},
   "outputs": [],
   "source": [
    "data.boxplot()"
   ]
  },
  {
   "cell_type": "markdown",
   "id": "0f894212",
   "metadata": {},
   "source": [
    "### Matrice de coleration\n",
    "\n",
    "La matrice de corrélation indique les valeurs de corrélation, qui mesurent le degré de relation linéaire entre chaque paire de variables."
   ]
  },
  {
   "cell_type": "code",
   "execution_count": null,
   "id": "6ebb8cb7",
   "metadata": {},
   "outputs": [],
   "source": [
    "import seaborn as sns\n",
    "\n",
    "numeric_data = data.select_dtypes(include=['number'])\n",
    "# matrice de correlation\n",
    "correlation_matrix = numeric_data.corr()\n",
    "#Diagramme de corrélation\n",
    "sns.heatmap(correlation_matrix, annot=True, cmap='coolwarm')"
   ]
  },
  {
   "cell_type": "code",
   "execution_count": null,
   "id": "1186b934",
   "metadata": {},
   "outputs": [],
   "source": [
    "import matplotlib.pyplot as plt  # Importe la bibliothèque matplotlib pour la création de graphiques.\n",
    "import seaborn as sns            # Importe la bibliothèque seaborn pour une visualisation améliorée.\n",
    "\n",
    "def custom_bar_plot(data, col, figsize=(15, 7), rotation=0):\n",
    "\n",
    "    plt.figure(figsize=figsize)  # Crée une nouvelle figure avec la taille spécifiée.\n",
    "\n",
    "    # Crée un graphique à barres (countplot) en utilisant la colonne spécifiée et l'ordre des catégories.\n",
    "    plot = sns.countplot(x=col, data=data, order=data[col].value_counts().index)\n",
    "\n",
    "    plt.xticks(rotation=rotation)  # Fait pivoter les étiquettes sur l'axe des x (si rotation est non nul).\n",
    "\n",
    "    # Ajoute des étiquettes au-dessus de chaque barre pour afficher le nombre de chaque catégorie.\n",
    "    for p in plot.patches:\n",
    "        plot.annotate(f'{p.get_height()}',\n",
    "                      (p.get_x() + p.get_width() / 2.0, p.get_height()),\n",
    "                      ha='center', va='center', xytext=(0, 5), textcoords='offset points')\n",
    "\n",
    "    plt.xlabel(col)   # Définit le label de l'axe des x avec le nom de la colonne.\n",
    "    plt.ylabel('Count')  # Définit le label de l'axe des y comme \"Count\".\n",
    "    plt.title(f'Count of {col}')  # Définit le titre du graphique en fonction de la colonne spécifiée.\n",
    "    plt.show()  # Affiche le graphique.\n",
    "\n",
    "# Exemple d'utilisation\n",
    "custom_bar_plot(data, 'fuel', figsize=(12, 6), rotation=45)  # Appelle la fonction .\n"
   ]
  },
  {
   "cell_type": "code",
   "execution_count": null,
   "id": "b4e9737a",
   "metadata": {},
   "outputs": [],
   "source": [
    "data['fuel'].hist()"
   ]
  },
  {
   "cell_type": "code",
   "execution_count": null,
   "id": "399cab24",
   "metadata": {},
   "outputs": [],
   "source": [
    "import pygwalker as pyg\n",
    "walker = pyg.walk(\n",
    "    data,\n",
    "    spec=\"./chart_meta_0.json\",    # this json file will save your chart state, you need to click save button in ui mannual when you finish a chart, 'autosave' will be supported in the future.\n",
    "    use_kernel_calc=True,          # set `use_kernel_calc=True`, pygwalker will use duckdb as computing engine, it support you explore bigger dataset(<=100GB).\n",
    ")"
   ]
  },
  {
   "cell_type": "markdown",
   "id": "18c1bd17",
   "metadata": {},
   "source": [
    "<h2 style=\"text-align:right;\">Passer à l'étape 2 ...</h2>"
   ]
  },
  {
   "cell_type": "code",
   "execution_count": null,
   "id": "fd19ca8d",
   "metadata": {},
   "outputs": [],
   "source": []
  }
 ],
 "metadata": {
  "kernelspec": {
   "display_name": "Python 3 (ipykernel)",
   "language": "python",
   "name": "python3"
  },
  "language_info": {
   "codemirror_mode": {
    "name": "ipython",
    "version": 3
   },
   "file_extension": ".py",
   "mimetype": "text/x-python",
   "name": "python",
   "nbconvert_exporter": "python",
   "pygments_lexer": "ipython3",
   "version": "3.11.5"
  }
 },
 "nbformat": 4,
 "nbformat_minor": 5
}
