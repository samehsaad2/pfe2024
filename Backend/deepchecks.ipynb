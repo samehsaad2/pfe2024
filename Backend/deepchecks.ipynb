{
 "cells": [
  {
   "cell_type": "code",
   "execution_count": 2,
   "metadata": {
    "pycharm": {
     "name": "#%%\n"
    }
   },
   "outputs": [],
   "source": [
    "import pandas as pd\n",
    "pd.options.display.max_columns=None\n",
    "import numpy as np"
   ]
  },
  {
   "cell_type": "code",
   "execution_count": 3,
   "metadata": {},
   "outputs": [
    {
     "data": {
      "text/plain": [
       "'1.4.3'"
      ]
     },
     "execution_count": 3,
     "metadata": {},
     "output_type": "execute_result"
    }
   ],
   "source": [
    "pd.__version__"
   ]
  },
  {
   "cell_type": "code",
   "execution_count": 6,
   "metadata": {
    "pycharm": {
     "name": "#%%\n"
    }
   },
   "outputs": [
    {
     "data": {
      "text/html": [
       "<div>\n",
       "<style scoped>\n",
       "    .dataframe tbody tr th:only-of-type {\n",
       "        vertical-align: middle;\n",
       "    }\n",
       "\n",
       "    .dataframe tbody tr th {\n",
       "        vertical-align: top;\n",
       "    }\n",
       "\n",
       "    .dataframe thead th {\n",
       "        text-align: right;\n",
       "    }\n",
       "</style>\n",
       "<table border=\"1\" class=\"dataframe\">\n",
       "  <thead>\n",
       "    <tr style=\"text-align: right;\">\n",
       "      <th></th>\n",
       "      <th>year</th>\n",
       "      <th>selling_price</th>\n",
       "      <th>km_driven</th>\n",
       "      <th>fuel</th>\n",
       "      <th>transmission</th>\n",
       "      <th>owner</th>\n",
       "      <th>engine</th>\n",
       "      <th>max_power</th>\n",
       "    </tr>\n",
       "  </thead>\n",
       "  <tbody>\n",
       "    <tr>\n",
       "      <th>0</th>\n",
       "      <td>2014.0</td>\n",
       "      <td>450000.0</td>\n",
       "      <td>145500.0</td>\n",
       "      <td>1</td>\n",
       "      <td>2</td>\n",
       "      <td>0</td>\n",
       "      <td>1248.0</td>\n",
       "      <td>74.00</td>\n",
       "    </tr>\n",
       "    <tr>\n",
       "      <th>1</th>\n",
       "      <td>2014.0</td>\n",
       "      <td>370000.0</td>\n",
       "      <td>120000.0</td>\n",
       "      <td>1</td>\n",
       "      <td>2</td>\n",
       "      <td>1</td>\n",
       "      <td>1498.0</td>\n",
       "      <td>103.52</td>\n",
       "    </tr>\n",
       "    <tr>\n",
       "      <th>2</th>\n",
       "      <td>2010.0</td>\n",
       "      <td>225000.0</td>\n",
       "      <td>127000.0</td>\n",
       "      <td>1</td>\n",
       "      <td>2</td>\n",
       "      <td>0</td>\n",
       "      <td>1396.0</td>\n",
       "      <td>90.00</td>\n",
       "    </tr>\n",
       "    <tr>\n",
       "      <th>3</th>\n",
       "      <td>2017.0</td>\n",
       "      <td>440000.0</td>\n",
       "      <td>45000.0</td>\n",
       "      <td>2</td>\n",
       "      <td>2</td>\n",
       "      <td>0</td>\n",
       "      <td>1197.0</td>\n",
       "      <td>81.86</td>\n",
       "    </tr>\n",
       "    <tr>\n",
       "      <th>4</th>\n",
       "      <td>2011.0</td>\n",
       "      <td>350000.0</td>\n",
       "      <td>90000.0</td>\n",
       "      <td>1</td>\n",
       "      <td>2</td>\n",
       "      <td>0</td>\n",
       "      <td>1364.0</td>\n",
       "      <td>67.10</td>\n",
       "    </tr>\n",
       "  </tbody>\n",
       "</table>\n",
       "</div>"
      ],
      "text/plain": [
       "     year  selling_price  km_driven  fuel  transmission  owner  engine  \\\n",
       "0  2014.0       450000.0   145500.0     1             2      0  1248.0   \n",
       "1  2014.0       370000.0   120000.0     1             2      1  1498.0   \n",
       "2  2010.0       225000.0   127000.0     1             2      0  1396.0   \n",
       "3  2017.0       440000.0    45000.0     2             2      0  1197.0   \n",
       "4  2011.0       350000.0    90000.0     1             2      0  1364.0   \n",
       "\n",
       "   max_power  \n",
       "0      74.00  \n",
       "1     103.52  \n",
       "2      90.00  \n",
       "3      81.86  \n",
       "4      67.10  "
      ]
     },
     "execution_count": 6,
     "metadata": {},
     "output_type": "execute_result"
    }
   ],
   "source": [
    "df = pd.read_csv(\"./Data_csv/data_cleaned.csv\")\n",
    "df.head()"
   ]
  },
  {
   "cell_type": "markdown",
   "metadata": {
    "pycharm": {
     "name": "#%% md\n"
    }
   },
   "source": [
    "## full_suite for dataset"
   ]
  },
  {
   "cell_type": "code",
   "execution_count": 7,
   "metadata": {},
   "outputs": [
    {
     "name": "stderr",
     "output_type": "stream",
     "text": [
      "deepchecks - WARNING - You are using deepchecks version 0.17.4, however a newer version is available. Deepchecks is frequently updated with major improvements. You should consider upgrading via the \"python -m pip install --upgrade deepchecks\" command.\n"
     ]
    },
    {
     "data": {
      "text/plain": [
       "'0.17.4'"
      ]
     },
     "execution_count": 7,
     "metadata": {},
     "output_type": "execute_result"
    }
   ],
   "source": [
    "import deepchecks\n",
    "deepchecks.__version__"
   ]
  },
  {
   "cell_type": "code",
   "execution_count": 8,
   "metadata": {
    "pycharm": {
     "name": "#%%\n"
    }
   },
   "outputs": [
    {
     "data": {
      "text/plain": [
       "Full Suite: [\n",
       "\t0: TrainTestPerformance\n",
       "\t\tConditions:\n",
       "\t\t\t0: Train-Test scores relative degradation is less than 0.1\n",
       "\t1: RocReport\n",
       "\t\tConditions:\n",
       "\t\t\t0: AUC score for all the classes is greater than 0.7\n",
       "\t2: ConfusionMatrixReport\n",
       "\t3: PredictionDrift\n",
       "\t\tConditions:\n",
       "\t\t\t0: Prediction drift score < 0.15\n",
       "\t4: SimpleModelComparison\n",
       "\t\tConditions:\n",
       "\t\t\t0: Model performance gain over simple model is greater than 10%\n",
       "\t5: WeakSegmentsPerformance(n_to_show=5)\n",
       "\t\tConditions:\n",
       "\t\t\t0: The relative performance of weakest segment is greater than 80% of average model performance.\n",
       "\t6: CalibrationScore\n",
       "\t7: RegressionErrorDistribution\n",
       "\t\tConditions:\n",
       "\t\t\t0: Kurtosis value higher than -0.1\n",
       "\t\t\t1: Systematic error ratio lower than 0.01\n",
       "\t8: UnusedFeatures\n",
       "\t\tConditions:\n",
       "\t\t\t0: Number of high variance unused features is less or equal to 5\n",
       "\t9: BoostingOverfit\n",
       "\t\tConditions:\n",
       "\t\t\t0: Test score over iterations is less than 5% from the best score\n",
       "\t10: ModelInferenceTime\n",
       "\t\tConditions:\n",
       "\t\t\t0: Average model inference time for one sample is less than 0.001\n",
       "\t11: DatasetsSizeComparison\n",
       "\t\tConditions:\n",
       "\t\t\t0: Test-Train size ratio is greater than 0.01\n",
       "\t12: NewLabelTrainTest\n",
       "\t\tConditions:\n",
       "\t\t\t0: Number of new label values is less or equal to 0\n",
       "\t13: NewCategoryTrainTest\n",
       "\t\tConditions:\n",
       "\t\t\t0: Ratio of samples with a new category is less or equal to 0%\n",
       "\t14: StringMismatchComparison\n",
       "\t\tConditions:\n",
       "\t\t\t0: No new variants allowed in test data\n",
       "\t15: DateTrainTestLeakageDuplicates\n",
       "\t\tConditions:\n",
       "\t\t\t0: Date leakage ratio is less or equal to 0%\n",
       "\t16: DateTrainTestLeakageOverlap\n",
       "\t\tConditions:\n",
       "\t\t\t0: Date leakage ratio is less or equal to 0%\n",
       "\t17: IndexTrainTestLeakage\n",
       "\t\tConditions:\n",
       "\t\t\t0: Ratio of leaking indices is less or equal to 0%\n",
       "\t18: TrainTestSamplesMix(n_to_show=5)\n",
       "\t\tConditions:\n",
       "\t\t\t0: Percentage of test data samples that appear in train data is less or equal to 5%\n",
       "\t19: FeatureLabelCorrelationChange(ppscore_params={}, random_state=42)\n",
       "\t\tConditions:\n",
       "\t\t\t0: Train-Test features' Predictive Power Score difference is less than 0.2\n",
       "\t\t\t1: Train features' Predictive Power Score is less than 0.7\n",
       "\t20: FeatureDrift\n",
       "\t\tConditions:\n",
       "\t\t\t0: categorical drift score < 0.2 and numerical drift score < 0.2\n",
       "\t21: LabelDrift\n",
       "\t\tConditions:\n",
       "\t\t\t0: Label drift score < 0.15\n",
       "\t22: MultivariateDrift\n",
       "\t\tConditions:\n",
       "\t\t\t0: Drift value is less than 0.25\n",
       "\t23: IsSingleValue\n",
       "\t\tConditions:\n",
       "\t\t\t0: Does not contain only a single value\n",
       "\t24: SpecialCharacters\n",
       "\t\tConditions:\n",
       "\t\t\t0: Ratio of samples containing solely special character is less or equal to 0.1%\n",
       "\t25: MixedNulls\n",
       "\t\tConditions:\n",
       "\t\t\t0: Number of different null types is less or equal to 1\n",
       "\t26: MixedDataTypes\n",
       "\t\tConditions:\n",
       "\t\t\t0: Rare data types in column are either more than 10% or less than 1% of the data\n",
       "\t27: StringMismatch\n",
       "\t\tConditions:\n",
       "\t\t\t0: No string variants\n",
       "\t28: DataDuplicates\n",
       "\t\tConditions:\n",
       "\t\t\t0: Duplicate data ratio is less or equal to 5%\n",
       "\t29: StringLengthOutOfBounds\n",
       "\t\tConditions:\n",
       "\t\t\t0: Ratio of string length outliers is less or equal to 0%\n",
       "\t30: ConflictingLabels\n",
       "\t\tConditions:\n",
       "\t\t\t0: Ambiguous sample ratio is less or equal to 0%\n",
       "\t31: OutlierSampleDetection\n",
       "\t32: FeatureLabelCorrelation(ppscore_params={}, random_state=42)\n",
       "\t\tConditions:\n",
       "\t\t\t0: Features' Predictive Power Score is less than 0.8\n",
       "\t33: FeatureFeatureCorrelation\n",
       "\t\tConditions:\n",
       "\t\t\t0: Not more than 0 pairs are correlated above 0.9\n",
       "\t34: IdentifierLabelCorrelation(ppscore_params={})\n",
       "\t\tConditions:\n",
       "\t\t\t0: Identifier columns PPS is less or equal to 0\n",
       "]"
      ]
     },
     "execution_count": 8,
     "metadata": {},
     "output_type": "execute_result"
    }
   ],
   "source": [
    "from deepchecks.tabular.suites import full_suite\n",
    "suites=full_suite()\n",
    "suites"
   ]
  },
  {
   "cell_type": "code",
   "execution_count": 9,
   "metadata": {
    "pycharm": {
     "name": "#%%\n"
    }
   },
   "outputs": [
    {
     "data": {
      "text/plain": [
       "[]"
      ]
     },
     "execution_count": 9,
     "metadata": {},
     "output_type": "execute_result"
    }
   ],
   "source": [
    "cat_features= df.select_dtypes(include=['object']).columns.tolist()\n",
    "cat_features"
   ]
  },
  {
   "cell_type": "code",
   "execution_count": 11,
   "metadata": {
    "pycharm": {
     "name": "#%%\n"
    }
   },
   "outputs": [
    {
     "data": {
      "text/html": [
       "<h4><b>Dataset Description</b></h4><div>\n",
       "<style scoped>\n",
       "    .dataframe tbody tr th:only-of-type {\n",
       "        vertical-align: middle;\n",
       "    }\n",
       "\n",
       "    .dataframe tbody tr th {\n",
       "        vertical-align: top;\n",
       "    }\n",
       "\n",
       "    .dataframe thead th {\n",
       "        text-align: right;\n",
       "    }\n",
       "</style>\n",
       "<table border=\"1\" class=\"dataframe\">\n",
       "  <thead>\n",
       "    <tr style=\"text-align: right;\">\n",
       "      <th style=\"min-width: 15px;\"></th>\n",
       "      <th style=\"min-width: 15px;\">Column</th>\n",
       "      <th style=\"min-width: 15px;\">DType</th>\n",
       "      <th style=\"min-width: 15px;\">Kind</th>\n",
       "      <th style=\"min-width: 15px;\">Additional Info</th>\n",
       "    </tr>\n",
       "  </thead>\n",
       "  <tbody>\n",
       "    <tr>\n",
       "      <th>0</th>\n",
       "      <td>selling_price</td>\n",
       "      <td>floating</td>\n",
       "      <td></td>\n",
       "      <td></td>\n",
       "    </tr>\n",
       "    <tr>\n",
       "      <th>1</th>\n",
       "      <td>year</td>\n",
       "      <td>floating</td>\n",
       "      <td>Numerical Feature</td>\n",
       "      <td></td>\n",
       "    </tr>\n",
       "    <tr>\n",
       "      <th>2</th>\n",
       "      <td>km_driven</td>\n",
       "      <td>floating</td>\n",
       "      <td>Numerical Feature</td>\n",
       "      <td></td>\n",
       "    </tr>\n",
       "    <tr>\n",
       "      <th>3</th>\n",
       "      <td>fuel</td>\n",
       "      <td>integer</td>\n",
       "      <td>Numerical Feature</td>\n",
       "      <td></td>\n",
       "    </tr>\n",
       "    <tr>\n",
       "      <th>4</th>\n",
       "      <td>transmission</td>\n",
       "      <td>integer</td>\n",
       "      <td>Numerical Feature</td>\n",
       "      <td></td>\n",
       "    </tr>\n",
       "    <tr>\n",
       "      <th>5</th>\n",
       "      <td>owner</td>\n",
       "      <td>integer</td>\n",
       "      <td>Numerical Feature</td>\n",
       "      <td></td>\n",
       "    </tr>\n",
       "    <tr>\n",
       "      <th>6</th>\n",
       "      <td>engine</td>\n",
       "      <td>floating</td>\n",
       "      <td>Numerical Feature</td>\n",
       "      <td></td>\n",
       "    </tr>\n",
       "    <tr>\n",
       "      <th>7</th>\n",
       "      <td>max_power</td>\n",
       "      <td>floating</td>\n",
       "      <td>Numerical Feature</td>\n",
       "      <td></td>\n",
       "    </tr>\n",
       "  </tbody>\n",
       "</table>\n",
       "</div><h4><b>Dataset Content</b></h4><div>\n",
       "<style scoped>\n",
       "    .dataframe tbody tr th:only-of-type {\n",
       "        vertical-align: middle;\n",
       "    }\n",
       "\n",
       "    .dataframe tbody tr th {\n",
       "        vertical-align: top;\n",
       "    }\n",
       "\n",
       "    .dataframe thead th {\n",
       "        text-align: right;\n",
       "    }\n",
       "</style>\n",
       "<table border=\"1\" class=\"dataframe\">\n",
       "  <thead>\n",
       "    <tr style=\"text-align: right;\">\n",
       "      <th style=\"min-width: 15px;\"></th>\n",
       "      <th style=\"min-width: 15px;\">selling_price</th>\n",
       "      <th style=\"min-width: 15px;\">year</th>\n",
       "      <th style=\"min-width: 15px;\">km_driven</th>\n",
       "      <th style=\"min-width: 15px;\">fuel</th>\n",
       "      <th style=\"min-width: 15px;\">transmission</th>\n",
       "      <th style=\"min-width: 15px;\">owner</th>\n",
       "      <th style=\"min-width: 15px;\">engine</th>\n",
       "      <th style=\"min-width: 15px;\">max_power</th>\n",
       "    </tr>\n",
       "  </thead>\n",
       "  <tbody>\n",
       "    <tr>\n",
       "      <th>0</th>\n",
       "      <td>450000.0</td>\n",
       "      <td>2014.0</td>\n",
       "      <td>145500.0</td>\n",
       "      <td>1</td>\n",
       "      <td>2</td>\n",
       "      <td>0</td>\n",
       "      <td>1248.0</td>\n",
       "      <td>74.00</td>\n",
       "    </tr>\n",
       "    <tr>\n",
       "      <th>1</th>\n",
       "      <td>370000.0</td>\n",
       "      <td>2014.0</td>\n",
       "      <td>120000.0</td>\n",
       "      <td>1</td>\n",
       "      <td>2</td>\n",
       "      <td>1</td>\n",
       "      <td>1498.0</td>\n",
       "      <td>103.52</td>\n",
       "    </tr>\n",
       "    <tr>\n",
       "      <th>2</th>\n",
       "      <td>225000.0</td>\n",
       "      <td>2010.0</td>\n",
       "      <td>127000.0</td>\n",
       "      <td>1</td>\n",
       "      <td>2</td>\n",
       "      <td>0</td>\n",
       "      <td>1396.0</td>\n",
       "      <td>90.00</td>\n",
       "    </tr>\n",
       "    <tr>\n",
       "      <th>3</th>\n",
       "      <td>440000.0</td>\n",
       "      <td>2017.0</td>\n",
       "      <td>45000.0</td>\n",
       "      <td>2</td>\n",
       "      <td>2</td>\n",
       "      <td>0</td>\n",
       "      <td>1197.0</td>\n",
       "      <td>81.86</td>\n",
       "    </tr>\n",
       "    <tr>\n",
       "      <th>4</th>\n",
       "      <td>350000.0</td>\n",
       "      <td>2011.0</td>\n",
       "      <td>90000.0</td>\n",
       "      <td>1</td>\n",
       "      <td>2</td>\n",
       "      <td>0</td>\n",
       "      <td>1364.0</td>\n",
       "      <td>67.10</td>\n",
       "    </tr>\n",
       "    <tr>\n",
       "      <th>...</th>\n",
       "      <td>...</td>\n",
       "      <td>...</td>\n",
       "      <td>...</td>\n",
       "      <td>...</td>\n",
       "      <td>...</td>\n",
       "      <td>...</td>\n",
       "      <td>...</td>\n",
       "      <td>...</td>\n",
       "    </tr>\n",
       "    <tr>\n",
       "      <th>6470</th>\n",
       "      <td>475000.0</td>\n",
       "      <td>2014.0</td>\n",
       "      <td>80000.0</td>\n",
       "      <td>1</td>\n",
       "      <td>2</td>\n",
       "      <td>1</td>\n",
       "      <td>1396.0</td>\n",
       "      <td>88.73</td>\n",
       "    </tr>\n",
       "    <tr>\n",
       "      <th>6471</th>\n",
       "      <td>320000.0</td>\n",
       "      <td>2013.0</td>\n",
       "      <td>110000.0</td>\n",
       "      <td>2</td>\n",
       "      <td>2</td>\n",
       "      <td>0</td>\n",
       "      <td>1197.0</td>\n",
       "      <td>82.85</td>\n",
       "    </tr>\n",
       "    <tr>\n",
       "      <th>6472</th>\n",
       "      <td>382000.0</td>\n",
       "      <td>2009.0</td>\n",
       "      <td>120000.0</td>\n",
       "      <td>1</td>\n",
       "      <td>2</td>\n",
       "      <td>0</td>\n",
       "      <td>1248.0</td>\n",
       "      <td>73.90</td>\n",
       "    </tr>\n",
       "    <tr>\n",
       "      <th>6473</th>\n",
       "      <td>290000.0</td>\n",
       "      <td>2013.0</td>\n",
       "      <td>25000.0</td>\n",
       "      <td>1</td>\n",
       "      <td>2</td>\n",
       "      <td>0</td>\n",
       "      <td>1396.0</td>\n",
       "      <td>70.00</td>\n",
       "    </tr>\n",
       "    <tr>\n",
       "      <th>6474</th>\n",
       "      <td>290000.0</td>\n",
       "      <td>2013.0</td>\n",
       "      <td>25000.0</td>\n",
       "      <td>1</td>\n",
       "      <td>2</td>\n",
       "      <td>0</td>\n",
       "      <td>1396.0</td>\n",
       "      <td>70.00</td>\n",
       "    </tr>\n",
       "  </tbody>\n",
       "</table>\n",
       "</div>"
      ]
     },
     "metadata": {},
     "output_type": "display_data"
    }
   ],
   "source": [
    "from deepchecks.tabular import Dataset\n",
    "dataframeTest=Dataset(df=df,label='selling_price',cat_features=cat_features)\n",
    "dataframeTest"
   ]
  },
  {
   "cell_type": "code",
   "execution_count": 12,
   "metadata": {
    "pycharm": {
     "name": "#%%\n"
    }
   },
   "outputs": [
    {
     "data": {
      "text/html": [
       "\n",
       "    <style>\n",
       "        progress {\n",
       "            -webkit-appearance: none;\n",
       "            border: none;\n",
       "            border-radius: 3px;\n",
       "            width: 300px;\n",
       "            height: 20px;\n",
       "            vertical-align: middle;\n",
       "            margin-right: 10px;\n",
       "            background-color: aliceblue;\n",
       "        }\n",
       "        progress::-webkit-progress-bar {\n",
       "            border-radius: 3px;\n",
       "            background-color: aliceblue;\n",
       "        }\n",
       "        progress::-webkit-progress-value {\n",
       "            background-color: #9d60fb;\n",
       "        }\n",
       "        progress::-moz-progress-bar {\n",
       "            background-color: #9d60fb;\n",
       "        }\n",
       "    </style>\n",
       "    "
      ]
     },
     "metadata": {},
     "output_type": "display_data"
    },
    {
     "data": {
      "text/html": []
     },
     "metadata": {},
     "output_type": "display_data"
    }
   ],
   "source": [
    "suites.run(dataframeTest)"
   ]
  },
  {
   "cell_type": "code",
   "execution_count": 14,
   "metadata": {
    "pycharm": {
     "name": "#%%\n"
    }
   },
   "outputs": [
    {
     "data": {
      "text/html": [
       "<h4><b>Dataset Description</b></h4><div>\n",
       "<style scoped>\n",
       "    .dataframe tbody tr th:only-of-type {\n",
       "        vertical-align: middle;\n",
       "    }\n",
       "\n",
       "    .dataframe tbody tr th {\n",
       "        vertical-align: top;\n",
       "    }\n",
       "\n",
       "    .dataframe thead th {\n",
       "        text-align: right;\n",
       "    }\n",
       "</style>\n",
       "<table border=\"1\" class=\"dataframe\">\n",
       "  <thead>\n",
       "    <tr style=\"text-align: right;\">\n",
       "      <th style=\"min-width: 15px;\"></th>\n",
       "      <th style=\"min-width: 15px;\">Column</th>\n",
       "      <th style=\"min-width: 15px;\">DType</th>\n",
       "      <th style=\"min-width: 15px;\">Kind</th>\n",
       "      <th style=\"min-width: 15px;\">Additional Info</th>\n",
       "    </tr>\n",
       "  </thead>\n",
       "  <tbody>\n",
       "    <tr>\n",
       "      <th>0</th>\n",
       "      <td>selling_price</td>\n",
       "      <td>floating</td>\n",
       "      <td></td>\n",
       "      <td></td>\n",
       "    </tr>\n",
       "    <tr>\n",
       "      <th>1</th>\n",
       "      <td>year</td>\n",
       "      <td>floating</td>\n",
       "      <td>Numerical Feature</td>\n",
       "      <td></td>\n",
       "    </tr>\n",
       "    <tr>\n",
       "      <th>2</th>\n",
       "      <td>km_driven</td>\n",
       "      <td>floating</td>\n",
       "      <td>Numerical Feature</td>\n",
       "      <td></td>\n",
       "    </tr>\n",
       "    <tr>\n",
       "      <th>3</th>\n",
       "      <td>fuel</td>\n",
       "      <td>integer</td>\n",
       "      <td>Numerical Feature</td>\n",
       "      <td></td>\n",
       "    </tr>\n",
       "    <tr>\n",
       "      <th>4</th>\n",
       "      <td>transmission</td>\n",
       "      <td>integer</td>\n",
       "      <td>Numerical Feature</td>\n",
       "      <td></td>\n",
       "    </tr>\n",
       "    <tr>\n",
       "      <th>5</th>\n",
       "      <td>owner</td>\n",
       "      <td>integer</td>\n",
       "      <td>Numerical Feature</td>\n",
       "      <td></td>\n",
       "    </tr>\n",
       "    <tr>\n",
       "      <th>6</th>\n",
       "      <td>engine</td>\n",
       "      <td>floating</td>\n",
       "      <td>Numerical Feature</td>\n",
       "      <td></td>\n",
       "    </tr>\n",
       "    <tr>\n",
       "      <th>7</th>\n",
       "      <td>max_power</td>\n",
       "      <td>floating</td>\n",
       "      <td>Numerical Feature</td>\n",
       "      <td></td>\n",
       "    </tr>\n",
       "  </tbody>\n",
       "</table>\n",
       "</div><h4><b>Dataset Content</b></h4><div>\n",
       "<style scoped>\n",
       "    .dataframe tbody tr th:only-of-type {\n",
       "        vertical-align: middle;\n",
       "    }\n",
       "\n",
       "    .dataframe tbody tr th {\n",
       "        vertical-align: top;\n",
       "    }\n",
       "\n",
       "    .dataframe thead th {\n",
       "        text-align: right;\n",
       "    }\n",
       "</style>\n",
       "<table border=\"1\" class=\"dataframe\">\n",
       "  <thead>\n",
       "    <tr style=\"text-align: right;\">\n",
       "      <th style=\"min-width: 15px;\"></th>\n",
       "      <th style=\"min-width: 15px;\">selling_price</th>\n",
       "      <th style=\"min-width: 15px;\">year</th>\n",
       "      <th style=\"min-width: 15px;\">km_driven</th>\n",
       "      <th style=\"min-width: 15px;\">fuel</th>\n",
       "      <th style=\"min-width: 15px;\">transmission</th>\n",
       "      <th style=\"min-width: 15px;\">owner</th>\n",
       "      <th style=\"min-width: 15px;\">engine</th>\n",
       "      <th style=\"min-width: 15px;\">max_power</th>\n",
       "    </tr>\n",
       "  </thead>\n",
       "  <tbody>\n",
       "    <tr>\n",
       "      <th>0</th>\n",
       "      <td>450000.0</td>\n",
       "      <td>2014.0</td>\n",
       "      <td>145500.0</td>\n",
       "      <td>1</td>\n",
       "      <td>2</td>\n",
       "      <td>0</td>\n",
       "      <td>1248.0</td>\n",
       "      <td>74.00</td>\n",
       "    </tr>\n",
       "    <tr>\n",
       "      <th>1</th>\n",
       "      <td>370000.0</td>\n",
       "      <td>2014.0</td>\n",
       "      <td>120000.0</td>\n",
       "      <td>1</td>\n",
       "      <td>2</td>\n",
       "      <td>1</td>\n",
       "      <td>1498.0</td>\n",
       "      <td>103.52</td>\n",
       "    </tr>\n",
       "    <tr>\n",
       "      <th>2</th>\n",
       "      <td>225000.0</td>\n",
       "      <td>2010.0</td>\n",
       "      <td>127000.0</td>\n",
       "      <td>1</td>\n",
       "      <td>2</td>\n",
       "      <td>0</td>\n",
       "      <td>1396.0</td>\n",
       "      <td>90.00</td>\n",
       "    </tr>\n",
       "    <tr>\n",
       "      <th>3</th>\n",
       "      <td>440000.0</td>\n",
       "      <td>2017.0</td>\n",
       "      <td>45000.0</td>\n",
       "      <td>2</td>\n",
       "      <td>2</td>\n",
       "      <td>0</td>\n",
       "      <td>1197.0</td>\n",
       "      <td>81.86</td>\n",
       "    </tr>\n",
       "    <tr>\n",
       "      <th>4</th>\n",
       "      <td>350000.0</td>\n",
       "      <td>2011.0</td>\n",
       "      <td>90000.0</td>\n",
       "      <td>1</td>\n",
       "      <td>2</td>\n",
       "      <td>0</td>\n",
       "      <td>1364.0</td>\n",
       "      <td>67.10</td>\n",
       "    </tr>\n",
       "    <tr>\n",
       "      <th>...</th>\n",
       "      <td>...</td>\n",
       "      <td>...</td>\n",
       "      <td>...</td>\n",
       "      <td>...</td>\n",
       "      <td>...</td>\n",
       "      <td>...</td>\n",
       "      <td>...</td>\n",
       "      <td>...</td>\n",
       "    </tr>\n",
       "    <tr>\n",
       "      <th>6470</th>\n",
       "      <td>475000.0</td>\n",
       "      <td>2014.0</td>\n",
       "      <td>80000.0</td>\n",
       "      <td>1</td>\n",
       "      <td>2</td>\n",
       "      <td>1</td>\n",
       "      <td>1396.0</td>\n",
       "      <td>88.73</td>\n",
       "    </tr>\n",
       "    <tr>\n",
       "      <th>6471</th>\n",
       "      <td>320000.0</td>\n",
       "      <td>2013.0</td>\n",
       "      <td>110000.0</td>\n",
       "      <td>2</td>\n",
       "      <td>2</td>\n",
       "      <td>0</td>\n",
       "      <td>1197.0</td>\n",
       "      <td>82.85</td>\n",
       "    </tr>\n",
       "    <tr>\n",
       "      <th>6472</th>\n",
       "      <td>382000.0</td>\n",
       "      <td>2009.0</td>\n",
       "      <td>120000.0</td>\n",
       "      <td>1</td>\n",
       "      <td>2</td>\n",
       "      <td>0</td>\n",
       "      <td>1248.0</td>\n",
       "      <td>73.90</td>\n",
       "    </tr>\n",
       "    <tr>\n",
       "      <th>6473</th>\n",
       "      <td>290000.0</td>\n",
       "      <td>2013.0</td>\n",
       "      <td>25000.0</td>\n",
       "      <td>1</td>\n",
       "      <td>2</td>\n",
       "      <td>0</td>\n",
       "      <td>1396.0</td>\n",
       "      <td>70.00</td>\n",
       "    </tr>\n",
       "    <tr>\n",
       "      <th>6474</th>\n",
       "      <td>290000.0</td>\n",
       "      <td>2013.0</td>\n",
       "      <td>25000.0</td>\n",
       "      <td>1</td>\n",
       "      <td>2</td>\n",
       "      <td>0</td>\n",
       "      <td>1396.0</td>\n",
       "      <td>70.00</td>\n",
       "    </tr>\n",
       "  </tbody>\n",
       "</table>\n",
       "</div>"
      ]
     },
     "metadata": {},
     "output_type": "display_data"
    }
   ],
   "source": [
    "dfcopy=df.copy()\n",
    "dfcopy.drop(['year', 'km_driven', 'fuel','transmission','owner','engine','max_power'] , axis=1, inplace=True)\n",
    "#get categorical features\n",
    "cat_features= dfcopy.select_dtypes(include=['object']).columns.tolist()\n",
    "dataframeTest=Dataset(df=df,label='selling_price',cat_features=cat_features)\n",
    "dataframeTest"
   ]
  },
  {
   "cell_type": "code",
   "execution_count": 15,
   "metadata": {
    "pycharm": {
     "name": "#%% md\n"
    }
   },
   "outputs": [
    {
     "data": {
      "text/html": [
       "\n",
       "    <style>\n",
       "        progress {\n",
       "            -webkit-appearance: none;\n",
       "            border: none;\n",
       "            border-radius: 3px;\n",
       "            width: 300px;\n",
       "            height: 20px;\n",
       "            vertical-align: middle;\n",
       "            margin-right: 10px;\n",
       "            background-color: aliceblue;\n",
       "        }\n",
       "        progress::-webkit-progress-bar {\n",
       "            border-radius: 3px;\n",
       "            background-color: aliceblue;\n",
       "        }\n",
       "        progress::-webkit-progress-value {\n",
       "            background-color: #9d60fb;\n",
       "        }\n",
       "        progress::-moz-progress-bar {\n",
       "            background-color: #9d60fb;\n",
       "        }\n",
       "    </style>\n",
       "    "
      ]
     },
     "metadata": {},
     "output_type": "display_data"
    },
    {
     "data": {
      "text/html": []
     },
     "metadata": {},
     "output_type": "display_data"
    }
   ],
   "source": [
    "suites.run(dataframeTest)"
   ]
  },
  {
   "cell_type": "markdown",
   "metadata": {
    "pycharm": {
     "name": "#%% md\n"
    }
   },
   "source": [
    "## Individual Test"
   ]
  },
  {
   "cell_type": "code",
   "execution_count": 16,
   "metadata": {
    "pycharm": {
     "name": "#%%\n"
    }
   },
   "outputs": [
    {
     "name": "stderr",
     "output_type": "stream",
     "text": [
      "C:\\Users\\MSI\\anaconda3\\envs\\mlops\\lib\\site-packages\\deepchecks\\suites.py:21: DeprecationWarning:\n",
      "\n",
      "Ability to import tabular suites from the `deepchecks.suites` is deprecated, please import from `deepchecks.tabular.suites` instead\n",
      "\n"
     ]
    }
   ],
   "source": [
    "from deepchecks.suites import data_integrity"
   ]
  },
  {
   "cell_type": "code",
   "execution_count": 17,
   "metadata": {},
   "outputs": [
    {
     "data": {
      "text/plain": [
       "Data Integrity Suite: [\n",
       "\t0: IsSingleValue\n",
       "\t\tConditions:\n",
       "\t\t\t0: Does not contain only a single value\n",
       "\t1: SpecialCharacters\n",
       "\t\tConditions:\n",
       "\t\t\t0: Ratio of samples containing solely special character is less or equal to 0.1%\n",
       "\t2: MixedNulls\n",
       "\t\tConditions:\n",
       "\t\t\t0: Number of different null types is less or equal to 1\n",
       "\t3: MixedDataTypes\n",
       "\t\tConditions:\n",
       "\t\t\t0: Rare data types in column are either more than 10% or less than 1% of the data\n",
       "\t4: StringMismatch\n",
       "\t\tConditions:\n",
       "\t\t\t0: No string variants\n",
       "\t5: DataDuplicates\n",
       "\t\tConditions:\n",
       "\t\t\t0: Duplicate data ratio is less or equal to 5%\n",
       "\t6: StringLengthOutOfBounds\n",
       "\t\tConditions:\n",
       "\t\t\t0: Ratio of string length outliers is less or equal to 0%\n",
       "\t7: ConflictingLabels\n",
       "\t\tConditions:\n",
       "\t\t\t0: Ambiguous sample ratio is less or equal to 0%\n",
       "\t8: OutlierSampleDetection\n",
       "\t9: FeatureLabelCorrelation(ppscore_params={}, random_state=42)\n",
       "\t\tConditions:\n",
       "\t\t\t0: Features' Predictive Power Score is less than 0.8\n",
       "\t10: FeatureFeatureCorrelation\n",
       "\t\tConditions:\n",
       "\t\t\t0: Not more than 0 pairs are correlated above 0.9\n",
       "\t11: IdentifierLabelCorrelation(ppscore_params={})\n",
       "\t\tConditions:\n",
       "\t\t\t0: Identifier columns PPS is less or equal to 0\n",
       "]"
      ]
     },
     "execution_count": 17,
     "metadata": {},
     "output_type": "execute_result"
    }
   ],
   "source": [
    "integrity_test=data_integrity()\n",
    "integrity_test"
   ]
  },
  {
   "cell_type": "code",
   "execution_count": 18,
   "metadata": {
    "pycharm": {
     "name": "#%%\n"
    }
   },
   "outputs": [
    {
     "data": {
      "text/html": [
       "\n",
       "    <style>\n",
       "        progress {\n",
       "            -webkit-appearance: none;\n",
       "            border: none;\n",
       "            border-radius: 3px;\n",
       "            width: 300px;\n",
       "            height: 20px;\n",
       "            vertical-align: middle;\n",
       "            margin-right: 10px;\n",
       "            background-color: aliceblue;\n",
       "        }\n",
       "        progress::-webkit-progress-bar {\n",
       "            border-radius: 3px;\n",
       "            background-color: aliceblue;\n",
       "        }\n",
       "        progress::-webkit-progress-value {\n",
       "            background-color: #9d60fb;\n",
       "        }\n",
       "        progress::-moz-progress-bar {\n",
       "            background-color: #9d60fb;\n",
       "        }\n",
       "    </style>\n",
       "    "
      ]
     },
     "metadata": {},
     "output_type": "display_data"
    },
    {
     "data": {
      "text/html": []
     },
     "metadata": {},
     "output_type": "display_data"
    }
   ],
   "source": [
    "result_integrity_test=integrity_test.run(dataframeTest)\n",
    "result_integrity_test"
   ]
  },
  {
   "cell_type": "markdown",
   "metadata": {
    "pycharm": {
     "name": "#%% md\n"
    }
   },
   "source": [
    "## Saving result as html file"
   ]
  },
  {
   "cell_type": "code",
   "execution_count": 19,
   "metadata": {
    "pycharm": {
     "name": "#%%\n"
    }
   },
   "outputs": [],
   "source": [
    "htmlSave=result_integrity_test.save_as_html('result_integrity_test')"
   ]
  },
  {
   "cell_type": "markdown",
   "metadata": {
    "pycharm": {
     "name": "#%% md\n"
    }
   },
   "source": [
    "## Data Distribution tests"
   ]
  },
  {
   "cell_type": "code",
   "execution_count": 20,
   "metadata": {
    "pycharm": {
     "name": "#%%\n"
    }
   },
   "outputs": [],
   "source": [
    "from sklearn.model_selection import train_test_split\n",
    "df_train,df_test=train_test_split(dfcopy,test_size=0.2)"
   ]
  },
  {
   "cell_type": "code",
   "execution_count": 21,
   "metadata": {
    "pycharm": {
     "name": "#%%\n"
    }
   },
   "outputs": [
    {
     "name": "stdout",
     "output_type": "stream",
     "text": [
      "df_train:(5180, 1)\n",
      "df_test:(1295, 1)\n"
     ]
    }
   ],
   "source": [
    "print(f\"df_train:{df_train.shape}\")\n",
    "print(f\"df_test:{df_test.shape}\")"
   ]
  },
  {
   "cell_type": "code",
   "execution_count": 25,
   "metadata": {
    "pycharm": {
     "name": "#%%\n"
    }
   },
   "outputs": [
    {
     "data": {
      "text/html": [
       "\n",
       "    <style>\n",
       "        progress {\n",
       "            -webkit-appearance: none;\n",
       "            border: none;\n",
       "            border-radius: 3px;\n",
       "            width: 300px;\n",
       "            height: 20px;\n",
       "            vertical-align: middle;\n",
       "            margin-right: 10px;\n",
       "            background-color: aliceblue;\n",
       "        }\n",
       "        progress::-webkit-progress-bar {\n",
       "            border-radius: 3px;\n",
       "            background-color: aliceblue;\n",
       "        }\n",
       "        progress::-webkit-progress-value {\n",
       "            background-color: #9d60fb;\n",
       "        }\n",
       "        progress::-moz-progress-bar {\n",
       "            background-color: #9d60fb;\n",
       "        }\n",
       "    </style>\n",
       "    "
      ]
     },
     "metadata": {},
     "output_type": "display_data"
    },
    {
     "data": {
      "text/html": []
     },
     "metadata": {},
     "output_type": "display_data"
    }
   ],
   "source": [
    "#transformation\n",
    "ds_train=Dataset(df=df_train,cat_features=cat_features)\n",
    "ds_test=Dataset(df=df_test,cat_features=cat_features)\n",
    "data_distribution_test=suites.run(train_dataset=ds_train,test_dataset=ds_test)\n",
    "data_distribution_test"
   ]
  },
  {
   "cell_type": "code",
   "execution_count": 26,
   "metadata": {
    "pycharm": {
     "name": "#%%\n"
    }
   },
   "outputs": [],
   "source": [
    "dataIntegrityHtmlSaved=data_distribution_test.save_as_html('data_distribution_test')"
   ]
  },
  {
   "cell_type": "markdown",
   "metadata": {
    "pycharm": {
     "name": "#%% md\n"
    }
   },
   "source": [
    "## Model analysis and validation tests"
   ]
  },
  {
   "cell_type": "code",
   "execution_count": 37,
   "metadata": {
    "pycharm": {
     "name": "#%%\n"
    }
   },
   "outputs": [
    {
     "name": "stdout",
     "output_type": "stream",
     "text": [
      "Dimensions de l'ensemble d'entraînement : (5180, 7) (5180,)\n",
      "Dimensions de l'ensemble de test : (1295, 7) (1295,)\n"
     ]
    }
   ],
   "source": [
    "from sklearn.model_selection import train_test_split\n",
    "from sklearn.preprocessing import MinMaxScaler\n",
    "\n",
    "# Supposons que 'df' contient votre DataFrame avec les données pour la prédiction des prix de voitures\n",
    "\n",
    "# Sélection des caractéristiques numériques et cible\n",
    "num_features = ['year', 'km_driven', 'fuel','transmission','owner','engine','max_power']\n",
    "target = 'selling_price'  # Supposons que 'selling_price' soit votre colonne cible\n",
    "\n",
    "# Séparation des caractéristiques et de la cible\n",
    "X = df[num_features]\n",
    "y = df[target]\n",
    "\n",
    "# Normalisation des caractéristiques numériques\n",
    "scaler = MinMaxScaler()\n",
    "X_scaled = scaler.fit_transform(X)\n",
    "\n",
    "# Division des données en ensembles d'entraînement et de test\n",
    "X_train, X_test, y_train, y_test = train_test_split(X_scaled, y, test_size=0.2, random_state=42)\n",
    "\n",
    "# Vérification des dimensions des ensembles d'entraînement et de test\n",
    "print(\"Dimensions de l'ensemble d'entraînement :\", X_train.shape, y_train.shape)\n",
    "print(\"Dimensions de l'ensemble de test :\", X_test.shape, y_test.shape)"
   ]
  },
  {
   "cell_type": "code",
   "execution_count": 40,
   "metadata": {
    "pycharm": {
     "name": "#%%\n"
    }
   },
   "outputs": [
    {
     "name": "stdout",
     "output_type": "stream",
     "text": [
      "     year  selling_price  km_driven  fuel  owner  engine  max_power  \\\n",
      "0  2014.0       450000.0   145500.0     1      0  1248.0      74.00   \n",
      "1  2014.0       370000.0   120000.0     1      1  1498.0     103.52   \n",
      "2  2010.0       225000.0   127000.0     1      0  1396.0      90.00   \n",
      "3  2017.0       440000.0    45000.0     2      0  1197.0      81.86   \n",
      "4  2011.0       350000.0    90000.0     1      0  1364.0      67.10   \n",
      "\n",
      "   transmission_Automatic  transmission_Manual  \n",
      "0                       0                    1  \n",
      "1                       0                    1  \n",
      "2                       0                    1  \n",
      "3                       0                    1  \n",
      "4                       0                    1  \n"
     ]
    }
   ],
   "source": [
    "import pandas as pd\n",
    "\n",
    "# Supposons que votre DataFrame df contient vos données de prédiction de prix de voitures\n",
    "\n",
    "# Créer un dictionnaire d'encodage pour la colonne 'transmission'\n",
    "transmission_encode_dict = {1: 'Automatic', 2: 'Manual'}\n",
    "\n",
    "# Appliquer l'encodage pour la colonne 'transmission'\n",
    "df['transmission'] = df['transmission'].map(transmission_encode_dict)\n",
    "\n",
    "# Utiliser get_dummies pour créer des variables fictives pour la colonne 'transmission'\n",
    "df = pd.get_dummies(df, columns=['transmission'])\n",
    "\n",
    "# Afficher les premières lignes du DataFrame pour vérifier les modifications\n",
    "print(df.head())\n"
   ]
  },
  {
   "cell_type": "code",
   "execution_count": 44,
   "metadata": {
    "pycharm": {
     "name": "#%%\n"
    }
   },
   "outputs": [
    {
     "name": "stdout",
     "output_type": "stream",
     "text": [
      "Caractéristiques catégorielles : []\n",
      "Caractéristiques numériques : ['vehicle_year', 'kilometers_driven', 'fuel_type', 'ownership', 'engine_capacity', 'max_power_output']\n"
     ]
    }
   ],
   "source": [
    "from sklearn.preprocessing import MinMaxScaler\n",
    "from sklearn.model_selection import train_test_split\n",
    "import pandas as pd\n",
    "\n",
    "# Renommer les colonnes si nécessaire pour correspondre à votre ensemble de données\n",
    "df.rename(columns={\n",
    "    'year': 'vehicle_year',\n",
    "    'selling_price': 'price',\n",
    "    'km_driven': 'kilometers_driven',\n",
    "    'fuel': 'fuel_type',\n",
    "    'transmission': 'transmission_type',\n",
    "    'owner': 'ownership',\n",
    "    'engine': 'engine_capacity',\n",
    "    'max_power': 'max_power_output'\n",
    "}, inplace=True)\n",
    "\n",
    "# Copier le DataFrame pour éviter les modifications directes\n",
    "df_model = df.copy()\n",
    "\n",
    "# Sélectionner les caractéristiques catégorielles et numériques pertinentes\n",
    "cat_features = df_model.select_dtypes(include=['object']).columns.tolist()\n",
    "num_features = df_model.select_dtypes(include=['int64', 'float64']).columns.tolist()\n",
    "num_features.remove(\"price\")  # Retirer la colonne cible des caractéristiques numériques\n",
    "\n",
    "# Afficher les caractéristiques catégorielles et numériques identifiées\n",
    "print(\"Caractéristiques catégorielles :\", cat_features)\n",
    "print(\"Caractéristiques numériques :\", num_features)\n"
   ]
  },
  {
   "cell_type": "code",
   "execution_count": 48,
   "metadata": {},
   "outputs": [
    {
     "name": "stdout",
     "output_type": "stream",
     "text": [
      "Index(['vehicle_year', 'price', 'kilometers_driven', 'fuel_type', 'ownership',\n",
      "       'engine_capacity', 'max_power_output', 'transmission_Automatic',\n",
      "       'transmission_Manual'],\n",
      "      dtype='object')\n"
     ]
    }
   ],
   "source": [
    "print(df.columns)"
   ]
  },
  {
   "cell_type": "code",
   "execution_count": 60,
   "metadata": {
    "pycharm": {
     "name": "#%%\n"
    }
   },
   "outputs": [
    {
     "name": "stdout",
     "output_type": "stream",
     "text": [
      "Accuracy on test set: 0.8906123338204378\n"
     ]
    }
   ],
   "source": [
    "from imblearn.over_sampling import SMOTE\n",
    "from sklearn.model_selection import train_test_split\n",
    "from sklearn.preprocessing import MinMaxScaler\n",
    "from sklearn.linear_model import LinearRegression\n",
    "from sklearn.ensemble import GradientBoostingRegressor\n",
    "import pandas as pd\n",
    "\n",
    "# Supposons que 'df' contient vos données avec les caractéristiques numériques spécifiées\n",
    "\n",
    "# Caractéristiques numériques spécifiques\n",
    "num_features = ['vehicle_year', 'kilometers_driven', 'fuel_type', 'ownership', 'engine_capacity', 'max_power_output', 'transmission_Automatic','transmission_Manual']\n",
    "\n",
    "# Sélection des caractéristiques numériques et de la colonne cible 'selling_price'\n",
    "X = df[num_features]  # Caractéristiques\n",
    "y = df['price']  # Cible\n",
    "\n",
    "scaler = MinMaxScaler()\n",
    "X_scaled = scaler.fit_transform(X)\n",
    "\n",
    "# Division des données en ensembles d'entraînement et de test\n",
    "X_train, X_test, y_train, y_test = train_test_split(X_scaled, y, test_size=0.2)\n",
    "\n",
    "\n",
    "# Entraînement du modèle de régression logistique sur les données équilibrées\n",
    "model = GradientBoostingRegressor(learning_rate=0.1, n_estimators=500, random_state=0)\n",
    "model.fit(X_train, y_train)\n",
    "\n",
    "# Évaluation du modèle sur l'ensemble de test\n",
    "accuracy = model.score(X_test, y_test)\n",
    "print(f\"Accuracy on test set: {accuracy}\")\n"
   ]
  },
  {
   "cell_type": "code",
   "execution_count": 77,
   "metadata": {},
   "outputs": [
    {
     "data": {
      "text/html": [
       "<div>\n",
       "<style scoped>\n",
       "    .dataframe tbody tr th:only-of-type {\n",
       "        vertical-align: middle;\n",
       "    }\n",
       "\n",
       "    .dataframe tbody tr th {\n",
       "        vertical-align: top;\n",
       "    }\n",
       "\n",
       "    .dataframe thead th {\n",
       "        text-align: right;\n",
       "    }\n",
       "</style>\n",
       "<table border=\"1\" class=\"dataframe\">\n",
       "  <thead>\n",
       "    <tr style=\"text-align: right;\">\n",
       "      <th></th>\n",
       "      <th>vehicle_year</th>\n",
       "      <th>price</th>\n",
       "      <th>kilometers_driven</th>\n",
       "      <th>fuel_type</th>\n",
       "      <th>ownership</th>\n",
       "      <th>engine_capacity</th>\n",
       "      <th>max_power_output</th>\n",
       "      <th>transmission_Automatic</th>\n",
       "      <th>transmission_Manual</th>\n",
       "    </tr>\n",
       "  </thead>\n",
       "  <tbody>\n",
       "    <tr>\n",
       "      <th>0</th>\n",
       "      <td>2014.0</td>\n",
       "      <td>450000.0</td>\n",
       "      <td>145500.0</td>\n",
       "      <td>1</td>\n",
       "      <td>0</td>\n",
       "      <td>1248.0</td>\n",
       "      <td>74.00</td>\n",
       "      <td>0</td>\n",
       "      <td>1</td>\n",
       "    </tr>\n",
       "    <tr>\n",
       "      <th>1</th>\n",
       "      <td>2014.0</td>\n",
       "      <td>370000.0</td>\n",
       "      <td>120000.0</td>\n",
       "      <td>1</td>\n",
       "      <td>1</td>\n",
       "      <td>1498.0</td>\n",
       "      <td>103.52</td>\n",
       "      <td>0</td>\n",
       "      <td>1</td>\n",
       "    </tr>\n",
       "    <tr>\n",
       "      <th>2</th>\n",
       "      <td>2010.0</td>\n",
       "      <td>225000.0</td>\n",
       "      <td>127000.0</td>\n",
       "      <td>1</td>\n",
       "      <td>0</td>\n",
       "      <td>1396.0</td>\n",
       "      <td>90.00</td>\n",
       "      <td>0</td>\n",
       "      <td>1</td>\n",
       "    </tr>\n",
       "    <tr>\n",
       "      <th>3</th>\n",
       "      <td>2017.0</td>\n",
       "      <td>440000.0</td>\n",
       "      <td>45000.0</td>\n",
       "      <td>2</td>\n",
       "      <td>0</td>\n",
       "      <td>1197.0</td>\n",
       "      <td>81.86</td>\n",
       "      <td>0</td>\n",
       "      <td>1</td>\n",
       "    </tr>\n",
       "    <tr>\n",
       "      <th>4</th>\n",
       "      <td>2011.0</td>\n",
       "      <td>350000.0</td>\n",
       "      <td>90000.0</td>\n",
       "      <td>1</td>\n",
       "      <td>0</td>\n",
       "      <td>1364.0</td>\n",
       "      <td>67.10</td>\n",
       "      <td>0</td>\n",
       "      <td>1</td>\n",
       "    </tr>\n",
       "    <tr>\n",
       "      <th>...</th>\n",
       "      <td>...</td>\n",
       "      <td>...</td>\n",
       "      <td>...</td>\n",
       "      <td>...</td>\n",
       "      <td>...</td>\n",
       "      <td>...</td>\n",
       "      <td>...</td>\n",
       "      <td>...</td>\n",
       "      <td>...</td>\n",
       "    </tr>\n",
       "    <tr>\n",
       "      <th>6470</th>\n",
       "      <td>2014.0</td>\n",
       "      <td>475000.0</td>\n",
       "      <td>80000.0</td>\n",
       "      <td>1</td>\n",
       "      <td>1</td>\n",
       "      <td>1396.0</td>\n",
       "      <td>88.73</td>\n",
       "      <td>0</td>\n",
       "      <td>1</td>\n",
       "    </tr>\n",
       "    <tr>\n",
       "      <th>6471</th>\n",
       "      <td>2013.0</td>\n",
       "      <td>320000.0</td>\n",
       "      <td>110000.0</td>\n",
       "      <td>2</td>\n",
       "      <td>0</td>\n",
       "      <td>1197.0</td>\n",
       "      <td>82.85</td>\n",
       "      <td>0</td>\n",
       "      <td>1</td>\n",
       "    </tr>\n",
       "    <tr>\n",
       "      <th>6472</th>\n",
       "      <td>2009.0</td>\n",
       "      <td>382000.0</td>\n",
       "      <td>120000.0</td>\n",
       "      <td>1</td>\n",
       "      <td>0</td>\n",
       "      <td>1248.0</td>\n",
       "      <td>73.90</td>\n",
       "      <td>0</td>\n",
       "      <td>1</td>\n",
       "    </tr>\n",
       "    <tr>\n",
       "      <th>6473</th>\n",
       "      <td>2013.0</td>\n",
       "      <td>290000.0</td>\n",
       "      <td>25000.0</td>\n",
       "      <td>1</td>\n",
       "      <td>0</td>\n",
       "      <td>1396.0</td>\n",
       "      <td>70.00</td>\n",
       "      <td>0</td>\n",
       "      <td>1</td>\n",
       "    </tr>\n",
       "    <tr>\n",
       "      <th>6474</th>\n",
       "      <td>2013.0</td>\n",
       "      <td>290000.0</td>\n",
       "      <td>25000.0</td>\n",
       "      <td>1</td>\n",
       "      <td>0</td>\n",
       "      <td>1396.0</td>\n",
       "      <td>70.00</td>\n",
       "      <td>0</td>\n",
       "      <td>1</td>\n",
       "    </tr>\n",
       "  </tbody>\n",
       "</table>\n",
       "<p>6475 rows × 9 columns</p>\n",
       "</div>"
      ],
      "text/plain": [
       "      vehicle_year     price  kilometers_driven  fuel_type  ownership  \\\n",
       "0           2014.0  450000.0           145500.0          1          0   \n",
       "1           2014.0  370000.0           120000.0          1          1   \n",
       "2           2010.0  225000.0           127000.0          1          0   \n",
       "3           2017.0  440000.0            45000.0          2          0   \n",
       "4           2011.0  350000.0            90000.0          1          0   \n",
       "...            ...       ...                ...        ...        ...   \n",
       "6470        2014.0  475000.0            80000.0          1          1   \n",
       "6471        2013.0  320000.0           110000.0          2          0   \n",
       "6472        2009.0  382000.0           120000.0          1          0   \n",
       "6473        2013.0  290000.0            25000.0          1          0   \n",
       "6474        2013.0  290000.0            25000.0          1          0   \n",
       "\n",
       "      engine_capacity  max_power_output  transmission_Automatic  \\\n",
       "0              1248.0             74.00                       0   \n",
       "1              1498.0            103.52                       0   \n",
       "2              1396.0             90.00                       0   \n",
       "3              1197.0             81.86                       0   \n",
       "4              1364.0             67.10                       0   \n",
       "...               ...               ...                     ...   \n",
       "6470           1396.0             88.73                       0   \n",
       "6471           1197.0             82.85                       0   \n",
       "6472           1248.0             73.90                       0   \n",
       "6473           1396.0             70.00                       0   \n",
       "6474           1396.0             70.00                       0   \n",
       "\n",
       "      transmission_Manual  \n",
       "0                       1  \n",
       "1                       1  \n",
       "2                       1  \n",
       "3                       1  \n",
       "4                       1  \n",
       "...                   ...  \n",
       "6470                    1  \n",
       "6471                    1  \n",
       "6472                    1  \n",
       "6473                    1  \n",
       "6474                    1  \n",
       "\n",
       "[6475 rows x 9 columns]"
      ]
     },
     "execution_count": 77,
     "metadata": {},
     "output_type": "execute_result"
    }
   ],
   "source": [
    "df"
   ]
  },
  {
   "cell_type": "code",
   "execution_count": 82,
   "metadata": {
    "pycharm": {
     "name": "#%%\n"
    }
   },
   "outputs": [],
   "source": [
    "df_train,df_test=train_test_split(df,test_size=0.2)\n",
    "df_train_model=Dataset(df=df_train,label='price',cat_features=['transmission_Automatic', 'transmission_Manual'])\n",
    "df_test_model=Dataset(df=df_test,label='price',cat_features=['transmission_Automatic', 'transmission_Manual'])"
   ]
  },
  {
   "cell_type": "code",
   "execution_count": 83,
   "metadata": {
    "pycharm": {
     "name": "#%%\n"
    }
   },
   "outputs": [
    {
     "name": "stderr",
     "output_type": "stream",
     "text": [
      "C:\\Users\\MSI\\anaconda3\\envs\\mlops\\lib\\site-packages\\sklearn\\base.py:457: UserWarning:\n",
      "\n",
      "X has feature names, but GradientBoostingRegressor was fitted without feature names\n",
      "\n",
      "C:\\Users\\MSI\\anaconda3\\envs\\mlops\\lib\\site-packages\\sklearn\\base.py:457: UserWarning:\n",
      "\n",
      "X has feature names, but GradientBoostingRegressor was fitted without feature names\n",
      "\n"
     ]
    },
    {
     "data": {
      "text/html": [
       "\n",
       "    <style>\n",
       "        progress {\n",
       "            -webkit-appearance: none;\n",
       "            border: none;\n",
       "            border-radius: 3px;\n",
       "            width: 300px;\n",
       "            height: 20px;\n",
       "            vertical-align: middle;\n",
       "            margin-right: 10px;\n",
       "            background-color: aliceblue;\n",
       "        }\n",
       "        progress::-webkit-progress-bar {\n",
       "            border-radius: 3px;\n",
       "            background-color: aliceblue;\n",
       "        }\n",
       "        progress::-webkit-progress-value {\n",
       "            background-color: #9d60fb;\n",
       "        }\n",
       "        progress::-moz-progress-bar {\n",
       "            background-color: #9d60fb;\n",
       "        }\n",
       "    </style>\n",
       "    "
      ]
     },
     "metadata": {},
     "output_type": "display_data"
    },
    {
     "data": {
      "text/html": []
     },
     "metadata": {},
     "output_type": "display_data"
    },
    {
     "name": "stderr",
     "output_type": "stream",
     "text": [
      "C:\\Users\\MSI\\anaconda3\\envs\\mlops\\lib\\site-packages\\sklearn\\base.py:457: UserWarning:\n",
      "\n",
      "X has feature names, but GradientBoostingRegressor was fitted without feature names\n",
      "\n",
      "C:\\Users\\MSI\\anaconda3\\envs\\mlops\\lib\\site-packages\\sklearn\\base.py:457: UserWarning:\n",
      "\n",
      "X has feature names, but GradientBoostingRegressor was fitted without feature names\n",
      "\n",
      "C:\\Users\\MSI\\anaconda3\\envs\\mlops\\lib\\site-packages\\sklearn\\base.py:457: UserWarning:\n",
      "\n",
      "X has feature names, but GradientBoostingRegressor was fitted without feature names\n",
      "\n",
      "C:\\Users\\MSI\\anaconda3\\envs\\mlops\\lib\\site-packages\\sklearn\\base.py:457: UserWarning:\n",
      "\n",
      "X has feature names, but GradientBoostingRegressor was fitted without feature names\n",
      "\n",
      "C:\\Users\\MSI\\anaconda3\\envs\\mlops\\lib\\site-packages\\sklearn\\base.py:457: UserWarning:\n",
      "\n",
      "X has feature names, but GradientBoostingRegressor was fitted without feature names\n",
      "\n",
      "C:\\Users\\MSI\\anaconda3\\envs\\mlops\\lib\\site-packages\\sklearn\\base.py:457: UserWarning:\n",
      "\n",
      "X has feature names, but GradientBoostingRegressor was fitted without feature names\n",
      "\n",
      "C:\\Users\\MSI\\anaconda3\\envs\\mlops\\lib\\site-packages\\sklearn\\base.py:457: UserWarning:\n",
      "\n",
      "X has feature names, but GradientBoostingRegressor was fitted without feature names\n",
      "\n",
      "C:\\Users\\MSI\\anaconda3\\envs\\mlops\\lib\\site-packages\\sklearn\\base.py:457: UserWarning:\n",
      "\n",
      "X has feature names, but GradientBoostingRegressor was fitted without feature names\n",
      "\n",
      "C:\\Users\\MSI\\anaconda3\\envs\\mlops\\lib\\site-packages\\sklearn\\base.py:457: UserWarning:\n",
      "\n",
      "X has feature names, but GradientBoostingRegressor was fitted without feature names\n",
      "\n",
      "C:\\Users\\MSI\\anaconda3\\envs\\mlops\\lib\\site-packages\\sklearn\\base.py:457: UserWarning:\n",
      "\n",
      "X has feature names, but GradientBoostingRegressor was fitted without feature names\n",
      "\n",
      "C:\\Users\\MSI\\anaconda3\\envs\\mlops\\lib\\site-packages\\sklearn\\base.py:457: UserWarning:\n",
      "\n",
      "X has feature names, but GradientBoostingRegressor was fitted without feature names\n",
      "\n",
      "C:\\Users\\MSI\\anaconda3\\envs\\mlops\\lib\\site-packages\\sklearn\\base.py:457: UserWarning:\n",
      "\n",
      "X has feature names, but GradientBoostingRegressor was fitted without feature names\n",
      "\n",
      "C:\\Users\\MSI\\anaconda3\\envs\\mlops\\lib\\site-packages\\sklearn\\base.py:457: UserWarning:\n",
      "\n",
      "X has feature names, but GradientBoostingRegressor was fitted without feature names\n",
      "\n",
      "C:\\Users\\MSI\\anaconda3\\envs\\mlops\\lib\\site-packages\\sklearn\\base.py:457: UserWarning:\n",
      "\n",
      "X has feature names, but GradientBoostingRegressor was fitted without feature names\n",
      "\n",
      "C:\\Users\\MSI\\anaconda3\\envs\\mlops\\lib\\site-packages\\sklearn\\base.py:457: UserWarning:\n",
      "\n",
      "X has feature names, but GradientBoostingRegressor was fitted without feature names\n",
      "\n",
      "C:\\Users\\MSI\\anaconda3\\envs\\mlops\\lib\\site-packages\\sklearn\\base.py:457: UserWarning:\n",
      "\n",
      "X has feature names, but GradientBoostingRegressor was fitted without feature names\n",
      "\n",
      "C:\\Users\\MSI\\anaconda3\\envs\\mlops\\lib\\site-packages\\sklearn\\base.py:457: UserWarning:\n",
      "\n",
      "X has feature names, but GradientBoostingRegressor was fitted without feature names\n",
      "\n",
      "C:\\Users\\MSI\\anaconda3\\envs\\mlops\\lib\\site-packages\\sklearn\\base.py:457: UserWarning:\n",
      "\n",
      "X has feature names, but GradientBoostingRegressor was fitted without feature names\n",
      "\n",
      "C:\\Users\\MSI\\anaconda3\\envs\\mlops\\lib\\site-packages\\sklearn\\base.py:457: UserWarning:\n",
      "\n",
      "X has feature names, but GradientBoostingRegressor was fitted without feature names\n",
      "\n",
      "C:\\Users\\MSI\\anaconda3\\envs\\mlops\\lib\\site-packages\\sklearn\\base.py:457: UserWarning:\n",
      "\n",
      "X has feature names, but GradientBoostingRegressor was fitted without feature names\n",
      "\n",
      "C:\\Users\\MSI\\anaconda3\\envs\\mlops\\lib\\site-packages\\sklearn\\base.py:457: UserWarning:\n",
      "\n",
      "X has feature names, but GradientBoostingRegressor was fitted without feature names\n",
      "\n",
      "C:\\Users\\MSI\\anaconda3\\envs\\mlops\\lib\\site-packages\\sklearn\\base.py:457: UserWarning:\n",
      "\n",
      "X has feature names, but GradientBoostingRegressor was fitted without feature names\n",
      "\n",
      "C:\\Users\\MSI\\anaconda3\\envs\\mlops\\lib\\site-packages\\sklearn\\base.py:457: UserWarning:\n",
      "\n",
      "X has feature names, but GradientBoostingRegressor was fitted without feature names\n",
      "\n",
      "C:\\Users\\MSI\\anaconda3\\envs\\mlops\\lib\\site-packages\\sklearn\\base.py:457: UserWarning:\n",
      "\n",
      "X has feature names, but GradientBoostingRegressor was fitted without feature names\n",
      "\n",
      "C:\\Users\\MSI\\anaconda3\\envs\\mlops\\lib\\site-packages\\sklearn\\base.py:457: UserWarning:\n",
      "\n",
      "X has feature names, but GradientBoostingRegressor was fitted without feature names\n",
      "\n",
      "C:\\Users\\MSI\\anaconda3\\envs\\mlops\\lib\\site-packages\\sklearn\\base.py:457: UserWarning:\n",
      "\n",
      "X has feature names, but GradientBoostingRegressor was fitted without feature names\n",
      "\n",
      "C:\\Users\\MSI\\anaconda3\\envs\\mlops\\lib\\site-packages\\sklearn\\base.py:457: UserWarning:\n",
      "\n",
      "X has feature names, but GradientBoostingRegressor was fitted without feature names\n",
      "\n",
      "C:\\Users\\MSI\\anaconda3\\envs\\mlops\\lib\\site-packages\\sklearn\\base.py:457: UserWarning:\n",
      "\n",
      "X has feature names, but GradientBoostingRegressor was fitted without feature names\n",
      "\n",
      "C:\\Users\\MSI\\anaconda3\\envs\\mlops\\lib\\site-packages\\sklearn\\base.py:457: UserWarning:\n",
      "\n",
      "X has feature names, but GradientBoostingRegressor was fitted without feature names\n",
      "\n",
      "C:\\Users\\MSI\\anaconda3\\envs\\mlops\\lib\\site-packages\\sklearn\\base.py:457: UserWarning:\n",
      "\n",
      "X has feature names, but GradientBoostingRegressor was fitted without feature names\n",
      "\n",
      "C:\\Users\\MSI\\anaconda3\\envs\\mlops\\lib\\site-packages\\sklearn\\base.py:457: UserWarning:\n",
      "\n",
      "X has feature names, but GradientBoostingRegressor was fitted without feature names\n",
      "\n",
      "C:\\Users\\MSI\\anaconda3\\envs\\mlops\\lib\\site-packages\\sklearn\\base.py:457: UserWarning:\n",
      "\n",
      "X has feature names, but GradientBoostingRegressor was fitted without feature names\n",
      "\n",
      "C:\\Users\\MSI\\anaconda3\\envs\\mlops\\lib\\site-packages\\sklearn\\base.py:457: UserWarning:\n",
      "\n",
      "X has feature names, but GradientBoostingRegressor was fitted without feature names\n",
      "\n",
      "C:\\Users\\MSI\\anaconda3\\envs\\mlops\\lib\\site-packages\\sklearn\\base.py:457: UserWarning:\n",
      "\n",
      "X has feature names, but GradientBoostingRegressor was fitted without feature names\n",
      "\n",
      "C:\\Users\\MSI\\anaconda3\\envs\\mlops\\lib\\site-packages\\sklearn\\base.py:457: UserWarning:\n",
      "\n",
      "X has feature names, but GradientBoostingRegressor was fitted without feature names\n",
      "\n",
      "C:\\Users\\MSI\\anaconda3\\envs\\mlops\\lib\\site-packages\\sklearn\\base.py:457: UserWarning:\n",
      "\n",
      "X has feature names, but GradientBoostingRegressor was fitted without feature names\n",
      "\n",
      "C:\\Users\\MSI\\anaconda3\\envs\\mlops\\lib\\site-packages\\sklearn\\base.py:457: UserWarning:\n",
      "\n",
      "X has feature names, but GradientBoostingRegressor was fitted without feature names\n",
      "\n",
      "C:\\Users\\MSI\\anaconda3\\envs\\mlops\\lib\\site-packages\\sklearn\\base.py:457: UserWarning:\n",
      "\n",
      "X has feature names, but GradientBoostingRegressor was fitted without feature names\n",
      "\n",
      "C:\\Users\\MSI\\anaconda3\\envs\\mlops\\lib\\site-packages\\sklearn\\base.py:457: UserWarning:\n",
      "\n",
      "X has feature names, but GradientBoostingRegressor was fitted without feature names\n",
      "\n",
      "C:\\Users\\MSI\\anaconda3\\envs\\mlops\\lib\\site-packages\\sklearn\\base.py:457: UserWarning:\n",
      "\n",
      "X has feature names, but GradientBoostingRegressor was fitted without feature names\n",
      "\n",
      "C:\\Users\\MSI\\anaconda3\\envs\\mlops\\lib\\site-packages\\sklearn\\base.py:457: UserWarning:\n",
      "\n",
      "X has feature names, but GradientBoostingRegressor was fitted without feature names\n",
      "\n",
      "C:\\Users\\MSI\\anaconda3\\envs\\mlops\\lib\\site-packages\\sklearn\\base.py:457: UserWarning:\n",
      "\n",
      "X has feature names, but GradientBoostingRegressor was fitted without feature names\n",
      "\n",
      "C:\\Users\\MSI\\anaconda3\\envs\\mlops\\lib\\site-packages\\sklearn\\base.py:457: UserWarning:\n",
      "\n",
      "X has feature names, but GradientBoostingRegressor was fitted without feature names\n",
      "\n",
      "C:\\Users\\MSI\\anaconda3\\envs\\mlops\\lib\\site-packages\\sklearn\\base.py:457: UserWarning:\n",
      "\n",
      "X has feature names, but GradientBoostingRegressor was fitted without feature names\n",
      "\n",
      "C:\\Users\\MSI\\anaconda3\\envs\\mlops\\lib\\site-packages\\sklearn\\base.py:457: UserWarning:\n",
      "\n",
      "X has feature names, but GradientBoostingRegressor was fitted without feature names\n",
      "\n",
      "C:\\Users\\MSI\\anaconda3\\envs\\mlops\\lib\\site-packages\\sklearn\\base.py:457: UserWarning:\n",
      "\n",
      "X has feature names, but GradientBoostingRegressor was fitted without feature names\n",
      "\n",
      "C:\\Users\\MSI\\anaconda3\\envs\\mlops\\lib\\site-packages\\sklearn\\base.py:457: UserWarning:\n",
      "\n",
      "X has feature names, but GradientBoostingRegressor was fitted without feature names\n",
      "\n",
      "C:\\Users\\MSI\\anaconda3\\envs\\mlops\\lib\\site-packages\\sklearn\\base.py:457: UserWarning:\n",
      "\n",
      "X has feature names, but GradientBoostingRegressor was fitted without feature names\n",
      "\n",
      "C:\\Users\\MSI\\anaconda3\\envs\\mlops\\lib\\site-packages\\sklearn\\base.py:457: UserWarning:\n",
      "\n",
      "X has feature names, but GradientBoostingRegressor was fitted without feature names\n",
      "\n"
     ]
    },
    {
     "name": "stderr",
     "output_type": "stream",
     "text": [
      "C:\\Users\\MSI\\anaconda3\\envs\\mlops\\lib\\site-packages\\sklearn\\base.py:457: UserWarning:\n",
      "\n",
      "X has feature names, but GradientBoostingRegressor was fitted without feature names\n",
      "\n",
      "C:\\Users\\MSI\\anaconda3\\envs\\mlops\\lib\\site-packages\\sklearn\\base.py:457: UserWarning:\n",
      "\n",
      "X has feature names, but GradientBoostingRegressor was fitted without feature names\n",
      "\n",
      "C:\\Users\\MSI\\anaconda3\\envs\\mlops\\lib\\site-packages\\sklearn\\base.py:457: UserWarning:\n",
      "\n",
      "X has feature names, but GradientBoostingRegressor was fitted without feature names\n",
      "\n",
      "C:\\Users\\MSI\\anaconda3\\envs\\mlops\\lib\\site-packages\\sklearn\\base.py:457: UserWarning:\n",
      "\n",
      "X has feature names, but GradientBoostingRegressor was fitted without feature names\n",
      "\n",
      "C:\\Users\\MSI\\anaconda3\\envs\\mlops\\lib\\site-packages\\sklearn\\base.py:457: UserWarning:\n",
      "\n",
      "X has feature names, but GradientBoostingRegressor was fitted without feature names\n",
      "\n",
      "C:\\Users\\MSI\\anaconda3\\envs\\mlops\\lib\\site-packages\\sklearn\\base.py:457: UserWarning:\n",
      "\n",
      "X has feature names, but GradientBoostingRegressor was fitted without feature names\n",
      "\n",
      "C:\\Users\\MSI\\anaconda3\\envs\\mlops\\lib\\site-packages\\sklearn\\base.py:457: UserWarning:\n",
      "\n",
      "X has feature names, but GradientBoostingRegressor was fitted without feature names\n",
      "\n",
      "C:\\Users\\MSI\\anaconda3\\envs\\mlops\\lib\\site-packages\\sklearn\\base.py:457: UserWarning:\n",
      "\n",
      "X has feature names, but GradientBoostingRegressor was fitted without feature names\n",
      "\n",
      "C:\\Users\\MSI\\anaconda3\\envs\\mlops\\lib\\site-packages\\sklearn\\base.py:457: UserWarning:\n",
      "\n",
      "X has feature names, but GradientBoostingRegressor was fitted without feature names\n",
      "\n",
      "C:\\Users\\MSI\\anaconda3\\envs\\mlops\\lib\\site-packages\\sklearn\\base.py:457: UserWarning:\n",
      "\n",
      "X has feature names, but GradientBoostingRegressor was fitted without feature names\n",
      "\n",
      "C:\\Users\\MSI\\anaconda3\\envs\\mlops\\lib\\site-packages\\sklearn\\base.py:457: UserWarning:\n",
      "\n",
      "X has feature names, but GradientBoostingRegressor was fitted without feature names\n",
      "\n",
      "C:\\Users\\MSI\\anaconda3\\envs\\mlops\\lib\\site-packages\\sklearn\\base.py:457: UserWarning:\n",
      "\n",
      "X has feature names, but GradientBoostingRegressor was fitted without feature names\n",
      "\n",
      "C:\\Users\\MSI\\anaconda3\\envs\\mlops\\lib\\site-packages\\sklearn\\base.py:457: UserWarning:\n",
      "\n",
      "X has feature names, but GradientBoostingRegressor was fitted without feature names\n",
      "\n",
      "C:\\Users\\MSI\\anaconda3\\envs\\mlops\\lib\\site-packages\\sklearn\\base.py:457: UserWarning:\n",
      "\n",
      "X has feature names, but GradientBoostingRegressor was fitted without feature names\n",
      "\n",
      "C:\\Users\\MSI\\anaconda3\\envs\\mlops\\lib\\site-packages\\sklearn\\base.py:457: UserWarning:\n",
      "\n",
      "X has feature names, but GradientBoostingRegressor was fitted without feature names\n",
      "\n"
     ]
    }
   ],
   "source": [
    "result_model_test=suites.run(train_dataset=df_train_model,test_dataset=df_test_model,model=model)"
   ]
  },
  {
   "cell_type": "code",
   "execution_count": 84,
   "metadata": {
    "pycharm": {
     "name": "#%%\n"
    }
   },
   "outputs": [
    {
     "ename": "IndexError",
     "evalue": "list assignment index out of range",
     "output_type": "error",
     "traceback": [
      "\u001b[1;31m---------------------------------------------------------------------------\u001b[0m",
      "\u001b[1;31mIndexError\u001b[0m                                Traceback (most recent call last)",
      "File \u001b[1;32m~\\anaconda3\\envs\\mlops\\lib\\site-packages\\IPython\\core\\formatters.py:922\u001b[0m, in \u001b[0;36mIPythonDisplayFormatter.__call__\u001b[1;34m(self, obj)\u001b[0m\n\u001b[0;32m    920\u001b[0m method \u001b[38;5;241m=\u001b[39m get_real_method(obj, \u001b[38;5;28mself\u001b[39m\u001b[38;5;241m.\u001b[39mprint_method)\n\u001b[0;32m    921\u001b[0m \u001b[38;5;28;01mif\u001b[39;00m method \u001b[38;5;129;01mis\u001b[39;00m \u001b[38;5;129;01mnot\u001b[39;00m \u001b[38;5;28;01mNone\u001b[39;00m:\n\u001b[1;32m--> 922\u001b[0m     \u001b[43mmethod\u001b[49m\u001b[43m(\u001b[49m\u001b[43m)\u001b[49m\n\u001b[0;32m    923\u001b[0m     \u001b[38;5;28;01mreturn\u001b[39;00m \u001b[38;5;28;01mTrue\u001b[39;00m\n",
      "File \u001b[1;32m~\\anaconda3\\envs\\mlops\\lib\\site-packages\\deepchecks\\core\\display.py:199\u001b[0m, in \u001b[0;36mDisplayableResult._ipython_display_\u001b[1;34m(self, **kwargs)\u001b[0m\n\u001b[0;32m    197\u001b[0m \u001b[38;5;28;01mdef\u001b[39;00m \u001b[38;5;21m_ipython_display_\u001b[39m(\u001b[38;5;28mself\u001b[39m, \u001b[38;5;241m*\u001b[39m\u001b[38;5;241m*\u001b[39mkwargs):\n\u001b[0;32m    198\u001b[0m \u001b[38;5;250m    \u001b[39m\u001b[38;5;124;03m\"\"\"Display result..\"\"\"\u001b[39;00m\n\u001b[1;32m--> 199\u001b[0m     \u001b[38;5;28mself\u001b[39m\u001b[38;5;241m.\u001b[39mshow(\u001b[38;5;241m*\u001b[39m\u001b[38;5;241m*\u001b[39mkwargs)\n",
      "File \u001b[1;32m~\\anaconda3\\envs\\mlops\\lib\\site-packages\\deepchecks\\core\\suite.py:183\u001b[0m, in \u001b[0;36mSuiteResult.show\u001b[1;34m(self, as_widget, unique_id, **kwargs)\u001b[0m\n\u001b[0;32m    160\u001b[0m \u001b[38;5;28;01mdef\u001b[39;00m \u001b[38;5;21mshow\u001b[39m(\n\u001b[0;32m    161\u001b[0m     \u001b[38;5;28mself\u001b[39m,\n\u001b[0;32m    162\u001b[0m     as_widget: \u001b[38;5;28mbool\u001b[39m \u001b[38;5;241m=\u001b[39m \u001b[38;5;28;01mTrue\u001b[39;00m,\n\u001b[0;32m    163\u001b[0m     unique_id: Optional[\u001b[38;5;28mstr\u001b[39m] \u001b[38;5;241m=\u001b[39m \u001b[38;5;28;01mNone\u001b[39;00m,\n\u001b[0;32m    164\u001b[0m     \u001b[38;5;241m*\u001b[39m\u001b[38;5;241m*\u001b[39mkwargs\n\u001b[0;32m    165\u001b[0m ) \u001b[38;5;241m-\u001b[39m\u001b[38;5;241m>\u001b[39m Optional[HTMLFormatter]:\n\u001b[0;32m    166\u001b[0m \u001b[38;5;250m    \u001b[39m\u001b[38;5;124;03m\"\"\"Display result.\u001b[39;00m\n\u001b[0;32m    167\u001b[0m \n\u001b[0;32m    168\u001b[0m \u001b[38;5;124;03m    Parameters\u001b[39;00m\n\u001b[1;32m   (...)\u001b[0m\n\u001b[0;32m    181\u001b[0m \u001b[38;5;124;03m        when used by sphinx-gallery\u001b[39;00m\n\u001b[0;32m    182\u001b[0m \u001b[38;5;124;03m    \"\"\"\u001b[39;00m\n\u001b[1;32m--> 183\u001b[0m     \u001b[38;5;28;01mreturn\u001b[39;00m \u001b[38;5;28msuper\u001b[39m()\u001b[38;5;241m.\u001b[39mshow(\n\u001b[0;32m    184\u001b[0m         as_widget,\n\u001b[0;32m    185\u001b[0m         unique_id \u001b[38;5;129;01mor\u001b[39;00m get_random_string(n\u001b[38;5;241m=\u001b[39m\u001b[38;5;241m25\u001b[39m),\n\u001b[0;32m    186\u001b[0m         \u001b[38;5;241m*\u001b[39m\u001b[38;5;241m*\u001b[39mkwargs\n\u001b[0;32m    187\u001b[0m     )\n",
      "File \u001b[1;32m~\\anaconda3\\envs\\mlops\\lib\\site-packages\\deepchecks\\core\\display.py:108\u001b[0m, in \u001b[0;36mDisplayableResult.show\u001b[1;34m(self, as_widget, unique_id, **kwargs)\u001b[0m\n\u001b[0;32m    106\u001b[0m     display(\u001b[38;5;241m*\u001b[39m\u001b[38;5;28mself\u001b[39m\u001b[38;5;241m.\u001b[39mipython_serializer\u001b[38;5;241m.\u001b[39mserialize(\u001b[38;5;241m*\u001b[39m\u001b[38;5;241m*\u001b[39mkwargs))\n\u001b[0;32m    107\u001b[0m \u001b[38;5;28;01melif\u001b[39;00m as_widget \u001b[38;5;129;01mis\u001b[39;00m \u001b[38;5;28;01mTrue\u001b[39;00m:\n\u001b[1;32m--> 108\u001b[0m     display_html(\u001b[38;5;28mself\u001b[39m\u001b[38;5;241m.\u001b[39mwidget_serializer\u001b[38;5;241m.\u001b[39mserialize(\n\u001b[0;32m    109\u001b[0m         output_id\u001b[38;5;241m=\u001b[39munique_id,\n\u001b[0;32m    110\u001b[0m         \u001b[38;5;241m*\u001b[39m\u001b[38;5;241m*\u001b[39mkwargs\n\u001b[0;32m    111\u001b[0m     ))\n\u001b[0;32m    112\u001b[0m \u001b[38;5;28;01melse\u001b[39;00m:\n\u001b[0;32m    113\u001b[0m     display(\u001b[38;5;241m*\u001b[39m\u001b[38;5;28mself\u001b[39m\u001b[38;5;241m.\u001b[39mipython_serializer\u001b[38;5;241m.\u001b[39mserialize(\n\u001b[0;32m    114\u001b[0m         output_id\u001b[38;5;241m=\u001b[39munique_id,\n\u001b[0;32m    115\u001b[0m         \u001b[38;5;241m*\u001b[39m\u001b[38;5;241m*\u001b[39mkwargs\n\u001b[0;32m    116\u001b[0m     ))\n",
      "File \u001b[1;32m~\\anaconda3\\envs\\mlops\\lib\\site-packages\\deepchecks\\core\\serialization\\suite_result\\widget.py:84\u001b[0m, in \u001b[0;36mSuiteResultSerializer.serialize\u001b[1;34m(self, output_id, **kwargs)\u001b[0m\n\u001b[0;32m     77\u001b[0m not_ran_checks \u001b[38;5;241m=\u001b[39m \u001b[38;5;28mself\u001b[39m\u001b[38;5;241m.\u001b[39mvalue\u001b[38;5;241m.\u001b[39mget_not_ran_checks()\n\u001b[0;32m     78\u001b[0m other_checks \u001b[38;5;241m=\u001b[39m t\u001b[38;5;241m.\u001b[39mcast(\n\u001b[0;32m     79\u001b[0m     t\u001b[38;5;241m.\u001b[39mList[check_types\u001b[38;5;241m.\u001b[39mCheckResult],\n\u001b[0;32m     80\u001b[0m     \u001b[38;5;28mself\u001b[39m\u001b[38;5;241m.\u001b[39mvalue\u001b[38;5;241m.\u001b[39mselect_results(\u001b[38;5;28mself\u001b[39m\u001b[38;5;241m.\u001b[39mvalue\u001b[38;5;241m.\u001b[39mresults_without_conditions)\n\u001b[0;32m     81\u001b[0m )\n\u001b[0;32m     83\u001b[0m accordions \u001b[38;5;241m=\u001b[39m [\n\u001b[1;32m---> 84\u001b[0m     \u001b[38;5;28mself\u001b[39m\u001b[38;5;241m.\u001b[39mprepare_results(\n\u001b[0;32m     85\u001b[0m         title\u001b[38;5;241m=\u001b[39m\u001b[38;5;124m'\u001b[39m\u001b[38;5;124mDidn\u001b[39m\u001b[38;5;130;01m\\'\u001b[39;00m\u001b[38;5;124mt Pass\u001b[39m\u001b[38;5;124m'\u001b[39m,\n\u001b[0;32m     86\u001b[0m         results\u001b[38;5;241m=\u001b[39mnot_passed_checks,\n\u001b[0;32m     87\u001b[0m         output_id\u001b[38;5;241m=\u001b[39moutput_id,\n\u001b[0;32m     88\u001b[0m         summary_creation_method\u001b[38;5;241m=\u001b[39m\u001b[38;5;28mself\u001b[39m\u001b[38;5;241m.\u001b[39mprepare_conditions_summary,\n\u001b[0;32m     89\u001b[0m         \u001b[38;5;241m*\u001b[39m\u001b[38;5;241m*\u001b[39mkwargs\n\u001b[0;32m     90\u001b[0m     ),\n\u001b[0;32m     91\u001b[0m     \u001b[38;5;28mself\u001b[39m\u001b[38;5;241m.\u001b[39mprepare_results(\n\u001b[0;32m     92\u001b[0m         title\u001b[38;5;241m=\u001b[39m\u001b[38;5;124m'\u001b[39m\u001b[38;5;124mPassed\u001b[39m\u001b[38;5;124m'\u001b[39m,\n\u001b[0;32m     93\u001b[0m         results\u001b[38;5;241m=\u001b[39mpassed_checks,\n\u001b[0;32m     94\u001b[0m         output_id\u001b[38;5;241m=\u001b[39moutput_id,\n\u001b[0;32m     95\u001b[0m         summary_creation_method\u001b[38;5;241m=\u001b[39m\u001b[38;5;28mself\u001b[39m\u001b[38;5;241m.\u001b[39mprepare_conditions_summary,\n\u001b[0;32m     96\u001b[0m         \u001b[38;5;241m*\u001b[39m\u001b[38;5;241m*\u001b[39mkwargs\n\u001b[0;32m     97\u001b[0m     ),\n\u001b[0;32m     98\u001b[0m     \u001b[38;5;28mself\u001b[39m\u001b[38;5;241m.\u001b[39mprepare_results(\n\u001b[0;32m     99\u001b[0m         title\u001b[38;5;241m=\u001b[39m\u001b[38;5;124m'\u001b[39m\u001b[38;5;124mOther\u001b[39m\u001b[38;5;124m'\u001b[39m,\n\u001b[0;32m    100\u001b[0m         results\u001b[38;5;241m=\u001b[39mother_checks,\n\u001b[0;32m    101\u001b[0m         output_id\u001b[38;5;241m=\u001b[39moutput_id,\n\u001b[0;32m    102\u001b[0m         summary_creation_method\u001b[38;5;241m=\u001b[39m\u001b[38;5;28mself\u001b[39m\u001b[38;5;241m.\u001b[39mprepare_unconditioned_results_summary,\n\u001b[0;32m    103\u001b[0m         check_sections\u001b[38;5;241m=\u001b[39m[\u001b[38;5;124m'\u001b[39m\u001b[38;5;124madditional-output\u001b[39m\u001b[38;5;124m'\u001b[39m],\n\u001b[0;32m    104\u001b[0m         \u001b[38;5;241m*\u001b[39m\u001b[38;5;241m*\u001b[39mkwargs\n\u001b[0;32m    105\u001b[0m     ),\n\u001b[0;32m    106\u001b[0m     \u001b[38;5;28mself\u001b[39m\u001b[38;5;241m.\u001b[39mprepare_failures(\n\u001b[0;32m    107\u001b[0m         title\u001b[38;5;241m=\u001b[39m\u001b[38;5;124m'\u001b[39m\u001b[38;5;124mDidn\u001b[39m\u001b[38;5;130;01m\\'\u001b[39;00m\u001b[38;5;124mt Run\u001b[39m\u001b[38;5;124m'\u001b[39m,\n\u001b[0;32m    108\u001b[0m         failures\u001b[38;5;241m=\u001b[39mnot_ran_checks,\n\u001b[0;32m    109\u001b[0m         output_id\u001b[38;5;241m=\u001b[39moutput_id,\n\u001b[0;32m    110\u001b[0m         \u001b[38;5;241m*\u001b[39m\u001b[38;5;241m*\u001b[39mkwargs\n\u001b[0;32m    111\u001b[0m     )\n\u001b[0;32m    112\u001b[0m ]\n\u001b[0;32m    114\u001b[0m content \u001b[38;5;241m=\u001b[39m VBox(children\u001b[38;5;241m=\u001b[39m[\n\u001b[0;32m    115\u001b[0m     \u001b[38;5;28mself\u001b[39m\u001b[38;5;241m.\u001b[39mprepare_summary(output_id\u001b[38;5;241m=\u001b[39moutput_id, \u001b[38;5;241m*\u001b[39m\u001b[38;5;241m*\u001b[39mkwargs),\n\u001b[0;32m    116\u001b[0m     \u001b[38;5;241m*\u001b[39maccordions\n\u001b[0;32m    117\u001b[0m ])\n\u001b[0;32m    118\u001b[0m \u001b[38;5;28;01mreturn\u001b[39;00m Accordion(\n\u001b[0;32m    119\u001b[0m     children\u001b[38;5;241m=\u001b[39m[content],\n\u001b[0;32m    120\u001b[0m     _titles\u001b[38;5;241m=\u001b[39m{\u001b[38;5;124m'\u001b[39m\u001b[38;5;124m0\u001b[39m\u001b[38;5;124m'\u001b[39m: \u001b[38;5;28mself\u001b[39m\u001b[38;5;241m.\u001b[39mvalue\u001b[38;5;241m.\u001b[39mname},\n\u001b[0;32m    121\u001b[0m     selected_index\u001b[38;5;241m=\u001b[39m\u001b[38;5;124m'\u001b[39m\u001b[38;5;124m0\u001b[39m\u001b[38;5;124m'\u001b[39m\n\u001b[0;32m    122\u001b[0m )\n",
      "File \u001b[1;32m~\\anaconda3\\envs\\mlops\\lib\\site-packages\\deepchecks\\core\\serialization\\suite_result\\widget.py:210\u001b[0m, in \u001b[0;36mSuiteResultSerializer.prepare_results\u001b[1;34m(self, results, title, output_id, summary_creation_method, **kwargs)\u001b[0m\n\u001b[0;32m    207\u001b[0m section_id \u001b[38;5;241m=\u001b[39m \u001b[38;5;124mf\u001b[39m\u001b[38;5;124m'\u001b[39m\u001b[38;5;132;01m{\u001b[39;00moutput_id\u001b[38;5;132;01m}\u001b[39;00m\u001b[38;5;124m-section-\u001b[39m\u001b[38;5;132;01m{\u001b[39;00mget_random_string()\u001b[38;5;132;01m}\u001b[39;00m\u001b[38;5;124m'\u001b[39m\n\u001b[0;32m    208\u001b[0m section_anchor \u001b[38;5;241m=\u001b[39m HTML(value\u001b[38;5;241m=\u001b[39m\u001b[38;5;124mf\u001b[39m\u001b[38;5;124m'\u001b[39m\u001b[38;5;124m<span id=\u001b[39m\u001b[38;5;124m\"\u001b[39m\u001b[38;5;132;01m{\u001b[39;00mform_output_anchor(section_id)\u001b[38;5;132;01m}\u001b[39;00m\u001b[38;5;124m\"\u001b[39m\u001b[38;5;124m></span>\u001b[39m\u001b[38;5;124m'\u001b[39m)\n\u001b[1;32m--> 210\u001b[0m serialized_results \u001b[38;5;241m=\u001b[39m [\n\u001b[0;32m    211\u001b[0m     select_serializer(it)\u001b[38;5;241m.\u001b[39mserialize(output_id\u001b[38;5;241m=\u001b[39msection_id, \u001b[38;5;241m*\u001b[39m\u001b[38;5;241m*\u001b[39mkwargs)\n\u001b[0;32m    212\u001b[0m     \u001b[38;5;28;01mfor\u001b[39;00m it \u001b[38;5;129;01min\u001b[39;00m results\n\u001b[0;32m    213\u001b[0m     \u001b[38;5;28;01mif\u001b[39;00m it\u001b[38;5;241m.\u001b[39mdisplay  \u001b[38;5;66;03m# we do not form full-output for the check results without display\u001b[39;00m\n\u001b[0;32m    214\u001b[0m ]\n\u001b[0;32m    216\u001b[0m \u001b[38;5;28;01mif\u001b[39;00m \u001b[38;5;28mcallable\u001b[39m(summary_creation_method):\n\u001b[0;32m    217\u001b[0m     children \u001b[38;5;241m=\u001b[39m (\n\u001b[0;32m    218\u001b[0m         summary_creation_method(results\u001b[38;5;241m=\u001b[39mresults, output_id\u001b[38;5;241m=\u001b[39msection_id, \u001b[38;5;241m*\u001b[39m\u001b[38;5;241m*\u001b[39mkwargs),\n\u001b[0;32m    219\u001b[0m         HTML(value\u001b[38;5;241m=\u001b[39mCommonHtml\u001b[38;5;241m.\u001b[39mlight_hr),\n\u001b[0;32m    220\u001b[0m         \u001b[38;5;241m*\u001b[39mjoin(serialized_results, HTML(value\u001b[38;5;241m=\u001b[39mCommonHtml\u001b[38;5;241m.\u001b[39mlight_hr))\n\u001b[0;32m    221\u001b[0m     )\n",
      "File \u001b[1;32m~\\anaconda3\\envs\\mlops\\lib\\site-packages\\deepchecks\\core\\serialization\\suite_result\\widget.py:211\u001b[0m, in \u001b[0;36m<listcomp>\u001b[1;34m(.0)\u001b[0m\n\u001b[0;32m    207\u001b[0m section_id \u001b[38;5;241m=\u001b[39m \u001b[38;5;124mf\u001b[39m\u001b[38;5;124m'\u001b[39m\u001b[38;5;132;01m{\u001b[39;00moutput_id\u001b[38;5;132;01m}\u001b[39;00m\u001b[38;5;124m-section-\u001b[39m\u001b[38;5;132;01m{\u001b[39;00mget_random_string()\u001b[38;5;132;01m}\u001b[39;00m\u001b[38;5;124m'\u001b[39m\n\u001b[0;32m    208\u001b[0m section_anchor \u001b[38;5;241m=\u001b[39m HTML(value\u001b[38;5;241m=\u001b[39m\u001b[38;5;124mf\u001b[39m\u001b[38;5;124m'\u001b[39m\u001b[38;5;124m<span id=\u001b[39m\u001b[38;5;124m\"\u001b[39m\u001b[38;5;132;01m{\u001b[39;00mform_output_anchor(section_id)\u001b[38;5;132;01m}\u001b[39;00m\u001b[38;5;124m\"\u001b[39m\u001b[38;5;124m></span>\u001b[39m\u001b[38;5;124m'\u001b[39m)\n\u001b[0;32m    210\u001b[0m serialized_results \u001b[38;5;241m=\u001b[39m [\n\u001b[1;32m--> 211\u001b[0m     select_serializer(it)\u001b[38;5;241m.\u001b[39mserialize(output_id\u001b[38;5;241m=\u001b[39msection_id, \u001b[38;5;241m*\u001b[39m\u001b[38;5;241m*\u001b[39mkwargs)\n\u001b[0;32m    212\u001b[0m     \u001b[38;5;28;01mfor\u001b[39;00m it \u001b[38;5;129;01min\u001b[39;00m results\n\u001b[0;32m    213\u001b[0m     \u001b[38;5;28;01mif\u001b[39;00m it\u001b[38;5;241m.\u001b[39mdisplay  \u001b[38;5;66;03m# we do not form full-output for the check results without display\u001b[39;00m\n\u001b[0;32m    214\u001b[0m ]\n\u001b[0;32m    216\u001b[0m \u001b[38;5;28;01mif\u001b[39;00m \u001b[38;5;28mcallable\u001b[39m(summary_creation_method):\n\u001b[0;32m    217\u001b[0m     children \u001b[38;5;241m=\u001b[39m (\n\u001b[0;32m    218\u001b[0m         summary_creation_method(results\u001b[38;5;241m=\u001b[39mresults, output_id\u001b[38;5;241m=\u001b[39msection_id, \u001b[38;5;241m*\u001b[39m\u001b[38;5;241m*\u001b[39mkwargs),\n\u001b[0;32m    219\u001b[0m         HTML(value\u001b[38;5;241m=\u001b[39mCommonHtml\u001b[38;5;241m.\u001b[39mlight_hr),\n\u001b[0;32m    220\u001b[0m         \u001b[38;5;241m*\u001b[39mjoin(serialized_results, HTML(value\u001b[38;5;241m=\u001b[39mCommonHtml\u001b[38;5;241m.\u001b[39mlight_hr))\n\u001b[0;32m    221\u001b[0m     )\n",
      "File \u001b[1;32m~\\anaconda3\\envs\\mlops\\lib\\site-packages\\deepchecks\\core\\serialization\\check_result\\widget.py:85\u001b[0m, in \u001b[0;36mCheckResultSerializer.serialize\u001b[1;34m(self, output_id, check_sections, plotly_to_image, is_for_iframe_with_srcdoc, **kwargs)\u001b[0m\n\u001b[0;32m     80\u001b[0m     sections\u001b[38;5;241m.\u001b[39mappend(\u001b[38;5;28mself\u001b[39m\u001b[38;5;241m.\u001b[39mprepare_conditions_table(\n\u001b[0;32m     81\u001b[0m         output_id\u001b[38;5;241m=\u001b[39moutput_id\n\u001b[0;32m     82\u001b[0m     ))\n\u001b[0;32m     84\u001b[0m \u001b[38;5;28;01mif\u001b[39;00m \u001b[38;5;124m'\u001b[39m\u001b[38;5;124madditional-output\u001b[39m\u001b[38;5;124m'\u001b[39m \u001b[38;5;129;01min\u001b[39;00m sections_to_include:\n\u001b[1;32m---> 85\u001b[0m     sections\u001b[38;5;241m.\u001b[39mappend(\u001b[38;5;28;43mself\u001b[39;49m\u001b[38;5;241;43m.\u001b[39;49m\u001b[43mprepare_additional_output\u001b[49m\u001b[43m(\u001b[49m\n\u001b[0;32m     86\u001b[0m \u001b[43m        \u001b[49m\u001b[43moutput_id\u001b[49m\u001b[38;5;241;43m=\u001b[39;49m\u001b[43moutput_id\u001b[49m\u001b[43m,\u001b[49m\n\u001b[0;32m     87\u001b[0m \u001b[43m        \u001b[49m\u001b[43mplotly_to_image\u001b[49m\u001b[38;5;241;43m=\u001b[39;49m\u001b[43mplotly_to_image\u001b[49m\u001b[43m,\u001b[49m\n\u001b[0;32m     88\u001b[0m \u001b[43m        \u001b[49m\u001b[43mis_for_iframe_with_srcdoc\u001b[49m\u001b[38;5;241;43m=\u001b[39;49m\u001b[43mis_for_iframe_with_srcdoc\u001b[49m\n\u001b[0;32m     89\u001b[0m \u001b[43m    \u001b[49m\u001b[43m)\u001b[49m)\n\u001b[0;32m     91\u001b[0m \u001b[38;5;28;01mreturn\u001b[39;00m normalize_widget_style(VBox(children\u001b[38;5;241m=\u001b[39msections))\n",
      "File \u001b[1;32m~\\anaconda3\\envs\\mlops\\lib\\site-packages\\deepchecks\\core\\serialization\\check_result\\widget.py:156\u001b[0m, in \u001b[0;36mCheckResultSerializer.prepare_additional_output\u001b[1;34m(self, output_id, plotly_to_image, is_for_iframe_with_srcdoc)\u001b[0m\n\u001b[0;32m    133\u001b[0m \u001b[38;5;28;01mdef\u001b[39;00m \u001b[38;5;21mprepare_additional_output\u001b[39m(\n\u001b[0;32m    134\u001b[0m     \u001b[38;5;28mself\u001b[39m,\n\u001b[0;32m    135\u001b[0m     output_id: t\u001b[38;5;241m.\u001b[39mOptional[\u001b[38;5;28mstr\u001b[39m] \u001b[38;5;241m=\u001b[39m \u001b[38;5;28;01mNone\u001b[39;00m,\n\u001b[0;32m    136\u001b[0m     plotly_to_image: \u001b[38;5;28mbool\u001b[39m \u001b[38;5;241m=\u001b[39m \u001b[38;5;28;01mFalse\u001b[39;00m,\n\u001b[0;32m    137\u001b[0m     is_for_iframe_with_srcdoc: \u001b[38;5;28mbool\u001b[39m \u001b[38;5;241m=\u001b[39m \u001b[38;5;28;01mFalse\u001b[39;00m\n\u001b[0;32m    138\u001b[0m ) \u001b[38;5;241m-\u001b[39m\u001b[38;5;241m>\u001b[39m VBox:\n\u001b[0;32m    139\u001b[0m \u001b[38;5;250m    \u001b[39m\u001b[38;5;124;03m\"\"\"Prepare additional output widget.\u001b[39;00m\n\u001b[0;32m    140\u001b[0m \n\u001b[0;32m    141\u001b[0m \u001b[38;5;124;03m    Parameters\u001b[39;00m\n\u001b[1;32m   (...)\u001b[0m\n\u001b[0;32m    154\u001b[0m \u001b[38;5;124;03m    ipywidgets.VBox\u001b[39;00m\n\u001b[0;32m    155\u001b[0m \u001b[38;5;124;03m    \"\"\"\u001b[39;00m\n\u001b[1;32m--> 156\u001b[0m     \u001b[38;5;28;01mreturn\u001b[39;00m VBox(children\u001b[38;5;241m=\u001b[39m\u001b[43mDisplayItemsHandler\u001b[49m\u001b[38;5;241;43m.\u001b[39;49m\u001b[43mhandle_display\u001b[49m\u001b[43m(\u001b[49m\n\u001b[0;32m    157\u001b[0m \u001b[43m        \u001b[49m\u001b[43mdisplay\u001b[49m\u001b[38;5;241;43m=\u001b[39;49m\u001b[38;5;28;43mself\u001b[39;49m\u001b[38;5;241;43m.\u001b[39;49m\u001b[43mvalue\u001b[49m\u001b[38;5;241;43m.\u001b[39;49m\u001b[43mdisplay\u001b[49m\u001b[43m,\u001b[49m\n\u001b[0;32m    158\u001b[0m \u001b[43m        \u001b[49m\u001b[43moutput_id\u001b[49m\u001b[38;5;241;43m=\u001b[39;49m\u001b[43moutput_id\u001b[49m\u001b[43m,\u001b[49m\n\u001b[0;32m    159\u001b[0m \u001b[43m        \u001b[49m\u001b[43mplotly_to_image\u001b[49m\u001b[38;5;241;43m=\u001b[39;49m\u001b[43mplotly_to_image\u001b[49m\u001b[43m,\u001b[49m\n\u001b[0;32m    160\u001b[0m \u001b[43m        \u001b[49m\u001b[43mis_for_iframe_with_srcdoc\u001b[49m\u001b[38;5;241;43m=\u001b[39;49m\u001b[43mis_for_iframe_with_srcdoc\u001b[49m\n\u001b[0;32m    161\u001b[0m \u001b[43m    \u001b[49m\u001b[43m)\u001b[49m)\n",
      "File \u001b[1;32m~\\anaconda3\\envs\\mlops\\lib\\site-packages\\deepchecks\\core\\serialization\\check_result\\widget.py:193\u001b[0m, in \u001b[0;36mDisplayItemsHandler.handle_display\u001b[1;34m(cls, display, output_id, include_header, include_trailing_link, **kwargs)\u001b[0m\n\u001b[0;32m    167\u001b[0m \u001b[38;5;129m@classmethod\u001b[39m\n\u001b[0;32m    168\u001b[0m \u001b[38;5;28;01mdef\u001b[39;00m \u001b[38;5;21mhandle_display\u001b[39m(\n\u001b[0;32m    169\u001b[0m     \u001b[38;5;28mcls\u001b[39m,\n\u001b[1;32m   (...)\u001b[0m\n\u001b[0;32m    174\u001b[0m     \u001b[38;5;241m*\u001b[39m\u001b[38;5;241m*\u001b[39mkwargs\n\u001b[0;32m    175\u001b[0m ) \u001b[38;5;241m-\u001b[39m\u001b[38;5;241m>\u001b[39m t\u001b[38;5;241m.\u001b[39mList[Widget]:\n\u001b[0;32m    176\u001b[0m \u001b[38;5;250m    \u001b[39m\u001b[38;5;124;03m\"\"\"Serialize CheckResult display items into list if Widget instances.\u001b[39;00m\n\u001b[0;32m    177\u001b[0m \n\u001b[0;32m    178\u001b[0m \u001b[38;5;124;03m    Parameters\u001b[39;00m\n\u001b[1;32m   (...)\u001b[0m\n\u001b[0;32m    191\u001b[0m \u001b[38;5;124;03m    List[Widget]\u001b[39;00m\n\u001b[0;32m    192\u001b[0m \u001b[38;5;124;03m    \"\"\"\u001b[39;00m\n\u001b[1;32m--> 193\u001b[0m     \u001b[38;5;28;01mreturn\u001b[39;00m t\u001b[38;5;241m.\u001b[39mcast(t\u001b[38;5;241m.\u001b[39mList[Widget], \u001b[38;5;28msuper\u001b[39m()\u001b[38;5;241m.\u001b[39mhandle_display(\n\u001b[0;32m    194\u001b[0m         display\u001b[38;5;241m=\u001b[39mdisplay,\n\u001b[0;32m    195\u001b[0m         output_id\u001b[38;5;241m=\u001b[39moutput_id,\n\u001b[0;32m    196\u001b[0m         include_header\u001b[38;5;241m=\u001b[39minclude_header,\n\u001b[0;32m    197\u001b[0m         include_trailing_link\u001b[38;5;241m=\u001b[39minclude_trailing_link,\n\u001b[0;32m    198\u001b[0m         \u001b[38;5;241m*\u001b[39m\u001b[38;5;241m*\u001b[39mkwargs\n\u001b[0;32m    199\u001b[0m     ))\n",
      "File \u001b[1;32m~\\anaconda3\\envs\\mlops\\lib\\site-packages\\deepchecks\\core\\serialization\\check_result\\html.py:242\u001b[0m, in \u001b[0;36mDisplayItemsHandler.handle_display\u001b[1;34m(cls, display, output_id, is_for_iframe_with_srcdoc, include_header, include_trailing_link, **kwargs)\u001b[0m\n\u001b[0;32m    220\u001b[0m \u001b[38;5;250m\u001b[39m\u001b[38;5;124;03m\"\"\"Serialize CheckResult display items into HTML.\u001b[39;00m\n\u001b[0;32m    221\u001b[0m \n\u001b[0;32m    222\u001b[0m \u001b[38;5;124;03mParameters\u001b[39;00m\n\u001b[1;32m   (...)\u001b[0m\n\u001b[0;32m    239\u001b[0m \u001b[38;5;124;03mList[str]\u001b[39;00m\n\u001b[0;32m    240\u001b[0m \u001b[38;5;124;03m\"\"\"\u001b[39;00m\n\u001b[0;32m    241\u001b[0m output \u001b[38;5;241m=\u001b[39m [\u001b[38;5;28mcls\u001b[39m\u001b[38;5;241m.\u001b[39mheader()] \u001b[38;5;28;01mif\u001b[39;00m include_header \u001b[38;5;28;01melse\u001b[39;00m []\n\u001b[1;32m--> 242\u001b[0m output\u001b[38;5;241m.\u001b[39mextend(\u001b[38;5;28msuper\u001b[39m()\u001b[38;5;241m.\u001b[39mhandle_display(display, \u001b[38;5;241m*\u001b[39m\u001b[38;5;241m*\u001b[39m{\u001b[38;5;124m'\u001b[39m\u001b[38;5;124moutput_id\u001b[39m\u001b[38;5;124m'\u001b[39m: output_id, \u001b[38;5;241m*\u001b[39m\u001b[38;5;241m*\u001b[39mkwargs}))\n\u001b[0;32m    244\u001b[0m \u001b[38;5;28;01mif\u001b[39;00m \u001b[38;5;28mlen\u001b[39m(display) \u001b[38;5;241m==\u001b[39m \u001b[38;5;241m0\u001b[39m:\n\u001b[0;32m    245\u001b[0m     output\u001b[38;5;241m.\u001b[39mappend(\u001b[38;5;28mcls\u001b[39m\u001b[38;5;241m.\u001b[39mempty_content_placeholder())\n",
      "File \u001b[1;32m~\\anaconda3\\envs\\mlops\\lib\\site-packages\\deepchecks\\core\\serialization\\abc.py:210\u001b[0m, in \u001b[0;36mABCDisplayItemsHandler.handle_display\u001b[1;34m(cls, display, **kwargs)\u001b[0m\n\u001b[0;32m    192\u001b[0m \u001b[38;5;129m@classmethod\u001b[39m\n\u001b[0;32m    193\u001b[0m \u001b[38;5;129m@abc\u001b[39m\u001b[38;5;241m.\u001b[39mabstractmethod\n\u001b[0;32m    194\u001b[0m \u001b[38;5;28;01mdef\u001b[39;00m \u001b[38;5;21mhandle_display\u001b[39m(\n\u001b[1;32m   (...)\u001b[0m\n\u001b[0;32m    197\u001b[0m     \u001b[38;5;241m*\u001b[39m\u001b[38;5;241m*\u001b[39mkwargs\n\u001b[0;32m    198\u001b[0m ) \u001b[38;5;241m-\u001b[39m\u001b[38;5;241m>\u001b[39m t\u001b[38;5;241m.\u001b[39mList[t\u001b[38;5;241m.\u001b[39mAny]:\n\u001b[0;32m    199\u001b[0m \u001b[38;5;250m    \u001b[39m\u001b[38;5;124;03m\"\"\"Serialize list of display items.\u001b[39;00m\n\u001b[0;32m    200\u001b[0m \n\u001b[0;32m    201\u001b[0m \u001b[38;5;124;03m    Parameters\u001b[39;00m\n\u001b[1;32m   (...)\u001b[0m\n\u001b[0;32m    208\u001b[0m \u001b[38;5;124;03m    List[Any]\u001b[39;00m\n\u001b[0;32m    209\u001b[0m \u001b[38;5;124;03m    \"\"\"\u001b[39;00m\n\u001b[1;32m--> 210\u001b[0m     \u001b[38;5;28;01mreturn\u001b[39;00m [\u001b[38;5;28mcls\u001b[39m\u001b[38;5;241m.\u001b[39mhandle_item(it, index, \u001b[38;5;241m*\u001b[39m\u001b[38;5;241m*\u001b[39mkwargs) \u001b[38;5;28;01mfor\u001b[39;00m index, it \u001b[38;5;129;01min\u001b[39;00m \u001b[38;5;28menumerate\u001b[39m(display)]\n",
      "File \u001b[1;32m~\\anaconda3\\envs\\mlops\\lib\\site-packages\\deepchecks\\core\\serialization\\abc.py:210\u001b[0m, in \u001b[0;36m<listcomp>\u001b[1;34m(.0)\u001b[0m\n\u001b[0;32m    192\u001b[0m \u001b[38;5;129m@classmethod\u001b[39m\n\u001b[0;32m    193\u001b[0m \u001b[38;5;129m@abc\u001b[39m\u001b[38;5;241m.\u001b[39mabstractmethod\n\u001b[0;32m    194\u001b[0m \u001b[38;5;28;01mdef\u001b[39;00m \u001b[38;5;21mhandle_display\u001b[39m(\n\u001b[1;32m   (...)\u001b[0m\n\u001b[0;32m    197\u001b[0m     \u001b[38;5;241m*\u001b[39m\u001b[38;5;241m*\u001b[39mkwargs\n\u001b[0;32m    198\u001b[0m ) \u001b[38;5;241m-\u001b[39m\u001b[38;5;241m>\u001b[39m t\u001b[38;5;241m.\u001b[39mList[t\u001b[38;5;241m.\u001b[39mAny]:\n\u001b[0;32m    199\u001b[0m \u001b[38;5;250m    \u001b[39m\u001b[38;5;124;03m\"\"\"Serialize list of display items.\u001b[39;00m\n\u001b[0;32m    200\u001b[0m \n\u001b[0;32m    201\u001b[0m \u001b[38;5;124;03m    Parameters\u001b[39;00m\n\u001b[1;32m   (...)\u001b[0m\n\u001b[0;32m    208\u001b[0m \u001b[38;5;124;03m    List[Any]\u001b[39;00m\n\u001b[0;32m    209\u001b[0m \u001b[38;5;124;03m    \"\"\"\u001b[39;00m\n\u001b[1;32m--> 210\u001b[0m     \u001b[38;5;28;01mreturn\u001b[39;00m [\u001b[38;5;28mcls\u001b[39m\u001b[38;5;241m.\u001b[39mhandle_item(it, index, \u001b[38;5;241m*\u001b[39m\u001b[38;5;241m*\u001b[39mkwargs) \u001b[38;5;28;01mfor\u001b[39;00m index, it \u001b[38;5;129;01min\u001b[39;00m \u001b[38;5;28menumerate\u001b[39m(display)]\n",
      "File \u001b[1;32m~\\anaconda3\\envs\\mlops\\lib\\site-packages\\deepchecks\\core\\serialization\\abc.py:223\u001b[0m, in \u001b[0;36mABCDisplayItemsHandler.handle_item\u001b[1;34m(cls, item, index, **kwargs)\u001b[0m\n\u001b[0;32m    221\u001b[0m     \u001b[38;5;28;01mreturn\u001b[39;00m \u001b[38;5;28mcls\u001b[39m\u001b[38;5;241m.\u001b[39mhandle_figure(item, index, \u001b[38;5;241m*\u001b[39m\u001b[38;5;241m*\u001b[39mkwargs)\n\u001b[0;32m    222\u001b[0m \u001b[38;5;28;01melif\u001b[39;00m \u001b[38;5;28misinstance\u001b[39m(item, check_types\u001b[38;5;241m.\u001b[39mDisplayMap):\n\u001b[1;32m--> 223\u001b[0m     \u001b[38;5;28;01mreturn\u001b[39;00m \u001b[38;5;28mcls\u001b[39m\u001b[38;5;241m.\u001b[39mhandle_display_map(item, index, \u001b[38;5;241m*\u001b[39m\u001b[38;5;241m*\u001b[39mkwargs)\n\u001b[0;32m    224\u001b[0m \u001b[38;5;28;01melif\u001b[39;00m \u001b[38;5;28mcallable\u001b[39m(item):\n\u001b[0;32m    225\u001b[0m     \u001b[38;5;28;01mreturn\u001b[39;00m \u001b[38;5;28mcls\u001b[39m\u001b[38;5;241m.\u001b[39mhandle_callable(item, index, \u001b[38;5;241m*\u001b[39m\u001b[38;5;241m*\u001b[39mkwargs)\n",
      "File \u001b[1;32m~\\anaconda3\\envs\\mlops\\lib\\site-packages\\deepchecks\\core\\serialization\\check_result\\widget.py:254\u001b[0m, in \u001b[0;36mDisplayItemsHandler.handle_display_map\u001b[1;34m(cls, item, index, **kwargs)\u001b[0m\n\u001b[0;32m    251\u001b[0m children \u001b[38;5;241m=\u001b[39m []\n\u001b[0;32m    253\u001b[0m \u001b[38;5;28;01mfor\u001b[39;00m i, (name, display) \u001b[38;5;129;01min\u001b[39;00m \u001b[38;5;28menumerate\u001b[39m(item\u001b[38;5;241m.\u001b[39mitems()):\n\u001b[1;32m--> 254\u001b[0m     \u001b[43mtab\u001b[49m\u001b[38;5;241;43m.\u001b[39;49m\u001b[43mset_title\u001b[49m\u001b[43m(\u001b[49m\u001b[43mi\u001b[49m\u001b[43m,\u001b[49m\u001b[43m \u001b[49m\u001b[43mname\u001b[49m\u001b[43m)\u001b[49m\n\u001b[0;32m    255\u001b[0m     children\u001b[38;5;241m.\u001b[39mappend(VBox(children\u001b[38;5;241m=\u001b[39m\u001b[38;5;28mcls\u001b[39m\u001b[38;5;241m.\u001b[39mhandle_display(\n\u001b[0;32m    256\u001b[0m         display,\n\u001b[0;32m    257\u001b[0m         include_header\u001b[38;5;241m=\u001b[39m\u001b[38;5;28;01mFalse\u001b[39;00m,\n\u001b[0;32m    258\u001b[0m         include_trailing_link\u001b[38;5;241m=\u001b[39m\u001b[38;5;28;01mFalse\u001b[39;00m,\n\u001b[0;32m    259\u001b[0m         \u001b[38;5;241m*\u001b[39m\u001b[38;5;241m*\u001b[39mkwargs\n\u001b[0;32m    260\u001b[0m     )))\n\u001b[0;32m    262\u001b[0m tab\u001b[38;5;241m.\u001b[39mchildren \u001b[38;5;241m=\u001b[39m children\n",
      "File \u001b[1;32m~\\anaconda3\\envs\\mlops\\lib\\site-packages\\ipywidgets\\widgets\\widget_selectioncontainer.py:69\u001b[0m, in \u001b[0;36m_SelectionContainer.set_title\u001b[1;34m(self, index, title)\u001b[0m\n\u001b[0;32m     67\u001b[0m \u001b[38;5;28;01mif\u001b[39;00m title \u001b[38;5;129;01mis\u001b[39;00m \u001b[38;5;28;01mNone\u001b[39;00m:\n\u001b[0;32m     68\u001b[0m     title \u001b[38;5;241m=\u001b[39m \u001b[38;5;124m'\u001b[39m\u001b[38;5;124m'\u001b[39m\n\u001b[1;32m---> 69\u001b[0m titles[index]\u001b[38;5;241m=\u001b[39mtitle\n\u001b[0;32m     70\u001b[0m \u001b[38;5;28mself\u001b[39m\u001b[38;5;241m.\u001b[39mtitles \u001b[38;5;241m=\u001b[39m \u001b[38;5;28mtuple\u001b[39m(titles)\n",
      "\u001b[1;31mIndexError\u001b[0m: list assignment index out of range"
     ]
    },
    {
     "ename": "IndexError",
     "evalue": "list assignment index out of range",
     "output_type": "error",
     "traceback": [
      "\u001b[1;31m---------------------------------------------------------------------------\u001b[0m",
      "\u001b[1;31mIndexError\u001b[0m                                Traceback (most recent call last)",
      "File \u001b[1;32m~\\anaconda3\\envs\\mlops\\lib\\site-packages\\IPython\\core\\formatters.py:974\u001b[0m, in \u001b[0;36mMimeBundleFormatter.__call__\u001b[1;34m(self, obj, include, exclude)\u001b[0m\n\u001b[0;32m    971\u001b[0m     method \u001b[38;5;241m=\u001b[39m get_real_method(obj, \u001b[38;5;28mself\u001b[39m\u001b[38;5;241m.\u001b[39mprint_method)\n\u001b[0;32m    973\u001b[0m     \u001b[38;5;28;01mif\u001b[39;00m method \u001b[38;5;129;01mis\u001b[39;00m \u001b[38;5;129;01mnot\u001b[39;00m \u001b[38;5;28;01mNone\u001b[39;00m:\n\u001b[1;32m--> 974\u001b[0m         \u001b[38;5;28;01mreturn\u001b[39;00m \u001b[43mmethod\u001b[49m\u001b[43m(\u001b[49m\u001b[43minclude\u001b[49m\u001b[38;5;241;43m=\u001b[39;49m\u001b[43minclude\u001b[49m\u001b[43m,\u001b[49m\u001b[43m \u001b[49m\u001b[43mexclude\u001b[49m\u001b[38;5;241;43m=\u001b[39;49m\u001b[43mexclude\u001b[49m\u001b[43m)\u001b[49m\n\u001b[0;32m    975\u001b[0m     \u001b[38;5;28;01mreturn\u001b[39;00m \u001b[38;5;28;01mNone\u001b[39;00m\n\u001b[0;32m    976\u001b[0m \u001b[38;5;28;01melse\u001b[39;00m:\n",
      "File \u001b[1;32m~\\anaconda3\\envs\\mlops\\lib\\site-packages\\deepchecks\\core\\suite.py:141\u001b[0m, in \u001b[0;36mSuiteResult._repr_mimebundle_\u001b[1;34m(self, **kwargs)\u001b[0m\n\u001b[0;32m    139\u001b[0m \u001b[38;5;28;01mdef\u001b[39;00m \u001b[38;5;21m_repr_mimebundle_\u001b[39m(\u001b[38;5;28mself\u001b[39m, \u001b[38;5;241m*\u001b[39m\u001b[38;5;241m*\u001b[39mkwargs):\n\u001b[0;32m    140\u001b[0m     \u001b[38;5;28;01mreturn\u001b[39;00m {\n\u001b[1;32m--> 141\u001b[0m         \u001b[38;5;124m'\u001b[39m\u001b[38;5;124mtext/html\u001b[39m\u001b[38;5;124m'\u001b[39m: \u001b[38;5;28;43mself\u001b[39;49m\u001b[38;5;241;43m.\u001b[39;49m\u001b[43m_repr_html_\u001b[49m\u001b[43m(\u001b[49m\u001b[43m)\u001b[49m,\n\u001b[0;32m    142\u001b[0m         \u001b[38;5;124m'\u001b[39m\u001b[38;5;124mapplication/json\u001b[39m\u001b[38;5;124m'\u001b[39m: \u001b[38;5;28mself\u001b[39m\u001b[38;5;241m.\u001b[39m_repr_json_()\n\u001b[0;32m    143\u001b[0m     }\n",
      "File \u001b[1;32m~\\anaconda3\\envs\\mlops\\lib\\site-packages\\deepchecks\\core\\suite.py:131\u001b[0m, in \u001b[0;36mSuiteResult._repr_html_\u001b[1;34m(self, unique_id, requirejs)\u001b[0m\n\u001b[0;32m    124\u001b[0m \u001b[38;5;28;01mdef\u001b[39;00m \u001b[38;5;21m_repr_html_\u001b[39m(\n\u001b[0;32m    125\u001b[0m     \u001b[38;5;28mself\u001b[39m,\n\u001b[0;32m    126\u001b[0m     unique_id: Optional[\u001b[38;5;28mstr\u001b[39m] \u001b[38;5;241m=\u001b[39m \u001b[38;5;28;01mNone\u001b[39;00m,\n\u001b[0;32m    127\u001b[0m     requirejs: \u001b[38;5;28mbool\u001b[39m \u001b[38;5;241m=\u001b[39m \u001b[38;5;28;01mFalse\u001b[39;00m,\n\u001b[0;32m    128\u001b[0m ) \u001b[38;5;241m-\u001b[39m\u001b[38;5;241m>\u001b[39m \u001b[38;5;28mstr\u001b[39m:\n\u001b[0;32m    129\u001b[0m \u001b[38;5;250m    \u001b[39m\u001b[38;5;124;03m\"\"\"Return html representation of check result.\"\"\"\u001b[39;00m\n\u001b[0;32m    130\u001b[0m     \u001b[38;5;28;01mreturn\u001b[39;00m widget_to_html_string(\n\u001b[1;32m--> 131\u001b[0m         \u001b[38;5;28;43mself\u001b[39;49m\u001b[38;5;241;43m.\u001b[39;49m\u001b[43mto_widget\u001b[49m\u001b[43m(\u001b[49m\u001b[43munique_id\u001b[49m\u001b[38;5;241;43m=\u001b[39;49m\u001b[43munique_id\u001b[49m\u001b[43m \u001b[49m\u001b[38;5;129;43;01mor\u001b[39;49;00m\u001b[43m \u001b[49m\u001b[43mget_random_string\u001b[49m\u001b[43m(\u001b[49m\u001b[43mn\u001b[49m\u001b[38;5;241;43m=\u001b[39;49m\u001b[38;5;241;43m25\u001b[39;49m\u001b[43m)\u001b[49m\u001b[43m)\u001b[49m,\n\u001b[0;32m    132\u001b[0m         title\u001b[38;5;241m=\u001b[39m\u001b[38;5;28mself\u001b[39m\u001b[38;5;241m.\u001b[39mname,\n\u001b[0;32m    133\u001b[0m         requirejs\u001b[38;5;241m=\u001b[39mrequirejs\n\u001b[0;32m    134\u001b[0m     )\n",
      "File \u001b[1;32m~\\anaconda3\\envs\\mlops\\lib\\site-packages\\deepchecks\\core\\suite.py:357\u001b[0m, in \u001b[0;36mSuiteResult.to_widget\u001b[1;34m(self, unique_id, **kwargs)\u001b[0m\n\u001b[0;32m    345\u001b[0m \u001b[38;5;250m\u001b[39m\u001b[38;5;124;03m\"\"\"Return SuiteResult as a ipywidgets.Widget instance.\u001b[39;00m\n\u001b[0;32m    346\u001b[0m \n\u001b[0;32m    347\u001b[0m \u001b[38;5;124;03mParameters\u001b[39;00m\n\u001b[1;32m   (...)\u001b[0m\n\u001b[0;32m    354\u001b[0m \u001b[38;5;124;03mWidget\u001b[39;00m\n\u001b[0;32m    355\u001b[0m \u001b[38;5;124;03m\"\"\"\u001b[39;00m\n\u001b[0;32m    356\u001b[0m output_id \u001b[38;5;241m=\u001b[39m unique_id \u001b[38;5;129;01mor\u001b[39;00m get_random_string(n\u001b[38;5;241m=\u001b[39m\u001b[38;5;241m25\u001b[39m)\n\u001b[1;32m--> 357\u001b[0m \u001b[38;5;28;01mreturn\u001b[39;00m \u001b[43mSuiteResultWidgetSerializer\u001b[49m\u001b[43m(\u001b[49m\u001b[38;5;28;43mself\u001b[39;49m\u001b[43m)\u001b[49m\u001b[38;5;241;43m.\u001b[39;49m\u001b[43mserialize\u001b[49m\u001b[43m(\u001b[49m\u001b[43moutput_id\u001b[49m\u001b[38;5;241;43m=\u001b[39;49m\u001b[43moutput_id\u001b[49m\u001b[43m)\u001b[49m\n",
      "File \u001b[1;32m~\\anaconda3\\envs\\mlops\\lib\\site-packages\\deepchecks\\core\\serialization\\suite_result\\widget.py:84\u001b[0m, in \u001b[0;36mSuiteResultSerializer.serialize\u001b[1;34m(self, output_id, **kwargs)\u001b[0m\n\u001b[0;32m     77\u001b[0m not_ran_checks \u001b[38;5;241m=\u001b[39m \u001b[38;5;28mself\u001b[39m\u001b[38;5;241m.\u001b[39mvalue\u001b[38;5;241m.\u001b[39mget_not_ran_checks()\n\u001b[0;32m     78\u001b[0m other_checks \u001b[38;5;241m=\u001b[39m t\u001b[38;5;241m.\u001b[39mcast(\n\u001b[0;32m     79\u001b[0m     t\u001b[38;5;241m.\u001b[39mList[check_types\u001b[38;5;241m.\u001b[39mCheckResult],\n\u001b[0;32m     80\u001b[0m     \u001b[38;5;28mself\u001b[39m\u001b[38;5;241m.\u001b[39mvalue\u001b[38;5;241m.\u001b[39mselect_results(\u001b[38;5;28mself\u001b[39m\u001b[38;5;241m.\u001b[39mvalue\u001b[38;5;241m.\u001b[39mresults_without_conditions)\n\u001b[0;32m     81\u001b[0m )\n\u001b[0;32m     83\u001b[0m accordions \u001b[38;5;241m=\u001b[39m [\n\u001b[1;32m---> 84\u001b[0m     \u001b[38;5;28mself\u001b[39m\u001b[38;5;241m.\u001b[39mprepare_results(\n\u001b[0;32m     85\u001b[0m         title\u001b[38;5;241m=\u001b[39m\u001b[38;5;124m'\u001b[39m\u001b[38;5;124mDidn\u001b[39m\u001b[38;5;130;01m\\'\u001b[39;00m\u001b[38;5;124mt Pass\u001b[39m\u001b[38;5;124m'\u001b[39m,\n\u001b[0;32m     86\u001b[0m         results\u001b[38;5;241m=\u001b[39mnot_passed_checks,\n\u001b[0;32m     87\u001b[0m         output_id\u001b[38;5;241m=\u001b[39moutput_id,\n\u001b[0;32m     88\u001b[0m         summary_creation_method\u001b[38;5;241m=\u001b[39m\u001b[38;5;28mself\u001b[39m\u001b[38;5;241m.\u001b[39mprepare_conditions_summary,\n\u001b[0;32m     89\u001b[0m         \u001b[38;5;241m*\u001b[39m\u001b[38;5;241m*\u001b[39mkwargs\n\u001b[0;32m     90\u001b[0m     ),\n\u001b[0;32m     91\u001b[0m     \u001b[38;5;28mself\u001b[39m\u001b[38;5;241m.\u001b[39mprepare_results(\n\u001b[0;32m     92\u001b[0m         title\u001b[38;5;241m=\u001b[39m\u001b[38;5;124m'\u001b[39m\u001b[38;5;124mPassed\u001b[39m\u001b[38;5;124m'\u001b[39m,\n\u001b[0;32m     93\u001b[0m         results\u001b[38;5;241m=\u001b[39mpassed_checks,\n\u001b[0;32m     94\u001b[0m         output_id\u001b[38;5;241m=\u001b[39moutput_id,\n\u001b[0;32m     95\u001b[0m         summary_creation_method\u001b[38;5;241m=\u001b[39m\u001b[38;5;28mself\u001b[39m\u001b[38;5;241m.\u001b[39mprepare_conditions_summary,\n\u001b[0;32m     96\u001b[0m         \u001b[38;5;241m*\u001b[39m\u001b[38;5;241m*\u001b[39mkwargs\n\u001b[0;32m     97\u001b[0m     ),\n\u001b[0;32m     98\u001b[0m     \u001b[38;5;28mself\u001b[39m\u001b[38;5;241m.\u001b[39mprepare_results(\n\u001b[0;32m     99\u001b[0m         title\u001b[38;5;241m=\u001b[39m\u001b[38;5;124m'\u001b[39m\u001b[38;5;124mOther\u001b[39m\u001b[38;5;124m'\u001b[39m,\n\u001b[0;32m    100\u001b[0m         results\u001b[38;5;241m=\u001b[39mother_checks,\n\u001b[0;32m    101\u001b[0m         output_id\u001b[38;5;241m=\u001b[39moutput_id,\n\u001b[0;32m    102\u001b[0m         summary_creation_method\u001b[38;5;241m=\u001b[39m\u001b[38;5;28mself\u001b[39m\u001b[38;5;241m.\u001b[39mprepare_unconditioned_results_summary,\n\u001b[0;32m    103\u001b[0m         check_sections\u001b[38;5;241m=\u001b[39m[\u001b[38;5;124m'\u001b[39m\u001b[38;5;124madditional-output\u001b[39m\u001b[38;5;124m'\u001b[39m],\n\u001b[0;32m    104\u001b[0m         \u001b[38;5;241m*\u001b[39m\u001b[38;5;241m*\u001b[39mkwargs\n\u001b[0;32m    105\u001b[0m     ),\n\u001b[0;32m    106\u001b[0m     \u001b[38;5;28mself\u001b[39m\u001b[38;5;241m.\u001b[39mprepare_failures(\n\u001b[0;32m    107\u001b[0m         title\u001b[38;5;241m=\u001b[39m\u001b[38;5;124m'\u001b[39m\u001b[38;5;124mDidn\u001b[39m\u001b[38;5;130;01m\\'\u001b[39;00m\u001b[38;5;124mt Run\u001b[39m\u001b[38;5;124m'\u001b[39m,\n\u001b[0;32m    108\u001b[0m         failures\u001b[38;5;241m=\u001b[39mnot_ran_checks,\n\u001b[0;32m    109\u001b[0m         output_id\u001b[38;5;241m=\u001b[39moutput_id,\n\u001b[0;32m    110\u001b[0m         \u001b[38;5;241m*\u001b[39m\u001b[38;5;241m*\u001b[39mkwargs\n\u001b[0;32m    111\u001b[0m     )\n\u001b[0;32m    112\u001b[0m ]\n\u001b[0;32m    114\u001b[0m content \u001b[38;5;241m=\u001b[39m VBox(children\u001b[38;5;241m=\u001b[39m[\n\u001b[0;32m    115\u001b[0m     \u001b[38;5;28mself\u001b[39m\u001b[38;5;241m.\u001b[39mprepare_summary(output_id\u001b[38;5;241m=\u001b[39moutput_id, \u001b[38;5;241m*\u001b[39m\u001b[38;5;241m*\u001b[39mkwargs),\n\u001b[0;32m    116\u001b[0m     \u001b[38;5;241m*\u001b[39maccordions\n\u001b[0;32m    117\u001b[0m ])\n\u001b[0;32m    118\u001b[0m \u001b[38;5;28;01mreturn\u001b[39;00m Accordion(\n\u001b[0;32m    119\u001b[0m     children\u001b[38;5;241m=\u001b[39m[content],\n\u001b[0;32m    120\u001b[0m     _titles\u001b[38;5;241m=\u001b[39m{\u001b[38;5;124m'\u001b[39m\u001b[38;5;124m0\u001b[39m\u001b[38;5;124m'\u001b[39m: \u001b[38;5;28mself\u001b[39m\u001b[38;5;241m.\u001b[39mvalue\u001b[38;5;241m.\u001b[39mname},\n\u001b[0;32m    121\u001b[0m     selected_index\u001b[38;5;241m=\u001b[39m\u001b[38;5;124m'\u001b[39m\u001b[38;5;124m0\u001b[39m\u001b[38;5;124m'\u001b[39m\n\u001b[0;32m    122\u001b[0m )\n",
      "File \u001b[1;32m~\\anaconda3\\envs\\mlops\\lib\\site-packages\\deepchecks\\core\\serialization\\suite_result\\widget.py:210\u001b[0m, in \u001b[0;36mSuiteResultSerializer.prepare_results\u001b[1;34m(self, results, title, output_id, summary_creation_method, **kwargs)\u001b[0m\n\u001b[0;32m    207\u001b[0m section_id \u001b[38;5;241m=\u001b[39m \u001b[38;5;124mf\u001b[39m\u001b[38;5;124m'\u001b[39m\u001b[38;5;132;01m{\u001b[39;00moutput_id\u001b[38;5;132;01m}\u001b[39;00m\u001b[38;5;124m-section-\u001b[39m\u001b[38;5;132;01m{\u001b[39;00mget_random_string()\u001b[38;5;132;01m}\u001b[39;00m\u001b[38;5;124m'\u001b[39m\n\u001b[0;32m    208\u001b[0m section_anchor \u001b[38;5;241m=\u001b[39m HTML(value\u001b[38;5;241m=\u001b[39m\u001b[38;5;124mf\u001b[39m\u001b[38;5;124m'\u001b[39m\u001b[38;5;124m<span id=\u001b[39m\u001b[38;5;124m\"\u001b[39m\u001b[38;5;132;01m{\u001b[39;00mform_output_anchor(section_id)\u001b[38;5;132;01m}\u001b[39;00m\u001b[38;5;124m\"\u001b[39m\u001b[38;5;124m></span>\u001b[39m\u001b[38;5;124m'\u001b[39m)\n\u001b[1;32m--> 210\u001b[0m serialized_results \u001b[38;5;241m=\u001b[39m [\n\u001b[0;32m    211\u001b[0m     select_serializer(it)\u001b[38;5;241m.\u001b[39mserialize(output_id\u001b[38;5;241m=\u001b[39msection_id, \u001b[38;5;241m*\u001b[39m\u001b[38;5;241m*\u001b[39mkwargs)\n\u001b[0;32m    212\u001b[0m     \u001b[38;5;28;01mfor\u001b[39;00m it \u001b[38;5;129;01min\u001b[39;00m results\n\u001b[0;32m    213\u001b[0m     \u001b[38;5;28;01mif\u001b[39;00m it\u001b[38;5;241m.\u001b[39mdisplay  \u001b[38;5;66;03m# we do not form full-output for the check results without display\u001b[39;00m\n\u001b[0;32m    214\u001b[0m ]\n\u001b[0;32m    216\u001b[0m \u001b[38;5;28;01mif\u001b[39;00m \u001b[38;5;28mcallable\u001b[39m(summary_creation_method):\n\u001b[0;32m    217\u001b[0m     children \u001b[38;5;241m=\u001b[39m (\n\u001b[0;32m    218\u001b[0m         summary_creation_method(results\u001b[38;5;241m=\u001b[39mresults, output_id\u001b[38;5;241m=\u001b[39msection_id, \u001b[38;5;241m*\u001b[39m\u001b[38;5;241m*\u001b[39mkwargs),\n\u001b[0;32m    219\u001b[0m         HTML(value\u001b[38;5;241m=\u001b[39mCommonHtml\u001b[38;5;241m.\u001b[39mlight_hr),\n\u001b[0;32m    220\u001b[0m         \u001b[38;5;241m*\u001b[39mjoin(serialized_results, HTML(value\u001b[38;5;241m=\u001b[39mCommonHtml\u001b[38;5;241m.\u001b[39mlight_hr))\n\u001b[0;32m    221\u001b[0m     )\n",
      "File \u001b[1;32m~\\anaconda3\\envs\\mlops\\lib\\site-packages\\deepchecks\\core\\serialization\\suite_result\\widget.py:211\u001b[0m, in \u001b[0;36m<listcomp>\u001b[1;34m(.0)\u001b[0m\n\u001b[0;32m    207\u001b[0m section_id \u001b[38;5;241m=\u001b[39m \u001b[38;5;124mf\u001b[39m\u001b[38;5;124m'\u001b[39m\u001b[38;5;132;01m{\u001b[39;00moutput_id\u001b[38;5;132;01m}\u001b[39;00m\u001b[38;5;124m-section-\u001b[39m\u001b[38;5;132;01m{\u001b[39;00mget_random_string()\u001b[38;5;132;01m}\u001b[39;00m\u001b[38;5;124m'\u001b[39m\n\u001b[0;32m    208\u001b[0m section_anchor \u001b[38;5;241m=\u001b[39m HTML(value\u001b[38;5;241m=\u001b[39m\u001b[38;5;124mf\u001b[39m\u001b[38;5;124m'\u001b[39m\u001b[38;5;124m<span id=\u001b[39m\u001b[38;5;124m\"\u001b[39m\u001b[38;5;132;01m{\u001b[39;00mform_output_anchor(section_id)\u001b[38;5;132;01m}\u001b[39;00m\u001b[38;5;124m\"\u001b[39m\u001b[38;5;124m></span>\u001b[39m\u001b[38;5;124m'\u001b[39m)\n\u001b[0;32m    210\u001b[0m serialized_results \u001b[38;5;241m=\u001b[39m [\n\u001b[1;32m--> 211\u001b[0m     select_serializer(it)\u001b[38;5;241m.\u001b[39mserialize(output_id\u001b[38;5;241m=\u001b[39msection_id, \u001b[38;5;241m*\u001b[39m\u001b[38;5;241m*\u001b[39mkwargs)\n\u001b[0;32m    212\u001b[0m     \u001b[38;5;28;01mfor\u001b[39;00m it \u001b[38;5;129;01min\u001b[39;00m results\n\u001b[0;32m    213\u001b[0m     \u001b[38;5;28;01mif\u001b[39;00m it\u001b[38;5;241m.\u001b[39mdisplay  \u001b[38;5;66;03m# we do not form full-output for the check results without display\u001b[39;00m\n\u001b[0;32m    214\u001b[0m ]\n\u001b[0;32m    216\u001b[0m \u001b[38;5;28;01mif\u001b[39;00m \u001b[38;5;28mcallable\u001b[39m(summary_creation_method):\n\u001b[0;32m    217\u001b[0m     children \u001b[38;5;241m=\u001b[39m (\n\u001b[0;32m    218\u001b[0m         summary_creation_method(results\u001b[38;5;241m=\u001b[39mresults, output_id\u001b[38;5;241m=\u001b[39msection_id, \u001b[38;5;241m*\u001b[39m\u001b[38;5;241m*\u001b[39mkwargs),\n\u001b[0;32m    219\u001b[0m         HTML(value\u001b[38;5;241m=\u001b[39mCommonHtml\u001b[38;5;241m.\u001b[39mlight_hr),\n\u001b[0;32m    220\u001b[0m         \u001b[38;5;241m*\u001b[39mjoin(serialized_results, HTML(value\u001b[38;5;241m=\u001b[39mCommonHtml\u001b[38;5;241m.\u001b[39mlight_hr))\n\u001b[0;32m    221\u001b[0m     )\n",
      "File \u001b[1;32m~\\anaconda3\\envs\\mlops\\lib\\site-packages\\deepchecks\\core\\serialization\\check_result\\widget.py:85\u001b[0m, in \u001b[0;36mCheckResultSerializer.serialize\u001b[1;34m(self, output_id, check_sections, plotly_to_image, is_for_iframe_with_srcdoc, **kwargs)\u001b[0m\n\u001b[0;32m     80\u001b[0m     sections\u001b[38;5;241m.\u001b[39mappend(\u001b[38;5;28mself\u001b[39m\u001b[38;5;241m.\u001b[39mprepare_conditions_table(\n\u001b[0;32m     81\u001b[0m         output_id\u001b[38;5;241m=\u001b[39moutput_id\n\u001b[0;32m     82\u001b[0m     ))\n\u001b[0;32m     84\u001b[0m \u001b[38;5;28;01mif\u001b[39;00m \u001b[38;5;124m'\u001b[39m\u001b[38;5;124madditional-output\u001b[39m\u001b[38;5;124m'\u001b[39m \u001b[38;5;129;01min\u001b[39;00m sections_to_include:\n\u001b[1;32m---> 85\u001b[0m     sections\u001b[38;5;241m.\u001b[39mappend(\u001b[38;5;28;43mself\u001b[39;49m\u001b[38;5;241;43m.\u001b[39;49m\u001b[43mprepare_additional_output\u001b[49m\u001b[43m(\u001b[49m\n\u001b[0;32m     86\u001b[0m \u001b[43m        \u001b[49m\u001b[43moutput_id\u001b[49m\u001b[38;5;241;43m=\u001b[39;49m\u001b[43moutput_id\u001b[49m\u001b[43m,\u001b[49m\n\u001b[0;32m     87\u001b[0m \u001b[43m        \u001b[49m\u001b[43mplotly_to_image\u001b[49m\u001b[38;5;241;43m=\u001b[39;49m\u001b[43mplotly_to_image\u001b[49m\u001b[43m,\u001b[49m\n\u001b[0;32m     88\u001b[0m \u001b[43m        \u001b[49m\u001b[43mis_for_iframe_with_srcdoc\u001b[49m\u001b[38;5;241;43m=\u001b[39;49m\u001b[43mis_for_iframe_with_srcdoc\u001b[49m\n\u001b[0;32m     89\u001b[0m \u001b[43m    \u001b[49m\u001b[43m)\u001b[49m)\n\u001b[0;32m     91\u001b[0m \u001b[38;5;28;01mreturn\u001b[39;00m normalize_widget_style(VBox(children\u001b[38;5;241m=\u001b[39msections))\n",
      "File \u001b[1;32m~\\anaconda3\\envs\\mlops\\lib\\site-packages\\deepchecks\\core\\serialization\\check_result\\widget.py:156\u001b[0m, in \u001b[0;36mCheckResultSerializer.prepare_additional_output\u001b[1;34m(self, output_id, plotly_to_image, is_for_iframe_with_srcdoc)\u001b[0m\n\u001b[0;32m    133\u001b[0m \u001b[38;5;28;01mdef\u001b[39;00m \u001b[38;5;21mprepare_additional_output\u001b[39m(\n\u001b[0;32m    134\u001b[0m     \u001b[38;5;28mself\u001b[39m,\n\u001b[0;32m    135\u001b[0m     output_id: t\u001b[38;5;241m.\u001b[39mOptional[\u001b[38;5;28mstr\u001b[39m] \u001b[38;5;241m=\u001b[39m \u001b[38;5;28;01mNone\u001b[39;00m,\n\u001b[0;32m    136\u001b[0m     plotly_to_image: \u001b[38;5;28mbool\u001b[39m \u001b[38;5;241m=\u001b[39m \u001b[38;5;28;01mFalse\u001b[39;00m,\n\u001b[0;32m    137\u001b[0m     is_for_iframe_with_srcdoc: \u001b[38;5;28mbool\u001b[39m \u001b[38;5;241m=\u001b[39m \u001b[38;5;28;01mFalse\u001b[39;00m\n\u001b[0;32m    138\u001b[0m ) \u001b[38;5;241m-\u001b[39m\u001b[38;5;241m>\u001b[39m VBox:\n\u001b[0;32m    139\u001b[0m \u001b[38;5;250m    \u001b[39m\u001b[38;5;124;03m\"\"\"Prepare additional output widget.\u001b[39;00m\n\u001b[0;32m    140\u001b[0m \n\u001b[0;32m    141\u001b[0m \u001b[38;5;124;03m    Parameters\u001b[39;00m\n\u001b[1;32m   (...)\u001b[0m\n\u001b[0;32m    154\u001b[0m \u001b[38;5;124;03m    ipywidgets.VBox\u001b[39;00m\n\u001b[0;32m    155\u001b[0m \u001b[38;5;124;03m    \"\"\"\u001b[39;00m\n\u001b[1;32m--> 156\u001b[0m     \u001b[38;5;28;01mreturn\u001b[39;00m VBox(children\u001b[38;5;241m=\u001b[39m\u001b[43mDisplayItemsHandler\u001b[49m\u001b[38;5;241;43m.\u001b[39;49m\u001b[43mhandle_display\u001b[49m\u001b[43m(\u001b[49m\n\u001b[0;32m    157\u001b[0m \u001b[43m        \u001b[49m\u001b[43mdisplay\u001b[49m\u001b[38;5;241;43m=\u001b[39;49m\u001b[38;5;28;43mself\u001b[39;49m\u001b[38;5;241;43m.\u001b[39;49m\u001b[43mvalue\u001b[49m\u001b[38;5;241;43m.\u001b[39;49m\u001b[43mdisplay\u001b[49m\u001b[43m,\u001b[49m\n\u001b[0;32m    158\u001b[0m \u001b[43m        \u001b[49m\u001b[43moutput_id\u001b[49m\u001b[38;5;241;43m=\u001b[39;49m\u001b[43moutput_id\u001b[49m\u001b[43m,\u001b[49m\n\u001b[0;32m    159\u001b[0m \u001b[43m        \u001b[49m\u001b[43mplotly_to_image\u001b[49m\u001b[38;5;241;43m=\u001b[39;49m\u001b[43mplotly_to_image\u001b[49m\u001b[43m,\u001b[49m\n\u001b[0;32m    160\u001b[0m \u001b[43m        \u001b[49m\u001b[43mis_for_iframe_with_srcdoc\u001b[49m\u001b[38;5;241;43m=\u001b[39;49m\u001b[43mis_for_iframe_with_srcdoc\u001b[49m\n\u001b[0;32m    161\u001b[0m \u001b[43m    \u001b[49m\u001b[43m)\u001b[49m)\n",
      "File \u001b[1;32m~\\anaconda3\\envs\\mlops\\lib\\site-packages\\deepchecks\\core\\serialization\\check_result\\widget.py:193\u001b[0m, in \u001b[0;36mDisplayItemsHandler.handle_display\u001b[1;34m(cls, display, output_id, include_header, include_trailing_link, **kwargs)\u001b[0m\n\u001b[0;32m    167\u001b[0m \u001b[38;5;129m@classmethod\u001b[39m\n\u001b[0;32m    168\u001b[0m \u001b[38;5;28;01mdef\u001b[39;00m \u001b[38;5;21mhandle_display\u001b[39m(\n\u001b[0;32m    169\u001b[0m     \u001b[38;5;28mcls\u001b[39m,\n\u001b[1;32m   (...)\u001b[0m\n\u001b[0;32m    174\u001b[0m     \u001b[38;5;241m*\u001b[39m\u001b[38;5;241m*\u001b[39mkwargs\n\u001b[0;32m    175\u001b[0m ) \u001b[38;5;241m-\u001b[39m\u001b[38;5;241m>\u001b[39m t\u001b[38;5;241m.\u001b[39mList[Widget]:\n\u001b[0;32m    176\u001b[0m \u001b[38;5;250m    \u001b[39m\u001b[38;5;124;03m\"\"\"Serialize CheckResult display items into list if Widget instances.\u001b[39;00m\n\u001b[0;32m    177\u001b[0m \n\u001b[0;32m    178\u001b[0m \u001b[38;5;124;03m    Parameters\u001b[39;00m\n\u001b[1;32m   (...)\u001b[0m\n\u001b[0;32m    191\u001b[0m \u001b[38;5;124;03m    List[Widget]\u001b[39;00m\n\u001b[0;32m    192\u001b[0m \u001b[38;5;124;03m    \"\"\"\u001b[39;00m\n\u001b[1;32m--> 193\u001b[0m     \u001b[38;5;28;01mreturn\u001b[39;00m t\u001b[38;5;241m.\u001b[39mcast(t\u001b[38;5;241m.\u001b[39mList[Widget], \u001b[38;5;28msuper\u001b[39m()\u001b[38;5;241m.\u001b[39mhandle_display(\n\u001b[0;32m    194\u001b[0m         display\u001b[38;5;241m=\u001b[39mdisplay,\n\u001b[0;32m    195\u001b[0m         output_id\u001b[38;5;241m=\u001b[39moutput_id,\n\u001b[0;32m    196\u001b[0m         include_header\u001b[38;5;241m=\u001b[39minclude_header,\n\u001b[0;32m    197\u001b[0m         include_trailing_link\u001b[38;5;241m=\u001b[39minclude_trailing_link,\n\u001b[0;32m    198\u001b[0m         \u001b[38;5;241m*\u001b[39m\u001b[38;5;241m*\u001b[39mkwargs\n\u001b[0;32m    199\u001b[0m     ))\n",
      "File \u001b[1;32m~\\anaconda3\\envs\\mlops\\lib\\site-packages\\deepchecks\\core\\serialization\\check_result\\html.py:242\u001b[0m, in \u001b[0;36mDisplayItemsHandler.handle_display\u001b[1;34m(cls, display, output_id, is_for_iframe_with_srcdoc, include_header, include_trailing_link, **kwargs)\u001b[0m\n\u001b[0;32m    220\u001b[0m \u001b[38;5;250m\u001b[39m\u001b[38;5;124;03m\"\"\"Serialize CheckResult display items into HTML.\u001b[39;00m\n\u001b[0;32m    221\u001b[0m \n\u001b[0;32m    222\u001b[0m \u001b[38;5;124;03mParameters\u001b[39;00m\n\u001b[1;32m   (...)\u001b[0m\n\u001b[0;32m    239\u001b[0m \u001b[38;5;124;03mList[str]\u001b[39;00m\n\u001b[0;32m    240\u001b[0m \u001b[38;5;124;03m\"\"\"\u001b[39;00m\n\u001b[0;32m    241\u001b[0m output \u001b[38;5;241m=\u001b[39m [\u001b[38;5;28mcls\u001b[39m\u001b[38;5;241m.\u001b[39mheader()] \u001b[38;5;28;01mif\u001b[39;00m include_header \u001b[38;5;28;01melse\u001b[39;00m []\n\u001b[1;32m--> 242\u001b[0m output\u001b[38;5;241m.\u001b[39mextend(\u001b[38;5;28msuper\u001b[39m()\u001b[38;5;241m.\u001b[39mhandle_display(display, \u001b[38;5;241m*\u001b[39m\u001b[38;5;241m*\u001b[39m{\u001b[38;5;124m'\u001b[39m\u001b[38;5;124moutput_id\u001b[39m\u001b[38;5;124m'\u001b[39m: output_id, \u001b[38;5;241m*\u001b[39m\u001b[38;5;241m*\u001b[39mkwargs}))\n\u001b[0;32m    244\u001b[0m \u001b[38;5;28;01mif\u001b[39;00m \u001b[38;5;28mlen\u001b[39m(display) \u001b[38;5;241m==\u001b[39m \u001b[38;5;241m0\u001b[39m:\n\u001b[0;32m    245\u001b[0m     output\u001b[38;5;241m.\u001b[39mappend(\u001b[38;5;28mcls\u001b[39m\u001b[38;5;241m.\u001b[39mempty_content_placeholder())\n",
      "File \u001b[1;32m~\\anaconda3\\envs\\mlops\\lib\\site-packages\\deepchecks\\core\\serialization\\abc.py:210\u001b[0m, in \u001b[0;36mABCDisplayItemsHandler.handle_display\u001b[1;34m(cls, display, **kwargs)\u001b[0m\n\u001b[0;32m    192\u001b[0m \u001b[38;5;129m@classmethod\u001b[39m\n\u001b[0;32m    193\u001b[0m \u001b[38;5;129m@abc\u001b[39m\u001b[38;5;241m.\u001b[39mabstractmethod\n\u001b[0;32m    194\u001b[0m \u001b[38;5;28;01mdef\u001b[39;00m \u001b[38;5;21mhandle_display\u001b[39m(\n\u001b[1;32m   (...)\u001b[0m\n\u001b[0;32m    197\u001b[0m     \u001b[38;5;241m*\u001b[39m\u001b[38;5;241m*\u001b[39mkwargs\n\u001b[0;32m    198\u001b[0m ) \u001b[38;5;241m-\u001b[39m\u001b[38;5;241m>\u001b[39m t\u001b[38;5;241m.\u001b[39mList[t\u001b[38;5;241m.\u001b[39mAny]:\n\u001b[0;32m    199\u001b[0m \u001b[38;5;250m    \u001b[39m\u001b[38;5;124;03m\"\"\"Serialize list of display items.\u001b[39;00m\n\u001b[0;32m    200\u001b[0m \n\u001b[0;32m    201\u001b[0m \u001b[38;5;124;03m    Parameters\u001b[39;00m\n\u001b[1;32m   (...)\u001b[0m\n\u001b[0;32m    208\u001b[0m \u001b[38;5;124;03m    List[Any]\u001b[39;00m\n\u001b[0;32m    209\u001b[0m \u001b[38;5;124;03m    \"\"\"\u001b[39;00m\n\u001b[1;32m--> 210\u001b[0m     \u001b[38;5;28;01mreturn\u001b[39;00m [\u001b[38;5;28mcls\u001b[39m\u001b[38;5;241m.\u001b[39mhandle_item(it, index, \u001b[38;5;241m*\u001b[39m\u001b[38;5;241m*\u001b[39mkwargs) \u001b[38;5;28;01mfor\u001b[39;00m index, it \u001b[38;5;129;01min\u001b[39;00m \u001b[38;5;28menumerate\u001b[39m(display)]\n",
      "File \u001b[1;32m~\\anaconda3\\envs\\mlops\\lib\\site-packages\\deepchecks\\core\\serialization\\abc.py:210\u001b[0m, in \u001b[0;36m<listcomp>\u001b[1;34m(.0)\u001b[0m\n\u001b[0;32m    192\u001b[0m \u001b[38;5;129m@classmethod\u001b[39m\n\u001b[0;32m    193\u001b[0m \u001b[38;5;129m@abc\u001b[39m\u001b[38;5;241m.\u001b[39mabstractmethod\n\u001b[0;32m    194\u001b[0m \u001b[38;5;28;01mdef\u001b[39;00m \u001b[38;5;21mhandle_display\u001b[39m(\n\u001b[1;32m   (...)\u001b[0m\n\u001b[0;32m    197\u001b[0m     \u001b[38;5;241m*\u001b[39m\u001b[38;5;241m*\u001b[39mkwargs\n\u001b[0;32m    198\u001b[0m ) \u001b[38;5;241m-\u001b[39m\u001b[38;5;241m>\u001b[39m t\u001b[38;5;241m.\u001b[39mList[t\u001b[38;5;241m.\u001b[39mAny]:\n\u001b[0;32m    199\u001b[0m \u001b[38;5;250m    \u001b[39m\u001b[38;5;124;03m\"\"\"Serialize list of display items.\u001b[39;00m\n\u001b[0;32m    200\u001b[0m \n\u001b[0;32m    201\u001b[0m \u001b[38;5;124;03m    Parameters\u001b[39;00m\n\u001b[1;32m   (...)\u001b[0m\n\u001b[0;32m    208\u001b[0m \u001b[38;5;124;03m    List[Any]\u001b[39;00m\n\u001b[0;32m    209\u001b[0m \u001b[38;5;124;03m    \"\"\"\u001b[39;00m\n\u001b[1;32m--> 210\u001b[0m     \u001b[38;5;28;01mreturn\u001b[39;00m [\u001b[38;5;28mcls\u001b[39m\u001b[38;5;241m.\u001b[39mhandle_item(it, index, \u001b[38;5;241m*\u001b[39m\u001b[38;5;241m*\u001b[39mkwargs) \u001b[38;5;28;01mfor\u001b[39;00m index, it \u001b[38;5;129;01min\u001b[39;00m \u001b[38;5;28menumerate\u001b[39m(display)]\n",
      "File \u001b[1;32m~\\anaconda3\\envs\\mlops\\lib\\site-packages\\deepchecks\\core\\serialization\\abc.py:223\u001b[0m, in \u001b[0;36mABCDisplayItemsHandler.handle_item\u001b[1;34m(cls, item, index, **kwargs)\u001b[0m\n\u001b[0;32m    221\u001b[0m     \u001b[38;5;28;01mreturn\u001b[39;00m \u001b[38;5;28mcls\u001b[39m\u001b[38;5;241m.\u001b[39mhandle_figure(item, index, \u001b[38;5;241m*\u001b[39m\u001b[38;5;241m*\u001b[39mkwargs)\n\u001b[0;32m    222\u001b[0m \u001b[38;5;28;01melif\u001b[39;00m \u001b[38;5;28misinstance\u001b[39m(item, check_types\u001b[38;5;241m.\u001b[39mDisplayMap):\n\u001b[1;32m--> 223\u001b[0m     \u001b[38;5;28;01mreturn\u001b[39;00m \u001b[38;5;28mcls\u001b[39m\u001b[38;5;241m.\u001b[39mhandle_display_map(item, index, \u001b[38;5;241m*\u001b[39m\u001b[38;5;241m*\u001b[39mkwargs)\n\u001b[0;32m    224\u001b[0m \u001b[38;5;28;01melif\u001b[39;00m \u001b[38;5;28mcallable\u001b[39m(item):\n\u001b[0;32m    225\u001b[0m     \u001b[38;5;28;01mreturn\u001b[39;00m \u001b[38;5;28mcls\u001b[39m\u001b[38;5;241m.\u001b[39mhandle_callable(item, index, \u001b[38;5;241m*\u001b[39m\u001b[38;5;241m*\u001b[39mkwargs)\n",
      "File \u001b[1;32m~\\anaconda3\\envs\\mlops\\lib\\site-packages\\deepchecks\\core\\serialization\\check_result\\widget.py:254\u001b[0m, in \u001b[0;36mDisplayItemsHandler.handle_display_map\u001b[1;34m(cls, item, index, **kwargs)\u001b[0m\n\u001b[0;32m    251\u001b[0m children \u001b[38;5;241m=\u001b[39m []\n\u001b[0;32m    253\u001b[0m \u001b[38;5;28;01mfor\u001b[39;00m i, (name, display) \u001b[38;5;129;01min\u001b[39;00m \u001b[38;5;28menumerate\u001b[39m(item\u001b[38;5;241m.\u001b[39mitems()):\n\u001b[1;32m--> 254\u001b[0m     \u001b[43mtab\u001b[49m\u001b[38;5;241;43m.\u001b[39;49m\u001b[43mset_title\u001b[49m\u001b[43m(\u001b[49m\u001b[43mi\u001b[49m\u001b[43m,\u001b[49m\u001b[43m \u001b[49m\u001b[43mname\u001b[49m\u001b[43m)\u001b[49m\n\u001b[0;32m    255\u001b[0m     children\u001b[38;5;241m.\u001b[39mappend(VBox(children\u001b[38;5;241m=\u001b[39m\u001b[38;5;28mcls\u001b[39m\u001b[38;5;241m.\u001b[39mhandle_display(\n\u001b[0;32m    256\u001b[0m         display,\n\u001b[0;32m    257\u001b[0m         include_header\u001b[38;5;241m=\u001b[39m\u001b[38;5;28;01mFalse\u001b[39;00m,\n\u001b[0;32m    258\u001b[0m         include_trailing_link\u001b[38;5;241m=\u001b[39m\u001b[38;5;28;01mFalse\u001b[39;00m,\n\u001b[0;32m    259\u001b[0m         \u001b[38;5;241m*\u001b[39m\u001b[38;5;241m*\u001b[39mkwargs\n\u001b[0;32m    260\u001b[0m     )))\n\u001b[0;32m    262\u001b[0m tab\u001b[38;5;241m.\u001b[39mchildren \u001b[38;5;241m=\u001b[39m children\n",
      "File \u001b[1;32m~\\anaconda3\\envs\\mlops\\lib\\site-packages\\ipywidgets\\widgets\\widget_selectioncontainer.py:69\u001b[0m, in \u001b[0;36m_SelectionContainer.set_title\u001b[1;34m(self, index, title)\u001b[0m\n\u001b[0;32m     67\u001b[0m \u001b[38;5;28;01mif\u001b[39;00m title \u001b[38;5;129;01mis\u001b[39;00m \u001b[38;5;28;01mNone\u001b[39;00m:\n\u001b[0;32m     68\u001b[0m     title \u001b[38;5;241m=\u001b[39m \u001b[38;5;124m'\u001b[39m\u001b[38;5;124m'\u001b[39m\n\u001b[1;32m---> 69\u001b[0m titles[index]\u001b[38;5;241m=\u001b[39mtitle\n\u001b[0;32m     70\u001b[0m \u001b[38;5;28mself\u001b[39m\u001b[38;5;241m.\u001b[39mtitles \u001b[38;5;241m=\u001b[39m \u001b[38;5;28mtuple\u001b[39m(titles)\n",
      "\u001b[1;31mIndexError\u001b[0m: list assignment index out of range"
     ]
    },
    {
     "ename": "IndexError",
     "evalue": "list assignment index out of range",
     "output_type": "error",
     "traceback": [
      "\u001b[1;31m---------------------------------------------------------------------------\u001b[0m",
      "\u001b[1;31mIndexError\u001b[0m                                Traceback (most recent call last)",
      "File \u001b[1;32m~\\anaconda3\\envs\\mlops\\lib\\site-packages\\IPython\\core\\formatters.py:344\u001b[0m, in \u001b[0;36mBaseFormatter.__call__\u001b[1;34m(self, obj)\u001b[0m\n\u001b[0;32m    342\u001b[0m     method \u001b[38;5;241m=\u001b[39m get_real_method(obj, \u001b[38;5;28mself\u001b[39m\u001b[38;5;241m.\u001b[39mprint_method)\n\u001b[0;32m    343\u001b[0m     \u001b[38;5;28;01mif\u001b[39;00m method \u001b[38;5;129;01mis\u001b[39;00m \u001b[38;5;129;01mnot\u001b[39;00m \u001b[38;5;28;01mNone\u001b[39;00m:\n\u001b[1;32m--> 344\u001b[0m         \u001b[38;5;28;01mreturn\u001b[39;00m \u001b[43mmethod\u001b[49m\u001b[43m(\u001b[49m\u001b[43m)\u001b[49m\n\u001b[0;32m    345\u001b[0m     \u001b[38;5;28;01mreturn\u001b[39;00m \u001b[38;5;28;01mNone\u001b[39;00m\n\u001b[0;32m    346\u001b[0m \u001b[38;5;28;01melse\u001b[39;00m:\n",
      "File \u001b[1;32m~\\anaconda3\\envs\\mlops\\lib\\site-packages\\deepchecks\\core\\suite.py:131\u001b[0m, in \u001b[0;36mSuiteResult._repr_html_\u001b[1;34m(self, unique_id, requirejs)\u001b[0m\n\u001b[0;32m    124\u001b[0m \u001b[38;5;28;01mdef\u001b[39;00m \u001b[38;5;21m_repr_html_\u001b[39m(\n\u001b[0;32m    125\u001b[0m     \u001b[38;5;28mself\u001b[39m,\n\u001b[0;32m    126\u001b[0m     unique_id: Optional[\u001b[38;5;28mstr\u001b[39m] \u001b[38;5;241m=\u001b[39m \u001b[38;5;28;01mNone\u001b[39;00m,\n\u001b[0;32m    127\u001b[0m     requirejs: \u001b[38;5;28mbool\u001b[39m \u001b[38;5;241m=\u001b[39m \u001b[38;5;28;01mFalse\u001b[39;00m,\n\u001b[0;32m    128\u001b[0m ) \u001b[38;5;241m-\u001b[39m\u001b[38;5;241m>\u001b[39m \u001b[38;5;28mstr\u001b[39m:\n\u001b[0;32m    129\u001b[0m \u001b[38;5;250m    \u001b[39m\u001b[38;5;124;03m\"\"\"Return html representation of check result.\"\"\"\u001b[39;00m\n\u001b[0;32m    130\u001b[0m     \u001b[38;5;28;01mreturn\u001b[39;00m widget_to_html_string(\n\u001b[1;32m--> 131\u001b[0m         \u001b[38;5;28;43mself\u001b[39;49m\u001b[38;5;241;43m.\u001b[39;49m\u001b[43mto_widget\u001b[49m\u001b[43m(\u001b[49m\u001b[43munique_id\u001b[49m\u001b[38;5;241;43m=\u001b[39;49m\u001b[43munique_id\u001b[49m\u001b[43m \u001b[49m\u001b[38;5;129;43;01mor\u001b[39;49;00m\u001b[43m \u001b[49m\u001b[43mget_random_string\u001b[49m\u001b[43m(\u001b[49m\u001b[43mn\u001b[49m\u001b[38;5;241;43m=\u001b[39;49m\u001b[38;5;241;43m25\u001b[39;49m\u001b[43m)\u001b[49m\u001b[43m)\u001b[49m,\n\u001b[0;32m    132\u001b[0m         title\u001b[38;5;241m=\u001b[39m\u001b[38;5;28mself\u001b[39m\u001b[38;5;241m.\u001b[39mname,\n\u001b[0;32m    133\u001b[0m         requirejs\u001b[38;5;241m=\u001b[39mrequirejs\n\u001b[0;32m    134\u001b[0m     )\n",
      "File \u001b[1;32m~\\anaconda3\\envs\\mlops\\lib\\site-packages\\deepchecks\\core\\suite.py:357\u001b[0m, in \u001b[0;36mSuiteResult.to_widget\u001b[1;34m(self, unique_id, **kwargs)\u001b[0m\n\u001b[0;32m    345\u001b[0m \u001b[38;5;250m\u001b[39m\u001b[38;5;124;03m\"\"\"Return SuiteResult as a ipywidgets.Widget instance.\u001b[39;00m\n\u001b[0;32m    346\u001b[0m \n\u001b[0;32m    347\u001b[0m \u001b[38;5;124;03mParameters\u001b[39;00m\n\u001b[1;32m   (...)\u001b[0m\n\u001b[0;32m    354\u001b[0m \u001b[38;5;124;03mWidget\u001b[39;00m\n\u001b[0;32m    355\u001b[0m \u001b[38;5;124;03m\"\"\"\u001b[39;00m\n\u001b[0;32m    356\u001b[0m output_id \u001b[38;5;241m=\u001b[39m unique_id \u001b[38;5;129;01mor\u001b[39;00m get_random_string(n\u001b[38;5;241m=\u001b[39m\u001b[38;5;241m25\u001b[39m)\n\u001b[1;32m--> 357\u001b[0m \u001b[38;5;28;01mreturn\u001b[39;00m \u001b[43mSuiteResultWidgetSerializer\u001b[49m\u001b[43m(\u001b[49m\u001b[38;5;28;43mself\u001b[39;49m\u001b[43m)\u001b[49m\u001b[38;5;241;43m.\u001b[39;49m\u001b[43mserialize\u001b[49m\u001b[43m(\u001b[49m\u001b[43moutput_id\u001b[49m\u001b[38;5;241;43m=\u001b[39;49m\u001b[43moutput_id\u001b[49m\u001b[43m)\u001b[49m\n",
      "File \u001b[1;32m~\\anaconda3\\envs\\mlops\\lib\\site-packages\\deepchecks\\core\\serialization\\suite_result\\widget.py:84\u001b[0m, in \u001b[0;36mSuiteResultSerializer.serialize\u001b[1;34m(self, output_id, **kwargs)\u001b[0m\n\u001b[0;32m     77\u001b[0m not_ran_checks \u001b[38;5;241m=\u001b[39m \u001b[38;5;28mself\u001b[39m\u001b[38;5;241m.\u001b[39mvalue\u001b[38;5;241m.\u001b[39mget_not_ran_checks()\n\u001b[0;32m     78\u001b[0m other_checks \u001b[38;5;241m=\u001b[39m t\u001b[38;5;241m.\u001b[39mcast(\n\u001b[0;32m     79\u001b[0m     t\u001b[38;5;241m.\u001b[39mList[check_types\u001b[38;5;241m.\u001b[39mCheckResult],\n\u001b[0;32m     80\u001b[0m     \u001b[38;5;28mself\u001b[39m\u001b[38;5;241m.\u001b[39mvalue\u001b[38;5;241m.\u001b[39mselect_results(\u001b[38;5;28mself\u001b[39m\u001b[38;5;241m.\u001b[39mvalue\u001b[38;5;241m.\u001b[39mresults_without_conditions)\n\u001b[0;32m     81\u001b[0m )\n\u001b[0;32m     83\u001b[0m accordions \u001b[38;5;241m=\u001b[39m [\n\u001b[1;32m---> 84\u001b[0m     \u001b[38;5;28mself\u001b[39m\u001b[38;5;241m.\u001b[39mprepare_results(\n\u001b[0;32m     85\u001b[0m         title\u001b[38;5;241m=\u001b[39m\u001b[38;5;124m'\u001b[39m\u001b[38;5;124mDidn\u001b[39m\u001b[38;5;130;01m\\'\u001b[39;00m\u001b[38;5;124mt Pass\u001b[39m\u001b[38;5;124m'\u001b[39m,\n\u001b[0;32m     86\u001b[0m         results\u001b[38;5;241m=\u001b[39mnot_passed_checks,\n\u001b[0;32m     87\u001b[0m         output_id\u001b[38;5;241m=\u001b[39moutput_id,\n\u001b[0;32m     88\u001b[0m         summary_creation_method\u001b[38;5;241m=\u001b[39m\u001b[38;5;28mself\u001b[39m\u001b[38;5;241m.\u001b[39mprepare_conditions_summary,\n\u001b[0;32m     89\u001b[0m         \u001b[38;5;241m*\u001b[39m\u001b[38;5;241m*\u001b[39mkwargs\n\u001b[0;32m     90\u001b[0m     ),\n\u001b[0;32m     91\u001b[0m     \u001b[38;5;28mself\u001b[39m\u001b[38;5;241m.\u001b[39mprepare_results(\n\u001b[0;32m     92\u001b[0m         title\u001b[38;5;241m=\u001b[39m\u001b[38;5;124m'\u001b[39m\u001b[38;5;124mPassed\u001b[39m\u001b[38;5;124m'\u001b[39m,\n\u001b[0;32m     93\u001b[0m         results\u001b[38;5;241m=\u001b[39mpassed_checks,\n\u001b[0;32m     94\u001b[0m         output_id\u001b[38;5;241m=\u001b[39moutput_id,\n\u001b[0;32m     95\u001b[0m         summary_creation_method\u001b[38;5;241m=\u001b[39m\u001b[38;5;28mself\u001b[39m\u001b[38;5;241m.\u001b[39mprepare_conditions_summary,\n\u001b[0;32m     96\u001b[0m         \u001b[38;5;241m*\u001b[39m\u001b[38;5;241m*\u001b[39mkwargs\n\u001b[0;32m     97\u001b[0m     ),\n\u001b[0;32m     98\u001b[0m     \u001b[38;5;28mself\u001b[39m\u001b[38;5;241m.\u001b[39mprepare_results(\n\u001b[0;32m     99\u001b[0m         title\u001b[38;5;241m=\u001b[39m\u001b[38;5;124m'\u001b[39m\u001b[38;5;124mOther\u001b[39m\u001b[38;5;124m'\u001b[39m,\n\u001b[0;32m    100\u001b[0m         results\u001b[38;5;241m=\u001b[39mother_checks,\n\u001b[0;32m    101\u001b[0m         output_id\u001b[38;5;241m=\u001b[39moutput_id,\n\u001b[0;32m    102\u001b[0m         summary_creation_method\u001b[38;5;241m=\u001b[39m\u001b[38;5;28mself\u001b[39m\u001b[38;5;241m.\u001b[39mprepare_unconditioned_results_summary,\n\u001b[0;32m    103\u001b[0m         check_sections\u001b[38;5;241m=\u001b[39m[\u001b[38;5;124m'\u001b[39m\u001b[38;5;124madditional-output\u001b[39m\u001b[38;5;124m'\u001b[39m],\n\u001b[0;32m    104\u001b[0m         \u001b[38;5;241m*\u001b[39m\u001b[38;5;241m*\u001b[39mkwargs\n\u001b[0;32m    105\u001b[0m     ),\n\u001b[0;32m    106\u001b[0m     \u001b[38;5;28mself\u001b[39m\u001b[38;5;241m.\u001b[39mprepare_failures(\n\u001b[0;32m    107\u001b[0m         title\u001b[38;5;241m=\u001b[39m\u001b[38;5;124m'\u001b[39m\u001b[38;5;124mDidn\u001b[39m\u001b[38;5;130;01m\\'\u001b[39;00m\u001b[38;5;124mt Run\u001b[39m\u001b[38;5;124m'\u001b[39m,\n\u001b[0;32m    108\u001b[0m         failures\u001b[38;5;241m=\u001b[39mnot_ran_checks,\n\u001b[0;32m    109\u001b[0m         output_id\u001b[38;5;241m=\u001b[39moutput_id,\n\u001b[0;32m    110\u001b[0m         \u001b[38;5;241m*\u001b[39m\u001b[38;5;241m*\u001b[39mkwargs\n\u001b[0;32m    111\u001b[0m     )\n\u001b[0;32m    112\u001b[0m ]\n\u001b[0;32m    114\u001b[0m content \u001b[38;5;241m=\u001b[39m VBox(children\u001b[38;5;241m=\u001b[39m[\n\u001b[0;32m    115\u001b[0m     \u001b[38;5;28mself\u001b[39m\u001b[38;5;241m.\u001b[39mprepare_summary(output_id\u001b[38;5;241m=\u001b[39moutput_id, \u001b[38;5;241m*\u001b[39m\u001b[38;5;241m*\u001b[39mkwargs),\n\u001b[0;32m    116\u001b[0m     \u001b[38;5;241m*\u001b[39maccordions\n\u001b[0;32m    117\u001b[0m ])\n\u001b[0;32m    118\u001b[0m \u001b[38;5;28;01mreturn\u001b[39;00m Accordion(\n\u001b[0;32m    119\u001b[0m     children\u001b[38;5;241m=\u001b[39m[content],\n\u001b[0;32m    120\u001b[0m     _titles\u001b[38;5;241m=\u001b[39m{\u001b[38;5;124m'\u001b[39m\u001b[38;5;124m0\u001b[39m\u001b[38;5;124m'\u001b[39m: \u001b[38;5;28mself\u001b[39m\u001b[38;5;241m.\u001b[39mvalue\u001b[38;5;241m.\u001b[39mname},\n\u001b[0;32m    121\u001b[0m     selected_index\u001b[38;5;241m=\u001b[39m\u001b[38;5;124m'\u001b[39m\u001b[38;5;124m0\u001b[39m\u001b[38;5;124m'\u001b[39m\n\u001b[0;32m    122\u001b[0m )\n",
      "File \u001b[1;32m~\\anaconda3\\envs\\mlops\\lib\\site-packages\\deepchecks\\core\\serialization\\suite_result\\widget.py:210\u001b[0m, in \u001b[0;36mSuiteResultSerializer.prepare_results\u001b[1;34m(self, results, title, output_id, summary_creation_method, **kwargs)\u001b[0m\n\u001b[0;32m    207\u001b[0m section_id \u001b[38;5;241m=\u001b[39m \u001b[38;5;124mf\u001b[39m\u001b[38;5;124m'\u001b[39m\u001b[38;5;132;01m{\u001b[39;00moutput_id\u001b[38;5;132;01m}\u001b[39;00m\u001b[38;5;124m-section-\u001b[39m\u001b[38;5;132;01m{\u001b[39;00mget_random_string()\u001b[38;5;132;01m}\u001b[39;00m\u001b[38;5;124m'\u001b[39m\n\u001b[0;32m    208\u001b[0m section_anchor \u001b[38;5;241m=\u001b[39m HTML(value\u001b[38;5;241m=\u001b[39m\u001b[38;5;124mf\u001b[39m\u001b[38;5;124m'\u001b[39m\u001b[38;5;124m<span id=\u001b[39m\u001b[38;5;124m\"\u001b[39m\u001b[38;5;132;01m{\u001b[39;00mform_output_anchor(section_id)\u001b[38;5;132;01m}\u001b[39;00m\u001b[38;5;124m\"\u001b[39m\u001b[38;5;124m></span>\u001b[39m\u001b[38;5;124m'\u001b[39m)\n\u001b[1;32m--> 210\u001b[0m serialized_results \u001b[38;5;241m=\u001b[39m [\n\u001b[0;32m    211\u001b[0m     select_serializer(it)\u001b[38;5;241m.\u001b[39mserialize(output_id\u001b[38;5;241m=\u001b[39msection_id, \u001b[38;5;241m*\u001b[39m\u001b[38;5;241m*\u001b[39mkwargs)\n\u001b[0;32m    212\u001b[0m     \u001b[38;5;28;01mfor\u001b[39;00m it \u001b[38;5;129;01min\u001b[39;00m results\n\u001b[0;32m    213\u001b[0m     \u001b[38;5;28;01mif\u001b[39;00m it\u001b[38;5;241m.\u001b[39mdisplay  \u001b[38;5;66;03m# we do not form full-output for the check results without display\u001b[39;00m\n\u001b[0;32m    214\u001b[0m ]\n\u001b[0;32m    216\u001b[0m \u001b[38;5;28;01mif\u001b[39;00m \u001b[38;5;28mcallable\u001b[39m(summary_creation_method):\n\u001b[0;32m    217\u001b[0m     children \u001b[38;5;241m=\u001b[39m (\n\u001b[0;32m    218\u001b[0m         summary_creation_method(results\u001b[38;5;241m=\u001b[39mresults, output_id\u001b[38;5;241m=\u001b[39msection_id, \u001b[38;5;241m*\u001b[39m\u001b[38;5;241m*\u001b[39mkwargs),\n\u001b[0;32m    219\u001b[0m         HTML(value\u001b[38;5;241m=\u001b[39mCommonHtml\u001b[38;5;241m.\u001b[39mlight_hr),\n\u001b[0;32m    220\u001b[0m         \u001b[38;5;241m*\u001b[39mjoin(serialized_results, HTML(value\u001b[38;5;241m=\u001b[39mCommonHtml\u001b[38;5;241m.\u001b[39mlight_hr))\n\u001b[0;32m    221\u001b[0m     )\n",
      "File \u001b[1;32m~\\anaconda3\\envs\\mlops\\lib\\site-packages\\deepchecks\\core\\serialization\\suite_result\\widget.py:211\u001b[0m, in \u001b[0;36m<listcomp>\u001b[1;34m(.0)\u001b[0m\n\u001b[0;32m    207\u001b[0m section_id \u001b[38;5;241m=\u001b[39m \u001b[38;5;124mf\u001b[39m\u001b[38;5;124m'\u001b[39m\u001b[38;5;132;01m{\u001b[39;00moutput_id\u001b[38;5;132;01m}\u001b[39;00m\u001b[38;5;124m-section-\u001b[39m\u001b[38;5;132;01m{\u001b[39;00mget_random_string()\u001b[38;5;132;01m}\u001b[39;00m\u001b[38;5;124m'\u001b[39m\n\u001b[0;32m    208\u001b[0m section_anchor \u001b[38;5;241m=\u001b[39m HTML(value\u001b[38;5;241m=\u001b[39m\u001b[38;5;124mf\u001b[39m\u001b[38;5;124m'\u001b[39m\u001b[38;5;124m<span id=\u001b[39m\u001b[38;5;124m\"\u001b[39m\u001b[38;5;132;01m{\u001b[39;00mform_output_anchor(section_id)\u001b[38;5;132;01m}\u001b[39;00m\u001b[38;5;124m\"\u001b[39m\u001b[38;5;124m></span>\u001b[39m\u001b[38;5;124m'\u001b[39m)\n\u001b[0;32m    210\u001b[0m serialized_results \u001b[38;5;241m=\u001b[39m [\n\u001b[1;32m--> 211\u001b[0m     select_serializer(it)\u001b[38;5;241m.\u001b[39mserialize(output_id\u001b[38;5;241m=\u001b[39msection_id, \u001b[38;5;241m*\u001b[39m\u001b[38;5;241m*\u001b[39mkwargs)\n\u001b[0;32m    212\u001b[0m     \u001b[38;5;28;01mfor\u001b[39;00m it \u001b[38;5;129;01min\u001b[39;00m results\n\u001b[0;32m    213\u001b[0m     \u001b[38;5;28;01mif\u001b[39;00m it\u001b[38;5;241m.\u001b[39mdisplay  \u001b[38;5;66;03m# we do not form full-output for the check results without display\u001b[39;00m\n\u001b[0;32m    214\u001b[0m ]\n\u001b[0;32m    216\u001b[0m \u001b[38;5;28;01mif\u001b[39;00m \u001b[38;5;28mcallable\u001b[39m(summary_creation_method):\n\u001b[0;32m    217\u001b[0m     children \u001b[38;5;241m=\u001b[39m (\n\u001b[0;32m    218\u001b[0m         summary_creation_method(results\u001b[38;5;241m=\u001b[39mresults, output_id\u001b[38;5;241m=\u001b[39msection_id, \u001b[38;5;241m*\u001b[39m\u001b[38;5;241m*\u001b[39mkwargs),\n\u001b[0;32m    219\u001b[0m         HTML(value\u001b[38;5;241m=\u001b[39mCommonHtml\u001b[38;5;241m.\u001b[39mlight_hr),\n\u001b[0;32m    220\u001b[0m         \u001b[38;5;241m*\u001b[39mjoin(serialized_results, HTML(value\u001b[38;5;241m=\u001b[39mCommonHtml\u001b[38;5;241m.\u001b[39mlight_hr))\n\u001b[0;32m    221\u001b[0m     )\n",
      "File \u001b[1;32m~\\anaconda3\\envs\\mlops\\lib\\site-packages\\deepchecks\\core\\serialization\\check_result\\widget.py:85\u001b[0m, in \u001b[0;36mCheckResultSerializer.serialize\u001b[1;34m(self, output_id, check_sections, plotly_to_image, is_for_iframe_with_srcdoc, **kwargs)\u001b[0m\n\u001b[0;32m     80\u001b[0m     sections\u001b[38;5;241m.\u001b[39mappend(\u001b[38;5;28mself\u001b[39m\u001b[38;5;241m.\u001b[39mprepare_conditions_table(\n\u001b[0;32m     81\u001b[0m         output_id\u001b[38;5;241m=\u001b[39moutput_id\n\u001b[0;32m     82\u001b[0m     ))\n\u001b[0;32m     84\u001b[0m \u001b[38;5;28;01mif\u001b[39;00m \u001b[38;5;124m'\u001b[39m\u001b[38;5;124madditional-output\u001b[39m\u001b[38;5;124m'\u001b[39m \u001b[38;5;129;01min\u001b[39;00m sections_to_include:\n\u001b[1;32m---> 85\u001b[0m     sections\u001b[38;5;241m.\u001b[39mappend(\u001b[38;5;28;43mself\u001b[39;49m\u001b[38;5;241;43m.\u001b[39;49m\u001b[43mprepare_additional_output\u001b[49m\u001b[43m(\u001b[49m\n\u001b[0;32m     86\u001b[0m \u001b[43m        \u001b[49m\u001b[43moutput_id\u001b[49m\u001b[38;5;241;43m=\u001b[39;49m\u001b[43moutput_id\u001b[49m\u001b[43m,\u001b[49m\n\u001b[0;32m     87\u001b[0m \u001b[43m        \u001b[49m\u001b[43mplotly_to_image\u001b[49m\u001b[38;5;241;43m=\u001b[39;49m\u001b[43mplotly_to_image\u001b[49m\u001b[43m,\u001b[49m\n\u001b[0;32m     88\u001b[0m \u001b[43m        \u001b[49m\u001b[43mis_for_iframe_with_srcdoc\u001b[49m\u001b[38;5;241;43m=\u001b[39;49m\u001b[43mis_for_iframe_with_srcdoc\u001b[49m\n\u001b[0;32m     89\u001b[0m \u001b[43m    \u001b[49m\u001b[43m)\u001b[49m)\n\u001b[0;32m     91\u001b[0m \u001b[38;5;28;01mreturn\u001b[39;00m normalize_widget_style(VBox(children\u001b[38;5;241m=\u001b[39msections))\n",
      "File \u001b[1;32m~\\anaconda3\\envs\\mlops\\lib\\site-packages\\deepchecks\\core\\serialization\\check_result\\widget.py:156\u001b[0m, in \u001b[0;36mCheckResultSerializer.prepare_additional_output\u001b[1;34m(self, output_id, plotly_to_image, is_for_iframe_with_srcdoc)\u001b[0m\n\u001b[0;32m    133\u001b[0m \u001b[38;5;28;01mdef\u001b[39;00m \u001b[38;5;21mprepare_additional_output\u001b[39m(\n\u001b[0;32m    134\u001b[0m     \u001b[38;5;28mself\u001b[39m,\n\u001b[0;32m    135\u001b[0m     output_id: t\u001b[38;5;241m.\u001b[39mOptional[\u001b[38;5;28mstr\u001b[39m] \u001b[38;5;241m=\u001b[39m \u001b[38;5;28;01mNone\u001b[39;00m,\n\u001b[0;32m    136\u001b[0m     plotly_to_image: \u001b[38;5;28mbool\u001b[39m \u001b[38;5;241m=\u001b[39m \u001b[38;5;28;01mFalse\u001b[39;00m,\n\u001b[0;32m    137\u001b[0m     is_for_iframe_with_srcdoc: \u001b[38;5;28mbool\u001b[39m \u001b[38;5;241m=\u001b[39m \u001b[38;5;28;01mFalse\u001b[39;00m\n\u001b[0;32m    138\u001b[0m ) \u001b[38;5;241m-\u001b[39m\u001b[38;5;241m>\u001b[39m VBox:\n\u001b[0;32m    139\u001b[0m \u001b[38;5;250m    \u001b[39m\u001b[38;5;124;03m\"\"\"Prepare additional output widget.\u001b[39;00m\n\u001b[0;32m    140\u001b[0m \n\u001b[0;32m    141\u001b[0m \u001b[38;5;124;03m    Parameters\u001b[39;00m\n\u001b[1;32m   (...)\u001b[0m\n\u001b[0;32m    154\u001b[0m \u001b[38;5;124;03m    ipywidgets.VBox\u001b[39;00m\n\u001b[0;32m    155\u001b[0m \u001b[38;5;124;03m    \"\"\"\u001b[39;00m\n\u001b[1;32m--> 156\u001b[0m     \u001b[38;5;28;01mreturn\u001b[39;00m VBox(children\u001b[38;5;241m=\u001b[39m\u001b[43mDisplayItemsHandler\u001b[49m\u001b[38;5;241;43m.\u001b[39;49m\u001b[43mhandle_display\u001b[49m\u001b[43m(\u001b[49m\n\u001b[0;32m    157\u001b[0m \u001b[43m        \u001b[49m\u001b[43mdisplay\u001b[49m\u001b[38;5;241;43m=\u001b[39;49m\u001b[38;5;28;43mself\u001b[39;49m\u001b[38;5;241;43m.\u001b[39;49m\u001b[43mvalue\u001b[49m\u001b[38;5;241;43m.\u001b[39;49m\u001b[43mdisplay\u001b[49m\u001b[43m,\u001b[49m\n\u001b[0;32m    158\u001b[0m \u001b[43m        \u001b[49m\u001b[43moutput_id\u001b[49m\u001b[38;5;241;43m=\u001b[39;49m\u001b[43moutput_id\u001b[49m\u001b[43m,\u001b[49m\n\u001b[0;32m    159\u001b[0m \u001b[43m        \u001b[49m\u001b[43mplotly_to_image\u001b[49m\u001b[38;5;241;43m=\u001b[39;49m\u001b[43mplotly_to_image\u001b[49m\u001b[43m,\u001b[49m\n\u001b[0;32m    160\u001b[0m \u001b[43m        \u001b[49m\u001b[43mis_for_iframe_with_srcdoc\u001b[49m\u001b[38;5;241;43m=\u001b[39;49m\u001b[43mis_for_iframe_with_srcdoc\u001b[49m\n\u001b[0;32m    161\u001b[0m \u001b[43m    \u001b[49m\u001b[43m)\u001b[49m)\n",
      "File \u001b[1;32m~\\anaconda3\\envs\\mlops\\lib\\site-packages\\deepchecks\\core\\serialization\\check_result\\widget.py:193\u001b[0m, in \u001b[0;36mDisplayItemsHandler.handle_display\u001b[1;34m(cls, display, output_id, include_header, include_trailing_link, **kwargs)\u001b[0m\n\u001b[0;32m    167\u001b[0m \u001b[38;5;129m@classmethod\u001b[39m\n\u001b[0;32m    168\u001b[0m \u001b[38;5;28;01mdef\u001b[39;00m \u001b[38;5;21mhandle_display\u001b[39m(\n\u001b[0;32m    169\u001b[0m     \u001b[38;5;28mcls\u001b[39m,\n\u001b[1;32m   (...)\u001b[0m\n\u001b[0;32m    174\u001b[0m     \u001b[38;5;241m*\u001b[39m\u001b[38;5;241m*\u001b[39mkwargs\n\u001b[0;32m    175\u001b[0m ) \u001b[38;5;241m-\u001b[39m\u001b[38;5;241m>\u001b[39m t\u001b[38;5;241m.\u001b[39mList[Widget]:\n\u001b[0;32m    176\u001b[0m \u001b[38;5;250m    \u001b[39m\u001b[38;5;124;03m\"\"\"Serialize CheckResult display items into list if Widget instances.\u001b[39;00m\n\u001b[0;32m    177\u001b[0m \n\u001b[0;32m    178\u001b[0m \u001b[38;5;124;03m    Parameters\u001b[39;00m\n\u001b[1;32m   (...)\u001b[0m\n\u001b[0;32m    191\u001b[0m \u001b[38;5;124;03m    List[Widget]\u001b[39;00m\n\u001b[0;32m    192\u001b[0m \u001b[38;5;124;03m    \"\"\"\u001b[39;00m\n\u001b[1;32m--> 193\u001b[0m     \u001b[38;5;28;01mreturn\u001b[39;00m t\u001b[38;5;241m.\u001b[39mcast(t\u001b[38;5;241m.\u001b[39mList[Widget], \u001b[38;5;28msuper\u001b[39m()\u001b[38;5;241m.\u001b[39mhandle_display(\n\u001b[0;32m    194\u001b[0m         display\u001b[38;5;241m=\u001b[39mdisplay,\n\u001b[0;32m    195\u001b[0m         output_id\u001b[38;5;241m=\u001b[39moutput_id,\n\u001b[0;32m    196\u001b[0m         include_header\u001b[38;5;241m=\u001b[39minclude_header,\n\u001b[0;32m    197\u001b[0m         include_trailing_link\u001b[38;5;241m=\u001b[39minclude_trailing_link,\n\u001b[0;32m    198\u001b[0m         \u001b[38;5;241m*\u001b[39m\u001b[38;5;241m*\u001b[39mkwargs\n\u001b[0;32m    199\u001b[0m     ))\n",
      "File \u001b[1;32m~\\anaconda3\\envs\\mlops\\lib\\site-packages\\deepchecks\\core\\serialization\\check_result\\html.py:242\u001b[0m, in \u001b[0;36mDisplayItemsHandler.handle_display\u001b[1;34m(cls, display, output_id, is_for_iframe_with_srcdoc, include_header, include_trailing_link, **kwargs)\u001b[0m\n\u001b[0;32m    220\u001b[0m \u001b[38;5;250m\u001b[39m\u001b[38;5;124;03m\"\"\"Serialize CheckResult display items into HTML.\u001b[39;00m\n\u001b[0;32m    221\u001b[0m \n\u001b[0;32m    222\u001b[0m \u001b[38;5;124;03mParameters\u001b[39;00m\n\u001b[1;32m   (...)\u001b[0m\n\u001b[0;32m    239\u001b[0m \u001b[38;5;124;03mList[str]\u001b[39;00m\n\u001b[0;32m    240\u001b[0m \u001b[38;5;124;03m\"\"\"\u001b[39;00m\n\u001b[0;32m    241\u001b[0m output \u001b[38;5;241m=\u001b[39m [\u001b[38;5;28mcls\u001b[39m\u001b[38;5;241m.\u001b[39mheader()] \u001b[38;5;28;01mif\u001b[39;00m include_header \u001b[38;5;28;01melse\u001b[39;00m []\n\u001b[1;32m--> 242\u001b[0m output\u001b[38;5;241m.\u001b[39mextend(\u001b[38;5;28msuper\u001b[39m()\u001b[38;5;241m.\u001b[39mhandle_display(display, \u001b[38;5;241m*\u001b[39m\u001b[38;5;241m*\u001b[39m{\u001b[38;5;124m'\u001b[39m\u001b[38;5;124moutput_id\u001b[39m\u001b[38;5;124m'\u001b[39m: output_id, \u001b[38;5;241m*\u001b[39m\u001b[38;5;241m*\u001b[39mkwargs}))\n\u001b[0;32m    244\u001b[0m \u001b[38;5;28;01mif\u001b[39;00m \u001b[38;5;28mlen\u001b[39m(display) \u001b[38;5;241m==\u001b[39m \u001b[38;5;241m0\u001b[39m:\n\u001b[0;32m    245\u001b[0m     output\u001b[38;5;241m.\u001b[39mappend(\u001b[38;5;28mcls\u001b[39m\u001b[38;5;241m.\u001b[39mempty_content_placeholder())\n",
      "File \u001b[1;32m~\\anaconda3\\envs\\mlops\\lib\\site-packages\\deepchecks\\core\\serialization\\abc.py:210\u001b[0m, in \u001b[0;36mABCDisplayItemsHandler.handle_display\u001b[1;34m(cls, display, **kwargs)\u001b[0m\n\u001b[0;32m    192\u001b[0m \u001b[38;5;129m@classmethod\u001b[39m\n\u001b[0;32m    193\u001b[0m \u001b[38;5;129m@abc\u001b[39m\u001b[38;5;241m.\u001b[39mabstractmethod\n\u001b[0;32m    194\u001b[0m \u001b[38;5;28;01mdef\u001b[39;00m \u001b[38;5;21mhandle_display\u001b[39m(\n\u001b[1;32m   (...)\u001b[0m\n\u001b[0;32m    197\u001b[0m     \u001b[38;5;241m*\u001b[39m\u001b[38;5;241m*\u001b[39mkwargs\n\u001b[0;32m    198\u001b[0m ) \u001b[38;5;241m-\u001b[39m\u001b[38;5;241m>\u001b[39m t\u001b[38;5;241m.\u001b[39mList[t\u001b[38;5;241m.\u001b[39mAny]:\n\u001b[0;32m    199\u001b[0m \u001b[38;5;250m    \u001b[39m\u001b[38;5;124;03m\"\"\"Serialize list of display items.\u001b[39;00m\n\u001b[0;32m    200\u001b[0m \n\u001b[0;32m    201\u001b[0m \u001b[38;5;124;03m    Parameters\u001b[39;00m\n\u001b[1;32m   (...)\u001b[0m\n\u001b[0;32m    208\u001b[0m \u001b[38;5;124;03m    List[Any]\u001b[39;00m\n\u001b[0;32m    209\u001b[0m \u001b[38;5;124;03m    \"\"\"\u001b[39;00m\n\u001b[1;32m--> 210\u001b[0m     \u001b[38;5;28;01mreturn\u001b[39;00m [\u001b[38;5;28mcls\u001b[39m\u001b[38;5;241m.\u001b[39mhandle_item(it, index, \u001b[38;5;241m*\u001b[39m\u001b[38;5;241m*\u001b[39mkwargs) \u001b[38;5;28;01mfor\u001b[39;00m index, it \u001b[38;5;129;01min\u001b[39;00m \u001b[38;5;28menumerate\u001b[39m(display)]\n",
      "File \u001b[1;32m~\\anaconda3\\envs\\mlops\\lib\\site-packages\\deepchecks\\core\\serialization\\abc.py:210\u001b[0m, in \u001b[0;36m<listcomp>\u001b[1;34m(.0)\u001b[0m\n\u001b[0;32m    192\u001b[0m \u001b[38;5;129m@classmethod\u001b[39m\n\u001b[0;32m    193\u001b[0m \u001b[38;5;129m@abc\u001b[39m\u001b[38;5;241m.\u001b[39mabstractmethod\n\u001b[0;32m    194\u001b[0m \u001b[38;5;28;01mdef\u001b[39;00m \u001b[38;5;21mhandle_display\u001b[39m(\n\u001b[1;32m   (...)\u001b[0m\n\u001b[0;32m    197\u001b[0m     \u001b[38;5;241m*\u001b[39m\u001b[38;5;241m*\u001b[39mkwargs\n\u001b[0;32m    198\u001b[0m ) \u001b[38;5;241m-\u001b[39m\u001b[38;5;241m>\u001b[39m t\u001b[38;5;241m.\u001b[39mList[t\u001b[38;5;241m.\u001b[39mAny]:\n\u001b[0;32m    199\u001b[0m \u001b[38;5;250m    \u001b[39m\u001b[38;5;124;03m\"\"\"Serialize list of display items.\u001b[39;00m\n\u001b[0;32m    200\u001b[0m \n\u001b[0;32m    201\u001b[0m \u001b[38;5;124;03m    Parameters\u001b[39;00m\n\u001b[1;32m   (...)\u001b[0m\n\u001b[0;32m    208\u001b[0m \u001b[38;5;124;03m    List[Any]\u001b[39;00m\n\u001b[0;32m    209\u001b[0m \u001b[38;5;124;03m    \"\"\"\u001b[39;00m\n\u001b[1;32m--> 210\u001b[0m     \u001b[38;5;28;01mreturn\u001b[39;00m [\u001b[38;5;28mcls\u001b[39m\u001b[38;5;241m.\u001b[39mhandle_item(it, index, \u001b[38;5;241m*\u001b[39m\u001b[38;5;241m*\u001b[39mkwargs) \u001b[38;5;28;01mfor\u001b[39;00m index, it \u001b[38;5;129;01min\u001b[39;00m \u001b[38;5;28menumerate\u001b[39m(display)]\n",
      "File \u001b[1;32m~\\anaconda3\\envs\\mlops\\lib\\site-packages\\deepchecks\\core\\serialization\\abc.py:223\u001b[0m, in \u001b[0;36mABCDisplayItemsHandler.handle_item\u001b[1;34m(cls, item, index, **kwargs)\u001b[0m\n\u001b[0;32m    221\u001b[0m     \u001b[38;5;28;01mreturn\u001b[39;00m \u001b[38;5;28mcls\u001b[39m\u001b[38;5;241m.\u001b[39mhandle_figure(item, index, \u001b[38;5;241m*\u001b[39m\u001b[38;5;241m*\u001b[39mkwargs)\n\u001b[0;32m    222\u001b[0m \u001b[38;5;28;01melif\u001b[39;00m \u001b[38;5;28misinstance\u001b[39m(item, check_types\u001b[38;5;241m.\u001b[39mDisplayMap):\n\u001b[1;32m--> 223\u001b[0m     \u001b[38;5;28;01mreturn\u001b[39;00m \u001b[38;5;28mcls\u001b[39m\u001b[38;5;241m.\u001b[39mhandle_display_map(item, index, \u001b[38;5;241m*\u001b[39m\u001b[38;5;241m*\u001b[39mkwargs)\n\u001b[0;32m    224\u001b[0m \u001b[38;5;28;01melif\u001b[39;00m \u001b[38;5;28mcallable\u001b[39m(item):\n\u001b[0;32m    225\u001b[0m     \u001b[38;5;28;01mreturn\u001b[39;00m \u001b[38;5;28mcls\u001b[39m\u001b[38;5;241m.\u001b[39mhandle_callable(item, index, \u001b[38;5;241m*\u001b[39m\u001b[38;5;241m*\u001b[39mkwargs)\n",
      "File \u001b[1;32m~\\anaconda3\\envs\\mlops\\lib\\site-packages\\deepchecks\\core\\serialization\\check_result\\widget.py:254\u001b[0m, in \u001b[0;36mDisplayItemsHandler.handle_display_map\u001b[1;34m(cls, item, index, **kwargs)\u001b[0m\n\u001b[0;32m    251\u001b[0m children \u001b[38;5;241m=\u001b[39m []\n\u001b[0;32m    253\u001b[0m \u001b[38;5;28;01mfor\u001b[39;00m i, (name, display) \u001b[38;5;129;01min\u001b[39;00m \u001b[38;5;28menumerate\u001b[39m(item\u001b[38;5;241m.\u001b[39mitems()):\n\u001b[1;32m--> 254\u001b[0m     \u001b[43mtab\u001b[49m\u001b[38;5;241;43m.\u001b[39;49m\u001b[43mset_title\u001b[49m\u001b[43m(\u001b[49m\u001b[43mi\u001b[49m\u001b[43m,\u001b[49m\u001b[43m \u001b[49m\u001b[43mname\u001b[49m\u001b[43m)\u001b[49m\n\u001b[0;32m    255\u001b[0m     children\u001b[38;5;241m.\u001b[39mappend(VBox(children\u001b[38;5;241m=\u001b[39m\u001b[38;5;28mcls\u001b[39m\u001b[38;5;241m.\u001b[39mhandle_display(\n\u001b[0;32m    256\u001b[0m         display,\n\u001b[0;32m    257\u001b[0m         include_header\u001b[38;5;241m=\u001b[39m\u001b[38;5;28;01mFalse\u001b[39;00m,\n\u001b[0;32m    258\u001b[0m         include_trailing_link\u001b[38;5;241m=\u001b[39m\u001b[38;5;28;01mFalse\u001b[39;00m,\n\u001b[0;32m    259\u001b[0m         \u001b[38;5;241m*\u001b[39m\u001b[38;5;241m*\u001b[39mkwargs\n\u001b[0;32m    260\u001b[0m     )))\n\u001b[0;32m    262\u001b[0m tab\u001b[38;5;241m.\u001b[39mchildren \u001b[38;5;241m=\u001b[39m children\n",
      "File \u001b[1;32m~\\anaconda3\\envs\\mlops\\lib\\site-packages\\ipywidgets\\widgets\\widget_selectioncontainer.py:69\u001b[0m, in \u001b[0;36m_SelectionContainer.set_title\u001b[1;34m(self, index, title)\u001b[0m\n\u001b[0;32m     67\u001b[0m \u001b[38;5;28;01mif\u001b[39;00m title \u001b[38;5;129;01mis\u001b[39;00m \u001b[38;5;28;01mNone\u001b[39;00m:\n\u001b[0;32m     68\u001b[0m     title \u001b[38;5;241m=\u001b[39m \u001b[38;5;124m'\u001b[39m\u001b[38;5;124m'\u001b[39m\n\u001b[1;32m---> 69\u001b[0m titles[index]\u001b[38;5;241m=\u001b[39mtitle\n\u001b[0;32m     70\u001b[0m \u001b[38;5;28mself\u001b[39m\u001b[38;5;241m.\u001b[39mtitles \u001b[38;5;241m=\u001b[39m \u001b[38;5;28mtuple\u001b[39m(titles)\n",
      "\u001b[1;31mIndexError\u001b[0m: list assignment index out of range"
     ]
    },
    {
     "data": {
      "application/json": {
       "name": "Full Suite",
       "results": [
        {
         "check": {
          "name": "Simple Model Comparison",
          "params": {
           "alternative_scorers": null,
           "max_depth": 3,
           "max_gain": 50,
           "n_samples": 1000000,
           "random_state": 42,
           "scorers": null,
           "strategy": "most_frequent"
          },
          "summary": "Compare given model score to simple model score (according to given model type). <a href=\"https://docs.deepchecks.com/0.17/tabular/auto_checks/model_evaluation/plot_simple_model_comparison.html?utm_source=display_output&utm_medium=referral&utm_campaign=check_link\" target=\"_blank\">Read More...</a>"
         },
         "conditions_results": [
          {
           "Condition": "Model performance gain over simple model is greater than 10%",
           "More Info": "Found failed metrics: {'Neg RMSE': '-93.29%'}",
           "Status": "FAIL"
          }
         ],
         "display": [
          {
           "payload": "{\"data\":[{\"alignmentgroup\":\"True\",\"bingroup\":\"x\",\"histfunc\":\"sum\",\"hovertemplate\":\"Model=%{x}\\u003cbr\\u003eMetric=Neg RMSE\\u003cbr\\u003esum of Value=%{y}\\u003cextra\\u003e\\u003c\\u002fextra\\u003e\",\"legendgroup\":\"GradientBoostingRegressor model\",\"marker\":{\"color\":\"#636efa\",\"pattern\":{\"shape\":\"\"}},\"name\":\"GradientBoostingRegressor model\",\"offsetgroup\":\"GradientBoostingRegressor model\",\"orientation\":\"v\",\"showlegend\":true,\"x\":[\"GradientBoostingRegressor model\"],\"xaxis\":\"x\",\"y\":[-432125.1817420474],\"yaxis\":\"y\",\"type\":\"histogram\"},{\"alignmentgroup\":\"True\",\"bingroup\":\"x\",\"histfunc\":\"sum\",\"hovertemplate\":\"Model=%{x}\\u003cbr\\u003eMetric=Neg RMSE\\u003cbr\\u003esum of Value=%{y}\\u003cextra\\u003e\\u003c\\u002fextra\\u003e\",\"legendgroup\":\"Simple model - most_frequent\",\"marker\":{\"color\":\"#EF553B\",\"pattern\":{\"shape\":\"\"}},\"name\":\"Simple model - most_frequent\",\"offsetgroup\":\"Simple model - most_frequent\",\"orientation\":\"v\",\"showlegend\":true,\"x\":[\"Simple model - most_frequent\"],\"xaxis\":\"x\",\"y\":[-223559.6139906578],\"yaxis\":\"y\",\"type\":\"histogram\"}],\"layout\":{\"template\":{\"data\":{\"histogram2dcontour\":[{\"type\":\"histogram2dcontour\",\"colorbar\":{\"outlinewidth\":0,\"ticks\":\"\"},\"colorscale\":[[0.0,\"#0d0887\"],[0.1111111111111111,\"#46039f\"],[0.2222222222222222,\"#7201a8\"],[0.3333333333333333,\"#9c179e\"],[0.4444444444444444,\"#bd3786\"],[0.5555555555555556,\"#d8576b\"],[0.6666666666666666,\"#ed7953\"],[0.7777777777777778,\"#fb9f3a\"],[0.8888888888888888,\"#fdca26\"],[1.0,\"#f0f921\"]]}],\"choropleth\":[{\"type\":\"choropleth\",\"colorbar\":{\"outlinewidth\":0,\"ticks\":\"\"}}],\"histogram2d\":[{\"type\":\"histogram2d\",\"colorbar\":{\"outlinewidth\":0,\"ticks\":\"\"},\"colorscale\":[[0.0,\"#0d0887\"],[0.1111111111111111,\"#46039f\"],[0.2222222222222222,\"#7201a8\"],[0.3333333333333333,\"#9c179e\"],[0.4444444444444444,\"#bd3786\"],[0.5555555555555556,\"#d8576b\"],[0.6666666666666666,\"#ed7953\"],[0.7777777777777778,\"#fb9f3a\"],[0.8888888888888888,\"#fdca26\"],[1.0,\"#f0f921\"]]}],\"heatmap\":[{\"type\":\"heatmap\",\"colorbar\":{\"outlinewidth\":0,\"ticks\":\"\"},\"colorscale\":[[0.0,\"#0d0887\"],[0.1111111111111111,\"#46039f\"],[0.2222222222222222,\"#7201a8\"],[0.3333333333333333,\"#9c179e\"],[0.4444444444444444,\"#bd3786\"],[0.5555555555555556,\"#d8576b\"],[0.6666666666666666,\"#ed7953\"],[0.7777777777777778,\"#fb9f3a\"],[0.8888888888888888,\"#fdca26\"],[1.0,\"#f0f921\"]]}],\"heatmapgl\":[{\"type\":\"heatmapgl\",\"colorbar\":{\"outlinewidth\":0,\"ticks\":\"\"},\"colorscale\":[[0.0,\"#0d0887\"],[0.1111111111111111,\"#46039f\"],[0.2222222222222222,\"#7201a8\"],[0.3333333333333333,\"#9c179e\"],[0.4444444444444444,\"#bd3786\"],[0.5555555555555556,\"#d8576b\"],[0.6666666666666666,\"#ed7953\"],[0.7777777777777778,\"#fb9f3a\"],[0.8888888888888888,\"#fdca26\"],[1.0,\"#f0f921\"]]}],\"contourcarpet\":[{\"type\":\"contourcarpet\",\"colorbar\":{\"outlinewidth\":0,\"ticks\":\"\"}}],\"contour\":[{\"type\":\"contour\",\"colorbar\":{\"outlinewidth\":0,\"ticks\":\"\"},\"colorscale\":[[0.0,\"#0d0887\"],[0.1111111111111111,\"#46039f\"],[0.2222222222222222,\"#7201a8\"],[0.3333333333333333,\"#9c179e\"],[0.4444444444444444,\"#bd3786\"],[0.5555555555555556,\"#d8576b\"],[0.6666666666666666,\"#ed7953\"],[0.7777777777777778,\"#fb9f3a\"],[0.8888888888888888,\"#fdca26\"],[1.0,\"#f0f921\"]]}],\"surface\":[{\"type\":\"surface\",\"colorbar\":{\"outlinewidth\":0,\"ticks\":\"\"},\"colorscale\":[[0.0,\"#0d0887\"],[0.1111111111111111,\"#46039f\"],[0.2222222222222222,\"#7201a8\"],[0.3333333333333333,\"#9c179e\"],[0.4444444444444444,\"#bd3786\"],[0.5555555555555556,\"#d8576b\"],[0.6666666666666666,\"#ed7953\"],[0.7777777777777778,\"#fb9f3a\"],[0.8888888888888888,\"#fdca26\"],[1.0,\"#f0f921\"]]}],\"mesh3d\":[{\"type\":\"mesh3d\",\"colorbar\":{\"outlinewidth\":0,\"ticks\":\"\"}}],\"scatter\":[{\"fillpattern\":{\"fillmode\":\"overlay\",\"size\":10,\"solidity\":0.2},\"type\":\"scatter\"}],\"parcoords\":[{\"type\":\"parcoords\",\"line\":{\"colorbar\":{\"outlinewidth\":0,\"ticks\":\"\"}}}],\"scatterpolargl\":[{\"type\":\"scatterpolargl\",\"marker\":{\"colorbar\":{\"outlinewidth\":0,\"ticks\":\"\"}}}],\"bar\":[{\"error_x\":{\"color\":\"#2a3f5f\"},\"error_y\":{\"color\":\"#2a3f5f\"},\"marker\":{\"line\":{\"color\":\"#E5ECF6\",\"width\":0.5},\"pattern\":{\"fillmode\":\"overlay\",\"size\":10,\"solidity\":0.2}},\"type\":\"bar\"}],\"scattergeo\":[{\"type\":\"scattergeo\",\"marker\":{\"colorbar\":{\"outlinewidth\":0,\"ticks\":\"\"}}}],\"scatterpolar\":[{\"type\":\"scatterpolar\",\"marker\":{\"colorbar\":{\"outlinewidth\":0,\"ticks\":\"\"}}}],\"histogram\":[{\"marker\":{\"pattern\":{\"fillmode\":\"overlay\",\"size\":10,\"solidity\":0.2}},\"type\":\"histogram\"}],\"scattergl\":[{\"type\":\"scattergl\",\"marker\":{\"colorbar\":{\"outlinewidth\":0,\"ticks\":\"\"}}}],\"scatter3d\":[{\"type\":\"scatter3d\",\"line\":{\"colorbar\":{\"outlinewidth\":0,\"ticks\":\"\"}},\"marker\":{\"colorbar\":{\"outlinewidth\":0,\"ticks\":\"\"}}}],\"scattermapbox\":[{\"type\":\"scattermapbox\",\"marker\":{\"colorbar\":{\"outlinewidth\":0,\"ticks\":\"\"}}}],\"scatterternary\":[{\"type\":\"scatterternary\",\"marker\":{\"colorbar\":{\"outlinewidth\":0,\"ticks\":\"\"}}}],\"scattercarpet\":[{\"type\":\"scattercarpet\",\"marker\":{\"colorbar\":{\"outlinewidth\":0,\"ticks\":\"\"}}}],\"carpet\":[{\"aaxis\":{\"endlinecolor\":\"#2a3f5f\",\"gridcolor\":\"white\",\"linecolor\":\"white\",\"minorgridcolor\":\"white\",\"startlinecolor\":\"#2a3f5f\"},\"baxis\":{\"endlinecolor\":\"#2a3f5f\",\"gridcolor\":\"white\",\"linecolor\":\"white\",\"minorgridcolor\":\"white\",\"startlinecolor\":\"#2a3f5f\"},\"type\":\"carpet\"}],\"table\":[{\"cells\":{\"fill\":{\"color\":\"#EBF0F8\"},\"line\":{\"color\":\"white\"}},\"header\":{\"fill\":{\"color\":\"#C8D4E3\"},\"line\":{\"color\":\"white\"}},\"type\":\"table\"}],\"barpolar\":[{\"marker\":{\"line\":{\"color\":\"#E5ECF6\",\"width\":0.5},\"pattern\":{\"fillmode\":\"overlay\",\"size\":10,\"solidity\":0.2}},\"type\":\"barpolar\"}],\"pie\":[{\"automargin\":true,\"type\":\"pie\"}]},\"layout\":{\"autotypenumbers\":\"strict\",\"colorway\":[\"#636efa\",\"#EF553B\",\"#00cc96\",\"#ab63fa\",\"#FFA15A\",\"#19d3f3\",\"#FF6692\",\"#B6E880\",\"#FF97FF\",\"#FECB52\"],\"font\":{\"color\":\"#2a3f5f\"},\"hovermode\":\"closest\",\"hoverlabel\":{\"align\":\"left\"},\"paper_bgcolor\":\"white\",\"plot_bgcolor\":\"#E5ECF6\",\"polar\":{\"bgcolor\":\"#E5ECF6\",\"angularaxis\":{\"gridcolor\":\"white\",\"linecolor\":\"white\",\"ticks\":\"\"},\"radialaxis\":{\"gridcolor\":\"white\",\"linecolor\":\"white\",\"ticks\":\"\"}},\"ternary\":{\"bgcolor\":\"#E5ECF6\",\"aaxis\":{\"gridcolor\":\"white\",\"linecolor\":\"white\",\"ticks\":\"\"},\"baxis\":{\"gridcolor\":\"white\",\"linecolor\":\"white\",\"ticks\":\"\"},\"caxis\":{\"gridcolor\":\"white\",\"linecolor\":\"white\",\"ticks\":\"\"}},\"coloraxis\":{\"colorbar\":{\"outlinewidth\":0,\"ticks\":\"\"}},\"colorscale\":{\"sequential\":[[0.0,\"#0d0887\"],[0.1111111111111111,\"#46039f\"],[0.2222222222222222,\"#7201a8\"],[0.3333333333333333,\"#9c179e\"],[0.4444444444444444,\"#bd3786\"],[0.5555555555555556,\"#d8576b\"],[0.6666666666666666,\"#ed7953\"],[0.7777777777777778,\"#fb9f3a\"],[0.8888888888888888,\"#fdca26\"],[1.0,\"#f0f921\"]],\"sequentialminus\":[[0.0,\"#0d0887\"],[0.1111111111111111,\"#46039f\"],[0.2222222222222222,\"#7201a8\"],[0.3333333333333333,\"#9c179e\"],[0.4444444444444444,\"#bd3786\"],[0.5555555555555556,\"#d8576b\"],[0.6666666666666666,\"#ed7953\"],[0.7777777777777778,\"#fb9f3a\"],[0.8888888888888888,\"#fdca26\"],[1.0,\"#f0f921\"]],\"diverging\":[[0,\"#8e0152\"],[0.1,\"#c51b7d\"],[0.2,\"#de77ae\"],[0.3,\"#f1b6da\"],[0.4,\"#fde0ef\"],[0.5,\"#f7f7f7\"],[0.6,\"#e6f5d0\"],[0.7,\"#b8e186\"],[0.8,\"#7fbc41\"],[0.9,\"#4d9221\"],[1,\"#276419\"]]},\"xaxis\":{\"gridcolor\":\"white\",\"linecolor\":\"white\",\"ticks\":\"\",\"title\":{\"standoff\":15},\"zerolinecolor\":\"white\",\"automargin\":true,\"zerolinewidth\":2},\"yaxis\":{\"gridcolor\":\"white\",\"linecolor\":\"white\",\"ticks\":\"\",\"title\":{\"standoff\":15},\"zerolinecolor\":\"white\",\"automargin\":true,\"zerolinewidth\":2},\"scene\":{\"xaxis\":{\"backgroundcolor\":\"#E5ECF6\",\"gridcolor\":\"white\",\"linecolor\":\"white\",\"showbackground\":true,\"ticks\":\"\",\"zerolinecolor\":\"white\",\"gridwidth\":2},\"yaxis\":{\"backgroundcolor\":\"#E5ECF6\",\"gridcolor\":\"white\",\"linecolor\":\"white\",\"showbackground\":true,\"ticks\":\"\",\"zerolinecolor\":\"white\",\"gridwidth\":2},\"zaxis\":{\"backgroundcolor\":\"#E5ECF6\",\"gridcolor\":\"white\",\"linecolor\":\"white\",\"showbackground\":true,\"ticks\":\"\",\"zerolinecolor\":\"white\",\"gridwidth\":2}},\"shapedefaults\":{\"line\":{\"color\":\"#2a3f5f\"}},\"annotationdefaults\":{\"arrowcolor\":\"#2a3f5f\",\"arrowhead\":0,\"arrowwidth\":1},\"geo\":{\"bgcolor\":\"white\",\"landcolor\":\"#E5ECF6\",\"subunitcolor\":\"white\",\"showland\":true,\"showlakes\":true,\"lakecolor\":\"white\"},\"title\":{\"x\":0.05},\"mapbox\":{\"style\":\"light\"}}},\"xaxis\":{\"anchor\":\"y\",\"domain\":[0.0,1.0],\"title\":{},\"categoryorder\":\"array\",\"categoryarray\":[\"GradientBoostingRegressor model\",\"Simple model - most_frequent\"]},\"yaxis\":{\"anchor\":\"x\",\"domain\":[0.0,1.0],\"title\":{},\"showticklabels\":true},\"annotations\":[{\"font\":{},\"showarrow\":false,\"text\":\"Neg RMSE\",\"x\":0.5,\"xanchor\":\"center\",\"xref\":\"paper\",\"y\":1.0,\"yanchor\":\"bottom\",\"yref\":\"paper\"}],\"legend\":{\"title\":{\"text\":\"Model\"},\"tracegroupgap\":0},\"margin\":{\"t\":60},\"barmode\":\"group\"}}",
           "type": "plotly"
          }
         ],
         "header": "Simple Model Comparison",
         "type": "CheckResult",
         "value": {
          "scorers_perfect": {
           "Neg RMSE": {
            "dtype": "float64",
            "value": 0
           }
          },
          "scores": {
           "Neg RMSE": {
            "Origin": {
             "dtype": "float64",
             "value": -432125.1817420474
            },
            "Simple": {
             "dtype": "float64",
             "value": -223559.6139906578
            },
            "default_factory": {
             "py/type": "builtins.dict"
            }
           }
          },
          "type": {
           "__objclass__": {
            "py/type": "deepchecks.tabular.utils.task_type.TaskType"
           },
           "_name_": "REGRESSION",
           "_value_": "regression"
          }
         }
        },
        {
         "check": {
          "name": "Boosting Overfit",
          "params": {
           "alternative_scorer": null,
           "n_samples": 1000000,
           "num_steps": 20,
           "random_state": 42
          },
          "summary": "Check for overfit caused by using too many iterations in a gradient boosted model. <a href=\"https://docs.deepchecks.com/0.17/tabular/auto_checks/model_evaluation/plot_boosting_overfit.html?utm_source=display_output&utm_medium=referral&utm_campaign=check_link\" target=\"_blank\">Read More...</a>"
         },
         "conditions_results": [
          {
           "Condition": "Test score over iterations is less than 5% from the best score",
           "More Info": "Found score decline of -93.07%",
           "Status": "FAIL"
          }
         ],
         "display": [
          {
           "payload": "<span>\n                The check limits the boosting model to using up to N estimators each time, and plotting the\n                Neg RMSE calculated for each subset of estimators for both the train dataset and the test dataset.\n            </span>",
           "type": "html"
          },
          {
           "payload": "{\"data\":[{\"mode\":\"lines+markers\",\"name\":\"Training score\",\"x\":[1,2,3,4,5,38,72,105,137,170,203,237,269,303,335,368,401,435,467,500],\"y\":[-227808.03053218528,-232284.4219122343,-240140.9454716919,-247277.64660284386,-258289.5216207007,-503559.26978069934,-434647.59321784956,-397636.95309231634,-379569.31422156066,-374141.00285216037,-386807.94238778076,-388179.89169174293,-384340.4685184928,-389491.2269122826,-391249.64129090344,-404847.0250364764,-411660.95680331095,-423992.94579968543,-443203.22359975264,-440183.2712110803],\"type\":\"scatter\"},{\"mode\":\"lines+markers\",\"name\":\"Test score\",\"x\":[1,2,3,4,5,38,72,105,137,170,203,237,269,303,335,368,401,435,467,500],\"y\":[-223820.60948205864,-227051.91531719576,-233670.1205585747,-240046.76469785342,-250208.7006848133,-492572.196483228,-424741.3796120822,-388171.0238783002,-370750.82393018005,-365832.23523319163,-378555.9243884386,-379977.4936584071,-376285.0017229972,-381446.63350363326,-383253.42361468746,-396647.5948713615,-403450.50106486067,-415746.97994777677,-435026.31799384323,-432125.1817420474],\"type\":\"scatter\"}],\"layout\":{\"template\":{\"data\":{\"histogram2dcontour\":[{\"type\":\"histogram2dcontour\",\"colorbar\":{\"outlinewidth\":0,\"ticks\":\"\"},\"colorscale\":[[0.0,\"#0d0887\"],[0.1111111111111111,\"#46039f\"],[0.2222222222222222,\"#7201a8\"],[0.3333333333333333,\"#9c179e\"],[0.4444444444444444,\"#bd3786\"],[0.5555555555555556,\"#d8576b\"],[0.6666666666666666,\"#ed7953\"],[0.7777777777777778,\"#fb9f3a\"],[0.8888888888888888,\"#fdca26\"],[1.0,\"#f0f921\"]]}],\"choropleth\":[{\"type\":\"choropleth\",\"colorbar\":{\"outlinewidth\":0,\"ticks\":\"\"}}],\"histogram2d\":[{\"type\":\"histogram2d\",\"colorbar\":{\"outlinewidth\":0,\"ticks\":\"\"},\"colorscale\":[[0.0,\"#0d0887\"],[0.1111111111111111,\"#46039f\"],[0.2222222222222222,\"#7201a8\"],[0.3333333333333333,\"#9c179e\"],[0.4444444444444444,\"#bd3786\"],[0.5555555555555556,\"#d8576b\"],[0.6666666666666666,\"#ed7953\"],[0.7777777777777778,\"#fb9f3a\"],[0.8888888888888888,\"#fdca26\"],[1.0,\"#f0f921\"]]}],\"heatmap\":[{\"type\":\"heatmap\",\"colorbar\":{\"outlinewidth\":0,\"ticks\":\"\"},\"colorscale\":[[0.0,\"#0d0887\"],[0.1111111111111111,\"#46039f\"],[0.2222222222222222,\"#7201a8\"],[0.3333333333333333,\"#9c179e\"],[0.4444444444444444,\"#bd3786\"],[0.5555555555555556,\"#d8576b\"],[0.6666666666666666,\"#ed7953\"],[0.7777777777777778,\"#fb9f3a\"],[0.8888888888888888,\"#fdca26\"],[1.0,\"#f0f921\"]]}],\"heatmapgl\":[{\"type\":\"heatmapgl\",\"colorbar\":{\"outlinewidth\":0,\"ticks\":\"\"},\"colorscale\":[[0.0,\"#0d0887\"],[0.1111111111111111,\"#46039f\"],[0.2222222222222222,\"#7201a8\"],[0.3333333333333333,\"#9c179e\"],[0.4444444444444444,\"#bd3786\"],[0.5555555555555556,\"#d8576b\"],[0.6666666666666666,\"#ed7953\"],[0.7777777777777778,\"#fb9f3a\"],[0.8888888888888888,\"#fdca26\"],[1.0,\"#f0f921\"]]}],\"contourcarpet\":[{\"type\":\"contourcarpet\",\"colorbar\":{\"outlinewidth\":0,\"ticks\":\"\"}}],\"contour\":[{\"type\":\"contour\",\"colorbar\":{\"outlinewidth\":0,\"ticks\":\"\"},\"colorscale\":[[0.0,\"#0d0887\"],[0.1111111111111111,\"#46039f\"],[0.2222222222222222,\"#7201a8\"],[0.3333333333333333,\"#9c179e\"],[0.4444444444444444,\"#bd3786\"],[0.5555555555555556,\"#d8576b\"],[0.6666666666666666,\"#ed7953\"],[0.7777777777777778,\"#fb9f3a\"],[0.8888888888888888,\"#fdca26\"],[1.0,\"#f0f921\"]]}],\"surface\":[{\"type\":\"surface\",\"colorbar\":{\"outlinewidth\":0,\"ticks\":\"\"},\"colorscale\":[[0.0,\"#0d0887\"],[0.1111111111111111,\"#46039f\"],[0.2222222222222222,\"#7201a8\"],[0.3333333333333333,\"#9c179e\"],[0.4444444444444444,\"#bd3786\"],[0.5555555555555556,\"#d8576b\"],[0.6666666666666666,\"#ed7953\"],[0.7777777777777778,\"#fb9f3a\"],[0.8888888888888888,\"#fdca26\"],[1.0,\"#f0f921\"]]}],\"mesh3d\":[{\"type\":\"mesh3d\",\"colorbar\":{\"outlinewidth\":0,\"ticks\":\"\"}}],\"scatter\":[{\"fillpattern\":{\"fillmode\":\"overlay\",\"size\":10,\"solidity\":0.2},\"type\":\"scatter\"}],\"parcoords\":[{\"type\":\"parcoords\",\"line\":{\"colorbar\":{\"outlinewidth\":0,\"ticks\":\"\"}}}],\"scatterpolargl\":[{\"type\":\"scatterpolargl\",\"marker\":{\"colorbar\":{\"outlinewidth\":0,\"ticks\":\"\"}}}],\"bar\":[{\"error_x\":{\"color\":\"#2a3f5f\"},\"error_y\":{\"color\":\"#2a3f5f\"},\"marker\":{\"line\":{\"color\":\"#E5ECF6\",\"width\":0.5},\"pattern\":{\"fillmode\":\"overlay\",\"size\":10,\"solidity\":0.2}},\"type\":\"bar\"}],\"scattergeo\":[{\"type\":\"scattergeo\",\"marker\":{\"colorbar\":{\"outlinewidth\":0,\"ticks\":\"\"}}}],\"scatterpolar\":[{\"type\":\"scatterpolar\",\"marker\":{\"colorbar\":{\"outlinewidth\":0,\"ticks\":\"\"}}}],\"histogram\":[{\"marker\":{\"pattern\":{\"fillmode\":\"overlay\",\"size\":10,\"solidity\":0.2}},\"type\":\"histogram\"}],\"scattergl\":[{\"type\":\"scattergl\",\"marker\":{\"colorbar\":{\"outlinewidth\":0,\"ticks\":\"\"}}}],\"scatter3d\":[{\"type\":\"scatter3d\",\"line\":{\"colorbar\":{\"outlinewidth\":0,\"ticks\":\"\"}},\"marker\":{\"colorbar\":{\"outlinewidth\":0,\"ticks\":\"\"}}}],\"scattermapbox\":[{\"type\":\"scattermapbox\",\"marker\":{\"colorbar\":{\"outlinewidth\":0,\"ticks\":\"\"}}}],\"scatterternary\":[{\"type\":\"scatterternary\",\"marker\":{\"colorbar\":{\"outlinewidth\":0,\"ticks\":\"\"}}}],\"scattercarpet\":[{\"type\":\"scattercarpet\",\"marker\":{\"colorbar\":{\"outlinewidth\":0,\"ticks\":\"\"}}}],\"carpet\":[{\"aaxis\":{\"endlinecolor\":\"#2a3f5f\",\"gridcolor\":\"white\",\"linecolor\":\"white\",\"minorgridcolor\":\"white\",\"startlinecolor\":\"#2a3f5f\"},\"baxis\":{\"endlinecolor\":\"#2a3f5f\",\"gridcolor\":\"white\",\"linecolor\":\"white\",\"minorgridcolor\":\"white\",\"startlinecolor\":\"#2a3f5f\"},\"type\":\"carpet\"}],\"table\":[{\"cells\":{\"fill\":{\"color\":\"#EBF0F8\"},\"line\":{\"color\":\"white\"}},\"header\":{\"fill\":{\"color\":\"#C8D4E3\"},\"line\":{\"color\":\"white\"}},\"type\":\"table\"}],\"barpolar\":[{\"marker\":{\"line\":{\"color\":\"#E5ECF6\",\"width\":0.5},\"pattern\":{\"fillmode\":\"overlay\",\"size\":10,\"solidity\":0.2}},\"type\":\"barpolar\"}],\"pie\":[{\"automargin\":true,\"type\":\"pie\"}]},\"layout\":{\"autotypenumbers\":\"strict\",\"colorway\":[\"#636efa\",\"#EF553B\",\"#00cc96\",\"#ab63fa\",\"#FFA15A\",\"#19d3f3\",\"#FF6692\",\"#B6E880\",\"#FF97FF\",\"#FECB52\"],\"font\":{\"color\":\"#2a3f5f\"},\"hovermode\":\"closest\",\"hoverlabel\":{\"align\":\"left\"},\"paper_bgcolor\":\"white\",\"plot_bgcolor\":\"#E5ECF6\",\"polar\":{\"bgcolor\":\"#E5ECF6\",\"angularaxis\":{\"gridcolor\":\"white\",\"linecolor\":\"white\",\"ticks\":\"\"},\"radialaxis\":{\"gridcolor\":\"white\",\"linecolor\":\"white\",\"ticks\":\"\"}},\"ternary\":{\"bgcolor\":\"#E5ECF6\",\"aaxis\":{\"gridcolor\":\"white\",\"linecolor\":\"white\",\"ticks\":\"\"},\"baxis\":{\"gridcolor\":\"white\",\"linecolor\":\"white\",\"ticks\":\"\"},\"caxis\":{\"gridcolor\":\"white\",\"linecolor\":\"white\",\"ticks\":\"\"}},\"coloraxis\":{\"colorbar\":{\"outlinewidth\":0,\"ticks\":\"\"}},\"colorscale\":{\"sequential\":[[0.0,\"#0d0887\"],[0.1111111111111111,\"#46039f\"],[0.2222222222222222,\"#7201a8\"],[0.3333333333333333,\"#9c179e\"],[0.4444444444444444,\"#bd3786\"],[0.5555555555555556,\"#d8576b\"],[0.6666666666666666,\"#ed7953\"],[0.7777777777777778,\"#fb9f3a\"],[0.8888888888888888,\"#fdca26\"],[1.0,\"#f0f921\"]],\"sequentialminus\":[[0.0,\"#0d0887\"],[0.1111111111111111,\"#46039f\"],[0.2222222222222222,\"#7201a8\"],[0.3333333333333333,\"#9c179e\"],[0.4444444444444444,\"#bd3786\"],[0.5555555555555556,\"#d8576b\"],[0.6666666666666666,\"#ed7953\"],[0.7777777777777778,\"#fb9f3a\"],[0.8888888888888888,\"#fdca26\"],[1.0,\"#f0f921\"]],\"diverging\":[[0,\"#8e0152\"],[0.1,\"#c51b7d\"],[0.2,\"#de77ae\"],[0.3,\"#f1b6da\"],[0.4,\"#fde0ef\"],[0.5,\"#f7f7f7\"],[0.6,\"#e6f5d0\"],[0.7,\"#b8e186\"],[0.8,\"#7fbc41\"],[0.9,\"#4d9221\"],[1,\"#276419\"]]},\"xaxis\":{\"gridcolor\":\"white\",\"linecolor\":\"white\",\"ticks\":\"\",\"title\":{\"standoff\":15},\"zerolinecolor\":\"white\",\"automargin\":true,\"zerolinewidth\":2},\"yaxis\":{\"gridcolor\":\"white\",\"linecolor\":\"white\",\"ticks\":\"\",\"title\":{\"standoff\":15},\"zerolinecolor\":\"white\",\"automargin\":true,\"zerolinewidth\":2},\"scene\":{\"xaxis\":{\"backgroundcolor\":\"#E5ECF6\",\"gridcolor\":\"white\",\"linecolor\":\"white\",\"showbackground\":true,\"ticks\":\"\",\"zerolinecolor\":\"white\",\"gridwidth\":2},\"yaxis\":{\"backgroundcolor\":\"#E5ECF6\",\"gridcolor\":\"white\",\"linecolor\":\"white\",\"showbackground\":true,\"ticks\":\"\",\"zerolinecolor\":\"white\",\"gridwidth\":2},\"zaxis\":{\"backgroundcolor\":\"#E5ECF6\",\"gridcolor\":\"white\",\"linecolor\":\"white\",\"showbackground\":true,\"ticks\":\"\",\"zerolinecolor\":\"white\",\"gridwidth\":2}},\"shapedefaults\":{\"line\":{\"color\":\"#2a3f5f\"}},\"annotationdefaults\":{\"arrowcolor\":\"#2a3f5f\",\"arrowhead\":0,\"arrowwidth\":1},\"geo\":{\"bgcolor\":\"white\",\"landcolor\":\"#E5ECF6\",\"subunitcolor\":\"white\",\"showland\":true,\"showlakes\":true,\"lakecolor\":\"white\"},\"title\":{\"x\":0.05},\"mapbox\":{\"style\":\"light\"}}},\"title\":{\"text\":\"Neg RMSE score compared to number of boosting iteration\"},\"height\":500,\"xaxis\":{\"title\":{\"text\":\"Number of boosting iterations\"}},\"yaxis\":{\"title\":{\"text\":\"Neg RMSE\"}}}}",
           "type": "plotly"
          }
         ],
         "header": "Boosting Overfit",
         "type": "CheckResult",
         "value": {
          "test": [
           {
            "dtype": "float64",
            "value": -223820.60948205864
           },
           {
            "dtype": "float64",
            "value": -227051.91531719576
           },
           {
            "dtype": "float64",
            "value": -233670.1205585747
           },
           {
            "dtype": "float64",
            "value": -240046.76469785342
           },
           {
            "dtype": "float64",
            "value": -250208.7006848133
           },
           {
            "dtype": "float64",
            "value": -492572.196483228
           },
           {
            "dtype": "float64",
            "value": -424741.3796120822
           },
           {
            "dtype": "float64",
            "value": -388171.0238783002
           },
           {
            "dtype": "float64",
            "value": -370750.82393018005
           },
           {
            "dtype": "float64",
            "value": -365832.23523319163
           },
           {
            "dtype": "float64",
            "value": -378555.9243884386
           },
           {
            "dtype": "float64",
            "value": -379977.4936584071
           },
           {
            "dtype": "float64",
            "value": -376285.0017229972
           },
           {
            "dtype": "float64",
            "value": -381446.63350363326
           },
           {
            "dtype": "float64",
            "value": -383253.42361468746
           },
           {
            "dtype": "float64",
            "value": -396647.5948713615
           },
           {
            "dtype": "float64",
            "value": -403450.50106486067
           },
           {
            "dtype": "float64",
            "value": -415746.97994777677
           },
           {
            "dtype": "float64",
            "value": -435026.31799384323
           },
           {
            "dtype": "float64",
            "value": -432125.1817420474
           }
          ],
          "train": [
           {
            "dtype": "float64",
            "value": -227808.03053218528
           },
           {
            "dtype": "float64",
            "value": -232284.4219122343
           },
           {
            "dtype": "float64",
            "value": -240140.9454716919
           },
           {
            "dtype": "float64",
            "value": -247277.64660284386
           },
           {
            "dtype": "float64",
            "value": -258289.5216207007
           },
           {
            "dtype": "float64",
            "value": -503559.26978069934
           },
           {
            "dtype": "float64",
            "value": -434647.59321784956
           },
           {
            "dtype": "float64",
            "value": -397636.95309231634
           },
           {
            "dtype": "float64",
            "value": -379569.31422156066
           },
           {
            "dtype": "float64",
            "value": -374141.00285216037
           },
           {
            "dtype": "float64",
            "value": -386807.94238778076
           },
           {
            "dtype": "float64",
            "value": -388179.89169174293
           },
           {
            "dtype": "float64",
            "value": -384340.4685184928
           },
           {
            "dtype": "float64",
            "value": -389491.2269122826
           },
           {
            "dtype": "float64",
            "value": -391249.64129090344
           },
           {
            "dtype": "float64",
            "value": -404847.0250364764
           },
           {
            "dtype": "float64",
            "value": -411660.95680331095
           },
           {
            "dtype": "float64",
            "value": -423992.94579968543
           },
           {
            "dtype": "float64",
            "value": -443203.22359975264
           },
           {
            "dtype": "float64",
            "value": -440183.2712110803
           }
          ]
         }
        },
        {
         "check": {
          "name": "Train Test Samples Mix",
          "params": {
           "n_samples": 10000000,
           "n_to_show": 5,
           "random_state": 42
          },
          "summary": "Detect samples in the test data that appear also in training data. <a href=\"https://docs.deepchecks.com/0.17/tabular/auto_checks/train_test_validation/plot_train_test_samples_mix.html?utm_source=display_output&utm_medium=referral&utm_campaign=check_link\" target=\"_blank\">Read More...</a>"
         },
         "conditions_results": [
          {
           "Condition": "Percentage of test data samples that appear in train data is less or equal to 5%",
           "More Info": "Percent of test data samples that appear in train data: 19.46%",
           "Status": "FAIL"
          }
         ],
         "display": [
          {
           "payload": "19.46% (252 / 1295)                      of test data samples appear in train data",
           "type": "html"
          },
          {
           "payload": [
            {
             "engine_capacity": 2179,
             "fuel_type": 1,
             "kilometers_driven": 110000,
             "max_power_output": 147.94,
             "ownership": 0,
             "price": 503000,
             "transmission_Automatic": 0,
             "transmission_Manual": 1,
             "vehicle_year": 2015
            },
            {
             "engine_capacity": 1199,
             "fuel_type": 2,
             "kilometers_driven": 7032,
             "max_power_output": 88.76,
             "ownership": 0,
             "price": 779000,
             "transmission_Automatic": 1,
             "transmission_Manual": 0,
             "vehicle_year": 2019
            },
            {
             "engine_capacity": 1496,
             "fuel_type": 2,
             "kilometers_driven": 25538,
             "max_power_output": 88.73,
             "ownership": 0,
             "price": 625000,
             "transmission_Automatic": 0,
             "transmission_Manual": 1,
             "vehicle_year": 2017
            },
            {
             "engine_capacity": 1248,
             "fuel_type": 1,
             "kilometers_driven": 38817,
             "max_power_output": 74,
             "ownership": 0,
             "price": 740000,
             "transmission_Automatic": 0,
             "transmission_Manual": 1,
             "vehicle_year": 2018
            },
            {
             "engine_capacity": 1598,
             "fuel_type": 2,
             "kilometers_driven": 11000,
             "max_power_output": 103.5,
             "ownership": 0,
             "price": 645000,
             "transmission_Automatic": 1,
             "transmission_Manual": 0,
             "vehicle_year": 2016
            }
           ],
           "type": "dataframe"
          }
         ],
         "header": "Train Test Samples Mix",
         "type": "CheckResult",
         "value": {
          "data": {
           "comp": true,
           "meta": {
            "column_level_names": [
             null
            ],
            "dtypes": {
             "engine_capacity": "float64",
             "fuel_type": "float64",
             "kilometers_driven": "float64",
             "max_power_output": "float64",
             "ownership": "float64",
             "price": "float64",
             "transmission_Automatic": "float64",
             "transmission_Manual": "float64",
             "vehicle_year": "float64"
            },
            "header": [
             0
            ],
            "index": "{\"py/object\": \"pandas.core.indexes.base.Index\", \"comp\": true, \"values\": \"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\", \"txt\": false, \"meta\": {\"dtype\": \"object\", \"name\": null}}"
           },
           "txt": false,
           "values": "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"
          },
          "ratio": 0.1945945945945946
         }
        },
        {
         "check": {
          "name": "Feature Feature Correlation",
          "params": {
           "columns": null,
           "ignore_columns": null,
           "n_samples": 10000,
           "random_state": 42,
           "show_n_top_columns": 10
          },
          "summary": "    Checks for pairwise correlation between the features. <a href=\"https://docs.deepchecks.com/0.17/tabular/auto_checks/data_integrity/plot_feature_feature_correlation.html?utm_source=display_output&utm_medium=referral&utm_campaign=check_link\" target=\"_blank\">Read More...</a>"
         },
         "conditions_results": [
          {
           "Condition": "Not more than 0 pairs are correlated above 0.9",
           "More Info": "Correlation is greater than 0.9 for pairs [('transmission_Automatic', 'transmission_Manual')]",
           "Status": "FAIL"
          }
         ],
         "display": [
          {
           "payload": "{\"data\":[{\"coloraxis\":\"coloraxis\",\"name\":\"0\",\"x\":[\"vehicle_year\",\"kilometers_driven\",\"fuel_type\",\"ownership\",\"engine_capacity\",\"max_power_output\",\"transmission_Automatic\",\"transmission_Manual\"],\"y\":[\"vehicle_year\",\"kilometers_driven\",\"fuel_type\",\"ownership\",\"engine_capacity\",\"max_power_output\",\"transmission_Automatic\",\"transmission_Manual\"],\"z\":[[1.0,0.5764285557079462,0.09579830473943106,0.46917577682293027,0.10788788588969277,0.09979042569606465,0.19386161713524563,0.19386161713524563],[0.5764285557079462,1.0,0.435050992991267,0.3670108895200669,0.344912968499619,0.0851388143620836,0.18050398663529385,0.18050398663529385],[0.09579830473943106,0.435050992991267,1.0,0.08431294057685483,0.6405897305966737,0.29804299276381396,0.15053039690362802,0.15053039690362802],[0.46917577682293027,0.3670108895200669,0.08431294057685483,1.0,0.06645527621137788,0.03288276036943628,0.10569526165122106,0.10569526165122106],[0.10788788588969277,0.344912968499619,0.6405897305966737,0.06645527621137788,1.0,0.6919051118481258,0.0024260521814057747,0.0024260521814057747],[0.09979042569606465,0.0851388143620836,0.29804299276381396,0.03288276036943628,0.6919051118481258,1.0,0.14107108779768782,0.14107108779768782],[0.19386161713524563,0.18050398663529385,0.15053039690362802,0.10569526165122106,0.0024260521814057747,0.14107108779768782,1.0,1.0],[0.19386161713524563,0.18050398663529385,0.15053039690362802,0.10569526165122106,0.0024260521814057747,0.14107108779768782,1.0,1.0]],\"xaxis\":\"x\",\"yaxis\":\"y\",\"hovertemplate\":\"x: %{x}\\u003cbr\\u003ey: %{y}\\u003cbr\\u003ecolor: %{z}\\u003cextra\\u003e\\u003c\\u002fextra\\u003e\",\"type\":\"heatmap\"}],\"layout\":{\"template\":{\"data\":{\"histogram2dcontour\":[{\"type\":\"histogram2dcontour\",\"colorbar\":{\"outlinewidth\":0,\"ticks\":\"\"},\"colorscale\":[[0.0,\"#0d0887\"],[0.1111111111111111,\"#46039f\"],[0.2222222222222222,\"#7201a8\"],[0.3333333333333333,\"#9c179e\"],[0.4444444444444444,\"#bd3786\"],[0.5555555555555556,\"#d8576b\"],[0.6666666666666666,\"#ed7953\"],[0.7777777777777778,\"#fb9f3a\"],[0.8888888888888888,\"#fdca26\"],[1.0,\"#f0f921\"]]}],\"choropleth\":[{\"type\":\"choropleth\",\"colorbar\":{\"outlinewidth\":0,\"ticks\":\"\"}}],\"histogram2d\":[{\"type\":\"histogram2d\",\"colorbar\":{\"outlinewidth\":0,\"ticks\":\"\"},\"colorscale\":[[0.0,\"#0d0887\"],[0.1111111111111111,\"#46039f\"],[0.2222222222222222,\"#7201a8\"],[0.3333333333333333,\"#9c179e\"],[0.4444444444444444,\"#bd3786\"],[0.5555555555555556,\"#d8576b\"],[0.6666666666666666,\"#ed7953\"],[0.7777777777777778,\"#fb9f3a\"],[0.8888888888888888,\"#fdca26\"],[1.0,\"#f0f921\"]]}],\"heatmap\":[{\"type\":\"heatmap\",\"colorbar\":{\"outlinewidth\":0,\"ticks\":\"\"},\"colorscale\":[[0.0,\"#0d0887\"],[0.1111111111111111,\"#46039f\"],[0.2222222222222222,\"#7201a8\"],[0.3333333333333333,\"#9c179e\"],[0.4444444444444444,\"#bd3786\"],[0.5555555555555556,\"#d8576b\"],[0.6666666666666666,\"#ed7953\"],[0.7777777777777778,\"#fb9f3a\"],[0.8888888888888888,\"#fdca26\"],[1.0,\"#f0f921\"]]}],\"heatmapgl\":[{\"type\":\"heatmapgl\",\"colorbar\":{\"outlinewidth\":0,\"ticks\":\"\"},\"colorscale\":[[0.0,\"#0d0887\"],[0.1111111111111111,\"#46039f\"],[0.2222222222222222,\"#7201a8\"],[0.3333333333333333,\"#9c179e\"],[0.4444444444444444,\"#bd3786\"],[0.5555555555555556,\"#d8576b\"],[0.6666666666666666,\"#ed7953\"],[0.7777777777777778,\"#fb9f3a\"],[0.8888888888888888,\"#fdca26\"],[1.0,\"#f0f921\"]]}],\"contourcarpet\":[{\"type\":\"contourcarpet\",\"colorbar\":{\"outlinewidth\":0,\"ticks\":\"\"}}],\"contour\":[{\"type\":\"contour\",\"colorbar\":{\"outlinewidth\":0,\"ticks\":\"\"},\"colorscale\":[[0.0,\"#0d0887\"],[0.1111111111111111,\"#46039f\"],[0.2222222222222222,\"#7201a8\"],[0.3333333333333333,\"#9c179e\"],[0.4444444444444444,\"#bd3786\"],[0.5555555555555556,\"#d8576b\"],[0.6666666666666666,\"#ed7953\"],[0.7777777777777778,\"#fb9f3a\"],[0.8888888888888888,\"#fdca26\"],[1.0,\"#f0f921\"]]}],\"surface\":[{\"type\":\"surface\",\"colorbar\":{\"outlinewidth\":0,\"ticks\":\"\"},\"colorscale\":[[0.0,\"#0d0887\"],[0.1111111111111111,\"#46039f\"],[0.2222222222222222,\"#7201a8\"],[0.3333333333333333,\"#9c179e\"],[0.4444444444444444,\"#bd3786\"],[0.5555555555555556,\"#d8576b\"],[0.6666666666666666,\"#ed7953\"],[0.7777777777777778,\"#fb9f3a\"],[0.8888888888888888,\"#fdca26\"],[1.0,\"#f0f921\"]]}],\"mesh3d\":[{\"type\":\"mesh3d\",\"colorbar\":{\"outlinewidth\":0,\"ticks\":\"\"}}],\"scatter\":[{\"fillpattern\":{\"fillmode\":\"overlay\",\"size\":10,\"solidity\":0.2},\"type\":\"scatter\"}],\"parcoords\":[{\"type\":\"parcoords\",\"line\":{\"colorbar\":{\"outlinewidth\":0,\"ticks\":\"\"}}}],\"scatterpolargl\":[{\"type\":\"scatterpolargl\",\"marker\":{\"colorbar\":{\"outlinewidth\":0,\"ticks\":\"\"}}}],\"bar\":[{\"error_x\":{\"color\":\"#2a3f5f\"},\"error_y\":{\"color\":\"#2a3f5f\"},\"marker\":{\"line\":{\"color\":\"#E5ECF6\",\"width\":0.5},\"pattern\":{\"fillmode\":\"overlay\",\"size\":10,\"solidity\":0.2}},\"type\":\"bar\"}],\"scattergeo\":[{\"type\":\"scattergeo\",\"marker\":{\"colorbar\":{\"outlinewidth\":0,\"ticks\":\"\"}}}],\"scatterpolar\":[{\"type\":\"scatterpolar\",\"marker\":{\"colorbar\":{\"outlinewidth\":0,\"ticks\":\"\"}}}],\"histogram\":[{\"marker\":{\"pattern\":{\"fillmode\":\"overlay\",\"size\":10,\"solidity\":0.2}},\"type\":\"histogram\"}],\"scattergl\":[{\"type\":\"scattergl\",\"marker\":{\"colorbar\":{\"outlinewidth\":0,\"ticks\":\"\"}}}],\"scatter3d\":[{\"type\":\"scatter3d\",\"line\":{\"colorbar\":{\"outlinewidth\":0,\"ticks\":\"\"}},\"marker\":{\"colorbar\":{\"outlinewidth\":0,\"ticks\":\"\"}}}],\"scattermapbox\":[{\"type\":\"scattermapbox\",\"marker\":{\"colorbar\":{\"outlinewidth\":0,\"ticks\":\"\"}}}],\"scatterternary\":[{\"type\":\"scatterternary\",\"marker\":{\"colorbar\":{\"outlinewidth\":0,\"ticks\":\"\"}}}],\"scattercarpet\":[{\"type\":\"scattercarpet\",\"marker\":{\"colorbar\":{\"outlinewidth\":0,\"ticks\":\"\"}}}],\"carpet\":[{\"aaxis\":{\"endlinecolor\":\"#2a3f5f\",\"gridcolor\":\"white\",\"linecolor\":\"white\",\"minorgridcolor\":\"white\",\"startlinecolor\":\"#2a3f5f\"},\"baxis\":{\"endlinecolor\":\"#2a3f5f\",\"gridcolor\":\"white\",\"linecolor\":\"white\",\"minorgridcolor\":\"white\",\"startlinecolor\":\"#2a3f5f\"},\"type\":\"carpet\"}],\"table\":[{\"cells\":{\"fill\":{\"color\":\"#EBF0F8\"},\"line\":{\"color\":\"white\"}},\"header\":{\"fill\":{\"color\":\"#C8D4E3\"},\"line\":{\"color\":\"white\"}},\"type\":\"table\"}],\"barpolar\":[{\"marker\":{\"line\":{\"color\":\"#E5ECF6\",\"width\":0.5},\"pattern\":{\"fillmode\":\"overlay\",\"size\":10,\"solidity\":0.2}},\"type\":\"barpolar\"}],\"pie\":[{\"automargin\":true,\"type\":\"pie\"}]},\"layout\":{\"autotypenumbers\":\"strict\",\"colorway\":[\"#636efa\",\"#EF553B\",\"#00cc96\",\"#ab63fa\",\"#FFA15A\",\"#19d3f3\",\"#FF6692\",\"#B6E880\",\"#FF97FF\",\"#FECB52\"],\"font\":{\"color\":\"#2a3f5f\"},\"hovermode\":\"closest\",\"hoverlabel\":{\"align\":\"left\"},\"paper_bgcolor\":\"white\",\"plot_bgcolor\":\"#E5ECF6\",\"polar\":{\"bgcolor\":\"#E5ECF6\",\"angularaxis\":{\"gridcolor\":\"white\",\"linecolor\":\"white\",\"ticks\":\"\"},\"radialaxis\":{\"gridcolor\":\"white\",\"linecolor\":\"white\",\"ticks\":\"\"}},\"ternary\":{\"bgcolor\":\"#E5ECF6\",\"aaxis\":{\"gridcolor\":\"white\",\"linecolor\":\"white\",\"ticks\":\"\"},\"baxis\":{\"gridcolor\":\"white\",\"linecolor\":\"white\",\"ticks\":\"\"},\"caxis\":{\"gridcolor\":\"white\",\"linecolor\":\"white\",\"ticks\":\"\"}},\"coloraxis\":{\"colorbar\":{\"outlinewidth\":0,\"ticks\":\"\"}},\"colorscale\":{\"sequential\":[[0.0,\"#0d0887\"],[0.1111111111111111,\"#46039f\"],[0.2222222222222222,\"#7201a8\"],[0.3333333333333333,\"#9c179e\"],[0.4444444444444444,\"#bd3786\"],[0.5555555555555556,\"#d8576b\"],[0.6666666666666666,\"#ed7953\"],[0.7777777777777778,\"#fb9f3a\"],[0.8888888888888888,\"#fdca26\"],[1.0,\"#f0f921\"]],\"sequentialminus\":[[0.0,\"#0d0887\"],[0.1111111111111111,\"#46039f\"],[0.2222222222222222,\"#7201a8\"],[0.3333333333333333,\"#9c179e\"],[0.4444444444444444,\"#bd3786\"],[0.5555555555555556,\"#d8576b\"],[0.6666666666666666,\"#ed7953\"],[0.7777777777777778,\"#fb9f3a\"],[0.8888888888888888,\"#fdca26\"],[1.0,\"#f0f921\"]],\"diverging\":[[0,\"#8e0152\"],[0.1,\"#c51b7d\"],[0.2,\"#de77ae\"],[0.3,\"#f1b6da\"],[0.4,\"#fde0ef\"],[0.5,\"#f7f7f7\"],[0.6,\"#e6f5d0\"],[0.7,\"#b8e186\"],[0.8,\"#7fbc41\"],[0.9,\"#4d9221\"],[1,\"#276419\"]]},\"xaxis\":{\"gridcolor\":\"white\",\"linecolor\":\"white\",\"ticks\":\"\",\"title\":{\"standoff\":15},\"zerolinecolor\":\"white\",\"automargin\":true,\"zerolinewidth\":2},\"yaxis\":{\"gridcolor\":\"white\",\"linecolor\":\"white\",\"ticks\":\"\",\"title\":{\"standoff\":15},\"zerolinecolor\":\"white\",\"automargin\":true,\"zerolinewidth\":2},\"scene\":{\"xaxis\":{\"backgroundcolor\":\"#E5ECF6\",\"gridcolor\":\"white\",\"linecolor\":\"white\",\"showbackground\":true,\"ticks\":\"\",\"zerolinecolor\":\"white\",\"gridwidth\":2},\"yaxis\":{\"backgroundcolor\":\"#E5ECF6\",\"gridcolor\":\"white\",\"linecolor\":\"white\",\"showbackground\":true,\"ticks\":\"\",\"zerolinecolor\":\"white\",\"gridwidth\":2},\"zaxis\":{\"backgroundcolor\":\"#E5ECF6\",\"gridcolor\":\"white\",\"linecolor\":\"white\",\"showbackground\":true,\"ticks\":\"\",\"zerolinecolor\":\"white\",\"gridwidth\":2}},\"shapedefaults\":{\"line\":{\"color\":\"#2a3f5f\"}},\"annotationdefaults\":{\"arrowcolor\":\"#2a3f5f\",\"arrowhead\":0,\"arrowwidth\":1},\"geo\":{\"bgcolor\":\"white\",\"landcolor\":\"#E5ECF6\",\"subunitcolor\":\"white\",\"showland\":true,\"showlakes\":true,\"lakecolor\":\"white\"},\"title\":{\"x\":0.05},\"mapbox\":{\"style\":\"light\"}}},\"xaxis\":{\"anchor\":\"y\",\"domain\":[0.0,1.0],\"scaleanchor\":\"y\",\"constrain\":\"domain\"},\"yaxis\":{\"anchor\":\"x\",\"domain\":[0.0,1.0],\"autorange\":\"reversed\",\"constrain\":\"domain\"},\"coloraxis\":{\"colorscale\":[[0.0,\"rgb(3, 35, 51)\"],[0.09090909090909091,\"rgb(13, 48, 100)\"],[0.18181818181818182,\"rgb(53, 50, 155)\"],[0.2727272727272727,\"rgb(93, 62, 153)\"],[0.36363636363636365,\"rgb(126, 77, 143)\"],[0.45454545454545453,\"rgb(158, 89, 135)\"],[0.5454545454545454,\"rgb(193, 100, 121)\"],[0.6363636363636364,\"rgb(225, 113, 97)\"],[0.7272727272727273,\"rgb(246, 139, 69)\"],[0.8181818181818182,\"rgb(251, 173, 60)\"],[0.9090909090909091,\"rgb(246, 211, 70)\"],[1.0,\"rgb(231, 250, 90)\"]]},\"margin\":{\"t\":60}}}",
           "type": "plotly"
          },
          {
           "payload": "* Displayed as absolute values.",
           "type": "html"
          }
         ],
         "header": "Feature-Feature Correlation - Train Dataset",
         "type": "CheckResult",
         "value": "[{\"vehicle_year\":1.0,\"kilometers_driven\":-0.5764285557,\"fuel_type\":0.0957983047,\"ownership\":-0.4691757768,\"engine_capacity\":-0.1078878859,\"max_power_output\":0.0997904257,\"transmission_Automatic\":0.1938616171,\"transmission_Manual\":0.1938616171},{\"vehicle_year\":-0.5764285557,\"kilometers_driven\":1.0,\"fuel_type\":-0.435050993,\"ownership\":0.3670108895,\"engine_capacity\":0.3449129685,\"max_power_output\":0.0851388144,\"transmission_Automatic\":0.1805039866,\"transmission_Manual\":0.1805039866},{\"vehicle_year\":0.0957983047,\"kilometers_driven\":-0.435050993,\"fuel_type\":1.0,\"ownership\":-0.0843129406,\"engine_capacity\":-0.6405897306,\"max_power_output\":-0.2980429928,\"transmission_Automatic\":0.1505303969,\"transmission_Manual\":0.1505303969},{\"vehicle_year\":-0.4691757768,\"kilometers_driven\":0.3670108895,\"fuel_type\":-0.0843129406,\"ownership\":1.0,\"engine_capacity\":0.0664552762,\"max_power_output\":-0.0328827604,\"transmission_Automatic\":0.1056952617,\"transmission_Manual\":0.1056952617},{\"vehicle_year\":-0.1078878859,\"kilometers_driven\":0.3449129685,\"fuel_type\":-0.6405897306,\"ownership\":0.0664552762,\"engine_capacity\":1.0,\"max_power_output\":0.6919051118,\"transmission_Automatic\":0.0024260522,\"transmission_Manual\":0.0024260522},{\"vehicle_year\":0.0997904257,\"kilometers_driven\":0.0851388144,\"fuel_type\":-0.2980429928,\"ownership\":-0.0328827604,\"engine_capacity\":0.6919051118,\"max_power_output\":1.0,\"transmission_Automatic\":0.1410710878,\"transmission_Manual\":0.1410710878},{\"vehicle_year\":0.1938616171,\"kilometers_driven\":0.1805039866,\"fuel_type\":0.1505303969,\"ownership\":0.1056952617,\"engine_capacity\":0.0024260522,\"max_power_output\":0.1410710878,\"transmission_Automatic\":1.0,\"transmission_Manual\":1.0},{\"vehicle_year\":0.1938616171,\"kilometers_driven\":0.1805039866,\"fuel_type\":0.1505303969,\"ownership\":0.1056952617,\"engine_capacity\":0.0024260522,\"max_power_output\":0.1410710878,\"transmission_Automatic\":1.0,\"transmission_Manual\":1.0}]"
        },
        {
         "check": {
          "name": "Feature Feature Correlation",
          "params": {
           "columns": null,
           "ignore_columns": null,
           "n_samples": 10000,
           "random_state": 42,
           "show_n_top_columns": 10
          },
          "summary": "    Checks for pairwise correlation between the features. <a href=\"https://docs.deepchecks.com/0.17/tabular/auto_checks/data_integrity/plot_feature_feature_correlation.html?utm_source=display_output&utm_medium=referral&utm_campaign=check_link\" target=\"_blank\">Read More...</a>"
         },
         "conditions_results": [
          {
           "Condition": "Not more than 0 pairs are correlated above 0.9",
           "More Info": "Correlation is greater than 0.9 for pairs [('transmission_Automatic', 'transmission_Manual')]",
           "Status": "FAIL"
          }
         ],
         "display": [
          {
           "payload": "{\"data\":[{\"coloraxis\":\"coloraxis\",\"name\":\"0\",\"x\":[\"vehicle_year\",\"kilometers_driven\",\"fuel_type\",\"ownership\",\"engine_capacity\",\"max_power_output\",\"transmission_Automatic\",\"transmission_Manual\"],\"y\":[\"vehicle_year\",\"kilometers_driven\",\"fuel_type\",\"ownership\",\"engine_capacity\",\"max_power_output\",\"transmission_Automatic\",\"transmission_Manual\"],\"z\":[[1.0,0.5840945771676163,0.07017474881017195,0.4671137454761029,0.0757593840073658,0.06419537615707169,0.18350096333019456,0.18350096333019456],[0.5840945771676163,1.0,0.44017766339492126,0.3664390252308542,0.34207207199463546,0.11809814562299227,0.19218184060691013,0.19218184060691013],[0.07017474881017195,0.44017766339492126,1.0,0.07226308089220058,0.6568506618116017,0.3362209174509006,0.12218599990922767,0.12218599990922767],[0.4671137454761029,0.3664390252308542,0.07226308089220058,1.0,0.059469568698199464,0.015102396378582711,0.08986862019415023,0.08986862019415023],[0.0757593840073658,0.34207207199463546,0.6568506618116017,0.059469568698199464,1.0,0.7204546468540917,0.009500806118059977,0.009500806118059977],[0.06419537615707169,0.11809814562299227,0.3362209174509006,0.015102396378582711,0.7204546468540917,1.0,0.13833201283130958,0.13833201283130958],[0.18350096333019456,0.19218184060691013,0.12218599990922767,0.08986862019415023,0.009500806118059977,0.13833201283130958,1.0,1.0],[0.18350096333019456,0.19218184060691013,0.12218599990922767,0.08986862019415023,0.009500806118059977,0.13833201283130958,1.0,1.0]],\"xaxis\":\"x\",\"yaxis\":\"y\",\"hovertemplate\":\"x: %{x}\\u003cbr\\u003ey: %{y}\\u003cbr\\u003ecolor: %{z}\\u003cextra\\u003e\\u003c\\u002fextra\\u003e\",\"type\":\"heatmap\"}],\"layout\":{\"template\":{\"data\":{\"histogram2dcontour\":[{\"type\":\"histogram2dcontour\",\"colorbar\":{\"outlinewidth\":0,\"ticks\":\"\"},\"colorscale\":[[0.0,\"#0d0887\"],[0.1111111111111111,\"#46039f\"],[0.2222222222222222,\"#7201a8\"],[0.3333333333333333,\"#9c179e\"],[0.4444444444444444,\"#bd3786\"],[0.5555555555555556,\"#d8576b\"],[0.6666666666666666,\"#ed7953\"],[0.7777777777777778,\"#fb9f3a\"],[0.8888888888888888,\"#fdca26\"],[1.0,\"#f0f921\"]]}],\"choropleth\":[{\"type\":\"choropleth\",\"colorbar\":{\"outlinewidth\":0,\"ticks\":\"\"}}],\"histogram2d\":[{\"type\":\"histogram2d\",\"colorbar\":{\"outlinewidth\":0,\"ticks\":\"\"},\"colorscale\":[[0.0,\"#0d0887\"],[0.1111111111111111,\"#46039f\"],[0.2222222222222222,\"#7201a8\"],[0.3333333333333333,\"#9c179e\"],[0.4444444444444444,\"#bd3786\"],[0.5555555555555556,\"#d8576b\"],[0.6666666666666666,\"#ed7953\"],[0.7777777777777778,\"#fb9f3a\"],[0.8888888888888888,\"#fdca26\"],[1.0,\"#f0f921\"]]}],\"heatmap\":[{\"type\":\"heatmap\",\"colorbar\":{\"outlinewidth\":0,\"ticks\":\"\"},\"colorscale\":[[0.0,\"#0d0887\"],[0.1111111111111111,\"#46039f\"],[0.2222222222222222,\"#7201a8\"],[0.3333333333333333,\"#9c179e\"],[0.4444444444444444,\"#bd3786\"],[0.5555555555555556,\"#d8576b\"],[0.6666666666666666,\"#ed7953\"],[0.7777777777777778,\"#fb9f3a\"],[0.8888888888888888,\"#fdca26\"],[1.0,\"#f0f921\"]]}],\"heatmapgl\":[{\"type\":\"heatmapgl\",\"colorbar\":{\"outlinewidth\":0,\"ticks\":\"\"},\"colorscale\":[[0.0,\"#0d0887\"],[0.1111111111111111,\"#46039f\"],[0.2222222222222222,\"#7201a8\"],[0.3333333333333333,\"#9c179e\"],[0.4444444444444444,\"#bd3786\"],[0.5555555555555556,\"#d8576b\"],[0.6666666666666666,\"#ed7953\"],[0.7777777777777778,\"#fb9f3a\"],[0.8888888888888888,\"#fdca26\"],[1.0,\"#f0f921\"]]}],\"contourcarpet\":[{\"type\":\"contourcarpet\",\"colorbar\":{\"outlinewidth\":0,\"ticks\":\"\"}}],\"contour\":[{\"type\":\"contour\",\"colorbar\":{\"outlinewidth\":0,\"ticks\":\"\"},\"colorscale\":[[0.0,\"#0d0887\"],[0.1111111111111111,\"#46039f\"],[0.2222222222222222,\"#7201a8\"],[0.3333333333333333,\"#9c179e\"],[0.4444444444444444,\"#bd3786\"],[0.5555555555555556,\"#d8576b\"],[0.6666666666666666,\"#ed7953\"],[0.7777777777777778,\"#fb9f3a\"],[0.8888888888888888,\"#fdca26\"],[1.0,\"#f0f921\"]]}],\"surface\":[{\"type\":\"surface\",\"colorbar\":{\"outlinewidth\":0,\"ticks\":\"\"},\"colorscale\":[[0.0,\"#0d0887\"],[0.1111111111111111,\"#46039f\"],[0.2222222222222222,\"#7201a8\"],[0.3333333333333333,\"#9c179e\"],[0.4444444444444444,\"#bd3786\"],[0.5555555555555556,\"#d8576b\"],[0.6666666666666666,\"#ed7953\"],[0.7777777777777778,\"#fb9f3a\"],[0.8888888888888888,\"#fdca26\"],[1.0,\"#f0f921\"]]}],\"mesh3d\":[{\"type\":\"mesh3d\",\"colorbar\":{\"outlinewidth\":0,\"ticks\":\"\"}}],\"scatter\":[{\"fillpattern\":{\"fillmode\":\"overlay\",\"size\":10,\"solidity\":0.2},\"type\":\"scatter\"}],\"parcoords\":[{\"type\":\"parcoords\",\"line\":{\"colorbar\":{\"outlinewidth\":0,\"ticks\":\"\"}}}],\"scatterpolargl\":[{\"type\":\"scatterpolargl\",\"marker\":{\"colorbar\":{\"outlinewidth\":0,\"ticks\":\"\"}}}],\"bar\":[{\"error_x\":{\"color\":\"#2a3f5f\"},\"error_y\":{\"color\":\"#2a3f5f\"},\"marker\":{\"line\":{\"color\":\"#E5ECF6\",\"width\":0.5},\"pattern\":{\"fillmode\":\"overlay\",\"size\":10,\"solidity\":0.2}},\"type\":\"bar\"}],\"scattergeo\":[{\"type\":\"scattergeo\",\"marker\":{\"colorbar\":{\"outlinewidth\":0,\"ticks\":\"\"}}}],\"scatterpolar\":[{\"type\":\"scatterpolar\",\"marker\":{\"colorbar\":{\"outlinewidth\":0,\"ticks\":\"\"}}}],\"histogram\":[{\"marker\":{\"pattern\":{\"fillmode\":\"overlay\",\"size\":10,\"solidity\":0.2}},\"type\":\"histogram\"}],\"scattergl\":[{\"type\":\"scattergl\",\"marker\":{\"colorbar\":{\"outlinewidth\":0,\"ticks\":\"\"}}}],\"scatter3d\":[{\"type\":\"scatter3d\",\"line\":{\"colorbar\":{\"outlinewidth\":0,\"ticks\":\"\"}},\"marker\":{\"colorbar\":{\"outlinewidth\":0,\"ticks\":\"\"}}}],\"scattermapbox\":[{\"type\":\"scattermapbox\",\"marker\":{\"colorbar\":{\"outlinewidth\":0,\"ticks\":\"\"}}}],\"scatterternary\":[{\"type\":\"scatterternary\",\"marker\":{\"colorbar\":{\"outlinewidth\":0,\"ticks\":\"\"}}}],\"scattercarpet\":[{\"type\":\"scattercarpet\",\"marker\":{\"colorbar\":{\"outlinewidth\":0,\"ticks\":\"\"}}}],\"carpet\":[{\"aaxis\":{\"endlinecolor\":\"#2a3f5f\",\"gridcolor\":\"white\",\"linecolor\":\"white\",\"minorgridcolor\":\"white\",\"startlinecolor\":\"#2a3f5f\"},\"baxis\":{\"endlinecolor\":\"#2a3f5f\",\"gridcolor\":\"white\",\"linecolor\":\"white\",\"minorgridcolor\":\"white\",\"startlinecolor\":\"#2a3f5f\"},\"type\":\"carpet\"}],\"table\":[{\"cells\":{\"fill\":{\"color\":\"#EBF0F8\"},\"line\":{\"color\":\"white\"}},\"header\":{\"fill\":{\"color\":\"#C8D4E3\"},\"line\":{\"color\":\"white\"}},\"type\":\"table\"}],\"barpolar\":[{\"marker\":{\"line\":{\"color\":\"#E5ECF6\",\"width\":0.5},\"pattern\":{\"fillmode\":\"overlay\",\"size\":10,\"solidity\":0.2}},\"type\":\"barpolar\"}],\"pie\":[{\"automargin\":true,\"type\":\"pie\"}]},\"layout\":{\"autotypenumbers\":\"strict\",\"colorway\":[\"#636efa\",\"#EF553B\",\"#00cc96\",\"#ab63fa\",\"#FFA15A\",\"#19d3f3\",\"#FF6692\",\"#B6E880\",\"#FF97FF\",\"#FECB52\"],\"font\":{\"color\":\"#2a3f5f\"},\"hovermode\":\"closest\",\"hoverlabel\":{\"align\":\"left\"},\"paper_bgcolor\":\"white\",\"plot_bgcolor\":\"#E5ECF6\",\"polar\":{\"bgcolor\":\"#E5ECF6\",\"angularaxis\":{\"gridcolor\":\"white\",\"linecolor\":\"white\",\"ticks\":\"\"},\"radialaxis\":{\"gridcolor\":\"white\",\"linecolor\":\"white\",\"ticks\":\"\"}},\"ternary\":{\"bgcolor\":\"#E5ECF6\",\"aaxis\":{\"gridcolor\":\"white\",\"linecolor\":\"white\",\"ticks\":\"\"},\"baxis\":{\"gridcolor\":\"white\",\"linecolor\":\"white\",\"ticks\":\"\"},\"caxis\":{\"gridcolor\":\"white\",\"linecolor\":\"white\",\"ticks\":\"\"}},\"coloraxis\":{\"colorbar\":{\"outlinewidth\":0,\"ticks\":\"\"}},\"colorscale\":{\"sequential\":[[0.0,\"#0d0887\"],[0.1111111111111111,\"#46039f\"],[0.2222222222222222,\"#7201a8\"],[0.3333333333333333,\"#9c179e\"],[0.4444444444444444,\"#bd3786\"],[0.5555555555555556,\"#d8576b\"],[0.6666666666666666,\"#ed7953\"],[0.7777777777777778,\"#fb9f3a\"],[0.8888888888888888,\"#fdca26\"],[1.0,\"#f0f921\"]],\"sequentialminus\":[[0.0,\"#0d0887\"],[0.1111111111111111,\"#46039f\"],[0.2222222222222222,\"#7201a8\"],[0.3333333333333333,\"#9c179e\"],[0.4444444444444444,\"#bd3786\"],[0.5555555555555556,\"#d8576b\"],[0.6666666666666666,\"#ed7953\"],[0.7777777777777778,\"#fb9f3a\"],[0.8888888888888888,\"#fdca26\"],[1.0,\"#f0f921\"]],\"diverging\":[[0,\"#8e0152\"],[0.1,\"#c51b7d\"],[0.2,\"#de77ae\"],[0.3,\"#f1b6da\"],[0.4,\"#fde0ef\"],[0.5,\"#f7f7f7\"],[0.6,\"#e6f5d0\"],[0.7,\"#b8e186\"],[0.8,\"#7fbc41\"],[0.9,\"#4d9221\"],[1,\"#276419\"]]},\"xaxis\":{\"gridcolor\":\"white\",\"linecolor\":\"white\",\"ticks\":\"\",\"title\":{\"standoff\":15},\"zerolinecolor\":\"white\",\"automargin\":true,\"zerolinewidth\":2},\"yaxis\":{\"gridcolor\":\"white\",\"linecolor\":\"white\",\"ticks\":\"\",\"title\":{\"standoff\":15},\"zerolinecolor\":\"white\",\"automargin\":true,\"zerolinewidth\":2},\"scene\":{\"xaxis\":{\"backgroundcolor\":\"#E5ECF6\",\"gridcolor\":\"white\",\"linecolor\":\"white\",\"showbackground\":true,\"ticks\":\"\",\"zerolinecolor\":\"white\",\"gridwidth\":2},\"yaxis\":{\"backgroundcolor\":\"#E5ECF6\",\"gridcolor\":\"white\",\"linecolor\":\"white\",\"showbackground\":true,\"ticks\":\"\",\"zerolinecolor\":\"white\",\"gridwidth\":2},\"zaxis\":{\"backgroundcolor\":\"#E5ECF6\",\"gridcolor\":\"white\",\"linecolor\":\"white\",\"showbackground\":true,\"ticks\":\"\",\"zerolinecolor\":\"white\",\"gridwidth\":2}},\"shapedefaults\":{\"line\":{\"color\":\"#2a3f5f\"}},\"annotationdefaults\":{\"arrowcolor\":\"#2a3f5f\",\"arrowhead\":0,\"arrowwidth\":1},\"geo\":{\"bgcolor\":\"white\",\"landcolor\":\"#E5ECF6\",\"subunitcolor\":\"white\",\"showland\":true,\"showlakes\":true,\"lakecolor\":\"white\"},\"title\":{\"x\":0.05},\"mapbox\":{\"style\":\"light\"}}},\"xaxis\":{\"anchor\":\"y\",\"domain\":[0.0,1.0],\"scaleanchor\":\"y\",\"constrain\":\"domain\"},\"yaxis\":{\"anchor\":\"x\",\"domain\":[0.0,1.0],\"autorange\":\"reversed\",\"constrain\":\"domain\"},\"coloraxis\":{\"colorscale\":[[0.0,\"rgb(3, 35, 51)\"],[0.09090909090909091,\"rgb(13, 48, 100)\"],[0.18181818181818182,\"rgb(53, 50, 155)\"],[0.2727272727272727,\"rgb(93, 62, 153)\"],[0.36363636363636365,\"rgb(126, 77, 143)\"],[0.45454545454545453,\"rgb(158, 89, 135)\"],[0.5454545454545454,\"rgb(193, 100, 121)\"],[0.6363636363636364,\"rgb(225, 113, 97)\"],[0.7272727272727273,\"rgb(246, 139, 69)\"],[0.8181818181818182,\"rgb(251, 173, 60)\"],[0.9090909090909091,\"rgb(246, 211, 70)\"],[1.0,\"rgb(231, 250, 90)\"]]},\"margin\":{\"t\":60}}}",
           "type": "plotly"
          },
          {
           "payload": "* Displayed as absolute values.",
           "type": "html"
          }
         ],
         "header": "Feature-Feature Correlation - Test Dataset",
         "type": "CheckResult",
         "value": "[{\"vehicle_year\":1.0,\"kilometers_driven\":-0.5840945772,\"fuel_type\":0.0701747488,\"ownership\":-0.4671137455,\"engine_capacity\":-0.075759384,\"max_power_output\":0.0641953762,\"transmission_Automatic\":0.1835009633,\"transmission_Manual\":0.1835009633},{\"vehicle_year\":-0.5840945772,\"kilometers_driven\":1.0,\"fuel_type\":-0.4401776634,\"ownership\":0.3664390252,\"engine_capacity\":0.342072072,\"max_power_output\":0.1180981456,\"transmission_Automatic\":0.1921818406,\"transmission_Manual\":0.1921818406},{\"vehicle_year\":0.0701747488,\"kilometers_driven\":-0.4401776634,\"fuel_type\":1.0,\"ownership\":-0.0722630809,\"engine_capacity\":-0.6568506618,\"max_power_output\":-0.3362209175,\"transmission_Automatic\":0.1221859999,\"transmission_Manual\":0.1221859999},{\"vehicle_year\":-0.4671137455,\"kilometers_driven\":0.3664390252,\"fuel_type\":-0.0722630809,\"ownership\":1.0,\"engine_capacity\":0.0594695687,\"max_power_output\":-0.0151023964,\"transmission_Automatic\":0.0898686202,\"transmission_Manual\":0.0898686202},{\"vehicle_year\":-0.075759384,\"kilometers_driven\":0.342072072,\"fuel_type\":-0.6568506618,\"ownership\":0.0594695687,\"engine_capacity\":1.0,\"max_power_output\":0.7204546469,\"transmission_Automatic\":0.0095008061,\"transmission_Manual\":0.0095008061},{\"vehicle_year\":0.0641953762,\"kilometers_driven\":0.1180981456,\"fuel_type\":-0.3362209175,\"ownership\":-0.0151023964,\"engine_capacity\":0.7204546469,\"max_power_output\":1.0,\"transmission_Automatic\":0.1383320128,\"transmission_Manual\":0.1383320128},{\"vehicle_year\":0.1835009633,\"kilometers_driven\":0.1921818406,\"fuel_type\":0.1221859999,\"ownership\":0.0898686202,\"engine_capacity\":0.0095008061,\"max_power_output\":0.1383320128,\"transmission_Automatic\":1.0,\"transmission_Manual\":1.0},{\"vehicle_year\":0.1835009633,\"kilometers_driven\":0.1921818406,\"fuel_type\":0.1221859999,\"ownership\":0.0898686202,\"engine_capacity\":0.0095008061,\"max_power_output\":0.1383320128,\"transmission_Automatic\":1.0,\"transmission_Manual\":1.0}]"
        },
        {
         "check": {
          "name": "Weak Segments Performance",
          "params": {
           "alternative_scorer": null,
           "categorical_aggregation_threshold": 0.05,
           "columns": null,
           "ignore_columns": null,
           "loss_per_sample": null,
           "multiple_segments_per_feature": true,
           "n_samples": 10000,
           "n_to_show": 5,
           "n_top_features": 10,
           "random_state": 42,
           "score_per_sample": null,
           "segment_minimum_size_ratio": 0.05
          },
          "summary": "Search for segments with low performance scores. <a href=\"https://docs.deepchecks.com/0.17/tabular/auto_checks/model_evaluation/plot_weak_segments_performance.html?utm_source=display_output&utm_medium=referral&utm_campaign=check_link\" target=\"_blank\">Read More...</a>"
         },
         "conditions_results": [
          {
           "Condition": "The relative performance of weakest segment is greater than 80% of average model performance.",
           "More Info": "Found a segment with neg rmse score of -662,462.815 in comparison to an average score of -440,183.271 in sampled data.",
           "Status": "WARN"
          }
         ],
         "display": [
          {
           "payload": "Showcasing intersections of features with weakest detected segments.<br> The full list of weak segments can be observed in the check result value. ",
           "type": "html"
          },
          {
           "payload": {
            "max_power_output vs kilometers_driven": [
             {
              "payload": "{\"data\":[{\"coloraxis\":\"coloraxis\",\"name\":\"0\",\"x\":[\"[0, 62.05]\",\"(62.05, 73.9]\",\"(73.9, 82]\",\"(82, 94]\",\"(94, 189.3]\"],\"y\":[\"[1, 19,950]\",\"(19,950, 30,000]\",\"(30,000, 40,000]\",\"(40,000, 55,500]\",\"(55,500, 195,000]\"],\"z\":[[-580521.3583738371,-441622.6079818252,-255223.33590050644,-260701.42563347833,-172155.03189700493],[-607655.7454840397,-498300.19184601796,-326805.99677969504,-342047.8429640004,-191081.4771225723],[-621032.1971682501,-504689.36635609943,-338902.58844530163,-353096.40684489044,-234271.30697602784],[-615739.2089974006,-536193.8518588765,-385671.2288544815,-381203.8589383574,-259119.23482742615],[-645047.2142588923,-548310.8003247675,-453006.53636773606,-432991.05865591316,-336143.41704989993]],\"type\":\"heatmap\",\"xaxis\":\"x\",\"yaxis\":\"y\",\"hovertemplate\":\"max_power_output: %{x}\\u003cbr\\u003ekilometers_driven: %{y}\\u003cbr\\u003eNeg RMSE Score: %{z}\\u003cextra\\u003e\\u003c\\u002fextra\\u003e\",\"text\":[[\"-580,521.36\\n(1.22%)\",\"-441,622.61\\n(1.95%)\",\"-255,223.34\\n(3.24%)\",\"-260,701.43\\n(2.51%)\",\"-172,155.03\\n(2.07%)\"],[\"-607,655.75\\n(1.62%)\",\"-498,300.19\\n(2.12%)\",\"-326,806\\n(3.19%)\",\"-342,047.84\\n(3.19%)\",\"-191,081.48\\n(1.87%)\"],[\"-621,032.2\\n(1.83%)\",\"-504,689.37\\n(2.57%)\",\"-338,902.59\\n(3.63%)\",\"-353,096.41\\n(3.59%)\",\"-234,271.31\\n(2.36%)\"],[\"-615,739.21\\n(2.34%)\",\"-536,193.85\\n(2.95%)\",\"-385,671.23\\n(2.9%)\",\"-381,203.86\\n(4.07%)\",\"-259,119.23\\n(2.61%)\"],[\"-645,047.21\\n(5.02%)\",\"-548,310.8\\n(15.5%)\",\"-453,006.54\\n(11.99%)\",\"-432,991.06\\n(12.45%)\",\"-336,143.42\\n(14.69%)\"]],\"texttemplate\":\"%{text}\"}],\"layout\":{\"template\":{\"data\":{\"histogram2dcontour\":[{\"type\":\"histogram2dcontour\",\"colorbar\":{\"outlinewidth\":0,\"ticks\":\"\"},\"colorscale\":[[0.0,\"#0d0887\"],[0.1111111111111111,\"#46039f\"],[0.2222222222222222,\"#7201a8\"],[0.3333333333333333,\"#9c179e\"],[0.4444444444444444,\"#bd3786\"],[0.5555555555555556,\"#d8576b\"],[0.6666666666666666,\"#ed7953\"],[0.7777777777777778,\"#fb9f3a\"],[0.8888888888888888,\"#fdca26\"],[1.0,\"#f0f921\"]]}],\"choropleth\":[{\"type\":\"choropleth\",\"colorbar\":{\"outlinewidth\":0,\"ticks\":\"\"}}],\"histogram2d\":[{\"type\":\"histogram2d\",\"colorbar\":{\"outlinewidth\":0,\"ticks\":\"\"},\"colorscale\":[[0.0,\"#0d0887\"],[0.1111111111111111,\"#46039f\"],[0.2222222222222222,\"#7201a8\"],[0.3333333333333333,\"#9c179e\"],[0.4444444444444444,\"#bd3786\"],[0.5555555555555556,\"#d8576b\"],[0.6666666666666666,\"#ed7953\"],[0.7777777777777778,\"#fb9f3a\"],[0.8888888888888888,\"#fdca26\"],[1.0,\"#f0f921\"]]}],\"heatmap\":[{\"type\":\"heatmap\",\"colorbar\":{\"outlinewidth\":0,\"ticks\":\"\"},\"colorscale\":[[0.0,\"#0d0887\"],[0.1111111111111111,\"#46039f\"],[0.2222222222222222,\"#7201a8\"],[0.3333333333333333,\"#9c179e\"],[0.4444444444444444,\"#bd3786\"],[0.5555555555555556,\"#d8576b\"],[0.6666666666666666,\"#ed7953\"],[0.7777777777777778,\"#fb9f3a\"],[0.8888888888888888,\"#fdca26\"],[1.0,\"#f0f921\"]]}],\"heatmapgl\":[{\"type\":\"heatmapgl\",\"colorbar\":{\"outlinewidth\":0,\"ticks\":\"\"},\"colorscale\":[[0.0,\"#0d0887\"],[0.1111111111111111,\"#46039f\"],[0.2222222222222222,\"#7201a8\"],[0.3333333333333333,\"#9c179e\"],[0.4444444444444444,\"#bd3786\"],[0.5555555555555556,\"#d8576b\"],[0.6666666666666666,\"#ed7953\"],[0.7777777777777778,\"#fb9f3a\"],[0.8888888888888888,\"#fdca26\"],[1.0,\"#f0f921\"]]}],\"contourcarpet\":[{\"type\":\"contourcarpet\",\"colorbar\":{\"outlinewidth\":0,\"ticks\":\"\"}}],\"contour\":[{\"type\":\"contour\",\"colorbar\":{\"outlinewidth\":0,\"ticks\":\"\"},\"colorscale\":[[0.0,\"#0d0887\"],[0.1111111111111111,\"#46039f\"],[0.2222222222222222,\"#7201a8\"],[0.3333333333333333,\"#9c179e\"],[0.4444444444444444,\"#bd3786\"],[0.5555555555555556,\"#d8576b\"],[0.6666666666666666,\"#ed7953\"],[0.7777777777777778,\"#fb9f3a\"],[0.8888888888888888,\"#fdca26\"],[1.0,\"#f0f921\"]]}],\"surface\":[{\"type\":\"surface\",\"colorbar\":{\"outlinewidth\":0,\"ticks\":\"\"},\"colorscale\":[[0.0,\"#0d0887\"],[0.1111111111111111,\"#46039f\"],[0.2222222222222222,\"#7201a8\"],[0.3333333333333333,\"#9c179e\"],[0.4444444444444444,\"#bd3786\"],[0.5555555555555556,\"#d8576b\"],[0.6666666666666666,\"#ed7953\"],[0.7777777777777778,\"#fb9f3a\"],[0.8888888888888888,\"#fdca26\"],[1.0,\"#f0f921\"]]}],\"mesh3d\":[{\"type\":\"mesh3d\",\"colorbar\":{\"outlinewidth\":0,\"ticks\":\"\"}}],\"scatter\":[{\"fillpattern\":{\"fillmode\":\"overlay\",\"size\":10,\"solidity\":0.2},\"type\":\"scatter\"}],\"parcoords\":[{\"type\":\"parcoords\",\"line\":{\"colorbar\":{\"outlinewidth\":0,\"ticks\":\"\"}}}],\"scatterpolargl\":[{\"type\":\"scatterpolargl\",\"marker\":{\"colorbar\":{\"outlinewidth\":0,\"ticks\":\"\"}}}],\"bar\":[{\"error_x\":{\"color\":\"#2a3f5f\"},\"error_y\":{\"color\":\"#2a3f5f\"},\"marker\":{\"line\":{\"color\":\"#E5ECF6\",\"width\":0.5},\"pattern\":{\"fillmode\":\"overlay\",\"size\":10,\"solidity\":0.2}},\"type\":\"bar\"}],\"scattergeo\":[{\"type\":\"scattergeo\",\"marker\":{\"colorbar\":{\"outlinewidth\":0,\"ticks\":\"\"}}}],\"scatterpolar\":[{\"type\":\"scatterpolar\",\"marker\":{\"colorbar\":{\"outlinewidth\":0,\"ticks\":\"\"}}}],\"histogram\":[{\"marker\":{\"pattern\":{\"fillmode\":\"overlay\",\"size\":10,\"solidity\":0.2}},\"type\":\"histogram\"}],\"scattergl\":[{\"type\":\"scattergl\",\"marker\":{\"colorbar\":{\"outlinewidth\":0,\"ticks\":\"\"}}}],\"scatter3d\":[{\"type\":\"scatter3d\",\"line\":{\"colorbar\":{\"outlinewidth\":0,\"ticks\":\"\"}},\"marker\":{\"colorbar\":{\"outlinewidth\":0,\"ticks\":\"\"}}}],\"scattermapbox\":[{\"type\":\"scattermapbox\",\"marker\":{\"colorbar\":{\"outlinewidth\":0,\"ticks\":\"\"}}}],\"scatterternary\":[{\"type\":\"scatterternary\",\"marker\":{\"colorbar\":{\"outlinewidth\":0,\"ticks\":\"\"}}}],\"scattercarpet\":[{\"type\":\"scattercarpet\",\"marker\":{\"colorbar\":{\"outlinewidth\":0,\"ticks\":\"\"}}}],\"carpet\":[{\"aaxis\":{\"endlinecolor\":\"#2a3f5f\",\"gridcolor\":\"white\",\"linecolor\":\"white\",\"minorgridcolor\":\"white\",\"startlinecolor\":\"#2a3f5f\"},\"baxis\":{\"endlinecolor\":\"#2a3f5f\",\"gridcolor\":\"white\",\"linecolor\":\"white\",\"minorgridcolor\":\"white\",\"startlinecolor\":\"#2a3f5f\"},\"type\":\"carpet\"}],\"table\":[{\"cells\":{\"fill\":{\"color\":\"#EBF0F8\"},\"line\":{\"color\":\"white\"}},\"header\":{\"fill\":{\"color\":\"#C8D4E3\"},\"line\":{\"color\":\"white\"}},\"type\":\"table\"}],\"barpolar\":[{\"marker\":{\"line\":{\"color\":\"#E5ECF6\",\"width\":0.5},\"pattern\":{\"fillmode\":\"overlay\",\"size\":10,\"solidity\":0.2}},\"type\":\"barpolar\"}],\"pie\":[{\"automargin\":true,\"type\":\"pie\"}]},\"layout\":{\"autotypenumbers\":\"strict\",\"colorway\":[\"#636efa\",\"#EF553B\",\"#00cc96\",\"#ab63fa\",\"#FFA15A\",\"#19d3f3\",\"#FF6692\",\"#B6E880\",\"#FF97FF\",\"#FECB52\"],\"font\":{\"color\":\"#2a3f5f\"},\"hovermode\":\"closest\",\"hoverlabel\":{\"align\":\"left\"},\"paper_bgcolor\":\"white\",\"plot_bgcolor\":\"#E5ECF6\",\"polar\":{\"bgcolor\":\"#E5ECF6\",\"angularaxis\":{\"gridcolor\":\"white\",\"linecolor\":\"white\",\"ticks\":\"\"},\"radialaxis\":{\"gridcolor\":\"white\",\"linecolor\":\"white\",\"ticks\":\"\"}},\"ternary\":{\"bgcolor\":\"#E5ECF6\",\"aaxis\":{\"gridcolor\":\"white\",\"linecolor\":\"white\",\"ticks\":\"\"},\"baxis\":{\"gridcolor\":\"white\",\"linecolor\":\"white\",\"ticks\":\"\"},\"caxis\":{\"gridcolor\":\"white\",\"linecolor\":\"white\",\"ticks\":\"\"}},\"coloraxis\":{\"colorbar\":{\"outlinewidth\":0,\"ticks\":\"\"}},\"colorscale\":{\"sequential\":[[0.0,\"#0d0887\"],[0.1111111111111111,\"#46039f\"],[0.2222222222222222,\"#7201a8\"],[0.3333333333333333,\"#9c179e\"],[0.4444444444444444,\"#bd3786\"],[0.5555555555555556,\"#d8576b\"],[0.6666666666666666,\"#ed7953\"],[0.7777777777777778,\"#fb9f3a\"],[0.8888888888888888,\"#fdca26\"],[1.0,\"#f0f921\"]],\"sequentialminus\":[[0.0,\"#0d0887\"],[0.1111111111111111,\"#46039f\"],[0.2222222222222222,\"#7201a8\"],[0.3333333333333333,\"#9c179e\"],[0.4444444444444444,\"#bd3786\"],[0.5555555555555556,\"#d8576b\"],[0.6666666666666666,\"#ed7953\"],[0.7777777777777778,\"#fb9f3a\"],[0.8888888888888888,\"#fdca26\"],[1.0,\"#f0f921\"]],\"diverging\":[[0,\"#8e0152\"],[0.1,\"#c51b7d\"],[0.2,\"#de77ae\"],[0.3,\"#f1b6da\"],[0.4,\"#fde0ef\"],[0.5,\"#f7f7f7\"],[0.6,\"#e6f5d0\"],[0.7,\"#b8e186\"],[0.8,\"#7fbc41\"],[0.9,\"#4d9221\"],[1,\"#276419\"]]},\"xaxis\":{\"gridcolor\":\"white\",\"linecolor\":\"white\",\"ticks\":\"\",\"title\":{\"standoff\":15},\"zerolinecolor\":\"white\",\"automargin\":true,\"zerolinewidth\":2},\"yaxis\":{\"gridcolor\":\"white\",\"linecolor\":\"white\",\"ticks\":\"\",\"title\":{\"standoff\":15},\"zerolinecolor\":\"white\",\"automargin\":true,\"zerolinewidth\":2},\"scene\":{\"xaxis\":{\"backgroundcolor\":\"#E5ECF6\",\"gridcolor\":\"white\",\"linecolor\":\"white\",\"showbackground\":true,\"ticks\":\"\",\"zerolinecolor\":\"white\",\"gridwidth\":2},\"yaxis\":{\"backgroundcolor\":\"#E5ECF6\",\"gridcolor\":\"white\",\"linecolor\":\"white\",\"showbackground\":true,\"ticks\":\"\",\"zerolinecolor\":\"white\",\"gridwidth\":2},\"zaxis\":{\"backgroundcolor\":\"#E5ECF6\",\"gridcolor\":\"white\",\"linecolor\":\"white\",\"showbackground\":true,\"ticks\":\"\",\"zerolinecolor\":\"white\",\"gridwidth\":2}},\"shapedefaults\":{\"line\":{\"color\":\"#2a3f5f\"}},\"annotationdefaults\":{\"arrowcolor\":\"#2a3f5f\",\"arrowhead\":0,\"arrowwidth\":1},\"geo\":{\"bgcolor\":\"white\",\"landcolor\":\"#E5ECF6\",\"subunitcolor\":\"white\",\"showland\":true,\"showlakes\":true,\"lakecolor\":\"white\"},\"title\":{\"x\":0.05},\"mapbox\":{\"style\":\"light\"}}},\"xaxis\":{\"anchor\":\"y\",\"domain\":[0.0,1.0],\"scaleanchor\":\"y\",\"constrain\":\"domain\",\"title\":{\"text\":\"max_power_output\"},\"showgrid\":false},\"yaxis\":{\"anchor\":\"x\",\"domain\":[0.0,1.0],\"autorange\":\"reversed\",\"constrain\":\"domain\",\"title\":{\"text\":\"kilometers_driven\"},\"showgrid\":false},\"coloraxis\":{\"colorbar\":{\"title\":{\"text\":\"Neg RMSE Score\"}},\"colorscale\":[[0.0,\"rgb(165,0,38)\"],[0.1,\"rgb(215,48,39)\"],[0.2,\"rgb(244,109,67)\"],[0.3,\"rgb(253,174,97)\"],[0.4,\"rgb(254,224,139)\"],[0.5,\"rgb(255,255,191)\"],[0.6,\"rgb(217,239,139)\"],[0.7,\"rgb(166,217,106)\"],[0.8,\"rgb(102,189,99)\"],[0.9,\"rgb(26,152,80)\"],[1.0,\"rgb(0,104,55)\"]]},\"margin\":{\"t\":60},\"title\":{\"text\":\"Neg RMSE Score (percent of data)\"},\"height\":600}}",
              "type": "plotly"
             },
             {
              "payload": "Check ran on 5180 data samples. Neg RMSE Score on the full data set is -440,183.27.",
              "type": "html"
             }
            ],
            "vehicle_year": [
             {
              "payload": "{\"data\":[{\"coloraxis\":\"coloraxis\",\"name\":\"0\",\"x\":[\"[2,006, 2,009.5]\",\"(2,009.5, 2,012]\",\"(2,012, 2,013]\",\"(2,013, 2,014]\",\"(2,014, 2,016]\",\"(2,016, 2,017]\",\"(2,017, 2,018]\",\"(2,018, 2,020]\"],\"y\":[\"\"],\"z\":[[-638013.5321120175,-552415.5962579172,-493678.6004227974,-444696.9527169929,-392440.4028348178,-352789.2090826459,-310780.82420616446,-279961.06395166426]],\"type\":\"heatmap\",\"xaxis\":\"x\",\"yaxis\":\"y\",\"hovertemplate\":\"vehicle_year: %{x}\\u003cbr\\u003ey: %{y}\\u003cbr\\u003eNeg RMSE Score: %{z}\\u003cextra\\u003e\\u003c\\u002fextra\\u003e\",\"text\":[[\"-638,013.53\\n(7.78%)\",\"-552,415.6\\n(21.91%)\",\"-493,678.6\\n(18.22%)\",\"-444,696.95\\n(18.24%)\",\"-392,440.4\\n(30.5%)\",\"-352,789.21\\n(24.61%)\",\"-310,780.82\\n(23.8%)\",\"-279,961.06\\n(16.93%)\"]],\"texttemplate\":\"%{text}\"}],\"layout\":{\"template\":{\"data\":{\"histogram2dcontour\":[{\"type\":\"histogram2dcontour\",\"colorbar\":{\"outlinewidth\":0,\"ticks\":\"\"},\"colorscale\":[[0.0,\"#0d0887\"],[0.1111111111111111,\"#46039f\"],[0.2222222222222222,\"#7201a8\"],[0.3333333333333333,\"#9c179e\"],[0.4444444444444444,\"#bd3786\"],[0.5555555555555556,\"#d8576b\"],[0.6666666666666666,\"#ed7953\"],[0.7777777777777778,\"#fb9f3a\"],[0.8888888888888888,\"#fdca26\"],[1.0,\"#f0f921\"]]}],\"choropleth\":[{\"type\":\"choropleth\",\"colorbar\":{\"outlinewidth\":0,\"ticks\":\"\"}}],\"histogram2d\":[{\"type\":\"histogram2d\",\"colorbar\":{\"outlinewidth\":0,\"ticks\":\"\"},\"colorscale\":[[0.0,\"#0d0887\"],[0.1111111111111111,\"#46039f\"],[0.2222222222222222,\"#7201a8\"],[0.3333333333333333,\"#9c179e\"],[0.4444444444444444,\"#bd3786\"],[0.5555555555555556,\"#d8576b\"],[0.6666666666666666,\"#ed7953\"],[0.7777777777777778,\"#fb9f3a\"],[0.8888888888888888,\"#fdca26\"],[1.0,\"#f0f921\"]]}],\"heatmap\":[{\"type\":\"heatmap\",\"colorbar\":{\"outlinewidth\":0,\"ticks\":\"\"},\"colorscale\":[[0.0,\"#0d0887\"],[0.1111111111111111,\"#46039f\"],[0.2222222222222222,\"#7201a8\"],[0.3333333333333333,\"#9c179e\"],[0.4444444444444444,\"#bd3786\"],[0.5555555555555556,\"#d8576b\"],[0.6666666666666666,\"#ed7953\"],[0.7777777777777778,\"#fb9f3a\"],[0.8888888888888888,\"#fdca26\"],[1.0,\"#f0f921\"]]}],\"heatmapgl\":[{\"type\":\"heatmapgl\",\"colorbar\":{\"outlinewidth\":0,\"ticks\":\"\"},\"colorscale\":[[0.0,\"#0d0887\"],[0.1111111111111111,\"#46039f\"],[0.2222222222222222,\"#7201a8\"],[0.3333333333333333,\"#9c179e\"],[0.4444444444444444,\"#bd3786\"],[0.5555555555555556,\"#d8576b\"],[0.6666666666666666,\"#ed7953\"],[0.7777777777777778,\"#fb9f3a\"],[0.8888888888888888,\"#fdca26\"],[1.0,\"#f0f921\"]]}],\"contourcarpet\":[{\"type\":\"contourcarpet\",\"colorbar\":{\"outlinewidth\":0,\"ticks\":\"\"}}],\"contour\":[{\"type\":\"contour\",\"colorbar\":{\"outlinewidth\":0,\"ticks\":\"\"},\"colorscale\":[[0.0,\"#0d0887\"],[0.1111111111111111,\"#46039f\"],[0.2222222222222222,\"#7201a8\"],[0.3333333333333333,\"#9c179e\"],[0.4444444444444444,\"#bd3786\"],[0.5555555555555556,\"#d8576b\"],[0.6666666666666666,\"#ed7953\"],[0.7777777777777778,\"#fb9f3a\"],[0.8888888888888888,\"#fdca26\"],[1.0,\"#f0f921\"]]}],\"surface\":[{\"type\":\"surface\",\"colorbar\":{\"outlinewidth\":0,\"ticks\":\"\"},\"colorscale\":[[0.0,\"#0d0887\"],[0.1111111111111111,\"#46039f\"],[0.2222222222222222,\"#7201a8\"],[0.3333333333333333,\"#9c179e\"],[0.4444444444444444,\"#bd3786\"],[0.5555555555555556,\"#d8576b\"],[0.6666666666666666,\"#ed7953\"],[0.7777777777777778,\"#fb9f3a\"],[0.8888888888888888,\"#fdca26\"],[1.0,\"#f0f921\"]]}],\"mesh3d\":[{\"type\":\"mesh3d\",\"colorbar\":{\"outlinewidth\":0,\"ticks\":\"\"}}],\"scatter\":[{\"fillpattern\":{\"fillmode\":\"overlay\",\"size\":10,\"solidity\":0.2},\"type\":\"scatter\"}],\"parcoords\":[{\"type\":\"parcoords\",\"line\":{\"colorbar\":{\"outlinewidth\":0,\"ticks\":\"\"}}}],\"scatterpolargl\":[{\"type\":\"scatterpolargl\",\"marker\":{\"colorbar\":{\"outlinewidth\":0,\"ticks\":\"\"}}}],\"bar\":[{\"error_x\":{\"color\":\"#2a3f5f\"},\"error_y\":{\"color\":\"#2a3f5f\"},\"marker\":{\"line\":{\"color\":\"#E5ECF6\",\"width\":0.5},\"pattern\":{\"fillmode\":\"overlay\",\"size\":10,\"solidity\":0.2}},\"type\":\"bar\"}],\"scattergeo\":[{\"type\":\"scattergeo\",\"marker\":{\"colorbar\":{\"outlinewidth\":0,\"ticks\":\"\"}}}],\"scatterpolar\":[{\"type\":\"scatterpolar\",\"marker\":{\"colorbar\":{\"outlinewidth\":0,\"ticks\":\"\"}}}],\"histogram\":[{\"marker\":{\"pattern\":{\"fillmode\":\"overlay\",\"size\":10,\"solidity\":0.2}},\"type\":\"histogram\"}],\"scattergl\":[{\"type\":\"scattergl\",\"marker\":{\"colorbar\":{\"outlinewidth\":0,\"ticks\":\"\"}}}],\"scatter3d\":[{\"type\":\"scatter3d\",\"line\":{\"colorbar\":{\"outlinewidth\":0,\"ticks\":\"\"}},\"marker\":{\"colorbar\":{\"outlinewidth\":0,\"ticks\":\"\"}}}],\"scattermapbox\":[{\"type\":\"scattermapbox\",\"marker\":{\"colorbar\":{\"outlinewidth\":0,\"ticks\":\"\"}}}],\"scatterternary\":[{\"type\":\"scatterternary\",\"marker\":{\"colorbar\":{\"outlinewidth\":0,\"ticks\":\"\"}}}],\"scattercarpet\":[{\"type\":\"scattercarpet\",\"marker\":{\"colorbar\":{\"outlinewidth\":0,\"ticks\":\"\"}}}],\"carpet\":[{\"aaxis\":{\"endlinecolor\":\"#2a3f5f\",\"gridcolor\":\"white\",\"linecolor\":\"white\",\"minorgridcolor\":\"white\",\"startlinecolor\":\"#2a3f5f\"},\"baxis\":{\"endlinecolor\":\"#2a3f5f\",\"gridcolor\":\"white\",\"linecolor\":\"white\",\"minorgridcolor\":\"white\",\"startlinecolor\":\"#2a3f5f\"},\"type\":\"carpet\"}],\"table\":[{\"cells\":{\"fill\":{\"color\":\"#EBF0F8\"},\"line\":{\"color\":\"white\"}},\"header\":{\"fill\":{\"color\":\"#C8D4E3\"},\"line\":{\"color\":\"white\"}},\"type\":\"table\"}],\"barpolar\":[{\"marker\":{\"line\":{\"color\":\"#E5ECF6\",\"width\":0.5},\"pattern\":{\"fillmode\":\"overlay\",\"size\":10,\"solidity\":0.2}},\"type\":\"barpolar\"}],\"pie\":[{\"automargin\":true,\"type\":\"pie\"}]},\"layout\":{\"autotypenumbers\":\"strict\",\"colorway\":[\"#636efa\",\"#EF553B\",\"#00cc96\",\"#ab63fa\",\"#FFA15A\",\"#19d3f3\",\"#FF6692\",\"#B6E880\",\"#FF97FF\",\"#FECB52\"],\"font\":{\"color\":\"#2a3f5f\"},\"hovermode\":\"closest\",\"hoverlabel\":{\"align\":\"left\"},\"paper_bgcolor\":\"white\",\"plot_bgcolor\":\"#E5ECF6\",\"polar\":{\"bgcolor\":\"#E5ECF6\",\"angularaxis\":{\"gridcolor\":\"white\",\"linecolor\":\"white\",\"ticks\":\"\"},\"radialaxis\":{\"gridcolor\":\"white\",\"linecolor\":\"white\",\"ticks\":\"\"}},\"ternary\":{\"bgcolor\":\"#E5ECF6\",\"aaxis\":{\"gridcolor\":\"white\",\"linecolor\":\"white\",\"ticks\":\"\"},\"baxis\":{\"gridcolor\":\"white\",\"linecolor\":\"white\",\"ticks\":\"\"},\"caxis\":{\"gridcolor\":\"white\",\"linecolor\":\"white\",\"ticks\":\"\"}},\"coloraxis\":{\"colorbar\":{\"outlinewidth\":0,\"ticks\":\"\"}},\"colorscale\":{\"sequential\":[[0.0,\"#0d0887\"],[0.1111111111111111,\"#46039f\"],[0.2222222222222222,\"#7201a8\"],[0.3333333333333333,\"#9c179e\"],[0.4444444444444444,\"#bd3786\"],[0.5555555555555556,\"#d8576b\"],[0.6666666666666666,\"#ed7953\"],[0.7777777777777778,\"#fb9f3a\"],[0.8888888888888888,\"#fdca26\"],[1.0,\"#f0f921\"]],\"sequentialminus\":[[0.0,\"#0d0887\"],[0.1111111111111111,\"#46039f\"],[0.2222222222222222,\"#7201a8\"],[0.3333333333333333,\"#9c179e\"],[0.4444444444444444,\"#bd3786\"],[0.5555555555555556,\"#d8576b\"],[0.6666666666666666,\"#ed7953\"],[0.7777777777777778,\"#fb9f3a\"],[0.8888888888888888,\"#fdca26\"],[1.0,\"#f0f921\"]],\"diverging\":[[0,\"#8e0152\"],[0.1,\"#c51b7d\"],[0.2,\"#de77ae\"],[0.3,\"#f1b6da\"],[0.4,\"#fde0ef\"],[0.5,\"#f7f7f7\"],[0.6,\"#e6f5d0\"],[0.7,\"#b8e186\"],[0.8,\"#7fbc41\"],[0.9,\"#4d9221\"],[1,\"#276419\"]]},\"xaxis\":{\"gridcolor\":\"white\",\"linecolor\":\"white\",\"ticks\":\"\",\"title\":{\"standoff\":15},\"zerolinecolor\":\"white\",\"automargin\":true,\"zerolinewidth\":2},\"yaxis\":{\"gridcolor\":\"white\",\"linecolor\":\"white\",\"ticks\":\"\",\"title\":{\"standoff\":15},\"zerolinecolor\":\"white\",\"automargin\":true,\"zerolinewidth\":2},\"scene\":{\"xaxis\":{\"backgroundcolor\":\"#E5ECF6\",\"gridcolor\":\"white\",\"linecolor\":\"white\",\"showbackground\":true,\"ticks\":\"\",\"zerolinecolor\":\"white\",\"gridwidth\":2},\"yaxis\":{\"backgroundcolor\":\"#E5ECF6\",\"gridcolor\":\"white\",\"linecolor\":\"white\",\"showbackground\":true,\"ticks\":\"\",\"zerolinecolor\":\"white\",\"gridwidth\":2},\"zaxis\":{\"backgroundcolor\":\"#E5ECF6\",\"gridcolor\":\"white\",\"linecolor\":\"white\",\"showbackground\":true,\"ticks\":\"\",\"zerolinecolor\":\"white\",\"gridwidth\":2}},\"shapedefaults\":{\"line\":{\"color\":\"#2a3f5f\"}},\"annotationdefaults\":{\"arrowcolor\":\"#2a3f5f\",\"arrowhead\":0,\"arrowwidth\":1},\"geo\":{\"bgcolor\":\"white\",\"landcolor\":\"#E5ECF6\",\"subunitcolor\":\"white\",\"showland\":true,\"showlakes\":true,\"lakecolor\":\"white\"},\"title\":{\"x\":0.05},\"mapbox\":{\"style\":\"light\"}}},\"xaxis\":{\"anchor\":\"y\",\"domain\":[0.0,1.0],\"scaleanchor\":\"y\",\"constrain\":\"domain\",\"title\":{\"text\":\"vehicle_year\"},\"showgrid\":false},\"yaxis\":{\"anchor\":\"x\",\"domain\":[0.0,1.0],\"autorange\":\"reversed\",\"constrain\":\"domain\",\"showgrid\":false},\"coloraxis\":{\"colorbar\":{\"title\":{\"text\":\"Neg RMSE Score\"}},\"colorscale\":[[0.0,\"rgb(165,0,38)\"],[0.1,\"rgb(215,48,39)\"],[0.2,\"rgb(244,109,67)\"],[0.3,\"rgb(253,174,97)\"],[0.4,\"rgb(254,224,139)\"],[0.5,\"rgb(255,255,191)\"],[0.6,\"rgb(217,239,139)\"],[0.7,\"rgb(166,217,106)\"],[0.8,\"rgb(102,189,99)\"],[0.9,\"rgb(26,152,80)\"],[1.0,\"rgb(0,104,55)\"]]},\"margin\":{\"t\":60},\"title\":{\"text\":\"Neg RMSE Score (percent of data)\"},\"height\":600}}",
              "type": "plotly"
             },
             {
              "payload": "Check ran on 5180 data samples. Neg RMSE Score on the full data set is -440,183.27.",
              "type": "html"
             }
            ],
            "vehicle_year vs engine_capacity": [
             {
              "payload": "{\"data\":[{\"coloraxis\":\"coloraxis\",\"name\":\"0\",\"x\":[\"[2,006, 2,012.5]\",\"(2,012.5, 2,014]\",\"(2,014, 2,016]\",\"(2,016, 2,017]\",\"(2,017, 2,020]\"],\"y\":[\"[624, 1,194.5]\",\"(1,194.5, 1,199]\",\"(1,199, 1,373]\",\"(1,373, 1,498]\",\"(1,498, 2,956]\"],\"z\":[[-661847.5711914477,-598917.0306335454,-546563.8385411532,-517332.1642640457,-462292.94379699905],[-584423.1082483629,-485667.5080511949,-424532.90912320226,-379635.86221559806,-293138.93855691794],[-552593.6415502873,-424567.1497815949,-346072.36136631685,-270644.2503549068,-218964.38841506722],[-572356.2412685057,-451591.91110553994,-321404.3710552221,-229427.32178768888,-189049.41210084496],[-462054.8021429302,-281250.7361158783,-258519.15722334728,-208687.92091032685,-185508.07226537963]],\"type\":\"heatmap\",\"xaxis\":\"x\",\"yaxis\":\"y\",\"hovertemplate\":\"vehicle_year: %{x}\\u003cbr\\u003eengine_capacity: %{y}\\u003cbr\\u003eNeg RMSE Score: %{z}\\u003cextra\\u003e\\u003c\\u002fextra\\u003e\",\"text\":[[\"-661,847.57\\n(8.3%)\",\"-598,917.03\\n(3.55%)\",\"-546,563.84\\n(6.58%)\",\"-517,332.16\\n(5.79%)\",\"-462,292.94\\n(6.95%)\"],[\"-584,423.11\\n(2.8%)\",\"-485,667.51\\n(2.39%)\",\"-424,532.91\\n(6.33%)\",\"-379,635.86\\n(6.37%)\",\"-293,138.94\\n(10.31%)\"],[\"-552,593.64\\n(5.42%)\",\"-424,567.15\\n(4.25%)\",\"-346,072.36\\n(7.05%)\",\"-270,644.25\\n(5.81%)\",\"-218,964.39\\n(7.14%)\"],[\"-572,356.24\\n(7.72%)\",\"-451,591.91\\n(3.96%)\",\"-321,404.37\\n(6.7%)\",\"-229,427.32\\n(5.77%)\",\"-189,049.41\\n(6.41%)\"],[\"-462,054.8\\n(6.22%)\",\"-281,250.74\\n(5.6%)\",\"-258,519.16\\n(7.95%)\",\"-208,687.92\\n(4.23%)\",\"-185,508.07\\n(4.03%)\"]],\"texttemplate\":\"%{text}\"}],\"layout\":{\"template\":{\"data\":{\"histogram2dcontour\":[{\"type\":\"histogram2dcontour\",\"colorbar\":{\"outlinewidth\":0,\"ticks\":\"\"},\"colorscale\":[[0.0,\"#0d0887\"],[0.1111111111111111,\"#46039f\"],[0.2222222222222222,\"#7201a8\"],[0.3333333333333333,\"#9c179e\"],[0.4444444444444444,\"#bd3786\"],[0.5555555555555556,\"#d8576b\"],[0.6666666666666666,\"#ed7953\"],[0.7777777777777778,\"#fb9f3a\"],[0.8888888888888888,\"#fdca26\"],[1.0,\"#f0f921\"]]}],\"choropleth\":[{\"type\":\"choropleth\",\"colorbar\":{\"outlinewidth\":0,\"ticks\":\"\"}}],\"histogram2d\":[{\"type\":\"histogram2d\",\"colorbar\":{\"outlinewidth\":0,\"ticks\":\"\"},\"colorscale\":[[0.0,\"#0d0887\"],[0.1111111111111111,\"#46039f\"],[0.2222222222222222,\"#7201a8\"],[0.3333333333333333,\"#9c179e\"],[0.4444444444444444,\"#bd3786\"],[0.5555555555555556,\"#d8576b\"],[0.6666666666666666,\"#ed7953\"],[0.7777777777777778,\"#fb9f3a\"],[0.8888888888888888,\"#fdca26\"],[1.0,\"#f0f921\"]]}],\"heatmap\":[{\"type\":\"heatmap\",\"colorbar\":{\"outlinewidth\":0,\"ticks\":\"\"},\"colorscale\":[[0.0,\"#0d0887\"],[0.1111111111111111,\"#46039f\"],[0.2222222222222222,\"#7201a8\"],[0.3333333333333333,\"#9c179e\"],[0.4444444444444444,\"#bd3786\"],[0.5555555555555556,\"#d8576b\"],[0.6666666666666666,\"#ed7953\"],[0.7777777777777778,\"#fb9f3a\"],[0.8888888888888888,\"#fdca26\"],[1.0,\"#f0f921\"]]}],\"heatmapgl\":[{\"type\":\"heatmapgl\",\"colorbar\":{\"outlinewidth\":0,\"ticks\":\"\"},\"colorscale\":[[0.0,\"#0d0887\"],[0.1111111111111111,\"#46039f\"],[0.2222222222222222,\"#7201a8\"],[0.3333333333333333,\"#9c179e\"],[0.4444444444444444,\"#bd3786\"],[0.5555555555555556,\"#d8576b\"],[0.6666666666666666,\"#ed7953\"],[0.7777777777777778,\"#fb9f3a\"],[0.8888888888888888,\"#fdca26\"],[1.0,\"#f0f921\"]]}],\"contourcarpet\":[{\"type\":\"contourcarpet\",\"colorbar\":{\"outlinewidth\":0,\"ticks\":\"\"}}],\"contour\":[{\"type\":\"contour\",\"colorbar\":{\"outlinewidth\":0,\"ticks\":\"\"},\"colorscale\":[[0.0,\"#0d0887\"],[0.1111111111111111,\"#46039f\"],[0.2222222222222222,\"#7201a8\"],[0.3333333333333333,\"#9c179e\"],[0.4444444444444444,\"#bd3786\"],[0.5555555555555556,\"#d8576b\"],[0.6666666666666666,\"#ed7953\"],[0.7777777777777778,\"#fb9f3a\"],[0.8888888888888888,\"#fdca26\"],[1.0,\"#f0f921\"]]}],\"surface\":[{\"type\":\"surface\",\"colorbar\":{\"outlinewidth\":0,\"ticks\":\"\"},\"colorscale\":[[0.0,\"#0d0887\"],[0.1111111111111111,\"#46039f\"],[0.2222222222222222,\"#7201a8\"],[0.3333333333333333,\"#9c179e\"],[0.4444444444444444,\"#bd3786\"],[0.5555555555555556,\"#d8576b\"],[0.6666666666666666,\"#ed7953\"],[0.7777777777777778,\"#fb9f3a\"],[0.8888888888888888,\"#fdca26\"],[1.0,\"#f0f921\"]]}],\"mesh3d\":[{\"type\":\"mesh3d\",\"colorbar\":{\"outlinewidth\":0,\"ticks\":\"\"}}],\"scatter\":[{\"fillpattern\":{\"fillmode\":\"overlay\",\"size\":10,\"solidity\":0.2},\"type\":\"scatter\"}],\"parcoords\":[{\"type\":\"parcoords\",\"line\":{\"colorbar\":{\"outlinewidth\":0,\"ticks\":\"\"}}}],\"scatterpolargl\":[{\"type\":\"scatterpolargl\",\"marker\":{\"colorbar\":{\"outlinewidth\":0,\"ticks\":\"\"}}}],\"bar\":[{\"error_x\":{\"color\":\"#2a3f5f\"},\"error_y\":{\"color\":\"#2a3f5f\"},\"marker\":{\"line\":{\"color\":\"#E5ECF6\",\"width\":0.5},\"pattern\":{\"fillmode\":\"overlay\",\"size\":10,\"solidity\":0.2}},\"type\":\"bar\"}],\"scattergeo\":[{\"type\":\"scattergeo\",\"marker\":{\"colorbar\":{\"outlinewidth\":0,\"ticks\":\"\"}}}],\"scatterpolar\":[{\"type\":\"scatterpolar\",\"marker\":{\"colorbar\":{\"outlinewidth\":0,\"ticks\":\"\"}}}],\"histogram\":[{\"marker\":{\"pattern\":{\"fillmode\":\"overlay\",\"size\":10,\"solidity\":0.2}},\"type\":\"histogram\"}],\"scattergl\":[{\"type\":\"scattergl\",\"marker\":{\"colorbar\":{\"outlinewidth\":0,\"ticks\":\"\"}}}],\"scatter3d\":[{\"type\":\"scatter3d\",\"line\":{\"colorbar\":{\"outlinewidth\":0,\"ticks\":\"\"}},\"marker\":{\"colorbar\":{\"outlinewidth\":0,\"ticks\":\"\"}}}],\"scattermapbox\":[{\"type\":\"scattermapbox\",\"marker\":{\"colorbar\":{\"outlinewidth\":0,\"ticks\":\"\"}}}],\"scatterternary\":[{\"type\":\"scatterternary\",\"marker\":{\"colorbar\":{\"outlinewidth\":0,\"ticks\":\"\"}}}],\"scattercarpet\":[{\"type\":\"scattercarpet\",\"marker\":{\"colorbar\":{\"outlinewidth\":0,\"ticks\":\"\"}}}],\"carpet\":[{\"aaxis\":{\"endlinecolor\":\"#2a3f5f\",\"gridcolor\":\"white\",\"linecolor\":\"white\",\"minorgridcolor\":\"white\",\"startlinecolor\":\"#2a3f5f\"},\"baxis\":{\"endlinecolor\":\"#2a3f5f\",\"gridcolor\":\"white\",\"linecolor\":\"white\",\"minorgridcolor\":\"white\",\"startlinecolor\":\"#2a3f5f\"},\"type\":\"carpet\"}],\"table\":[{\"cells\":{\"fill\":{\"color\":\"#EBF0F8\"},\"line\":{\"color\":\"white\"}},\"header\":{\"fill\":{\"color\":\"#C8D4E3\"},\"line\":{\"color\":\"white\"}},\"type\":\"table\"}],\"barpolar\":[{\"marker\":{\"line\":{\"color\":\"#E5ECF6\",\"width\":0.5},\"pattern\":{\"fillmode\":\"overlay\",\"size\":10,\"solidity\":0.2}},\"type\":\"barpolar\"}],\"pie\":[{\"automargin\":true,\"type\":\"pie\"}]},\"layout\":{\"autotypenumbers\":\"strict\",\"colorway\":[\"#636efa\",\"#EF553B\",\"#00cc96\",\"#ab63fa\",\"#FFA15A\",\"#19d3f3\",\"#FF6692\",\"#B6E880\",\"#FF97FF\",\"#FECB52\"],\"font\":{\"color\":\"#2a3f5f\"},\"hovermode\":\"closest\",\"hoverlabel\":{\"align\":\"left\"},\"paper_bgcolor\":\"white\",\"plot_bgcolor\":\"#E5ECF6\",\"polar\":{\"bgcolor\":\"#E5ECF6\",\"angularaxis\":{\"gridcolor\":\"white\",\"linecolor\":\"white\",\"ticks\":\"\"},\"radialaxis\":{\"gridcolor\":\"white\",\"linecolor\":\"white\",\"ticks\":\"\"}},\"ternary\":{\"bgcolor\":\"#E5ECF6\",\"aaxis\":{\"gridcolor\":\"white\",\"linecolor\":\"white\",\"ticks\":\"\"},\"baxis\":{\"gridcolor\":\"white\",\"linecolor\":\"white\",\"ticks\":\"\"},\"caxis\":{\"gridcolor\":\"white\",\"linecolor\":\"white\",\"ticks\":\"\"}},\"coloraxis\":{\"colorbar\":{\"outlinewidth\":0,\"ticks\":\"\"}},\"colorscale\":{\"sequential\":[[0.0,\"#0d0887\"],[0.1111111111111111,\"#46039f\"],[0.2222222222222222,\"#7201a8\"],[0.3333333333333333,\"#9c179e\"],[0.4444444444444444,\"#bd3786\"],[0.5555555555555556,\"#d8576b\"],[0.6666666666666666,\"#ed7953\"],[0.7777777777777778,\"#fb9f3a\"],[0.8888888888888888,\"#fdca26\"],[1.0,\"#f0f921\"]],\"sequentialminus\":[[0.0,\"#0d0887\"],[0.1111111111111111,\"#46039f\"],[0.2222222222222222,\"#7201a8\"],[0.3333333333333333,\"#9c179e\"],[0.4444444444444444,\"#bd3786\"],[0.5555555555555556,\"#d8576b\"],[0.6666666666666666,\"#ed7953\"],[0.7777777777777778,\"#fb9f3a\"],[0.8888888888888888,\"#fdca26\"],[1.0,\"#f0f921\"]],\"diverging\":[[0,\"#8e0152\"],[0.1,\"#c51b7d\"],[0.2,\"#de77ae\"],[0.3,\"#f1b6da\"],[0.4,\"#fde0ef\"],[0.5,\"#f7f7f7\"],[0.6,\"#e6f5d0\"],[0.7,\"#b8e186\"],[0.8,\"#7fbc41\"],[0.9,\"#4d9221\"],[1,\"#276419\"]]},\"xaxis\":{\"gridcolor\":\"white\",\"linecolor\":\"white\",\"ticks\":\"\",\"title\":{\"standoff\":15},\"zerolinecolor\":\"white\",\"automargin\":true,\"zerolinewidth\":2},\"yaxis\":{\"gridcolor\":\"white\",\"linecolor\":\"white\",\"ticks\":\"\",\"title\":{\"standoff\":15},\"zerolinecolor\":\"white\",\"automargin\":true,\"zerolinewidth\":2},\"scene\":{\"xaxis\":{\"backgroundcolor\":\"#E5ECF6\",\"gridcolor\":\"white\",\"linecolor\":\"white\",\"showbackground\":true,\"ticks\":\"\",\"zerolinecolor\":\"white\",\"gridwidth\":2},\"yaxis\":{\"backgroundcolor\":\"#E5ECF6\",\"gridcolor\":\"white\",\"linecolor\":\"white\",\"showbackground\":true,\"ticks\":\"\",\"zerolinecolor\":\"white\",\"gridwidth\":2},\"zaxis\":{\"backgroundcolor\":\"#E5ECF6\",\"gridcolor\":\"white\",\"linecolor\":\"white\",\"showbackground\":true,\"ticks\":\"\",\"zerolinecolor\":\"white\",\"gridwidth\":2}},\"shapedefaults\":{\"line\":{\"color\":\"#2a3f5f\"}},\"annotationdefaults\":{\"arrowcolor\":\"#2a3f5f\",\"arrowhead\":0,\"arrowwidth\":1},\"geo\":{\"bgcolor\":\"white\",\"landcolor\":\"#E5ECF6\",\"subunitcolor\":\"white\",\"showland\":true,\"showlakes\":true,\"lakecolor\":\"white\"},\"title\":{\"x\":0.05},\"mapbox\":{\"style\":\"light\"}}},\"xaxis\":{\"anchor\":\"y\",\"domain\":[0.0,1.0],\"scaleanchor\":\"y\",\"constrain\":\"domain\",\"title\":{\"text\":\"vehicle_year\"},\"showgrid\":false},\"yaxis\":{\"anchor\":\"x\",\"domain\":[0.0,1.0],\"autorange\":\"reversed\",\"constrain\":\"domain\",\"title\":{\"text\":\"engine_capacity\"},\"showgrid\":false},\"coloraxis\":{\"colorbar\":{\"title\":{\"text\":\"Neg RMSE Score\"}},\"colorscale\":[[0.0,\"rgb(165,0,38)\"],[0.1,\"rgb(215,48,39)\"],[0.2,\"rgb(244,109,67)\"],[0.3,\"rgb(253,174,97)\"],[0.4,\"rgb(254,224,139)\"],[0.5,\"rgb(255,255,191)\"],[0.6,\"rgb(217,239,139)\"],[0.7,\"rgb(166,217,106)\"],[0.8,\"rgb(102,189,99)\"],[0.9,\"rgb(26,152,80)\"],[1.0,\"rgb(0,104,55)\"]]},\"margin\":{\"t\":60},\"title\":{\"text\":\"Neg RMSE Score (percent of data)\"},\"height\":600}}",
              "type": "plotly"
             },
             {
              "payload": "Check ran on 5180 data samples. Neg RMSE Score on the full data set is -440,183.27.",
              "type": "html"
             }
            ],
            "vehicle_year vs fuel_type": [
             {
              "payload": "{\"data\":[{\"coloraxis\":\"coloraxis\",\"name\":\"0\",\"x\":[\"[2,006, 2,010.5]\",\"(2,010.5, 2,013]\",\"(2,013, 2,015]\",\"(2,015, 2,017]\",\"(2,017, 2,020]\"],\"y\":[\"[1, 1.5]\",\"(1.5, 4]\"],\"z\":[[-574004.7794902747,-473676.3963955181,-366118.52370934386,-278002.25074025104,-213334.69374517573],[-649194.9080328095,-577993.57625267,-504695.3844382983,-431597.6529582797,-354951.49442281446]],\"type\":\"heatmap\",\"xaxis\":\"x\",\"yaxis\":\"y\",\"hovertemplate\":\"vehicle_year: %{x}\\u003cbr\\u003efuel_type: %{y}\\u003cbr\\u003eNeg RMSE Score: %{z}\\u003cextra\\u003e\\u003c\\u002fextra\\u003e\",\"text\":[[\"-574,004.78\\n(5%)\",\"-473,676.4\\n(16.85%)\",\"-366,118.52\\n(18.19%)\",\"-278,002.25\\n(17.95%)\",\"-213,334.69\\n(12.78%)\"],[\"-649,194.91\\n(7.88%)\",\"-577,993.58\\n(9.36%)\",\"-504,695.38\\n(10.58%)\",\"-431,597.65\\n(17.18%)\",\"-354,951.49\\n(17.63%)\"]],\"texttemplate\":\"%{text}\"}],\"layout\":{\"template\":{\"data\":{\"histogram2dcontour\":[{\"type\":\"histogram2dcontour\",\"colorbar\":{\"outlinewidth\":0,\"ticks\":\"\"},\"colorscale\":[[0.0,\"#0d0887\"],[0.1111111111111111,\"#46039f\"],[0.2222222222222222,\"#7201a8\"],[0.3333333333333333,\"#9c179e\"],[0.4444444444444444,\"#bd3786\"],[0.5555555555555556,\"#d8576b\"],[0.6666666666666666,\"#ed7953\"],[0.7777777777777778,\"#fb9f3a\"],[0.8888888888888888,\"#fdca26\"],[1.0,\"#f0f921\"]]}],\"choropleth\":[{\"type\":\"choropleth\",\"colorbar\":{\"outlinewidth\":0,\"ticks\":\"\"}}],\"histogram2d\":[{\"type\":\"histogram2d\",\"colorbar\":{\"outlinewidth\":0,\"ticks\":\"\"},\"colorscale\":[[0.0,\"#0d0887\"],[0.1111111111111111,\"#46039f\"],[0.2222222222222222,\"#7201a8\"],[0.3333333333333333,\"#9c179e\"],[0.4444444444444444,\"#bd3786\"],[0.5555555555555556,\"#d8576b\"],[0.6666666666666666,\"#ed7953\"],[0.7777777777777778,\"#fb9f3a\"],[0.8888888888888888,\"#fdca26\"],[1.0,\"#f0f921\"]]}],\"heatmap\":[{\"type\":\"heatmap\",\"colorbar\":{\"outlinewidth\":0,\"ticks\":\"\"},\"colorscale\":[[0.0,\"#0d0887\"],[0.1111111111111111,\"#46039f\"],[0.2222222222222222,\"#7201a8\"],[0.3333333333333333,\"#9c179e\"],[0.4444444444444444,\"#bd3786\"],[0.5555555555555556,\"#d8576b\"],[0.6666666666666666,\"#ed7953\"],[0.7777777777777778,\"#fb9f3a\"],[0.8888888888888888,\"#fdca26\"],[1.0,\"#f0f921\"]]}],\"heatmapgl\":[{\"type\":\"heatmapgl\",\"colorbar\":{\"outlinewidth\":0,\"ticks\":\"\"},\"colorscale\":[[0.0,\"#0d0887\"],[0.1111111111111111,\"#46039f\"],[0.2222222222222222,\"#7201a8\"],[0.3333333333333333,\"#9c179e\"],[0.4444444444444444,\"#bd3786\"],[0.5555555555555556,\"#d8576b\"],[0.6666666666666666,\"#ed7953\"],[0.7777777777777778,\"#fb9f3a\"],[0.8888888888888888,\"#fdca26\"],[1.0,\"#f0f921\"]]}],\"contourcarpet\":[{\"type\":\"contourcarpet\",\"colorbar\":{\"outlinewidth\":0,\"ticks\":\"\"}}],\"contour\":[{\"type\":\"contour\",\"colorbar\":{\"outlinewidth\":0,\"ticks\":\"\"},\"colorscale\":[[0.0,\"#0d0887\"],[0.1111111111111111,\"#46039f\"],[0.2222222222222222,\"#7201a8\"],[0.3333333333333333,\"#9c179e\"],[0.4444444444444444,\"#bd3786\"],[0.5555555555555556,\"#d8576b\"],[0.6666666666666666,\"#ed7953\"],[0.7777777777777778,\"#fb9f3a\"],[0.8888888888888888,\"#fdca26\"],[1.0,\"#f0f921\"]]}],\"surface\":[{\"type\":\"surface\",\"colorbar\":{\"outlinewidth\":0,\"ticks\":\"\"},\"colorscale\":[[0.0,\"#0d0887\"],[0.1111111111111111,\"#46039f\"],[0.2222222222222222,\"#7201a8\"],[0.3333333333333333,\"#9c179e\"],[0.4444444444444444,\"#bd3786\"],[0.5555555555555556,\"#d8576b\"],[0.6666666666666666,\"#ed7953\"],[0.7777777777777778,\"#fb9f3a\"],[0.8888888888888888,\"#fdca26\"],[1.0,\"#f0f921\"]]}],\"mesh3d\":[{\"type\":\"mesh3d\",\"colorbar\":{\"outlinewidth\":0,\"ticks\":\"\"}}],\"scatter\":[{\"fillpattern\":{\"fillmode\":\"overlay\",\"size\":10,\"solidity\":0.2},\"type\":\"scatter\"}],\"parcoords\":[{\"type\":\"parcoords\",\"line\":{\"colorbar\":{\"outlinewidth\":0,\"ticks\":\"\"}}}],\"scatterpolargl\":[{\"type\":\"scatterpolargl\",\"marker\":{\"colorbar\":{\"outlinewidth\":0,\"ticks\":\"\"}}}],\"bar\":[{\"error_x\":{\"color\":\"#2a3f5f\"},\"error_y\":{\"color\":\"#2a3f5f\"},\"marker\":{\"line\":{\"color\":\"#E5ECF6\",\"width\":0.5},\"pattern\":{\"fillmode\":\"overlay\",\"size\":10,\"solidity\":0.2}},\"type\":\"bar\"}],\"scattergeo\":[{\"type\":\"scattergeo\",\"marker\":{\"colorbar\":{\"outlinewidth\":0,\"ticks\":\"\"}}}],\"scatterpolar\":[{\"type\":\"scatterpolar\",\"marker\":{\"colorbar\":{\"outlinewidth\":0,\"ticks\":\"\"}}}],\"histogram\":[{\"marker\":{\"pattern\":{\"fillmode\":\"overlay\",\"size\":10,\"solidity\":0.2}},\"type\":\"histogram\"}],\"scattergl\":[{\"type\":\"scattergl\",\"marker\":{\"colorbar\":{\"outlinewidth\":0,\"ticks\":\"\"}}}],\"scatter3d\":[{\"type\":\"scatter3d\",\"line\":{\"colorbar\":{\"outlinewidth\":0,\"ticks\":\"\"}},\"marker\":{\"colorbar\":{\"outlinewidth\":0,\"ticks\":\"\"}}}],\"scattermapbox\":[{\"type\":\"scattermapbox\",\"marker\":{\"colorbar\":{\"outlinewidth\":0,\"ticks\":\"\"}}}],\"scatterternary\":[{\"type\":\"scatterternary\",\"marker\":{\"colorbar\":{\"outlinewidth\":0,\"ticks\":\"\"}}}],\"scattercarpet\":[{\"type\":\"scattercarpet\",\"marker\":{\"colorbar\":{\"outlinewidth\":0,\"ticks\":\"\"}}}],\"carpet\":[{\"aaxis\":{\"endlinecolor\":\"#2a3f5f\",\"gridcolor\":\"white\",\"linecolor\":\"white\",\"minorgridcolor\":\"white\",\"startlinecolor\":\"#2a3f5f\"},\"baxis\":{\"endlinecolor\":\"#2a3f5f\",\"gridcolor\":\"white\",\"linecolor\":\"white\",\"minorgridcolor\":\"white\",\"startlinecolor\":\"#2a3f5f\"},\"type\":\"carpet\"}],\"table\":[{\"cells\":{\"fill\":{\"color\":\"#EBF0F8\"},\"line\":{\"color\":\"white\"}},\"header\":{\"fill\":{\"color\":\"#C8D4E3\"},\"line\":{\"color\":\"white\"}},\"type\":\"table\"}],\"barpolar\":[{\"marker\":{\"line\":{\"color\":\"#E5ECF6\",\"width\":0.5},\"pattern\":{\"fillmode\":\"overlay\",\"size\":10,\"solidity\":0.2}},\"type\":\"barpolar\"}],\"pie\":[{\"automargin\":true,\"type\":\"pie\"}]},\"layout\":{\"autotypenumbers\":\"strict\",\"colorway\":[\"#636efa\",\"#EF553B\",\"#00cc96\",\"#ab63fa\",\"#FFA15A\",\"#19d3f3\",\"#FF6692\",\"#B6E880\",\"#FF97FF\",\"#FECB52\"],\"font\":{\"color\":\"#2a3f5f\"},\"hovermode\":\"closest\",\"hoverlabel\":{\"align\":\"left\"},\"paper_bgcolor\":\"white\",\"plot_bgcolor\":\"#E5ECF6\",\"polar\":{\"bgcolor\":\"#E5ECF6\",\"angularaxis\":{\"gridcolor\":\"white\",\"linecolor\":\"white\",\"ticks\":\"\"},\"radialaxis\":{\"gridcolor\":\"white\",\"linecolor\":\"white\",\"ticks\":\"\"}},\"ternary\":{\"bgcolor\":\"#E5ECF6\",\"aaxis\":{\"gridcolor\":\"white\",\"linecolor\":\"white\",\"ticks\":\"\"},\"baxis\":{\"gridcolor\":\"white\",\"linecolor\":\"white\",\"ticks\":\"\"},\"caxis\":{\"gridcolor\":\"white\",\"linecolor\":\"white\",\"ticks\":\"\"}},\"coloraxis\":{\"colorbar\":{\"outlinewidth\":0,\"ticks\":\"\"}},\"colorscale\":{\"sequential\":[[0.0,\"#0d0887\"],[0.1111111111111111,\"#46039f\"],[0.2222222222222222,\"#7201a8\"],[0.3333333333333333,\"#9c179e\"],[0.4444444444444444,\"#bd3786\"],[0.5555555555555556,\"#d8576b\"],[0.6666666666666666,\"#ed7953\"],[0.7777777777777778,\"#fb9f3a\"],[0.8888888888888888,\"#fdca26\"],[1.0,\"#f0f921\"]],\"sequentialminus\":[[0.0,\"#0d0887\"],[0.1111111111111111,\"#46039f\"],[0.2222222222222222,\"#7201a8\"],[0.3333333333333333,\"#9c179e\"],[0.4444444444444444,\"#bd3786\"],[0.5555555555555556,\"#d8576b\"],[0.6666666666666666,\"#ed7953\"],[0.7777777777777778,\"#fb9f3a\"],[0.8888888888888888,\"#fdca26\"],[1.0,\"#f0f921\"]],\"diverging\":[[0,\"#8e0152\"],[0.1,\"#c51b7d\"],[0.2,\"#de77ae\"],[0.3,\"#f1b6da\"],[0.4,\"#fde0ef\"],[0.5,\"#f7f7f7\"],[0.6,\"#e6f5d0\"],[0.7,\"#b8e186\"],[0.8,\"#7fbc41\"],[0.9,\"#4d9221\"],[1,\"#276419\"]]},\"xaxis\":{\"gridcolor\":\"white\",\"linecolor\":\"white\",\"ticks\":\"\",\"title\":{\"standoff\":15},\"zerolinecolor\":\"white\",\"automargin\":true,\"zerolinewidth\":2},\"yaxis\":{\"gridcolor\":\"white\",\"linecolor\":\"white\",\"ticks\":\"\",\"title\":{\"standoff\":15},\"zerolinecolor\":\"white\",\"automargin\":true,\"zerolinewidth\":2},\"scene\":{\"xaxis\":{\"backgroundcolor\":\"#E5ECF6\",\"gridcolor\":\"white\",\"linecolor\":\"white\",\"showbackground\":true,\"ticks\":\"\",\"zerolinecolor\":\"white\",\"gridwidth\":2},\"yaxis\":{\"backgroundcolor\":\"#E5ECF6\",\"gridcolor\":\"white\",\"linecolor\":\"white\",\"showbackground\":true,\"ticks\":\"\",\"zerolinecolor\":\"white\",\"gridwidth\":2},\"zaxis\":{\"backgroundcolor\":\"#E5ECF6\",\"gridcolor\":\"white\",\"linecolor\":\"white\",\"showbackground\":true,\"ticks\":\"\",\"zerolinecolor\":\"white\",\"gridwidth\":2}},\"shapedefaults\":{\"line\":{\"color\":\"#2a3f5f\"}},\"annotationdefaults\":{\"arrowcolor\":\"#2a3f5f\",\"arrowhead\":0,\"arrowwidth\":1},\"geo\":{\"bgcolor\":\"white\",\"landcolor\":\"#E5ECF6\",\"subunitcolor\":\"white\",\"showland\":true,\"showlakes\":true,\"lakecolor\":\"white\"},\"title\":{\"x\":0.05},\"mapbox\":{\"style\":\"light\"}}},\"xaxis\":{\"anchor\":\"y\",\"domain\":[0.0,1.0],\"scaleanchor\":\"y\",\"constrain\":\"domain\",\"title\":{\"text\":\"vehicle_year\"},\"showgrid\":false},\"yaxis\":{\"anchor\":\"x\",\"domain\":[0.0,1.0],\"autorange\":\"reversed\",\"constrain\":\"domain\",\"title\":{\"text\":\"fuel_type\"},\"showgrid\":false},\"coloraxis\":{\"colorbar\":{\"title\":{\"text\":\"Neg RMSE Score\"}},\"colorscale\":[[0.0,\"rgb(165,0,38)\"],[0.1,\"rgb(215,48,39)\"],[0.2,\"rgb(244,109,67)\"],[0.3,\"rgb(253,174,97)\"],[0.4,\"rgb(254,224,139)\"],[0.5,\"rgb(255,255,191)\"],[0.6,\"rgb(217,239,139)\"],[0.7,\"rgb(166,217,106)\"],[0.8,\"rgb(102,189,99)\"],[0.9,\"rgb(26,152,80)\"],[1.0,\"rgb(0,104,55)\"]]},\"margin\":{\"t\":60},\"title\":{\"text\":\"Neg RMSE Score (percent of data)\"},\"height\":600}}",
              "type": "plotly"
             },
             {
              "payload": "Check ran on 5180 data samples. Neg RMSE Score on the full data set is -440,183.27.",
              "type": "html"
             }
            ],
            "vehicle_year vs max_power_output": [
             {
              "payload": "{\"data\":[{\"coloraxis\":\"coloraxis\",\"name\":\"0\",\"x\":[\"[2,006, 2,010.5]\",\"(2,010.5, 2,013]\",\"(2,013, 2,015]\",\"(2,015, 2,017]\",\"(2,017, 2,020]\"],\"y\":[\"[0, 73.45]\",\"(73.45, 81.8]\",\"(81.8, 88.7]\",\"(88.7, 100]\",\"(100, 189.3]\"],\"z\":[[-662462.8148851851,-602097.6196111803,-546627.7097235764,-507282.6120592297,-468247.97647821385],[-591291.4424230532,-508039.47283169103,-423086.10356203467,-346656.7332016535,-253930.03668135635],[-607009.9428550545,-491924.1034420921,-411161.17430939444,-321605.002876234,-259279.85912327646],[-617185.077897556,-484402.1117272577,-349211.900632886,-274980.70233665156,-193874.84090898465],[-498168.2956845588,-359276.72962520475,-243327.0446741739,-194569.01661738678,-169211.7057182393]],\"type\":\"heatmap\",\"xaxis\":\"x\",\"yaxis\":\"y\",\"hovertemplate\":\"vehicle_year: %{x}\\u003cbr\\u003emax_power_output: %{y}\\u003cbr\\u003eNeg RMSE Score: %{z}\\u003cextra\\u003e\\u003c\\u002fextra\\u003e\",\"text\":[[\"-662,462.81\\n(6.35%)\",\"-602,097.62\\n(9.88%)\",\"-546,627.71\\n(8.84%)\",\"-507,282.61\\n(9.4%)\",\"-468,247.98\\n(6.81%)\"],[\"-591,291.44\\n(2.12%)\",\"-508,039.47\\n(4.73%)\",\"-423,086.1\\n(4.94%)\",\"-346,656.73\\n(5.5%)\",\"-253,930.04\\n(7.12%)\"],[\"-607,009.94\\n(0.5%)\",\"-491,924.1\\n(1.91%)\",\"-411,161.17\\n(4.4%)\",\"-321,605\\n(10.12%)\",\"-259,279.86\\n(11.29%)\"],[\"-617,185.08\\n(2.16%)\",\"-484,402.11\\n(4.02%)\",\"-349,211.9\\n(5.14%)\",\"-274,980.7\\n(7.34%)\",\"-193,874.84\\n(5.14%)\"],[\"-498,168.3\\n(1.78%)\",\"-359,276.73\\n(6.06%)\",\"-243,327.04\\n(6.31%)\",\"-194,569.02\\n(5.93%)\",\"-169,211.71\\n(4.03%)\"]],\"texttemplate\":\"%{text}\"}],\"layout\":{\"template\":{\"data\":{\"histogram2dcontour\":[{\"type\":\"histogram2dcontour\",\"colorbar\":{\"outlinewidth\":0,\"ticks\":\"\"},\"colorscale\":[[0.0,\"#0d0887\"],[0.1111111111111111,\"#46039f\"],[0.2222222222222222,\"#7201a8\"],[0.3333333333333333,\"#9c179e\"],[0.4444444444444444,\"#bd3786\"],[0.5555555555555556,\"#d8576b\"],[0.6666666666666666,\"#ed7953\"],[0.7777777777777778,\"#fb9f3a\"],[0.8888888888888888,\"#fdca26\"],[1.0,\"#f0f921\"]]}],\"choropleth\":[{\"type\":\"choropleth\",\"colorbar\":{\"outlinewidth\":0,\"ticks\":\"\"}}],\"histogram2d\":[{\"type\":\"histogram2d\",\"colorbar\":{\"outlinewidth\":0,\"ticks\":\"\"},\"colorscale\":[[0.0,\"#0d0887\"],[0.1111111111111111,\"#46039f\"],[0.2222222222222222,\"#7201a8\"],[0.3333333333333333,\"#9c179e\"],[0.4444444444444444,\"#bd3786\"],[0.5555555555555556,\"#d8576b\"],[0.6666666666666666,\"#ed7953\"],[0.7777777777777778,\"#fb9f3a\"],[0.8888888888888888,\"#fdca26\"],[1.0,\"#f0f921\"]]}],\"heatmap\":[{\"type\":\"heatmap\",\"colorbar\":{\"outlinewidth\":0,\"ticks\":\"\"},\"colorscale\":[[0.0,\"#0d0887\"],[0.1111111111111111,\"#46039f\"],[0.2222222222222222,\"#7201a8\"],[0.3333333333333333,\"#9c179e\"],[0.4444444444444444,\"#bd3786\"],[0.5555555555555556,\"#d8576b\"],[0.6666666666666666,\"#ed7953\"],[0.7777777777777778,\"#fb9f3a\"],[0.8888888888888888,\"#fdca26\"],[1.0,\"#f0f921\"]]}],\"heatmapgl\":[{\"type\":\"heatmapgl\",\"colorbar\":{\"outlinewidth\":0,\"ticks\":\"\"},\"colorscale\":[[0.0,\"#0d0887\"],[0.1111111111111111,\"#46039f\"],[0.2222222222222222,\"#7201a8\"],[0.3333333333333333,\"#9c179e\"],[0.4444444444444444,\"#bd3786\"],[0.5555555555555556,\"#d8576b\"],[0.6666666666666666,\"#ed7953\"],[0.7777777777777778,\"#fb9f3a\"],[0.8888888888888888,\"#fdca26\"],[1.0,\"#f0f921\"]]}],\"contourcarpet\":[{\"type\":\"contourcarpet\",\"colorbar\":{\"outlinewidth\":0,\"ticks\":\"\"}}],\"contour\":[{\"type\":\"contour\",\"colorbar\":{\"outlinewidth\":0,\"ticks\":\"\"},\"colorscale\":[[0.0,\"#0d0887\"],[0.1111111111111111,\"#46039f\"],[0.2222222222222222,\"#7201a8\"],[0.3333333333333333,\"#9c179e\"],[0.4444444444444444,\"#bd3786\"],[0.5555555555555556,\"#d8576b\"],[0.6666666666666666,\"#ed7953\"],[0.7777777777777778,\"#fb9f3a\"],[0.8888888888888888,\"#fdca26\"],[1.0,\"#f0f921\"]]}],\"surface\":[{\"type\":\"surface\",\"colorbar\":{\"outlinewidth\":0,\"ticks\":\"\"},\"colorscale\":[[0.0,\"#0d0887\"],[0.1111111111111111,\"#46039f\"],[0.2222222222222222,\"#7201a8\"],[0.3333333333333333,\"#9c179e\"],[0.4444444444444444,\"#bd3786\"],[0.5555555555555556,\"#d8576b\"],[0.6666666666666666,\"#ed7953\"],[0.7777777777777778,\"#fb9f3a\"],[0.8888888888888888,\"#fdca26\"],[1.0,\"#f0f921\"]]}],\"mesh3d\":[{\"type\":\"mesh3d\",\"colorbar\":{\"outlinewidth\":0,\"ticks\":\"\"}}],\"scatter\":[{\"fillpattern\":{\"fillmode\":\"overlay\",\"size\":10,\"solidity\":0.2},\"type\":\"scatter\"}],\"parcoords\":[{\"type\":\"parcoords\",\"line\":{\"colorbar\":{\"outlinewidth\":0,\"ticks\":\"\"}}}],\"scatterpolargl\":[{\"type\":\"scatterpolargl\",\"marker\":{\"colorbar\":{\"outlinewidth\":0,\"ticks\":\"\"}}}],\"bar\":[{\"error_x\":{\"color\":\"#2a3f5f\"},\"error_y\":{\"color\":\"#2a3f5f\"},\"marker\":{\"line\":{\"color\":\"#E5ECF6\",\"width\":0.5},\"pattern\":{\"fillmode\":\"overlay\",\"size\":10,\"solidity\":0.2}},\"type\":\"bar\"}],\"scattergeo\":[{\"type\":\"scattergeo\",\"marker\":{\"colorbar\":{\"outlinewidth\":0,\"ticks\":\"\"}}}],\"scatterpolar\":[{\"type\":\"scatterpolar\",\"marker\":{\"colorbar\":{\"outlinewidth\":0,\"ticks\":\"\"}}}],\"histogram\":[{\"marker\":{\"pattern\":{\"fillmode\":\"overlay\",\"size\":10,\"solidity\":0.2}},\"type\":\"histogram\"}],\"scattergl\":[{\"type\":\"scattergl\",\"marker\":{\"colorbar\":{\"outlinewidth\":0,\"ticks\":\"\"}}}],\"scatter3d\":[{\"type\":\"scatter3d\",\"line\":{\"colorbar\":{\"outlinewidth\":0,\"ticks\":\"\"}},\"marker\":{\"colorbar\":{\"outlinewidth\":0,\"ticks\":\"\"}}}],\"scattermapbox\":[{\"type\":\"scattermapbox\",\"marker\":{\"colorbar\":{\"outlinewidth\":0,\"ticks\":\"\"}}}],\"scatterternary\":[{\"type\":\"scatterternary\",\"marker\":{\"colorbar\":{\"outlinewidth\":0,\"ticks\":\"\"}}}],\"scattercarpet\":[{\"type\":\"scattercarpet\",\"marker\":{\"colorbar\":{\"outlinewidth\":0,\"ticks\":\"\"}}}],\"carpet\":[{\"aaxis\":{\"endlinecolor\":\"#2a3f5f\",\"gridcolor\":\"white\",\"linecolor\":\"white\",\"minorgridcolor\":\"white\",\"startlinecolor\":\"#2a3f5f\"},\"baxis\":{\"endlinecolor\":\"#2a3f5f\",\"gridcolor\":\"white\",\"linecolor\":\"white\",\"minorgridcolor\":\"white\",\"startlinecolor\":\"#2a3f5f\"},\"type\":\"carpet\"}],\"table\":[{\"cells\":{\"fill\":{\"color\":\"#EBF0F8\"},\"line\":{\"color\":\"white\"}},\"header\":{\"fill\":{\"color\":\"#C8D4E3\"},\"line\":{\"color\":\"white\"}},\"type\":\"table\"}],\"barpolar\":[{\"marker\":{\"line\":{\"color\":\"#E5ECF6\",\"width\":0.5},\"pattern\":{\"fillmode\":\"overlay\",\"size\":10,\"solidity\":0.2}},\"type\":\"barpolar\"}],\"pie\":[{\"automargin\":true,\"type\":\"pie\"}]},\"layout\":{\"autotypenumbers\":\"strict\",\"colorway\":[\"#636efa\",\"#EF553B\",\"#00cc96\",\"#ab63fa\",\"#FFA15A\",\"#19d3f3\",\"#FF6692\",\"#B6E880\",\"#FF97FF\",\"#FECB52\"],\"font\":{\"color\":\"#2a3f5f\"},\"hovermode\":\"closest\",\"hoverlabel\":{\"align\":\"left\"},\"paper_bgcolor\":\"white\",\"plot_bgcolor\":\"#E5ECF6\",\"polar\":{\"bgcolor\":\"#E5ECF6\",\"angularaxis\":{\"gridcolor\":\"white\",\"linecolor\":\"white\",\"ticks\":\"\"},\"radialaxis\":{\"gridcolor\":\"white\",\"linecolor\":\"white\",\"ticks\":\"\"}},\"ternary\":{\"bgcolor\":\"#E5ECF6\",\"aaxis\":{\"gridcolor\":\"white\",\"linecolor\":\"white\",\"ticks\":\"\"},\"baxis\":{\"gridcolor\":\"white\",\"linecolor\":\"white\",\"ticks\":\"\"},\"caxis\":{\"gridcolor\":\"white\",\"linecolor\":\"white\",\"ticks\":\"\"}},\"coloraxis\":{\"colorbar\":{\"outlinewidth\":0,\"ticks\":\"\"}},\"colorscale\":{\"sequential\":[[0.0,\"#0d0887\"],[0.1111111111111111,\"#46039f\"],[0.2222222222222222,\"#7201a8\"],[0.3333333333333333,\"#9c179e\"],[0.4444444444444444,\"#bd3786\"],[0.5555555555555556,\"#d8576b\"],[0.6666666666666666,\"#ed7953\"],[0.7777777777777778,\"#fb9f3a\"],[0.8888888888888888,\"#fdca26\"],[1.0,\"#f0f921\"]],\"sequentialminus\":[[0.0,\"#0d0887\"],[0.1111111111111111,\"#46039f\"],[0.2222222222222222,\"#7201a8\"],[0.3333333333333333,\"#9c179e\"],[0.4444444444444444,\"#bd3786\"],[0.5555555555555556,\"#d8576b\"],[0.6666666666666666,\"#ed7953\"],[0.7777777777777778,\"#fb9f3a\"],[0.8888888888888888,\"#fdca26\"],[1.0,\"#f0f921\"]],\"diverging\":[[0,\"#8e0152\"],[0.1,\"#c51b7d\"],[0.2,\"#de77ae\"],[0.3,\"#f1b6da\"],[0.4,\"#fde0ef\"],[0.5,\"#f7f7f7\"],[0.6,\"#e6f5d0\"],[0.7,\"#b8e186\"],[0.8,\"#7fbc41\"],[0.9,\"#4d9221\"],[1,\"#276419\"]]},\"xaxis\":{\"gridcolor\":\"white\",\"linecolor\":\"white\",\"ticks\":\"\",\"title\":{\"standoff\":15},\"zerolinecolor\":\"white\",\"automargin\":true,\"zerolinewidth\":2},\"yaxis\":{\"gridcolor\":\"white\",\"linecolor\":\"white\",\"ticks\":\"\",\"title\":{\"standoff\":15},\"zerolinecolor\":\"white\",\"automargin\":true,\"zerolinewidth\":2},\"scene\":{\"xaxis\":{\"backgroundcolor\":\"#E5ECF6\",\"gridcolor\":\"white\",\"linecolor\":\"white\",\"showbackground\":true,\"ticks\":\"\",\"zerolinecolor\":\"white\",\"gridwidth\":2},\"yaxis\":{\"backgroundcolor\":\"#E5ECF6\",\"gridcolor\":\"white\",\"linecolor\":\"white\",\"showbackground\":true,\"ticks\":\"\",\"zerolinecolor\":\"white\",\"gridwidth\":2},\"zaxis\":{\"backgroundcolor\":\"#E5ECF6\",\"gridcolor\":\"white\",\"linecolor\":\"white\",\"showbackground\":true,\"ticks\":\"\",\"zerolinecolor\":\"white\",\"gridwidth\":2}},\"shapedefaults\":{\"line\":{\"color\":\"#2a3f5f\"}},\"annotationdefaults\":{\"arrowcolor\":\"#2a3f5f\",\"arrowhead\":0,\"arrowwidth\":1},\"geo\":{\"bgcolor\":\"white\",\"landcolor\":\"#E5ECF6\",\"subunitcolor\":\"white\",\"showland\":true,\"showlakes\":true,\"lakecolor\":\"white\"},\"title\":{\"x\":0.05},\"mapbox\":{\"style\":\"light\"}}},\"xaxis\":{\"anchor\":\"y\",\"domain\":[0.0,1.0],\"scaleanchor\":\"y\",\"constrain\":\"domain\",\"title\":{\"text\":\"vehicle_year\"},\"showgrid\":false},\"yaxis\":{\"anchor\":\"x\",\"domain\":[0.0,1.0],\"autorange\":\"reversed\",\"constrain\":\"domain\",\"title\":{\"text\":\"max_power_output\"},\"showgrid\":false},\"coloraxis\":{\"colorbar\":{\"title\":{\"text\":\"Neg RMSE Score\"}},\"colorscale\":[[0.0,\"rgb(165,0,38)\"],[0.1,\"rgb(215,48,39)\"],[0.2,\"rgb(244,109,67)\"],[0.3,\"rgb(253,174,97)\"],[0.4,\"rgb(254,224,139)\"],[0.5,\"rgb(255,255,191)\"],[0.6,\"rgb(217,239,139)\"],[0.7,\"rgb(166,217,106)\"],[0.8,\"rgb(102,189,99)\"],[0.9,\"rgb(26,152,80)\"],[1.0,\"rgb(0,104,55)\"]]},\"margin\":{\"t\":60},\"title\":{\"text\":\"Neg RMSE Score (percent of data)\"},\"height\":600}}",
              "type": "plotly"
             },
             {
              "payload": "Check ran on 5180 data samples. Neg RMSE Score on the full data set is -440,183.27.",
              "type": "html"
             }
            ]
           },
           "type": "displaymap"
          }
         ],
         "header": "Weak Segments Performance - Train Dataset",
         "type": "CheckResult",
         "value": {
          "avg_score": {
           "dtype": "float64",
           "value": -440183.271
          },
          "weak_segments_list": {
           "comp": true,
           "meta": {
            "column_level_names": [
             null
            ],
            "dtypes": {
             "% of Data": "float64",
             "Feature1": "object",
             "Feature1 Range": "object",
             "Feature2": "object",
             "Feature2 Range": "object",
             "Neg RMSE Score": "float64",
             "Samples in Segment": "object"
            },
            "header": [
             0
            ],
            "index": "{\"py/object\": \"pandas.core.indexes.numeric.Int64Index\", \"values\": \"[0, 1, 2, 3, 4, 8, 9, 10, 14, 18, 19, 20, 21, 22, 23, 24, 25, 26, 27]\", \"txt\": true, \"meta\": {\"dtype\": \"int64\", \"name\": null}}"
           },
           "txt": false,
           "values": "eJztvVuvJMmVnfk+wPyHAgEBM0Ao4XZ190cB0rxpHtSPDYEocKpbBZFFgixK0/9+zL7PPNwiPOJk8qahWodoJKozz4nwi5nttddee+3/+4d//u4//cd/+A/f/cOvfvv7H27/1w/f//zH3/8Q7v/x3X/6/qd/vv99vP/H+Pt/891v/+m7f//9z9/f/uH73/zu1z/84bsff/ruH37459/88NPP//v/9m9rjbnGL1vI21ZC+7/bf/vhv/z4q1//8Mt/+eH7399+8X/82x9/+qfbd3EJy5fyf/7i9pvv/99f/u63//2H3//yt3/8+Xd//Pn+E2v6ksvS/rfWuKc99x+uX1K5/eIfU2of+11ZY7l9F9ZtvX2X1m1rf5P2tX90af+dtnVpf6Yt3r7LYcvtJ7d9b3/ua21/s/Q/01L6f6e1/Uyo/bdyXPb+86n9Ran9z5jbl8Ra2gfXtIf+90v7pbjG9mddQvvgvOfUv6r/fNm5kLz079j7r+557Z++tf8ugSvI/Qf3GvqPpPYXKQR+p19kaR/WPjfu7W/WUvrH9t/POfVPrFzA3q+3rv0fQ+r/mHL/2LT3W0r9ttf223v/o/1Tf0Zb7U9k6X+WrV9y4ImUtLTPS3Frv7L128mxXVnM/XJiTf3j9i31G1z675edx9ofcfvc/oH9GbSXxOPuH5hi7b8UKhfbPyvEvd9Ov6d+N3FN7drjxrPmV/bcL2qJ/StLaJ9d2kvvX1b7j8f+fGqo/RFuS3+ES//+HCMPuH9/+8p+iaE/mhIC72nhSZSlP/69f2EM/HzqP7nF2BdP//zc/qr//MbPx/7JNVcusD+kuLHA+oPY+823O914i+2r+rOMPPjkRSYea38H7cv6u9n6IojLFvpt8w1rfw4hl8gT7HezV+4v9Se4r/0rYn+5ORZWB8s5sphSXwBpWX18tS+pvgJK7iugLP0TQulLJbXH1T+tX0PY+7e0JcEn999a+/JqN98vqt9j24cr381f9E3Rrqav4xxZGrW/uczN7v1m89rfRcq8tdIXR+0f2262/+DSH1jbFJEP7rtq6W89cwvjWljrtfAm+vIriT1U+08X9nXoLyKwUtpGYhn0zdB3Y+hXVbb+jtb+KBK/11577R+67ezy1H+6f8ve90J7Ja7JvqNWFtjOLu6vbufOcj9I0tJ/MXl29O3XtkV/qP0a2+7ri7n2C2kXtvNueLtszsBq9q32z9iCBw230Vde26d9V/bfTv2C85p89v36Qv/ptqL7s+9/lP4oU+l32t40J8vKibOxRziJ+OmSfEQu8P7jqS+ttqjXfr70p1p4ZznyQvrmXvuTCnv/ufZgOC25oMKCZzm2b+5/1r4NS//BwseW/iYLry9Xbm3ryzP1Dd6+p1/P1t/wGjgg+me3c2PvN+HWqDx7HtDerzBWTqjM4bDwrMPKlt147n2ltjOiP3g2tKttKazOyreuPB0OLd5bzEaByJKufB+Hyc4N9FdZWVHFM3TjB/mRuHBj/SisoV9YOzQJEf0VbUSa5EHcF3TiDW/9HQUvkQM+bpGTOLA0/XT2f92JFpyIG6c3q5ljmUPPA20nHu394GpRpt9o6L/DHebSN207KXl0buPMcZ15Iv3FtPjSrmJL7KW+IjJfkUPgUzjglv7s+dgc+z+2u018buGv+92VnYe+c+4s/dEtnJPtVf3nXxDjW/hYv7TF0I7CnNtieBfjIzH+h5/++ceffvjlr77/3fe/+vHnf7n/QPv1zA9sX1IL6203bcSxhZe934N7DydvIzyR7EWEr9z/Jc6/ifBG9bZg77HdqP4N8XyK5O3kX494zvPkPc+Rna+5hvcpsBvT52je3gdnQX99K4G8n5jEdw5Mg3xiYRnqa87hCPhtN3AG9E1o8G+74QkCRGJDiy5hAAFOtxkOlLrmRziQN89LQEE/g2ZokFN9CRAaEkjcbrvgfT9QQg39IUwAwVN/QgmJ4HGFCYWDPmT+njhM/BQxtAOmHrghsrPf4YYWk/ttgFNarMqPGCItfRW2IzKdSIJPI0YOVLEDNMEWB6rgGe7lEVoIKtoRuzxCi8SyTOxxrmnvC4gXGA04fSGCMhoa7Z+c+NFywg4CKd/annK/jlqJ53l7hUZaeMsHJilsFpFJQxTsgXyAlHb6pyeoUhNLgkU2wZYGC/IBXkricN7SdkCYypIWyBQQUs2sxn7CPCCbjdOpEjBq32IzysmBjyfyzoinvZh4IJ4V4JaLaKQ+QqC2zfIAQkKg2ENqC/z1AEJCoGq4YD+xbkRAM/ZpO2l5QkAn9mnraLkjIJKDsJY7Dto5wgyn+yZefIRE+yqA3gY6ajg9PGKkhmTygZTaw+zPO+/l66ipcNDO2MnH8wygIgAje8yu+4GlKpsWLCWMqmyBdgCZX3Dw9UOnYYv+YpYFwAWg/wuhVrs4thyBYhtb7o67Ql/FL9AXqV27AR7Tth94LPN0XqOyyie27RYfEVoAl7UFF2a01o6GeGC2b0Br7U32C4o1PSK3tmIJS3l/Bd0Ca2PGbolt1KIYZ4lHG6hpQnOhpjumY50FnkAxf9wSCIbtzCW0vZQG1nuD8tonPQE8VrUoT2RX2IptL5QD37V3XR4xXXu+pgMCo/5hm2dff+wcx6C5dhDlA9NVPldk13ZUf6gr8R1819YW76PvYI+sPxvwtd/h/ORMIja8gYAtspevQsBY7kCw3VM94GAC0F3wYDtZwntU+IwH0+4DY3fmsh4IMRceLI9hBRX5Yt9AxvbTfbnXF+DxAhuvgHGGiidIzHuHdw0rLJ1haN/yMRH0T3/84de//PlffvdD+6fwpX1q++f21+uXtld+8Y8f0zzCv4YzWBhulo/IngkElpDdK8sjICyrp9ZrsucCCxtk3r8CDoWFYau3F1xPXD11nyBhYQnOwPBK9kT2xkn5rCSBYMK2joFEAI+JBCKKX5mgtr0yhxuhaTlYoaXERzD4MStUjOfP0K/9an4Afa/5oBnj5W2Nt5MQWkE6/Q1BAqWdpDMRUXZCF8eUOLCdNeFOHe35DgQzK/sdf8QBNWO/FiPBHBww67o9ckntQCyPqC+sfU2Ufbl9C6GUeFfR2LoZ6YFTolJC3gkBJ4qpRVDYFegudnN71PkVzGsnUbl9hXoKx3pYb69oqMg7TyG9IqPaO88HcGvnLcGcN7sAay/wLRAwI69hhm8h1QO9VSiJSPTJfdtzdAYw7YXLAsK1XRoO8NZeczwgXFtyPPC9PrJYF/6qvdP9wHBx56leWKx2senOYnkacbt5rAf2NSvhmddq4bjc3rJbAST/hNbyuvGLnC0ncgs84YHcZDXecF9xzwdem5BaA88LaSlvd3+FyAqnDOELbJaILW8QWuVIu8C0RK5UEgEcUqdtg/X2MUk2ABrQLPJuL9CMPBh8Vlj0LfwAOrjXCaW15/OAz2ZkFgiHV3zmiX6CtMD3XIm1FkjLS3gW+Y6xjk+QlgeY7z8OA/SOa2vr+w7DBGAA6ncw7MKwDexV76CrcO2ByNS+oRzUWlqf+LX2RQuBKBC81tsDk9be33qgLrJWObyJU8s8xnZILR/ALYNKfI28SrzjryjF0RMlrucd9/YMuQqpdiXpm+FXHoeeyWo/ScTO7JuwrXc8dkFiYVmWF0gskIm/wWMtR9sODNbi7nZgsNqXVGGJCcHWvmEHECPsznAssDbWdJB5LQV7QmWBWP/nY7OeP3+JoW3+bdvbFb4tw9X4Zcl7+19sR2+DAh2q/dcff/3b3/zw8w+//8Mv/5/f//jffvip/XTpYfrLcsC28qV94StKb+brBkfHqohsmQHMZNXvFF0kug9yLoZy4C+hl3Brpt7akbEeIGvm2tgDNbijOXqXE0y185GHzq/u/Ut8xKyKxOEmhJpxU0Nw+RVdlqmEiJNWb1I+nqVPxOGrE1cNFJLiGsBn2e5AprCKB6MFNyUT1V71nXGympXgLtgFDxWtxcM1A/DWA120AH1niuSIInW7ZCwFSLR1Fw44AWtyLWQNukhMsfQPeOCFlglNXMtZlccvNpL0AU62M7Svmgo7w/6Ry2ln5r2cxf2kGPJB1LBD22F3L09NtEzczRgC1QxP5ZOQqRSJ2ZB9N9xmQqZw0YbumVwxJkuktNOeJ9aXi/BkzXc6pT3UeMRkaMogUfTMoUCjd0jSXwfHIRRKEnku1PrK+hiCS8hHxKWQJS/yjgzJMB+WuUUa+7Ye8TRzcFxZD2JoiJ71J8lhYap9E1Cl3umNXqfnUTwXn9bgO74zGA/cBRlPA6qE3dXNGI5I2U5Xwu7JY4TxZLmVOrQA6SE8TpyENaeG3urtofIUoeCsPMlPyEnEBWaVj5GJuLIPg2uI6Qh4U6ir7rpnYmFmE2LlizYw6odRbSYPAtll3Gt8qCVdCIO2WO+lo7ZxlttgBtq24BBzr4OiwEKJq2yHzXZEobgIvby+gxWIpAMPUShK6R7BBSJhhJjUXnb60tZMA7QtT3mb/i876f+tZfrrdhd3NMjd/7xk/eb7ZvqRA2LO7gtYdc7xK/dvLDHHN7vfZBCjRD2Zdlwf8/2LoOMhx2f/mti/SelbEAkPib0ijkm+0U6IdHtR8Pkgo7/m8g/hKPFRlzTeFF5JRzsL0xGaQpI4u6g50HEEfvIj8cbHyfpI0FceYxLGsaalghNbcVZ4TGn60HlcMvSG6ept6Dyu2fpQe3yYp8/Kjylbv4pALnm68g+z9cQqSGPNn9m6mXqCpm542ndS72m7T4G03YRdrUgO5X2+HkxVLln7TsnTBL6AgEngi1hnfw68O+QYufy7LH7O36ltmb5neeRnuUm7vXRk8g3I9kUdt3TP6hWgpHrk85WgPGfxD1oUdu+yvcrlZ12KufxVl2LIJ0vMoOfAn3Nyv9b9VXJvWq9EJaXtnt2X1RDHOVnNZyUAeZ8m87CsiTKHiT1QoGzc2VN2P8owpPTfkMwXAq11GI8fUvo0SOL99qBhMaX38snlSzYRf8joAQ8vqiqkESbtDQOWb0raIxnpSNp5iYEnedG6JFL39YPU/Zq07+vI3K8KmEu23i4yHim6yflF+xLgJ+cMvf1mvufp21Jv95IKZGffpmtZDwgyUnMOAUt2CeQzpeZVyD4hjnW9J+VD6hK55ZUT6TlNF4eYpquDIU1vx1p6lay3h7AfKftFGFMS5elJHvNRPq9G5prVJ+ukR3o/45w/LZmf8virfOYB7HD2zSl8ZIuPRJ4NZjr/YSIPNhrFFLOCOWNHV3PJ2MUAo3QyYNJRQFFtUz2Ayd7TSph+l8P3d3Cpo0QK4ubtgZgwy3LWsn8lkX+tyhlYK6zr/mVpsb7tx9C22nvFzZK+LO9S+LZ51rPysn9pb+mlKmdD3EGu96EeJ7OmLMW8zfUnJY7ga/ep9mPSlD+Lpj4Q4lBlaeu63l4IcWY24CKvbfeSDmbAwsvMDzR8HA6WoAGEO0wrm2VvcPbMGwQK3tvJITzpdRoAqjdVOy0219uDaqdEpTMjptyxnVTFVKfJyynX+ZiBCEosqvmYwOWs3cBMkOEIAQP5+IWqUK4D4B18xUJOF9H2Fgu77S+2kQOVR2A4K3XKYMnPMg27ol1guD0yHcrm5CXZlVPJpvCvo0DzIMtJJzEyCXLajW+DHilmBZAkwTJd2A/cF1yogL/CzqNgs/WVPit2inrdzKJ75lXQ7Qy1TlBhUVRp3K5CnWy9ZpLr5KgC5euEzDdxMW9UO23XxVccjQqejSfFm8khPgHGWa9zJXAEiDONo1KnIWjIZX4SgCix80a1c2F6KPPAVxS48YhUYvA/p1wnKb3KUqQkQ9bdy3bnhS6y5VWwvj8DQ4iiq36nLCUfpNGk5ZE6mhU97YTi5W4W5m6DTMoWNAi0mb0+CXuSlKaSnvdinvZxsP+Qzc/Cnm/loxD2DFKKQtFMTSWiLQRV3O9gU3XPG65qlvvMvNVDiYma0jcyWZwHoaxf4bRmlc9V3yMK/RauSxjaIJz73/LxAUnlwFJ+qfmJR4r2AR2m6OehnkRcL5BOV9FPe2nrK+LshfRnos/qqI/DXbG5PyLSLoIgObVqbQlmjeJs8eXPOnAA1EcKoYs2KJvowMPlYpK6rAcKlo1job4TC8Xcn2OgNqRwKA6l7fZE2z1LiYKEDPC3wFnNZJ4iog/lQ8/0XkGVdAW/CZFDQj35oZ5IBnAqbn0LGRjgiyrJ74PCiBPtShWqNgp2CEAbzpqjV0IjAipcwoVDfKc0YkFLLQIZ3vGL24CvAOTXWqTKk5m4R4tfm0TRM/kYxfZRQuCpEBaJDA/4+TVLGUJOX9pHteNg7zjto360vUOZsDUQ1POsD4Tt+14hNcPypWHS98r2trv3Az5nyyYTfC4spoY+KXtV1h5xGCjdAvx6AOrdijI59gVbR09RAhjP4KGcdtG6z0W10bBW7WF5VLXPsLplSOsBqxOpceQTgdgtpay3h+IbYWsg7CAKlrecqnEE8ln/Ls6O0CctS+dUyrdrqe5BAb9bGe4bRiwdF2VEXHVUWPchgIY5nAt5rOO8EzWRIS338l5RgzMRqUWUV0glkekAM/Jm7Y1zY5D6jyyrMLqGER1hvuEX+NnOH/c7Eh8E+OhTAp/dnROaLpZWyFoDCVLZJcAHRUWYLLcHCXyA1Bko21g5iv1Gz9ujDL5yPExFScuRzyr4wGuAVRU7Rw4yle9xl+040XQ7BMFDsnt3grUud0FUjVwVB4Bc26WkWewVu+DoQINYYsHMaDqB3gMYWWk8eyXEzOGJZnYC3MEU5FTMi73VzScWiQhc7B3IVWbsHaixDAQeweqTbn7AbsG04nf14AN8n2J5JINVkk2tfBSqsotM9AjqIvOs+GYqs6Y4+gB4XdYseFMzHB9FjHwg89VOTXhymz4LJFhGa8I5nLjxthYSt3nUbEOOLyu3sEZsKPT1beeCmKGYbRDY8wHek/1mU4E3lDt4n2F7XORn1wO7x2yzKJEL8B6Viz5Xf+V9a7LbS1kbiB/dT9uv24He2wqRlwET+8JOoX57opxA6ocgKGaEv4pEAZu2r/AiQfdC+raZ8wHsWwxPA95TULpi/KuQP4JbOSmGnn8C/NmKUPEr+l0C/lNR83Pq/KFQTAHCIi/6XLROvFHLPKQALs+4CDv62oOTJw+4SMsCp7sCswxZbX7wovOSJ033UckygvfkIXEUBcpvtgp8mEQU8rx35fGyIryYEoc0mnCmUjnJwmpphEyIxZYtNq+cGiQRYVRpz/whVJO6HsqtuREyB794ZhXR/q1LbmHjwEPBfbQY9CVu/yX1gAjnCtEAiozA0yPJAC58WKNvh2G5PVTqBxK0LeNsPhi5BvRDApGSdphrhDTV72kaNdcYzQfkFhUEM2UVNUnasSdsGoFOT9alzuq+fQcFPr7tOJgfDmhbbqz0o+0jMgE/uMwajBKmRzxiUClbZegBlqk/Yat8M3T8E8f+RivQ0Ct8hbkLKbfbliKaqUbgJJ2lc+N5rLf3qoI3eoK5PYF2rwfBnLVAuVObwd6IDd7nCyI1Xiz1sw1GgeOE5W0aQfyZpXLWIaa0YhYoVOKdaUSGO3wnVmi/tB65Q4PwXClrciOgnI0NZhOB/OIiZYhsvtEpy1YBYYVs1ZEtH/vhsJPqP+npPkwmvpYf3D4zhM8M4TND+MwQPjOEzwzhM0P4zBA+M4TPDOEzQ/jXmyG0Y3bfv3QouWw9UP1JbTdkC+3E+Vq28C5PKCyZvyRbOPtyviFlsFPnK4kDK8H04bV5zt9BEqG052UqMfcFfXtCUcM3KHf+ymmF/UZzcqGW589IMUZ30t840Rh670u68VGiUehHndONwLJ81yt1ph4vOqZepyFvE5CgZpzOoz8hFXnThWVCMpwE3wiATE7A2QmN0d82T/n23ETB+Z+SoUwdYP+D85S/hwwlo3f+c/KUiIR8amD7H5Oy/KXJyqxT+v87ZSGafHPegqzp7y57iXSKD0OkrAHj3zSTmXIY1FHXRCbWWt6nM8r6/9Kk5prOHK3496QGdBq0gfi7yG/mDsa/ZpYznDUvuY6tBx9nPA89kA95z3Bp+obs56Fr8u80B5qVV66Fv1E69GF3Jo/rr5IZ/XVzIoVXbzIjYvzfOj1qj6qdpl+6f/TS12152aaw5wengTe+UcOAwBwp0cg0Okh3G8pNNgiIuwvfDkoeAj+uMxQ5TiJaB57cyHF83VPOUrCJnF0HgptJW0pwQ1lZXjxXnYjWTPjs/4XycNPQgwhvxwDbhehh+9bRthduo9PTHs+RPCDsP5yYoD+zgAKUi3BfhE8b56zWLwh0beMcPktgZ8CqvZYhDPANVjYoJFARARGIM+vuOffU2Q8fpElFb1Nl4G9sqlQ1PynltTnK0YYEJNygYDBvXgQHbPB+ViD65LyN9F611WW+2uMLb3H2qpz6HkWew7EIAfshnORg5cAu43Wzu/Wt7K9Ydfne99izHZHmQzF6x7vHENmx7ZDVF7sciDEjVC4kcVWkXAfCipwJ2wEGhYEmsJ5mKUpXs7NoyyS9rvQvXBoRF9PMDBkZHx2DNhtB2cDioxJNdPv6vXcSimS0z8ZHSLOfduTBruRwhyAKslEU6+pDz5rA4uqsOKwGsrwdRz82apM5D4gc9X6UVOD4nrx5Zi11Kpq5aR6JL5Ne/uh8De8t+MeXDj2c38TrCOznzMq0daNfbo+XryD0T048ZU9mp+WIwnOnnyY8RtYKeh2eO0iaT+lyAndG1pJwlSB9Wh3ahlf20flc+T3OA6FzPkJhGsnIKUKmJS8DsSb1cUxmcrRXTYGvxS0e2eiE4H4mU50Ks0G0myXEkf4CY5RWOAEkPLxw+JFLB11Y7x10WSW34l+bf2gk4mhV6qvKt2X60fjRNuIav5QW89vK7G2Ob4LDb//7Ty2k/Jcff9f+ejn/OuQvodyDRiZmDtcaAogkWxHHTcFk7nwbwQQ0RnSXe5tdCeXbIu8qBv2Onx0KB+2mGSenM9EoQ4FUekCunoVGqbZfOXeAkJoY2sUxLMKIAxBTEHRB57JvNTSMmhis+liD+u24szbMNqtHGLTdLojnJtoukHbK2M0deA1UlMHbnSExEpHm9rtAS7Htdw+s3VPjXYg2iJN/oTbXSoG0tsZ0J/AAM7NpNlF39szO9JgMm8QE9qOdbnZZCMlG3uG1sD7RejIAKNJtxStc+tyQV7glcfMSjjg+s3tlGNXZDHjn+DRXXJeD7TPoD1/tqVsvVrhaYn+A24pssEcjBzum+j7XYuD0XLSLj1x7F+nbD+ckligYJrM5W/xkQzh6+rsjUUqr7MqdFhxe3TpGkBnb/AfKyRrVbT4/MjdblNZwIBNbAsUns3Oj+GT4N0JdhWqWLxb1nN+fcMtqu8jGIXkaRcgXzi2EeFhAJthHyFaVRZTZsZlQHliWi75gO4o8KeIdENlRKESC+ZuVDwEWq905xCkLHWpbx0i7DqNHaN5ekI6hjFgL/2FWcZqHi7RGI6INJhdzSZnJIYzgDEv+TDUjfmIgdbKYbcalGnmqRVZ/F6zCtZ8u4yoiZhBXBvm2+pI5l+GaeaU1AMWeIV6RM0vu3OduRu3I2wM2P8gnJNSei76nyRBjJimFimnRvM/+Xw6j1STuNMkouspgZQCoHPblvowN3z8BETvGZkk9NVqmVw7gmen301uQlzMZZdI2OdwyjdCAvJ3jLZ3dlJk2vGHAAWK9mmkuDNoApdqpCYcCNyQPUcbhzrk6Di4fu0kxGMCqwWnAmQIN1E4aYHX7KMae52nZw+UvLXdk/Mauc4bKQU0XOJo9t+vZb5IL7QyMnls7Ifuv/Z3DoN5qmNDbZToyEq6/L+SHUTbAT+lVTtdMepQpuEf9ESdz0KpDgylNEuH075ss37FBOWA8prBAkB2fAw5IQS2ro4AoeagTNzsaSCOfVy2kuJGteo0O7/VIDqbWUinb2Xk0cRGTZYnErT2WZBHRvm6wqc6mB3nzmF3MLvJZt5BlMZKZapMeiKnvBG3Q8ofO02oLH7SslieA5DKcQc/+U09CPG/m9tMpgdlIo2XQxLSG1rQexO1E2bY9ypMc+extMLYPXC15RSIJ3s3tTvtT8yLJ2sRMLL1VJg/7zBiumbetFFln9lbi1n5X7IKHtX21afjZ4H7OuvLg+3hOpw3LyMMWrYWDv/qUk40u2KDNHoGqssM52yS1nhM2O2IBlRHOYLszuMMrIh8JXErmHqcDfhrWKXhikNjl3eoDEaXovSIH/9w2K/cbOYmUteD6Ivk754GHU6tTJhwBsUgEEsj416mzNoJTzRVle6eMMXI1j8TvJtJiZz532Ibhs0J1SrNPOEt2k2nlIH4xVrLR1kQzHMc4d/KBK+wDO0xGGvy+iSJ2bNLFtH8miienGtni2VZ29WBfLIRwPqaDRL428B4+syyWwBoaCxL0vCz3VHgimSOphvX4CJ4lba2Qk/LNJYpqPXkIoykeNPTc9av1DVnFs5/ti0kC0tWw+x7jbFa56NkTRy56mOIkLEeeM/B31jhlNbN+yswLcfDSIyxTHWCCrnx1IS2ZqWotcdMI6lZiiE3DPoozesrth89OssGc9wZim3x2yhBl4GlwbSZetXi9k92HYy6sGJGhXety5wngAzQnqRq9nqa6uvNId9fhQU3wuUw5iLaxEwRTdI6MoB3l26oHGEAxWn6DYhLFWtjmWDJMkZemV9zE1KTcHrVfedLkp2VvUIcxefYWAMdgyGEx9AHK5D7JgWXyrJ6+Kd05Dh9G9djRlOSg0p9cfft+qcuX2ivjDZX1e5uJjon/+Pn33//0h9/8+Ic//Pjbn3757/74829/8/3PP/7q9o/Lf76tX1psP1wY20HE02Q7E9SG/+Iur0jRjLNpeDGSFfBQo3Bv11XV8g1FQLYWEpdCvjMzBWfSX7PuW+wGzgdT9yNrvyfpbR/zyHXs4GAvmkCSgE/peXsh6UjPWwgGL+d4pOfJuFGFZFa3zsRco8RUxiQbfmaTdmTR+Tc63LDzhgka4gmojuThRlCxb11PSioqEQL1nnWPXHv4mhH/JGzXx3S5Rfb1SInbCttvDwlwoF47JboJRzET3QZCPMsW8tXwkMsqhons9/UpRx0PWjmHY7pI+x3zwuldtTkzqACji8mi/u5wDIPSB/whRcuKxbz8/mLhQU0QV31kxmQriddtGCAOVQprYbOyk+qRHpoNmu+177rT/pHXb15nFjfbG0a9RId/BEQG61B7w9dJV7vF7Z5cPadVplEx80n3/GnOnMyZzJM0NzQ5Mguqvnkyn0X5EYq3JEy6Jy1VKiQ7dA4POqgNxyc6c5NUJMECptVa71P+ESzum3mYfe7Ce0etiADDPQ8ZOQgvUCtEsw/shqJ2Q47YmuQhc65Rk077kE37qCumx3xCvc3gf/lvTtQCzJ98EI/xU2TyY1JRggdarFCRA673hCCjrbtY0Qjm9UUMWvDhizhXOcrisvJVcAX6/fCrExgX47wxQJTQBHlHj6B4WiIWLarQ65B7DA2FDF11zO5qlSkOuP3gNsPSnIYXFM+3ourqNEVcBeJRCmcFmHFFgjfkF4yO0MZJhcdq3Rz2y+2jKhTwVQzHVYs7ZakOiTkR6lWtIAiNMm/aoU3zQQWaOWdfsQWcBLo6IKa+iEVz2wlQTshRX0TRYharUBoLi8My+OrRkrMMGNjw+naAvsz5PaAfxcqEQjTuJpekzKsOjEV0mwYknDUJb6BflpTXLTFp0nMgvAhjqEuiSC6gLW0HgWdteYRpZRycCwEjHojNjMUDclWTYvl289gD8DirRPsX4rnxGcSX9M6qvh5lB5Xnxd8Ixv1Wjj9RFo5oJC+CqjjQKW/TLUmiGSTpdqtQCpS3A0m1x0sOJLk04SkdFYkcydGDuhUXY/4dLEWdo+v2l0Cm//j9T3/8/te3fwyfeOkTL33ipU+89ImXPvHSJ176xEv/6vFSp7zil+5Suqa19irLK4lmb9lbX8ttHkZ75r8idFIm8/cHoGZVyN8hjLrO1XzAUX8WhvoG9PTXwE1/AWQaUzb+ysApjMD8dwafBlj6hEn/M8GkC0CyefdfBUy6ACR3z98MJX3io2d81J7v/omSvhEl/Un4KNV9+7L3IVvb0s243yiQP6jA5filz91oD75y8X03IVbZjV88mqtCeVFpyGmQbmNIh8kyYWZImB3yarshilot6BlxgHtAwHBdkTOqhppsVEG7Mo1iq/b9O/uDkmmm0mxrzTAhmGeC0GM3N9uE1ckQ1qSHXqzfF3hnT/5IOOBfTcC3i4vBrK3W0cC570mb+sjZNGmu7Zg8ddfVvgn6Oxc75p3HS+wGVlZWcWSPfNUcYUi1I5HOyUgeYbNg235X57VN4u2MNEsJd3AKG7KWRMm+sKCH4cLoBnPrAxDpTlpxCmeUSk12FJ8DVZR/h5VNRh9TAWXME+5n3wZgkQrxjAywrURYLxt1RAS+MQ/LdBvKcU0ALvLxarMm2v642G0OfPHraI2JaTSA9qWTx3SXbI9Spd+Kkr6uEbMSXXg/PArYFDQ0gF6OaRPr7WIxYePWEK/T6JGVaI3BRfUxZyh20HMaDEMKm342ITR7iPXKuxzDAAuyaFbasK4Y+vrE8uAKb0MYnxZ7Ur2UoUcrDz4Xj3NrKjGco2oaYeMeK2qwEFxL7yGyr0iicx2zL/p6WIDQLNtQ4jKE+KWOdKDcRs9aQnKupYYTcjJP0PZlfsz9TkStdEHZ70pTd3vonAn2nRBAEM+q8M8J3Grv3aT2fxi586FrBy20Odi+exp4OFTxYULPaemhGIPHW8EQ7AT7BzKKLbsIbMmzlQDtVFzs+qJt0+aC6PQ4u4TCkUEW7tqhP3Hz2FIbq06MZgIOvmRHNYMes6LmyWUkOjsIXXfWkAESdE5QWby0DtRwupG0O8ikVOttHizU1lP/R91fHMQ+jRqy18HOQ8cODU9EUoDAduTObEvU2cTmRNPisowBivD052DKYutovmfLm28K8Or5k/tIIRLP/mmrfczkjbZYOOHP9hrbt3sIcTkoWiN2Jpufzk6MlDUB5JTWbIXbxnEl8JWm4k5Paqu53EbjRtwMQdM8JbOgSytHe2QgcIwmxBh26hGQyXadiIC4V1uXqf2jbX4O6pXI7orsMYIW/My2UGx8jN4yJenvTfFk4V9ZEDU6PAJOhHw4oE23oyTEobli89IIPneXZG6pKOm+2W1iY+lzz0nlakNSse2km34TQnYtQQAbY3QqERUZ1tWVxuYjQnlw9DKFkqAWfnXj9c9mSgRKQrtcxug/troTLwEXxlOOhzwSIQ6M3WmDhNP7NCsV1DZEFGa5oXDbSTxXcQNnmvjHEo59Mf1PGqiJwmNIKjAkGfz1kyEUjoHf9N/osWMXTmIe39Vvx0OPJppk97gTdZzONU1fnRt4dhoSsHWhS8/wtIy5LbfR0JM3GZabA7rs6kExObf22ORkPgFlxonB252afq5WQMmmmmnqV1bOSArERuP4azCG0xUMcDYMOTcPxW2AB2l4i4IZcAl6IJMJXryGIpr3tu/MY3xAwHVPYbaRQ2ff+BGhS6e1qKw2imkTlngy/QY5jp8aliLfqI2R7dO2MNnWQVqU1LZWJ7kXgTjP0HgaxaX7bfQ6xaCFBjet7RBuBpUZgiGNQXek6BBPQWKAd+owNT2UxhRVMrapjzuxjAOnjmkQ7VMcwkHN82rUxzds6qrSiml3pK2A7hy/G9Huh2OA4m10ir9wa8KAJY4uGp4Bo4x0cZr6tNpT5VyFDCHZzorRh9kASTjx47mfq2oicjZ1Oa1WUjJwsI5m9qcuL3pl7GK36BtpRY+FraNgk7bdjOocajPzS5emsOx4MAymjgYxyNoxJ5c7PlvGkkZqdB5Fj35bweCSwQfwtgyrK67nc2Rdse3HWMlFKbR2hh103DTdOAIbWnrYL01uq/rAbo+z7qbOtHZSQcE4t1A1MDtZa6RkkzSbajD15JkWcu3j3Z0fePazRXJxu9pydNoz6z2OvjhIIpsqmP0Is7EPI2yI36kLbhtOXO31QduQFdChMEb0XdrkpAKKWw+V8tQy1yDbBry/ad/18YS/FVn2mIVtEGRNnjP/omlK1uKKzi6Jns3nwXo4xwLaemdr1qU9L1eT0cBG4AxjSulscKyfmBewkuaNj+THHdEJqT8cxrKXfe/y03IsczpPxmPZPMQZylMLoBYN1WdiIyD73kZQfnqyKUtI8LNMU7AOEx4cy4o9OxxbrOIqnp6MzDYTFAKOnLRcLg1Oso9T72EhqYXlmVzP7EVsoYWUjfLKtS9RaEV34jxZsYITk1Z6U79i1sVJ9k+WWVe2qY8xJfM2AthzS+PVa+2c1RjCIGr22+h6bG9RgpyUDuSyyOmZ3rLe9A7jDpwWvVkOZKtOTZLDvY1GMcpbU9Ok4yB1djsaKN0ScN/QKckmNo26iO50V7aTChRj7CLts0QiM7eZnpkQ2+1yGsS97cDUhshSieZG/fAwmeIRRiKKpRcd5sJIGPkLIPTZukm5LLubil5tIMw4WgrBfqtVH4lASDtLGj4CLX44t3f79tgg9ewDTbKzm40B3Aw5RzUoF/0bk98LYAAvWwAoWlk5gnIRd/COjFdnV2ka/CFUKTt9OIKxJOjoaDFlZddCD0HgQfq9nt2ZqpNqDTCAYR5iJhB9tWVVGxWN+ub21U17DAOY9B7k2dTPqlOGhn5kBoHtUkyMtPhLOl/Y5NWPnnVMCQXx7yIPWbYwfFysp0VqAFE3J/pceCUhjJqjhRkWCCW30+081fu80gxpNXwFn7pqS/RIsZ+YaaDYsiWaXXUhnDpvswXOaMMRHXBRc7lBB/VnSashx5D+hTQNamI49+wWMHKNmk+f/buOU9W3ZiisIPfSMNgAxU3dvS/MEK0CF+H92fVbkvUW1pv3dxriRBp7E62MGinaGewYV6iaTOXgcM5xlLwWW9rInJNe5xZip77GaE0auv5sKnYYrK3FDRJZArnNvo22oJqMj+mtRHIKsp5Ky214OiYQUy6yvVlWcLnNjcp6PYZo/x/vbm5dlvoclRcCHBtDn4Ii1U4bloZLcFJ5UDfWmNcxxFYLSU9rdxBPnPTaMeerZCh9ipxqNl8C30eHdHVya//vjRPMfjPC9XASoFhIdni2UCfNh06byqmCHIfx5NlTHeAtrCmnQZgI7Oms9Cx28wyfMl4Dj+GcuavbZVqHihJsCfN/ac1u6QEnFsEKlt7y9Tyjd/gnTY3bCa+fuX27bQtIJ6gngvZo5d7EpcOsgM102mzu3iZXqbz0bPEOkvSE5BQxy7MDO0rQ8qzVuujXSPUaMirJT5/mnXBJDhXOwbY3mYZpzPDUQD5ZfZ7N5IfdJ7RtsBeeTjbefQTl2nAerQ7Ydq6dmNYxwd48lihkSqH6TaBJSX80Xgqcy67NUZCd4oghuFZzFbgZOKX+Xlmw/ZG8aW1Pu7Aails/tude99MIa7REg6CiflT97Wyk444k5uzUy7Tihau2wPnLdu+NxeoJzIqAZwrRmbW2QZ6Dmu2mb7gXCNavWWhu46fWnshqdEcdVRCLAzCs3A+NwpmafFn0O3WfEHamdvwEJnhoyqfgwzNO7I3dlkncgTnXLq6rbdsA+EjDTwdWNRPDh9XE4GLGSq9/MlR7rvmv+h4nQTSIdfIDSMPw00hKFrUOy1VgtZvibueqZQBUl8YBV/8yw40Zp9oXwtVwSeK4J5OG5Mt6FVA4UUHB4s5kD6gWgszeNA27IXOYNU1nnl0Kkk3wNtOyBu3S5Z1P3gVmIjgYBOGRZRpgDGdgLIMu6bu9XzjoTcuuZIARbZFi7KYVEerKZ8KhWsxmiPynO0Idjb+34ZNw9KHDJJO5PnsmJIV2k+Wt/glR+ZnEm4avH5jgVhn/qHIG6hdZyhgLDrdyNcfd7IwfpF8/B2CFkqke28GyudnEEEMApSgTEWv10p2tGgrV5JLGIyJ8n+YNOu2+s3DQelfK1LHlajI4Az70d2gR0vRa/HwbOukIuVZQMLRUm9h6N39oaIPlYzGCSGgUICX4dlOISr3HqcvnrPS0j2LNwksB+8veGIs8ZjkuTr9g/ZsmZ4myyt6SVtnyDxLTUjhFTdQsq/IIffFJlhEmU/9FB6gQ2oIMm6DjNKtwcHsmtGpc0VJeqoVScdwpWTF+pSF5MMIMDlKpH2wIgyjNOfddj+gihU9+MnR0VgPCbVgdZwSsRQthGPusbChqdSvD5QEIocGmhO5JHJJ6aAx7ZElsQo2uGnpAyVwRQnXYyFofsNMmD+VYtDnvl2GtngzrtOK4Gisr40AQS44UNvNkTi+lOau8E8esgIJPBlnBB1bOXWfca+sR0nDIZZ2k25CNFRLNMZRmF5/jRKroKlgVluEnp826BiC5UW2rKE5Z3nZ7cAVpYIoTZvIGQQgbyRu1hIxU3PKu3euzg/TK0f1sJVIkFAhLGkvvwRLebQjeLFMt8vmQkQIITKd1H/m69XSh2pK3UX0HaN6GX0kpg9noD4IowbFh2j5iVbq9MLlMWa2jmJzgBfNw2pzobN2AEnw4UlyWfdD+ygCMYKbgDV31tYUHlhaNBlbgI8BMk1B1LZbkOOo45HTaVFoaPJcoqoE0SGyudiq6aYdRk+RymXUAw9YSZOMt2yjdrq7b0RohdUazgsmGO3M27D49dGN8gX4t1VLyZiRSOGmpTbUiYhey4aqClQgetRThJWwasOhuOuxRVpIwUA9hRodXNgwHYNKV53QdzVRMyPtzkL6WpCE0YReha3gBX2ghE0Vgp49M3l0Wr91korLw01Mm8wK1HU+wiHEoYC2vW7TwyUqrUAGNYLfFNbKxsDhlTlOanHXxQsT2bFCTx/GjwzqFhDBePqQeX1E8nDi5znYYsh2NbCqPtwKuHtzP4dr0QH/nbZP9HLjlyeemRGcwnG43wzhd1bX1rUEJ8K0aLAFRPXg4t6k0s9GLJrR97yjm4va1Q5otdDChfzDScSMpdA0OZ+QUlhhkwz+IVj3+LgbuET1UsJShPajDSzwV1AyZr8EhFU1O8PUeEp/boysPqUssKq+zdQ4IIG4XolSWD9gGkpw9fNphQbIufNyJreAlIokPlWhjzihRfZrNRwZTBHVXBo5KDoHs4jShjxj06A8Ux7vdrVrwLPsb0IF0GQZYXEB/3MMnhyJtEclD2vXjG0ZvMhZKCuTccgBsipeIqNOwwe2rVHptJbGAKtKSqKJAhhiw1kKgeTAq8phXvnSaFrXoDwYXQQYXkgyepz1lJWVxp8l+MC46uUJdxyJlof02lZG4yq3CMJ2m/EV912nN3wIoXA24c3Ir1qw/UJGVWx+NrL5meBIpytPVuGgnvBITTn8l+PMInTI5LaUhCLLUzkZ4472Uhs5XZOoZSb4Dqc/LncySH4yZdARf5S5vh1GTdsyywqe1ctJFG5ckWaY3Vk47LmvkxYXDCxY1jvDT11Pon+FwAutRaTixmpETRGFCh2K+fyyypbSqodCMFE2Q+S+FoMy7KgjfisN/gNiBveOQD3SGk6lURaGRdxWOuLFebKaqZU22dKFcNltOBXCjxlPOVLjaT0V/a4zXcgxKPxk2UzHAqkLTTVMzKzFqB/1v3l11ogknltJIjiaQnBr2hGRDR6tqORdsGSCPfXlxTBFhGTJ6zf6RRXKnJ6ZuYU50VkaE1poHP2jP5SKZzbGW4cJMyUg+U1AHVwlPUu3GYOtV8yyeta0IzxZbQ6nGKZMk9sz6Wd7abVXFFBx6z9Mmdtk6snlPj9mWC1os+Up5BkRr6NgMhVCSXsHMjAn+NHW+08krgElnP6+2MWGl1tuYbVHkDnazDR5uFmFzE7QvqMHeLMeqZGAoWxL4e8hMDmFwHdmq42gtAFTauDcsA3kCisuVJlEjpvzMeY8kJpOMj2kb2sLJq6JOoXIwLMfIn1G8waHV7HQwxZn2EZj0y6u+9CZbHafnmBtINWItmV4d42jcLXDQp2/ZMepDDpDIgtBw8cyGAyPwDfimBt+BfcbZMavD5bPehlc7QdDTDt3Q5kBw+AanucgpJjHS7bBHexooUlD1afeudVoCFafFsp2dKufQkbALXOFYbfhxDIHP8WkiSaSCNdvIhzHFj+SasJ8IWcOSTbJsiCCI+GS86lqQas+ubWn3XTuhD1LQ2sDk5qZvfQNZRPahQYy32eUtUsjOVIu0tnd6iu5viWPWSSqBvFA/OKeqwKoWqv6JrojB0l2GrTjgwaFbVVrWNBcQ287Rv6CRZfJF+exi+exi+exi+exi+exi+exi+exi6W/us4vl9tnFwrn22cXy2cXy2cXy2cXy2cXy2cXy2cVy++xi+exi+exi+exi+exi+exiuX12sXx2sXx2sXx2sXx2sXx2sXx2sfSz5LOL5bOL5bOLpX/HZxfLZxcLS7P/xGcXS/+Ozy4WmIfPLpbPLpbPLpbbZxfLZxfL7bOL5fbZxfLZxXL77GIBZkIIfXax3D67WD67WG6fXSz8yP8qXSztYe5h+ZK7MC52dXJ9Oa6una9tx3xZvmE4S/nSR9bZOuI4urKb7bJljJWO8u3bfzOPOkfQqd0PMNRpcYwYEjNl8vLkaGyLYtrsyeN2gdDmXW9keNQQE/RBsYLMQaEUuVTr5Q4Dg+FBSkJWR9GvwFUWqGn0cxXeuoLHlMeSHRaPHchaB3ex6gj4DpQrUEgqP4cMAFQPkd+CSv8RqOkSZPvAfeSq1eE/lC8GP0ulPFkzYU0DFjIQlBaCBA9U1NuohyAspV22gtxvG5p+8NptCJsQ0jogLiBRK0ntws7ZTuIGJ+K0N2QPUJORrJk6W0ajAckR7CSiplIl95IkLiSMU/Zg2ilBySvCSlfwcHBJW8LkaxQHUavP9uGsFkN4i30BWHWDyGgbg1fPPOLsOUFavbKxkDBCemYTerank/UE26NsDymxjLluTnRzilvZxrRdjiMSD2v3VdUNZwExm3+jPDmmrFks7fekOBeYEoyz1KYKnNZuwKZq4mhDymbJ3iU49tVZgZajICAX5zexQjyE6KuIPDDoPNLTMfkMrAI9x5Iu/J5jzorl3WnYWYNyHJFFNApmZsuWwV5bgYM9BOqiUInyQHIqow6vHrvfNWdDJnkiCchDlM7+REVFVAF5ygfTIGUgVE6iti4YEPhMiDD5EMo9CWVIAaGHYGpTj0Q9lDEu7HZMNKP2W0BggcwZ5JTFm8IwjgTpTk4EngKnN1ceobqyo98gDAp8i9PL5ollTmQl4UtD+cEqYLcDjhMF6ZJVYaFXZIcKrSi1OxBzc8+6p0Cvgq1EUqF8nErJkKjKlNubFczVAUjeLPCNXAj5T/aEhXJoi2E9wlo7Af968WTqkfwMJp/B5DOYfAaTz2Dyv2QwaSd5zF/6UMyeQ7ed9UHecbvt8cveO+qjPdSXvvpIZot+Y/foKZLVsDPUPJ0eKmlsLZPsc+rCj6P8e/biZ6k0RVWcQ9yznUAEAsWsHPbrYCfz0bM/4pC0X/9MxQarDeP3Jv5EqcJW/jQE6xBi9P+EavWfcupzi3+0RbXatQsFCaV5afoPxWYCVg4nbYCji1A0BuG4jU4pfhdCReZlyAafTQKK7QQukskwYB5gnoZJAJcGa9kSac5I4vJrH4GKyq0qcipwCsNZYHPTwgDAbZz+AhHy4WFUOoLihJI5bQZl6wwfeRAIQmYnAkeuB3ahrgRFGhtxKVqnrObDpjPIBzakQkGdGliWGhmE1e3+aGeQud90zPsF/XAmjWHNilGoc03GB3m3gnG3Pyh0AWuCUGDqCgf2MESgFf5qi2Brj3PBrZaCv4pCSm5seCagh5icE4J6ldM/oWYOHfWZsHiIDgaUYx02/CGAsRZCEK4H0Cv0XQQkArPpQk4u5BEYCQy2WfHiZYfemDGEomB1M6j0b/FlTfYMkXfDAtSpIap7HH4NymjFU5Z6WS12XXK6JtAddDwYLsPPa+8glTd5PFSbBFeBqFcH5UgRLEA3XR0gVIENlowfmcwgAhT31RIiI1svyLwyp8lsEsH85rKPKer8BaX0i3eEVW5LxZOPRJI0dUy2ndjPnhKZkn+mnzg6EPzZZSLVgVj6E5wcJ6L9+JPvRMiyl5P7BDQ/+cGjEQVnxmxHYePD3ZSiKG9BGpspnAc+cDKryCzmQgnCXGJyr0gCdmrMYchGlZmdfhYjV8kq5fq58VWHi4LWrEj+ckYgd3xjfIF9hfYXxXaPqjECMmQmfb81xAAEo5tO6Fo0xwjORmftw6xSkCCUzmYZSfUWq1bjjAIv/sI+AzXdbKJRkEKYrwXi88VQI6HfScnWKnZ4r8lacPoGhw018TDvdIhHtIKz50aLBgA8bubZfyPaT4jIjz2u2Je1E4e5ggHbIuAbhw5qNNT43SzUIGbfjmJYRQs+WXhUWi4CVPobO49Eb1LI1g9Paw9SlW1I4EzUgPisljg6IMU20NvIyIcRiF2lpx1I4XPupiCRstjVGiRRuNQgpNjrRxl5G1rKfkPw+9QhZ/OQQHdhFpxdjEQimXiuVlgRkLPNtBaJ2wg3ZOtftxkJlH8D8pDZcqStBiITZVefPrWyxe5EuqK/wYokqF1UgtHX1C7GAabbm4Sgph1gPHck2Bx9Trpn2SqyZOk/uJggD4iq3oSFs68JzfS6m8h16HHCX+t0Eshgkm2n9rnYwUQ4ZmsUEqNCu7iWKJkdGxc1y5zYgojJJCWyOT60SrGYhe4PRBbpF9VApcZRX+7rPNs1xoqCLtBYRc4maw+zqRwEXpX4xOVEe/3Vf2rEwike6arPpgg8DkifB5cWsoEkZr84tiRF3XRiLgPIUVStFl9NIE06qbxlIz/UAcwAuXChi/ZDn5f2O6CTKMAWMNeDmvoG/5eE4Fpl26p03Bo7IQzGIsucibt1l3ljFFPTaRezWq/m0PNI0T9GqzLCYmEnpagklBuhYD25yyRKXVePmaoom1Mqs0Bm15mahI0eGSSrat4RZCcXm/YivK6soQvb9ZVJTSYXr3biKwPelOvYykzaGFAh2gFi71Y/wMEGGtugYN/kX0C4JFevPW4aHmaRDP1CBi72X61KUDwDMomhh0nSBydQSL264aRRfyYfg1tqO4/wq4Ebol9WxHDM2RUu6/rAcTK55yT5HfDDYn88mdIq4jKj3m+D+Ky2cvHgZrOdnOxBPy13olznYpfmZnK33L7JhCegAYsqazjckmJjbHmicq3TnCdwIme6RKoaVyrik2lPGt0km2CB9HwFmlDvfWPmE9DiJw8qfgSLjbjrUQA+YQFCRA7XIbSfz64/ssSZ+v2melq54MiG2UgoJPWl4fjUHqjoPTEE5nBeAN44KHPeBwfF7CNkCJrchMpqjwJybY6gQGNU2hRs0tRLS1deVQ55ko2eHRIUEAznEJ4FCX3JbEeU83JnwDPMRyhKtBQcvbYsYiVXKWQBhs3jKFfpm3hjZ+SrjXaa3ul2rY3upHuBR6bBiZN09jsiT7NDeYAMqW3eIVlLUHIhWLE5xxZVboU1vmmjcXdLynZHjA5Cws3knCT5P/knhWxnNzmSSP3ZS6mm0VTSf0na1q+n5XMdTaBQg17z6boU7UblUyCICn0kWdE5CTQseJIk+8CWCUZ7NmcytD47NBVNYyRIh3aQcDpEHHbynC5Owcx2tzFvJRGPbL2b3k6ZlhMdnkrUcWoVSwPY2ECsw9PzKSvCkSiG80P+FNClFcJiWe1HZNmBix48ooY1BOyePXsy1P0rdByM6jvRFtN2RadKDDYLcOTa5zdaOOBZnjymLPkkRWCT31SAONF1qt0QdxuNLhDzpw9V3E43qkDqX5GfUhyi0f3qUZXp+dGpKqP1p9xUot1ld+uqZFvsPjqNXbc8Lt6IABvYo7FV2EyZCYYAGKoGxOtoykmnWgAw5eyOOw2wwhDIf80GS136KFnJwj5ZYtFd+OSLFclpramVVRezlVANGh0NLFYs4Pz5Q5ExjydLjJPW2QXPwUHmutqOBtp577GVQWg6bVnWS8XuI9MOSWjQBnA7JhtfdUrSG0OWWHsraWaW1xuvLsuGF8cuFfiTb1favOjTvUs3Ho7WpX8evRLWH7PrjG0UV33jqD3ZT+4OJy0l5hR05vp+ZdpRyuYmBcjZBesBNSp2/eihKjtZg2UdrCaDMB8pMrV4NG3fHg3DqivnT7MNq1RWPjAPy9W26KGRvA0jsX0oNMF2j55iqcpFFXkDFgEUelAujfZ58hoLSFxTGjULeCcYYY114m0YkQWtiiY7skgfUMAewXZ09hpXpVVZ0ttwGJZxWE+2ZWHxXCKPQjlomVkfM5391ATyS1rwzcZm+GrN9mbJgDCZnFmzztneWp11+NfZ9mzYznoY0bAPT6Mb2sBrJL8yC0blat77xh8t2xMphoJZ0aeRTMUSVtAJd5zVvDNP9ZEhG3sBpNUwmofPWvJQrVooPHuuJeovOq/RHFIXESoRzvIn5fs6ekZR80ePX1ZsHTZt0Q7AYn0ZLtQ39Ma4LatTzfKdBCtKRDhNvbVyo59vNnSDIAr0qZQoeAHw1fEmyAc57QVy6lVP57cSTX0B1MnKzmoWeju84Fabhqqs+3J75ws3SxyK5leutGqrjVJXq0rES1skqb0UlAmTm9xoA6ZgFKJ4g5WgAgOMw9Pz0COvmm3nEvRxCV6SdViqO/bm6VZA80S1iqHdxZNLXVSGDF0eWb+JfEs/ISy/9LAbYg6ZtYufXQnDrJQHSRCkS6egqi8wVIEU7up2R1tF1RlkON8BGU7/OyUkHtJpiDj6i6wqZfqTQZ8a1YFT6ToN8qLV8k2fra+a5aXhKqRxVn8i+gDqrqDbM3dj1Wa9DTu9WKzV8/o0f6W4EaXWrAnGUWIqd7M9SxkvLfdScE+fxnuhKG5m7bKMi9p1HqrobPeuCEPoZ2aLvrpYgk8+RHIjkr/+/w6HlWU4+cVou9jdz8+S02Tql5KdcFq0jXNFyozACW1VLGXySlf5n4+sAAt7NMrgvbEFTGqEKNrMFoHt8GIBkwtCJ2gaGBVTfWgdWDgKAqAkk65rJhjZ7UkmzwNo051HZwFewjurwcVjt58gdN3P3oMgo/LahpAEFvosrrYM2H7Iibo9mBNm2mCjWaRPB+1UAU4X/54PSbTz0TGpsIrCRKRy+Who6J/Qx6etoSoigDY/qjhj1FNhAbUv6yfnrhlCMjxB371yQIzcuD6IOVmnhiqVVqHYMDkjBl6d/oiRdapLorqwKOvGEgWhaDvJEW7L5+SjqIisLAYt9/NtiMoqxHXWKmaxPMQp/ey3WDiHZw1aSqMvlu18ujGGdRjT+sEcZvKK/YJga212OZ0aCynp7NdY2JXDtRFRwBvvxhFvNJ6oy5DG6eVYFzKZMPCmNK30L+yCNLSMY7gd1o9ap9hnsOjj9GwGmV38pGOExqLmR30GwoM0cv/TKTKbrSnuA+wmPZ2tmg/7GhktGH1rqBBoz8aSEWWYRocitnEkrEMEaEiYnCczkir9JwN/Y2cOkgTKji7y5TbsKTMMRSYmaVUZLVTLusnwsmCz3pVixsPBMjilgVVQLa2S1c2elqMCQyih0qKSErSv02WiXhTU9pFxSfKs4zTkcaOQUudhvEyGfXBHf3KTPWZin+ZVDYXt1vapmVVz+zoA8NQUoaQhW4OLkJEQaMPcytYmmWqTYAM0m5/wx1L/s803o5aShEZjN6BuKDr1mSJxRN15teaMEG5mODqnXL06NaoAT6XoqQUaz84mkB3RYOT084Sa3AUmFqds61LVSsyr6nmHRRKR7Nn3c7Mh1/49iB1TOJKkMGgbsge9v8b9yYbxM5NZaNZu+rVlaFntkudaKZYFot/FRDSbu2dLV9UCBvusLxmhI/R+gsLPEAwXn9GY9C82/FbTechUYe8H/qNl2EfDJC3yjWRB3GkcPelCXeLMaVFabaS+GJUW4pd2peSJepZGzYtQ9tpmz/ON0dNVxA65Isk5OZpS4C9ZUoMjNSh3e+10SuArnlkQFkBhGDdWmfanK9iTfZRQtO0yk+rYAb2TQWoG41VrHlevVKDN5lgC3AQgTyFgv2Khutn7Tdx/dlMN0eRZ02tJb/J5RVnkXaChoEuGDqNCbajUyXY1b/ImcORZ4yLJr3V4skZl9HdZdoQS0qm18K71a9VK+SPT1qgPkhark4GrKaUeeyT4ml1bnOIzpDi5dy1eXUAXo9cWWVjlPBMrWrpVkpDE0R2gL9232sCmor5t0O2cuP3ZGKBJ96KC5Gej2IKy+WO72GiSFLVl7+fZJqKmUmA1FQ41StNJrUO2Bd0037jLxmFlN3nMyp0+O82WzV5JbdhphoaBirAwswNt8iPl+KqJnr7BCvJ1SfMT9DJ5dqwNSEJrVhuwWdskO5UsVklvcCSJYU/FZLWSwA8j4oQVNakqEdQ/v/G/VSEJlJm9cCuSwEIW+MYXN26jB4HiBndweuQmMPLklDv6E06/3KJnoVKqMmpwkPMghdNBN5Lb6KO7ib9PM92jNgCfTwo5ueuWqs5ZgpiiBSxBHKJBayS8+cl7N4K+o+xcGgVEXiLtClFZzSZgYsl7INrrraOrWgXYFLKsD917SxzdEOs7J9+Alj/bZe2ADUuPq64C7LfRIMAx8Q1uv3hK6vlbh8ohPNr/bmpEThPgAPlsL8lHhsDRAycOLwuJCMA2NZFnn+BKretDt+DMm0zydGjBy7BP0YDBTPOlo3BxVbM2bsNfuBS7C/p6nbyGeQyKahRyX7yH7ZsZDsRQM8OHOBNZ3roR07n9xpO4eGhMzsQRNJYdy0TMK6OhRYLHRnmNcJ7di+3m0cO4YA4RyftnP+NYNAQybIFR1fiuFh7323A7tilIz+NMlVrn4zy6tj/yP046yzrIgFyhOD5ItMAtsFb1ZBmGHhyNp1ty1j8kadAFNpDfX7Tktf777KhcrQ1cfJXTcGq0sG+05yBfXHQEd3ZUGB575qsyFbcHA+agiZwyCWVdWjKvClWIgyJCFgW+KqdRs21VT3bNxQd6MW22mCpBIsfOVrEFh+PFvBxOFbWqrVqBNRiKDiseJIYmEDc8XQUWXG2g21Ust9kMOpbTErpCYQS9ixaNL0EICM/LUK7qBAX1G+yNkubiVMqmtKMoC7eOgcGiIZHsgHScug1tpskj/iSzaU5RHadXOxW/ZjsdwU5jjwBqAL6zEfViwcDpafZX2LX0kUF1kGXi66tebMXNwQUpMqIEWtXJc1Jw/ckyw9l1FzbFXKixTp/r4NiZ0+266Lw4eCfWFagBQpB+l9kFO0Y7+gjAjgkynX3piF21vxvu777JZ4/sGrW/3yQHIbtctxyGEvJIXLKZkA6jH3lqT62G2msHKWzdR8j4K502WhdZxeorgRPW7sQ80DtXbnePXXroiCCyhjt3sjRFZjY5dZdtFNt5vRrH6IG9WwFhI3P86vlSxyHMUU9pT6JJWu7Z3lvPtIvHdzqNvm2wzJpVOvPoQ+vvQI+NBuDJErvj8nSFf3YErwpNJl/wpC8bOsdqE4NloXXoiaWCWVHOO6UmTMa8aqPJ04seSTzV/pY552YzcdtFA4WGq7F4RjN0sRfPRdaa5iG10GGUfKESFFc+mY8XqmklSva+NCIvmjVph78rc+Y0XCQ3ZR60ISOXGewzabStdZSbiyboABe1C8JUoCNawCLR+TWb86rd3WR2nhbxhj2wbE9bUS/250nNDfq7YYWerY2w4MeoOw2zNNVz6UF3WRPWuqfKIlRZL/5b1KFjGUehrj/BspDSi9eW6tVYIo8IKXR6rGtqCtwqdPZNpuvY9BWrtQolEYhMJuxBI97Tir2sMoEmhBrVDHP2wmHI8vGlTEbtyR4qXmSiufWFdbvHhQbudokk6wlDZHgbvu7F9pY0DAOppEAqnk7vsYj2wLBZJoqikHOBVZmhL1mGJgMmgOhKcOEr+VsOqBKcRcghrH2mJsLRmr/TTTkknhzkHfVIPLuaySci/LCUX0djskEZiMfzOO3lK3HlajKfyOEerObh7+IurRB9ANZOKyiK8PpsRG/j+GRHHymBTab0cVXEliypEkWInQgPiP32nSeSiKR7MjZDFw/7mlSoDj0et60H1GtX++RB6466ONyXYaONEFRiTrsyIJ3HvoQQ9EalaySrFhyN6Oy2Z4v8kQG+8slPwpEP3fIt7UZFw7qKaSl+N9G3Iz9ytXHgQfgdOPvXDvvJDmseWlCYQSNI0ZWU5RcXg2H0GCIRovQR9SjWOPfZoz8FiUNHHbFMnOSMPG2VI/cfVbuDa6p14Gcz/8z+1dI/a1A6G/uPSE54e3b3j8LGzWsiFbg7/dNgebX7L1WiWw0VhJOliaI1HHsH5VPkpB8jAUYKensYDKApwjweYKSzT0MCIua1wYENwmxPf2WrzyMETHgYmWr/FEKcXcb2ebpAtjvuwxkDlazWSQPyU8M7kPURxwgkKoGEPqqMsH8JCtxhBHLiwxnCMegq+uhEsqVmYAagqyNwgBj9zezqO2yBUu7HM1AKqRhiceoNPh72hT5PN8gsk2hN2KrV3Y2i4HcwjT6o6RyAoFVF2UeUSI5EqMIsptjsEi1Eayu/z+MSshCb1wPLuQI01Lm8GKIwrChgSGFq2TU6HEulbmq2aIET9CoE4dqEky5F3TzOIQzFOoczCu4DGbJNUsPfdjPIm17c/rxBDQ4fmKY1JDqGNH61X0f1mOqFoqDtPsUhQGAoXPiGgQ5JWuthrIMuxc/DHfQZccSDbiNZcQrnma0QjihC4z8PgIjD1ZPADOCwI8Q8QXYdlVXk2HBShCpKx0VAlfD9m6EM//LX8yOCLvkcfUXVoDaw/MxujWI4r9/+zGkTmWcanEeyWQrmV88hFEn9pO3b00CKEKz0UP46x1IkSJc3wymCrhbBzhOthMasSkKMhuXn6AqtX8YACwsf0xiLsIzGmNsxzILDU5+h0TIGp3UOtyiaWbDfqiUgjl0axN7MvMiCbt2xNz3piWfVkczIECxjLIM9JWoqGufMgZhM9i/P8zJWM/9h9tsvfrG+eM7RKOp+yOZmD5zXkzWyQhrvfldVcnsxaUMHneu8DZ3kNwnivnpUjGJaH0U00xgOwr3DODJ5wTySA/4HdmjT2FhbCZYUufrTnA5oenqrx8wOKXuCumqc/ohZl3Td2ObMgbjYiCkHTBkLzWjOg+oEMnlgaZOhQbpiAk8wngzg4PVIkIpecRgN6RYvsVE04uaQxsEHzjaNH7eHZBoesihstE90GiQSLSWe40QSLQbTUJG0DR98HqZIQKn+fcxIHIGfn8iqE9LDxJG463pN++Tz9JGiKbuMC3GA7Qy8o7sAWpg4YXuoyFece84soVw1Dy5Jiuun8SUxK8xS0nKOMikmgs8DTcLqMfc81qT4Cr0nizvU15XAbA5i5jg35eP+jPEeBNZ/We/6REX91saUGU3mhxHPyk8u3Bo7ni1l/cU6NdlGknl+PUylOFIC0mm1KV5q/ZyxEvUNciIH3IekHpdkFZbuOYWkAEUnsoTxIW4zjaU0idtcinFMaqnBGE9wpM5O+68DXIKeDvcxLmm4VZzDXCI/p3FWoJDoeJc60CQ3xVk/DsN+PW8Gvuiyb9OKw+dgJx8GwezOBk2ydSBniELWKmXDddRpKR8gzgvW00jD9NndhaiSwbfh+OUcmRKHYQPL/ZwpE7KrXOTe1yJPwSkz2XGk72bNOHLOfkyF3NuYbQ8MeZ5EE5LiNqp+9k9p5a1lg80YBGBCagT+ziNr4nofXDMMzKJtLUlahre3UDqjquZlsC3tRYE+dtpNtl1qckDLzJtJsjvnLByyt+tAHFvxpqk4uQq8z9k4xY6FaUJOHEhbBS2Rnpe7Wl7WIpt6QN8Tqwv2Mj2Ht6SWf5qkU2nOd57O5OJWKJHr5RbsJ909bkFfeuH11b/bkI4LHGslQIFw7DgjaTj3QAbZKZ49TCQCDP4sqTEFGehF5bIMj4ZwG+N7AhzZ8xCfZNcHkp7isp8G+sRgp669AUAXiiBV02ZtoZ4G/aTkxEtBhhpq+TEsOlTr7aaD0jB9hVFBsrZD4S2Z3q+3YzqQ0gJVOMVdcM4LKiwZpwbB7c2jg+JoDWR7VmAfxLKeUGMT8RAX2Xo4foifQbtIShDnn6cOxeFr4VDAMS7GZe7NwfDwW5uiBUh/1jYtIkqML9OJLPpMM4rKiPYwJ0XDpx6VgTCsBM0ZFo30FV29nGWkp2AZ9JyFc542BzcAxSD7etxRoUg8Dz1aFeWfk4/KSE202vyTpiBB4UZzQaPo6qEm7DCGcYpzQdtwq3Rj9W/TsxD5AeLNzZ3hWb+TG/InB/RXZysFB+0AlOD4QKz6L87Dlkp0aojI3SlyLl72/zR+KQRHOiwCSdIemyBA1NzFGM6ktkp/R2wPeKzzzKZgoDsnN/kyYXx5aWADcjv0sc67oaXRyp3R73nOE+qGPEDjN458imzNVcYWfOAYAHiNoC+QnZJKfUcbVLg9zIkK4ZwWlaIyD5NfXsM5OaqsQyvJCt8NrtttzJIKm7UnKxY6WEUT1c6foVWKg2/iNHb76QzAtQjWodVWAeftGEU14Pg5kCooqnozlirRMxfGwnGE0H1QFeByTJ21L3PwhlBnsnWEmqjHD6H9UIz2MKZ8/JxtleNk9LlZNbMYzCKBRwtJlbhWjo4oUUypgakCfFGuujq1GUOqBwUDQbOPwcJ9KcMkKrU8x2gVM3UXNa3Lmo/mI+r0W4Au/nDGVggGE5JAw1gYihQLYsPONA4XnddjuFBmOYtLscUyHDv6osK9lvpGlguBcNRIzD5XBdWiQTjRsFmfYQnqaWZEh0Uvi34dTnVgtWcHI1D4GBpoHQHtqBoddcuLOWCBLDPatAdTmTT88m3YtcwS0csViByoy2vr+vHwsCwNTfZWUBc4TqzKpnpKgnUGkACCAbt4ZOeksbSO9MV4Coi1DWyRc+Dlu6+I0EU94DB9YAN/dT5ZoeLhlLKgWtBiWLDjyTke9uYTHsz+KwEoUF2jjKaWVGJRPOlZQ5qMna1jzmTQOIDt+DnGnumKq1Z5rGgEIYZxp5bwG9NktKx0Pw4zOyKcQm7LjYtsDVCrx0lr6yvHAXk6/N5qon+OVMujMmZsXj1tORVkSFe5eIi/XahZwYAgEw1y1Z3bg0CJewy+waFzHtCGhsAxbUW70mF0ssCgEqNfz22rFKyzogfQbtCw0PVJrX6e6paGx4WPj9Nf6ENG8+Gct+icMo7JajuREtJz/lse9DFR0Qoy3J0b7xwIVw6RETDlHA5XhnbCJlQ9T8jkbbrj7/MAaNZm2ATS0hDs1ewfrE8kG5IDHhjbp0gQcAT5YDxLzkFzSSaWoG8/LhUgXb875OZQvg+iy7tlzmkcHZWJzd6sczJdRpLhfDpnLEHiB6v+q9Z25vkO8tMYy3HQz4PsikLibxxnF1T6KVKaRttFZ40HhSjOvuF4IW1HrVcWW7zZ+Uj8HIIXVzlyaqgm2XQOpdHG1j+MYpTyG5vI3FmISfJwQrpdR+ZB+yrAs1Yhy2rfIsuKbC6Wgd3hi5Vp7SY4/VuG3RJUkntNOzsHK1HafjNzjzzIgrwur6uMUfE0JBhC6g4KThVDGd7cFeHmNKGvyhKDBB0T2z9iPcf2ZR1Ao74rThujiLvqTalxBy9Dqd9QnZgW9YW06rnCspWmNRlZLMGwXMgIWWmWXlR0OodbnyvnAZ3zARO0Bnvu9aDAVLRlkgh5PTQwMNXK0YHDp1zLS701SXtqcgbX6BRjwdgeghpDXyzcRhF9zfMGk10Liypnm9mAyXZAAk9XQQGcA5tSwtBu/3NGYY0qLlkU07zCKu3mgNV5dqHTsY8xqwDXc45hMPxod4wNm1a4qi7tZgqWS8NteLTHXc0VAFdTBc59WqtysJP1eRxijcOOm73NDlcggK4pVm0MAVirkkJhDCiiP99NizUnFGTfPuw7r1w8bMLsieOm419VacDiXucs7mMqGTvN5hTXLfmDFXFymqS5JHWD4gjg57mMpSoBry5oeLbnSY2Beoukh05/4BfAzTy/UZu211Mcc5SUsbPxPtGxONaLU/vD6Y65eLvgNXsDHgc9FhTnjntM9HRkh4YP8yilgucAyNOqfx4FWZCUnAMh46YJz9NYyHXYrMM8PU+ITB6c05xIE9YEcs8kFaAN9/LzIMnCa4xQtcdQSXD0OVoywcOiTamGG72sle06m97TZBAr/UUNo4jnQZQpqOwCoQEj42DRslz3TmopvSPpwJvVFNAuJG3Y+U0qGXKbIFhT46oN9qbwARLh9VjLJFs9BgA6HoAjzPqSxQzwokMvowKdbF7tXngegFmd4A0xHu3a080VddYYzqAnefZ05uwm2Y2b7SzON4V225R8qB2ChF8cG8w+55MrrWgRFqRmiy7nsM2kb8umAwXJ17C8s5xGnj/N44xjvnsYUzmTgvTRiASAmyZ0OmBintOpffo0rDPpXn9O7EyaktutqYqT/MuZtbwuaCXeO2D3HO7pKIvriM9qR4Fn/mZm1derXA3Z/TT5M24KmdVdfjgF1NTmaRZoGgcp5b9zIGhW8gPe9ZVLsvMs6L9xWGiGRHgzMjRr7/Dh4NAsHakBEyxCjZo4an+ku9rjcNE8pixq530OGk0IW/IAZE48z648DkIQdrVRPFml5edXb1CSn5uiXlqcLT5+i3VMpHHkiF5Z0yDT0cQKgF6UxE6jTW0BYSYiG5sUJbigCI6FGnmRKN2FwgquIvEucnrx/VQ3p8moxeuVKRKBbnK50DyqOTl31XQNJp1IrdJ4d1+Q0osHZRe4C30aFM3dR6sGXat0GbQtZ/f4AJ8I/MaMeWolelQVXxAcCmRTGAiHetl9FGuIdpSxhaaxrAq7OSzTZlnknNMa0xh5ao5gWeJ2Hdya3ahRkMCCFNnArybr0Xnw99wHRKhjg7Vx4PRFiem4mTha3UcXFuSYFoHaUOi/tEqcU4c5h8RmcP08KrbaGnMZGJuUsuqr4+mhZQvPLFqAnAfJQgY5TrbYsM+pEGUKrXwRj7Je0dr0oOe2JKzecdMKccxu4cAsPq/l9mIgbaVItI18HGRjVjnsq/udf+O02ugQj3lmLen7Ngy/3OggfjlwHsSQisNZa2anHk2TEF5ptU3LuSBUraapt4b021fG3yZz/cPtGBrJwhmZz34bA3EjsDB5Wg0reG11+Wmqj3/KyNzgW12HE10HO+AZe7Gv83TjmAUubOiPk14k64nRoUL8IFgDcJ6ifqnn+N2ILCYSjK+jeA1ZIhBo22SVFuTsoN5YlPPCc2FZmOzjQ2SYgo7VKnB0DaSU89Fg3zisKYDbwxSPC2CrgF1tsdEGT1zNjtvGmuM3vQM5eTaQII66nF6ADrujEXGaFey0qDT0ZE9zgx+GSNlyVbcxTjjtw2zGYELq69DwVc6aS3RCglFYM7PVUh/XpduLebQAmsNIUgzQ/DyIWOlGHq3G8vQsGLWxrFTHTwFpNGfXF8lMUnIyKNziZ2xkTkYGonX/JYeIq7VZBscOr2sjgiYNFpPPAcd52IcNHRTfQXQnGgwHFsQzCo4cchRHi54XRkY65v2AHAWEo26betoNVNdO19ZQaBjV/9me5/42OfHnqcq2KBEyx4RlUtR3c5YDrJ/TlitNds5cjlaeNbCjpkdv6TyEWUXKNInZKWMUjRzKXOhQnUYzZ80HAQFRtWca5jE9w5Q9eZ7bnHQ7AQvkMWyPD5vmOUcKxnof6OiRzzHPRW8bjQfOic/RgQzrMBSCHlgeBkFnXVa1tAa9DoUqINWGaIMHPp2lDBtscrbyMDx6VAj1RBlnEMk7Z5hKQQ4QlDg4AjhjOlf7lwj1w92VdJws+WnoNF8BbHXci+Ggbn3e2/8HFLaMSA=="
          }
         }
        },
        {
         "check": {
          "name": "Weak Segments Performance",
          "params": {
           "alternative_scorer": null,
           "categorical_aggregation_threshold": 0.05,
           "columns": null,
           "ignore_columns": null,
           "loss_per_sample": null,
           "multiple_segments_per_feature": true,
           "n_samples": 10000,
           "n_to_show": 5,
           "n_top_features": 10,
           "random_state": 42,
           "score_per_sample": null,
           "segment_minimum_size_ratio": 0.05
          },
          "summary": "Search for segments with low performance scores. <a href=\"https://docs.deepchecks.com/0.17/tabular/auto_checks/model_evaluation/plot_weak_segments_performance.html?utm_source=display_output&utm_medium=referral&utm_campaign=check_link\" target=\"_blank\">Read More...</a>"
         },
         "conditions_results": [
          {
           "Condition": "The relative performance of weakest segment is greater than 80% of average model performance.",
           "More Info": "Found a segment with neg rmse score of -673,752.258 in comparison to an average score of -432,125.182 in sampled data.",
           "Status": "WARN"
          }
         ],
         "display": [
          {
           "payload": "Showcasing intersections of features with weakest detected segments.<br> The full list of weak segments can be observed in the check result value. ",
           "type": "html"
          },
          {
           "payload": {
            "engine_capacity": [
             {
              "payload": "{\"data\":[{\"coloraxis\":\"coloraxis\",\"name\":\"0\",\"x\":[\"[624, 797.5]\",\"(797.5, 1,061]\",\"(1,061, 1,197]\",\"(1,197, 1,248]\",\"(1,248, 1,364]\",\"(1,364, 1,493]\",\"(1,493, 1,591]\",\"(1,591, 2,956]\"],\"y\":[\"\"],\"z\":[[-661343.4579300663,-570213.2585991757,-403101.9667855677,-367559.9696079941,-370671.7184045264,-437027.5293068344,-299167.42011685896,-369184.6011966299]],\"type\":\"heatmap\",\"xaxis\":\"x\",\"yaxis\":\"y\",\"hovertemplate\":\"engine_capacity: %{x}\\u003cbr\\u003ey: %{y}\\u003cbr\\u003eNeg RMSE Score: %{z}\\u003cextra\\u003e\\u003c\\u002fextra\\u003e\",\"text\":[[\"-661,343.46\\n(5.33%)\",\"-570,213.26\\n(13.67%)\",\"-403,101.97\\n(18.22%)\",\"-367,559.97\\n(34.52%)\",\"-370,671.72\\n(16.22%)\",\"-437,027.53\\n(14.52%)\",\"-299,167.42\\n(15.06%)\",\"-369,184.6\\n(13.67%)\"]],\"texttemplate\":\"%{text}\"}],\"layout\":{\"template\":{\"data\":{\"histogram2dcontour\":[{\"type\":\"histogram2dcontour\",\"colorbar\":{\"outlinewidth\":0,\"ticks\":\"\"},\"colorscale\":[[0.0,\"#0d0887\"],[0.1111111111111111,\"#46039f\"],[0.2222222222222222,\"#7201a8\"],[0.3333333333333333,\"#9c179e\"],[0.4444444444444444,\"#bd3786\"],[0.5555555555555556,\"#d8576b\"],[0.6666666666666666,\"#ed7953\"],[0.7777777777777778,\"#fb9f3a\"],[0.8888888888888888,\"#fdca26\"],[1.0,\"#f0f921\"]]}],\"choropleth\":[{\"type\":\"choropleth\",\"colorbar\":{\"outlinewidth\":0,\"ticks\":\"\"}}],\"histogram2d\":[{\"type\":\"histogram2d\",\"colorbar\":{\"outlinewidth\":0,\"ticks\":\"\"},\"colorscale\":[[0.0,\"#0d0887\"],[0.1111111111111111,\"#46039f\"],[0.2222222222222222,\"#7201a8\"],[0.3333333333333333,\"#9c179e\"],[0.4444444444444444,\"#bd3786\"],[0.5555555555555556,\"#d8576b\"],[0.6666666666666666,\"#ed7953\"],[0.7777777777777778,\"#fb9f3a\"],[0.8888888888888888,\"#fdca26\"],[1.0,\"#f0f921\"]]}],\"heatmap\":[{\"type\":\"heatmap\",\"colorbar\":{\"outlinewidth\":0,\"ticks\":\"\"},\"colorscale\":[[0.0,\"#0d0887\"],[0.1111111111111111,\"#46039f\"],[0.2222222222222222,\"#7201a8\"],[0.3333333333333333,\"#9c179e\"],[0.4444444444444444,\"#bd3786\"],[0.5555555555555556,\"#d8576b\"],[0.6666666666666666,\"#ed7953\"],[0.7777777777777778,\"#fb9f3a\"],[0.8888888888888888,\"#fdca26\"],[1.0,\"#f0f921\"]]}],\"heatmapgl\":[{\"type\":\"heatmapgl\",\"colorbar\":{\"outlinewidth\":0,\"ticks\":\"\"},\"colorscale\":[[0.0,\"#0d0887\"],[0.1111111111111111,\"#46039f\"],[0.2222222222222222,\"#7201a8\"],[0.3333333333333333,\"#9c179e\"],[0.4444444444444444,\"#bd3786\"],[0.5555555555555556,\"#d8576b\"],[0.6666666666666666,\"#ed7953\"],[0.7777777777777778,\"#fb9f3a\"],[0.8888888888888888,\"#fdca26\"],[1.0,\"#f0f921\"]]}],\"contourcarpet\":[{\"type\":\"contourcarpet\",\"colorbar\":{\"outlinewidth\":0,\"ticks\":\"\"}}],\"contour\":[{\"type\":\"contour\",\"colorbar\":{\"outlinewidth\":0,\"ticks\":\"\"},\"colorscale\":[[0.0,\"#0d0887\"],[0.1111111111111111,\"#46039f\"],[0.2222222222222222,\"#7201a8\"],[0.3333333333333333,\"#9c179e\"],[0.4444444444444444,\"#bd3786\"],[0.5555555555555556,\"#d8576b\"],[0.6666666666666666,\"#ed7953\"],[0.7777777777777778,\"#fb9f3a\"],[0.8888888888888888,\"#fdca26\"],[1.0,\"#f0f921\"]]}],\"surface\":[{\"type\":\"surface\",\"colorbar\":{\"outlinewidth\":0,\"ticks\":\"\"},\"colorscale\":[[0.0,\"#0d0887\"],[0.1111111111111111,\"#46039f\"],[0.2222222222222222,\"#7201a8\"],[0.3333333333333333,\"#9c179e\"],[0.4444444444444444,\"#bd3786\"],[0.5555555555555556,\"#d8576b\"],[0.6666666666666666,\"#ed7953\"],[0.7777777777777778,\"#fb9f3a\"],[0.8888888888888888,\"#fdca26\"],[1.0,\"#f0f921\"]]}],\"mesh3d\":[{\"type\":\"mesh3d\",\"colorbar\":{\"outlinewidth\":0,\"ticks\":\"\"}}],\"scatter\":[{\"fillpattern\":{\"fillmode\":\"overlay\",\"size\":10,\"solidity\":0.2},\"type\":\"scatter\"}],\"parcoords\":[{\"type\":\"parcoords\",\"line\":{\"colorbar\":{\"outlinewidth\":0,\"ticks\":\"\"}}}],\"scatterpolargl\":[{\"type\":\"scatterpolargl\",\"marker\":{\"colorbar\":{\"outlinewidth\":0,\"ticks\":\"\"}}}],\"bar\":[{\"error_x\":{\"color\":\"#2a3f5f\"},\"error_y\":{\"color\":\"#2a3f5f\"},\"marker\":{\"line\":{\"color\":\"#E5ECF6\",\"width\":0.5},\"pattern\":{\"fillmode\":\"overlay\",\"size\":10,\"solidity\":0.2}},\"type\":\"bar\"}],\"scattergeo\":[{\"type\":\"scattergeo\",\"marker\":{\"colorbar\":{\"outlinewidth\":0,\"ticks\":\"\"}}}],\"scatterpolar\":[{\"type\":\"scatterpolar\",\"marker\":{\"colorbar\":{\"outlinewidth\":0,\"ticks\":\"\"}}}],\"histogram\":[{\"marker\":{\"pattern\":{\"fillmode\":\"overlay\",\"size\":10,\"solidity\":0.2}},\"type\":\"histogram\"}],\"scattergl\":[{\"type\":\"scattergl\",\"marker\":{\"colorbar\":{\"outlinewidth\":0,\"ticks\":\"\"}}}],\"scatter3d\":[{\"type\":\"scatter3d\",\"line\":{\"colorbar\":{\"outlinewidth\":0,\"ticks\":\"\"}},\"marker\":{\"colorbar\":{\"outlinewidth\":0,\"ticks\":\"\"}}}],\"scattermapbox\":[{\"type\":\"scattermapbox\",\"marker\":{\"colorbar\":{\"outlinewidth\":0,\"ticks\":\"\"}}}],\"scatterternary\":[{\"type\":\"scatterternary\",\"marker\":{\"colorbar\":{\"outlinewidth\":0,\"ticks\":\"\"}}}],\"scattercarpet\":[{\"type\":\"scattercarpet\",\"marker\":{\"colorbar\":{\"outlinewidth\":0,\"ticks\":\"\"}}}],\"carpet\":[{\"aaxis\":{\"endlinecolor\":\"#2a3f5f\",\"gridcolor\":\"white\",\"linecolor\":\"white\",\"minorgridcolor\":\"white\",\"startlinecolor\":\"#2a3f5f\"},\"baxis\":{\"endlinecolor\":\"#2a3f5f\",\"gridcolor\":\"white\",\"linecolor\":\"white\",\"minorgridcolor\":\"white\",\"startlinecolor\":\"#2a3f5f\"},\"type\":\"carpet\"}],\"table\":[{\"cells\":{\"fill\":{\"color\":\"#EBF0F8\"},\"line\":{\"color\":\"white\"}},\"header\":{\"fill\":{\"color\":\"#C8D4E3\"},\"line\":{\"color\":\"white\"}},\"type\":\"table\"}],\"barpolar\":[{\"marker\":{\"line\":{\"color\":\"#E5ECF6\",\"width\":0.5},\"pattern\":{\"fillmode\":\"overlay\",\"size\":10,\"solidity\":0.2}},\"type\":\"barpolar\"}],\"pie\":[{\"automargin\":true,\"type\":\"pie\"}]},\"layout\":{\"autotypenumbers\":\"strict\",\"colorway\":[\"#636efa\",\"#EF553B\",\"#00cc96\",\"#ab63fa\",\"#FFA15A\",\"#19d3f3\",\"#FF6692\",\"#B6E880\",\"#FF97FF\",\"#FECB52\"],\"font\":{\"color\":\"#2a3f5f\"},\"hovermode\":\"closest\",\"hoverlabel\":{\"align\":\"left\"},\"paper_bgcolor\":\"white\",\"plot_bgcolor\":\"#E5ECF6\",\"polar\":{\"bgcolor\":\"#E5ECF6\",\"angularaxis\":{\"gridcolor\":\"white\",\"linecolor\":\"white\",\"ticks\":\"\"},\"radialaxis\":{\"gridcolor\":\"white\",\"linecolor\":\"white\",\"ticks\":\"\"}},\"ternary\":{\"bgcolor\":\"#E5ECF6\",\"aaxis\":{\"gridcolor\":\"white\",\"linecolor\":\"white\",\"ticks\":\"\"},\"baxis\":{\"gridcolor\":\"white\",\"linecolor\":\"white\",\"ticks\":\"\"},\"caxis\":{\"gridcolor\":\"white\",\"linecolor\":\"white\",\"ticks\":\"\"}},\"coloraxis\":{\"colorbar\":{\"outlinewidth\":0,\"ticks\":\"\"}},\"colorscale\":{\"sequential\":[[0.0,\"#0d0887\"],[0.1111111111111111,\"#46039f\"],[0.2222222222222222,\"#7201a8\"],[0.3333333333333333,\"#9c179e\"],[0.4444444444444444,\"#bd3786\"],[0.5555555555555556,\"#d8576b\"],[0.6666666666666666,\"#ed7953\"],[0.7777777777777778,\"#fb9f3a\"],[0.8888888888888888,\"#fdca26\"],[1.0,\"#f0f921\"]],\"sequentialminus\":[[0.0,\"#0d0887\"],[0.1111111111111111,\"#46039f\"],[0.2222222222222222,\"#7201a8\"],[0.3333333333333333,\"#9c179e\"],[0.4444444444444444,\"#bd3786\"],[0.5555555555555556,\"#d8576b\"],[0.6666666666666666,\"#ed7953\"],[0.7777777777777778,\"#fb9f3a\"],[0.8888888888888888,\"#fdca26\"],[1.0,\"#f0f921\"]],\"diverging\":[[0,\"#8e0152\"],[0.1,\"#c51b7d\"],[0.2,\"#de77ae\"],[0.3,\"#f1b6da\"],[0.4,\"#fde0ef\"],[0.5,\"#f7f7f7\"],[0.6,\"#e6f5d0\"],[0.7,\"#b8e186\"],[0.8,\"#7fbc41\"],[0.9,\"#4d9221\"],[1,\"#276419\"]]},\"xaxis\":{\"gridcolor\":\"white\",\"linecolor\":\"white\",\"ticks\":\"\",\"title\":{\"standoff\":15},\"zerolinecolor\":\"white\",\"automargin\":true,\"zerolinewidth\":2},\"yaxis\":{\"gridcolor\":\"white\",\"linecolor\":\"white\",\"ticks\":\"\",\"title\":{\"standoff\":15},\"zerolinecolor\":\"white\",\"automargin\":true,\"zerolinewidth\":2},\"scene\":{\"xaxis\":{\"backgroundcolor\":\"#E5ECF6\",\"gridcolor\":\"white\",\"linecolor\":\"white\",\"showbackground\":true,\"ticks\":\"\",\"zerolinecolor\":\"white\",\"gridwidth\":2},\"yaxis\":{\"backgroundcolor\":\"#E5ECF6\",\"gridcolor\":\"white\",\"linecolor\":\"white\",\"showbackground\":true,\"ticks\":\"\",\"zerolinecolor\":\"white\",\"gridwidth\":2},\"zaxis\":{\"backgroundcolor\":\"#E5ECF6\",\"gridcolor\":\"white\",\"linecolor\":\"white\",\"showbackground\":true,\"ticks\":\"\",\"zerolinecolor\":\"white\",\"gridwidth\":2}},\"shapedefaults\":{\"line\":{\"color\":\"#2a3f5f\"}},\"annotationdefaults\":{\"arrowcolor\":\"#2a3f5f\",\"arrowhead\":0,\"arrowwidth\":1},\"geo\":{\"bgcolor\":\"white\",\"landcolor\":\"#E5ECF6\",\"subunitcolor\":\"white\",\"showland\":true,\"showlakes\":true,\"lakecolor\":\"white\"},\"title\":{\"x\":0.05},\"mapbox\":{\"style\":\"light\"}}},\"xaxis\":{\"anchor\":\"y\",\"domain\":[0.0,1.0],\"scaleanchor\":\"y\",\"constrain\":\"domain\",\"title\":{\"text\":\"engine_capacity\"},\"showgrid\":false},\"yaxis\":{\"anchor\":\"x\",\"domain\":[0.0,1.0],\"autorange\":\"reversed\",\"constrain\":\"domain\",\"showgrid\":false},\"coloraxis\":{\"colorbar\":{\"title\":{\"text\":\"Neg RMSE Score\"}},\"colorscale\":[[0.0,\"rgb(165,0,38)\"],[0.1,\"rgb(215,48,39)\"],[0.2,\"rgb(244,109,67)\"],[0.3,\"rgb(253,174,97)\"],[0.4,\"rgb(254,224,139)\"],[0.5,\"rgb(255,255,191)\"],[0.6,\"rgb(217,239,139)\"],[0.7,\"rgb(166,217,106)\"],[0.8,\"rgb(102,189,99)\"],[0.9,\"rgb(26,152,80)\"],[1.0,\"rgb(0,104,55)\"]]},\"margin\":{\"t\":60},\"title\":{\"text\":\"Neg RMSE Score (percent of data)\"},\"height\":600}}",
              "type": "plotly"
             },
             {
              "payload": "Check ran on 1295 data samples. Neg RMSE Score on the full data set is -432,125.18.",
              "type": "html"
             }
            ],
            "engine_capacity vs kilometers_driven": [
             {
              "payload": "{\"data\":[{\"coloraxis\":\"coloraxis\",\"name\":\"0\",\"x\":[\"[624, 996.5]\",\"(996.5, 1,197]\",\"(1,197, 1,248]\",\"(1,248, 1,498]\",\"(1,498, 2,956]\"],\"y\":[\"[1,000, 13,215]\",\"(13,215, 22,611]\",\"(22,611, 30,000]\",\"(30,000, 39,000]\",\"(39,000, 190,000]\"],\"z\":[[-572929.3539617893,-319467.94187031896,-223632.59195209463,-164484.79606854956,-208615.26739211366],[-593084.7741276381,-348656.2812606482,-276378.56072925596,-177631.3979200948,-148541.7311103944],[-592517.0533390358,-429707.2307164342,-344531.2939825194,-287856.2542446367,-200965.5906640594],[-596834.2027127891,-433645.0110837307,-332195.2591420116,-296317.9928202969,-150522.07995028104],[-663190.9938752889,-518070.8828630429,-413475.4339259925,-403957.0905242095,-359369.6373505362]],\"type\":\"heatmap\",\"xaxis\":\"x\",\"yaxis\":\"y\",\"hovertemplate\":\"engine_capacity: %{x}\\u003cbr\\u003ekilometers_driven: %{y}\\u003cbr\\u003eNeg RMSE Score: %{z}\\u003cextra\\u003e\\u003c\\u002fextra\\u003e\",\"text\":[[\"-572,929.35\\n(0.69%)\",\"-319,467.94\\n(4.25%)\",\"-223,632.59\\n(4.17%)\",\"-164,484.8\\n(0.54%)\",\"-208,615.27\\n(0.77%)\"],[\"-593,084.77\\n(0.62%)\",\"-348,656.28\\n(4.17%)\",\"-276,378.56\\n(3.78%)\",\"-177,631.4\\n(1.39%)\",\"-148,541.73\\n(0.93%)\"],[\"-592,517.05\\n(1.47%)\",\"-429,707.23\\n(3.32%)\",\"-344,531.29\\n(3.47%)\",\"-287,856.25\\n(2.16%)\",\"-200,965.59\\n(0.93%)\"],[\"-596,834.2\\n(1.54%)\",\"-433,645.01\\n(3.24%)\",\"-332,195.26\\n(3.55%)\",\"-296,317.99\\n(3.55%)\",\"-150,522.08\\n(1.08%)\"],[\"-663,190.99\\n(6.72%)\",\"-518,070.88\\n(12.59%)\",\"-413,475.43\\n(20.46%)\",\"-403,957.09\\n(33.05%)\",\"-359,369.64\\n(19.69%)\"]],\"texttemplate\":\"%{text}\"}],\"layout\":{\"template\":{\"data\":{\"histogram2dcontour\":[{\"type\":\"histogram2dcontour\",\"colorbar\":{\"outlinewidth\":0,\"ticks\":\"\"},\"colorscale\":[[0.0,\"#0d0887\"],[0.1111111111111111,\"#46039f\"],[0.2222222222222222,\"#7201a8\"],[0.3333333333333333,\"#9c179e\"],[0.4444444444444444,\"#bd3786\"],[0.5555555555555556,\"#d8576b\"],[0.6666666666666666,\"#ed7953\"],[0.7777777777777778,\"#fb9f3a\"],[0.8888888888888888,\"#fdca26\"],[1.0,\"#f0f921\"]]}],\"choropleth\":[{\"type\":\"choropleth\",\"colorbar\":{\"outlinewidth\":0,\"ticks\":\"\"}}],\"histogram2d\":[{\"type\":\"histogram2d\",\"colorbar\":{\"outlinewidth\":0,\"ticks\":\"\"},\"colorscale\":[[0.0,\"#0d0887\"],[0.1111111111111111,\"#46039f\"],[0.2222222222222222,\"#7201a8\"],[0.3333333333333333,\"#9c179e\"],[0.4444444444444444,\"#bd3786\"],[0.5555555555555556,\"#d8576b\"],[0.6666666666666666,\"#ed7953\"],[0.7777777777777778,\"#fb9f3a\"],[0.8888888888888888,\"#fdca26\"],[1.0,\"#f0f921\"]]}],\"heatmap\":[{\"type\":\"heatmap\",\"colorbar\":{\"outlinewidth\":0,\"ticks\":\"\"},\"colorscale\":[[0.0,\"#0d0887\"],[0.1111111111111111,\"#46039f\"],[0.2222222222222222,\"#7201a8\"],[0.3333333333333333,\"#9c179e\"],[0.4444444444444444,\"#bd3786\"],[0.5555555555555556,\"#d8576b\"],[0.6666666666666666,\"#ed7953\"],[0.7777777777777778,\"#fb9f3a\"],[0.8888888888888888,\"#fdca26\"],[1.0,\"#f0f921\"]]}],\"heatmapgl\":[{\"type\":\"heatmapgl\",\"colorbar\":{\"outlinewidth\":0,\"ticks\":\"\"},\"colorscale\":[[0.0,\"#0d0887\"],[0.1111111111111111,\"#46039f\"],[0.2222222222222222,\"#7201a8\"],[0.3333333333333333,\"#9c179e\"],[0.4444444444444444,\"#bd3786\"],[0.5555555555555556,\"#d8576b\"],[0.6666666666666666,\"#ed7953\"],[0.7777777777777778,\"#fb9f3a\"],[0.8888888888888888,\"#fdca26\"],[1.0,\"#f0f921\"]]}],\"contourcarpet\":[{\"type\":\"contourcarpet\",\"colorbar\":{\"outlinewidth\":0,\"ticks\":\"\"}}],\"contour\":[{\"type\":\"contour\",\"colorbar\":{\"outlinewidth\":0,\"ticks\":\"\"},\"colorscale\":[[0.0,\"#0d0887\"],[0.1111111111111111,\"#46039f\"],[0.2222222222222222,\"#7201a8\"],[0.3333333333333333,\"#9c179e\"],[0.4444444444444444,\"#bd3786\"],[0.5555555555555556,\"#d8576b\"],[0.6666666666666666,\"#ed7953\"],[0.7777777777777778,\"#fb9f3a\"],[0.8888888888888888,\"#fdca26\"],[1.0,\"#f0f921\"]]}],\"surface\":[{\"type\":\"surface\",\"colorbar\":{\"outlinewidth\":0,\"ticks\":\"\"},\"colorscale\":[[0.0,\"#0d0887\"],[0.1111111111111111,\"#46039f\"],[0.2222222222222222,\"#7201a8\"],[0.3333333333333333,\"#9c179e\"],[0.4444444444444444,\"#bd3786\"],[0.5555555555555556,\"#d8576b\"],[0.6666666666666666,\"#ed7953\"],[0.7777777777777778,\"#fb9f3a\"],[0.8888888888888888,\"#fdca26\"],[1.0,\"#f0f921\"]]}],\"mesh3d\":[{\"type\":\"mesh3d\",\"colorbar\":{\"outlinewidth\":0,\"ticks\":\"\"}}],\"scatter\":[{\"fillpattern\":{\"fillmode\":\"overlay\",\"size\":10,\"solidity\":0.2},\"type\":\"scatter\"}],\"parcoords\":[{\"type\":\"parcoords\",\"line\":{\"colorbar\":{\"outlinewidth\":0,\"ticks\":\"\"}}}],\"scatterpolargl\":[{\"type\":\"scatterpolargl\",\"marker\":{\"colorbar\":{\"outlinewidth\":0,\"ticks\":\"\"}}}],\"bar\":[{\"error_x\":{\"color\":\"#2a3f5f\"},\"error_y\":{\"color\":\"#2a3f5f\"},\"marker\":{\"line\":{\"color\":\"#E5ECF6\",\"width\":0.5},\"pattern\":{\"fillmode\":\"overlay\",\"size\":10,\"solidity\":0.2}},\"type\":\"bar\"}],\"scattergeo\":[{\"type\":\"scattergeo\",\"marker\":{\"colorbar\":{\"outlinewidth\":0,\"ticks\":\"\"}}}],\"scatterpolar\":[{\"type\":\"scatterpolar\",\"marker\":{\"colorbar\":{\"outlinewidth\":0,\"ticks\":\"\"}}}],\"histogram\":[{\"marker\":{\"pattern\":{\"fillmode\":\"overlay\",\"size\":10,\"solidity\":0.2}},\"type\":\"histogram\"}],\"scattergl\":[{\"type\":\"scattergl\",\"marker\":{\"colorbar\":{\"outlinewidth\":0,\"ticks\":\"\"}}}],\"scatter3d\":[{\"type\":\"scatter3d\",\"line\":{\"colorbar\":{\"outlinewidth\":0,\"ticks\":\"\"}},\"marker\":{\"colorbar\":{\"outlinewidth\":0,\"ticks\":\"\"}}}],\"scattermapbox\":[{\"type\":\"scattermapbox\",\"marker\":{\"colorbar\":{\"outlinewidth\":0,\"ticks\":\"\"}}}],\"scatterternary\":[{\"type\":\"scatterternary\",\"marker\":{\"colorbar\":{\"outlinewidth\":0,\"ticks\":\"\"}}}],\"scattercarpet\":[{\"type\":\"scattercarpet\",\"marker\":{\"colorbar\":{\"outlinewidth\":0,\"ticks\":\"\"}}}],\"carpet\":[{\"aaxis\":{\"endlinecolor\":\"#2a3f5f\",\"gridcolor\":\"white\",\"linecolor\":\"white\",\"minorgridcolor\":\"white\",\"startlinecolor\":\"#2a3f5f\"},\"baxis\":{\"endlinecolor\":\"#2a3f5f\",\"gridcolor\":\"white\",\"linecolor\":\"white\",\"minorgridcolor\":\"white\",\"startlinecolor\":\"#2a3f5f\"},\"type\":\"carpet\"}],\"table\":[{\"cells\":{\"fill\":{\"color\":\"#EBF0F8\"},\"line\":{\"color\":\"white\"}},\"header\":{\"fill\":{\"color\":\"#C8D4E3\"},\"line\":{\"color\":\"white\"}},\"type\":\"table\"}],\"barpolar\":[{\"marker\":{\"line\":{\"color\":\"#E5ECF6\",\"width\":0.5},\"pattern\":{\"fillmode\":\"overlay\",\"size\":10,\"solidity\":0.2}},\"type\":\"barpolar\"}],\"pie\":[{\"automargin\":true,\"type\":\"pie\"}]},\"layout\":{\"autotypenumbers\":\"strict\",\"colorway\":[\"#636efa\",\"#EF553B\",\"#00cc96\",\"#ab63fa\",\"#FFA15A\",\"#19d3f3\",\"#FF6692\",\"#B6E880\",\"#FF97FF\",\"#FECB52\"],\"font\":{\"color\":\"#2a3f5f\"},\"hovermode\":\"closest\",\"hoverlabel\":{\"align\":\"left\"},\"paper_bgcolor\":\"white\",\"plot_bgcolor\":\"#E5ECF6\",\"polar\":{\"bgcolor\":\"#E5ECF6\",\"angularaxis\":{\"gridcolor\":\"white\",\"linecolor\":\"white\",\"ticks\":\"\"},\"radialaxis\":{\"gridcolor\":\"white\",\"linecolor\":\"white\",\"ticks\":\"\"}},\"ternary\":{\"bgcolor\":\"#E5ECF6\",\"aaxis\":{\"gridcolor\":\"white\",\"linecolor\":\"white\",\"ticks\":\"\"},\"baxis\":{\"gridcolor\":\"white\",\"linecolor\":\"white\",\"ticks\":\"\"},\"caxis\":{\"gridcolor\":\"white\",\"linecolor\":\"white\",\"ticks\":\"\"}},\"coloraxis\":{\"colorbar\":{\"outlinewidth\":0,\"ticks\":\"\"}},\"colorscale\":{\"sequential\":[[0.0,\"#0d0887\"],[0.1111111111111111,\"#46039f\"],[0.2222222222222222,\"#7201a8\"],[0.3333333333333333,\"#9c179e\"],[0.4444444444444444,\"#bd3786\"],[0.5555555555555556,\"#d8576b\"],[0.6666666666666666,\"#ed7953\"],[0.7777777777777778,\"#fb9f3a\"],[0.8888888888888888,\"#fdca26\"],[1.0,\"#f0f921\"]],\"sequentialminus\":[[0.0,\"#0d0887\"],[0.1111111111111111,\"#46039f\"],[0.2222222222222222,\"#7201a8\"],[0.3333333333333333,\"#9c179e\"],[0.4444444444444444,\"#bd3786\"],[0.5555555555555556,\"#d8576b\"],[0.6666666666666666,\"#ed7953\"],[0.7777777777777778,\"#fb9f3a\"],[0.8888888888888888,\"#fdca26\"],[1.0,\"#f0f921\"]],\"diverging\":[[0,\"#8e0152\"],[0.1,\"#c51b7d\"],[0.2,\"#de77ae\"],[0.3,\"#f1b6da\"],[0.4,\"#fde0ef\"],[0.5,\"#f7f7f7\"],[0.6,\"#e6f5d0\"],[0.7,\"#b8e186\"],[0.8,\"#7fbc41\"],[0.9,\"#4d9221\"],[1,\"#276419\"]]},\"xaxis\":{\"gridcolor\":\"white\",\"linecolor\":\"white\",\"ticks\":\"\",\"title\":{\"standoff\":15},\"zerolinecolor\":\"white\",\"automargin\":true,\"zerolinewidth\":2},\"yaxis\":{\"gridcolor\":\"white\",\"linecolor\":\"white\",\"ticks\":\"\",\"title\":{\"standoff\":15},\"zerolinecolor\":\"white\",\"automargin\":true,\"zerolinewidth\":2},\"scene\":{\"xaxis\":{\"backgroundcolor\":\"#E5ECF6\",\"gridcolor\":\"white\",\"linecolor\":\"white\",\"showbackground\":true,\"ticks\":\"\",\"zerolinecolor\":\"white\",\"gridwidth\":2},\"yaxis\":{\"backgroundcolor\":\"#E5ECF6\",\"gridcolor\":\"white\",\"linecolor\":\"white\",\"showbackground\":true,\"ticks\":\"\",\"zerolinecolor\":\"white\",\"gridwidth\":2},\"zaxis\":{\"backgroundcolor\":\"#E5ECF6\",\"gridcolor\":\"white\",\"linecolor\":\"white\",\"showbackground\":true,\"ticks\":\"\",\"zerolinecolor\":\"white\",\"gridwidth\":2}},\"shapedefaults\":{\"line\":{\"color\":\"#2a3f5f\"}},\"annotationdefaults\":{\"arrowcolor\":\"#2a3f5f\",\"arrowhead\":0,\"arrowwidth\":1},\"geo\":{\"bgcolor\":\"white\",\"landcolor\":\"#E5ECF6\",\"subunitcolor\":\"white\",\"showland\":true,\"showlakes\":true,\"lakecolor\":\"white\"},\"title\":{\"x\":0.05},\"mapbox\":{\"style\":\"light\"}}},\"xaxis\":{\"anchor\":\"y\",\"domain\":[0.0,1.0],\"scaleanchor\":\"y\",\"constrain\":\"domain\",\"title\":{\"text\":\"engine_capacity\"},\"showgrid\":false},\"yaxis\":{\"anchor\":\"x\",\"domain\":[0.0,1.0],\"autorange\":\"reversed\",\"constrain\":\"domain\",\"title\":{\"text\":\"kilometers_driven\"},\"showgrid\":false},\"coloraxis\":{\"colorbar\":{\"title\":{\"text\":\"Neg RMSE Score\"}},\"colorscale\":[[0.0,\"rgb(165,0,38)\"],[0.1,\"rgb(215,48,39)\"],[0.2,\"rgb(244,109,67)\"],[0.3,\"rgb(253,174,97)\"],[0.4,\"rgb(254,224,139)\"],[0.5,\"rgb(255,255,191)\"],[0.6,\"rgb(217,239,139)\"],[0.7,\"rgb(166,217,106)\"],[0.8,\"rgb(102,189,99)\"],[0.9,\"rgb(26,152,80)\"],[1.0,\"rgb(0,104,55)\"]]},\"margin\":{\"t\":60},\"title\":{\"text\":\"Neg RMSE Score (percent of data)\"},\"height\":600}}",
              "type": "plotly"
             },
             {
              "payload": "Check ran on 1295 data samples. Neg RMSE Score on the full data set is -432,125.18.",
              "type": "html"
             }
            ],
            "vehicle_year vs engine_capacity": [
             {
              "payload": "{\"data\":[{\"coloraxis\":\"coloraxis\",\"name\":\"0\",\"x\":[\"[2,006, 2,013.5]\",\"(2,013.5, 2,015]\",\"(2,015, 2,016]\",\"(2,016, 2,018]\",\"(2,018, 2,020]\"],\"y\":[\"[624, 965.5]\",\"(965.5, 1,197]\",\"(1,197, 1,248]\",\"(1,248, 1,498]\",\"(1,498, 2,956]\"],\"z\":[[-673752.2575087915,-622105.6994290379,-592509.4458914738,-569706.8589321541,-534349.2425943528],[-615329.8187081442,-456596.4204478842,-431420.0609119248,-362743.6879226166,-300108.99154548545],[-523381.76529578987,-386336.7610095606,-341675.4152868089,-283758.7454594576,-223724.96883403385],[-528995.6788265625,-352713.984783403,-286694.51497110777,-215652.68550391836,-137129.3019672505],[-442244.9850895066,-315397.2135753241,-267274.7005608886,-193924.8491120534,-160685.0312915315]],\"type\":\"heatmap\",\"xaxis\":\"x\",\"yaxis\":\"y\",\"hovertemplate\":\"vehicle_year: %{x}\\u003cbr\\u003eengine_capacity: %{y}\\u003cbr\\u003eNeg RMSE Score: %{z}\\u003cextra\\u003e\\u003c\\u002fextra\\u003e\",\"text\":[[\"-673,752.26\\n(5.25%)\",\"-622,105.7\\n(1.47%)\",\"-592,509.45\\n(1.93%)\",\"-569,706.86\\n(2.7%)\",\"-534,349.24\\n(0.93%)\"],[\"-615,329.82\\n(7.57%)\",\"-456,596.42\\n(4.71%)\",\"-431,420.06\\n(4.56%)\",\"-362,743.69\\n(10.35%)\",\"-300,108.99\\n(8.8%)\"],[\"-523,381.77\\n(8.49%)\",\"-386,336.76\\n(5.56%)\",\"-341,675.42\\n(8.49%)\",\"-283,758.75\\n(15.83%)\",\"-223,724.97\\n(10.04%)\"],[\"-528,995.68\\n(14.67%)\",\"-352,713.98\\n(8.34%)\",\"-286,694.51\\n(10.81%)\",\"-215,652.69\\n(15.68%)\",\"-137,129.3\\n(5.41%)\"],[\"-442,244.99\\n(8.88%)\",\"-315,397.21\\n(6.49%)\",\"-267,274.7\\n(6.87%)\",\"-193,924.85\\n(6.87%)\",\"-160,685.03\\n(2.47%)\"]],\"texttemplate\":\"%{text}\"}],\"layout\":{\"template\":{\"data\":{\"histogram2dcontour\":[{\"type\":\"histogram2dcontour\",\"colorbar\":{\"outlinewidth\":0,\"ticks\":\"\"},\"colorscale\":[[0.0,\"#0d0887\"],[0.1111111111111111,\"#46039f\"],[0.2222222222222222,\"#7201a8\"],[0.3333333333333333,\"#9c179e\"],[0.4444444444444444,\"#bd3786\"],[0.5555555555555556,\"#d8576b\"],[0.6666666666666666,\"#ed7953\"],[0.7777777777777778,\"#fb9f3a\"],[0.8888888888888888,\"#fdca26\"],[1.0,\"#f0f921\"]]}],\"choropleth\":[{\"type\":\"choropleth\",\"colorbar\":{\"outlinewidth\":0,\"ticks\":\"\"}}],\"histogram2d\":[{\"type\":\"histogram2d\",\"colorbar\":{\"outlinewidth\":0,\"ticks\":\"\"},\"colorscale\":[[0.0,\"#0d0887\"],[0.1111111111111111,\"#46039f\"],[0.2222222222222222,\"#7201a8\"],[0.3333333333333333,\"#9c179e\"],[0.4444444444444444,\"#bd3786\"],[0.5555555555555556,\"#d8576b\"],[0.6666666666666666,\"#ed7953\"],[0.7777777777777778,\"#fb9f3a\"],[0.8888888888888888,\"#fdca26\"],[1.0,\"#f0f921\"]]}],\"heatmap\":[{\"type\":\"heatmap\",\"colorbar\":{\"outlinewidth\":0,\"ticks\":\"\"},\"colorscale\":[[0.0,\"#0d0887\"],[0.1111111111111111,\"#46039f\"],[0.2222222222222222,\"#7201a8\"],[0.3333333333333333,\"#9c179e\"],[0.4444444444444444,\"#bd3786\"],[0.5555555555555556,\"#d8576b\"],[0.6666666666666666,\"#ed7953\"],[0.7777777777777778,\"#fb9f3a\"],[0.8888888888888888,\"#fdca26\"],[1.0,\"#f0f921\"]]}],\"heatmapgl\":[{\"type\":\"heatmapgl\",\"colorbar\":{\"outlinewidth\":0,\"ticks\":\"\"},\"colorscale\":[[0.0,\"#0d0887\"],[0.1111111111111111,\"#46039f\"],[0.2222222222222222,\"#7201a8\"],[0.3333333333333333,\"#9c179e\"],[0.4444444444444444,\"#bd3786\"],[0.5555555555555556,\"#d8576b\"],[0.6666666666666666,\"#ed7953\"],[0.7777777777777778,\"#fb9f3a\"],[0.8888888888888888,\"#fdca26\"],[1.0,\"#f0f921\"]]}],\"contourcarpet\":[{\"type\":\"contourcarpet\",\"colorbar\":{\"outlinewidth\":0,\"ticks\":\"\"}}],\"contour\":[{\"type\":\"contour\",\"colorbar\":{\"outlinewidth\":0,\"ticks\":\"\"},\"colorscale\":[[0.0,\"#0d0887\"],[0.1111111111111111,\"#46039f\"],[0.2222222222222222,\"#7201a8\"],[0.3333333333333333,\"#9c179e\"],[0.4444444444444444,\"#bd3786\"],[0.5555555555555556,\"#d8576b\"],[0.6666666666666666,\"#ed7953\"],[0.7777777777777778,\"#fb9f3a\"],[0.8888888888888888,\"#fdca26\"],[1.0,\"#f0f921\"]]}],\"surface\":[{\"type\":\"surface\",\"colorbar\":{\"outlinewidth\":0,\"ticks\":\"\"},\"colorscale\":[[0.0,\"#0d0887\"],[0.1111111111111111,\"#46039f\"],[0.2222222222222222,\"#7201a8\"],[0.3333333333333333,\"#9c179e\"],[0.4444444444444444,\"#bd3786\"],[0.5555555555555556,\"#d8576b\"],[0.6666666666666666,\"#ed7953\"],[0.7777777777777778,\"#fb9f3a\"],[0.8888888888888888,\"#fdca26\"],[1.0,\"#f0f921\"]]}],\"mesh3d\":[{\"type\":\"mesh3d\",\"colorbar\":{\"outlinewidth\":0,\"ticks\":\"\"}}],\"scatter\":[{\"fillpattern\":{\"fillmode\":\"overlay\",\"size\":10,\"solidity\":0.2},\"type\":\"scatter\"}],\"parcoords\":[{\"type\":\"parcoords\",\"line\":{\"colorbar\":{\"outlinewidth\":0,\"ticks\":\"\"}}}],\"scatterpolargl\":[{\"type\":\"scatterpolargl\",\"marker\":{\"colorbar\":{\"outlinewidth\":0,\"ticks\":\"\"}}}],\"bar\":[{\"error_x\":{\"color\":\"#2a3f5f\"},\"error_y\":{\"color\":\"#2a3f5f\"},\"marker\":{\"line\":{\"color\":\"#E5ECF6\",\"width\":0.5},\"pattern\":{\"fillmode\":\"overlay\",\"size\":10,\"solidity\":0.2}},\"type\":\"bar\"}],\"scattergeo\":[{\"type\":\"scattergeo\",\"marker\":{\"colorbar\":{\"outlinewidth\":0,\"ticks\":\"\"}}}],\"scatterpolar\":[{\"type\":\"scatterpolar\",\"marker\":{\"colorbar\":{\"outlinewidth\":0,\"ticks\":\"\"}}}],\"histogram\":[{\"marker\":{\"pattern\":{\"fillmode\":\"overlay\",\"size\":10,\"solidity\":0.2}},\"type\":\"histogram\"}],\"scattergl\":[{\"type\":\"scattergl\",\"marker\":{\"colorbar\":{\"outlinewidth\":0,\"ticks\":\"\"}}}],\"scatter3d\":[{\"type\":\"scatter3d\",\"line\":{\"colorbar\":{\"outlinewidth\":0,\"ticks\":\"\"}},\"marker\":{\"colorbar\":{\"outlinewidth\":0,\"ticks\":\"\"}}}],\"scattermapbox\":[{\"type\":\"scattermapbox\",\"marker\":{\"colorbar\":{\"outlinewidth\":0,\"ticks\":\"\"}}}],\"scatterternary\":[{\"type\":\"scatterternary\",\"marker\":{\"colorbar\":{\"outlinewidth\":0,\"ticks\":\"\"}}}],\"scattercarpet\":[{\"type\":\"scattercarpet\",\"marker\":{\"colorbar\":{\"outlinewidth\":0,\"ticks\":\"\"}}}],\"carpet\":[{\"aaxis\":{\"endlinecolor\":\"#2a3f5f\",\"gridcolor\":\"white\",\"linecolor\":\"white\",\"minorgridcolor\":\"white\",\"startlinecolor\":\"#2a3f5f\"},\"baxis\":{\"endlinecolor\":\"#2a3f5f\",\"gridcolor\":\"white\",\"linecolor\":\"white\",\"minorgridcolor\":\"white\",\"startlinecolor\":\"#2a3f5f\"},\"type\":\"carpet\"}],\"table\":[{\"cells\":{\"fill\":{\"color\":\"#EBF0F8\"},\"line\":{\"color\":\"white\"}},\"header\":{\"fill\":{\"color\":\"#C8D4E3\"},\"line\":{\"color\":\"white\"}},\"type\":\"table\"}],\"barpolar\":[{\"marker\":{\"line\":{\"color\":\"#E5ECF6\",\"width\":0.5},\"pattern\":{\"fillmode\":\"overlay\",\"size\":10,\"solidity\":0.2}},\"type\":\"barpolar\"}],\"pie\":[{\"automargin\":true,\"type\":\"pie\"}]},\"layout\":{\"autotypenumbers\":\"strict\",\"colorway\":[\"#636efa\",\"#EF553B\",\"#00cc96\",\"#ab63fa\",\"#FFA15A\",\"#19d3f3\",\"#FF6692\",\"#B6E880\",\"#FF97FF\",\"#FECB52\"],\"font\":{\"color\":\"#2a3f5f\"},\"hovermode\":\"closest\",\"hoverlabel\":{\"align\":\"left\"},\"paper_bgcolor\":\"white\",\"plot_bgcolor\":\"#E5ECF6\",\"polar\":{\"bgcolor\":\"#E5ECF6\",\"angularaxis\":{\"gridcolor\":\"white\",\"linecolor\":\"white\",\"ticks\":\"\"},\"radialaxis\":{\"gridcolor\":\"white\",\"linecolor\":\"white\",\"ticks\":\"\"}},\"ternary\":{\"bgcolor\":\"#E5ECF6\",\"aaxis\":{\"gridcolor\":\"white\",\"linecolor\":\"white\",\"ticks\":\"\"},\"baxis\":{\"gridcolor\":\"white\",\"linecolor\":\"white\",\"ticks\":\"\"},\"caxis\":{\"gridcolor\":\"white\",\"linecolor\":\"white\",\"ticks\":\"\"}},\"coloraxis\":{\"colorbar\":{\"outlinewidth\":0,\"ticks\":\"\"}},\"colorscale\":{\"sequential\":[[0.0,\"#0d0887\"],[0.1111111111111111,\"#46039f\"],[0.2222222222222222,\"#7201a8\"],[0.3333333333333333,\"#9c179e\"],[0.4444444444444444,\"#bd3786\"],[0.5555555555555556,\"#d8576b\"],[0.6666666666666666,\"#ed7953\"],[0.7777777777777778,\"#fb9f3a\"],[0.8888888888888888,\"#fdca26\"],[1.0,\"#f0f921\"]],\"sequentialminus\":[[0.0,\"#0d0887\"],[0.1111111111111111,\"#46039f\"],[0.2222222222222222,\"#7201a8\"],[0.3333333333333333,\"#9c179e\"],[0.4444444444444444,\"#bd3786\"],[0.5555555555555556,\"#d8576b\"],[0.6666666666666666,\"#ed7953\"],[0.7777777777777778,\"#fb9f3a\"],[0.8888888888888888,\"#fdca26\"],[1.0,\"#f0f921\"]],\"diverging\":[[0,\"#8e0152\"],[0.1,\"#c51b7d\"],[0.2,\"#de77ae\"],[0.3,\"#f1b6da\"],[0.4,\"#fde0ef\"],[0.5,\"#f7f7f7\"],[0.6,\"#e6f5d0\"],[0.7,\"#b8e186\"],[0.8,\"#7fbc41\"],[0.9,\"#4d9221\"],[1,\"#276419\"]]},\"xaxis\":{\"gridcolor\":\"white\",\"linecolor\":\"white\",\"ticks\":\"\",\"title\":{\"standoff\":15},\"zerolinecolor\":\"white\",\"automargin\":true,\"zerolinewidth\":2},\"yaxis\":{\"gridcolor\":\"white\",\"linecolor\":\"white\",\"ticks\":\"\",\"title\":{\"standoff\":15},\"zerolinecolor\":\"white\",\"automargin\":true,\"zerolinewidth\":2},\"scene\":{\"xaxis\":{\"backgroundcolor\":\"#E5ECF6\",\"gridcolor\":\"white\",\"linecolor\":\"white\",\"showbackground\":true,\"ticks\":\"\",\"zerolinecolor\":\"white\",\"gridwidth\":2},\"yaxis\":{\"backgroundcolor\":\"#E5ECF6\",\"gridcolor\":\"white\",\"linecolor\":\"white\",\"showbackground\":true,\"ticks\":\"\",\"zerolinecolor\":\"white\",\"gridwidth\":2},\"zaxis\":{\"backgroundcolor\":\"#E5ECF6\",\"gridcolor\":\"white\",\"linecolor\":\"white\",\"showbackground\":true,\"ticks\":\"\",\"zerolinecolor\":\"white\",\"gridwidth\":2}},\"shapedefaults\":{\"line\":{\"color\":\"#2a3f5f\"}},\"annotationdefaults\":{\"arrowcolor\":\"#2a3f5f\",\"arrowhead\":0,\"arrowwidth\":1},\"geo\":{\"bgcolor\":\"white\",\"landcolor\":\"#E5ECF6\",\"subunitcolor\":\"white\",\"showland\":true,\"showlakes\":true,\"lakecolor\":\"white\"},\"title\":{\"x\":0.05},\"mapbox\":{\"style\":\"light\"}}},\"xaxis\":{\"anchor\":\"y\",\"domain\":[0.0,1.0],\"scaleanchor\":\"y\",\"constrain\":\"domain\",\"title\":{\"text\":\"vehicle_year\"},\"showgrid\":false},\"yaxis\":{\"anchor\":\"x\",\"domain\":[0.0,1.0],\"autorange\":\"reversed\",\"constrain\":\"domain\",\"title\":{\"text\":\"engine_capacity\"},\"showgrid\":false},\"coloraxis\":{\"colorbar\":{\"title\":{\"text\":\"Neg RMSE Score\"}},\"colorscale\":[[0.0,\"rgb(165,0,38)\"],[0.1,\"rgb(215,48,39)\"],[0.2,\"rgb(244,109,67)\"],[0.3,\"rgb(253,174,97)\"],[0.4,\"rgb(254,224,139)\"],[0.5,\"rgb(255,255,191)\"],[0.6,\"rgb(217,239,139)\"],[0.7,\"rgb(166,217,106)\"],[0.8,\"rgb(102,189,99)\"],[0.9,\"rgb(26,152,80)\"],[1.0,\"rgb(0,104,55)\"]]},\"margin\":{\"t\":60},\"title\":{\"text\":\"Neg RMSE Score (percent of data)\"},\"height\":600}}",
              "type": "plotly"
             },
             {
              "payload": "Check ran on 1295 data samples. Neg RMSE Score on the full data set is -432,125.18.",
              "type": "html"
             }
            ],
            "vehicle_year vs fuel_type": [
             {
              "payload": "{\"data\":[{\"coloraxis\":\"coloraxis\",\"name\":\"0\",\"x\":[\"[2,006, 2,009.5]\",\"(2,009.5, 2,013]\",\"(2,013, 2,015]\",\"(2,015, 2,017]\",\"(2,017, 2,020]\"],\"y\":[\"[1, 1.5]\",\"(1.5, 4]\"],\"z\":[[-587835.5026174072,-489554.1634710198,-392290.9434639545,-285358.12462588656,-203822.03535987416],[-665819.4127644056,-587338.2667060199,-496060.28834613005,-419342.5707683503,-343275.7722081315]],\"type\":\"heatmap\",\"xaxis\":\"x\",\"yaxis\":\"y\",\"hovertemplate\":\"vehicle_year: %{x}\\u003cbr\\u003efuel_type: %{y}\\u003cbr\\u003eNeg RMSE Score: %{z}\\u003cextra\\u003e\\u003c\\u002fextra\\u003e\",\"text\":[[\"-587,835.5\\n(1.54%)\",\"-489,554.16\\n(18.07%)\",\"-392,290.94\\n(18.84%)\",\"-285,358.12\\n(20.62%)\",\"-203,822.04\\n(12.51%)\"],[\"-665,819.41\\n(5.02%)\",\"-587,338.27\\n(12.36%)\",\"-496,060.29\\n(10.81%)\",\"-419,342.57\\n(15.52%)\",\"-343,275.77\\n(18.38%)\"]],\"texttemplate\":\"%{text}\"}],\"layout\":{\"template\":{\"data\":{\"histogram2dcontour\":[{\"type\":\"histogram2dcontour\",\"colorbar\":{\"outlinewidth\":0,\"ticks\":\"\"},\"colorscale\":[[0.0,\"#0d0887\"],[0.1111111111111111,\"#46039f\"],[0.2222222222222222,\"#7201a8\"],[0.3333333333333333,\"#9c179e\"],[0.4444444444444444,\"#bd3786\"],[0.5555555555555556,\"#d8576b\"],[0.6666666666666666,\"#ed7953\"],[0.7777777777777778,\"#fb9f3a\"],[0.8888888888888888,\"#fdca26\"],[1.0,\"#f0f921\"]]}],\"choropleth\":[{\"type\":\"choropleth\",\"colorbar\":{\"outlinewidth\":0,\"ticks\":\"\"}}],\"histogram2d\":[{\"type\":\"histogram2d\",\"colorbar\":{\"outlinewidth\":0,\"ticks\":\"\"},\"colorscale\":[[0.0,\"#0d0887\"],[0.1111111111111111,\"#46039f\"],[0.2222222222222222,\"#7201a8\"],[0.3333333333333333,\"#9c179e\"],[0.4444444444444444,\"#bd3786\"],[0.5555555555555556,\"#d8576b\"],[0.6666666666666666,\"#ed7953\"],[0.7777777777777778,\"#fb9f3a\"],[0.8888888888888888,\"#fdca26\"],[1.0,\"#f0f921\"]]}],\"heatmap\":[{\"type\":\"heatmap\",\"colorbar\":{\"outlinewidth\":0,\"ticks\":\"\"},\"colorscale\":[[0.0,\"#0d0887\"],[0.1111111111111111,\"#46039f\"],[0.2222222222222222,\"#7201a8\"],[0.3333333333333333,\"#9c179e\"],[0.4444444444444444,\"#bd3786\"],[0.5555555555555556,\"#d8576b\"],[0.6666666666666666,\"#ed7953\"],[0.7777777777777778,\"#fb9f3a\"],[0.8888888888888888,\"#fdca26\"],[1.0,\"#f0f921\"]]}],\"heatmapgl\":[{\"type\":\"heatmapgl\",\"colorbar\":{\"outlinewidth\":0,\"ticks\":\"\"},\"colorscale\":[[0.0,\"#0d0887\"],[0.1111111111111111,\"#46039f\"],[0.2222222222222222,\"#7201a8\"],[0.3333333333333333,\"#9c179e\"],[0.4444444444444444,\"#bd3786\"],[0.5555555555555556,\"#d8576b\"],[0.6666666666666666,\"#ed7953\"],[0.7777777777777778,\"#fb9f3a\"],[0.8888888888888888,\"#fdca26\"],[1.0,\"#f0f921\"]]}],\"contourcarpet\":[{\"type\":\"contourcarpet\",\"colorbar\":{\"outlinewidth\":0,\"ticks\":\"\"}}],\"contour\":[{\"type\":\"contour\",\"colorbar\":{\"outlinewidth\":0,\"ticks\":\"\"},\"colorscale\":[[0.0,\"#0d0887\"],[0.1111111111111111,\"#46039f\"],[0.2222222222222222,\"#7201a8\"],[0.3333333333333333,\"#9c179e\"],[0.4444444444444444,\"#bd3786\"],[0.5555555555555556,\"#d8576b\"],[0.6666666666666666,\"#ed7953\"],[0.7777777777777778,\"#fb9f3a\"],[0.8888888888888888,\"#fdca26\"],[1.0,\"#f0f921\"]]}],\"surface\":[{\"type\":\"surface\",\"colorbar\":{\"outlinewidth\":0,\"ticks\":\"\"},\"colorscale\":[[0.0,\"#0d0887\"],[0.1111111111111111,\"#46039f\"],[0.2222222222222222,\"#7201a8\"],[0.3333333333333333,\"#9c179e\"],[0.4444444444444444,\"#bd3786\"],[0.5555555555555556,\"#d8576b\"],[0.6666666666666666,\"#ed7953\"],[0.7777777777777778,\"#fb9f3a\"],[0.8888888888888888,\"#fdca26\"],[1.0,\"#f0f921\"]]}],\"mesh3d\":[{\"type\":\"mesh3d\",\"colorbar\":{\"outlinewidth\":0,\"ticks\":\"\"}}],\"scatter\":[{\"fillpattern\":{\"fillmode\":\"overlay\",\"size\":10,\"solidity\":0.2},\"type\":\"scatter\"}],\"parcoords\":[{\"type\":\"parcoords\",\"line\":{\"colorbar\":{\"outlinewidth\":0,\"ticks\":\"\"}}}],\"scatterpolargl\":[{\"type\":\"scatterpolargl\",\"marker\":{\"colorbar\":{\"outlinewidth\":0,\"ticks\":\"\"}}}],\"bar\":[{\"error_x\":{\"color\":\"#2a3f5f\"},\"error_y\":{\"color\":\"#2a3f5f\"},\"marker\":{\"line\":{\"color\":\"#E5ECF6\",\"width\":0.5},\"pattern\":{\"fillmode\":\"overlay\",\"size\":10,\"solidity\":0.2}},\"type\":\"bar\"}],\"scattergeo\":[{\"type\":\"scattergeo\",\"marker\":{\"colorbar\":{\"outlinewidth\":0,\"ticks\":\"\"}}}],\"scatterpolar\":[{\"type\":\"scatterpolar\",\"marker\":{\"colorbar\":{\"outlinewidth\":0,\"ticks\":\"\"}}}],\"histogram\":[{\"marker\":{\"pattern\":{\"fillmode\":\"overlay\",\"size\":10,\"solidity\":0.2}},\"type\":\"histogram\"}],\"scattergl\":[{\"type\":\"scattergl\",\"marker\":{\"colorbar\":{\"outlinewidth\":0,\"ticks\":\"\"}}}],\"scatter3d\":[{\"type\":\"scatter3d\",\"line\":{\"colorbar\":{\"outlinewidth\":0,\"ticks\":\"\"}},\"marker\":{\"colorbar\":{\"outlinewidth\":0,\"ticks\":\"\"}}}],\"scattermapbox\":[{\"type\":\"scattermapbox\",\"marker\":{\"colorbar\":{\"outlinewidth\":0,\"ticks\":\"\"}}}],\"scatterternary\":[{\"type\":\"scatterternary\",\"marker\":{\"colorbar\":{\"outlinewidth\":0,\"ticks\":\"\"}}}],\"scattercarpet\":[{\"type\":\"scattercarpet\",\"marker\":{\"colorbar\":{\"outlinewidth\":0,\"ticks\":\"\"}}}],\"carpet\":[{\"aaxis\":{\"endlinecolor\":\"#2a3f5f\",\"gridcolor\":\"white\",\"linecolor\":\"white\",\"minorgridcolor\":\"white\",\"startlinecolor\":\"#2a3f5f\"},\"baxis\":{\"endlinecolor\":\"#2a3f5f\",\"gridcolor\":\"white\",\"linecolor\":\"white\",\"minorgridcolor\":\"white\",\"startlinecolor\":\"#2a3f5f\"},\"type\":\"carpet\"}],\"table\":[{\"cells\":{\"fill\":{\"color\":\"#EBF0F8\"},\"line\":{\"color\":\"white\"}},\"header\":{\"fill\":{\"color\":\"#C8D4E3\"},\"line\":{\"color\":\"white\"}},\"type\":\"table\"}],\"barpolar\":[{\"marker\":{\"line\":{\"color\":\"#E5ECF6\",\"width\":0.5},\"pattern\":{\"fillmode\":\"overlay\",\"size\":10,\"solidity\":0.2}},\"type\":\"barpolar\"}],\"pie\":[{\"automargin\":true,\"type\":\"pie\"}]},\"layout\":{\"autotypenumbers\":\"strict\",\"colorway\":[\"#636efa\",\"#EF553B\",\"#00cc96\",\"#ab63fa\",\"#FFA15A\",\"#19d3f3\",\"#FF6692\",\"#B6E880\",\"#FF97FF\",\"#FECB52\"],\"font\":{\"color\":\"#2a3f5f\"},\"hovermode\":\"closest\",\"hoverlabel\":{\"align\":\"left\"},\"paper_bgcolor\":\"white\",\"plot_bgcolor\":\"#E5ECF6\",\"polar\":{\"bgcolor\":\"#E5ECF6\",\"angularaxis\":{\"gridcolor\":\"white\",\"linecolor\":\"white\",\"ticks\":\"\"},\"radialaxis\":{\"gridcolor\":\"white\",\"linecolor\":\"white\",\"ticks\":\"\"}},\"ternary\":{\"bgcolor\":\"#E5ECF6\",\"aaxis\":{\"gridcolor\":\"white\",\"linecolor\":\"white\",\"ticks\":\"\"},\"baxis\":{\"gridcolor\":\"white\",\"linecolor\":\"white\",\"ticks\":\"\"},\"caxis\":{\"gridcolor\":\"white\",\"linecolor\":\"white\",\"ticks\":\"\"}},\"coloraxis\":{\"colorbar\":{\"outlinewidth\":0,\"ticks\":\"\"}},\"colorscale\":{\"sequential\":[[0.0,\"#0d0887\"],[0.1111111111111111,\"#46039f\"],[0.2222222222222222,\"#7201a8\"],[0.3333333333333333,\"#9c179e\"],[0.4444444444444444,\"#bd3786\"],[0.5555555555555556,\"#d8576b\"],[0.6666666666666666,\"#ed7953\"],[0.7777777777777778,\"#fb9f3a\"],[0.8888888888888888,\"#fdca26\"],[1.0,\"#f0f921\"]],\"sequentialminus\":[[0.0,\"#0d0887\"],[0.1111111111111111,\"#46039f\"],[0.2222222222222222,\"#7201a8\"],[0.3333333333333333,\"#9c179e\"],[0.4444444444444444,\"#bd3786\"],[0.5555555555555556,\"#d8576b\"],[0.6666666666666666,\"#ed7953\"],[0.7777777777777778,\"#fb9f3a\"],[0.8888888888888888,\"#fdca26\"],[1.0,\"#f0f921\"]],\"diverging\":[[0,\"#8e0152\"],[0.1,\"#c51b7d\"],[0.2,\"#de77ae\"],[0.3,\"#f1b6da\"],[0.4,\"#fde0ef\"],[0.5,\"#f7f7f7\"],[0.6,\"#e6f5d0\"],[0.7,\"#b8e186\"],[0.8,\"#7fbc41\"],[0.9,\"#4d9221\"],[1,\"#276419\"]]},\"xaxis\":{\"gridcolor\":\"white\",\"linecolor\":\"white\",\"ticks\":\"\",\"title\":{\"standoff\":15},\"zerolinecolor\":\"white\",\"automargin\":true,\"zerolinewidth\":2},\"yaxis\":{\"gridcolor\":\"white\",\"linecolor\":\"white\",\"ticks\":\"\",\"title\":{\"standoff\":15},\"zerolinecolor\":\"white\",\"automargin\":true,\"zerolinewidth\":2},\"scene\":{\"xaxis\":{\"backgroundcolor\":\"#E5ECF6\",\"gridcolor\":\"white\",\"linecolor\":\"white\",\"showbackground\":true,\"ticks\":\"\",\"zerolinecolor\":\"white\",\"gridwidth\":2},\"yaxis\":{\"backgroundcolor\":\"#E5ECF6\",\"gridcolor\":\"white\",\"linecolor\":\"white\",\"showbackground\":true,\"ticks\":\"\",\"zerolinecolor\":\"white\",\"gridwidth\":2},\"zaxis\":{\"backgroundcolor\":\"#E5ECF6\",\"gridcolor\":\"white\",\"linecolor\":\"white\",\"showbackground\":true,\"ticks\":\"\",\"zerolinecolor\":\"white\",\"gridwidth\":2}},\"shapedefaults\":{\"line\":{\"color\":\"#2a3f5f\"}},\"annotationdefaults\":{\"arrowcolor\":\"#2a3f5f\",\"arrowhead\":0,\"arrowwidth\":1},\"geo\":{\"bgcolor\":\"white\",\"landcolor\":\"#E5ECF6\",\"subunitcolor\":\"white\",\"showland\":true,\"showlakes\":true,\"lakecolor\":\"white\"},\"title\":{\"x\":0.05},\"mapbox\":{\"style\":\"light\"}}},\"xaxis\":{\"anchor\":\"y\",\"domain\":[0.0,1.0],\"scaleanchor\":\"y\",\"constrain\":\"domain\",\"title\":{\"text\":\"vehicle_year\"},\"showgrid\":false},\"yaxis\":{\"anchor\":\"x\",\"domain\":[0.0,1.0],\"autorange\":\"reversed\",\"constrain\":\"domain\",\"title\":{\"text\":\"fuel_type\"},\"showgrid\":false},\"coloraxis\":{\"colorbar\":{\"title\":{\"text\":\"Neg RMSE Score\"}},\"colorscale\":[[0.0,\"rgb(165,0,38)\"],[0.1,\"rgb(215,48,39)\"],[0.2,\"rgb(244,109,67)\"],[0.3,\"rgb(253,174,97)\"],[0.4,\"rgb(254,224,139)\"],[0.5,\"rgb(255,255,191)\"],[0.6,\"rgb(217,239,139)\"],[0.7,\"rgb(166,217,106)\"],[0.8,\"rgb(102,189,99)\"],[0.9,\"rgb(26,152,80)\"],[1.0,\"rgb(0,104,55)\"]]},\"margin\":{\"t\":60},\"title\":{\"text\":\"Neg RMSE Score (percent of data)\"},\"height\":600}}",
              "type": "plotly"
             },
             {
              "payload": "Check ran on 1295 data samples. Neg RMSE Score on the full data set is -432,125.18.",
              "type": "html"
             }
            ],
            "vehicle_year vs max_power_output": [
             {
              "payload": "{\"data\":[{\"coloraxis\":\"coloraxis\",\"name\":\"0\",\"x\":[\"[2,006, 2,014.5]\",\"(2,014.5, 2,016]\",\"(2,016, 2,017]\",\"(2,017, 2,018]\",\"(2,018, 2,020]\"],\"y\":[\"[32.8, 62.05]\",\"(62.05, 73.99]\",\"(73.99, 84]\",\"(84, 98.6]\",\"(98.6, 198.25]\"],\"z\":[[-665547.0679094574,-584561.4447127213,-570622.2108996172,-544285.3380344118,-513905.45267070323],[-576762.0632946712,-449587.3141134065,-434739.86340700905,-427067.49004139955,-373073.9154833635],[-501939.70741966314,-362988.69509288535,-326691.6853857192,-264674.6581701486,-246302.27905535878],[-500500.32305072044,-271157.57141573325,-243897.82979409516,-234283.0469611208,-212247.71841916486],[-403525.3356740177,-246272.31153294918,-188358.60049184805,-178399.1718189706,-154628.8833164347]],\"type\":\"heatmap\",\"xaxis\":\"x\",\"yaxis\":\"y\",\"hovertemplate\":\"vehicle_year: %{x}\\u003cbr\\u003emax_power_output: %{y}\\u003cbr\\u003eNeg RMSE Score: %{z}\\u003cextra\\u003e\\u003c\\u002fextra\\u003e\",\"text\":[[\"-665,547.07\\n(7.34%)\",\"-584,561.44\\n(2.08%)\",\"-570,622.21\\n(2.32%)\",\"-544,285.34\\n(1.47%)\",\"-513,905.45\\n(1.16%)\"],[\"-576,762.06\\n(12.36%)\",\"-449,587.31\\n(4.25%)\",\"-434,739.86\\n(4.56%)\",\"-427,067.49\\n(4.32%)\",\"-373,073.92\\n(2.93%)\"],[\"-501,939.71\\n(5.71%)\",\"-362,988.7\\n(5.56%)\",\"-326,691.69\\n(6.8%)\",\"-264,674.66\\n(8.03%)\",\"-246,302.28\\n(7.72%)\"],[\"-500,500.32\\n(9.65%)\",\"-271,157.57\\n(6.8%)\",\"-243,897.83\\n(7.34%)\",\"-234,283.05\\n(6.02%)\",\"-212,247.72\\n(4.56%)\"],[\"-403,525.34\\n(11.2%)\",\"-246,272.31\\n(6.25%)\",\"-188,358.6\\n(5.48%)\",\"-178,399.17\\n(4.4%)\",\"-154,628.88\\n(3.01%)\"]],\"texttemplate\":\"%{text}\"}],\"layout\":{\"template\":{\"data\":{\"histogram2dcontour\":[{\"type\":\"histogram2dcontour\",\"colorbar\":{\"outlinewidth\":0,\"ticks\":\"\"},\"colorscale\":[[0.0,\"#0d0887\"],[0.1111111111111111,\"#46039f\"],[0.2222222222222222,\"#7201a8\"],[0.3333333333333333,\"#9c179e\"],[0.4444444444444444,\"#bd3786\"],[0.5555555555555556,\"#d8576b\"],[0.6666666666666666,\"#ed7953\"],[0.7777777777777778,\"#fb9f3a\"],[0.8888888888888888,\"#fdca26\"],[1.0,\"#f0f921\"]]}],\"choropleth\":[{\"type\":\"choropleth\",\"colorbar\":{\"outlinewidth\":0,\"ticks\":\"\"}}],\"histogram2d\":[{\"type\":\"histogram2d\",\"colorbar\":{\"outlinewidth\":0,\"ticks\":\"\"},\"colorscale\":[[0.0,\"#0d0887\"],[0.1111111111111111,\"#46039f\"],[0.2222222222222222,\"#7201a8\"],[0.3333333333333333,\"#9c179e\"],[0.4444444444444444,\"#bd3786\"],[0.5555555555555556,\"#d8576b\"],[0.6666666666666666,\"#ed7953\"],[0.7777777777777778,\"#fb9f3a\"],[0.8888888888888888,\"#fdca26\"],[1.0,\"#f0f921\"]]}],\"heatmap\":[{\"type\":\"heatmap\",\"colorbar\":{\"outlinewidth\":0,\"ticks\":\"\"},\"colorscale\":[[0.0,\"#0d0887\"],[0.1111111111111111,\"#46039f\"],[0.2222222222222222,\"#7201a8\"],[0.3333333333333333,\"#9c179e\"],[0.4444444444444444,\"#bd3786\"],[0.5555555555555556,\"#d8576b\"],[0.6666666666666666,\"#ed7953\"],[0.7777777777777778,\"#fb9f3a\"],[0.8888888888888888,\"#fdca26\"],[1.0,\"#f0f921\"]]}],\"heatmapgl\":[{\"type\":\"heatmapgl\",\"colorbar\":{\"outlinewidth\":0,\"ticks\":\"\"},\"colorscale\":[[0.0,\"#0d0887\"],[0.1111111111111111,\"#46039f\"],[0.2222222222222222,\"#7201a8\"],[0.3333333333333333,\"#9c179e\"],[0.4444444444444444,\"#bd3786\"],[0.5555555555555556,\"#d8576b\"],[0.6666666666666666,\"#ed7953\"],[0.7777777777777778,\"#fb9f3a\"],[0.8888888888888888,\"#fdca26\"],[1.0,\"#f0f921\"]]}],\"contourcarpet\":[{\"type\":\"contourcarpet\",\"colorbar\":{\"outlinewidth\":0,\"ticks\":\"\"}}],\"contour\":[{\"type\":\"contour\",\"colorbar\":{\"outlinewidth\":0,\"ticks\":\"\"},\"colorscale\":[[0.0,\"#0d0887\"],[0.1111111111111111,\"#46039f\"],[0.2222222222222222,\"#7201a8\"],[0.3333333333333333,\"#9c179e\"],[0.4444444444444444,\"#bd3786\"],[0.5555555555555556,\"#d8576b\"],[0.6666666666666666,\"#ed7953\"],[0.7777777777777778,\"#fb9f3a\"],[0.8888888888888888,\"#fdca26\"],[1.0,\"#f0f921\"]]}],\"surface\":[{\"type\":\"surface\",\"colorbar\":{\"outlinewidth\":0,\"ticks\":\"\"},\"colorscale\":[[0.0,\"#0d0887\"],[0.1111111111111111,\"#46039f\"],[0.2222222222222222,\"#7201a8\"],[0.3333333333333333,\"#9c179e\"],[0.4444444444444444,\"#bd3786\"],[0.5555555555555556,\"#d8576b\"],[0.6666666666666666,\"#ed7953\"],[0.7777777777777778,\"#fb9f3a\"],[0.8888888888888888,\"#fdca26\"],[1.0,\"#f0f921\"]]}],\"mesh3d\":[{\"type\":\"mesh3d\",\"colorbar\":{\"outlinewidth\":0,\"ticks\":\"\"}}],\"scatter\":[{\"fillpattern\":{\"fillmode\":\"overlay\",\"size\":10,\"solidity\":0.2},\"type\":\"scatter\"}],\"parcoords\":[{\"type\":\"parcoords\",\"line\":{\"colorbar\":{\"outlinewidth\":0,\"ticks\":\"\"}}}],\"scatterpolargl\":[{\"type\":\"scatterpolargl\",\"marker\":{\"colorbar\":{\"outlinewidth\":0,\"ticks\":\"\"}}}],\"bar\":[{\"error_x\":{\"color\":\"#2a3f5f\"},\"error_y\":{\"color\":\"#2a3f5f\"},\"marker\":{\"line\":{\"color\":\"#E5ECF6\",\"width\":0.5},\"pattern\":{\"fillmode\":\"overlay\",\"size\":10,\"solidity\":0.2}},\"type\":\"bar\"}],\"scattergeo\":[{\"type\":\"scattergeo\",\"marker\":{\"colorbar\":{\"outlinewidth\":0,\"ticks\":\"\"}}}],\"scatterpolar\":[{\"type\":\"scatterpolar\",\"marker\":{\"colorbar\":{\"outlinewidth\":0,\"ticks\":\"\"}}}],\"histogram\":[{\"marker\":{\"pattern\":{\"fillmode\":\"overlay\",\"size\":10,\"solidity\":0.2}},\"type\":\"histogram\"}],\"scattergl\":[{\"type\":\"scattergl\",\"marker\":{\"colorbar\":{\"outlinewidth\":0,\"ticks\":\"\"}}}],\"scatter3d\":[{\"type\":\"scatter3d\",\"line\":{\"colorbar\":{\"outlinewidth\":0,\"ticks\":\"\"}},\"marker\":{\"colorbar\":{\"outlinewidth\":0,\"ticks\":\"\"}}}],\"scattermapbox\":[{\"type\":\"scattermapbox\",\"marker\":{\"colorbar\":{\"outlinewidth\":0,\"ticks\":\"\"}}}],\"scatterternary\":[{\"type\":\"scatterternary\",\"marker\":{\"colorbar\":{\"outlinewidth\":0,\"ticks\":\"\"}}}],\"scattercarpet\":[{\"type\":\"scattercarpet\",\"marker\":{\"colorbar\":{\"outlinewidth\":0,\"ticks\":\"\"}}}],\"carpet\":[{\"aaxis\":{\"endlinecolor\":\"#2a3f5f\",\"gridcolor\":\"white\",\"linecolor\":\"white\",\"minorgridcolor\":\"white\",\"startlinecolor\":\"#2a3f5f\"},\"baxis\":{\"endlinecolor\":\"#2a3f5f\",\"gridcolor\":\"white\",\"linecolor\":\"white\",\"minorgridcolor\":\"white\",\"startlinecolor\":\"#2a3f5f\"},\"type\":\"carpet\"}],\"table\":[{\"cells\":{\"fill\":{\"color\":\"#EBF0F8\"},\"line\":{\"color\":\"white\"}},\"header\":{\"fill\":{\"color\":\"#C8D4E3\"},\"line\":{\"color\":\"white\"}},\"type\":\"table\"}],\"barpolar\":[{\"marker\":{\"line\":{\"color\":\"#E5ECF6\",\"width\":0.5},\"pattern\":{\"fillmode\":\"overlay\",\"size\":10,\"solidity\":0.2}},\"type\":\"barpolar\"}],\"pie\":[{\"automargin\":true,\"type\":\"pie\"}]},\"layout\":{\"autotypenumbers\":\"strict\",\"colorway\":[\"#636efa\",\"#EF553B\",\"#00cc96\",\"#ab63fa\",\"#FFA15A\",\"#19d3f3\",\"#FF6692\",\"#B6E880\",\"#FF97FF\",\"#FECB52\"],\"font\":{\"color\":\"#2a3f5f\"},\"hovermode\":\"closest\",\"hoverlabel\":{\"align\":\"left\"},\"paper_bgcolor\":\"white\",\"plot_bgcolor\":\"#E5ECF6\",\"polar\":{\"bgcolor\":\"#E5ECF6\",\"angularaxis\":{\"gridcolor\":\"white\",\"linecolor\":\"white\",\"ticks\":\"\"},\"radialaxis\":{\"gridcolor\":\"white\",\"linecolor\":\"white\",\"ticks\":\"\"}},\"ternary\":{\"bgcolor\":\"#E5ECF6\",\"aaxis\":{\"gridcolor\":\"white\",\"linecolor\":\"white\",\"ticks\":\"\"},\"baxis\":{\"gridcolor\":\"white\",\"linecolor\":\"white\",\"ticks\":\"\"},\"caxis\":{\"gridcolor\":\"white\",\"linecolor\":\"white\",\"ticks\":\"\"}},\"coloraxis\":{\"colorbar\":{\"outlinewidth\":0,\"ticks\":\"\"}},\"colorscale\":{\"sequential\":[[0.0,\"#0d0887\"],[0.1111111111111111,\"#46039f\"],[0.2222222222222222,\"#7201a8\"],[0.3333333333333333,\"#9c179e\"],[0.4444444444444444,\"#bd3786\"],[0.5555555555555556,\"#d8576b\"],[0.6666666666666666,\"#ed7953\"],[0.7777777777777778,\"#fb9f3a\"],[0.8888888888888888,\"#fdca26\"],[1.0,\"#f0f921\"]],\"sequentialminus\":[[0.0,\"#0d0887\"],[0.1111111111111111,\"#46039f\"],[0.2222222222222222,\"#7201a8\"],[0.3333333333333333,\"#9c179e\"],[0.4444444444444444,\"#bd3786\"],[0.5555555555555556,\"#d8576b\"],[0.6666666666666666,\"#ed7953\"],[0.7777777777777778,\"#fb9f3a\"],[0.8888888888888888,\"#fdca26\"],[1.0,\"#f0f921\"]],\"diverging\":[[0,\"#8e0152\"],[0.1,\"#c51b7d\"],[0.2,\"#de77ae\"],[0.3,\"#f1b6da\"],[0.4,\"#fde0ef\"],[0.5,\"#f7f7f7\"],[0.6,\"#e6f5d0\"],[0.7,\"#b8e186\"],[0.8,\"#7fbc41\"],[0.9,\"#4d9221\"],[1,\"#276419\"]]},\"xaxis\":{\"gridcolor\":\"white\",\"linecolor\":\"white\",\"ticks\":\"\",\"title\":{\"standoff\":15},\"zerolinecolor\":\"white\",\"automargin\":true,\"zerolinewidth\":2},\"yaxis\":{\"gridcolor\":\"white\",\"linecolor\":\"white\",\"ticks\":\"\",\"title\":{\"standoff\":15},\"zerolinecolor\":\"white\",\"automargin\":true,\"zerolinewidth\":2},\"scene\":{\"xaxis\":{\"backgroundcolor\":\"#E5ECF6\",\"gridcolor\":\"white\",\"linecolor\":\"white\",\"showbackground\":true,\"ticks\":\"\",\"zerolinecolor\":\"white\",\"gridwidth\":2},\"yaxis\":{\"backgroundcolor\":\"#E5ECF6\",\"gridcolor\":\"white\",\"linecolor\":\"white\",\"showbackground\":true,\"ticks\":\"\",\"zerolinecolor\":\"white\",\"gridwidth\":2},\"zaxis\":{\"backgroundcolor\":\"#E5ECF6\",\"gridcolor\":\"white\",\"linecolor\":\"white\",\"showbackground\":true,\"ticks\":\"\",\"zerolinecolor\":\"white\",\"gridwidth\":2}},\"shapedefaults\":{\"line\":{\"color\":\"#2a3f5f\"}},\"annotationdefaults\":{\"arrowcolor\":\"#2a3f5f\",\"arrowhead\":0,\"arrowwidth\":1},\"geo\":{\"bgcolor\":\"white\",\"landcolor\":\"#E5ECF6\",\"subunitcolor\":\"white\",\"showland\":true,\"showlakes\":true,\"lakecolor\":\"white\"},\"title\":{\"x\":0.05},\"mapbox\":{\"style\":\"light\"}}},\"xaxis\":{\"anchor\":\"y\",\"domain\":[0.0,1.0],\"scaleanchor\":\"y\",\"constrain\":\"domain\",\"title\":{\"text\":\"vehicle_year\"},\"showgrid\":false},\"yaxis\":{\"anchor\":\"x\",\"domain\":[0.0,1.0],\"autorange\":\"reversed\",\"constrain\":\"domain\",\"title\":{\"text\":\"max_power_output\"},\"showgrid\":false},\"coloraxis\":{\"colorbar\":{\"title\":{\"text\":\"Neg RMSE Score\"}},\"colorscale\":[[0.0,\"rgb(165,0,38)\"],[0.1,\"rgb(215,48,39)\"],[0.2,\"rgb(244,109,67)\"],[0.3,\"rgb(253,174,97)\"],[0.4,\"rgb(254,224,139)\"],[0.5,\"rgb(255,255,191)\"],[0.6,\"rgb(217,239,139)\"],[0.7,\"rgb(166,217,106)\"],[0.8,\"rgb(102,189,99)\"],[0.9,\"rgb(26,152,80)\"],[1.0,\"rgb(0,104,55)\"]]},\"margin\":{\"t\":60},\"title\":{\"text\":\"Neg RMSE Score (percent of data)\"},\"height\":600}}",
              "type": "plotly"
             },
             {
              "payload": "Check ran on 1295 data samples. Neg RMSE Score on the full data set is -432,125.18.",
              "type": "html"
             }
            ]
           },
           "type": "displaymap"
          }
         ],
         "header": "Weak Segments Performance - Test Dataset",
         "type": "CheckResult",
         "value": {
          "avg_score": {
           "dtype": "float64",
           "value": -432125.182
          },
          "weak_segments_list": {
           "comp": true,
           "meta": {
            "column_level_names": [
             null
            ],
            "dtypes": {
             "% of Data": "float64",
             "Feature1": "object",
             "Feature1 Range": "object",
             "Feature2": "object",
             "Feature2 Range": "object",
             "Neg RMSE Score": "float64",
             "Samples in Segment": "object"
            },
            "header": [
             0
            ],
            "index": "{\"py/object\": \"pandas.core.indexes.numeric.Int64Index\", \"values\": \"[0, 1, 2, 3, 4, 7, 9, 13, 14, 18, 19, 20, 21, 22, 23, 24, 25, 26, 27]\", \"txt\": true, \"meta\": {\"dtype\": \"int64\", \"name\": null}}"
           },
           "txt": false,
           "values": "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"
          }
         }
        },
        {
         "check": {
          "name": "Regression Error Distribution",
          "params": {
           "n_bins": 40,
           "n_samples": 1000000,
           "n_top_samples": 3,
           "random_state": 42
          },
          "summary": "Check for systematic error and abnormal shape in the regression error distribution. <a href=\"https://docs.deepchecks.com/0.17/tabular/auto_checks/model_evaluation/plot_regression_error_distribution.html?utm_source=display_output&utm_medium=referral&utm_campaign=check_link\" target=\"_blank\">Read More...</a>"
         },
         "conditions_results": [
          {
           "Condition": "Systematic error ratio lower than 0.01",
           "More Info": "Found systematic error to rmse ratio of 0.86",
           "Status": "FAIL"
          },
          {
           "Condition": "Kurtosis value higher than -0.1",
           "More Info": "Found kurtosis value of -0.35291",
           "Status": "WARN"
          }
         ],
         "display": [
          {
           "payload": "{\"data\":[{\"alignmentgroup\":\"True\",\"bingroup\":\"x\",\"hovertemplate\":\"price prediction error=%{x}\\u003cbr\\u003ecount=%{y}\\u003cextra\\u003e\\u003c\\u002fextra\\u003e\",\"legendgroup\":\"\",\"marker\":{\"color\":\"#636efa\",\"pattern\":{\"shape\":\"\"}},\"name\":\"\",\"nbinsx\":40,\"offsetgroup\":\"\",\"orientation\":\"v\",\"showlegend\":false,\"x\":[-54961.63979113125,-664960.6397911313,-374960.63979113125,-324960.63979113125,45038.36020886875,-174072.855497609,-534960.6397911313,-679072.855497609,-324960.63979113125,-79072.85549760901,-529072.855497609,-719960.6397911313,-199072.855497609,-674960.6397911313,-699072.855497609,-499072.855497609,-329072.855497609,-629072.855497609,-363960.63979113125,-399960.63979113125,-464961.63979113125,-374960.63979113125,-475960.63979113125,-309960.63979113125,-559072.855497609,-359960.63979113125,155039.36020886875,-529072.855497609,-524960.6397911313,-544960.6397911313,-454960.63979113125,-499960.63979113125,-579960.6397911313,-519072.855497609,-374960.63979113125,25039.360208868748,-275960.63979113125,-423960.63979113125,-659072.855497609,-116895.72355320968,-125960.63979113125,-156895.72355320968,-284960.63979113125,-240583.1597686658,-614960.6397911313,-116895.72355320968,-399960.63979113125,-79072.85549760901,-674960.6397911313,-564960.6397911313,-174960.63979113125,-459960.63979113125,-454072.855497609,-434960.63979113125,-214960.63979113125,-374960.63979113125,-524960.6397911313,-474960.63979113125,-624960.6397911313,-499072.855497609,-653960.6397911313,-399960.63979113125,-154960.63979113125,-659072.855497609,-559960.6397911313,-16895.723553209682,-479072.855497609,-424960.63979113125,-389072.855497609,175039.36020886875,-749960.6397911313,-379072.855497609,-474960.63979113125,115039.36020886875,-224960.63979113125,-574960.6397911313,-514960.63979113125,-179072.855497609,-669072.855497609,-599072.855497609,-514960.63979113125,-374960.63979113125,-369073.855497609,-564960.6397911313,-329072.855497609,-724960.6397911313,-309960.63979113125,-366895.7235532097,-504960.63979113125,-79072.85549760901,15039.360208868748,-551073.855497609,-266895.7235532097,-539072.855497609,-224960.63979113125,-66895.72355320968,-324960.63979113125,-449072.855497609,-174960.63979113125,-545960.6397911313,-374960.63979113125,-579072.855497609,-524073.855497609,-499072.855497609,-194960.63979113125,-29072.85549760901,-524960.6397911313,305039.36020886875,-41895.72355320968,-599960.6397911313,-674960.6397911313,-674960.6397911313,-554072.855497609,-649072.855497609,-669072.855497609,-639960.6397911313,-529072.855497609,-674960.6397911313,-654960.6397911313,-474960.63979113125,100039.36020886875,-371960.63979113125,-249960.63979113125,-99960.63979113125,-274960.63979113125,-424960.63979113125,-379072.855497609,175039.36020886875,-514072.855497609,-324960.63979113125,-524960.6397911313,-649072.855497609,-379072.855497609,-279960.63979113125,-124960.63979113125,-429072.855497609,-174960.63979113125,333104.2764467903,-279072.855497609,-424960.63979113125,-329960.63979113125,-664960.6397911313,-449072.855497609,-653072.855497609,-375960.63979113125,-348960.63979113125,-174960.63979113125,-474960.63979113125,-599072.855497609,-116895.72355320968,-549073.855497609,-324960.63979113125,-607960.6397911313,-563960.6397911313,-663073.855497609,-524960.6397911313,50039.36020886875,-429072.855497609,-574960.6397911313,-429072.855497609,-224960.63979113125,150927.144502391,70927.14450239099,-794960.6397911313,-30583.15976866579,-649960.6397911313,-654960.6397911313,-609072.855497609,-609072.855497609,-779960.6397911313,-19797.416854176787,-472072.855497609,-649072.855497609,-449960.63979113125,-674960.6397911313,-259072.855497609,-285960.63979113125,-41895.72355320968,-340583.1597686658,-364961.63979113125,-629072.855497609,-74960.63979113125,-544072.855497609,-554960.6397911313,-229072.855497609,-399960.63979113125,-285583.1597686658,-524960.6397911313,-599072.855497609,-384960.63979113125,-629072.855497609,-214960.63979113125,-504960.63979113125,-224960.63979113125,-429072.855497609,-389961.63979113125,-644072.855497609,-579072.855497609,133104.27644679032,-324960.63979113125,-424960.63979113125,-99960.63979113125,-279072.855497609,-699960.6397911313,-524960.6397911313,-174960.63979113125,-364961.63979113125,-479072.855497609,-274960.63979113125,-334960.63979113125,-274960.63979113125,-379072.855497609,-359960.63979113125,-624960.6397911313,-679960.6397911313,-529072.855497609,-594072.855497609,-479072.855497609,-449072.855497609,-164960.63979113125,-229072.855497609,-599960.6397911313,-529072.855497609,-269583.1597686658,-539072.855497609,-26895.723553209682,-239072.855497609,-774960.6397911313,-649960.6397911313,-624960.6397911313,-423960.63979113125,-259960.63979113125,-394960.63979113125,-709960.6397911313,-121895.72355320968,-166895.72355320968,-184960.63979113125,-713072.855497609,-424960.63979113125,-649960.6397911313,-29072.85549760901,-379072.855497609,75039.36020886875,-524960.6397911313,-654960.6397911313,-474960.63979113125,-734960.6397911313,-554072.855497609,-404072.855497609,-404960.63979113125,-599072.855497609,-624072.855497609,-479072.855497609,-439072.855497609,-316960.63979113125,-404072.855497609,-709960.6397911313,-524960.6397911313,-314072.855497609,-524960.6397911313,-564960.6397911313,-153960.63979113125,-297960.63979113125,-539072.855497609,-654072.855497609,-204072.855497609,-249960.63979113125,-664073.855497609,-599072.855497609,-359072.855497609,-324960.63979113125,-174960.63979113125,-299960.63979113125,-581072.855497609,-389961.63979113125,-574073.855497609,-19072.85549760901,-604072.855497609,33104.27644679032,-609072.855497609,-134960.63979113125,-599072.855497609,-274960.63979113125,-674960.6397911313,-524960.6397911313,-344960.63979113125,-204960.63979113125,-429072.855497609,-289960.63979113125,-394960.63979113125,-254072.855497609,-208960.63979113125,-316895.7235532097,-499960.63979113125,-184960.63979113125,-359072.855497609,-449960.63979113125,-574960.6397911313,-424960.63979113125,-116895.72355320968,-209072.855497609,20927.14450239099,-674960.6397911313,-404960.63979113125,-164960.63979113125,-339072.855497609,-384960.63979113125,-499960.63979113125,-24960.639791131252,-399960.63979113125,-429960.63979113125,-634960.6397911313,-329072.855497609,-479072.855497609,-529072.855497609,-399072.855497609,-574960.6397911313,65039.36020886875,-314960.63979113125,-274960.63979113125,-659072.855497609,39.36020886874758,-434960.63979113125,-454960.63979113125,-329072.855497609,95103.27644679032,-674960.6397911313,-324960.63979113125,-404072.855497609,-674960.6397911313,-799960.6397911313,-629072.855497609,-694960.6397911313,-314960.63979113125,-254960.63979113125,-479072.855497609,-519072.855497609,-359072.855497609,50039.36020886875,319416.8402313342,-364961.63979113125,-554960.6397911313,-296895.7235532097,-599960.6397911313,-579072.855497609,-269073.855497609,-694072.855497609,-239072.855497609,-629072.855497609,-574960.6397911313,-129960.63979113125,-599960.6397911313,-224960.63979113125,-329072.855497609,-121895.72355320968,-604960.6397911313,-659960.6397911313,-29072.85549760901,-630072.855497609,-249960.63979113125,-294960.63979113125,-194960.63979113125,-429072.855497609,-534960.6397911313,325039.36020886875,-664073.855497609,-554960.6397911313,-595960.6397911313,-424960.63979113125,-309960.63979113125,-499072.855497609,-149960.63979113125,-66895.72355320968,-659960.6397911313,-324960.63979113125,20927.14450239099,-166895.72355320968,-449960.63979113125,-274960.63979113125,-86895.72355320968,225039.36020886875,-344073.855497609,-239960.63979113125,-754960.6397911313,-424960.63979113125,-524960.6397911313,-784960.6397911313,-254960.63979113125,-344960.63979113125,-581072.855497609,-263960.63979113125,-529072.855497609,-559072.855497609,-399072.855497609,-409960.63979113125,125039.36020886875,-479960.63979113125,-694960.6397911313,-216895.72355320968,-241895.72355320968,-24960.639791131252,-624960.6397911313,-394960.63979113125,-594960.6397911313,-574960.6397911313,-690960.6397911313,-619072.855497609,45038.36020886875,-274960.63979113125,-424960.63979113125,-79960.63979113125,-364072.855497609,-304072.855497609,-174960.63979113125,-329072.855497609,10039.360208868748,-254960.63979113125,-664960.6397911313,-129072.85549760901,-259072.855497609,-474960.63979113125,-414961.63979113125,-114960.63979113125,-224960.63979113125,-584960.6397911313,-464961.63979113125,-574073.855497609,-709960.6397911313,-527960.6397911313,175039.36020886875,-594960.6397911313,-349960.63979113125,-324960.63979113125,70927.14450239099,-144960.63979113125,-499960.63979113125,-133960.63979113125,-269073.855497609,-74960.63979113125,-191895.72355320968,-274960.63979113125,-219072.855497609,-604960.6397911313,-434960.63979113125,-574960.6397911313,-374960.63979113125,-131895.72355320968,-274960.63979113125,165039.36020886875,-589072.855497609,-266895.7235532097,-120960.63979113125,-424960.63979113125,-629072.855497609,-304960.63979113125,-49960.63979113125,-184960.63979113125,-589072.855497609,-764960.6397911313,-179072.855497609,-489072.855497609,-654072.855497609,-579072.855497609,-649960.6397911313,-739960.6397911313,-529072.855497609,-524960.6397911313,-79072.85549760901,-659960.6397911313,-479072.855497609,-29072.85549760901,-25960.639791131252,-474960.63979113125,-435961.63979113125,-249960.63979113125,-529960.6397911313,-454072.855497609,-669072.855497609,-279072.855497609,-594960.6397911313,-449072.855497609,-524960.6397911313,-774960.6397911313,-469072.855497609,-374960.63979113125,-631072.855497609,-489072.855497609,-116895.72355320968,-259072.855497609,-524960.6397911313,-429072.855497609,-244960.63979113125,-694960.6397911313,-499960.63979113125,-374960.63979113125,-579960.6397911313,-474960.63979113125,-524960.6397911313,-664960.6397911313,-623072.855497609,-574960.6397911313,-24960.639791131252,-584960.6397911313,-394960.63979113125,-529072.855497609,-559960.6397911313,-479960.63979113125,-374960.63979113125,-154072.855497609,-594072.855497609,-494072.855497609,-474960.63979113125,-124960.63979113125,-74960.63979113125,-224960.63979113125,-634960.6397911313,-624960.6397911313,-29072.85549760901,-429072.855497609,-579072.855497609,-474960.63979113125,-163960.63979113125,-184072.855497609,-569072.855497609,-754960.6397911313,-324960.63979113125,-219072.855497609,-549960.6397911313,-494072.855497609,-474960.63979113125,-79960.63979113125,-579072.855497609,-524960.6397911313,-66895.72355320968,12104.276446790318,-291895.7235532097,-24960.639791131252,75039.36020886875,-475960.63979113125,-274960.63979113125,-354960.63979113125,83104.27644679032,-374960.63979113125,-529072.855497609,-724072.855497609,-374960.63979113125,-274960.63979113125,-524960.6397911313,-554072.855497609,-504072.855497609,-174960.63979113125,-639960.6397911313,-594960.6397911313,-404072.855497609,-229072.855497609,-224960.63979113125,325039.36020886875,-81960.63979113125,-29072.85549760901,-224960.63979113125,-689960.6397911313,-29961.639791131252,-674960.6397911313,-624960.6397911313,-74960.63979113125,-16895.723553209682,-524960.6397911313,-509072.855497609,-604072.855497609,-569072.855497609,-504960.63979113125,-234960.63979113125,-304960.63979113125,-664960.6397911313,-684960.6397911313,-24960.639791131252,-24960.639791131252,-549073.855497609,-274960.63979113125,-524960.6397911313,-724960.6397911313,-285960.63979113125,-654960.6397911313,-434960.63979113125,-454072.855497609,-739960.6397911313,-29072.85549760901,-121895.72355320968,-279072.855497609,-419072.855497609,-649960.6397911313,-124960.63979113125,5039.360208868748,-733072.855497609,-63960.63979113125,125039.36020886875,-329072.855497609,-624960.6397911313,-424960.63979113125,-559072.855497609,-629072.855497609,-459072.855497609,-699960.6397911313,-569072.855497609,-574960.6397911313,-519072.855497609,-344073.855497609,-235895.72355320968,-589960.6397911313,-359960.63979113125,-559960.6397911313,-554960.6397911313,-324960.63979113125,-624072.855497609,-649960.6397911313,-654960.6397911313,-564960.6397911313,-174960.63979113125,-338072.855497609,-229072.855497609,-44960.63979113125,-459960.63979113125,-479072.855497609,85039.36020886875,-714960.6397911313,-379072.855497609,-659072.855497609,-479072.855497609,-166895.72355320968,-574960.6397911313,-649960.6397911313,-344960.63979113125,-759961.6397911313,-574960.6397911313,-174960.63979113125,-224960.63979113125,-505960.63979113125,-724960.6397911313,-524960.6397911313,-123960.63979113125,-129072.85549760901,-274960.63979113125,-424960.63979113125,-116895.72355320968,-524960.6397911313,-274960.63979113125,-714960.6397911313,-494960.63979113125,-668960.6397911313,-589072.855497609,-129960.63979113125,-189072.855497609,-184960.63979113125,-524960.6397911313,-584960.6397911313,-139960.63979113125,12104.276446790318,-554072.855497609,-704960.6397911313,-371960.63979113125,-464072.855497609,-714960.6397911313,-429072.855497609,12104.276446790318,-654072.855497609,-29072.85549760901,-134960.63979113125,63104.27644679032,-524960.6397911313,-523960.63979113125,-589072.855497609,-574960.6397911313,-399072.855497609,183104.27644679032,-420583.1597686658,-128960.63979113125,-284960.63979113125,-441895.7235532097,-214960.63979113125,-219960.63979113125,-414961.63979113125,-99960.63979113125,-74960.63979113125,-324960.63979113125,-479072.855497609,-474960.63979113125,-664960.6397911313,-124960.63979113125,-249960.63979113125,-174960.63979113125,-264960.63979113125,-324960.63979113125,-804960.6397911313,-564072.855497609,-424960.63979113125,-423960.63979113125,-584960.6397911313,-299960.63979113125,-399072.855497609,-714960.6397911313,-429072.855497609,-654960.6397911313,-394072.855497609,119416.84023133421,-554960.6397911313,-399960.63979113125,-224960.63979113125,-364961.63979113125,-249960.63979113125,-249960.63979113125,-129072.85549760901,-664073.855497609,-339960.63979113125,-764960.6397911313,-74960.63979113125,-489072.855497609,-668072.855497609,-644072.855497609,-379072.855497609,-249960.63979113125,-584960.6397911313,-116895.72355320968,-624960.6397911313,-724960.6397911313,-284072.855497609,20927.14450239099,-274960.63979113125,-63960.63979113125,-254960.63979113125,-534960.6397911313,-339072.855497609,-639072.855497609,-414072.855497609,-226895.72355320968,-204960.63979113125,-274960.63979113125,-329072.855497609,-179072.855497609,-523960.63979113125,-464961.63979113125,-558072.855497609,-409072.855497609,-574960.6397911313,50039.36020886875,-249960.63979113125,-694960.6397911313,-504072.855497609,-324960.63979113125,-464072.855497609,-629072.855497609,-44960.63979113125,-199072.855497609,-619072.855497609,75039.36020886875,-336895.7235532097,-394960.63979113125,-389961.63979113125,-394960.63979113125,-613960.6397911313,-459072.855497609,-479072.855497609,-549960.6397911313,-549960.6397911313,-24960.639791131252,-387960.63979113125,-384072.855497609,-24960.639791131252,-249072.855497609,-304960.63979113125,-116895.72355320968,-324960.63979113125,-624960.6397911313,-249960.63979113125,-574960.6397911313,-304072.855497609,-379072.855497609,-579072.855497609,-4961.639791131252,-304960.63979113125,-429960.63979113125,-604960.6397911313,-154960.63979113125,-274960.63979113125,-274960.63979113125,-424960.63979113125,-244960.63979113125,-560072.855497609,-649960.6397911313,-459072.855497609,-254072.855497609,-424960.63979113125,-304960.63979113125,-424960.63979113125,-479960.63979113125,-564960.6397911313,-574960.6397911313,-314960.63979113125,-324960.63979113125,-499072.855497609,-193960.63979113125,-179072.855497609,-74960.63979113125,-254960.63979113125,-454960.63979113125,33104.27644679032,-684960.6397911313,-724960.6397911313,-659072.855497609,-599960.6397911313,-314960.63979113125,-524960.6397911313,-121895.72355320968,-124960.63979113125,-554072.855497609,-166895.72355320968,-574960.6397911313,-129072.85549760901,-214960.63979113125,-599072.855497609,-274960.63979113125,-89072.85549760901,-523960.63979113125,-614072.855497609,150039.36020886875,-224072.855497609,-429072.855497609,-614072.855497609,16039.360208868748,-264960.63979113125,-714072.855497609,-504072.855497609,-454072.855497609,-329072.855497609,-624960.6397911313,-224960.63979113125,-294960.63979113125,125039.36020886875,-424072.855497609,-774960.6397911313,-99960.63979113125,-624960.6397911313,-599072.855497609,50039.36020886875,-274960.63979113125,-29072.85549760901,-549073.855497609,-439961.63979113125,50039.36020886875,-389961.63979113125,-229960.63979113125,-664073.855497609,-499072.855497609,-604960.6397911313,-479072.855497609,-424960.63979113125,-344073.855497609,-179072.855497609,-428072.855497609,-579960.6397911313,-366895.7235532097,-734072.855497609,-324960.63979113125,-391072.855497609,-66895.72355320968,-524073.855497609,-196960.63979113125,-119960.63979113125,-629072.855497609,-239072.855497609,-474960.63979113125,15203.583145823213,-414961.63979113125,-574960.6397911313,-49960.63979113125,-594072.855497609,-126895.72355320968,25039.360208868748,-669961.6397911313,-749960.6397911313,15039.360208868748,-324960.63979113125,-129072.85549760901,-324960.63979113125,-291895.7235532097,-674960.6397911313,-349072.855497609,-424960.63979113125,-624960.6397911313,-554072.855497609,-599960.6397911313,-554960.6397911313,-629960.6397911313,-454960.63979113125,-674960.6397911313,-274960.63979113125,-418961.63979113125,-644961.6397911313,-4072.855497609009,-274960.63979113125,-587960.6397911313,-599960.6397911313,-374960.63979113125,-174960.63979113125,-240583.1597686658,-166895.72355320968,-14960.639791131252,-354960.63979113125,-254960.63979113125,-629072.855497609,-129072.85549760901,-349960.63979113125,-199960.63979113125,-509072.855497609,-279072.855497609,-624960.6397911313,-624960.6397911313,-249960.63979113125,-592072.855497609,-604960.6397911313,-159960.63979113125,-544960.6397911313,-174960.63979113125,-584960.6397911313,-73960.63979113125,25039.360208868748,-479960.63979113125,-199960.63979113125,-274960.63979113125,-404072.855497609,-24960.639791131252,-564072.855497609,-149960.63979113125,-519960.63979113125,-439961.63979113125,-359072.855497609,-374960.63979113125,-359072.855497609,-629072.855497609,-174960.63979113125,-704960.6397911313,-244960.63979113125,-539072.855497609,-424960.63979113125,-669961.6397911313,-149960.63979113125,-779960.6397911313,-484960.63979113125,-474960.63979113125,-241895.72355320968,50039.36020886875,-374960.63979113125,-121895.72355320968,-279072.855497609,-579072.855497609,-649960.6397911313,75039.36020886875,-244960.63979113125,-619961.6397911313,-487960.63979113125,-124960.63979113125,-424960.63979113125,-754960.6397911313,-174960.63979113125,-459072.855497609,-624960.6397911313,-664960.6397911313,-419072.855497609,-599960.6397911313,-279072.855497609,-174960.63979113125,305039.36020886875,-174960.63979113125,-29072.85549760901,-204960.63979113125,-334072.855497609,-484960.63979113125,-629072.855497609,-639072.855497609,-259960.63979113125,-444960.63979113125,-424960.63979113125,-284960.63979113125,-714960.6397911313,-564960.6397911313,-659960.6397911313,-424960.63979113125,-274960.63979113125,-124960.63979113125,-204072.855497609,-449072.855497609,-524960.6397911313,175039.36020886875,-714960.6397911313,-424960.63979113125,-504960.63979113125,5039.360208868748,-569072.855497609,-544072.855497609,-594960.6397911313,-689072.855497609,-274960.63979113125,-199960.63979113125,-149960.63979113125,-507072.855497609,-424960.63979113125,-609072.855497609,-639960.6397911313,-174960.63979113125,-74960.63979113125,-254960.63979113125,-474960.63979113125,-309960.63979113125,-324960.63979113125,-624960.6397911313,-274960.63979113125,125039.36020886875,-30895.723553209682,20927.14450239099,-74960.63979113125,-344960.63979113125,-124960.63979113125,-324960.63979113125,-504960.63979113125,119927.14450239099,-459072.855497609,20038.360208868748,-732960.6397911313,-624960.6397911313,-574960.6397911313,-384072.855497609,-529072.855497609,-482960.63979113125,-174960.63979113125,-379072.855497609,-74960.63979113125,-447961.63979113125,175039.36020886875,-270584.1597686658,-614072.855497609,-524960.6397911313,-569072.855497609,-371960.63979113125,-674960.6397911313,-449072.855497609,-636960.6397911313,75039.36020886875,-320583.1597686658,-558960.6397911313,-619072.855497609,-557960.6397911313,-129072.85549760901,-419960.63979113125,-134960.63979113125,-429072.855497609,-634960.6397911313,-539960.6397911313,-658072.855497609,-407072.855497609,-179072.855497609,-266895.7235532097,-419960.63979113125,-269073.855497609,-359960.63979113125,-474960.63979113125,-154072.855497609,-224960.63979113125,35039.36020886875,-594960.6397911313,-597960.6397911313,-479072.855497609,25039.360208868748,-609072.855497609,-479960.63979113125,-744960.6397911313,-169072.855497609,-324960.63979113125,-574960.6397911313,-44960.63979113125,-649072.855497609,-624960.6397911313,25039.360208868748,-139072.855497609,-524960.6397911313,-64960.63979113125,-479072.855497609,-705960.6397911313,-614960.6397911313,-574960.6397911313,-719072.855497609,-304960.63979113125,-524960.6397911313,-179072.855497609,-324960.63979113125,-594960.6397911313,-514960.63979113125,-454960.63979113125,-94960.63979113125,313104.2764467903,-324960.63979113125,-629072.855497609,-529072.855497609,-224072.855497609,75039.36020886875,-529072.855497609,-671961.6397911313,-204960.63979113125,-509072.855497609,-249960.63979113125,-649960.6397911313,-231960.63979113125,-429072.855497609,-120960.63979113125,-149960.63979113125,-474960.63979113125,-424960.63979113125,-374960.63979113125,-349072.855497609,-319073.855497609,-609072.855497609,-129072.85549760901,-24960.639791131252,-414961.63979113125,175039.36020886875,-249960.63979113125,-416895.7235532097,-574960.6397911313,75039.36020886875,-619072.855497609,-619072.855497609,-224960.63979113125,-414072.855497609,-124960.63979113125,-134960.63979113125,-224960.63979113125,-575960.6397911313,-334072.855497609,-404960.63979113125,-479072.855497609,-424960.63979113125,-599072.855497609,-579960.6397911313,-639960.6397911313,-619961.6397911313,-839960.6397911313,-329072.855497609,-334960.63979113125,-180583.1597686658,-649960.6397911313,-254960.63979113125,-312960.63979113125,-539960.6397911313,-324960.63979113125,-474960.63979113125,-534960.6397911313,-224960.63979113125,-444960.63979113125,-724960.6397911313,-189072.855497609,-529072.855497609,-244072.855497609,-124960.63979113125,-499960.63979113125,-334960.63979113125,-121895.72355320968,-584960.6397911313,-634960.6397911313,-224960.63979113125,-594960.6397911313,-104072.85549760901,-454072.855497609,-644961.6397911313,-499072.855497609,-124960.63979113125,-714960.6397911313,-474960.63979113125,-624960.6397911313,-494072.855497609,-374960.63979113125,-504960.63979113125,-574960.6397911313,-130583.15976866579,-280583.1597686658,-499072.855497609,-399960.63979113125,-579072.855497609,-166895.72355320968,-444960.63979113125,-474960.63979113125,-329072.855497609,-166895.72355320968,-229960.63979113125,-374960.63979113125,145103.27644679032,-74960.63979113125,-629072.855497609,-529072.855497609,-229072.855497609,-299960.63979113125,-404960.63979113125,-649072.855497609,-254072.855497609,-324960.63979113125,-339072.855497609,-574960.6397911313,-524960.6397911313,-699960.6397911313,-554072.855497609,-614960.6397911313,-374960.63979113125,-659072.855497609,-374960.63979113125,-704960.6397911313,-395960.63979113125,-444072.855497609,-474960.63979113125,-159072.855497609,-509072.855497609,-463960.63979113125,25039.360208868748,-704960.6397911313,-559072.855497609,-594960.6397911313,-585583.1597686658,-549073.855497609,-454960.63979113125,-694960.6397911313,-234072.855497609,-479072.855497609,-389961.63979113125,-549960.6397911313,-764960.6397911313,-719072.855497609,-524960.6397911313,-454072.855497609,12104.276446790318,-379072.855497609,-134960.63979113125,-524960.6397911313,-129072.85549760901,-574960.6397911313,-660072.855497609,-274960.63979113125,-214960.63979113125,-194960.63979113125,-371960.63979113125,-379960.63979113125,-469072.855497609,-604960.6397911313,-274960.63979113125,-363960.63979113125,-469072.855497609,-639960.6397911313,-68895.72355320968,-624960.6397911313,-284960.63979113125,-424960.63979113125,-534960.6397911313,-429072.855497609,-579072.855497609,-204960.63979113125,-529072.855497609,-374960.63979113125,-519960.63979113125,-674960.6397911313,-299960.63979113125,-479072.855497609,-644072.855497609,-54072.85549760901,-574960.6397911313,-209072.855497609,-739960.6397911313,-254072.855497609,-524960.6397911313,-674960.6397911313,-664073.855497609,-324960.63979113125,-129072.85549760901,-354072.855497609,-664960.6397911313,-404072.855497609,-374960.63979113125,-229072.855497609,-654960.6397911313,-499960.63979113125,-638072.855497609,-574960.6397911313,-501072.855497609,-334960.63979113125,-339960.63979113125,-459072.855497609,-441895.7235532097,-424960.63979113125,-152960.63979113125,169416.8402313342,-554960.6397911313,-404960.63979113125,-294960.63979113125,-464072.855497609,-504960.63979113125,-374960.63979113125,-659072.855497609,-479072.855497609,225039.36020886875,-374960.63979113125,-528073.855497609,-174960.63979113125,-324960.63979113125,-374960.63979113125,102039.36020886875,-624960.6397911313,-74960.63979113125,-484960.63979113125,-694960.6397911313,-174960.63979113125,-504072.855497609,-229072.855497609,-679072.855497609,-29072.85549760901,-74960.63979113125,-149960.63979113125,-24960.639791131252,-59072.85549760901,-529072.855497609,-674960.6397911313,-684072.855497609,-24960.639791131252,-384960.63979113125,12104.276446790318,-479072.855497609,-74960.63979113125,33104.27644679032,-369073.855497609,-380072.855497609,-654072.855497609,-424960.63979113125,-116895.72355320968,-354072.855497609,-229072.855497609,-324960.63979113125,-499960.63979113125,-529072.855497609,-279960.63979113125,-204960.63979113125,-429072.855497609,-259960.63979113125,-589960.6397911313,-24960.639791131252,-224960.63979113125,-229072.855497609,-544072.855497609,200039.36020886875,-584072.855497609,-449072.855497609,-614072.855497609,-174960.63979113125,-164960.63979113125,-139960.63979113125,17039.360208868748,-224960.63979113125,-224960.63979113125,-574960.6397911313,45927.14450239099,-439072.855497609,-570072.855497609,-523960.63979113125,-166895.72355320968,-263960.63979113125,-414961.63979113125,-484960.63979113125,-224960.63979113125,-294960.63979113125,-134960.63979113125,-774960.6397911313,-564960.6397911313,-24960.639791131252,-639072.855497609,-174960.63979113125,-349960.63979113125,-719072.855497609,-514072.855497609,-324960.63979113125,-166895.72355320968,-244072.855497609,-679072.855497609,-639072.855497609,-494960.63979113125,-479072.855497609,-94960.63979113125,-554960.6397911313,5039.360208868748,-529072.855497609,-329072.855497609,-459072.855497609,-389961.63979113125,-66895.72355320968,-324960.63979113125,-499960.63979113125,-474960.63979113125,-459960.63979113125,-664073.855497609,-554072.855497609,125039.36020886875,-619072.855497609,-464961.63979113125,-644961.6397911313,-564960.6397911313,-549960.6397911313,-229072.855497609,-429072.855497609,-624960.6397911313,-393072.855497609,-229072.855497609,-24960.639791131252,183104.27644679032,-189960.63979113125,-580072.855497609,-684960.6397911313,-241895.72355320968,-299960.63979113125,-274960.63979113125,-319073.855497609,-494960.63979113125,-279072.855497609,-121895.72355320968,-619072.855497609,-649960.6397911313,-604960.6397911313,-324960.63979113125,-569072.855497609,-649960.6397911313,-574960.6397911313,-264072.855497609,-654072.855497609,-344960.63979113125,-29072.85549760901,-449072.855497609,-119072.85549760901,-584072.855497609,-654960.6397911313,-774960.6397911313,-166895.72355320968,-524960.6397911313,-474960.63979113125,-589072.855497609,-574960.6397911313,-524960.6397911313,-29072.85549760901,-639072.855497609,-199072.855497609,-549073.855497609,-349960.63979113125,-304072.855497609,325039.36020886875,-224960.63979113125,-194960.63979113125,-404960.63979113125,-674960.6397911313,-279072.855497609,-358072.855497609,-594960.6397911313,-24960.639791131252,-274960.63979113125,-439072.855497609,-374960.63979113125,-359072.855497609,-424960.63979113125,-371960.63979113125,-52960.63979113125,-359072.855497609,-350583.1597686658,-369073.855497609,-494072.855497609,-634960.6397911313,-337960.63979113125,-684072.855497609,-624960.6397911313,-159960.63979113125,-744960.6397911313,-539960.6397911313,-416895.7235532097,-349072.855497609,-274960.63979113125,-174960.63979113125,-639960.6397911313,-204960.63979113125,-419072.855497609,50039.36020886875,-449960.63979113125,-657960.6397911313,-554960.6397911313,-199072.855497609,-224960.63979113125,-174960.63979113125,-151895.72355320968,-474072.855497609,-279072.855497609,-201895.72355320968,-324960.63979113125,-249072.855497609,-579072.855497609,-429072.855497609,-599072.855497609,-249072.855497609,-569072.855497609,-459960.63979113125,-529960.6397911313,-374960.63979113125,-524960.6397911313,-739960.6397911313,-174960.63979113125,-274960.63979113125,-294960.63979113125,75039.36020886875,-134960.63979113125,-274960.63979113125,-599960.6397911313,-554072.855497609,-389961.63979113125,-469960.63979113125,-299960.63979113125,-634960.6397911313,-359072.855497609,-422961.63979113125,364203.5831458232,95927.14450239099,-166895.72355320968,-479072.855497609,-289072.855497609,-346895.7235532097,-649960.6397911313,-504960.63979113125,-199960.63979113125,25039.360208868748,-689960.6397911313,-724960.6397911313,-629072.855497609,-55583.15976866579,-344960.63979113125,-399960.63979113125,-314960.63979113125,-469072.855497609,70927.14450239099,219416.8402313342,-628960.6397911313,-29072.85549760901,-349960.63979113125,-581072.855497609,-614072.855497609,25039.360208868748,-564072.855497609,-394960.63979113125,-523072.855497609,-54961.63979113125,-527960.6397911313,-424960.63979113125,-344960.63979113125,-174960.63979113125,-569072.855497609,-379072.855497609,-29072.85549760901,-94960.63979113125,-371960.63979113125,-279072.855497609,-174960.63979113125,-499960.63979113125,-774960.6397911313,-561960.6397911313,-489072.855497609,-639072.855497609,-624960.6397911313,-524960.6397911313,-149960.63979113125,-724960.6397911313,-644072.855497609,-599960.6397911313,-374960.63979113125,-474960.63979113125,15203.583145823213,-414961.63979113125,-179072.855497609,-429072.855497609,33104.27644679032,-224960.63979113125,-709960.6397911313,-224960.63979113125,-399960.63979113125,14039.360208868748,-46895.72355320968,-479072.855497609,-584960.6397911313,-429072.855497609,-324960.63979113125,-599072.855497609,-279072.855497609,-614960.6397911313,-114960.63979113125,-229072.855497609,-166895.72355320968,-384960.63979113125,-124960.63979113125,-389961.63979113125,-329072.855497609,-464961.63979113125,-429072.855497609,-494960.63979113125,-224072.855497609,-519072.855497609,-219072.855497609,-702960.6397911313,-121895.72355320968,-174960.63979113125,-84960.63979113125,-694960.6397911313,-589960.6397911313,-534960.6397911313,-154072.855497609,-149960.63979113125,-134960.63979113125,-374960.63979113125,75039.36020886875,-634960.6397911313,-529072.855497609,-654072.855497609,-364961.63979113125,-674072.855497609,-294960.63979113125,-199960.63979113125,-494960.63979113125,-649960.6397911313,-324960.63979113125,-699960.6397911313,-366895.7235532097,-124960.63979113125,-589072.855497609,25039.360208868748,-544960.6397911313,-629072.855497609,-784960.6397911313,-632960.6397911313,-574960.6397911313,-424960.63979113125,-349072.855497609,-699960.6397911313,-179072.855497609,-144960.63979113125,-274960.63979113125,-254072.855497609,-179072.855497609,-742960.6397911313,-424960.63979113125,183104.27644679032,-554072.855497609,-479072.855497609,-129960.63979113125,-184960.63979113125,-334072.855497609,-614960.6397911313,-356072.855497609,-439072.855497609,-264960.63979113125,-714960.6397911313,-444960.63979113125,-529072.855497609,12104.276446790318,125039.36020886875,-422961.63979113125,-116895.72355320968,-404960.63979113125,-49960.63979113125,-379960.63979113125,-209072.855497609,-154960.63979113125,-349960.63979113125,-434072.855497609,-654960.6397911313,-125960.63979113125,-74960.63979113125,-449960.63979113125,-424960.63979113125,120927.14450239099,-24960.639791131252,-504960.63979113125,-454960.63979113125,-459072.855497609,-409960.63979113125,-639960.6397911313,-284960.63979113125,-589072.855497609,-329072.855497609,-549073.855497609,-324960.63979113125,-314960.63979113125,-274960.63979113125,-539072.855497609,-129072.85549760901,-164960.63979113125,-629072.855497609,-554960.6397911313,-453960.63979113125,-224960.63979113125,-264960.63979113125,-399072.855497609,-354072.855497609,-430583.1597686658,-689072.855497609,-724960.6397911313,-424960.63979113125,-512960.63979113125,-517960.63979113125,-274960.63979113125,-544960.6397911313,-704072.855497609,-579072.855497609,-524960.6397911313,-516895.7235532097,-94960.63979113125,-484960.63979113125,-374960.63979113125,-88960.63979113125,-454960.63979113125,-533072.855497609,275039.36020886875,-534960.6397911313,-514072.855497609,-734960.6397911313,-324960.63979113125,-389961.63979113125,-609960.6397911313,-429960.63979113125,-394960.63979113125,-249960.63979113125,-564960.6397911313,-604960.6397911313,-379072.855497609,-254072.855497609,-149960.63979113125,-389961.63979113125,100039.36020886875,-219960.63979113125,-89960.63979113125,-374960.63979113125,-394072.855497609,-479072.855497609,-594960.6397911313,-574960.6397911313,23104.276446790318,-483960.63979113125,-394960.63979113125,-394960.63979113125,50039.36020886875,-374960.63979113125,-574073.855497609,-141895.72355320968,-534960.6397911313,-249960.63979113125,-374960.63979113125,-719072.855497609,-509072.855497609,-324960.63979113125,-814960.6397911313,-389961.63979113125,-564960.6397911313,-394960.63979113125,-564072.855497609,-329072.855497609,12104.276446790318,-374960.63979113125,-379072.855497609,-199960.63979113125,-325072.855497609,-810960.6397911313,-494960.63979113125,-509072.855497609,-609072.855497609,-749960.6397911313,-564072.855497609,-604960.6397911313,-409960.63979113125,-163960.63979113125,169416.8402313342,-274960.63979113125,-224960.63979113125,-529072.855497609,-619072.855497609,-659072.855497609,-459072.855497609,-24960.639791131252,-249960.63979113125,-799433.6397911313,-144960.63979113125,-419960.63979113125,-274960.63979113125,-279072.855497609,-574960.6397911313,-599072.855497609,-424960.63979113125,-209072.855497609,-266895.7235532097,-368072.855497609,-394960.63979113125,15039.360208868748,-599072.855497609,-429072.855497609,-254960.63979113125,-84960.63979113125,-166895.72355320968,-429072.855497609,-534072.855497609,-369073.855497609,-274960.63979113125,-374960.63979113125,-104072.85549760901,-373960.63979113125,-309072.855497609,-609960.6397911313,-559072.855497609,-264960.63979113125,5039.360208868748,-629072.855497609,-384960.63979113125,-574960.6397911313,-324960.63979113125,-624072.855497609,-469072.855497609,-124960.63979113125,-494960.63979113125,-519072.855497609,25039.360208868748,-129072.85549760901,-35960.63979113125,-599072.855497609,-714072.855497609,-689960.6397911313,-424960.63979113125,-614960.6397911313,-174960.63979113125,-74960.63979113125,-719072.855497609,-459960.63979113125,-524960.6397911313,-329072.855497609,-124960.63979113125,-649960.6397911313,-539960.6397911313,-234960.63979113125,-149072.855497609,-359072.855497609,-379072.855497609,-579072.855497609,-299072.855497609,-199960.63979113125,-460583.1597686658,-584960.6397911313,-574960.6397911313,-574960.6397911313,-554072.855497609,-181895.72355320968,-469072.855497609,-544072.855497609,-699072.855497609,-529072.855497609,-534960.6397911313,-594960.6397911313,-349960.63979113125,35039.36020886875,-574960.6397911313,-274960.63979113125,-9072.855497609009,-719960.6397911313,-724960.6397911313,258104.27644679032,-666073.855497609,-79960.63979113125,-649072.855497609,-369073.855497609,-829960.6397911313,-304960.63979113125,-179960.63979113125,-604960.6397911313,-14072.855497609009,-49960.63979113125,-199960.63979113125,-529072.855497609,170927.144502391,-479072.855497609,-764960.6397911313,-569072.855497609,-674960.6397911313,175039.36020886875,-4961.639791131252,-584960.6397911313,-709072.855497609,-324960.63979113125,-612960.6397911313,-116895.72355320968,-609960.6397911313,-554072.855497609,-644072.855497609,25039.360208868748,-374960.63979113125,-424960.63979113125,-732960.6397911313,-74960.63979113125,-589960.6397911313,-391895.7235532097,-114960.63979113125,-299072.855497609,-429072.855497609,-363960.63979113125,-549960.6397911313,-399072.855497609,-274960.63979113125,333104.2764467903,-254960.63979113125,-674960.6397911313,-584072.855497609,-794960.6397911313,-429072.855497609,-374960.63979113125,-629072.855497609,-63960.63979113125,-224960.63979113125,-174960.63979113125,-509072.855497609,-184960.63979113125,-434960.63979113125,-679072.855497609,-274960.63979113125,-504072.855497609,-116895.72355320968,-804960.6397911313,-494072.855497609,-509072.855497609,-81895.72355320968,-224960.63979113125,-677072.855497609,-224960.63979113125,-599072.855497609,-344073.855497609,-124960.63979113125,-529960.6397911313,-479072.855497609,-329072.855497609,-274960.63979113125,-74960.63979113125,-624960.6397911313,-609960.6397911313,25039.360208868748,-204960.63979113125,-424960.63979113125,10039.360208868748,-629960.6397911313,-424960.63979113125,-229072.855497609,-369073.855497609,-429072.855497609,325039.36020886875,-524960.6397911313,-499072.855497609,-374960.63979113125,-267895.7235532097,-174960.63979113125,-227583.1597686658,-659072.855497609,-579960.6397911313,-324960.63979113125,-295960.63979113125,-166895.72355320968,-184960.63979113125,-364961.63979113125,-224960.63979113125,-639072.855497609,-429072.855497609,-346895.7235532097,-130072.85549760901,-579072.855497609,-539960.6397911313,-74960.63979113125,-224960.63979113125,-74960.63979113125,-424960.63979113125,125039.36020886875,-644072.855497609,25039.360208868748,-674960.6397911313,-484960.63979113125,-144960.63979113125,-474960.63979113125,-604960.6397911313,-704960.6397911313,-429072.855497609,-124960.63979113125,-166895.72355320968,143104.27644679032,-116895.72355320968,-529072.855497609,-141895.72355320968,14039.360208868748,-349960.63979113125,-24960.639791131252,-584072.855497609,-574960.6397911313,-374960.63979113125,-484960.63979113125,-524960.6397911313,-224960.63979113125,12104.276446790318,-574960.6397911313,-389961.63979113125,-274960.63979113125,-159960.63979113125,-174960.63979113125,-621072.855497609,-419072.855497609,-63960.63979113125,-189072.855497609,-313072.855497609,-414961.63979113125,-574960.6397911313,-174960.63979113125,-424960.63979113125,-516960.63979113125,-379072.855497609,-474960.63979113125,-474960.63979113125,-574960.6397911313,-574960.6397911313,-149072.855497609,5039.360208868748,-24960.639791131252,-239072.855497609,-389072.855497609,25039.360208868748,-304960.63979113125,-274960.63979113125,-569960.6397911313,-684960.6397911313,-474960.63979113125,-324960.63979113125,-659072.855497609,-374960.63979113125,-529072.855497609,-364961.63979113125,-514960.63979113125,-179960.63979113125,125039.36020886875,-174960.63979113125,-704072.855497609,-216895.72355320968,-174960.63979113125,-370583.1597686658,-524960.6397911313,-359960.63979113125,-371960.63979113125,-49072.85549760901,-564960.6397911313,-166895.72355320968,-116895.72355320968,125039.36020886875,-614072.855497609,-479072.855497609,-459072.855497609,-719960.6397911313,-244960.63979113125,-299960.63979113125,-309960.63979113125,-214960.63979113125,-449960.63979113125,-594072.855497609,-274960.63979113125,-324960.63979113125,-241895.72355320968,-529072.855497609,-349072.855497609,-314960.63979113125,-166895.72355320968,-379072.855497609,-24960.639791131252,175039.36020886875,-141895.72355320968,50039.36020886875,-519960.63979113125,-399072.855497609,-474960.63979113125,-479072.855497609,-674960.6397911313,-639072.855497609,-664960.6397911313,-639960.6397911313,-639072.855497609,-214960.63979113125,-374960.63979113125,-689960.6397911313,-129072.85549760901,-174960.63979113125,-459960.63979113125,-424960.63979113125,-450072.855497609,-434072.855497609,-134960.63979113125,-141895.72355320968,-174960.63979113125,-450072.855497609,93104.27644679032,-579072.855497609,-674072.855497609,-179072.855497609,-30583.15976866579,-579072.855497609,-489960.63979113125,-529072.855497609,-584960.6397911313,-639072.855497609,-291895.7235532097,-371960.63979113125,-609072.855497609,-274960.63979113125,-394960.63979113125,-429072.855497609,-459960.63979113125,-634960.6397911313,-128072.85549760901,-529072.855497609,-424960.63979113125,-469072.855497609,-529072.855497609,-179960.63979113125,-99072.85549760901,-594960.6397911313,-474960.63979113125,-624960.6397911313,25039.360208868748,-23072.85549760901,-624960.6397911313,-464961.63979113125,183104.27644679032,283104.2764467903,-319073.855497609,-474960.63979113125,-359072.855497609,-404960.63979113125,-583072.855497609,75039.36020886875,-354072.855497609,-329072.855497609,-209072.855497609,-229072.855497609,-264960.63979113125,-574960.6397911313,-96895.72355320968,-225960.63979113125,-274960.63979113125,-374960.63979113125,-254960.63979113125,-14960.639791131252,-614960.6397911313,-424960.63979113125,-574960.6397911313,-574960.6397911313,-424960.63979113125,-179072.855497609,-324960.63979113125,-379072.855497609,-339960.63979113125,-724960.6397911313,-629072.855497609,-425960.63979113125,-474960.63979113125,-174960.63979113125,-209960.63979113125,-549960.6397911313,-524960.6397911313,-184960.63979113125,-379072.855497609,-84072.85549760901,-474960.63979113125,-564960.6397911313,-679072.855497609,-324960.63979113125,-614072.855497609,-614960.6397911313,-714960.6397911313,-189960.63979113125,-199960.63979113125,-124960.63979113125,-168072.855497609,-684072.855497609,-484960.63979113125,-79072.85549760901,-564960.6397911313,-429072.855497609,-424960.63979113125,-774960.6397911313,-429072.855497609,-649072.855497609,-206895.72355320968,-374960.63979113125,-424960.63979113125,-174960.63979113125,-674960.6397911313,-174960.63979113125,-134960.63979113125,-524960.6397911313,-94960.63979113125,-121895.72355320968,-174960.63979113125,-624960.6397911313,-589072.855497609,-134960.63979113125,-379072.855497609,-474960.63979113125,-799960.6397911313,-629960.6397911313,-166895.72355320968,-394072.855497609,-499072.855497609,-324960.63979113125,-734960.6397911313,-404960.63979113125,-374960.63979113125,-444960.63979113125,-649960.6397911313,-174960.63979113125,-374960.63979113125,-624960.6397911313,-309072.855497609,-594072.855497609,-409072.855497609,-564960.6397911313,-424960.63979113125,-554072.855497609,-354960.63979113125,-624960.6397911313,-609072.855497609,-429072.855497609,-409072.855497609,-549073.855497609,-524073.855497609,-344960.63979113125,-579072.855497609,-324960.63979113125,-549960.6397911313,-499072.855497609,-289072.855497609,-509072.855497609,-499960.63979113125,-754960.6397911313,-619072.855497609,-509072.855497609,-649960.6397911313,-684960.6397911313,-554960.6397911313,-659072.855497609,-74960.63979113125,-429072.855497609,-604960.6397911313,12104.276446790318,-264960.63979113125,175039.36020886875,-179072.855497609,-59072.85549760901,-554960.6397911313,-589072.855497609,-329072.855497609,-604960.6397911313,-679072.855497609,-249960.63979113125,235039.36020886875,-619072.855497609,-624960.6397911313,-389961.63979113125,-519072.855497609,-654960.6397911313,-16895.723553209682,-429960.63979113125,-599072.855497609,-239072.855497609,-174960.63979113125,-579960.6397911313,-121895.72355320968,-224960.63979113125,-424960.63979113125,-674960.6397911313,-419072.855497609,-629072.855497609,-674960.6397911313,-29072.85549760901,-574960.6397911313,-224960.63979113125,-674960.6397911313,-504072.855497609,-66895.72355320968,-649960.6397911313,-639072.855497609,-274960.63979113125,-154072.855497609,-479072.855497609,-224960.63979113125,-350960.63979113125,-449960.63979113125,-714960.6397911313,-209072.855497609,-284072.855497609,-564072.855497609,-324960.63979113125,-379072.855497609,75039.36020886875,-714960.6397911313,-379072.855497609,75039.36020886875,-124960.63979113125,-324960.63979113125,-359960.63979113125,-754960.6397911313,-558072.855497609,-579072.855497609,12104.276446790318,-279072.855497609,-429072.855497609,-554960.6397911313,-584072.855497609,-79072.85549760901,-609960.6397911313,-424960.63979113125,-374960.63979113125,73104.27644679032,-274960.63979113125,-174960.63979113125,-324960.63979113125,75039.36020886875,-179072.855497609,-609072.855497609,-474960.63979113125,-24960.639791131252,-74960.63979113125,-459072.855497609,-701072.855497609,-644072.855497609,-499072.855497609,-224960.63979113125,-399960.63979113125,-624960.6397911313,-199960.63979113125,-679072.855497609,-74960.63979113125,-574960.6397911313,-524960.6397911313,-439961.63979113125,-116895.72355320968,-589072.855497609,-24960.639791131252,-634960.6397911313,-669072.855497609,-599072.855497609,-269073.855497609,-599960.6397911313,-264960.63979113125,-579072.855497609,25039.360208868748,-179072.855497609,-166895.72355320968,-279960.63979113125,-774960.6397911313,-524960.6397911313,-304960.63979113125,-624960.6397911313,-166895.72355320968,-524073.855497609,-479072.855497609,-549960.6397911313,-719960.6397911313,235039.36020886875,-549960.6397911313,-429960.63979113125,-604960.6397911313,-124960.63979113125,-84960.63979113125,-678072.855497609,-254072.855497609,-499072.855497609,-70961.63979113125,-79072.85549760901,59039.36020886875,-274960.63979113125,-574960.6397911313,-619072.855497609,-524960.6397911313,-649960.6397911313,-574960.6397911313,-504960.63979113125,313104.2764467903,-724960.6397911313,-459072.855497609,-554072.855497609,-464072.855497609,-214072.855497609,-29072.85549760901,-274960.63979113125,-474960.63979113125,-334960.63979113125,-304960.63979113125,-124960.63979113125,-574960.6397911313,-419072.855497609,-699072.855497609,75039.36020886875,-444960.63979113125,-249960.63979113125,-129072.85549760901,-374960.63979113125,-644961.6397911313,-274960.63979113125,-354072.855497609,-164960.63979113125,-279072.855497609,-634960.6397911313,-549960.6397911313,-554960.6397911313,-454072.855497609,225039.36020886875,-574960.6397911313,-291895.7235532097,-614960.6397911313,-479072.855497609,-574960.6397911313,225039.36020886875,-424960.63979113125,-314960.63979113125,-192895.72355320968,-304072.855497609,-429960.63979113125,-166895.72355320968,-374960.63979113125,-121895.72355320968,-429072.855497609,84104.27644679032,-124960.63979113125,-324960.63979113125,-355895.7235532097,-784960.6397911313,125039.36020886875,-384072.855497609,-234072.855497609,-279072.855497609,-619072.855497609,927.144502390991,-374960.63979113125,-74960.63979113125,-374960.63979113125,-394960.63979113125,-534960.6397911313,-694072.855497609,-611072.855497609,-194960.63979113125,-284960.63979113125,-249960.63979113125,-489960.63979113125,-389961.63979113125,-604960.6397911313,-264960.63979113125,-354072.855497609,-604960.6397911313,-371960.63979113125,-479072.855497609,-374960.63979113125,85039.36020886875,-573072.855497609,-629072.855497609,39.36020886874758,-249960.63979113125,-650072.855497609,-359072.855497609,28104.276446790318,-654960.6397911313,-509072.855497609,-609072.855497609,-274960.63979113125,-229072.855497609,-484960.63979113125,-714960.6397911313,-479072.855497609,-549073.855497609,-539960.6397911313,-380072.855497609,-124960.63979113125,-219072.855497609,-224960.63979113125,-629072.855497609,-539072.855497609,-304072.855497609,-539072.855497609,-459072.855497609,-374960.63979113125,-374960.63979113125,-374072.855497609,-534960.6397911313,-349960.63979113125,-489960.63979113125,-704960.6397911313,-121895.72355320968,-484960.63979113125,-624960.6397911313,-379072.855497609,-379072.855497609,-474960.63979113125,-117960.63979113125,-249960.63979113125,-379072.855497609,-599072.855497609,-704072.855497609,-74960.63979113125,-274960.63979113125,-639960.6397911313,-216895.72355320968,-77960.63979113125,-579072.855497609,-254072.855497609,-564960.6397911313,-609072.855497609,-209072.855497609,-654960.6397911313,-574960.6397911313,-499960.63979113125,-674960.6397911313,-564960.6397911313,-409960.63979113125,-279072.855497609,-301895.7235532097,-634072.855497609,-324960.63979113125,-254960.63979113125,-434072.855497609,-539960.6397911313,108104.27644679032,-594072.855497609,-366895.7235532097,-424960.63979113125,-394960.63979113125,-154960.63979113125,-489072.855497609,-624960.6397911313,-134960.63979113125,-559072.855497609,-654960.6397911313,-649960.6397911313,-559072.855497609,-674960.6397911313,-479072.855497609,-299960.63979113125,-424960.63979113125,70927.14450239099,-454072.855497609,-554960.6397911313,-548072.855497609,-579072.855497609,-24960.639791131252,-418961.63979113125,-644072.855497609,-534072.855497609,-174960.63979113125,-519072.855497609,-474960.63979113125,-454072.855497609,-214583.1597686658,-91895.72355320968,-74960.63979113125,-637072.855497609,-324960.63979113125,-229072.855497609,-459072.855497609,-116895.72355320968,-371960.63979113125,-174960.63979113125,-274960.63979113125,-594960.6397911313,-529072.855497609,-629072.855497609,-199960.63979113125,-639072.855497609,-544960.6397911313,-424960.63979113125,-564960.6397911313,-79072.85549760901,-344073.855497609,-124960.63979113125,-639072.855497609,-314960.63979113125,-524960.6397911313,-399072.855497609,-609072.855497609,-349960.63979113125,-464961.63979113125,-609072.855497609,-424960.63979113125,-649960.6397911313,-16895.723553209682,-489960.63979113125,-29072.85549760901,-179072.855497609,-99960.63979113125,-594072.855497609,-444960.63979113125,-654960.6397911313,-609960.6397911313,-294960.63979113125,-574960.6397911313,-274960.63979113125,-166895.72355320968,-279072.855497609,-16895.723553209682,-574960.6397911313,-614960.6397911313,-279072.855497609,-598960.6397911313,-324960.63979113125,-439961.63979113125,-459072.855497609,-494960.63979113125,-479072.855497609,-519072.855497609,-279072.855497609,-499960.63979113125,-279072.855497609,-79072.85549760901,-674960.6397911313,-374960.63979113125,-174960.63979113125,-264960.63979113125,39.36020886874758,-384072.855497609,-509072.855497609,-54072.85549760901,-149960.63979113125,-609960.6397911313,-489072.855497609,-629072.855497609,-599960.6397911313,-574960.6397911313,-544072.855497609,-399960.63979113125,-649072.855497609,-574960.6397911313,-574960.6397911313,-224960.63979113125,-424960.63979113125,-494072.855497609,-324960.63979113125,-649960.6397911313,-524960.6397911313,70927.14450239099,-354960.63979113125,-304960.63979113125,-369073.855497609,-579072.855497609,-410072.855497609,-184960.63979113125,-549960.6397911313,-201895.72355320968,-223960.63979113125,-249960.63979113125,-264960.63979113125,-419960.63979113125,-509072.855497609,-554072.855497609,-374960.63979113125,-649960.6397911313,-549960.6397911313,-449960.63979113125,25039.360208868748,-674960.6397911313,-134960.63979113125,-399960.63979113125,-600072.855497609,-574960.6397911313,-324960.63979113125,-604072.855497609,-444960.63979113125,-199960.63979113125,-374960.63979113125,-474960.63979113125,-424960.63979113125,-239960.63979113125,-274960.63979113125,-324960.63979113125,33104.27644679032,-554960.6397911313,-529072.855497609,-479072.855497609,-374960.63979113125,-414961.63979113125,-374960.63979113125,-604960.6397911313,-274960.63979113125,-214960.63979113125,-648072.855497609,-459072.855497609,-29072.85549760901,-519072.855497609,-354960.63979113125,-434960.63979113125,-626072.855497609,-484960.63979113125,-174960.63979113125,-544960.6397911313,-349072.855497609,-229072.855497609,-379960.63979113125,-429072.855497609,-524073.855497609,-479072.855497609,-579072.855497609,-29072.85549760901,-74960.63979113125,-229960.63979113125,-654960.6397911313,-16895.723553209682,-129960.63979113125,-313960.63979113125,-584960.6397911313,-324960.63979113125,-54961.63979113125,-29072.85549760901,-574960.6397911313,-379072.855497609,-479072.855497609,-429960.63979113125,-429072.855497609,258104.27644679032,108104.27644679032,-529072.855497609,-494895.7235532097,-179072.855497609,75039.36020886875,12104.276446790318,-639072.855497609,-669072.855497609,-269073.855497609,-747960.6397911313,275039.36020886875,-654960.6397911313,-314960.63979113125,-379072.855497609,-579072.855497609,-409960.63979113125,-349072.855497609,125039.36020886875,-174960.63979113125,-444960.63979113125,-170584.1597686658,-364072.855497609,-374960.63979113125,-664073.855497609,-264960.63979113125,-304960.63979113125,-504960.63979113125,-551073.855497609,-244960.63979113125,-614960.6397911313,-424960.63979113125,-279072.855497609,-559072.855497609,-180960.63979113125,-214960.63979113125,-649960.6397911313,-629960.6397911313,-508895.7235532097,-424960.63979113125,-375960.63979113125,-179072.855497609,-624960.6397911313,-639072.855497609,-644961.6397911313,-74960.63979113125,-304960.63979113125,-649960.6397911313,-674960.6397911313,-299960.63979113125,-424960.63979113125,-139960.63979113125,-624072.855497609,-229072.855497609,-319073.855497609,-116895.72355320968,-274960.63979113125,-524960.6397911313,-364961.63979113125,-689072.855497609,-241895.72355320968,-504960.63979113125,-319073.855497609,-574960.6397911313,-280583.1597686658,-449960.63979113125,-449960.63979113125,-74960.63979113125,-474960.63979113125,-609072.855497609,-614960.6397911313,-474960.63979113125,-529072.855497609,-314072.855497609,30039.360208868748,225039.36020886875,-724960.6397911313,-379072.855497609,-524960.6397911313,-419072.855497609,-579072.855497609,-74960.63979113125,-604072.855497609,-539960.6397911313,-304960.63979113125,300039.36020886875,-494960.63979113125,-474960.63979113125,-224960.63979113125,-499072.855497609,-679072.855497609,-54961.63979113125,176039.36020886875,85039.36020886875,-219072.855497609,-439072.855497609,-174960.63979113125,-399072.855497609,-324072.855497609,-129072.85549760901,-654960.6397911313,-269960.63979113125,-574073.855497609,-41895.72355320968,-74960.63979113125,-694072.855497609,-654960.6397911313,-224960.63979113125,-579072.855497609,-124960.63979113125,-708960.6397911313,-324960.63979113125,-224960.63979113125,12104.276446790318,80927.14450239099,-644961.6397911313,-745960.6397911313,-509072.855497609,-508960.63979113125,-574960.6397911313,-459072.855497609,-94960.63979113125,-504960.63979113125,-664960.6397911313,-744960.6397911313,-659072.855497609,-224960.63979113125,-149960.63979113125,-664960.6397911313,-369073.855497609,-509072.855497609,-404072.855497609,-674960.6397911313,-674960.6397911313,-657960.6397911313,-329960.63979113125,-674960.6397911313,-424960.63979113125,-474960.63979113125,-504960.63979113125,-414072.855497609,-409072.855497609,-559960.6397911313,-374960.63979113125,-154960.63979113125,-174960.63979113125,-459072.855497609,-719072.855497609,-629072.855497609,-539960.6397911313,-589072.855497609,-624960.6397911313,-323960.63979113125,-324960.63979113125,-394960.63979113125,25039.360208868748,-94960.63979113125,-399072.855497609,-394960.63979113125,100039.36020886875,-174960.63979113125,-674960.6397911313,-291072.855497609,-249072.855497609,-294073.855497609,-24960.639791131252,-174960.63979113125,-449072.855497609,-479072.855497609,-484960.63979113125,-434960.63979113125,-669072.855497609,-344960.63979113125,-529960.6397911313,-634960.6397911313,-424960.63979113125,-724960.6397911313,-564072.855497609,-509072.855497609,-374960.63979113125,-528073.855497609,-324960.63979113125,-164960.63979113125,75039.36020886875,-224960.63979113125,-549960.6397911313,-659072.855497609,-324960.63979113125,-474960.63979113125,-274960.63979113125,-166895.72355320968,225039.36020886875,-657960.6397911313,-464961.63979113125,74039.36020886875,-774960.6397911313,-534960.6397911313,-534960.6397911313,-374960.63979113125,-534072.855497609,-424960.63979113125,-629960.6397911313,-639960.6397911313,-194960.63979113125,-29072.85549760901,-649960.6397911313,75039.36020886875,-724960.6397911313,-80583.15976866579,-604960.6397911313,-424960.63979113125,-754960.6397911313,-244960.63979113125,-244960.63979113125,-166895.72355320968,-354072.855497609,-24960.639791131252,120927.14450239099,-66895.72355320968,-399960.63979113125,-734960.6397911313,-414961.63979113125,-199072.855497609,-544072.855497609,-644961.6397911313,-474960.63979113125,-559960.6397911313,-559072.855497609,-329072.855497609,-594072.855497609,-329072.855497609,-497960.63979113125,-529072.855497609,-476895.7235532097,-454960.63979113125,-414961.63979113125,-554960.6397911313,-589072.855497609,-529072.855497609,-439072.855497609,-564960.6397911313,-574960.6397911313,-169072.855497609,-714960.6397911313,-339072.855497609,-318895.7235532097,-424960.63979113125,-424960.63979113125,-174960.63979113125,-216072.855497609,-554960.6397911313,-424960.63979113125,-149960.63979113125,-594960.6397911313,-554072.855497609,-589072.855497609,-264960.63979113125,-304960.63979113125,20927.14450239099,-579072.855497609,-149960.63979113125,-574960.6397911313,-514960.63979113125,-524960.6397911313,-584960.6397911313,25039.360208868748,-584960.6397911313,-449072.855497609,-254960.63979113125,-529072.855497609,-529072.855497609,-514960.63979113125,25039.360208868748,-24960.639791131252,-144960.63979113125,-429072.855497609,-479072.855497609,75039.36020886875,-349960.63979113125,-189072.855497609,-458072.855497609,-29072.85549760901,-699960.6397911313,-354072.855497609,-649960.6397911313,-388960.63979113125,-110960.63979113125,-349960.63979113125,-539072.855497609,-404072.855497609,-529072.855497609,-149960.63979113125,-535960.6397911313,-639960.6397911313,-184960.63979113125,-174960.63979113125,-649960.6397911313,215039.36020886875,-276895.7235532097,-574960.6397911313,-419960.63979113125,-154960.63979113125,-199960.63979113125,-304072.855497609,-224960.63979113125,-79072.85549760901,-414961.63979113125,-129072.85549760901,-549073.855497609,-619072.855497609,-579072.855497609,-599072.855497609,-479072.855497609,-4961.639791131252,-639960.6397911313,-644961.6397911313,-304072.855497609,35039.36020886875,-164960.63979113125,-377960.63979113125,-116895.72355320968,-707072.855497609,-299960.63979113125,-116895.72355320968,-592960.6397911313,-659072.855497609,-314072.855497609,-539072.855497609,-369073.855497609,183104.27644679032,-324960.63979113125,-624960.6397911313,-469072.855497609,-134960.63979113125,-429072.855497609,-654960.6397911313,-174960.63979113125,-584072.855497609,-61960.63979113125,-624960.6397911313,-424960.63979113125,-544960.6397911313,-684960.6397911313,-674072.855497609,80039.36020886875,-279072.855497609,-694072.855497609,-430960.63979113125,-714960.6397911313,-249960.63979113125,-179072.855497609,-36895.72355320968,-534960.6397911313,-74960.63979113125,-479072.855497609,-121895.72355320968,-280583.1597686658,-559072.855497609,-424960.63979113125,-314960.63979113125,-746960.6397911313,-714072.855497609,-549073.855497609,-609072.855497609,-599960.6397911313,-258960.63979113125,-116895.72355320968,-439072.855497609,-624960.6397911313,-34960.63979113125,-29072.85549760901,-504072.855497609,-589960.6397911313,-71895.72355320968,-29072.85549760901,225039.36020886875,-629072.855497609,-224960.63979113125,-164960.63979113125,-134960.63979113125,-479072.855497609,-674072.855497609,-779960.6397911313,-349072.855497609,-424960.63979113125,-291895.7235532097,-394960.63979113125,25039.360208868748,-474960.63979113125,-459072.855497609,-554072.855497609,-649960.6397911313,-392960.63979113125,-374960.63979113125,-249960.63979113125,-618072.855497609,-74960.63979113125,-404960.63979113125,-394960.63979113125,-274960.63979113125,-274960.63979113125,175039.36020886875,-314960.63979113125,93104.27644679032,-16895.723553209682,-709960.6397911313,-106895.72355320968,-639072.855497609,-494072.855497609,-374960.63979113125,-429960.63979113125,-539960.6397911313,-638072.855497609,-514072.855497609,-314072.855497609,-241895.72355320968,-29072.85549760901,320927.144502391,-447895.7235532097,-284072.855497609,-494960.63979113125,-544072.855497609,-454072.855497609,75039.36020886875,-629072.855497609,-584072.855497609,-314960.63979113125,-644072.855497609,-504960.63979113125,-216895.72355320968,-474960.63979113125,-749960.6397911313,-584960.6397911313,-435961.63979113125,-124960.63979113125,-179072.855497609,-354960.63979113125,-104960.63979113125,-209072.855497609,-474072.855497609,-661072.855497609,-524960.6397911313,-639072.855497609,-79072.85549760901,-524960.6397911313,-694072.855497609,-274960.63979113125,-414961.63979113125,-664073.855497609,-21895.723553209682,-574073.855497609,-614960.6397911313,-609072.855497609,-394960.63979113125,-74960.63979113125,-304960.63979113125,-722960.6397911313,-146895.72355320968,-324960.63979113125,-609960.6397911313,-459072.855497609,-579072.855497609,-324960.63979113125,-440960.63979113125,-659960.6397911313,-329072.855497609,-179960.63979113125,-474960.63979113125,-474960.63979113125,100039.36020886875,-74960.63979113125,-174960.63979113125,-99960.63979113125,-679072.855497609,-604072.855497609,-449960.63979113125,12104.276446790318,-449960.63979113125,-479072.855497609,-79072.85549760901,-174960.63979113125,-304072.855497609,-240583.1597686658,-119072.85549760901,-629072.855497609,-575072.855497609,-539072.855497609,-259072.855497609,-489072.855497609,-254072.855497609,-599072.855497609,-599072.855497609,-449960.63979113125,-141895.72355320968,-154960.63979113125,-659072.855497609,-74960.63979113125,-649072.855497609,-349960.63979113125,-699960.6397911313,-724960.6397911313,-704960.6397911313,-274960.63979113125,-599960.6397911313,-374960.63979113125,-424960.63979113125,-621961.6397911313,-674960.6397911313,133104.27644679032,-609072.855497609,-614960.6397911313,-629072.855497609,-324960.63979113125,-454072.855497609,-129072.85549760901,-679072.855497609,-554960.6397911313,-119960.63979113125,-459072.855497609,-719960.6397911313,-549960.6397911313,128103.27644679032,-224960.63979113125,-644072.855497609,25039.360208868748,-664073.855497609,-524960.6397911313,-279072.855497609,118104.27644679032,-404072.855497609,15039.360208868748,-514960.63979113125,-499960.63979113125,-279072.855497609,-225960.63979113125,-574960.6397911313,-204960.63979113125,-259072.855497609,-499960.63979113125,-174960.63979113125,-424960.63979113125,-459072.855497609,-204960.63979113125,-257072.855497609,-794960.6397911313,-324960.63979113125,-324960.63979113125,-484960.63979113125,-174960.63979113125,-579072.855497609,-304960.63979113125,-369073.855497609,-371960.63979113125,-429072.855497609,-449960.63979113125,-24960.639791131252,-318960.63979113125,-359072.855497609,-599960.6397911313,-219960.63979113125,-684960.6397911313,-66960.63979113125,-654072.855497609,-249960.63979113125,-564072.855497609,-129072.85549760901,-424960.63979113125,-224960.63979113125,-239960.63979113125,-274960.63979113125,-474960.63979113125,-259960.63979113125,-368072.855497609,-459072.855497609,-594072.855497609,-649960.6397911313,-274960.63979113125,-354960.63979113125,-554960.6397911313,-529072.855497609,-104072.85549760901,-224960.63979113125,-529960.6397911313,-657960.6397911313,-249960.63979113125,-699072.855497609,75039.36020886875,-694960.6397911313,-624072.855497609,-274960.63979113125,-429960.63979113125,-534960.6397911313,-304960.63979113125,-539072.855497609,-654960.6397911313,-324960.63979113125,-294960.63979113125,-344960.63979113125,-474960.63979113125,20927.14450239099,-659072.855497609,-69960.63979113125,-623961.6397911313,-29072.85549760901,-504072.855497609,-524073.855497609,-649960.6397911313,-624960.6397911313,-374960.63979113125,-489072.855497609,-324960.63979113125,-174960.63979113125,-204960.63979113125,-364961.63979113125,215039.36020886875,-624960.6397911313,169416.8402313342,-579072.855497609,-624960.6397911313,-475960.63979113125,125039.36020886875,-474960.63979113125,-569960.6397911313,-106895.72355320968,-371960.63979113125,-179072.855497609,-399960.63979113125,-324960.63979113125,-319073.855497609,-392895.7235532097,-654960.6397911313,-121895.72355320968,-489072.855497609,-504960.63979113125,-449072.855497609,-86895.72355320968,-649960.6397911313,-499072.855497609,-174960.63979113125,-319073.855497609,-374960.63979113125,-499072.855497609,-644072.855497609,-121895.72355320968,-554072.855497609,10927.144502390991,-149072.855497609,-224960.63979113125,-204072.855497609,-659960.6397911313,-116895.72355320968,-369073.855497609,-489072.855497609,-579960.6397911313,-379072.855497609,-689072.855497609,-74960.63979113125,-74960.63979113125,-144960.63979113125,-209960.63979113125,-594960.6397911313,-324960.63979113125,-374960.63979113125,-454960.63979113125,-474960.63979113125,-704072.855497609,39.36020886874758,-374960.63979113125,-609072.855497609,-463960.63979113125,-709072.855497609,-694960.6397911313,-424960.63979113125,-579072.855497609,-141895.72355320968,-414961.63979113125,-574960.6397911313,-674960.6397911313,-159072.855497609,-474960.63979113125,-574960.6397911313,-529072.855497609,-194960.63979113125,-154960.63979113125,-574960.6397911313,-674960.6397911313,-374960.63979113125,-729960.6397911313,-414961.63979113125,-199960.63979113125,-479072.855497609,-49960.63979113125,-604960.6397911313,-499072.855497609,-689072.855497609,-179072.855497609,-384072.855497609,-699960.6397911313,-166895.72355320968,-564960.6397911313,-474960.63979113125,-359072.855497609,-379072.855497609,-351895.7235532097,-574073.855497609,-384072.855497609,-634960.6397911313,-564960.6397911313,-299960.63979113125,-204960.63979113125,-429072.855497609,-714072.855497609,-354072.855497609,-329072.855497609,-354960.63979113125,-434072.855497609,-604960.6397911313,-524960.6397911313,-664960.6397911313,-664960.6397911313,-524960.6397911313,-424960.63979113125,-492960.63979113125,-664960.6397911313,20927.14450239099,-579072.855497609,-734960.6397911313,39.36020886874758,-124960.63979113125,-264960.63979113125,-234960.63979113125,-344960.63979113125,-614072.855497609,-529072.855497609,-654960.6397911313,-264960.63979113125,-329072.855497609,-79072.85549760901,-349960.63979113125,-24960.639791131252,-474960.63979113125,-299072.855497609,-579960.6397911313,-674960.6397911313,-549960.6397911313,-364072.855497609,-299072.855497609,-354960.63979113125,-109072.85549760901,-424960.63979113125,-116895.72355320968,-399072.855497609,-254072.855497609,-394960.63979113125,-554072.855497609,-629072.855497609,-459960.63979113125,-654072.855497609,-374960.63979113125,223104.27644679032,-664960.6397911313,-454072.855497609,-449960.63979113125,-254072.855497609,-379072.855497609,-534960.6397911313,-649960.6397911313,-274960.63979113125,-249960.63979113125,-569072.855497609,-29072.85549760901,-224960.63979113125,-74960.63979113125,-94960.63979113125,-274960.63979113125,-285583.1597686658,-629072.855497609,-574960.6397911313,-174960.63979113125,-429072.855497609,-629960.6397911313,-449960.63979113125,-499960.63979113125,25039.360208868748,-429072.855497609,25039.360208868748,-429072.855497609,-519072.855497609,-199960.63979113125,-230583.1597686658,-349960.63979113125,-404960.63979113125,220927.144502391,-629072.855497609,-649960.6397911313,-269073.855497609,-274960.63979113125,-134960.63979113125,-394960.63979113125,-354960.63979113125,-479072.855497609,-124960.63979113125,-409072.855497609,-249960.63979113125,-569072.855497609,-250583.1597686658,-589072.855497609,-669072.855497609,-294960.63979113125,-474960.63979113125,-674960.6397911313,-166895.72355320968,-604960.6397911313,-424960.63979113125,-324960.63979113125,-474960.63979113125,-574960.6397911313,-654072.855497609,-134960.63979113125,-709960.6397911313,125039.36020886875,-599960.6397911313,-584072.855497609,-474960.63979113125,-599072.855497609,-479072.855497609,-391072.855497609,-509072.855497609,-209960.63979113125,-184960.63979113125,-444960.63979113125,-634960.6397911313,-334960.63979113125,-424960.63979113125,-549960.6397911313,-624960.6397911313,-324960.63979113125,-644961.6397911313,-594960.6397911313,-534960.6397911313,-389961.63979113125,-294960.63979113125,-474960.63979113125,-174960.63979113125,364203.5831458232,-529072.855497609,-589072.855497609,-428072.855497609,12104.276446790318,-429072.855497609,-574960.6397911313,-674960.6397911313,-264960.63979113125,-124960.63979113125,-674960.6397911313,-429960.63979113125,-474072.855497609,-559072.855497609,-64960.63979113125,12104.276446790318,-289960.63979113125,24039.360208868748,-199895.72355320968,-524960.6397911313,-539072.855497609,-344960.63979113125,-633960.6397911313,-484960.63979113125,-566960.6397911313,-524960.6397911313,-694960.6397911313,75039.36020886875,-779960.6397911313,-649072.855497609,-274960.63979113125,-219960.63979113125,-274960.63979113125,-324960.63979113125,-464961.63979113125,-274960.63979113125,-574960.6397911313,-193960.63979113125,-704072.855497609,-414072.855497609,-429072.855497609,-654960.6397911313,-371960.63979113125,-199960.63979113125,-174960.63979113125,-279072.855497609,-363960.63979113125,-829960.6397911313,-419960.63979113125,-509072.855497609,-184960.63979113125,110927.14450239099,158104.27644679032,-629072.855497609,-274960.63979113125,-694960.6397911313,-54961.63979113125,-724960.6397911313,-54961.63979113125,-579072.855497609,-424960.63979113125,-554960.6397911313,-134960.63979113125,-599072.855497609,-324960.63979113125,70927.14450239099,-559072.855497609,-274960.63979113125,-474960.63979113125,-324960.63979113125,-609072.855497609,-119072.85549760901,-74960.63979113125,-629072.855497609,-424960.63979113125,-134960.63979113125,-574960.6397911313,-394960.63979113125,-289072.855497609,-519072.855497609,-558960.6397911313,-524960.6397911313,-579072.855497609,-74960.63979113125,-284960.63979113125,-584072.855497609,-244960.63979113125,-274960.63979113125,-539960.6397911313,-454960.63979113125,-622960.6397911313,-574960.6397911313,-239072.855497609,-624960.6397911313,-346960.63979113125,-474960.63979113125,-439072.855497609,-110583.15976866579,-249072.855497609,233104.27644679032,-404960.63979113125,-224960.63979113125,-339072.855497609,-214960.63979113125,-24960.639791131252,-106895.72355320968,-574960.6397911313,-499960.63979113125,-424960.63979113125,-274960.63979113125,-254072.855497609,-559072.855497609,-249960.63979113125,-484583.1597686658,-394960.63979113125,-274960.63979113125,-549960.6397911313,-294960.63979113125,-116895.72355320968,-254960.63979113125,-309960.63979113125,-74960.63979113125,-654960.6397911313,-429072.855497609,-294960.63979113125,-479072.855497609,-724960.6397911313,-217895.72355320968,-324960.63979113125,-269073.855497609,-607960.6397911313,-479072.855497609,-301895.7235532097,-499072.855497609,-574960.6397911313,-714072.855497609,-324960.63979113125,-533072.855497609,-601072.855497609,-329072.855497609,-809960.6397911313,-101960.63979113125,-358960.63979113125,-574960.6397911313,-534960.6397911313,-404960.63979113125,-244960.63979113125,-624960.6397911313,-549073.855497609,170927.144502391,-399072.855497609,-349072.855497609,-324960.63979113125,-514960.63979113125,-179072.855497609,-419072.855497609,-344960.63979113125,-124960.63979113125,-621072.855497609,-504960.63979113125,-429072.855497609,-604960.6397911313,-724960.6397911313,-424960.63979113125,-29072.85549760901,-166895.72355320968,-724960.6397911313,-494960.63979113125,-79072.85549760901,-649960.6397911313,-584072.855497609,-634960.6397911313,-764960.6397911313,-399960.63979113125,-424960.63979113125,-584960.6397911313,-429072.855497609,-609072.855497609,-449960.63979113125,-316895.7235532097,-404072.855497609,-589072.855497609,-424960.63979113125,-514960.63979113125,-371960.63979113125,-384960.63979113125,-324960.63979113125,-428072.855497609,-624960.6397911313,-424072.855497609,93104.27644679032,-99960.63979113125,-424960.63979113125,-419072.855497609,-604960.6397911313,-346895.7235532097,-116895.72355320968,-664960.6397911313,-459960.63979113125,12104.276446790318,-514960.63979113125,-529072.855497609,-674960.6397911313,-274960.63979113125,-379072.855497609,-576960.6397911313,-654960.6397911313,-674960.6397911313,-504072.855497609,-1072.855497609009,-269960.63979113125,-624960.6397911313,-224960.63979113125,-24960.639791131252,-329072.855497609,-424960.63979113125,-474960.63979113125,-374960.63979113125,-699960.6397911313,-429072.855497609,-479072.855497609,-229072.855497609,-385961.63979113125,-604960.6397911313,-349960.63979113125,-549960.6397911313,-644961.6397911313,-599960.6397911313,-474960.63979113125,-634960.6397911313,-124960.63979113125,-429072.855497609,-644072.855497609,-184960.63979113125,-339072.855497609,-224960.63979113125,-196895.72355320968,-489960.63979113125,-389072.855497609,-374960.63979113125,-174960.63979113125,-644961.6397911313,-366895.7235532097,-214960.63979113125,-364961.63979113125,-184072.855497609,-679072.855497609,-280583.1597686658,-554072.855497609,-614960.6397911313,-110583.15976866579,-129072.85549760901,-569072.855497609,-634960.6397911313,-14960.639791131252,-49072.85549760901,-274960.63979113125,71039.36020886875,-430583.1597686658,-579960.6397911313,-124960.63979113125,-344960.63979113125,-449072.855497609,-174960.63979113125,-429072.855497609,25039.360208868748,-44960.63979113125,-624960.6397911313,-116895.72355320968,-274960.63979113125,-474960.63979113125,-449960.63979113125,39.36020886874758,-234960.63979113125,-205072.855497609,-529072.855497609,-629072.855497609,-274960.63979113125,-669961.6397911313,-91895.72355320968,-529072.855497609,-429072.855497609,-399072.855497609,-659072.855497609,-112895.72355320968,-174960.63979113125,-139072.855497609,-574960.6397911313,-496960.63979113125,-659072.855497609,-124960.63979113125,-654960.6397911313,-639072.855497609,-374960.63979113125,-124960.63979113125,-166895.72355320968,-66895.72355320968,-54072.85549760901,-279960.63979113125,25039.360208868748,-519960.63979113125,-224960.63979113125,-564960.6397911313,-358072.855497609,-374960.63979113125,-674960.6397911313,-378072.855497609,-424960.63979113125,-284960.63979113125,-254960.63979113125,-724960.6397911313,20927.14450239099,-626960.6397911313,25039.360208868748,-513960.63979113125,-599072.855497609,156039.36020886875,-464961.63979113125,-175960.63979113125,-594960.6397911313,-524960.6397911313,-195960.63979113125,-519072.855497609,-224960.63979113125,-24960.639791131252,-449960.63979113125,-509072.855497609,-574073.855497609,-524960.6397911313,-359960.63979113125,-359960.63979113125,-539960.6397911313,-619072.855497609,-479072.855497609,-389961.63979113125,-474960.63979113125,-724960.6397911313,-524960.6397911313,-116895.72355320968,-539072.855497609,-679072.855497609,-649960.6397911313,-474960.63979113125,-635072.855497609,-724072.855497609,-399072.855497609,-529072.855497609,-379072.855497609,-459072.855497609,-449072.855497609,-234960.63979113125,-622072.855497609,-489960.63979113125,-589072.855497609,-614960.6397911313,-324960.63979113125,-186895.72355320968,-584960.6397911313,-299072.855497609,-329072.855497609,-184960.63979113125,-298960.63979113125,-324960.63979113125,-364961.63979113125,-274960.63979113125,-364072.855497609,-699960.6397911313,-424960.63979113125,-279072.855497609,-344073.855497609,25039.360208868748,-429072.855497609,-463960.63979113125,-714072.855497609,-364961.63979113125,-129072.85549760901,175039.36020886875,-689072.855497609,-274960.63979113125,-533960.6397911313,-249960.63979113125,-216895.72355320968,-489072.855497609,-514072.855497609,-122960.63979113125,-294960.63979113125,-224960.63979113125,-629072.855497609,-324960.63979113125,-579072.855497609,-559072.855497609,-509960.63979113125,-154960.63979113125,-569072.855497609,-129072.85549760901,-529072.855497609,-454072.855497609,-299072.855497609,50039.36020886875,-509072.855497609,-599072.855497609,-194960.63979113125,-355583.1597686658,-609960.6397911313,-654072.855497609,-609072.855497609,-324960.63979113125,-250960.63979113125,50039.36020886875,-489072.855497609,-714072.855497609,60927.14450239099,-334072.855497609,-439961.63979113125,-569072.855497609,-524960.6397911313,-294960.63979113125,-121895.72355320968,-539960.6397911313,-580072.855497609,-224960.63979113125,-174960.63979113125,-269960.63979113125,-424960.63979113125,100039.36020886875,-129072.85549760901,-374960.63979113125,-619072.855497609,-299960.63979113125,-249960.63979113125,-269073.855497609,-459072.855497609,-451072.855497609,-744960.6397911313,-574960.6397911313,-424960.63979113125,-459072.855497609,-174960.63979113125,-339960.63979113125,-524960.6397911313,-489960.63979113125,-509072.855497609,-379960.63979113125,-115895.72355320968,-324960.63979113125,-274960.63979113125,-84960.63979113125,-549073.855497609,-324960.63979113125,-589072.855497609,75039.36020886875,-714960.6397911313,-324960.63979113125,-474960.63979113125,-364072.855497609,-464961.63979113125,-416895.7235532097,-124960.63979113125,-24960.639791131252,75039.36020886875,-324960.63979113125,-404960.63979113125,-599960.6397911313,-474072.855497609,-29961.639791131252,-74960.63979113125,-121895.72355320968,-371960.63979113125,-584960.6397911313,-274960.63979113125,-229072.855497609,-434960.63979113125,-364961.63979113125,-559072.855497609,-564960.6397911313,-321895.7235532097,-479072.855497609,-374960.63979113125,-514960.63979113125,-379072.855497609,-604072.855497609,-637072.855497609,-24960.639791131252,-329072.855497609,-216895.72355320968,-249072.855497609,-374960.63979113125,-614960.6397911313,-482072.855497609,-644072.855497609,-249072.855497609,-674960.6397911313,-29072.85549760901,-492960.63979113125,50039.36020886875,-324960.63979113125,-439961.63979113125,-166895.72355320968,-230583.1597686658,-539960.6397911313,-249960.63979113125,-654072.855497609,-594960.6397911313,-459960.63979113125,-634072.855497609,-329072.855497609,-199960.63979113125,-363072.855497609,-524960.6397911313,-439072.855497609,-330583.1597686658,-124960.63979113125,-554960.6397911313,-280583.1597686658,-619072.855497609,-424960.63979113125,-449072.855497609,-324960.63979113125,-429072.855497609,-679960.6397911313,-479072.855497609,-564072.855497609,-627072.855497609,-40960.63979113125,-130583.15976866579,-624960.6397911313,-424960.63979113125,-168072.855497609,25039.360208868748,-649960.6397911313,-314960.63979113125,-241895.72355320968,-374960.63979113125,-634072.855497609,25039.360208868748,-654960.6397911313,325039.36020886875,-389072.855497609,-599960.6397911313,-494960.63979113125,-589960.6397911313,-374960.63979113125,-94960.63979113125,-329960.63979113125,-394960.63979113125,-319073.855497609,-304960.63979113125,-494960.63979113125,-205960.63979113125,-114960.63979113125,33104.27644679032,-484072.855497609,-474960.63979113125,-424960.63979113125,-399072.855497609,-124960.63979113125,-350895.7235532097,-174960.63979113125,-229072.855497609,-649960.6397911313,-134960.63979113125,-729960.6397911313,-274960.63979113125,-339960.63979113125,-549073.855497609,-414961.63979113125,-166895.72355320968,25039.360208868748,-624960.6397911313,-679072.855497609,-374960.63979113125,-589072.855497609,100039.36020886875,-339960.63979113125,-424960.63979113125,-678960.6397911313,-224960.63979113125,-424960.63979113125,105927.14450239099,-339072.855497609,-454072.855497609,-589072.855497609,-234960.63979113125,-174960.63979113125,-504960.63979113125,-619072.855497609,-334960.63979113125,-224960.63979113125,-544072.855497609,-294960.63979113125,-609072.855497609,-124960.63979113125,-174960.63979113125,-599960.6397911313,-404960.63979113125,-494960.63979113125,-116895.72355320968,-469072.855497609,-116895.72355320968,-194960.63979113125,-134960.63979113125,-449072.855497609,-594960.6397911313,-204072.855497609,-684960.6397911313,-124960.63979113125,-524960.6397911313,-121895.72355320968,-696072.855497609,-499960.63979113125,-229072.855497609,-29072.85549760901,-559960.6397911313,-454072.855497609,-364961.63979113125,-556960.6397911313,-514960.63979113125,-274960.63979113125,-325960.63979113125,-354960.63979113125,-619961.6397911313,-679960.6397911313,-693960.6397911313,-689072.855497609,-549960.6397911313,-654072.855497609,-644961.6397911313,-464072.855497609,-484960.63979113125,-479072.855497609,-74960.63979113125,-301895.7235532097,-579072.855497609,83104.27644679032,-480583.1597686658,-474960.63979113125,100039.36020886875,-629072.855497609,175039.36020886875,-388072.855497609,-14960.639791131252,-448960.63979113125,-279072.855497609,58104.27644679032,-639072.855497609,-574960.6397911313,-278072.855497609,-651072.855497609,-229072.855497609,-264960.63979113125,-379072.855497609,-614960.6397911313,-424960.63979113125,-204072.855497609,-449960.63979113125,-699960.6397911313,-524960.6397911313,14039.360208868748,-324960.63979113125,-124960.63979113125,-479072.855497609,-54072.85549760901,-714960.6397911313,-124960.63979113125,-274960.63979113125,-184960.63979113125,-564072.855497609,-564072.855497609,-249960.63979113125,-499960.63979113125,-474960.63979113125,-234072.855497609,-384960.63979113125,-374960.63979113125,-216895.72355320968,-81895.72355320968,-174960.63979113125,-24960.639791131252,-579072.855497609,-479960.63979113125,-66895.72355320968,-324960.63979113125,-524960.6397911313,-612960.6397911313,158104.27644679032,-189072.855497609,-324960.63979113125,-224960.63979113125,-559072.855497609,-379072.855497609,-304960.63979113125,-95072.85549760901,-249960.63979113125,-529072.855497609,-549960.6397911313,-379072.855497609,-399072.855497609,-374960.63979113125,-124960.63979113125,-529072.855497609,-679072.855497609,-524960.6397911313,-479072.855497609,-296895.7235532097,-599072.855497609,-604072.855497609,-449072.855497609,-134960.63979113125,-454960.63979113125,-9072.855497609009,-29072.85549760901,-124960.63979113125,-683960.6397911313,-319073.855497609,-94960.63979113125,-374960.63979113125,-284960.63979113125,-524960.6397911313,-564072.855497609,30927.14450239099,-379072.855497609,-479072.855497609,-64960.63979113125,-479072.855497609,125039.36020886875,-174960.63979113125,-208072.855497609,-619072.855497609,-13960.639791131252,-371960.63979113125,-584960.6397911313,-394072.855497609,-664960.6397911313,-499072.855497609,-647960.6397911313,-524960.6397911313,-204960.63979113125,-564960.6397911313,-191895.72355320968,-74960.63979113125,-154072.855497609,-464072.855497609,-274960.63979113125,-629072.855497609,-224960.63979113125,-404072.855497609,-724960.6397911313,-614960.6397911313,-166895.72355320968,-466960.63979113125,-121895.72355320968,-124960.63979113125,-569960.6397911313,-324960.63979113125,-524960.6397911313,-69960.63979113125,-454072.855497609,-469072.855497609,-163960.63979113125,-604960.6397911313,-639960.6397911313,-589960.6397911313,-574960.6397911313,-369073.855497609,-249960.63979113125,-659072.855497609,-369073.855497609,-224960.63979113125,-503960.63979113125,-24960.639791131252,-329072.855497609,-584960.6397911313,-124960.63979113125,-224960.63979113125,-579072.855497609,-754960.6397911313,12104.276446790318,-79960.63979113125,-554960.6397911313,-394960.63979113125,-699960.6397911313,-274960.63979113125,-402960.63979113125,-629072.855497609,-729960.6397911313,20927.14450239099,-574960.6397911313,-149072.855497609,-424960.63979113125,-324960.63979113125,-477072.855497609,-64960.63979113125,-484960.63979113125,-163960.63979113125,-239960.63979113125,-484960.63979113125,-244960.63979113125,-14960.639791131252,-609072.855497609,-459072.855497609,-389072.855497609,-489072.855497609,345927.144502391,-644961.6397911313,-529072.855497609,-444960.63979113125,-684960.6397911313,-594960.6397911313,-514072.855497609,110927.14450239099,-504960.63979113125,-429960.63979113125,-529072.855497609,-199960.63979113125,-170584.1597686658,-166895.72355320968,-124960.63979113125,-194960.63979113125,-231895.72355320968,-379072.855497609,-619072.855497609,-379072.855497609,-29072.85549760901,73104.27644679032,-454960.63979113125,-492072.855497609,-609960.6397911313,-299960.63979113125,75039.36020886875,-724960.6397911313,-589960.6397911313,-629072.855497609,-484072.855497609,-709072.855497609,-624960.6397911313,-276895.7235532097,-649960.6397911313,-274960.63979113125,-554960.6397911313,-104960.63979113125,-629072.855497609,-279072.855497609,-284960.63979113125,-549960.6397911313,-329072.855497609,-74960.63979113125,-216895.72355320968,-179960.63979113125,-689072.855497609,-514960.63979113125,-579072.855497609,-459072.855497609,-724960.6397911313,-569072.855497609,-186895.72355320968,-264960.63979113125,-121895.72355320968,-199960.63979113125,-424960.63979113125,-644072.855497609,-657072.855497609,-364961.63979113125,170927.144502391,-174960.63979113125,-174960.63979113125,-259960.63979113125,-674960.6397911313,-698072.855497609,-154072.855497609,-574960.6397911313,-579072.855497609,-579072.855497609,-514960.63979113125,-479072.855497609,-74960.63979113125,-304960.63979113125,-354960.63979113125,-429072.855497609,-29072.85549760901,-649072.855497609,-484960.63979113125,-244960.63979113125,-564072.855497609,-609960.6397911313,-394072.855497609,-362960.63979113125,-479072.855497609,-249960.63979113125,-474960.63979113125,-649072.855497609,-409072.855497609,-264072.855497609,-724960.6397911313,-206072.855497609,-679072.855497609,-424960.63979113125,-619072.855497609,-264960.63979113125,-409072.855497609,-501895.7235532097,-639072.855497609,-554960.6397911313,-224960.63979113125,-289960.63979113125,-435583.1597686658,-499960.63979113125,-424960.63979113125,233104.27644679032,-624960.6397911313,-654072.855497609,-474960.63979113125,-544960.6397911313,-589072.855497609,-74960.63979113125,-114960.63979113125,-519960.63979113125,-174960.63979113125,-371960.63979113125,-474960.63979113125,-759961.6397911313,-354072.855497609,-674960.6397911313,-324960.63979113125,-429072.855497609,-344960.63979113125,-299072.855497609,-684960.6397911313,-34960.63979113125,-179072.855497609,-324960.63979113125,-659960.6397911313,-228584.1597686658,-624960.6397911313,-574960.6397911313,-264960.63979113125,-329072.855497609,125039.36020886875,-189072.855497609,-659072.855497609,-574960.6397911313,-474960.63979113125,-174960.63979113125,-224960.63979113125,-169072.855497609,-489072.855497609,-166895.72355320968,-684072.855497609,-324960.63979113125,-549960.6397911313,-186895.72355320968,-324960.63979113125,-66895.72355320968,-584960.6397911313,-119960.63979113125,25039.360208868748,-574960.6397911313,-266895.7235532097,-653960.6397911313,-94960.63979113125,-649960.6397911313,-484960.63979113125,-319073.855497609,-121895.72355320968,-404072.855497609,-229072.855497609,-144960.63979113125,-434960.63979113125,-629960.6397911313,-624960.6397911313,-254072.855497609,-639072.855497609,-474960.63979113125,-459072.855497609,-494960.63979113125,-304960.63979113125,-504960.63979113125,-409072.855497609,-134960.63979113125,-604072.855497609,31039.360208868748,-519072.855497609,-654072.855497609,-380583.1597686658,-584960.6397911313,-559072.855497609,-649960.6397911313,175039.36020886875,-444960.63979113125,-314960.63979113125,-449960.63979113125,-454072.855497609,-649072.855497609,105039.36020886875,-724960.6397911313,-674960.6397911313,-354960.63979113125,25039.360208868748,-59072.85549760901,-204960.63979113125,-659072.855497609,-124960.63979113125,-399072.855497609,-174960.63979113125,25039.360208868748,-564960.6397911313,-121895.72355320968,-522960.63979113125,-259960.63979113125,-29072.85549760901,-274960.63979113125,-264072.855497609,-419072.855497609,-474960.63979113125,-245895.72355320968,-423072.855497609,-574960.6397911313,-479072.855497609,-669072.855497609,-374960.63979113125,-514960.63979113125,-374960.63979113125,-584960.6397911313,-529072.855497609,-174960.63979113125,-174960.63979113125,-694960.6397911313,-734960.6397911313,-749960.6397911313,-589072.855497609,-141895.72355320968,-174960.63979113125,-254960.63979113125,-429960.63979113125,-589072.855497609,-744960.6397911313,39.36020886874758,-654960.6397911313,-653960.6397911313,-371960.63979113125,-653960.6397911313,-524960.6397911313,75039.36020886875,-359960.63979113125,-354072.855497609,-179072.855497609,-524073.855497609,-434960.63979113125,-509072.855497609,-394960.63979113125,225039.36020886875,-444960.63979113125,-499960.63979113125,-459072.855497609,-254072.855497609,-574960.6397911313,-314072.855497609,-674960.6397911313,-559072.855497609,-416960.63979113125,-711572.855497609,12104.276446790318,-364961.63979113125,-639072.855497609,35039.36020886875,12104.276446790318,-654960.6397911313,-91895.72355320968,-624960.6397911313,-754960.6397911313,-363960.63979113125,-329072.855497609,75039.36020886875,-649072.855497609,-134960.63979113125,-249960.63979113125,-189072.855497609,-654960.6397911313,-266895.7235532097,-474960.63979113125,-254960.63979113125,-294895.7235532097,-619072.855497609,-324960.63979113125,-29072.85549760901,-659072.855497609,-374960.63979113125,-644961.6397911313,-29072.85549760901,-149072.855497609,-419072.855497609,-414961.63979113125,5039.360208868748,-424960.63979113125,-649072.855497609,-494960.63979113125,-424960.63979113125,-524960.6397911313,-350072.855497609,-349072.855497609,-26895.723553209682,-224960.63979113125,-524960.6397911313,-524960.6397911313,-629960.6397911313,-244960.63979113125,-324960.63979113125,-203960.63979113125,-224960.63979113125,-124960.63979113125,-74960.63979113125,-224960.63979113125,5039.360208868748,-524960.6397911313,-644961.6397911313,-606960.6397911313,-129072.85549760901,-404072.855497609,-634960.6397911313,-424960.63979113125,-549960.6397911313,-574960.6397911313,-104960.63979113125,-399960.63979113125,-379960.63979113125,-764960.6397911313,-494960.63979113125,-301895.7235532097,-484072.855497609,-604960.6397911313,-599072.855497609,-574960.6397911313,-329072.855497609,333104.2764467903,-424960.63979113125,-424960.63979113125,175039.36020886875,12104.276446790318,-224960.63979113125,-229072.855497609,-524960.6397911313,-44960.63979113125,-649072.855497609,-30583.15976866579,-504072.855497609,20927.14450239099,-24960.639791131252,-474960.63979113125,-539960.6397911313,-194960.63979113125,-634072.855497609,-144960.63979113125,-524073.855497609,-294960.63979113125,-509072.855497609,-644961.6397911313,-280583.1597686658,-509072.855497609,-574960.6397911313,-459072.855497609,-214072.855497609,-339960.63979113125,-24960.639791131252,-554072.855497609,-323960.63979113125,-324960.63979113125,-474960.63979113125,-564072.855497609,-324960.63979113125,-624960.6397911313,-509960.63979113125,-644072.855497609,-174960.63979113125,-744960.6397911313,-254960.63979113125,-389961.63979113125,-584960.6397911313,-224960.63979113125,-754960.6397911313,15039.360208868748,-509072.855497609,-244072.855497609,-679960.6397911313,-699072.855497609,-174960.63979113125,68104.27644679032,-599072.855497609,12104.276446790318,-301960.63979113125,-615960.6397911313,-574960.6397911313,-474960.63979113125,20927.14450239099,-191895.72355320968,-524960.6397911313,-254960.63979113125,-424960.63979113125,-74960.63979113125,-535960.6397911313,-609072.855497609,-524960.6397911313,-199960.63979113125,-86895.72355320968,-399960.63979113125,45038.36020886875,-744960.6397911313,-503960.63979113125,-24960.639791131252,-469960.63979113125,-509072.855497609,-580072.855497609,-589072.855497609,-669072.855497609,-49960.63979113125,-649072.855497609,-374960.63979113125,-429072.855497609,-94960.63979113125,-659072.855497609,-524960.6397911313,-16895.723553209682,-629072.855497609,-124960.63979113125,-304960.63979113125,-275960.63979113125,-429072.855497609,-574960.6397911313,25039.360208868748,-709072.855497609,-479072.855497609,-639072.855497609,-374960.63979113125,-649960.6397911313,-374960.63979113125,-574960.6397911313,-439961.63979113125,-304960.63979113125,-529072.855497609,-304072.855497609,-374960.63979113125,-739960.6397911313,-284960.63979113125,-264072.855497609,-499960.63979113125,-164960.63979113125,-579072.855497609,-324960.63979113125,-125960.63979113125,-249960.63979113125,-359072.855497609,-191895.72355320968,-316895.7235532097,-464961.63979113125,-229072.855497609,-414961.63979113125,-196960.63979113125,-110960.63979113125,-371960.63979113125,-524960.6397911313,-499072.855497609,-664960.6397911313,-74960.63979113125,-371960.63979113125,-224072.855497609,-349072.855497609,-279072.855497609,-109960.63979113125,-224960.63979113125,-569072.855497609,65039.36020886875,-124960.63979113125,-484960.63979113125,-239072.855497609,-324960.63979113125,-29895.723553209682,-594072.855497609,-349960.63979113125,55039.36020886875,-554072.855497609,-549960.6397911313,-344960.63979113125,-91895.72355320968,-299072.855497609,-564960.6397911313,-539960.6397911313,-524960.6397911313,-249960.63979113125,-274960.63979113125,-134960.63979113125,-344073.855497609,-29072.85549760901,-664960.6397911313,-349960.63979113125,-175072.855497609,-499960.63979113125,-674960.6397911313,-249072.855497609,-296960.63979113125,-594072.855497609,-324960.63979113125,-224960.63979113125,-699072.855497609,-449960.63979113125,-326895.7235532097,-181960.63979113125,-234960.63979113125,-574960.6397911313,-614072.855497609,-459072.855497609,-264960.63979113125,5039.360208868748,-249960.63979113125,-534072.855497609,-419072.855497609,-316895.7235532097,-459072.855497609,-324960.63979113125,-479072.855497609,-449960.63979113125,-564072.855497609,-649960.6397911313,-544960.6397911313,-479072.855497609,-524960.6397911313,-399960.63979113125,-64960.63979113125,-574960.6397911313,-634960.6397911313,-609072.855497609,-519960.63979113125,-124960.63979113125,-629072.855497609,-629072.855497609,-419072.855497609,-324072.855497609,-784960.6397911313,-124960.63979113125,-179072.855497609,12104.276446790318,-83960.63979113125,-514960.63979113125,-539960.6397911313,-274960.63979113125,-429072.855497609,-394960.63979113125,-384960.63979113125,-639072.855497609,-514960.63979113125,-564960.6397911313,-694072.855497609,-559072.855497609,-179072.855497609,-424960.63979113125,-649072.855497609,-371960.63979113125,-424960.63979113125,-684072.855497609,-607960.6397911313,83104.27644679032,-754960.6397911313,-479072.855497609,-689960.6397911313,75039.36020886875,-529072.855497609,-134960.63979113125,-29072.85549760901,-354072.855497609,-439072.855497609,-274960.63979113125,-429072.855497609,-663960.6397911313,-354960.63979113125,-4961.639791131252,-574960.6397911313,-429072.855497609,-654960.6397911313,-249960.63979113125,75039.36020886875,-274960.63979113125,-143960.63979113125,-474960.63979113125,-335960.63979113125,-619072.855497609,-424960.63979113125,-479960.63979113125,-504072.855497609,-324960.63979113125,-329072.855497609,-579072.855497609,-454960.63979113125,-544960.6397911313,-344960.63979113125,-574960.6397911313,-594072.855497609,-404960.63979113125,-674960.6397911313,-584960.6397911313,175039.36020886875,-274960.63979113125,-229960.63979113125,-154960.63979113125,-564072.855497609,-74960.63979113125,-174960.63979113125,-389072.855497609,-95895.72355320968,-654960.6397911313,-179072.855497609,-254960.63979113125,-184072.855497609,-24960.639791131252,-649072.855497609,-554960.6397911313,-349960.63979113125,-274960.63979113125,-414961.63979113125,-454072.855497609,-221895.72355320968,-174960.63979113125,-604072.855497609,-144960.63979113125,83104.27644679032,-579960.6397911313,-179072.855497609,-404072.855497609,-19797.416854176787,-479960.63979113125,-24960.639791131252,-239960.63979113125,-604960.6397911313,-442072.855497609,-121895.72355320968,-754960.6397911313,225039.36020886875,-139072.855497609,-124960.63979113125,-419960.63979113125,-203960.63979113125,-309072.855497609,-654960.6397911313,-374960.63979113125,-399072.855497609,-199960.63979113125,-79960.63979113125,-429072.855497609,-589960.6397911313,-249960.63979113125,-574960.6397911313,75039.36020886875,-654960.6397911313,-629072.855497609,-374960.63979113125,-274960.63979113125,-91895.72355320968,-164960.63979113125,-181960.63979113125,-684960.6397911313,-479072.855497609,-391960.63979113125,-474960.63979113125,-384960.63979113125,-134960.63979113125,-454072.855497609,-224960.63979113125,-604960.6397911313,-359072.855497609,-659072.855497609,-654960.6397911313,75039.36020886875,-409072.855497609,-657960.6397911313,-424960.63979113125,-274960.63979113125,-574960.6397911313,-159072.855497609,-386895.7235532097,-329072.855497609,-379072.855497609,-669072.855497609,99039.36020886875,-124960.63979113125,-624960.6397911313,-334960.63979113125,-324960.63979113125,-559072.855497609,-194960.63979113125,-129072.85549760901,-569072.855497609,-189960.63979113125,-224960.63979113125,-275960.63979113125,-359072.855497609,-429960.63979113125,-216895.72355320968,-394072.855497609,-539072.855497609,-179072.855497609,-394960.63979113125,-164960.63979113125,-224960.63979113125,-24960.639791131252,-319073.855497609,-49960.63979113125,-74960.63979113125,-449960.63979113125,-614960.6397911313,-599960.6397911313,-194072.855497609,-124960.63979113125,-514960.63979113125,-99960.63979113125,-574960.6397911313,-614960.6397911313,-4961.639791131252,-349072.855497609,-679072.855497609,-405960.63979113125,-99960.63979113125,-141895.72355320968,-494960.63979113125,-549960.6397911313,75039.36020886875,-399960.63979113125,-94960.63979113125,-429072.855497609,-574960.6397911313,-464961.63979113125,-399072.855497609,-499960.63979113125,-574960.6397911313,-274960.63979113125,-374960.63979113125,-639072.855497609,-489072.855497609,-583960.6397911313,-224960.63979113125,-639072.855497609,-644072.855497609,-424960.63979113125,-274960.63979113125,-299960.63979113125,-264960.63979113125,-574960.6397911313,12104.276446790318,-124960.63979113125,-474960.63979113125,-116895.72355320968,-609960.6397911313,-799960.6397911313,-529072.855497609,-121895.72355320968,-154960.63979113125,-389072.855497609,-419960.63979113125,-404072.855497609,-544960.6397911313,-179072.855497609,-81960.63979113125,-590072.855497609,-344960.63979113125,-624960.6397911313,-379072.855497609,-649072.855497609,-14960.639791131252,-579072.855497609,83104.27644679032,-691895.7235532097,-174960.63979113125,-179072.855497609,-514072.855497609,-144960.63979113125,-290583.1597686658,-499072.855497609,-174960.63979113125,-669072.855497609,-441960.63979113125,-474960.63979113125,-79072.85549760901,-299960.63979113125,-469072.855497609,-99960.63979113125,-249960.63979113125,-624960.6397911313,-424960.63979113125,-504072.855497609,-249960.63979113125,-780460.6397911313,-574073.855497609,-654072.855497609,-644072.855497609,-470960.63979113125,220927.144502391,-444960.63979113125,-639072.855497609,-574960.6397911313,-36895.72355320968,-219960.63979113125,-224960.63979113125,-194960.63979113125,-579960.6397911313,-399960.63979113125,-449960.63979113125,-204072.855497609,-454960.63979113125,-199960.63979113125,-484960.63979113125,-484960.63979113125,-504960.63979113125,-599072.855497609,-329072.855497609],\"xaxis\":\"x\",\"yaxis\":\"y\",\"type\":\"histogram\"}],\"layout\":{\"template\":{\"data\":{\"histogram2dcontour\":[{\"type\":\"histogram2dcontour\",\"colorbar\":{\"outlinewidth\":0,\"ticks\":\"\"},\"colorscale\":[[0.0,\"#0d0887\"],[0.1111111111111111,\"#46039f\"],[0.2222222222222222,\"#7201a8\"],[0.3333333333333333,\"#9c179e\"],[0.4444444444444444,\"#bd3786\"],[0.5555555555555556,\"#d8576b\"],[0.6666666666666666,\"#ed7953\"],[0.7777777777777778,\"#fb9f3a\"],[0.8888888888888888,\"#fdca26\"],[1.0,\"#f0f921\"]]}],\"choropleth\":[{\"type\":\"choropleth\",\"colorbar\":{\"outlinewidth\":0,\"ticks\":\"\"}}],\"histogram2d\":[{\"type\":\"histogram2d\",\"colorbar\":{\"outlinewidth\":0,\"ticks\":\"\"},\"colorscale\":[[0.0,\"#0d0887\"],[0.1111111111111111,\"#46039f\"],[0.2222222222222222,\"#7201a8\"],[0.3333333333333333,\"#9c179e\"],[0.4444444444444444,\"#bd3786\"],[0.5555555555555556,\"#d8576b\"],[0.6666666666666666,\"#ed7953\"],[0.7777777777777778,\"#fb9f3a\"],[0.8888888888888888,\"#fdca26\"],[1.0,\"#f0f921\"]]}],\"heatmap\":[{\"type\":\"heatmap\",\"colorbar\":{\"outlinewidth\":0,\"ticks\":\"\"},\"colorscale\":[[0.0,\"#0d0887\"],[0.1111111111111111,\"#46039f\"],[0.2222222222222222,\"#7201a8\"],[0.3333333333333333,\"#9c179e\"],[0.4444444444444444,\"#bd3786\"],[0.5555555555555556,\"#d8576b\"],[0.6666666666666666,\"#ed7953\"],[0.7777777777777778,\"#fb9f3a\"],[0.8888888888888888,\"#fdca26\"],[1.0,\"#f0f921\"]]}],\"heatmapgl\":[{\"type\":\"heatmapgl\",\"colorbar\":{\"outlinewidth\":0,\"ticks\":\"\"},\"colorscale\":[[0.0,\"#0d0887\"],[0.1111111111111111,\"#46039f\"],[0.2222222222222222,\"#7201a8\"],[0.3333333333333333,\"#9c179e\"],[0.4444444444444444,\"#bd3786\"],[0.5555555555555556,\"#d8576b\"],[0.6666666666666666,\"#ed7953\"],[0.7777777777777778,\"#fb9f3a\"],[0.8888888888888888,\"#fdca26\"],[1.0,\"#f0f921\"]]}],\"contourcarpet\":[{\"type\":\"contourcarpet\",\"colorbar\":{\"outlinewidth\":0,\"ticks\":\"\"}}],\"contour\":[{\"type\":\"contour\",\"colorbar\":{\"outlinewidth\":0,\"ticks\":\"\"},\"colorscale\":[[0.0,\"#0d0887\"],[0.1111111111111111,\"#46039f\"],[0.2222222222222222,\"#7201a8\"],[0.3333333333333333,\"#9c179e\"],[0.4444444444444444,\"#bd3786\"],[0.5555555555555556,\"#d8576b\"],[0.6666666666666666,\"#ed7953\"],[0.7777777777777778,\"#fb9f3a\"],[0.8888888888888888,\"#fdca26\"],[1.0,\"#f0f921\"]]}],\"surface\":[{\"type\":\"surface\",\"colorbar\":{\"outlinewidth\":0,\"ticks\":\"\"},\"colorscale\":[[0.0,\"#0d0887\"],[0.1111111111111111,\"#46039f\"],[0.2222222222222222,\"#7201a8\"],[0.3333333333333333,\"#9c179e\"],[0.4444444444444444,\"#bd3786\"],[0.5555555555555556,\"#d8576b\"],[0.6666666666666666,\"#ed7953\"],[0.7777777777777778,\"#fb9f3a\"],[0.8888888888888888,\"#fdca26\"],[1.0,\"#f0f921\"]]}],\"mesh3d\":[{\"type\":\"mesh3d\",\"colorbar\":{\"outlinewidth\":0,\"ticks\":\"\"}}],\"scatter\":[{\"fillpattern\":{\"fillmode\":\"overlay\",\"size\":10,\"solidity\":0.2},\"type\":\"scatter\"}],\"parcoords\":[{\"type\":\"parcoords\",\"line\":{\"colorbar\":{\"outlinewidth\":0,\"ticks\":\"\"}}}],\"scatterpolargl\":[{\"type\":\"scatterpolargl\",\"marker\":{\"colorbar\":{\"outlinewidth\":0,\"ticks\":\"\"}}}],\"bar\":[{\"error_x\":{\"color\":\"#2a3f5f\"},\"error_y\":{\"color\":\"#2a3f5f\"},\"marker\":{\"line\":{\"color\":\"#E5ECF6\",\"width\":0.5},\"pattern\":{\"fillmode\":\"overlay\",\"size\":10,\"solidity\":0.2}},\"type\":\"bar\"}],\"scattergeo\":[{\"type\":\"scattergeo\",\"marker\":{\"colorbar\":{\"outlinewidth\":0,\"ticks\":\"\"}}}],\"scatterpolar\":[{\"type\":\"scatterpolar\",\"marker\":{\"colorbar\":{\"outlinewidth\":0,\"ticks\":\"\"}}}],\"histogram\":[{\"marker\":{\"pattern\":{\"fillmode\":\"overlay\",\"size\":10,\"solidity\":0.2}},\"type\":\"histogram\"}],\"scattergl\":[{\"type\":\"scattergl\",\"marker\":{\"colorbar\":{\"outlinewidth\":0,\"ticks\":\"\"}}}],\"scatter3d\":[{\"type\":\"scatter3d\",\"line\":{\"colorbar\":{\"outlinewidth\":0,\"ticks\":\"\"}},\"marker\":{\"colorbar\":{\"outlinewidth\":0,\"ticks\":\"\"}}}],\"scattermapbox\":[{\"type\":\"scattermapbox\",\"marker\":{\"colorbar\":{\"outlinewidth\":0,\"ticks\":\"\"}}}],\"scatterternary\":[{\"type\":\"scatterternary\",\"marker\":{\"colorbar\":{\"outlinewidth\":0,\"ticks\":\"\"}}}],\"scattercarpet\":[{\"type\":\"scattercarpet\",\"marker\":{\"colorbar\":{\"outlinewidth\":0,\"ticks\":\"\"}}}],\"carpet\":[{\"aaxis\":{\"endlinecolor\":\"#2a3f5f\",\"gridcolor\":\"white\",\"linecolor\":\"white\",\"minorgridcolor\":\"white\",\"startlinecolor\":\"#2a3f5f\"},\"baxis\":{\"endlinecolor\":\"#2a3f5f\",\"gridcolor\":\"white\",\"linecolor\":\"white\",\"minorgridcolor\":\"white\",\"startlinecolor\":\"#2a3f5f\"},\"type\":\"carpet\"}],\"table\":[{\"cells\":{\"fill\":{\"color\":\"#EBF0F8\"},\"line\":{\"color\":\"white\"}},\"header\":{\"fill\":{\"color\":\"#C8D4E3\"},\"line\":{\"color\":\"white\"}},\"type\":\"table\"}],\"barpolar\":[{\"marker\":{\"line\":{\"color\":\"#E5ECF6\",\"width\":0.5},\"pattern\":{\"fillmode\":\"overlay\",\"size\":10,\"solidity\":0.2}},\"type\":\"barpolar\"}],\"pie\":[{\"automargin\":true,\"type\":\"pie\"}]},\"layout\":{\"autotypenumbers\":\"strict\",\"colorway\":[\"#636efa\",\"#EF553B\",\"#00cc96\",\"#ab63fa\",\"#FFA15A\",\"#19d3f3\",\"#FF6692\",\"#B6E880\",\"#FF97FF\",\"#FECB52\"],\"font\":{\"color\":\"#2a3f5f\"},\"hovermode\":\"closest\",\"hoverlabel\":{\"align\":\"left\"},\"paper_bgcolor\":\"white\",\"plot_bgcolor\":\"#E5ECF6\",\"polar\":{\"bgcolor\":\"#E5ECF6\",\"angularaxis\":{\"gridcolor\":\"white\",\"linecolor\":\"white\",\"ticks\":\"\"},\"radialaxis\":{\"gridcolor\":\"white\",\"linecolor\":\"white\",\"ticks\":\"\"}},\"ternary\":{\"bgcolor\":\"#E5ECF6\",\"aaxis\":{\"gridcolor\":\"white\",\"linecolor\":\"white\",\"ticks\":\"\"},\"baxis\":{\"gridcolor\":\"white\",\"linecolor\":\"white\",\"ticks\":\"\"},\"caxis\":{\"gridcolor\":\"white\",\"linecolor\":\"white\",\"ticks\":\"\"}},\"coloraxis\":{\"colorbar\":{\"outlinewidth\":0,\"ticks\":\"\"}},\"colorscale\":{\"sequential\":[[0.0,\"#0d0887\"],[0.1111111111111111,\"#46039f\"],[0.2222222222222222,\"#7201a8\"],[0.3333333333333333,\"#9c179e\"],[0.4444444444444444,\"#bd3786\"],[0.5555555555555556,\"#d8576b\"],[0.6666666666666666,\"#ed7953\"],[0.7777777777777778,\"#fb9f3a\"],[0.8888888888888888,\"#fdca26\"],[1.0,\"#f0f921\"]],\"sequentialminus\":[[0.0,\"#0d0887\"],[0.1111111111111111,\"#46039f\"],[0.2222222222222222,\"#7201a8\"],[0.3333333333333333,\"#9c179e\"],[0.4444444444444444,\"#bd3786\"],[0.5555555555555556,\"#d8576b\"],[0.6666666666666666,\"#ed7953\"],[0.7777777777777778,\"#fb9f3a\"],[0.8888888888888888,\"#fdca26\"],[1.0,\"#f0f921\"]],\"diverging\":[[0,\"#8e0152\"],[0.1,\"#c51b7d\"],[0.2,\"#de77ae\"],[0.3,\"#f1b6da\"],[0.4,\"#fde0ef\"],[0.5,\"#f7f7f7\"],[0.6,\"#e6f5d0\"],[0.7,\"#b8e186\"],[0.8,\"#7fbc41\"],[0.9,\"#4d9221\"],[1,\"#276419\"]]},\"xaxis\":{\"gridcolor\":\"white\",\"linecolor\":\"white\",\"ticks\":\"\",\"title\":{\"standoff\":15},\"zerolinecolor\":\"white\",\"automargin\":true,\"zerolinewidth\":2},\"yaxis\":{\"gridcolor\":\"white\",\"linecolor\":\"white\",\"ticks\":\"\",\"title\":{\"standoff\":15},\"zerolinecolor\":\"white\",\"automargin\":true,\"zerolinewidth\":2},\"scene\":{\"xaxis\":{\"backgroundcolor\":\"#E5ECF6\",\"gridcolor\":\"white\",\"linecolor\":\"white\",\"showbackground\":true,\"ticks\":\"\",\"zerolinecolor\":\"white\",\"gridwidth\":2},\"yaxis\":{\"backgroundcolor\":\"#E5ECF6\",\"gridcolor\":\"white\",\"linecolor\":\"white\",\"showbackground\":true,\"ticks\":\"\",\"zerolinecolor\":\"white\",\"gridwidth\":2},\"zaxis\":{\"backgroundcolor\":\"#E5ECF6\",\"gridcolor\":\"white\",\"linecolor\":\"white\",\"showbackground\":true,\"ticks\":\"\",\"zerolinecolor\":\"white\",\"gridwidth\":2}},\"shapedefaults\":{\"line\":{\"color\":\"#2a3f5f\"}},\"annotationdefaults\":{\"arrowcolor\":\"#2a3f5f\",\"arrowhead\":0,\"arrowwidth\":1},\"geo\":{\"bgcolor\":\"white\",\"landcolor\":\"#E5ECF6\",\"subunitcolor\":\"white\",\"showland\":true,\"showlakes\":true,\"lakecolor\":\"white\"},\"title\":{\"x\":0.05},\"mapbox\":{\"style\":\"light\"}}},\"xaxis\":{\"anchor\":\"y\",\"domain\":[0.0,1.0],\"title\":{\"text\":\"price prediction error\"}},\"yaxis\":{\"anchor\":\"x\",\"domain\":[0.0,1.0],\"title\":{\"text\":\"count\"}},\"legend\":{\"tracegroupgap\":0},\"title\":{\"text\":\"Regression Error Distribution\"},\"barmode\":\"relative\",\"height\":500,\"shapes\":[{\"line\":{\"color\":\"purple\",\"dash\":\"dash\"},\"type\":\"line\",\"x0\":-409072.855497609,\"x1\":-409072.855497609,\"xref\":\"x\",\"y0\":0,\"y1\":1,\"yref\":\"y domain\"},{\"line\":{\"color\":\"purple\",\"dash\":\"dot\"},\"type\":\"line\",\"x0\":-379951.393944736,\"x1\":-379951.393944736,\"xref\":\"x\",\"y0\":0,\"y1\":1,\"yref\":\"y domain\"}],\"annotations\":[{\"showarrow\":false,\"text\":\"median\",\"x\":-409072.855497609,\"xanchor\":\"right\",\"xref\":\"x\",\"y\":1,\"yanchor\":\"top\",\"yref\":\"y domain\"},{\"showarrow\":false,\"text\":\"mean\",\"x\":-379951.393944736,\"xanchor\":\"left\",\"xref\":\"x\",\"y\":1,\"yanchor\":\"top\",\"yref\":\"y domain\"}]}}",
           "type": "plotly"
          },
          {
           "payload": "Largest over estimation errors:",
           "type": "html"
          },
          {
           "payload": [
            {
             "engine_capacity": 1456.1100978059742,
             "fuel_type": 1,
             "kilometers_driven": 41232,
             "max_power_output": 0,
             "ownership": 0,
             "predicted price": 224796.4168541768,
             "price": 589000,
             "price Prediction Difference": 364203.5831458232,
             "transmission_Automatic": 0,
             "transmission_Manual": 1,
             "vehicle_year": 2017
            },
            {
             "engine_capacity": 1456.1100978059742,
             "fuel_type": 1,
             "kilometers_driven": 41232,
             "max_power_output": 0,
             "ownership": 0,
             "predicted price": 224796.4168541768,
             "price": 589000,
             "price Prediction Difference": 364203.5831458232,
             "transmission_Automatic": 0,
             "transmission_Manual": 1,
             "vehicle_year": 2017
            },
            {
             "engine_capacity": 1582,
             "fuel_type": 1,
             "kilometers_driven": 47000,
             "max_power_output": 126.2,
             "ownership": 1,
             "predicted price": 779072.855497609,
             "price": 1125000,
             "price Prediction Difference": 345927.144502391,
             "transmission_Automatic": 0,
             "transmission_Manual": 1,
             "vehicle_year": 2017
            }
           ],
           "type": "dataframe"
          },
          {
           "payload": "Largest under estimation errors:",
           "type": "html"
          },
          {
           "payload": [
            {
             "engine_capacity": 796,
             "fuel_type": 2,
             "kilometers_driven": 10000,
             "max_power_output": 37,
             "ownership": 0,
             "predicted price": 874960.6397911313,
             "price": 35000,
             "price Prediction Difference": -839960.6397911313,
             "transmission_Automatic": 0,
             "transmission_Manual": 1,
             "vehicle_year": 2007
            },
            {
             "engine_capacity": 796,
             "fuel_type": 2,
             "kilometers_driven": 80000,
             "max_power_output": 37,
             "ownership": 0,
             "predicted price": 874960.6397911313,
             "price": 45000,
             "price Prediction Difference": -829960.6397911313,
             "transmission_Automatic": 0,
             "transmission_Manual": 1,
             "vehicle_year": 2007
            },
            {
             "engine_capacity": 995,
             "fuel_type": 2,
             "kilometers_driven": 70000,
             "max_power_output": 62,
             "ownership": 0,
             "predicted price": 874960.6397911313,
             "price": 45000,
             "price Prediction Difference": -829960.6397911313,
             "transmission_Automatic": 0,
             "transmission_Manual": 1,
             "vehicle_year": 2008
            }
           ],
           "type": "dataframe"
          }
         ],
         "header": "Regression Error Distribution - Train Dataset",
         "type": "CheckResult",
         "value": {
          "Kurtosis Value": -0.35290884786780374,
          "Mean Prediction Error": {
           "dtype": "float64",
           "value": -379951.393944736
          },
          "Median Prediction Error": {
           "dtype": "float64",
           "value": -409072.855497609
          },
          "RMSE": {
           "dtype": "float64",
           "value": 440183.2712110803
          }
         }
        },
        {
         "check": {
          "name": "Regression Error Distribution",
          "params": {
           "n_bins": 40,
           "n_samples": 1000000,
           "n_top_samples": 3,
           "random_state": 42
          },
          "summary": "Check for systematic error and abnormal shape in the regression error distribution. <a href=\"https://docs.deepchecks.com/0.17/tabular/auto_checks/model_evaluation/plot_regression_error_distribution.html?utm_source=display_output&utm_medium=referral&utm_campaign=check_link\" target=\"_blank\">Read More...</a>"
         },
         "conditions_results": [
          {
           "Condition": "Systematic error ratio lower than 0.01",
           "More Info": "Found systematic error to rmse ratio of 0.86",
           "Status": "FAIL"
          },
          {
           "Condition": "Kurtosis value higher than -0.1",
           "More Info": "Found kurtosis value of -0.44656",
           "Status": "WARN"
          }
         ],
         "display": [
          {
           "payload": "{\"data\":[{\"alignmentgroup\":\"True\",\"bingroup\":\"x\",\"hovertemplate\":\"price prediction error=%{x}\\u003cbr\\u003ecount=%{y}\\u003cextra\\u003e\\u003c\\u002fextra\\u003e\",\"legendgroup\":\"\",\"marker\":{\"color\":\"#636efa\",\"pattern\":{\"shape\":\"\"}},\"name\":\"\",\"nbinsx\":40,\"offsetgroup\":\"\",\"orientation\":\"v\",\"showlegend\":false,\"x\":[-594072.855497609,20927.14450239099,-121895.72355320968,-564960.6397911313,-324960.63979113125,-624960.6397911313,-111895.72355320968,-554960.6397911313,-254960.63979113125,-159960.63979113125,-829960.6397911313,-374960.63979113125,-134960.63979113125,-528960.6397911313,-649072.855497609,-324960.63979113125,75039.36020886875,-289960.63979113125,-229072.855497609,-689072.855497609,-649960.6397911313,-429072.855497609,-594960.6397911313,-294073.855497609,-574960.6397911313,-374960.63979113125,160039.36020886875,-549073.855497609,-274960.63979113125,-632960.6397911313,-479072.855497609,333104.2764467903,-121895.72355320968,-264960.63979113125,-794960.6397911313,-579072.855497609,-154960.63979113125,-615960.6397911313,-605072.855497609,105039.36020886875,-184960.63979113125,-498960.63979113125,-249960.63979113125,-289960.63979113125,-684960.6397911313,-539072.855497609,250039.36020886875,-254960.63979113125,-224960.63979113125,-574960.6397911313,-384960.63979113125,-629072.855497609,-458960.63979113125,-574960.6397911313,-254960.63979113125,-394960.63979113125,-594072.855497609,39.36020886874758,-634960.6397911313,-499072.855497609,-414961.63979113125,-694072.855497609,-104960.63979113125,-579072.855497609,-24960.639791131252,-529072.855497609,-244072.855497609,-399960.63979113125,-129072.85549760901,-489960.63979113125,-524960.6397911313,-139960.63979113125,-724960.6397911313,-324960.63979113125,-429960.63979113125,-654072.855497609,-124960.63979113125,-339960.63979113125,-529072.855497609,-549960.6397911313,-459072.855497609,-324960.63979113125,-434960.63979113125,-224960.63979113125,95038.36020886875,-547960.6397911313,-241895.72355320968,-49960.63979113125,-574960.6397911313,-329960.63979113125,-479072.855497609,-179072.855497609,-224960.63979113125,-539072.855497609,-204960.63979113125,-509960.63979113125,-371960.63979113125,-54961.63979113125,-24960.639791131252,-349072.855497609,-354960.63979113125,-283960.63979113125,-374960.63979113125,-729072.855497609,-374960.63979113125,-224960.63979113125,-474960.63979113125,-349072.855497609,-694960.6397911313,-549073.855497609,-574960.6397911313,-349960.63979113125,-174960.63979113125,-441895.7235532097,-134960.63979113125,-549960.6397911313,75039.36020886875,-582960.6397911313,-474960.63979113125,-369073.855497609,-374960.63979113125,-129072.85549760901,-246895.72355320968,-149960.63979113125,175039.36020886875,-141895.72355320968,-569072.855497609,-599960.6397911313,125039.36020886875,-334960.63979113125,-371960.63979113125,-649960.6397911313,-249072.855497609,-674960.6397911313,-194960.63979113125,-729960.6397911313,-669072.855497609,-389072.855497609,-579072.855497609,-274960.63979113125,12104.276446790318,-589072.855497609,39.36020886874758,-334960.63979113125,-29072.85549760901,-224960.63979113125,-239072.855497609,-549960.6397911313,-254960.63979113125,-54961.63979113125,-499960.63979113125,-519072.855497609,125039.36020886875,-519072.855497609,-379072.855497609,-279072.855497609,-374960.63979113125,-654072.855497609,-354960.63979113125,-24960.639791131252,-224960.63979113125,-429072.855497609,-619072.855497609,-589072.855497609,-629072.855497609,-324960.63979113125,-284072.855497609,-129072.85549760901,-174960.63979113125,-459072.855497609,-319960.63979113125,-124072.85549760901,-204960.63979113125,-629072.855497609,-709960.6397911313,-124960.63979113125,-299960.63979113125,-179072.855497609,-224960.63979113125,-649960.6397911313,-274960.63979113125,-229072.855497609,-584960.6397911313,-489072.855497609,-454072.855497609,-174960.63979113125,-619961.6397911313,-654960.6397911313,-522073.855497609,-376072.855497609,-474960.63979113125,-374960.63979113125,-634960.6397911313,-14960.639791131252,-274960.63979113125,-654960.6397911313,-429960.63979113125,-364961.63979113125,-599960.6397911313,-374960.63979113125,-429072.855497609,-124960.63979113125,-400583.1597686658,-464072.855497609,-522960.63979113125,-624960.6397911313,-449960.63979113125,-474960.63979113125,-629072.855497609,-379072.855497609,-324960.63979113125,-524960.6397911313,-634960.6397911313,-524960.6397911313,-269583.1597686658,-479072.855497609,-574960.6397911313,-579072.855497609,-314960.63979113125,-299960.63979113125,-74960.63979113125,-224960.63979113125,-429072.855497609,-657072.855497609,-534072.855497609,-329072.855497609,-484960.63979113125,-529072.855497609,-579072.855497609,-524960.6397911313,-424960.63979113125,-319073.855497609,-479072.855497609,-624960.6397911313,-554072.855497609,-394960.63979113125,-442960.63979113125,-149960.63979113125,-164960.63979113125,-614960.6397911313,-134960.63979113125,-624960.6397911313,-469072.855497609,-99960.63979113125,75039.36020886875,-280072.855497609,-174960.63979113125,-629072.855497609,-374960.63979113125,-814960.6397911313,-544960.6397911313,-124960.63979113125,-24960.639791131252,-149960.63979113125,-29072.85549760901,-739960.6397911313,-324960.63979113125,-324960.63979113125,-319073.855497609,-94960.63979113125,-558960.6397911313,-464961.63979113125,-408072.855497609,-429072.855497609,-139960.63979113125,-299960.63979113125,-354960.63979113125,-474960.63979113125,-394960.63979113125,-379072.855497609,-574960.6397911313,-254960.63979113125,-74960.63979113125,-430583.1597686658,-141895.72355320968,-374960.63979113125,927.144502390991,-664960.6397911313,-259072.855497609,-374960.63979113125,-424960.63979113125,-599960.6397911313,-599960.6397911313,-424960.63979113125,-549960.6397911313,-684072.855497609,325039.36020886875,-349960.63979113125,-349072.855497609,-609072.855497609,-474960.63979113125,-216895.72355320968,-549960.6397911313,-793960.6397911313,-694960.6397911313,-584960.6397911313,80927.14450239099,-474960.63979113125,-624960.6397911313,-574960.6397911313,-329072.855497609,-599072.855497609,-254960.63979113125,-524960.6397911313,-659960.6397911313,19416.84023133421,-614960.6397911313,-349072.855497609,100039.36020886875,-134960.63979113125,-639960.6397911313,-399960.63979113125,-419960.63979113125,-574960.6397911313,927.144502390991,-249960.63979113125,-659072.855497609,-254960.63979113125,-289960.63979113125,-333960.63979113125,-342960.63979113125,-324960.63979113125,-429072.855497609,-628960.6397911313,45038.36020886875,-449960.63979113125,115039.36020886875,-419072.855497609,-124960.63979113125,-649960.6397911313,-371960.63979113125,-104072.85549760901,-599960.6397911313,-164072.855497609,-431072.855497609,-529072.855497609,-324960.63979113125,-374960.63979113125,-459072.855497609,-429072.855497609,-449960.63979113125,-417072.855497609,-449072.855497609,-449960.63979113125,-489960.63979113125,-429072.855497609,-329072.855497609,-121895.72355320968,-324960.63979113125,-374960.63979113125,-224960.63979113125,-379960.63979113125,-384960.63979113125,-624960.6397911313,-24960.639791131252,-80583.15976866579,-229072.855497609,-604960.6397911313,115039.36020886875,-699960.6397911313,-274960.63979113125,-429072.855497609,-204072.855497609,-294960.63979113125,-154072.855497609,219416.8402313342,-259072.855497609,-339960.63979113125,-674960.6397911313,-559960.6397911313,-274960.63979113125,-559072.855497609,-609072.855497609,-399072.855497609,-554960.6397911313,-329072.855497609,-399072.855497609,25039.360208868748,-564960.6397911313,-366895.7235532097,-74960.63979113125,-314960.63979113125,-609960.6397911313,-424960.63979113125,-594072.855497609,-609072.855497609,-579072.855497609,-334960.63979113125,-368072.855497609,-694960.6397911313,-724960.6397911313,-534072.855497609,-674960.6397911313,-439072.855497609,-274960.63979113125,-699072.855497609,150039.36020886875,-579072.855497609,-514960.63979113125,-324960.63979113125,-429072.855497609,-468072.855497609,-124960.63979113125,-249960.63979113125,-474960.63979113125,-254960.63979113125,-459072.855497609,-249960.63979113125,-594960.6397911313,-694960.6397911313,-59072.85549760901,-374960.63979113125,-489072.855497609,-634960.6397911313,-274960.63979113125,-409072.855497609,75039.36020886875,-694960.6397911313,-424960.63979113125,-99960.63979113125,-299960.63979113125,-339960.63979113125,-534072.855497609,-324960.63979113125,200039.36020886875,-274960.63979113125,-409072.855497609,-149960.63979113125,-504072.855497609,-534072.855497609,-379072.855497609,-344960.63979113125,-574960.6397911313,-29072.85549760901,-659072.855497609,-509072.855497609,-16895.723553209682,-249960.63979113125,-334960.63979113125,-174960.63979113125,-596960.6397911313,-336895.7235532097,-604072.855497609,-71961.63979113125,-76895.72355320968,-224960.63979113125,-324960.63979113125,-121895.72355320968,-529072.855497609,-694960.6397911313,-409072.855497609,-514960.63979113125,-319073.855497609,-654960.6397911313,-329072.855497609,-639072.855497609,-274960.63979113125,-549073.855497609,-94960.63979113125,-474960.63979113125,-484960.63979113125,50039.36020886875,12104.276446790318,-386895.7235532097,-416895.7235532097,-329072.855497609,33104.27644679032,-554960.6397911313,-429072.855497609,-674960.6397911313,-179072.855497609,-149960.63979113125,-374960.63979113125,-394960.63979113125,-600072.855497609,-649960.6397911313,-604960.6397911313,-389961.63979113125,-194960.63979113125,-19072.85549760901,-242960.63979113125,-349960.63979113125,-295960.63979113125,12104.276446790318,-209072.855497609,-329072.855497609,50039.36020886875,-499072.855497609,-546960.6397911313,-204960.63979113125,-349960.63979113125,-164960.63979113125,-399072.855497609,-314960.63979113125,-174960.63979113125,-116895.72355320968,-479072.855497609,-418961.63979113125,-724960.6397911313,-302073.855497609,-91895.72355320968,-350960.63979113125,-574960.6397911313,8104.276446790318,-579072.855497609,-350895.7235532097,-459960.63979113125,-475960.63979113125,-109960.63979113125,-224960.63979113125,-264960.63979113125,-224960.63979113125,-149072.855497609,-174960.63979113125,-199960.63979113125,-499072.855497609,-49960.63979113125,-704960.6397911313,-274960.63979113125,-174960.63979113125,-539072.855497609,-349072.855497609,-469072.855497609,-249960.63979113125,-499960.63979113125,125039.36020886875,-134960.63979113125,-644961.6397911313,-704960.6397911313,63104.27644679032,-324960.63979113125,-649960.6397911313,-424960.63979113125,-166895.72355320968,-694960.6397911313,-634960.6397911313,-564072.855497609,-574960.6397911313,-694960.6397911313,-214072.855497609,128103.27644679032,-224960.63979113125,-389961.63979113125,-674072.855497609,-334960.63979113125,-624960.6397911313,-424960.63979113125,-374960.63979113125,-584960.6397911313,-644961.6397911313,150039.36020886875,-284960.63979113125,-424960.63979113125,-294960.63979113125,-524960.6397911313,-324960.63979113125,-689072.855497609,-299960.63979113125,25039.360208868748,-409072.855497609,-129072.85549760901,-474960.63979113125,-564960.6397911313,-184960.63979113125,-709072.855497609,-204960.63979113125,-394960.63979113125,-624960.6397911313,-371960.63979113125,-429960.63979113125,-174960.63979113125,-104960.63979113125,-429072.855497609,-534960.6397911313,-664960.6397911313,-509072.855497609,-614960.6397911313,-131895.72355320968,-299072.855497609,-649072.855497609,-354072.855497609,-559960.6397911313,-549073.855497609,-494960.63979113125,-124960.63979113125,-419072.855497609,-559072.855497609,-724960.6397911313,82039.36020886875,-24960.639791131252,-228072.855497609,-484072.855497609,-579072.855497609,-462960.63979113125,-274960.63979113125,-659072.855497609,-149072.855497609,-484960.63979113125,108104.27644679032,-524960.6397911313,-674960.6397911313,-354960.63979113125,-174960.63979113125,-324960.63979113125,-579072.855497609,-549073.855497609,-374960.63979113125,-624960.6397911313,-359072.855497609,-289960.63979113125,-459072.855497609,-804960.6397911313,-544960.6397911313,-354960.63979113125,-439961.63979113125,-643960.6397911313,-424960.63979113125,-279072.855497609,105039.36020886875,-659072.855497609,-174960.63979113125,-349072.855497609,-524960.6397911313,-274960.63979113125,-191895.72355320968,-204960.63979113125,-26895.723553209682,-549960.6397911313,-359583.1597686658,-344960.63979113125,-539072.855497609,-579072.855497609,-180072.855497609,-624960.6397911313,25039.360208868748,-528960.6397911313,-4072.855497609009,8104.276446790318,-659072.855497609,-324960.63979113125,-249960.63979113125,-544072.855497609,-324960.63979113125,-549073.855497609,-544960.6397911313,-694072.855497609,-139960.63979113125,-674960.6397911313,-580072.855497609,-389961.63979113125,-109960.63979113125,-489960.63979113125,-699960.6397911313,-116895.72355320968,-709960.6397911313,-584072.855497609,-244960.63979113125,-116895.72355320968,-339072.855497609,-394960.63979113125,-374960.63979113125,-498960.63979113125,-454960.63979113125,-264960.63979113125,-634072.855497609,-299960.63979113125,-399960.63979113125,-39960.63979113125,-294960.63979113125,20927.14450239099,-654072.855497609,-374960.63979113125,-549960.6397911313,-224960.63979113125,-371960.63979113125,-371960.63979113125,-319073.855497609,-16895.723553209682,-489072.855497609,-124960.63979113125,-429072.855497609,-116895.72355320968,-74960.63979113125,-459960.63979113125,-629072.855497609,-539960.6397911313,-374960.63979113125,66104.27644679032,-134960.63979113125,-274960.63979113125,-174960.63979113125,-254960.63979113125,-166895.72355320968,-224960.63979113125,-474960.63979113125,-359960.63979113125,-184960.63979113125,-474960.63979113125,-299960.63979113125,-374960.63979113125,-309072.855497609,-554072.855497609,-264960.63979113125,-579072.855497609,-74960.63979113125,-229072.855497609,-324960.63979113125,-652960.6397911313,-344960.63979113125,-294960.63979113125,-554072.855497609,123104.27644679032,-204072.855497609,-624960.6397911313,-479960.63979113125,123104.27644679032,-674960.6397911313,-474960.63979113125,-312960.63979113125,-659072.855497609,-234960.63979113125,-639072.855497609,-562960.6397911313,-714960.6397911313,-609072.855497609,-379072.855497609,-599960.6397911313,-71961.63979113125,-8960.639791131252,95038.36020886875,-454960.63979113125,-179072.855497609,85039.36020886875,-424960.63979113125,-129072.85549760901,25039.360208868748,-124960.63979113125,-614960.6397911313,-179960.63979113125,-609960.6397911313,-154072.855497609,-524960.6397911313,-244960.63979113125,-514960.63979113125,-371960.63979113125,-419960.63979113125,-634072.855497609,-124960.63979113125,25039.360208868748,-655072.855497609,-624960.6397911313,-166895.72355320968,-264960.63979113125,-694960.6397911313,-614960.6397911313,70927.14450239099,-624960.6397911313,-679072.855497609,-464961.63979113125,-224960.63979113125,-405895.7235532097,-694960.6397911313,-29072.85549760901,-624960.6397911313,75039.36020886875,125039.36020886875,-404072.855497609,-24960.639791131252,-354072.855497609,-121895.72355320968,-268072.855497609,-249960.63979113125,-324960.63979113125,-379072.855497609,-274960.63979113125,-364961.63979113125,-575960.6397911313,-254072.855497609,-524960.6397911313,-16895.723553209682,-384960.63979113125,15039.360208868748,-574960.6397911313,-159072.855497609,-275960.63979113125,-574960.6397911313,-764960.6397911313,-439961.63979113125,33104.27644679032,-174960.63979113125,-369073.855497609,-16895.723553209682,-369073.855497609,75039.36020886875,-324960.63979113125,-234960.63979113125,-124960.63979113125,-529072.855497609,-564960.6397911313,258104.27644679032,-619072.855497609,-407960.63979113125,-274960.63979113125,-494960.63979113125,-419960.63979113125,-589072.855497609,-124960.63979113125,175039.36020886875,-174960.63979113125,-744960.6397911313,-479072.855497609,-449072.855497609,-619072.855497609,-559072.855497609,-469072.855497609,-664960.6397911313,-659960.6397911313,-479072.855497609,-370072.855497609,-199072.855497609,-184960.63979113125,-424960.63979113125,-508960.63979113125,-464961.63979113125,-207960.63979113125,-329072.855497609,-623961.6397911313,-234960.63979113125,-442960.63979113125,-54961.63979113125,-649960.6397911313,-219960.63979113125,-579072.855497609,-624960.6397911313,-349960.63979113125,-479072.855497609,-139072.855497609,-254072.855497609,-622960.6397911313,-449960.63979113125,-325960.63979113125,12104.276446790318,-116895.72355320968,-329072.855497609,-539072.855497609,-329072.855497609,-514072.855497609,-104072.85549760901,-684960.6397911313,-229072.855497609,-744960.6397911313,-399072.855497609,-354072.855497609,-344960.63979113125,-449072.855497609,-664073.855497609,-444960.63979113125,-354072.855497609,-564960.6397911313,-344960.63979113125,-639072.855497609,-116895.72355320968,-659072.855497609,-499072.855497609,-449960.63979113125,19927.14450239099,-584072.855497609,-274960.63979113125,75039.36020886875,-769960.6397911313,-649072.855497609,12104.276446790318,-174960.63979113125,-364961.63979113125,-725072.855497609,-224960.63979113125,-124960.63979113125,-354960.63979113125,25039.360208868748,-742960.6397911313,-529072.855497609,-424960.63979113125,-429072.855497609,75039.36020886875,-274960.63979113125,-324960.63979113125,-324960.63979113125,-644961.6397911313,-474960.63979113125,-409960.63979113125,-49960.63979113125,-628960.6397911313,-314960.63979113125,-263960.63979113125,-224960.63979113125,-709072.855497609,-524960.6397911313,-539960.6397911313,-294960.63979113125,-384960.63979113125,-274960.63979113125,-399960.63979113125,-524960.6397911313,-515960.63979113125,-144960.63979113125,-134960.63979113125,-116895.72355320968,-224960.63979113125,-154960.63979113125,-449960.63979113125,-304960.63979113125,-224960.63979113125,-224960.63979113125,-199960.63979113125,-274960.63979113125,-399960.63979113125,-429072.855497609,-359960.63979113125,-544960.6397911313,-381960.63979113125,-334960.63979113125,-639072.855497609,-384960.63979113125,-654960.6397911313,-749960.6397911313,-559960.6397911313,-669072.855497609,-324960.63979113125,-174960.63979113125,-329072.855497609,75039.36020886875,-66895.72355320968,-739960.6397911313,-574960.6397911313,-40960.63979113125,-371960.63979113125,-574960.6397911313,-474960.63979113125,-429072.855497609,-294960.63979113125,-638960.6397911313,-249960.63979113125,-599072.855497609,-374960.63979113125,-239960.63979113125,-569072.855497609,-619072.855497609,12104.276446790318,-389072.855497609,-479072.855497609,-359072.855497609,-394960.63979113125,145927.144502391,-529072.855497609,-649072.855497609,-116895.72355320968,-29072.85549760901,-649960.6397911313,-544072.855497609,-134960.63979113125,-599072.855497609,-485960.63979113125,-734072.855497609,-579072.855497609,-499072.855497609,-554960.6397911313,-474960.63979113125,-24960.639791131252,-592072.855497609,-514960.63979113125,-449072.855497609,-214583.1597686658,-574960.6397911313,-289960.63979113125,-429072.855497609,-79960.63979113125,-479960.63979113125,-121895.72355320968,93104.27644679032,-404960.63979113125,-224960.63979113125,-429072.855497609,8104.276446790318,-274960.63979113125,-207960.63979113125,-243960.63979113125,-384960.63979113125,-419072.855497609,-409960.63979113125,-554072.855497609,-224960.63979113125,-324960.63979113125,-146895.72355320968,-224960.63979113125,-330583.1597686658,12104.276446790318,-549073.855497609,-244960.63979113125,-529072.855497609,-610072.855497609,233104.27644679032,100927.14450239099,-444960.63979113125,-349960.63979113125,-174960.63979113125,-649072.855497609,-324960.63979113125,-592960.6397911313,-534960.6397911313,-111895.72355320968,-614960.6397911313,-119072.85549760901,65039.36020886875,-529072.855497609,-574960.6397911313,-504960.63979113125,-724960.6397911313,-653960.6397911313,-344073.855497609,-134960.63979113125,-94960.63979113125,-584960.6397911313,-519960.63979113125,-629072.855497609,-404960.63979113125,-624960.6397911313,-674960.6397911313,-304960.63979113125,-224960.63979113125,-574960.6397911313,-234960.63979113125,-116895.72355320968,-124960.63979113125,-184960.63979113125,50039.36020886875,-599960.6397911313,-579072.855497609,-284072.855497609,-659072.855497609,-786960.6397911313,82039.36020886875,-159072.855497609,-391960.63979113125,-724960.6397911313,-494960.63979113125,-589960.6397911313,-654960.6397911313,-374960.63979113125,-366895.7235532097,-399072.855497609,-754960.6397911313,-424960.63979113125,-524960.6397911313,-199960.63979113125,-649960.6397911313,-629072.855497609,-624960.6397911313,-79960.63979113125,-584072.855497609,25039.360208868748,-148072.855497609,-209072.855497609,-529072.855497609,-304960.63979113125,-174960.63979113125,-24960.639791131252,-629072.855497609,-639072.855497609,-614072.855497609,-459960.63979113125,-469072.855497609,-674960.6397911313,-149072.855497609,-324960.63979113125,-549960.6397911313,-479072.855497609,-129072.85549760901,-658072.855497609,-714960.6397911313,175039.36020886875,-429072.855497609,-579072.855497609,-359072.855497609,75039.36020886875,-224960.63979113125,-116895.72355320968,-614960.6397911313,-518960.63979113125,-254072.855497609,-649960.6397911313,-539072.855497609,-464961.63979113125,-399072.855497609,-649960.6397911313,-519072.855497609,-479072.855497609,-240960.63979113125,-374960.63979113125,-235583.1597686658,-489072.855497609,-629960.6397911313,-479072.855497609,75039.36020886875,-534960.6397911313,-274960.63979113125,-379072.855497609,-354072.855497609,-459072.855497609,-419072.855497609,-239072.855497609,-124960.63979113125,-609960.6397911313,-630960.6397911313,100039.36020886875,-254072.855497609,-594960.6397911313,-324960.63979113125,-544960.6397911313,-224960.63979113125,-534960.6397911313,-524960.6397911313,-154960.63979113125,-744960.6397911313,45927.14450239099,-529072.855497609,-628960.6397911313,-429072.855497609,-174960.63979113125,25039.360208868748,-574960.6397911313,-384960.63979113125,-709072.855497609,-374960.63979113125,-404960.63979113125,-249960.63979113125,-379072.855497609,-654960.6397911313,-121895.72355320968,-594960.6397911313,-634960.6397911313,-449072.855497609,-744960.6397911313,-529072.855497609,-224960.63979113125,-279960.63979113125,-294960.63979113125,-74960.63979113125,-564960.6397911313,-329072.855497609,-223960.63979113125,-499960.63979113125,-324960.63979113125,-264960.63979113125,-124960.63979113125,-274960.63979113125,-324960.63979113125,-454072.855497609,-199960.63979113125,-371960.63979113125,-443961.63979113125,-409072.855497609,-254072.855497609,-474960.63979113125,-279960.63979113125,-684960.6397911313,-419072.855497609,-707072.855497609,-699960.6397911313,-524960.6397911313,-699072.855497609,-454960.63979113125,-524960.6397911313,75039.36020886875,-529072.855497609,-289960.63979113125,-384960.63979113125,-704960.6397911313,-309960.63979113125,-324960.63979113125,-704960.6397911313,-329072.855497609,-424960.63979113125,-394960.63979113125,-349960.63979113125,-419960.63979113125,-694960.6397911313,115039.36020886875,-146895.72355320968,-524960.6397911313,-289960.63979113125,-454960.63979113125,-229072.855497609,-564960.6397911313,-609072.855497609,-524960.6397911313,-574960.6397911313,-279072.855497609,-224960.63979113125,-124960.63979113125,-484960.63979113125,-312960.63979113125,-509072.855497609,-304960.63979113125,-549960.6397911313,-399960.63979113125,-379072.855497609,-459960.63979113125,-121895.72355320968,-444960.63979113125,-124960.63979113125,-424960.63979113125,-584960.6397911313,-223960.63979113125,-659960.6397911313,-744960.6397911313,-374960.63979113125,-414961.63979113125,-324960.63979113125,-484960.63979113125,-119960.63979113125,-344960.63979113125,-449960.63979113125,-166895.72355320968,-619072.855497609,-620960.6397911313,-374960.63979113125,-249960.63979113125,-614072.855497609,39.36020886874758,-683960.6397911313,-564960.6397911313,-99072.85549760901,-574960.6397911313,-529072.855497609,-170584.1597686658,-244960.63979113125,-524960.6397911313,-654960.6397911313,-258072.855497609,12104.276446790318,-64072.85549760901,-424960.63979113125,-324960.63979113125,-524960.6397911313,-374960.63979113125,-644072.855497609,-324960.63979113125,-544960.6397911313,-574960.6397911313,-374960.63979113125,-49960.63979113125,-374960.63979113125,-166895.72355320968,-674960.6397911313,-204960.63979113125,-694072.855497609,-275960.63979113125,-549960.6397911313,-674960.6397911313,-664073.855497609,-194960.63979113125,-454072.855497609,-559960.6397911313,-234960.63979113125,-49960.63979113125,-599072.855497609,-277960.63979113125,-299960.63979113125,-124960.63979113125,-446960.63979113125,-149960.63979113125,-324960.63979113125,-564960.6397911313,-279072.855497609,-259072.855497609,-339072.855497609,-449072.855497609,-224960.63979113125,-589072.855497609,-74960.63979113125,-129072.85549760901,-524960.6397911313,-658072.855497609,-174960.63979113125,-166895.72355320968,-424960.63979113125,-719960.6397911313,-154960.63979113125,-324960.63979113125,-524960.6397911313,-404960.63979113125,-124960.63979113125,-726960.6397911313,-315583.1597686658,-484960.63979113125],\"xaxis\":\"x\",\"yaxis\":\"y\",\"type\":\"histogram\"}],\"layout\":{\"template\":{\"data\":{\"histogram2dcontour\":[{\"type\":\"histogram2dcontour\",\"colorbar\":{\"outlinewidth\":0,\"ticks\":\"\"},\"colorscale\":[[0.0,\"#0d0887\"],[0.1111111111111111,\"#46039f\"],[0.2222222222222222,\"#7201a8\"],[0.3333333333333333,\"#9c179e\"],[0.4444444444444444,\"#bd3786\"],[0.5555555555555556,\"#d8576b\"],[0.6666666666666666,\"#ed7953\"],[0.7777777777777778,\"#fb9f3a\"],[0.8888888888888888,\"#fdca26\"],[1.0,\"#f0f921\"]]}],\"choropleth\":[{\"type\":\"choropleth\",\"colorbar\":{\"outlinewidth\":0,\"ticks\":\"\"}}],\"histogram2d\":[{\"type\":\"histogram2d\",\"colorbar\":{\"outlinewidth\":0,\"ticks\":\"\"},\"colorscale\":[[0.0,\"#0d0887\"],[0.1111111111111111,\"#46039f\"],[0.2222222222222222,\"#7201a8\"],[0.3333333333333333,\"#9c179e\"],[0.4444444444444444,\"#bd3786\"],[0.5555555555555556,\"#d8576b\"],[0.6666666666666666,\"#ed7953\"],[0.7777777777777778,\"#fb9f3a\"],[0.8888888888888888,\"#fdca26\"],[1.0,\"#f0f921\"]]}],\"heatmap\":[{\"type\":\"heatmap\",\"colorbar\":{\"outlinewidth\":0,\"ticks\":\"\"},\"colorscale\":[[0.0,\"#0d0887\"],[0.1111111111111111,\"#46039f\"],[0.2222222222222222,\"#7201a8\"],[0.3333333333333333,\"#9c179e\"],[0.4444444444444444,\"#bd3786\"],[0.5555555555555556,\"#d8576b\"],[0.6666666666666666,\"#ed7953\"],[0.7777777777777778,\"#fb9f3a\"],[0.8888888888888888,\"#fdca26\"],[1.0,\"#f0f921\"]]}],\"heatmapgl\":[{\"type\":\"heatmapgl\",\"colorbar\":{\"outlinewidth\":0,\"ticks\":\"\"},\"colorscale\":[[0.0,\"#0d0887\"],[0.1111111111111111,\"#46039f\"],[0.2222222222222222,\"#7201a8\"],[0.3333333333333333,\"#9c179e\"],[0.4444444444444444,\"#bd3786\"],[0.5555555555555556,\"#d8576b\"],[0.6666666666666666,\"#ed7953\"],[0.7777777777777778,\"#fb9f3a\"],[0.8888888888888888,\"#fdca26\"],[1.0,\"#f0f921\"]]}],\"contourcarpet\":[{\"type\":\"contourcarpet\",\"colorbar\":{\"outlinewidth\":0,\"ticks\":\"\"}}],\"contour\":[{\"type\":\"contour\",\"colorbar\":{\"outlinewidth\":0,\"ticks\":\"\"},\"colorscale\":[[0.0,\"#0d0887\"],[0.1111111111111111,\"#46039f\"],[0.2222222222222222,\"#7201a8\"],[0.3333333333333333,\"#9c179e\"],[0.4444444444444444,\"#bd3786\"],[0.5555555555555556,\"#d8576b\"],[0.6666666666666666,\"#ed7953\"],[0.7777777777777778,\"#fb9f3a\"],[0.8888888888888888,\"#fdca26\"],[1.0,\"#f0f921\"]]}],\"surface\":[{\"type\":\"surface\",\"colorbar\":{\"outlinewidth\":0,\"ticks\":\"\"},\"colorscale\":[[0.0,\"#0d0887\"],[0.1111111111111111,\"#46039f\"],[0.2222222222222222,\"#7201a8\"],[0.3333333333333333,\"#9c179e\"],[0.4444444444444444,\"#bd3786\"],[0.5555555555555556,\"#d8576b\"],[0.6666666666666666,\"#ed7953\"],[0.7777777777777778,\"#fb9f3a\"],[0.8888888888888888,\"#fdca26\"],[1.0,\"#f0f921\"]]}],\"mesh3d\":[{\"type\":\"mesh3d\",\"colorbar\":{\"outlinewidth\":0,\"ticks\":\"\"}}],\"scatter\":[{\"fillpattern\":{\"fillmode\":\"overlay\",\"size\":10,\"solidity\":0.2},\"type\":\"scatter\"}],\"parcoords\":[{\"type\":\"parcoords\",\"line\":{\"colorbar\":{\"outlinewidth\":0,\"ticks\":\"\"}}}],\"scatterpolargl\":[{\"type\":\"scatterpolargl\",\"marker\":{\"colorbar\":{\"outlinewidth\":0,\"ticks\":\"\"}}}],\"bar\":[{\"error_x\":{\"color\":\"#2a3f5f\"},\"error_y\":{\"color\":\"#2a3f5f\"},\"marker\":{\"line\":{\"color\":\"#E5ECF6\",\"width\":0.5},\"pattern\":{\"fillmode\":\"overlay\",\"size\":10,\"solidity\":0.2}},\"type\":\"bar\"}],\"scattergeo\":[{\"type\":\"scattergeo\",\"marker\":{\"colorbar\":{\"outlinewidth\":0,\"ticks\":\"\"}}}],\"scatterpolar\":[{\"type\":\"scatterpolar\",\"marker\":{\"colorbar\":{\"outlinewidth\":0,\"ticks\":\"\"}}}],\"histogram\":[{\"marker\":{\"pattern\":{\"fillmode\":\"overlay\",\"size\":10,\"solidity\":0.2}},\"type\":\"histogram\"}],\"scattergl\":[{\"type\":\"scattergl\",\"marker\":{\"colorbar\":{\"outlinewidth\":0,\"ticks\":\"\"}}}],\"scatter3d\":[{\"type\":\"scatter3d\",\"line\":{\"colorbar\":{\"outlinewidth\":0,\"ticks\":\"\"}},\"marker\":{\"colorbar\":{\"outlinewidth\":0,\"ticks\":\"\"}}}],\"scattermapbox\":[{\"type\":\"scattermapbox\",\"marker\":{\"colorbar\":{\"outlinewidth\":0,\"ticks\":\"\"}}}],\"scatterternary\":[{\"type\":\"scatterternary\",\"marker\":{\"colorbar\":{\"outlinewidth\":0,\"ticks\":\"\"}}}],\"scattercarpet\":[{\"type\":\"scattercarpet\",\"marker\":{\"colorbar\":{\"outlinewidth\":0,\"ticks\":\"\"}}}],\"carpet\":[{\"aaxis\":{\"endlinecolor\":\"#2a3f5f\",\"gridcolor\":\"white\",\"linecolor\":\"white\",\"minorgridcolor\":\"white\",\"startlinecolor\":\"#2a3f5f\"},\"baxis\":{\"endlinecolor\":\"#2a3f5f\",\"gridcolor\":\"white\",\"linecolor\":\"white\",\"minorgridcolor\":\"white\",\"startlinecolor\":\"#2a3f5f\"},\"type\":\"carpet\"}],\"table\":[{\"cells\":{\"fill\":{\"color\":\"#EBF0F8\"},\"line\":{\"color\":\"white\"}},\"header\":{\"fill\":{\"color\":\"#C8D4E3\"},\"line\":{\"color\":\"white\"}},\"type\":\"table\"}],\"barpolar\":[{\"marker\":{\"line\":{\"color\":\"#E5ECF6\",\"width\":0.5},\"pattern\":{\"fillmode\":\"overlay\",\"size\":10,\"solidity\":0.2}},\"type\":\"barpolar\"}],\"pie\":[{\"automargin\":true,\"type\":\"pie\"}]},\"layout\":{\"autotypenumbers\":\"strict\",\"colorway\":[\"#636efa\",\"#EF553B\",\"#00cc96\",\"#ab63fa\",\"#FFA15A\",\"#19d3f3\",\"#FF6692\",\"#B6E880\",\"#FF97FF\",\"#FECB52\"],\"font\":{\"color\":\"#2a3f5f\"},\"hovermode\":\"closest\",\"hoverlabel\":{\"align\":\"left\"},\"paper_bgcolor\":\"white\",\"plot_bgcolor\":\"#E5ECF6\",\"polar\":{\"bgcolor\":\"#E5ECF6\",\"angularaxis\":{\"gridcolor\":\"white\",\"linecolor\":\"white\",\"ticks\":\"\"},\"radialaxis\":{\"gridcolor\":\"white\",\"linecolor\":\"white\",\"ticks\":\"\"}},\"ternary\":{\"bgcolor\":\"#E5ECF6\",\"aaxis\":{\"gridcolor\":\"white\",\"linecolor\":\"white\",\"ticks\":\"\"},\"baxis\":{\"gridcolor\":\"white\",\"linecolor\":\"white\",\"ticks\":\"\"},\"caxis\":{\"gridcolor\":\"white\",\"linecolor\":\"white\",\"ticks\":\"\"}},\"coloraxis\":{\"colorbar\":{\"outlinewidth\":0,\"ticks\":\"\"}},\"colorscale\":{\"sequential\":[[0.0,\"#0d0887\"],[0.1111111111111111,\"#46039f\"],[0.2222222222222222,\"#7201a8\"],[0.3333333333333333,\"#9c179e\"],[0.4444444444444444,\"#bd3786\"],[0.5555555555555556,\"#d8576b\"],[0.6666666666666666,\"#ed7953\"],[0.7777777777777778,\"#fb9f3a\"],[0.8888888888888888,\"#fdca26\"],[1.0,\"#f0f921\"]],\"sequentialminus\":[[0.0,\"#0d0887\"],[0.1111111111111111,\"#46039f\"],[0.2222222222222222,\"#7201a8\"],[0.3333333333333333,\"#9c179e\"],[0.4444444444444444,\"#bd3786\"],[0.5555555555555556,\"#d8576b\"],[0.6666666666666666,\"#ed7953\"],[0.7777777777777778,\"#fb9f3a\"],[0.8888888888888888,\"#fdca26\"],[1.0,\"#f0f921\"]],\"diverging\":[[0,\"#8e0152\"],[0.1,\"#c51b7d\"],[0.2,\"#de77ae\"],[0.3,\"#f1b6da\"],[0.4,\"#fde0ef\"],[0.5,\"#f7f7f7\"],[0.6,\"#e6f5d0\"],[0.7,\"#b8e186\"],[0.8,\"#7fbc41\"],[0.9,\"#4d9221\"],[1,\"#276419\"]]},\"xaxis\":{\"gridcolor\":\"white\",\"linecolor\":\"white\",\"ticks\":\"\",\"title\":{\"standoff\":15},\"zerolinecolor\":\"white\",\"automargin\":true,\"zerolinewidth\":2},\"yaxis\":{\"gridcolor\":\"white\",\"linecolor\":\"white\",\"ticks\":\"\",\"title\":{\"standoff\":15},\"zerolinecolor\":\"white\",\"automargin\":true,\"zerolinewidth\":2},\"scene\":{\"xaxis\":{\"backgroundcolor\":\"#E5ECF6\",\"gridcolor\":\"white\",\"linecolor\":\"white\",\"showbackground\":true,\"ticks\":\"\",\"zerolinecolor\":\"white\",\"gridwidth\":2},\"yaxis\":{\"backgroundcolor\":\"#E5ECF6\",\"gridcolor\":\"white\",\"linecolor\":\"white\",\"showbackground\":true,\"ticks\":\"\",\"zerolinecolor\":\"white\",\"gridwidth\":2},\"zaxis\":{\"backgroundcolor\":\"#E5ECF6\",\"gridcolor\":\"white\",\"linecolor\":\"white\",\"showbackground\":true,\"ticks\":\"\",\"zerolinecolor\":\"white\",\"gridwidth\":2}},\"shapedefaults\":{\"line\":{\"color\":\"#2a3f5f\"}},\"annotationdefaults\":{\"arrowcolor\":\"#2a3f5f\",\"arrowhead\":0,\"arrowwidth\":1},\"geo\":{\"bgcolor\":\"white\",\"landcolor\":\"#E5ECF6\",\"subunitcolor\":\"white\",\"showland\":true,\"showlakes\":true,\"lakecolor\":\"white\"},\"title\":{\"x\":0.05},\"mapbox\":{\"style\":\"light\"}}},\"xaxis\":{\"anchor\":\"y\",\"domain\":[0.0,1.0],\"title\":{\"text\":\"price prediction error\"}},\"yaxis\":{\"anchor\":\"x\",\"domain\":[0.0,1.0],\"title\":{\"text\":\"count\"}},\"legend\":{\"tracegroupgap\":0},\"title\":{\"text\":\"Regression Error Distribution\"},\"barmode\":\"relative\",\"height\":500,\"shapes\":[{\"line\":{\"color\":\"purple\",\"dash\":\"dash\"},\"type\":\"line\",\"x0\":-379072.855497609,\"x1\":-379072.855497609,\"xref\":\"x\",\"y0\":0,\"y1\":1,\"yref\":\"y domain\"},{\"line\":{\"color\":\"purple\",\"dash\":\"dot\"},\"type\":\"line\",\"x0\":-372426.38108470093,\"x1\":-372426.38108470093,\"xref\":\"x\",\"y0\":0,\"y1\":1,\"yref\":\"y domain\"}],\"annotations\":[{\"showarrow\":false,\"text\":\"median\",\"x\":-379072.855497609,\"xanchor\":\"right\",\"xref\":\"x\",\"y\":1,\"yanchor\":\"top\",\"yref\":\"y domain\"},{\"showarrow\":false,\"text\":\"mean\",\"x\":-372426.38108470093,\"xanchor\":\"left\",\"xref\":\"x\",\"y\":1,\"yanchor\":\"top\",\"yref\":\"y domain\"}]}}",
           "type": "plotly"
          },
          {
           "payload": "Largest over estimation errors:",
           "type": "html"
          },
          {
           "payload": [
            {
             "engine_capacity": 1497,
             "fuel_type": 2,
             "kilometers_driven": 20000,
             "max_power_output": 117.6,
             "ownership": 0,
             "predicted price": 766895.7235532097,
             "price": 1100000,
             "price Prediction Difference": 333104.2764467903,
             "transmission_Automatic": 1,
             "transmission_Manual": 0,
             "vehicle_year": 2017
            },
            {
             "engine_capacity": 1591,
             "fuel_type": 2,
             "kilometers_driven": 27000,
             "max_power_output": 121.3,
             "ownership": 0,
             "predicted price": 874960.6397911313,
             "price": 1200000,
             "price Prediction Difference": 325039.36020886875,
             "transmission_Automatic": 0,
             "transmission_Manual": 1,
             "vehicle_year": 2018
            },
            {
             "engine_capacity": 1497,
             "fuel_type": 1,
             "kilometers_driven": 8000,
             "max_power_output": 108.5,
             "ownership": 0,
             "predicted price": 766895.7235532097,
             "price": 1025000,
             "price Prediction Difference": 258104.27644679032,
             "transmission_Automatic": 1,
             "transmission_Manual": 0,
             "vehicle_year": 2018
            }
           ],
           "type": "dataframe"
          },
          {
           "payload": "Largest under estimation errors:",
           "type": "html"
          },
          {
           "payload": [
            {
             "engine_capacity": 796,
             "fuel_type": 2,
             "kilometers_driven": 73257,
             "max_power_output": 37,
             "ownership": 0,
             "predicted price": 874960.6397911313,
             "price": 45000,
             "price Prediction Difference": -829960.6397911313,
             "transmission_Automatic": 0,
             "transmission_Manual": 1,
             "vehicle_year": 2007
            },
            {
             "engine_capacity": 624,
             "fuel_type": 2,
             "kilometers_driven": 45000,
             "max_power_output": 38,
             "ownership": 0,
             "predicted price": 874960.6397911313,
             "price": 60000,
             "price Prediction Difference": -814960.6397911313,
             "transmission_Automatic": 0,
             "transmission_Manual": 1,
             "vehicle_year": 2012
            },
            {
             "engine_capacity": 624,
             "fuel_type": 2,
             "kilometers_driven": 15000,
             "max_power_output": 35,
             "ownership": 0,
             "predicted price": 874960.6397911313,
             "price": 70000,
             "price Prediction Difference": -804960.6397911313,
             "transmission_Automatic": 0,
             "transmission_Manual": 1,
             "vehicle_year": 2009
            }
           ],
           "type": "dataframe"
          }
         ],
         "header": "Regression Error Distribution - Test Dataset",
         "type": "CheckResult",
         "value": {
          "Kurtosis Value": -0.4465614008296632,
          "Mean Prediction Error": {
           "dtype": "float64",
           "value": -372426.38108470093
          },
          "Median Prediction Error": {
           "dtype": "float64",
           "value": -379072.855497609
          },
          "RMSE": {
           "dtype": "float64",
           "value": 432125.1817420474
          }
         }
        },
        {
         "check": {
          "name": "Data Duplicates",
          "params": {
           "columns": null,
           "ignore_columns": null,
           "n_samples": 10000000,
           "n_to_show": 5,
           "random_state": 42
          },
          "summary": "Checks for duplicate samples in the dataset. <a href=\"https://docs.deepchecks.com/0.17/tabular/auto_checks/data_integrity/plot_data_duplicates.html?utm_source=display_output&utm_medium=referral&utm_campaign=check_link\" target=\"_blank\">Read More...</a>"
         },
         "conditions_results": [
          {
           "Condition": "Duplicate data ratio is less or equal to 5%",
           "More Info": "Found 11.39% duplicate data",
           "Status": "WARN"
          }
         ],
         "display": [
          {
           "payload": "11.39% of data samples are duplicates. ",
           "type": "html"
          },
          {
           "payload": "Each row in the table shows an example of duplicate data and the number of times it appears.",
           "type": "html"
          },
          {
           "payload": [
            {
             "engine_capacity": 2494,
             "fuel_type": 1,
             "kilometers_driven": 79328,
             "max_power_output": 100.6,
             "ownership": 1,
             "price": 750000,
             "transmission_Automatic": 0,
             "transmission_Manual": 1,
             "vehicle_year": 2013
            },
            {
             "engine_capacity": 1199,
             "fuel_type": 2,
             "kilometers_driven": 56494,
             "max_power_output": 88.7,
             "ownership": 0,
             "price": 550000,
             "transmission_Automatic": 0,
             "transmission_Manual": 1,
             "vehicle_year": 2016
            },
            {
             "engine_capacity": 1186,
             "fuel_type": 1,
             "kilometers_driven": 56290,
             "max_power_output": 73.97,
             "ownership": 0,
             "price": 450000,
             "transmission_Automatic": 0,
             "transmission_Manual": 1,
             "vehicle_year": 2017
            },
            {
             "engine_capacity": 998,
             "fuel_type": 2,
             "kilometers_driven": 58343,
             "max_power_output": 67.05,
             "ownership": 0,
             "price": 225000,
             "transmission_Automatic": 0,
             "transmission_Manual": 1,
             "vehicle_year": 2013
            },
            {
             "engine_capacity": 1197,
             "fuel_type": 2,
             "kilometers_driven": 69779,
             "max_power_output": 81.8,
             "ownership": 0,
             "price": 600000,
             "transmission_Automatic": 1,
             "transmission_Manual": 0,
             "vehicle_year": 2018
            }
           ],
           "type": "dataframe"
          }
         ],
         "header": "Data Duplicates - Train Dataset",
         "type": "CheckResult",
         "value": 0.1138996138996139
        },
        {
         "check": {
          "name": "Data Duplicates",
          "params": {
           "columns": null,
           "ignore_columns": null,
           "n_samples": 10000000,
           "n_to_show": 5,
           "random_state": 42
          },
          "summary": "Checks for duplicate samples in the dataset. <a href=\"https://docs.deepchecks.com/0.17/tabular/auto_checks/data_integrity/plot_data_duplicates.html?utm_source=display_output&utm_medium=referral&utm_campaign=check_link\" target=\"_blank\">Read More...</a>"
         },
         "conditions_results": [
          {
           "Condition": "Duplicate data ratio is less or equal to 5%",
           "More Info": "Found 6.25% duplicate data",
           "Status": "WARN"
          }
         ],
         "display": [
          {
           "payload": "6.25% of data samples are duplicates. ",
           "type": "html"
          },
          {
           "payload": "Each row in the table shows an example of duplicate data and the number of times it appears.",
           "type": "html"
          },
          {
           "payload": [
            {
             "engine_capacity": 2179,
             "fuel_type": 1,
             "kilometers_driven": 110000,
             "max_power_output": 147.94,
             "ownership": 0,
             "price": 503000,
             "transmission_Automatic": 0,
             "transmission_Manual": 1,
             "vehicle_year": 2015
            },
            {
             "engine_capacity": 1496,
             "fuel_type": 2,
             "kilometers_driven": 25538,
             "max_power_output": 88.73,
             "ownership": 0,
             "price": 625000,
             "transmission_Automatic": 0,
             "transmission_Manual": 1,
             "vehicle_year": 2017
            },
            {
             "engine_capacity": 1199,
             "fuel_type": 2,
             "kilometers_driven": 7032,
             "max_power_output": 88.76,
             "ownership": 0,
             "price": 779000,
             "transmission_Automatic": 1,
             "transmission_Manual": 0,
             "vehicle_year": 2019
            },
            {
             "engine_capacity": 1199,
             "fuel_type": 2,
             "kilometers_driven": 56494,
             "max_power_output": 88.7,
             "ownership": 0,
             "price": 550000,
             "transmission_Automatic": 0,
             "transmission_Manual": 1,
             "vehicle_year": 2016
            },
            {
             "engine_capacity": 1598,
             "fuel_type": 2,
             "kilometers_driven": 11000,
             "max_power_output": 103.5,
             "ownership": 0,
             "price": 645000,
             "transmission_Automatic": 1,
             "transmission_Manual": 0,
             "vehicle_year": 2016
            }
           ],
           "type": "dataframe"
          }
         ],
         "header": "Data Duplicates - Test Dataset",
         "type": "CheckResult",
         "value": 0.06254826254826251
        },
        {
         "check": {
          "name": "Train Test Performance",
          "params": {
           "n_samples": 1000000,
           "random_state": 42,
           "scorers": null
          },
          "summary": "Summarize given model performance on the train and test datasets based on selected scorers. <a href=\"https://docs.deepchecks.com/0.17/tabular/auto_checks/model_evaluation/plot_train_test_performance.html?utm_source=display_output&utm_medium=referral&utm_campaign=check_link\" target=\"_blank\">Read More...</a>"
         },
         "conditions_results": [
          {
           "Condition": "Train-Test scores relative degradation is less than 0.1",
           "More Info": "Found max degradation of -1.59% for metric R2",
           "Status": "PASS"
          }
         ],
         "display": [
          {
           "payload": "{\"data\":[{\"alignmentgroup\":\"True\",\"bingroup\":\"x\",\"histfunc\":\"sum\",\"hovertemplate\":\"Dataset=%{x}\\u003cbr\\u003eMetric=Neg RMSE\\u003cbr\\u003esum of Value=%{y}\\u003cextra\\u003e\\u003c\\u002fextra\\u003e\",\"legendgroup\":\"Train\",\"marker\":{\"color\":\"#00008b\",\"pattern\":{\"shape\":\"\"}},\"name\":\"Train\",\"offsetgroup\":\"Train\",\"orientation\":\"v\",\"showlegend\":true,\"x\":[\"Train\"],\"xaxis\":\"x\",\"y\":[-440183.2712110803],\"yaxis\":\"y\",\"type\":\"histogram\"},{\"alignmentgroup\":\"True\",\"bingroup\":\"x\",\"histfunc\":\"sum\",\"hovertemplate\":\"Dataset=%{x}\\u003cbr\\u003eMetric=Neg MAE\\u003cbr\\u003esum of Value=%{y}\\u003cextra\\u003e\\u003c\\u002fextra\\u003e\",\"legendgroup\":\"Train\",\"marker\":{\"color\":\"#00008b\",\"pattern\":{\"shape\":\"\"}},\"name\":\"Train\",\"offsetgroup\":\"Train\",\"orientation\":\"v\",\"showlegend\":false,\"x\":[\"Train\"],\"xaxis\":\"x2\",\"y\":[-391621.1863656508],\"yaxis\":\"y2\",\"type\":\"histogram\"},{\"alignmentgroup\":\"True\",\"bingroup\":\"x\",\"histfunc\":\"sum\",\"hovertemplate\":\"Dataset=%{x}\\u003cbr\\u003eMetric=R2\\u003cbr\\u003esum of Value=%{y}\\u003cextra\\u003e\\u003c\\u002fextra\\u003e\",\"legendgroup\":\"Train\",\"marker\":{\"color\":\"#00008b\",\"pattern\":{\"shape\":\"\"}},\"name\":\"Train\",\"offsetgroup\":\"Train\",\"orientation\":\"v\",\"showlegend\":false,\"x\":[\"Train\"],\"xaxis\":\"x3\",\"y\":[-2.7915058881577997],\"yaxis\":\"y3\",\"type\":\"histogram\"},{\"alignmentgroup\":\"True\",\"bingroup\":\"x\",\"histfunc\":\"sum\",\"hovertemplate\":\"Dataset=%{x}\\u003cbr\\u003eMetric=Neg RMSE\\u003cbr\\u003esum of Value=%{y}\\u003cextra\\u003e\\u003c\\u002fextra\\u003e\",\"legendgroup\":\"Test\",\"marker\":{\"color\":\"#69b3a2\",\"pattern\":{\"shape\":\"\"}},\"name\":\"Test\",\"offsetgroup\":\"Test\",\"orientation\":\"v\",\"showlegend\":true,\"x\":[\"Test\"],\"xaxis\":\"x\",\"y\":[-432125.1817420474],\"yaxis\":\"y\",\"type\":\"histogram\"},{\"alignmentgroup\":\"True\",\"bingroup\":\"x\",\"histfunc\":\"sum\",\"hovertemplate\":\"Dataset=%{x}\\u003cbr\\u003eMetric=Neg MAE\\u003cbr\\u003esum of Value=%{y}\\u003cextra\\u003e\\u003c\\u002fextra\\u003e\",\"legendgroup\":\"Test\",\"marker\":{\"color\":\"#69b3a2\",\"pattern\":{\"shape\":\"\"}},\"name\":\"Test\",\"offsetgroup\":\"Test\",\"orientation\":\"v\",\"showlegend\":false,\"x\":[\"Test\"],\"xaxis\":\"x2\",\"y\":[-383692.21110020933],\"yaxis\":\"y2\",\"type\":\"histogram\"},{\"alignmentgroup\":\"True\",\"bingroup\":\"x\",\"histfunc\":\"sum\",\"hovertemplate\":\"Dataset=%{x}\\u003cbr\\u003eMetric=R2\\u003cbr\\u003esum of Value=%{y}\\u003cextra\\u003e\\u003c\\u002fextra\\u003e\",\"legendgroup\":\"Test\",\"marker\":{\"color\":\"#69b3a2\",\"pattern\":{\"shape\":\"\"}},\"name\":\"Test\",\"offsetgroup\":\"Test\",\"orientation\":\"v\",\"showlegend\":false,\"x\":[\"Test\"],\"xaxis\":\"x3\",\"y\":[-2.7470779443647415],\"yaxis\":\"y3\",\"type\":\"histogram\"}],\"layout\":{\"template\":{\"data\":{\"histogram2dcontour\":[{\"type\":\"histogram2dcontour\",\"colorbar\":{\"outlinewidth\":0,\"ticks\":\"\"},\"colorscale\":[[0.0,\"#0d0887\"],[0.1111111111111111,\"#46039f\"],[0.2222222222222222,\"#7201a8\"],[0.3333333333333333,\"#9c179e\"],[0.4444444444444444,\"#bd3786\"],[0.5555555555555556,\"#d8576b\"],[0.6666666666666666,\"#ed7953\"],[0.7777777777777778,\"#fb9f3a\"],[0.8888888888888888,\"#fdca26\"],[1.0,\"#f0f921\"]]}],\"choropleth\":[{\"type\":\"choropleth\",\"colorbar\":{\"outlinewidth\":0,\"ticks\":\"\"}}],\"histogram2d\":[{\"type\":\"histogram2d\",\"colorbar\":{\"outlinewidth\":0,\"ticks\":\"\"},\"colorscale\":[[0.0,\"#0d0887\"],[0.1111111111111111,\"#46039f\"],[0.2222222222222222,\"#7201a8\"],[0.3333333333333333,\"#9c179e\"],[0.4444444444444444,\"#bd3786\"],[0.5555555555555556,\"#d8576b\"],[0.6666666666666666,\"#ed7953\"],[0.7777777777777778,\"#fb9f3a\"],[0.8888888888888888,\"#fdca26\"],[1.0,\"#f0f921\"]]}],\"heatmap\":[{\"type\":\"heatmap\",\"colorbar\":{\"outlinewidth\":0,\"ticks\":\"\"},\"colorscale\":[[0.0,\"#0d0887\"],[0.1111111111111111,\"#46039f\"],[0.2222222222222222,\"#7201a8\"],[0.3333333333333333,\"#9c179e\"],[0.4444444444444444,\"#bd3786\"],[0.5555555555555556,\"#d8576b\"],[0.6666666666666666,\"#ed7953\"],[0.7777777777777778,\"#fb9f3a\"],[0.8888888888888888,\"#fdca26\"],[1.0,\"#f0f921\"]]}],\"heatmapgl\":[{\"type\":\"heatmapgl\",\"colorbar\":{\"outlinewidth\":0,\"ticks\":\"\"},\"colorscale\":[[0.0,\"#0d0887\"],[0.1111111111111111,\"#46039f\"],[0.2222222222222222,\"#7201a8\"],[0.3333333333333333,\"#9c179e\"],[0.4444444444444444,\"#bd3786\"],[0.5555555555555556,\"#d8576b\"],[0.6666666666666666,\"#ed7953\"],[0.7777777777777778,\"#fb9f3a\"],[0.8888888888888888,\"#fdca26\"],[1.0,\"#f0f921\"]]}],\"contourcarpet\":[{\"type\":\"contourcarpet\",\"colorbar\":{\"outlinewidth\":0,\"ticks\":\"\"}}],\"contour\":[{\"type\":\"contour\",\"colorbar\":{\"outlinewidth\":0,\"ticks\":\"\"},\"colorscale\":[[0.0,\"#0d0887\"],[0.1111111111111111,\"#46039f\"],[0.2222222222222222,\"#7201a8\"],[0.3333333333333333,\"#9c179e\"],[0.4444444444444444,\"#bd3786\"],[0.5555555555555556,\"#d8576b\"],[0.6666666666666666,\"#ed7953\"],[0.7777777777777778,\"#fb9f3a\"],[0.8888888888888888,\"#fdca26\"],[1.0,\"#f0f921\"]]}],\"surface\":[{\"type\":\"surface\",\"colorbar\":{\"outlinewidth\":0,\"ticks\":\"\"},\"colorscale\":[[0.0,\"#0d0887\"],[0.1111111111111111,\"#46039f\"],[0.2222222222222222,\"#7201a8\"],[0.3333333333333333,\"#9c179e\"],[0.4444444444444444,\"#bd3786\"],[0.5555555555555556,\"#d8576b\"],[0.6666666666666666,\"#ed7953\"],[0.7777777777777778,\"#fb9f3a\"],[0.8888888888888888,\"#fdca26\"],[1.0,\"#f0f921\"]]}],\"mesh3d\":[{\"type\":\"mesh3d\",\"colorbar\":{\"outlinewidth\":0,\"ticks\":\"\"}}],\"scatter\":[{\"fillpattern\":{\"fillmode\":\"overlay\",\"size\":10,\"solidity\":0.2},\"type\":\"scatter\"}],\"parcoords\":[{\"type\":\"parcoords\",\"line\":{\"colorbar\":{\"outlinewidth\":0,\"ticks\":\"\"}}}],\"scatterpolargl\":[{\"type\":\"scatterpolargl\",\"marker\":{\"colorbar\":{\"outlinewidth\":0,\"ticks\":\"\"}}}],\"bar\":[{\"error_x\":{\"color\":\"#2a3f5f\"},\"error_y\":{\"color\":\"#2a3f5f\"},\"marker\":{\"line\":{\"color\":\"#E5ECF6\",\"width\":0.5},\"pattern\":{\"fillmode\":\"overlay\",\"size\":10,\"solidity\":0.2}},\"type\":\"bar\"}],\"scattergeo\":[{\"type\":\"scattergeo\",\"marker\":{\"colorbar\":{\"outlinewidth\":0,\"ticks\":\"\"}}}],\"scatterpolar\":[{\"type\":\"scatterpolar\",\"marker\":{\"colorbar\":{\"outlinewidth\":0,\"ticks\":\"\"}}}],\"histogram\":[{\"marker\":{\"pattern\":{\"fillmode\":\"overlay\",\"size\":10,\"solidity\":0.2}},\"type\":\"histogram\"}],\"scattergl\":[{\"type\":\"scattergl\",\"marker\":{\"colorbar\":{\"outlinewidth\":0,\"ticks\":\"\"}}}],\"scatter3d\":[{\"type\":\"scatter3d\",\"line\":{\"colorbar\":{\"outlinewidth\":0,\"ticks\":\"\"}},\"marker\":{\"colorbar\":{\"outlinewidth\":0,\"ticks\":\"\"}}}],\"scattermapbox\":[{\"type\":\"scattermapbox\",\"marker\":{\"colorbar\":{\"outlinewidth\":0,\"ticks\":\"\"}}}],\"scatterternary\":[{\"type\":\"scatterternary\",\"marker\":{\"colorbar\":{\"outlinewidth\":0,\"ticks\":\"\"}}}],\"scattercarpet\":[{\"type\":\"scattercarpet\",\"marker\":{\"colorbar\":{\"outlinewidth\":0,\"ticks\":\"\"}}}],\"carpet\":[{\"aaxis\":{\"endlinecolor\":\"#2a3f5f\",\"gridcolor\":\"white\",\"linecolor\":\"white\",\"minorgridcolor\":\"white\",\"startlinecolor\":\"#2a3f5f\"},\"baxis\":{\"endlinecolor\":\"#2a3f5f\",\"gridcolor\":\"white\",\"linecolor\":\"white\",\"minorgridcolor\":\"white\",\"startlinecolor\":\"#2a3f5f\"},\"type\":\"carpet\"}],\"table\":[{\"cells\":{\"fill\":{\"color\":\"#EBF0F8\"},\"line\":{\"color\":\"white\"}},\"header\":{\"fill\":{\"color\":\"#C8D4E3\"},\"line\":{\"color\":\"white\"}},\"type\":\"table\"}],\"barpolar\":[{\"marker\":{\"line\":{\"color\":\"#E5ECF6\",\"width\":0.5},\"pattern\":{\"fillmode\":\"overlay\",\"size\":10,\"solidity\":0.2}},\"type\":\"barpolar\"}],\"pie\":[{\"automargin\":true,\"type\":\"pie\"}]},\"layout\":{\"autotypenumbers\":\"strict\",\"colorway\":[\"#636efa\",\"#EF553B\",\"#00cc96\",\"#ab63fa\",\"#FFA15A\",\"#19d3f3\",\"#FF6692\",\"#B6E880\",\"#FF97FF\",\"#FECB52\"],\"font\":{\"color\":\"#2a3f5f\"},\"hovermode\":\"closest\",\"hoverlabel\":{\"align\":\"left\"},\"paper_bgcolor\":\"white\",\"plot_bgcolor\":\"#E5ECF6\",\"polar\":{\"bgcolor\":\"#E5ECF6\",\"angularaxis\":{\"gridcolor\":\"white\",\"linecolor\":\"white\",\"ticks\":\"\"},\"radialaxis\":{\"gridcolor\":\"white\",\"linecolor\":\"white\",\"ticks\":\"\"}},\"ternary\":{\"bgcolor\":\"#E5ECF6\",\"aaxis\":{\"gridcolor\":\"white\",\"linecolor\":\"white\",\"ticks\":\"\"},\"baxis\":{\"gridcolor\":\"white\",\"linecolor\":\"white\",\"ticks\":\"\"},\"caxis\":{\"gridcolor\":\"white\",\"linecolor\":\"white\",\"ticks\":\"\"}},\"coloraxis\":{\"colorbar\":{\"outlinewidth\":0,\"ticks\":\"\"}},\"colorscale\":{\"sequential\":[[0.0,\"#0d0887\"],[0.1111111111111111,\"#46039f\"],[0.2222222222222222,\"#7201a8\"],[0.3333333333333333,\"#9c179e\"],[0.4444444444444444,\"#bd3786\"],[0.5555555555555556,\"#d8576b\"],[0.6666666666666666,\"#ed7953\"],[0.7777777777777778,\"#fb9f3a\"],[0.8888888888888888,\"#fdca26\"],[1.0,\"#f0f921\"]],\"sequentialminus\":[[0.0,\"#0d0887\"],[0.1111111111111111,\"#46039f\"],[0.2222222222222222,\"#7201a8\"],[0.3333333333333333,\"#9c179e\"],[0.4444444444444444,\"#bd3786\"],[0.5555555555555556,\"#d8576b\"],[0.6666666666666666,\"#ed7953\"],[0.7777777777777778,\"#fb9f3a\"],[0.8888888888888888,\"#fdca26\"],[1.0,\"#f0f921\"]],\"diverging\":[[0,\"#8e0152\"],[0.1,\"#c51b7d\"],[0.2,\"#de77ae\"],[0.3,\"#f1b6da\"],[0.4,\"#fde0ef\"],[0.5,\"#f7f7f7\"],[0.6,\"#e6f5d0\"],[0.7,\"#b8e186\"],[0.8,\"#7fbc41\"],[0.9,\"#4d9221\"],[1,\"#276419\"]]},\"xaxis\":{\"gridcolor\":\"white\",\"linecolor\":\"white\",\"ticks\":\"\",\"title\":{\"standoff\":15},\"zerolinecolor\":\"white\",\"automargin\":true,\"zerolinewidth\":2},\"yaxis\":{\"gridcolor\":\"white\",\"linecolor\":\"white\",\"ticks\":\"\",\"title\":{\"standoff\":15},\"zerolinecolor\":\"white\",\"automargin\":true,\"zerolinewidth\":2},\"scene\":{\"xaxis\":{\"backgroundcolor\":\"#E5ECF6\",\"gridcolor\":\"white\",\"linecolor\":\"white\",\"showbackground\":true,\"ticks\":\"\",\"zerolinecolor\":\"white\",\"gridwidth\":2},\"yaxis\":{\"backgroundcolor\":\"#E5ECF6\",\"gridcolor\":\"white\",\"linecolor\":\"white\",\"showbackground\":true,\"ticks\":\"\",\"zerolinecolor\":\"white\",\"gridwidth\":2},\"zaxis\":{\"backgroundcolor\":\"#E5ECF6\",\"gridcolor\":\"white\",\"linecolor\":\"white\",\"showbackground\":true,\"ticks\":\"\",\"zerolinecolor\":\"white\",\"gridwidth\":2}},\"shapedefaults\":{\"line\":{\"color\":\"#2a3f5f\"}},\"annotationdefaults\":{\"arrowcolor\":\"#2a3f5f\",\"arrowhead\":0,\"arrowwidth\":1},\"geo\":{\"bgcolor\":\"white\",\"landcolor\":\"#E5ECF6\",\"subunitcolor\":\"white\",\"showland\":true,\"showlakes\":true,\"lakecolor\":\"white\"},\"title\":{\"x\":0.05},\"mapbox\":{\"style\":\"light\"}}},\"xaxis\":{\"anchor\":\"y\",\"domain\":[0.0,0.3],\"title\":{},\"categoryorder\":\"array\",\"categoryarray\":[\"Train\",\"Test\"],\"type\":\"category\",\"tickangle\":60},\"yaxis\":{\"anchor\":\"x\",\"domain\":[0.0,1.0],\"title\":{},\"showticklabels\":true},\"xaxis2\":{\"anchor\":\"y2\",\"domain\":[0.35,0.6499999999999999],\"matches\":\"x\",\"title\":{},\"categoryorder\":\"array\",\"categoryarray\":[\"Train\",\"Test\"],\"type\":\"category\",\"tickangle\":60},\"yaxis2\":{\"anchor\":\"x2\",\"domain\":[0.0,1.0],\"showticklabels\":true,\"title\":{}},\"xaxis3\":{\"anchor\":\"y3\",\"domain\":[0.7,1.0],\"matches\":\"x\",\"title\":{},\"categoryorder\":\"array\",\"categoryarray\":[\"Train\",\"Test\"],\"type\":\"category\",\"tickangle\":60},\"yaxis3\":{\"anchor\":\"x3\",\"domain\":[0.0,1.0],\"showticklabels\":true,\"title\":{}},\"annotations\":[{\"showarrow\":false,\"text\":\"Neg RMSE\",\"x\":0.15,\"xanchor\":\"center\",\"xref\":\"paper\",\"y\":1.0,\"yanchor\":\"bottom\",\"yref\":\"paper\"},{\"showarrow\":false,\"text\":\"Neg MAE\",\"x\":0.49999999999999994,\"xanchor\":\"center\",\"xref\":\"paper\",\"y\":1.0,\"yanchor\":\"bottom\",\"yref\":\"paper\"},{\"showarrow\":false,\"text\":\"R2\",\"x\":0.85,\"xanchor\":\"center\",\"xref\":\"paper\",\"y\":1.0,\"yanchor\":\"bottom\",\"yref\":\"paper\"},{\"showarrow\":false,\"text\":\"Class\",\"x\":-0.1,\"xref\":\"paper\",\"y\":-0.1,\"yref\":\"paper\"}],\"legend\":{\"title\":{\"text\":\"Dataset\"},\"tracegroupgap\":0},\"margin\":{\"t\":60},\"barmode\":\"group\"}}",
           "type": "plotly"
          }
         ],
         "header": "Train Test Performance",
         "type": "CheckResult",
         "value": "[{\"Dataset\":\"Train\",\"Class\":null,\"Metric\":\"Neg RMSE\",\"Value\":-440183.2712110803,\"Number of samples\":5180},{\"Dataset\":\"Train\",\"Class\":null,\"Metric\":\"Neg MAE\",\"Value\":-391621.1863656508,\"Number of samples\":5180},{\"Dataset\":\"Train\",\"Class\":null,\"Metric\":\"R2\",\"Value\":-2.7915058882,\"Number of samples\":5180},{\"Dataset\":\"Test\",\"Class\":null,\"Metric\":\"Neg RMSE\",\"Value\":-432125.1817420474,\"Number of samples\":1295},{\"Dataset\":\"Test\",\"Class\":null,\"Metric\":\"Neg MAE\",\"Value\":-383692.2111002093,\"Number of samples\":1295},{\"Dataset\":\"Test\",\"Class\":null,\"Metric\":\"R2\",\"Value\":-2.7470779444,\"Number of samples\":1295}]"
        },
        {
         "check": {
          "name": "Prediction Drift",
          "params": {
           "aggregation_method": "max",
           "balance_classes": false,
           "categorical_drift_method": "cramers_v",
           "drift_mode": "auto",
           "ignore_na": true,
           "margin_quantile_filter": 0.025,
           "max_classes_to_display": 3,
           "max_num_categories_for_display": 10,
           "max_num_categories_for_drift": null,
           "min_category_size_ratio": 0.01,
           "min_samples": 10,
           "n_samples": 100000,
           "numerical_drift_method": "KS",
           "random_state": 42,
           "show_categories_by": "largest_difference"
          },
          "summary": "    Calculate prediction drift between train dataset and test dataset, using statistical measures. <a href=\"https://docs.deepchecks.com/0.17/tabular/auto_checks/model_evaluation/plot_prediction_drift.html?utm_source=display_output&utm_medium=referral&utm_campaign=check_link\" target=\"_blank\">Read More...</a>"
         },
         "conditions_results": [
          {
           "Condition": "Prediction drift score < 0.15",
           "More Info": "Found model prediction Kolmogorov-Smirnov drift score of 0.04",
           "Status": "PASS"
          }
         ],
         "display": [
          {
           "payload": "<span>\n                The Drift score is a measure for the difference between two distributions, in this check - the test\n                and train distributions.<br> The check shows the drift score and distributions for the predicted\n                classes.\n            </span>",
           "type": "html"
          },
          {
           "payload": "For discrete distribution plots, showing the top 10 categories with largest difference between train and test.",
           "type": "html"
          },
          {
           "payload": "{\"data\":[{\"base\":0,\"marker\":{\"color\":\"#01B8AA\"},\"offsetgroup\":\"0\",\"orientation\":\"h\",\"showlegend\":false,\"x\":[0.03899613899613902],\"y\":[\"Drift Score\"],\"type\":\"bar\",\"xaxis\":\"x\",\"yaxis\":\"y\"},{\"marker\":{\"color\":\"#00008b\"},\"name\":\"Train Dataset\",\"x\":[224796.4168541768,680583.1597686658,766895.7235532097,779072.855497609,874960.6397911313],\"y\":[0.0011583011583011582,0.010231660231660231,0.059845559845559844,0.32606177606177605,0.6027027027027027],\"type\":\"bar\",\"xaxis\":\"x2\",\"yaxis\":\"y2\"},{\"marker\":{\"color\":\"#69b3a2\"},\"name\":\"Test Dataset\",\"x\":[224796.4168541768,680583.1597686658,766895.7235532097,779072.855497609,874960.6397911313],\"y\":[0.0,0.009266409266409266,0.05714285714285714,0.2918918918918919,0.6416988416988417],\"type\":\"bar\",\"xaxis\":\"x2\",\"yaxis\":\"y2\"}],\"layout\":{\"template\":{\"data\":{\"histogram2dcontour\":[{\"type\":\"histogram2dcontour\",\"colorbar\":{\"outlinewidth\":0,\"ticks\":\"\"},\"colorscale\":[[0.0,\"#0d0887\"],[0.1111111111111111,\"#46039f\"],[0.2222222222222222,\"#7201a8\"],[0.3333333333333333,\"#9c179e\"],[0.4444444444444444,\"#bd3786\"],[0.5555555555555556,\"#d8576b\"],[0.6666666666666666,\"#ed7953\"],[0.7777777777777778,\"#fb9f3a\"],[0.8888888888888888,\"#fdca26\"],[1.0,\"#f0f921\"]]}],\"choropleth\":[{\"type\":\"choropleth\",\"colorbar\":{\"outlinewidth\":0,\"ticks\":\"\"}}],\"histogram2d\":[{\"type\":\"histogram2d\",\"colorbar\":{\"outlinewidth\":0,\"ticks\":\"\"},\"colorscale\":[[0.0,\"#0d0887\"],[0.1111111111111111,\"#46039f\"],[0.2222222222222222,\"#7201a8\"],[0.3333333333333333,\"#9c179e\"],[0.4444444444444444,\"#bd3786\"],[0.5555555555555556,\"#d8576b\"],[0.6666666666666666,\"#ed7953\"],[0.7777777777777778,\"#fb9f3a\"],[0.8888888888888888,\"#fdca26\"],[1.0,\"#f0f921\"]]}],\"heatmap\":[{\"type\":\"heatmap\",\"colorbar\":{\"outlinewidth\":0,\"ticks\":\"\"},\"colorscale\":[[0.0,\"#0d0887\"],[0.1111111111111111,\"#46039f\"],[0.2222222222222222,\"#7201a8\"],[0.3333333333333333,\"#9c179e\"],[0.4444444444444444,\"#bd3786\"],[0.5555555555555556,\"#d8576b\"],[0.6666666666666666,\"#ed7953\"],[0.7777777777777778,\"#fb9f3a\"],[0.8888888888888888,\"#fdca26\"],[1.0,\"#f0f921\"]]}],\"heatmapgl\":[{\"type\":\"heatmapgl\",\"colorbar\":{\"outlinewidth\":0,\"ticks\":\"\"},\"colorscale\":[[0.0,\"#0d0887\"],[0.1111111111111111,\"#46039f\"],[0.2222222222222222,\"#7201a8\"],[0.3333333333333333,\"#9c179e\"],[0.4444444444444444,\"#bd3786\"],[0.5555555555555556,\"#d8576b\"],[0.6666666666666666,\"#ed7953\"],[0.7777777777777778,\"#fb9f3a\"],[0.8888888888888888,\"#fdca26\"],[1.0,\"#f0f921\"]]}],\"contourcarpet\":[{\"type\":\"contourcarpet\",\"colorbar\":{\"outlinewidth\":0,\"ticks\":\"\"}}],\"contour\":[{\"type\":\"contour\",\"colorbar\":{\"outlinewidth\":0,\"ticks\":\"\"},\"colorscale\":[[0.0,\"#0d0887\"],[0.1111111111111111,\"#46039f\"],[0.2222222222222222,\"#7201a8\"],[0.3333333333333333,\"#9c179e\"],[0.4444444444444444,\"#bd3786\"],[0.5555555555555556,\"#d8576b\"],[0.6666666666666666,\"#ed7953\"],[0.7777777777777778,\"#fb9f3a\"],[0.8888888888888888,\"#fdca26\"],[1.0,\"#f0f921\"]]}],\"surface\":[{\"type\":\"surface\",\"colorbar\":{\"outlinewidth\":0,\"ticks\":\"\"},\"colorscale\":[[0.0,\"#0d0887\"],[0.1111111111111111,\"#46039f\"],[0.2222222222222222,\"#7201a8\"],[0.3333333333333333,\"#9c179e\"],[0.4444444444444444,\"#bd3786\"],[0.5555555555555556,\"#d8576b\"],[0.6666666666666666,\"#ed7953\"],[0.7777777777777778,\"#fb9f3a\"],[0.8888888888888888,\"#fdca26\"],[1.0,\"#f0f921\"]]}],\"mesh3d\":[{\"type\":\"mesh3d\",\"colorbar\":{\"outlinewidth\":0,\"ticks\":\"\"}}],\"scatter\":[{\"fillpattern\":{\"fillmode\":\"overlay\",\"size\":10,\"solidity\":0.2},\"type\":\"scatter\"}],\"parcoords\":[{\"type\":\"parcoords\",\"line\":{\"colorbar\":{\"outlinewidth\":0,\"ticks\":\"\"}}}],\"scatterpolargl\":[{\"type\":\"scatterpolargl\",\"marker\":{\"colorbar\":{\"outlinewidth\":0,\"ticks\":\"\"}}}],\"bar\":[{\"error_x\":{\"color\":\"#2a3f5f\"},\"error_y\":{\"color\":\"#2a3f5f\"},\"marker\":{\"line\":{\"color\":\"#E5ECF6\",\"width\":0.5},\"pattern\":{\"fillmode\":\"overlay\",\"size\":10,\"solidity\":0.2}},\"type\":\"bar\"}],\"scattergeo\":[{\"type\":\"scattergeo\",\"marker\":{\"colorbar\":{\"outlinewidth\":0,\"ticks\":\"\"}}}],\"scatterpolar\":[{\"type\":\"scatterpolar\",\"marker\":{\"colorbar\":{\"outlinewidth\":0,\"ticks\":\"\"}}}],\"histogram\":[{\"marker\":{\"pattern\":{\"fillmode\":\"overlay\",\"size\":10,\"solidity\":0.2}},\"type\":\"histogram\"}],\"scattergl\":[{\"type\":\"scattergl\",\"marker\":{\"colorbar\":{\"outlinewidth\":0,\"ticks\":\"\"}}}],\"scatter3d\":[{\"type\":\"scatter3d\",\"line\":{\"colorbar\":{\"outlinewidth\":0,\"ticks\":\"\"}},\"marker\":{\"colorbar\":{\"outlinewidth\":0,\"ticks\":\"\"}}}],\"scattermapbox\":[{\"type\":\"scattermapbox\",\"marker\":{\"colorbar\":{\"outlinewidth\":0,\"ticks\":\"\"}}}],\"scatterternary\":[{\"type\":\"scatterternary\",\"marker\":{\"colorbar\":{\"outlinewidth\":0,\"ticks\":\"\"}}}],\"scattercarpet\":[{\"type\":\"scattercarpet\",\"marker\":{\"colorbar\":{\"outlinewidth\":0,\"ticks\":\"\"}}}],\"carpet\":[{\"aaxis\":{\"endlinecolor\":\"#2a3f5f\",\"gridcolor\":\"white\",\"linecolor\":\"white\",\"minorgridcolor\":\"white\",\"startlinecolor\":\"#2a3f5f\"},\"baxis\":{\"endlinecolor\":\"#2a3f5f\",\"gridcolor\":\"white\",\"linecolor\":\"white\",\"minorgridcolor\":\"white\",\"startlinecolor\":\"#2a3f5f\"},\"type\":\"carpet\"}],\"table\":[{\"cells\":{\"fill\":{\"color\":\"#EBF0F8\"},\"line\":{\"color\":\"white\"}},\"header\":{\"fill\":{\"color\":\"#C8D4E3\"},\"line\":{\"color\":\"white\"}},\"type\":\"table\"}],\"barpolar\":[{\"marker\":{\"line\":{\"color\":\"#E5ECF6\",\"width\":0.5},\"pattern\":{\"fillmode\":\"overlay\",\"size\":10,\"solidity\":0.2}},\"type\":\"barpolar\"}],\"pie\":[{\"automargin\":true,\"type\":\"pie\"}]},\"layout\":{\"autotypenumbers\":\"strict\",\"colorway\":[\"#636efa\",\"#EF553B\",\"#00cc96\",\"#ab63fa\",\"#FFA15A\",\"#19d3f3\",\"#FF6692\",\"#B6E880\",\"#FF97FF\",\"#FECB52\"],\"font\":{\"color\":\"#2a3f5f\"},\"hovermode\":\"closest\",\"hoverlabel\":{\"align\":\"left\"},\"paper_bgcolor\":\"white\",\"plot_bgcolor\":\"#E5ECF6\",\"polar\":{\"bgcolor\":\"#E5ECF6\",\"angularaxis\":{\"gridcolor\":\"white\",\"linecolor\":\"white\",\"ticks\":\"\"},\"radialaxis\":{\"gridcolor\":\"white\",\"linecolor\":\"white\",\"ticks\":\"\"}},\"ternary\":{\"bgcolor\":\"#E5ECF6\",\"aaxis\":{\"gridcolor\":\"white\",\"linecolor\":\"white\",\"ticks\":\"\"},\"baxis\":{\"gridcolor\":\"white\",\"linecolor\":\"white\",\"ticks\":\"\"},\"caxis\":{\"gridcolor\":\"white\",\"linecolor\":\"white\",\"ticks\":\"\"}},\"coloraxis\":{\"colorbar\":{\"outlinewidth\":0,\"ticks\":\"\"}},\"colorscale\":{\"sequential\":[[0.0,\"#0d0887\"],[0.1111111111111111,\"#46039f\"],[0.2222222222222222,\"#7201a8\"],[0.3333333333333333,\"#9c179e\"],[0.4444444444444444,\"#bd3786\"],[0.5555555555555556,\"#d8576b\"],[0.6666666666666666,\"#ed7953\"],[0.7777777777777778,\"#fb9f3a\"],[0.8888888888888888,\"#fdca26\"],[1.0,\"#f0f921\"]],\"sequentialminus\":[[0.0,\"#0d0887\"],[0.1111111111111111,\"#46039f\"],[0.2222222222222222,\"#7201a8\"],[0.3333333333333333,\"#9c179e\"],[0.4444444444444444,\"#bd3786\"],[0.5555555555555556,\"#d8576b\"],[0.6666666666666666,\"#ed7953\"],[0.7777777777777778,\"#fb9f3a\"],[0.8888888888888888,\"#fdca26\"],[1.0,\"#f0f921\"]],\"diverging\":[[0,\"#8e0152\"],[0.1,\"#c51b7d\"],[0.2,\"#de77ae\"],[0.3,\"#f1b6da\"],[0.4,\"#fde0ef\"],[0.5,\"#f7f7f7\"],[0.6,\"#e6f5d0\"],[0.7,\"#b8e186\"],[0.8,\"#7fbc41\"],[0.9,\"#4d9221\"],[1,\"#276419\"]]},\"xaxis\":{\"gridcolor\":\"white\",\"linecolor\":\"white\",\"ticks\":\"\",\"title\":{\"standoff\":15},\"zerolinecolor\":\"white\",\"automargin\":true,\"zerolinewidth\":2},\"yaxis\":{\"gridcolor\":\"white\",\"linecolor\":\"white\",\"ticks\":\"\",\"title\":{\"standoff\":15},\"zerolinecolor\":\"white\",\"automargin\":true,\"zerolinewidth\":2},\"scene\":{\"xaxis\":{\"backgroundcolor\":\"#E5ECF6\",\"gridcolor\":\"white\",\"linecolor\":\"white\",\"showbackground\":true,\"ticks\":\"\",\"zerolinecolor\":\"white\",\"gridwidth\":2},\"yaxis\":{\"backgroundcolor\":\"#E5ECF6\",\"gridcolor\":\"white\",\"linecolor\":\"white\",\"showbackground\":true,\"ticks\":\"\",\"zerolinecolor\":\"white\",\"gridwidth\":2},\"zaxis\":{\"backgroundcolor\":\"#E5ECF6\",\"gridcolor\":\"white\",\"linecolor\":\"white\",\"showbackground\":true,\"ticks\":\"\",\"zerolinecolor\":\"white\",\"gridwidth\":2}},\"shapedefaults\":{\"line\":{\"color\":\"#2a3f5f\"}},\"annotationdefaults\":{\"arrowcolor\":\"#2a3f5f\",\"arrowhead\":0,\"arrowwidth\":1},\"geo\":{\"bgcolor\":\"white\",\"landcolor\":\"#E5ECF6\",\"subunitcolor\":\"white\",\"showland\":true,\"showlakes\":true,\"lakecolor\":\"white\"},\"title\":{\"x\":0.05},\"mapbox\":{\"style\":\"light\"}}},\"xaxis\":{\"anchor\":\"y\",\"domain\":[0.0,1.0],\"showgrid\":false,\"gridcolor\":\"black\",\"linecolor\":\"black\",\"range\":[0,0.4],\"dtick\":0.05,\"fixedrange\":true},\"yaxis\":{\"anchor\":\"x\",\"domain\":[0.9200000000000002,1.0],\"showgrid\":false,\"showline\":false,\"showticklabels\":false,\"zeroline\":false,\"color\":\"black\",\"autorange\":true,\"rangemode\":\"normal\",\"fixedrange\":true},\"xaxis2\":{\"anchor\":\"y2\",\"domain\":[0.0,1.0],\"ticks\":\"outside\",\"tickmode\":\"array\",\"tickvals\":[224796.4168541768,680583.1597686658,766895.7235532097,779072.855497609,874960.6397911313],\"range\":[94763.5722667859,1004993.4843785221]},\"yaxis2\":{\"anchor\":\"x2\",\"domain\":[0.0,0.7200000000000001],\"fixedrange\":true,\"autorange\":true,\"rangemode\":\"normal\",\"title\":{\"text\":\"Frequency\"}},\"annotations\":[{\"font\":{\"size\":16},\"showarrow\":false,\"text\":\"Drift Score (Kolmogorov-Smirnov)\",\"x\":0.5,\"xanchor\":\"center\",\"xref\":\"paper\",\"y\":1.0,\"yanchor\":\"bottom\",\"yref\":\"paper\"},{\"font\":{\"size\":16},\"showarrow\":false,\"text\":\"Distribution Plot\",\"x\":0.5,\"xanchor\":\"center\",\"xref\":\"paper\",\"y\":0.7200000000000001,\"yanchor\":\"bottom\",\"yref\":\"paper\"}],\"legend\":{\"title\":{\"text\":\"Legend\"},\"yanchor\":\"top\",\"y\":0.6},\"title\":{\"text\":\"model predictions\",\"x\":0.5,\"xanchor\":\"center\"},\"height\":400,\"bargroupgap\":0}}",
           "type": "plotly"
          }
         ],
         "header": "Prediction Drift",
         "type": "CheckResult",
         "value": {
          "Drift score": {
           "dtype": "float64",
           "value": 0.03899613899613902
          },
          "Method": "Kolmogorov-Smirnov",
          "Samples per class": {
           "224796.4168541768": 6,
           "680583.1597686658": 65,
           "766895.7235532097": 384,
           "779072.855497609": 2067,
           "874960.6397911313": 3953
          }
         }
        },
        {
         "check": {
          "name": "Unused Features",
          "params": {
           "feature_importance_threshold": 0.2,
           "feature_variance_threshold": 0.4,
           "n_samples": 1000000,
           "n_top_fi_to_show": 5,
           "n_top_unused_to_show": 15,
           "random_state": 42
          },
          "summary": "Detect features that are nearly unused by the model. <a href=\"https://docs.deepchecks.com/0.17/tabular/auto_checks/model_evaluation/plot_unused_features.html?utm_source=display_output&utm_medium=referral&utm_campaign=check_link\" target=\"_blank\">Read More...</a>"
         },
         "conditions_results": [
          {
           "Condition": "Number of high variance unused features is less or equal to 5",
           "More Info": "Found 3 high variance unused features",
           "Status": "PASS"
          }
         ],
         "display": [
          {
           "payload": "Features above the line are a sample of the most important features, while the features below the line are the unused features with highest variance, as defined by check parameters",
           "type": "html"
          },
          {
           "payload": "{\"data\":[{\"marker\":{\"color\":\"indianred\"},\"name\":\"Feature Importance %\",\"orientation\":\"h\",\"x\":[51.899212658730185,26.728974513763877,17.58294473894641,1.9013168478354152,0.5404811489423775,1.0316267114828164],\"y\":[\"vehicle_year\",\"max_power_output\",\"engine_capacity\",\"kilometers_driven\",\"ownership\",\"fuel_type\"],\"type\":\"bar\"},{\"marker\":{\"color\":\"lightsalmon\"},\"name\":\"Feature Variance %\",\"orientation\":\"h\",\"x\":[11.520278228175657,20.429052715424962,18.764266860502435,17.885349597633226,16.57101582244149,10.186536706993882],\"y\":[\"vehicle_year\",\"max_power_output\",\"engine_capacity\",\"kilometers_driven\",\"ownership\",\"fuel_type\"],\"type\":\"bar\"}],\"layout\":{\"template\":{\"data\":{\"histogram2dcontour\":[{\"type\":\"histogram2dcontour\",\"colorbar\":{\"outlinewidth\":0,\"ticks\":\"\"},\"colorscale\":[[0.0,\"#0d0887\"],[0.1111111111111111,\"#46039f\"],[0.2222222222222222,\"#7201a8\"],[0.3333333333333333,\"#9c179e\"],[0.4444444444444444,\"#bd3786\"],[0.5555555555555556,\"#d8576b\"],[0.6666666666666666,\"#ed7953\"],[0.7777777777777778,\"#fb9f3a\"],[0.8888888888888888,\"#fdca26\"],[1.0,\"#f0f921\"]]}],\"choropleth\":[{\"type\":\"choropleth\",\"colorbar\":{\"outlinewidth\":0,\"ticks\":\"\"}}],\"histogram2d\":[{\"type\":\"histogram2d\",\"colorbar\":{\"outlinewidth\":0,\"ticks\":\"\"},\"colorscale\":[[0.0,\"#0d0887\"],[0.1111111111111111,\"#46039f\"],[0.2222222222222222,\"#7201a8\"],[0.3333333333333333,\"#9c179e\"],[0.4444444444444444,\"#bd3786\"],[0.5555555555555556,\"#d8576b\"],[0.6666666666666666,\"#ed7953\"],[0.7777777777777778,\"#fb9f3a\"],[0.8888888888888888,\"#fdca26\"],[1.0,\"#f0f921\"]]}],\"heatmap\":[{\"type\":\"heatmap\",\"colorbar\":{\"outlinewidth\":0,\"ticks\":\"\"},\"colorscale\":[[0.0,\"#0d0887\"],[0.1111111111111111,\"#46039f\"],[0.2222222222222222,\"#7201a8\"],[0.3333333333333333,\"#9c179e\"],[0.4444444444444444,\"#bd3786\"],[0.5555555555555556,\"#d8576b\"],[0.6666666666666666,\"#ed7953\"],[0.7777777777777778,\"#fb9f3a\"],[0.8888888888888888,\"#fdca26\"],[1.0,\"#f0f921\"]]}],\"heatmapgl\":[{\"type\":\"heatmapgl\",\"colorbar\":{\"outlinewidth\":0,\"ticks\":\"\"},\"colorscale\":[[0.0,\"#0d0887\"],[0.1111111111111111,\"#46039f\"],[0.2222222222222222,\"#7201a8\"],[0.3333333333333333,\"#9c179e\"],[0.4444444444444444,\"#bd3786\"],[0.5555555555555556,\"#d8576b\"],[0.6666666666666666,\"#ed7953\"],[0.7777777777777778,\"#fb9f3a\"],[0.8888888888888888,\"#fdca26\"],[1.0,\"#f0f921\"]]}],\"contourcarpet\":[{\"type\":\"contourcarpet\",\"colorbar\":{\"outlinewidth\":0,\"ticks\":\"\"}}],\"contour\":[{\"type\":\"contour\",\"colorbar\":{\"outlinewidth\":0,\"ticks\":\"\"},\"colorscale\":[[0.0,\"#0d0887\"],[0.1111111111111111,\"#46039f\"],[0.2222222222222222,\"#7201a8\"],[0.3333333333333333,\"#9c179e\"],[0.4444444444444444,\"#bd3786\"],[0.5555555555555556,\"#d8576b\"],[0.6666666666666666,\"#ed7953\"],[0.7777777777777778,\"#fb9f3a\"],[0.8888888888888888,\"#fdca26\"],[1.0,\"#f0f921\"]]}],\"surface\":[{\"type\":\"surface\",\"colorbar\":{\"outlinewidth\":0,\"ticks\":\"\"},\"colorscale\":[[0.0,\"#0d0887\"],[0.1111111111111111,\"#46039f\"],[0.2222222222222222,\"#7201a8\"],[0.3333333333333333,\"#9c179e\"],[0.4444444444444444,\"#bd3786\"],[0.5555555555555556,\"#d8576b\"],[0.6666666666666666,\"#ed7953\"],[0.7777777777777778,\"#fb9f3a\"],[0.8888888888888888,\"#fdca26\"],[1.0,\"#f0f921\"]]}],\"mesh3d\":[{\"type\":\"mesh3d\",\"colorbar\":{\"outlinewidth\":0,\"ticks\":\"\"}}],\"scatter\":[{\"fillpattern\":{\"fillmode\":\"overlay\",\"size\":10,\"solidity\":0.2},\"type\":\"scatter\"}],\"parcoords\":[{\"type\":\"parcoords\",\"line\":{\"colorbar\":{\"outlinewidth\":0,\"ticks\":\"\"}}}],\"scatterpolargl\":[{\"type\":\"scatterpolargl\",\"marker\":{\"colorbar\":{\"outlinewidth\":0,\"ticks\":\"\"}}}],\"bar\":[{\"error_x\":{\"color\":\"#2a3f5f\"},\"error_y\":{\"color\":\"#2a3f5f\"},\"marker\":{\"line\":{\"color\":\"#E5ECF6\",\"width\":0.5},\"pattern\":{\"fillmode\":\"overlay\",\"size\":10,\"solidity\":0.2}},\"type\":\"bar\"}],\"scattergeo\":[{\"type\":\"scattergeo\",\"marker\":{\"colorbar\":{\"outlinewidth\":0,\"ticks\":\"\"}}}],\"scatterpolar\":[{\"type\":\"scatterpolar\",\"marker\":{\"colorbar\":{\"outlinewidth\":0,\"ticks\":\"\"}}}],\"histogram\":[{\"marker\":{\"pattern\":{\"fillmode\":\"overlay\",\"size\":10,\"solidity\":0.2}},\"type\":\"histogram\"}],\"scattergl\":[{\"type\":\"scattergl\",\"marker\":{\"colorbar\":{\"outlinewidth\":0,\"ticks\":\"\"}}}],\"scatter3d\":[{\"type\":\"scatter3d\",\"line\":{\"colorbar\":{\"outlinewidth\":0,\"ticks\":\"\"}},\"marker\":{\"colorbar\":{\"outlinewidth\":0,\"ticks\":\"\"}}}],\"scattermapbox\":[{\"type\":\"scattermapbox\",\"marker\":{\"colorbar\":{\"outlinewidth\":0,\"ticks\":\"\"}}}],\"scatterternary\":[{\"type\":\"scatterternary\",\"marker\":{\"colorbar\":{\"outlinewidth\":0,\"ticks\":\"\"}}}],\"scattercarpet\":[{\"type\":\"scattercarpet\",\"marker\":{\"colorbar\":{\"outlinewidth\":0,\"ticks\":\"\"}}}],\"carpet\":[{\"aaxis\":{\"endlinecolor\":\"#2a3f5f\",\"gridcolor\":\"white\",\"linecolor\":\"white\",\"minorgridcolor\":\"white\",\"startlinecolor\":\"#2a3f5f\"},\"baxis\":{\"endlinecolor\":\"#2a3f5f\",\"gridcolor\":\"white\",\"linecolor\":\"white\",\"minorgridcolor\":\"white\",\"startlinecolor\":\"#2a3f5f\"},\"type\":\"carpet\"}],\"table\":[{\"cells\":{\"fill\":{\"color\":\"#EBF0F8\"},\"line\":{\"color\":\"white\"}},\"header\":{\"fill\":{\"color\":\"#C8D4E3\"},\"line\":{\"color\":\"white\"}},\"type\":\"table\"}],\"barpolar\":[{\"marker\":{\"line\":{\"color\":\"#E5ECF6\",\"width\":0.5},\"pattern\":{\"fillmode\":\"overlay\",\"size\":10,\"solidity\":0.2}},\"type\":\"barpolar\"}],\"pie\":[{\"automargin\":true,\"type\":\"pie\"}]},\"layout\":{\"autotypenumbers\":\"strict\",\"colorway\":[\"#636efa\",\"#EF553B\",\"#00cc96\",\"#ab63fa\",\"#FFA15A\",\"#19d3f3\",\"#FF6692\",\"#B6E880\",\"#FF97FF\",\"#FECB52\"],\"font\":{\"color\":\"#2a3f5f\"},\"hovermode\":\"closest\",\"hoverlabel\":{\"align\":\"left\"},\"paper_bgcolor\":\"white\",\"plot_bgcolor\":\"#E5ECF6\",\"polar\":{\"bgcolor\":\"#E5ECF6\",\"angularaxis\":{\"gridcolor\":\"white\",\"linecolor\":\"white\",\"ticks\":\"\"},\"radialaxis\":{\"gridcolor\":\"white\",\"linecolor\":\"white\",\"ticks\":\"\"}},\"ternary\":{\"bgcolor\":\"#E5ECF6\",\"aaxis\":{\"gridcolor\":\"white\",\"linecolor\":\"white\",\"ticks\":\"\"},\"baxis\":{\"gridcolor\":\"white\",\"linecolor\":\"white\",\"ticks\":\"\"},\"caxis\":{\"gridcolor\":\"white\",\"linecolor\":\"white\",\"ticks\":\"\"}},\"coloraxis\":{\"colorbar\":{\"outlinewidth\":0,\"ticks\":\"\"}},\"colorscale\":{\"sequential\":[[0.0,\"#0d0887\"],[0.1111111111111111,\"#46039f\"],[0.2222222222222222,\"#7201a8\"],[0.3333333333333333,\"#9c179e\"],[0.4444444444444444,\"#bd3786\"],[0.5555555555555556,\"#d8576b\"],[0.6666666666666666,\"#ed7953\"],[0.7777777777777778,\"#fb9f3a\"],[0.8888888888888888,\"#fdca26\"],[1.0,\"#f0f921\"]],\"sequentialminus\":[[0.0,\"#0d0887\"],[0.1111111111111111,\"#46039f\"],[0.2222222222222222,\"#7201a8\"],[0.3333333333333333,\"#9c179e\"],[0.4444444444444444,\"#bd3786\"],[0.5555555555555556,\"#d8576b\"],[0.6666666666666666,\"#ed7953\"],[0.7777777777777778,\"#fb9f3a\"],[0.8888888888888888,\"#fdca26\"],[1.0,\"#f0f921\"]],\"diverging\":[[0,\"#8e0152\"],[0.1,\"#c51b7d\"],[0.2,\"#de77ae\"],[0.3,\"#f1b6da\"],[0.4,\"#fde0ef\"],[0.5,\"#f7f7f7\"],[0.6,\"#e6f5d0\"],[0.7,\"#b8e186\"],[0.8,\"#7fbc41\"],[0.9,\"#4d9221\"],[1,\"#276419\"]]},\"xaxis\":{\"gridcolor\":\"white\",\"linecolor\":\"white\",\"ticks\":\"\",\"title\":{\"standoff\":15},\"zerolinecolor\":\"white\",\"automargin\":true,\"zerolinewidth\":2},\"yaxis\":{\"gridcolor\":\"white\",\"linecolor\":\"white\",\"ticks\":\"\",\"title\":{\"standoff\":15},\"zerolinecolor\":\"white\",\"automargin\":true,\"zerolinewidth\":2},\"scene\":{\"xaxis\":{\"backgroundcolor\":\"#E5ECF6\",\"gridcolor\":\"white\",\"linecolor\":\"white\",\"showbackground\":true,\"ticks\":\"\",\"zerolinecolor\":\"white\",\"gridwidth\":2},\"yaxis\":{\"backgroundcolor\":\"#E5ECF6\",\"gridcolor\":\"white\",\"linecolor\":\"white\",\"showbackground\":true,\"ticks\":\"\",\"zerolinecolor\":\"white\",\"gridwidth\":2},\"zaxis\":{\"backgroundcolor\":\"#E5ECF6\",\"gridcolor\":\"white\",\"linecolor\":\"white\",\"showbackground\":true,\"ticks\":\"\",\"zerolinecolor\":\"white\",\"gridwidth\":2}},\"shapedefaults\":{\"line\":{\"color\":\"#2a3f5f\"}},\"annotationdefaults\":{\"arrowcolor\":\"#2a3f5f\",\"arrowhead\":0,\"arrowwidth\":1},\"geo\":{\"bgcolor\":\"white\",\"landcolor\":\"#E5ECF6\",\"subunitcolor\":\"white\",\"showland\":true,\"showlakes\":true,\"lakecolor\":\"white\"},\"title\":{\"x\":0.05},\"mapbox\":{\"style\":\"light\"}}},\"yaxis\":{\"autorange\":\"reversed\"},\"title\":{\"text\":\"Unused features compared to top important features\"},\"height\":500,\"shapes\":[{\"line\":{\"color\":\"green\",\"dash\":\"dash\",\"width\":2},\"type\":\"line\",\"x0\":0,\"x1\":1,\"xref\":\"x domain\",\"y0\":2.5,\"y1\":2.5,\"yref\":\"y\"}],\"annotations\":[{\"showarrow\":false,\"text\":\"Last shown significant feature\",\"x\":1,\"xanchor\":\"right\",\"xref\":\"x domain\",\"y\":2.5,\"yanchor\":\"bottom\",\"yref\":\"y\"}]}}",
           "type": "plotly"
          }
         ],
         "header": "Unused Features - Train Dataset",
         "type": "CheckResult",
         "value": {
          "unused features": {
           "high variance": [
            "kilometers_driven",
            "ownership",
            "fuel_type"
           ],
           "low variance": [
            "transmission_Manual",
            "transmission_Automatic"
           ]
          },
          "used features": [
           "vehicle_year",
           "max_power_output",
           "engine_capacity"
          ]
         }
        },
        {
         "check": {
          "name": "Unused Features",
          "params": {
           "feature_importance_threshold": 0.2,
           "feature_variance_threshold": 0.4,
           "n_samples": 1000000,
           "n_top_fi_to_show": 5,
           "n_top_unused_to_show": 15,
           "random_state": 42
          },
          "summary": "Detect features that are nearly unused by the model. <a href=\"https://docs.deepchecks.com/0.17/tabular/auto_checks/model_evaluation/plot_unused_features.html?utm_source=display_output&utm_medium=referral&utm_campaign=check_link\" target=\"_blank\">Read More...</a>"
         },
         "conditions_results": [
          {
           "Condition": "Number of high variance unused features is less or equal to 5",
           "More Info": "Found 3 high variance unused features",
           "Status": "PASS"
          }
         ],
         "display": [
          {
           "payload": "Features above the line are a sample of the most important features, while the features below the line are the unused features with highest variance, as defined by check parameters",
           "type": "html"
          },
          {
           "payload": "{\"data\":[{\"marker\":{\"color\":\"indianred\"},\"name\":\"Feature Importance %\",\"orientation\":\"h\",\"x\":[51.899212658730185,26.728974513763877,17.58294473894641,1.9013168478354152,0.5404811489423775,1.0316267114828164],\"y\":[\"vehicle_year\",\"max_power_output\",\"engine_capacity\",\"kilometers_driven\",\"ownership\",\"fuel_type\"],\"type\":\"bar\"},{\"marker\":{\"color\":\"lightsalmon\"},\"name\":\"Feature Variance %\",\"orientation\":\"h\",\"x\":[11.958463395320457,20.424683679597898,18.870779680331648,16.524611699791446,15.362728248300828,11.578238878212419],\"y\":[\"vehicle_year\",\"max_power_output\",\"engine_capacity\",\"kilometers_driven\",\"ownership\",\"fuel_type\"],\"type\":\"bar\"}],\"layout\":{\"template\":{\"data\":{\"histogram2dcontour\":[{\"type\":\"histogram2dcontour\",\"colorbar\":{\"outlinewidth\":0,\"ticks\":\"\"},\"colorscale\":[[0.0,\"#0d0887\"],[0.1111111111111111,\"#46039f\"],[0.2222222222222222,\"#7201a8\"],[0.3333333333333333,\"#9c179e\"],[0.4444444444444444,\"#bd3786\"],[0.5555555555555556,\"#d8576b\"],[0.6666666666666666,\"#ed7953\"],[0.7777777777777778,\"#fb9f3a\"],[0.8888888888888888,\"#fdca26\"],[1.0,\"#f0f921\"]]}],\"choropleth\":[{\"type\":\"choropleth\",\"colorbar\":{\"outlinewidth\":0,\"ticks\":\"\"}}],\"histogram2d\":[{\"type\":\"histogram2d\",\"colorbar\":{\"outlinewidth\":0,\"ticks\":\"\"},\"colorscale\":[[0.0,\"#0d0887\"],[0.1111111111111111,\"#46039f\"],[0.2222222222222222,\"#7201a8\"],[0.3333333333333333,\"#9c179e\"],[0.4444444444444444,\"#bd3786\"],[0.5555555555555556,\"#d8576b\"],[0.6666666666666666,\"#ed7953\"],[0.7777777777777778,\"#fb9f3a\"],[0.8888888888888888,\"#fdca26\"],[1.0,\"#f0f921\"]]}],\"heatmap\":[{\"type\":\"heatmap\",\"colorbar\":{\"outlinewidth\":0,\"ticks\":\"\"},\"colorscale\":[[0.0,\"#0d0887\"],[0.1111111111111111,\"#46039f\"],[0.2222222222222222,\"#7201a8\"],[0.3333333333333333,\"#9c179e\"],[0.4444444444444444,\"#bd3786\"],[0.5555555555555556,\"#d8576b\"],[0.6666666666666666,\"#ed7953\"],[0.7777777777777778,\"#fb9f3a\"],[0.8888888888888888,\"#fdca26\"],[1.0,\"#f0f921\"]]}],\"heatmapgl\":[{\"type\":\"heatmapgl\",\"colorbar\":{\"outlinewidth\":0,\"ticks\":\"\"},\"colorscale\":[[0.0,\"#0d0887\"],[0.1111111111111111,\"#46039f\"],[0.2222222222222222,\"#7201a8\"],[0.3333333333333333,\"#9c179e\"],[0.4444444444444444,\"#bd3786\"],[0.5555555555555556,\"#d8576b\"],[0.6666666666666666,\"#ed7953\"],[0.7777777777777778,\"#fb9f3a\"],[0.8888888888888888,\"#fdca26\"],[1.0,\"#f0f921\"]]}],\"contourcarpet\":[{\"type\":\"contourcarpet\",\"colorbar\":{\"outlinewidth\":0,\"ticks\":\"\"}}],\"contour\":[{\"type\":\"contour\",\"colorbar\":{\"outlinewidth\":0,\"ticks\":\"\"},\"colorscale\":[[0.0,\"#0d0887\"],[0.1111111111111111,\"#46039f\"],[0.2222222222222222,\"#7201a8\"],[0.3333333333333333,\"#9c179e\"],[0.4444444444444444,\"#bd3786\"],[0.5555555555555556,\"#d8576b\"],[0.6666666666666666,\"#ed7953\"],[0.7777777777777778,\"#fb9f3a\"],[0.8888888888888888,\"#fdca26\"],[1.0,\"#f0f921\"]]}],\"surface\":[{\"type\":\"surface\",\"colorbar\":{\"outlinewidth\":0,\"ticks\":\"\"},\"colorscale\":[[0.0,\"#0d0887\"],[0.1111111111111111,\"#46039f\"],[0.2222222222222222,\"#7201a8\"],[0.3333333333333333,\"#9c179e\"],[0.4444444444444444,\"#bd3786\"],[0.5555555555555556,\"#d8576b\"],[0.6666666666666666,\"#ed7953\"],[0.7777777777777778,\"#fb9f3a\"],[0.8888888888888888,\"#fdca26\"],[1.0,\"#f0f921\"]]}],\"mesh3d\":[{\"type\":\"mesh3d\",\"colorbar\":{\"outlinewidth\":0,\"ticks\":\"\"}}],\"scatter\":[{\"fillpattern\":{\"fillmode\":\"overlay\",\"size\":10,\"solidity\":0.2},\"type\":\"scatter\"}],\"parcoords\":[{\"type\":\"parcoords\",\"line\":{\"colorbar\":{\"outlinewidth\":0,\"ticks\":\"\"}}}],\"scatterpolargl\":[{\"type\":\"scatterpolargl\",\"marker\":{\"colorbar\":{\"outlinewidth\":0,\"ticks\":\"\"}}}],\"bar\":[{\"error_x\":{\"color\":\"#2a3f5f\"},\"error_y\":{\"color\":\"#2a3f5f\"},\"marker\":{\"line\":{\"color\":\"#E5ECF6\",\"width\":0.5},\"pattern\":{\"fillmode\":\"overlay\",\"size\":10,\"solidity\":0.2}},\"type\":\"bar\"}],\"scattergeo\":[{\"type\":\"scattergeo\",\"marker\":{\"colorbar\":{\"outlinewidth\":0,\"ticks\":\"\"}}}],\"scatterpolar\":[{\"type\":\"scatterpolar\",\"marker\":{\"colorbar\":{\"outlinewidth\":0,\"ticks\":\"\"}}}],\"histogram\":[{\"marker\":{\"pattern\":{\"fillmode\":\"overlay\",\"size\":10,\"solidity\":0.2}},\"type\":\"histogram\"}],\"scattergl\":[{\"type\":\"scattergl\",\"marker\":{\"colorbar\":{\"outlinewidth\":0,\"ticks\":\"\"}}}],\"scatter3d\":[{\"type\":\"scatter3d\",\"line\":{\"colorbar\":{\"outlinewidth\":0,\"ticks\":\"\"}},\"marker\":{\"colorbar\":{\"outlinewidth\":0,\"ticks\":\"\"}}}],\"scattermapbox\":[{\"type\":\"scattermapbox\",\"marker\":{\"colorbar\":{\"outlinewidth\":0,\"ticks\":\"\"}}}],\"scatterternary\":[{\"type\":\"scatterternary\",\"marker\":{\"colorbar\":{\"outlinewidth\":0,\"ticks\":\"\"}}}],\"scattercarpet\":[{\"type\":\"scattercarpet\",\"marker\":{\"colorbar\":{\"outlinewidth\":0,\"ticks\":\"\"}}}],\"carpet\":[{\"aaxis\":{\"endlinecolor\":\"#2a3f5f\",\"gridcolor\":\"white\",\"linecolor\":\"white\",\"minorgridcolor\":\"white\",\"startlinecolor\":\"#2a3f5f\"},\"baxis\":{\"endlinecolor\":\"#2a3f5f\",\"gridcolor\":\"white\",\"linecolor\":\"white\",\"minorgridcolor\":\"white\",\"startlinecolor\":\"#2a3f5f\"},\"type\":\"carpet\"}],\"table\":[{\"cells\":{\"fill\":{\"color\":\"#EBF0F8\"},\"line\":{\"color\":\"white\"}},\"header\":{\"fill\":{\"color\":\"#C8D4E3\"},\"line\":{\"color\":\"white\"}},\"type\":\"table\"}],\"barpolar\":[{\"marker\":{\"line\":{\"color\":\"#E5ECF6\",\"width\":0.5},\"pattern\":{\"fillmode\":\"overlay\",\"size\":10,\"solidity\":0.2}},\"type\":\"barpolar\"}],\"pie\":[{\"automargin\":true,\"type\":\"pie\"}]},\"layout\":{\"autotypenumbers\":\"strict\",\"colorway\":[\"#636efa\",\"#EF553B\",\"#00cc96\",\"#ab63fa\",\"#FFA15A\",\"#19d3f3\",\"#FF6692\",\"#B6E880\",\"#FF97FF\",\"#FECB52\"],\"font\":{\"color\":\"#2a3f5f\"},\"hovermode\":\"closest\",\"hoverlabel\":{\"align\":\"left\"},\"paper_bgcolor\":\"white\",\"plot_bgcolor\":\"#E5ECF6\",\"polar\":{\"bgcolor\":\"#E5ECF6\",\"angularaxis\":{\"gridcolor\":\"white\",\"linecolor\":\"white\",\"ticks\":\"\"},\"radialaxis\":{\"gridcolor\":\"white\",\"linecolor\":\"white\",\"ticks\":\"\"}},\"ternary\":{\"bgcolor\":\"#E5ECF6\",\"aaxis\":{\"gridcolor\":\"white\",\"linecolor\":\"white\",\"ticks\":\"\"},\"baxis\":{\"gridcolor\":\"white\",\"linecolor\":\"white\",\"ticks\":\"\"},\"caxis\":{\"gridcolor\":\"white\",\"linecolor\":\"white\",\"ticks\":\"\"}},\"coloraxis\":{\"colorbar\":{\"outlinewidth\":0,\"ticks\":\"\"}},\"colorscale\":{\"sequential\":[[0.0,\"#0d0887\"],[0.1111111111111111,\"#46039f\"],[0.2222222222222222,\"#7201a8\"],[0.3333333333333333,\"#9c179e\"],[0.4444444444444444,\"#bd3786\"],[0.5555555555555556,\"#d8576b\"],[0.6666666666666666,\"#ed7953\"],[0.7777777777777778,\"#fb9f3a\"],[0.8888888888888888,\"#fdca26\"],[1.0,\"#f0f921\"]],\"sequentialminus\":[[0.0,\"#0d0887\"],[0.1111111111111111,\"#46039f\"],[0.2222222222222222,\"#7201a8\"],[0.3333333333333333,\"#9c179e\"],[0.4444444444444444,\"#bd3786\"],[0.5555555555555556,\"#d8576b\"],[0.6666666666666666,\"#ed7953\"],[0.7777777777777778,\"#fb9f3a\"],[0.8888888888888888,\"#fdca26\"],[1.0,\"#f0f921\"]],\"diverging\":[[0,\"#8e0152\"],[0.1,\"#c51b7d\"],[0.2,\"#de77ae\"],[0.3,\"#f1b6da\"],[0.4,\"#fde0ef\"],[0.5,\"#f7f7f7\"],[0.6,\"#e6f5d0\"],[0.7,\"#b8e186\"],[0.8,\"#7fbc41\"],[0.9,\"#4d9221\"],[1,\"#276419\"]]},\"xaxis\":{\"gridcolor\":\"white\",\"linecolor\":\"white\",\"ticks\":\"\",\"title\":{\"standoff\":15},\"zerolinecolor\":\"white\",\"automargin\":true,\"zerolinewidth\":2},\"yaxis\":{\"gridcolor\":\"white\",\"linecolor\":\"white\",\"ticks\":\"\",\"title\":{\"standoff\":15},\"zerolinecolor\":\"white\",\"automargin\":true,\"zerolinewidth\":2},\"scene\":{\"xaxis\":{\"backgroundcolor\":\"#E5ECF6\",\"gridcolor\":\"white\",\"linecolor\":\"white\",\"showbackground\":true,\"ticks\":\"\",\"zerolinecolor\":\"white\",\"gridwidth\":2},\"yaxis\":{\"backgroundcolor\":\"#E5ECF6\",\"gridcolor\":\"white\",\"linecolor\":\"white\",\"showbackground\":true,\"ticks\":\"\",\"zerolinecolor\":\"white\",\"gridwidth\":2},\"zaxis\":{\"backgroundcolor\":\"#E5ECF6\",\"gridcolor\":\"white\",\"linecolor\":\"white\",\"showbackground\":true,\"ticks\":\"\",\"zerolinecolor\":\"white\",\"gridwidth\":2}},\"shapedefaults\":{\"line\":{\"color\":\"#2a3f5f\"}},\"annotationdefaults\":{\"arrowcolor\":\"#2a3f5f\",\"arrowhead\":0,\"arrowwidth\":1},\"geo\":{\"bgcolor\":\"white\",\"landcolor\":\"#E5ECF6\",\"subunitcolor\":\"white\",\"showland\":true,\"showlakes\":true,\"lakecolor\":\"white\"},\"title\":{\"x\":0.05},\"mapbox\":{\"style\":\"light\"}}},\"yaxis\":{\"autorange\":\"reversed\"},\"title\":{\"text\":\"Unused features compared to top important features\"},\"height\":500,\"shapes\":[{\"line\":{\"color\":\"green\",\"dash\":\"dash\",\"width\":2},\"type\":\"line\",\"x0\":0,\"x1\":1,\"xref\":\"x domain\",\"y0\":2.5,\"y1\":2.5,\"yref\":\"y\"}],\"annotations\":[{\"showarrow\":false,\"text\":\"Last shown significant feature\",\"x\":1,\"xanchor\":\"right\",\"xref\":\"x domain\",\"y\":2.5,\"yanchor\":\"bottom\",\"yref\":\"y\"}]}}",
           "type": "plotly"
          }
         ],
         "header": "Unused Features - Test Dataset",
         "type": "CheckResult",
         "value": {
          "unused features": {
           "high variance": [
            "kilometers_driven",
            "ownership",
            "fuel_type"
           ],
           "low variance": [
            "transmission_Manual",
            "transmission_Automatic"
           ]
          },
          "used features": [
           "vehicle_year",
           "max_power_output",
           "engine_capacity"
          ]
         }
        },
        {
         "check": {
          "name": "Model Inference Time",
          "params": {
           "n_samples": 1000,
           "random_state": 42
          },
          "summary": "Measure model average inference time (in seconds) per sample. <a href=\"https://docs.deepchecks.com/0.17/tabular/auto_checks/model_evaluation/plot_model_inference_time.html?utm_source=display_output&utm_medium=referral&utm_campaign=check_link\" target=\"_blank\">Read More...</a>"
         },
         "conditions_results": [
          {
           "Condition": "Average model inference time for one sample is less than 0.001",
           "More Info": "Found average inference time (seconds): 9.88e-06",
           "Status": "PASS"
          }
         ],
         "display": [
          {
           "payload": "Average model inference time for one sample (in seconds): 9.88e-06",
           "type": "html"
          },
          {
           "payload": "<p style=\"font-size:0.9em;line-height:1;\"><i>Note - data sampling: Data is sampled from the original dataset, running on 1000 samples out of 5180. Sample size can be controlled with the \"n_samples\" parameter.</i></p>",
           "type": "html"
          }
         ],
         "header": "Model Inference Time - Train Dataset",
         "type": "CheckResult",
         "value": 9.882300000754185e-06
        },
        {
         "check": {
          "name": "Model Inference Time",
          "params": {
           "n_samples": 1000,
           "random_state": 42
          },
          "summary": "Measure model average inference time (in seconds) per sample. <a href=\"https://docs.deepchecks.com/0.17/tabular/auto_checks/model_evaluation/plot_model_inference_time.html?utm_source=display_output&utm_medium=referral&utm_campaign=check_link\" target=\"_blank\">Read More...</a>"
         },
         "conditions_results": [
          {
           "Condition": "Average model inference time for one sample is less than 0.001",
           "More Info": "Found average inference time (seconds): 6.72e-06",
           "Status": "PASS"
          }
         ],
         "display": [
          {
           "payload": "Average model inference time for one sample (in seconds): 6.72e-06",
           "type": "html"
          },
          {
           "payload": "<p style=\"font-size:0.9em;line-height:1;\"><i>Note - data sampling: Data is sampled from the original dataset, running on 1000 samples out of 1295. Sample size can be controlled with the \"n_samples\" parameter.</i></p>",
           "type": "html"
          }
         ],
         "header": "Model Inference Time - Test Dataset",
         "type": "CheckResult",
         "value": 6.717299998854287e-06
        },
        {
         "check": {
          "name": "Datasets Size Comparison",
          "params": {},
          "summary": "Verify test dataset size comparing it to the train dataset size. <a href=\"https://docs.deepchecks.com/0.17/tabular/auto_checks/train_test_validation/plot_datasets_size_comparison.html?utm_source=display_output&utm_medium=referral&utm_campaign=check_link\" target=\"_blank\">Read More...</a>"
         },
         "conditions_results": [
          {
           "Condition": "Test-Train size ratio is greater than 0.01",
           "More Info": "Test-Train size ratio is 0.25",
           "Status": "PASS"
          }
         ],
         "display": [
          {
           "payload": [
            {
             "Test": 1295,
             "Train": 5180
            }
           ],
           "type": "dataframe"
          }
         ],
         "header": "Datasets Size Comparison",
         "type": "CheckResult",
         "value": {
          "Test": 1295,
          "Train": 5180
         }
        },
        {
         "check": {
          "name": "New Category Train Test",
          "params": {
           "aggregation_method": "max",
           "columns": null,
           "ignore_columns": null,
           "max_features_to_show": 5,
           "max_new_categories_to_show": 5,
           "n_samples": 10000000,
           "random_state": 42
          },
          "summary": "Find new categories in the test set. <a href=\"https://docs.deepchecks.com/0.17/tabular/auto_checks/train_test_validation/plot_new_category_train_test.html?utm_source=display_output&utm_medium=referral&utm_campaign=check_link\" target=\"_blank\">Read More...</a>"
         },
         "conditions_results": [
          {
           "Condition": "Ratio of samples with a new category is less or equal to 0%",
           "More Info": "Passed for 2 relevant features",
           "Status": "PASS"
          }
         ],
         "display": [
          {
           "payload": [
            {
             "# New Categories": "0",
             "Feature importance": 0.0009292913983077043,
             "New Categories Names": [],
             "Ratio of New Categories": "0%"
            },
            {
             "# New Categories": "0",
             "Feature importance": 0.002225142404681436,
             "New Categories Names": [],
             "Ratio of New Categories": "0%"
            }
           ],
           "type": "dataframe"
          }
         ],
         "header": "New Category Train Test",
         "type": "CheckResult",
         "value": "[{\"# New Categories\":0,\"Ratio of New Categories\":0,\"New categories\":[],\"Feature importance\":0.0009292914},{\"# New Categories\":0,\"Ratio of New Categories\":0,\"New categories\":[],\"Feature importance\":0.0022251424}]"
        },
        {
         "check": {
          "name": "String Mismatch Comparison",
          "params": {
           "columns": null,
           "ignore_columns": null,
           "n_samples": 1000000,
           "n_top_columns": 10,
           "random_state": 42
          },
          "summary": "Detect different variants of string categories between the same categorical column in two datasets. <a href=\"https://docs.deepchecks.com/0.17/tabular/auto_checks/train_test_validation/plot_string_mismatch_comparison.html?utm_source=display_output&utm_medium=referral&utm_campaign=check_link\" target=\"_blank\">Read More...</a>"
         },
         "conditions_results": [
          {
           "Condition": "No new variants allowed in test data",
           "More Info": "No relevant columns to check were found",
           "Status": "PASS"
          }
         ],
         "display": [],
         "header": "String Mismatch Comparison",
         "type": "CheckResult",
         "value": {}
        },
        {
         "check": {
          "name": "Feature Label Correlation Change",
          "params": {
           "min_pps_to_show": 0.05,
           "n_samples": 100000,
           "n_top_features": 5,
           "ppscore_params": {},
           "random_state": 42
          },
          "summary": "    Return the Predictive Power Score of all features, in order to estimate each feature's ability to predict the label. <a href=\"https://docs.deepchecks.com/0.17/tabular/auto_checks/train_test_validation/plot_feature_label_correlation_change.html?utm_source=display_output&utm_medium=referral&utm_campaign=check_link\" target=\"_blank\">Read More...</a>"
         },
         "conditions_results": [
          {
           "Condition": "Train-Test features' Predictive Power Score difference is less than 0.2",
           "More Info": "Passed for 8 relevant columns",
           "Status": "PASS"
          },
          {
           "Condition": "Train features' Predictive Power Score is less than 0.7",
           "More Info": "Passed for 8 relevant columns",
           "Status": "PASS"
          }
         ],
         "display": [
          {
           "payload": "{\"data\":[{\"marker\":{\"color\":\"#00008b\"},\"name\":\"Train\",\"text\":[\"\\u003cb\\u003e0.48\\u003c\\u002fb\\u003e\",\"\\u003cb\\u003e0.06\\u003c\\u002fb\\u003e\",\"\\u003cb\\u003e0.27\\u003c\\u002fb\\u003e\",\"\\u003cb\\u003e0.31\\u003c\\u002fb\\u003e\",\"\\u003cb\\u003e0.02\\u003c\\u002fb\\u003e\"],\"textposition\":\"outside\",\"x\":[\"max_power_output\",\"kilometers_driven\",\"engine_capacity\",\"vehicle_year\",\"transmission_Automatic\"],\"y\":[0.4776287379437618,0.0583706304642857,0.2722312963575917,0.3081294466261485,0.024880677916994],\"type\":\"bar\"},{\"marker\":{\"color\":\"#69b3a2\"},\"name\":\"Test\",\"text\":[\"\\u003cb\\u003e0.41\\u003c\\u002fb\\u003e\",\"\\u003cb\\u003e0.02\\u003c\\u002fb\\u003e\",\"\\u003cb\\u003e0.29\\u003c\\u002fb\\u003e\",\"\\u003cb\\u003e0.33\\u003c\\u002fb\\u003e\",\"\\u003cb\\u003e0.03\\u003c\\u002fb\\u003e\"],\"textposition\":\"outside\",\"x\":[\"max_power_output\",\"kilometers_driven\",\"engine_capacity\",\"vehicle_year\",\"transmission_Automatic\"],\"y\":[0.4093082848562559,0.017870329389987116,0.2943046415120718,0.32620303634215453,0.033070877957251166],\"type\":\"bar\"}],\"layout\":{\"template\":{\"data\":{\"histogram2dcontour\":[{\"type\":\"histogram2dcontour\",\"colorbar\":{\"outlinewidth\":0,\"ticks\":\"\"},\"colorscale\":[[0.0,\"#0d0887\"],[0.1111111111111111,\"#46039f\"],[0.2222222222222222,\"#7201a8\"],[0.3333333333333333,\"#9c179e\"],[0.4444444444444444,\"#bd3786\"],[0.5555555555555556,\"#d8576b\"],[0.6666666666666666,\"#ed7953\"],[0.7777777777777778,\"#fb9f3a\"],[0.8888888888888888,\"#fdca26\"],[1.0,\"#f0f921\"]]}],\"choropleth\":[{\"type\":\"choropleth\",\"colorbar\":{\"outlinewidth\":0,\"ticks\":\"\"}}],\"histogram2d\":[{\"type\":\"histogram2d\",\"colorbar\":{\"outlinewidth\":0,\"ticks\":\"\"},\"colorscale\":[[0.0,\"#0d0887\"],[0.1111111111111111,\"#46039f\"],[0.2222222222222222,\"#7201a8\"],[0.3333333333333333,\"#9c179e\"],[0.4444444444444444,\"#bd3786\"],[0.5555555555555556,\"#d8576b\"],[0.6666666666666666,\"#ed7953\"],[0.7777777777777778,\"#fb9f3a\"],[0.8888888888888888,\"#fdca26\"],[1.0,\"#f0f921\"]]}],\"heatmap\":[{\"type\":\"heatmap\",\"colorbar\":{\"outlinewidth\":0,\"ticks\":\"\"},\"colorscale\":[[0.0,\"#0d0887\"],[0.1111111111111111,\"#46039f\"],[0.2222222222222222,\"#7201a8\"],[0.3333333333333333,\"#9c179e\"],[0.4444444444444444,\"#bd3786\"],[0.5555555555555556,\"#d8576b\"],[0.6666666666666666,\"#ed7953\"],[0.7777777777777778,\"#fb9f3a\"],[0.8888888888888888,\"#fdca26\"],[1.0,\"#f0f921\"]]}],\"heatmapgl\":[{\"type\":\"heatmapgl\",\"colorbar\":{\"outlinewidth\":0,\"ticks\":\"\"},\"colorscale\":[[0.0,\"#0d0887\"],[0.1111111111111111,\"#46039f\"],[0.2222222222222222,\"#7201a8\"],[0.3333333333333333,\"#9c179e\"],[0.4444444444444444,\"#bd3786\"],[0.5555555555555556,\"#d8576b\"],[0.6666666666666666,\"#ed7953\"],[0.7777777777777778,\"#fb9f3a\"],[0.8888888888888888,\"#fdca26\"],[1.0,\"#f0f921\"]]}],\"contourcarpet\":[{\"type\":\"contourcarpet\",\"colorbar\":{\"outlinewidth\":0,\"ticks\":\"\"}}],\"contour\":[{\"type\":\"contour\",\"colorbar\":{\"outlinewidth\":0,\"ticks\":\"\"},\"colorscale\":[[0.0,\"#0d0887\"],[0.1111111111111111,\"#46039f\"],[0.2222222222222222,\"#7201a8\"],[0.3333333333333333,\"#9c179e\"],[0.4444444444444444,\"#bd3786\"],[0.5555555555555556,\"#d8576b\"],[0.6666666666666666,\"#ed7953\"],[0.7777777777777778,\"#fb9f3a\"],[0.8888888888888888,\"#fdca26\"],[1.0,\"#f0f921\"]]}],\"surface\":[{\"type\":\"surface\",\"colorbar\":{\"outlinewidth\":0,\"ticks\":\"\"},\"colorscale\":[[0.0,\"#0d0887\"],[0.1111111111111111,\"#46039f\"],[0.2222222222222222,\"#7201a8\"],[0.3333333333333333,\"#9c179e\"],[0.4444444444444444,\"#bd3786\"],[0.5555555555555556,\"#d8576b\"],[0.6666666666666666,\"#ed7953\"],[0.7777777777777778,\"#fb9f3a\"],[0.8888888888888888,\"#fdca26\"],[1.0,\"#f0f921\"]]}],\"mesh3d\":[{\"type\":\"mesh3d\",\"colorbar\":{\"outlinewidth\":0,\"ticks\":\"\"}}],\"scatter\":[{\"fillpattern\":{\"fillmode\":\"overlay\",\"size\":10,\"solidity\":0.2},\"type\":\"scatter\"}],\"parcoords\":[{\"type\":\"parcoords\",\"line\":{\"colorbar\":{\"outlinewidth\":0,\"ticks\":\"\"}}}],\"scatterpolargl\":[{\"type\":\"scatterpolargl\",\"marker\":{\"colorbar\":{\"outlinewidth\":0,\"ticks\":\"\"}}}],\"bar\":[{\"error_x\":{\"color\":\"#2a3f5f\"},\"error_y\":{\"color\":\"#2a3f5f\"},\"marker\":{\"line\":{\"color\":\"#E5ECF6\",\"width\":0.5},\"pattern\":{\"fillmode\":\"overlay\",\"size\":10,\"solidity\":0.2}},\"type\":\"bar\"}],\"scattergeo\":[{\"type\":\"scattergeo\",\"marker\":{\"colorbar\":{\"outlinewidth\":0,\"ticks\":\"\"}}}],\"scatterpolar\":[{\"type\":\"scatterpolar\",\"marker\":{\"colorbar\":{\"outlinewidth\":0,\"ticks\":\"\"}}}],\"histogram\":[{\"marker\":{\"pattern\":{\"fillmode\":\"overlay\",\"size\":10,\"solidity\":0.2}},\"type\":\"histogram\"}],\"scattergl\":[{\"type\":\"scattergl\",\"marker\":{\"colorbar\":{\"outlinewidth\":0,\"ticks\":\"\"}}}],\"scatter3d\":[{\"type\":\"scatter3d\",\"line\":{\"colorbar\":{\"outlinewidth\":0,\"ticks\":\"\"}},\"marker\":{\"colorbar\":{\"outlinewidth\":0,\"ticks\":\"\"}}}],\"scattermapbox\":[{\"type\":\"scattermapbox\",\"marker\":{\"colorbar\":{\"outlinewidth\":0,\"ticks\":\"\"}}}],\"scatterternary\":[{\"type\":\"scatterternary\",\"marker\":{\"colorbar\":{\"outlinewidth\":0,\"ticks\":\"\"}}}],\"scattercarpet\":[{\"type\":\"scattercarpet\",\"marker\":{\"colorbar\":{\"outlinewidth\":0,\"ticks\":\"\"}}}],\"carpet\":[{\"aaxis\":{\"endlinecolor\":\"#2a3f5f\",\"gridcolor\":\"white\",\"linecolor\":\"white\",\"minorgridcolor\":\"white\",\"startlinecolor\":\"#2a3f5f\"},\"baxis\":{\"endlinecolor\":\"#2a3f5f\",\"gridcolor\":\"white\",\"linecolor\":\"white\",\"minorgridcolor\":\"white\",\"startlinecolor\":\"#2a3f5f\"},\"type\":\"carpet\"}],\"table\":[{\"cells\":{\"fill\":{\"color\":\"#EBF0F8\"},\"line\":{\"color\":\"white\"}},\"header\":{\"fill\":{\"color\":\"#C8D4E3\"},\"line\":{\"color\":\"white\"}},\"type\":\"table\"}],\"barpolar\":[{\"marker\":{\"line\":{\"color\":\"#E5ECF6\",\"width\":0.5},\"pattern\":{\"fillmode\":\"overlay\",\"size\":10,\"solidity\":0.2}},\"type\":\"barpolar\"}],\"pie\":[{\"automargin\":true,\"type\":\"pie\"}]},\"layout\":{\"autotypenumbers\":\"strict\",\"colorway\":[\"#636efa\",\"#EF553B\",\"#00cc96\",\"#ab63fa\",\"#FFA15A\",\"#19d3f3\",\"#FF6692\",\"#B6E880\",\"#FF97FF\",\"#FECB52\"],\"font\":{\"color\":\"#2a3f5f\"},\"hovermode\":\"closest\",\"hoverlabel\":{\"align\":\"left\"},\"paper_bgcolor\":\"white\",\"plot_bgcolor\":\"#E5ECF6\",\"polar\":{\"bgcolor\":\"#E5ECF6\",\"angularaxis\":{\"gridcolor\":\"white\",\"linecolor\":\"white\",\"ticks\":\"\"},\"radialaxis\":{\"gridcolor\":\"white\",\"linecolor\":\"white\",\"ticks\":\"\"}},\"ternary\":{\"bgcolor\":\"#E5ECF6\",\"aaxis\":{\"gridcolor\":\"white\",\"linecolor\":\"white\",\"ticks\":\"\"},\"baxis\":{\"gridcolor\":\"white\",\"linecolor\":\"white\",\"ticks\":\"\"},\"caxis\":{\"gridcolor\":\"white\",\"linecolor\":\"white\",\"ticks\":\"\"}},\"coloraxis\":{\"colorbar\":{\"outlinewidth\":0,\"ticks\":\"\"}},\"colorscale\":{\"sequential\":[[0.0,\"#0d0887\"],[0.1111111111111111,\"#46039f\"],[0.2222222222222222,\"#7201a8\"],[0.3333333333333333,\"#9c179e\"],[0.4444444444444444,\"#bd3786\"],[0.5555555555555556,\"#d8576b\"],[0.6666666666666666,\"#ed7953\"],[0.7777777777777778,\"#fb9f3a\"],[0.8888888888888888,\"#fdca26\"],[1.0,\"#f0f921\"]],\"sequentialminus\":[[0.0,\"#0d0887\"],[0.1111111111111111,\"#46039f\"],[0.2222222222222222,\"#7201a8\"],[0.3333333333333333,\"#9c179e\"],[0.4444444444444444,\"#bd3786\"],[0.5555555555555556,\"#d8576b\"],[0.6666666666666666,\"#ed7953\"],[0.7777777777777778,\"#fb9f3a\"],[0.8888888888888888,\"#fdca26\"],[1.0,\"#f0f921\"]],\"diverging\":[[0,\"#8e0152\"],[0.1,\"#c51b7d\"],[0.2,\"#de77ae\"],[0.3,\"#f1b6da\"],[0.4,\"#fde0ef\"],[0.5,\"#f7f7f7\"],[0.6,\"#e6f5d0\"],[0.7,\"#b8e186\"],[0.8,\"#7fbc41\"],[0.9,\"#4d9221\"],[1,\"#276419\"]]},\"xaxis\":{\"gridcolor\":\"white\",\"linecolor\":\"white\",\"ticks\":\"\",\"title\":{\"standoff\":15},\"zerolinecolor\":\"white\",\"automargin\":true,\"zerolinewidth\":2},\"yaxis\":{\"gridcolor\":\"white\",\"linecolor\":\"white\",\"ticks\":\"\",\"title\":{\"standoff\":15},\"zerolinecolor\":\"white\",\"automargin\":true,\"zerolinewidth\":2},\"scene\":{\"xaxis\":{\"backgroundcolor\":\"#E5ECF6\",\"gridcolor\":\"white\",\"linecolor\":\"white\",\"showbackground\":true,\"ticks\":\"\",\"zerolinecolor\":\"white\",\"gridwidth\":2},\"yaxis\":{\"backgroundcolor\":\"#E5ECF6\",\"gridcolor\":\"white\",\"linecolor\":\"white\",\"showbackground\":true,\"ticks\":\"\",\"zerolinecolor\":\"white\",\"gridwidth\":2},\"zaxis\":{\"backgroundcolor\":\"#E5ECF6\",\"gridcolor\":\"white\",\"linecolor\":\"white\",\"showbackground\":true,\"ticks\":\"\",\"zerolinecolor\":\"white\",\"gridwidth\":2}},\"shapedefaults\":{\"line\":{\"color\":\"#2a3f5f\"}},\"annotationdefaults\":{\"arrowcolor\":\"#2a3f5f\",\"arrowhead\":0,\"arrowwidth\":1},\"geo\":{\"bgcolor\":\"white\",\"landcolor\":\"#E5ECF6\",\"subunitcolor\":\"white\",\"showland\":true,\"showlakes\":true,\"lakecolor\":\"white\"},\"title\":{\"x\":0.05},\"mapbox\":{\"style\":\"light\"}}},\"yaxis\":{\"title\":{\"text\":\"Predictive Power Score (PPS)\"},\"range\":[0,1.05]},\"xaxis\":{\"range\":[-3,7],\"type\":\"category\",\"title\":{\"text\":\"Column\"}},\"legend\":{\"x\":1.0,\"y\":1.0},\"barmode\":\"group\",\"height\":500,\"title\":{\"text\":\"Predictive Power Score (PPS) - Can a feature predict the label by itself?\"}}}",
           "type": "plotly"
          },
          {
           "payload": "The Predictive Power Score (PPS) is used to estimate the ability of a feature to predict the label by itself. (Read more about <a href=https://docs.deepchecks.com/stable/tabular/auto_checks/train_test_validation/plot_feature_label_correlation_change.html target=\"_blank\">Predictive Power Score</a>)",
           "type": "html"
          },
          {
           "payload": "<u>In the graph above</u>, we should suspect we have problems in our data if:",
           "type": "html"
          },
          {
           "payload": "1. <b>Train dataset PPS values are high</b>:",
           "type": "html"
          },
          {
           "payload": "Can indicate that this feature's success in predicting the label is actually due to data leakage, ",
           "type": "html"
          },
          {
           "payload": "   meaning that the feature holds information that is based on the label to begin with.",
           "type": "html"
          },
          {
           "payload": "2. <b>Large difference between train and test PPS</b> (train PPS is larger):",
           "type": "html"
          },
          {
           "payload": "   An even more powerful indication of data leakage, as a feature that was powerful in train but not in test ",
           "type": "html"
          },
          {
           "payload": "   can be explained by leakage in train that is not relevant to a new dataset.",
           "type": "html"
          },
          {
           "payload": "3. <b>Large difference between test and train PPS</b> (test PPS is larger):",
           "type": "html"
          },
          {
           "payload": "   An anomalous value, could indicate drift in test dataset that caused a coincidental correlation to the target label.",
           "type": "html"
          }
         ],
         "header": "Feature Label Correlation Change",
         "type": "CheckResult",
         "value": {
          "test": {
           "engine_capacity": 0.2943046415120718,
           "fuel_type": 0.042250189832246376,
           "kilometers_driven": 0.017870329389987116,
           "max_power_output": 0.4093082848562559,
           "ownership": 0.08140052027600075,
           "transmission_Automatic": 0.033070877957251166,
           "transmission_Manual": 0.033070877957251166,
           "vehicle_year": 0.32620303634215453
          },
          "train": {
           "engine_capacity": 0.2722312963575917,
           "fuel_type": 0.036259875805288444,
           "kilometers_driven": 0.0583706304642857,
           "max_power_output": 0.4776287379437618,
           "ownership": 0.07522257393876419,
           "transmission_Automatic": 0.024880677916994,
           "transmission_Manual": 0.024880677916994,
           "vehicle_year": 0.3081294466261485
          },
          "train-test difference": {
           "engine_capacity": -0.022073345154480117,
           "fuel_type": -0.0059903140269579325,
           "kilometers_driven": 0.040500301074298584,
           "max_power_output": 0.0683204530875059,
           "ownership": -0.006177946337236562,
           "transmission_Automatic": -0.008190200040257167,
           "transmission_Manual": -0.008190200040257167,
           "vehicle_year": -0.018073589716006033
          }
         }
        },
        {
         "check": {
          "name": "Feature Drift",
          "params": {
           "aggregation_method": "l3_weighted",
           "categorical_drift_method": "cramers_v",
           "columns": null,
           "ignore_columns": null,
           "ignore_na": true,
           "margin_quantile_filter": 0.025,
           "max_num_categories_for_display": 10,
           "max_num_categories_for_drift": null,
           "min_category_size_ratio": 0.01,
           "min_samples": 10,
           "n_samples": 100000,
           "n_top_columns": 5,
           "numerical_drift_method": "KS",
           "random_state": 42,
           "show_categories_by": "largest_difference",
           "sort_feature_by": "drift + importance"
          },
          "summary": "    Calculate drift between train dataset and test dataset per feature, using statistical measures. <a href=\"https://docs.deepchecks.com/0.17/tabular/auto_checks/train_test_validation/plot_feature_drift.html?utm_source=display_output&utm_medium=referral&utm_campaign=check_link\" target=\"_blank\">Read More...</a>"
         },
         "conditions_results": [
          {
           "Condition": "categorical drift score < 0.2 and numerical drift score < 0.2",
           "More Info": "Passed for 8 columns out of 8 columns.\nFound column \"transmission_Automatic\" has the highest categorical drift score: 0\nFound column \"kilometers_driven\" has the highest numerical drift score: 0.04",
           "Status": "PASS"
          }
         ],
         "display": [
          {
           "payload": "\n<span>\nThe Drift score is a measure for the difference between two distributions, in this check - the test\nand train distributions.<br> The check shows the drift score and distributions for the features,\nsorted by the sum of the drift score and the feature importance and showing only the top 5 features,\naccording to the sum of the drift score and the feature importance.\n</span>\n",
           "type": "html"
          },
          {
           "payload": "For discrete distribution plots, showing the top 10 categories with largest difference between train and test.",
           "type": "html"
          },
          {
           "payload": "If available, the plot titles also show the feature importance (FI) rank",
           "type": "html"
          },
          {
           "payload": "{\"data\":[{\"base\":0,\"marker\":{\"color\":\"#01B8AA\"},\"offsetgroup\":\"0\",\"orientation\":\"h\",\"showlegend\":false,\"x\":[0.03725868725868725],\"y\":[\"Drift Score\"],\"type\":\"bar\",\"xaxis\":\"x\",\"yaxis\":\"y\"},{\"marker\":{\"color\":\"#00008b\"},\"name\":\"Train Dataset\",\"x\":[2006.0,2007.0,2008.0,2009.0,2010.0,2011.0,2012.0,2013.0,2014.0,2015.0,2016.0,2017.0,2018.0,2019.0,2020.0],\"y\":[0.010617760617760617,0.015444015444015444,0.021042471042471044,0.030694980694980695,0.050965250965250966,0.07992277992277992,0.08822393822393823,0.09401544401544401,0.08841698841698842,0.10521235521235521,0.11138996138996139,0.13474903474903474,0.10328185328185328,0.05637065637065637,0.009652509652509652],\"type\":\"bar\",\"xaxis\":\"x2\",\"yaxis\":\"y2\"},{\"marker\":{\"color\":\"#69b3a2\"},\"name\":\"Test Dataset\",\"x\":[2006.0,2007.0,2008.0,2009.0,2010.0,2011.0,2012.0,2013.0,2014.0,2015.0,2016.0,2017.0,2018.0,2019.0,2020.0],\"y\":[0.009266409266409266,0.01776061776061776,0.015444015444015444,0.023166023166023165,0.039382239382239385,0.06640926640926641,0.09498069498069497,0.10347490347490347,0.08416988416988418,0.10888030888030888,0.12818532818532818,0.12432432432432433,0.10656370656370656,0.07104247104247104,0.0069498069498069494],\"type\":\"bar\",\"xaxis\":\"x2\",\"yaxis\":\"y2\"}],\"layout\":{\"template\":{\"data\":{\"histogram2dcontour\":[{\"type\":\"histogram2dcontour\",\"colorbar\":{\"outlinewidth\":0,\"ticks\":\"\"},\"colorscale\":[[0.0,\"#0d0887\"],[0.1111111111111111,\"#46039f\"],[0.2222222222222222,\"#7201a8\"],[0.3333333333333333,\"#9c179e\"],[0.4444444444444444,\"#bd3786\"],[0.5555555555555556,\"#d8576b\"],[0.6666666666666666,\"#ed7953\"],[0.7777777777777778,\"#fb9f3a\"],[0.8888888888888888,\"#fdca26\"],[1.0,\"#f0f921\"]]}],\"choropleth\":[{\"type\":\"choropleth\",\"colorbar\":{\"outlinewidth\":0,\"ticks\":\"\"}}],\"histogram2d\":[{\"type\":\"histogram2d\",\"colorbar\":{\"outlinewidth\":0,\"ticks\":\"\"},\"colorscale\":[[0.0,\"#0d0887\"],[0.1111111111111111,\"#46039f\"],[0.2222222222222222,\"#7201a8\"],[0.3333333333333333,\"#9c179e\"],[0.4444444444444444,\"#bd3786\"],[0.5555555555555556,\"#d8576b\"],[0.6666666666666666,\"#ed7953\"],[0.7777777777777778,\"#fb9f3a\"],[0.8888888888888888,\"#fdca26\"],[1.0,\"#f0f921\"]]}],\"heatmap\":[{\"type\":\"heatmap\",\"colorbar\":{\"outlinewidth\":0,\"ticks\":\"\"},\"colorscale\":[[0.0,\"#0d0887\"],[0.1111111111111111,\"#46039f\"],[0.2222222222222222,\"#7201a8\"],[0.3333333333333333,\"#9c179e\"],[0.4444444444444444,\"#bd3786\"],[0.5555555555555556,\"#d8576b\"],[0.6666666666666666,\"#ed7953\"],[0.7777777777777778,\"#fb9f3a\"],[0.8888888888888888,\"#fdca26\"],[1.0,\"#f0f921\"]]}],\"heatmapgl\":[{\"type\":\"heatmapgl\",\"colorbar\":{\"outlinewidth\":0,\"ticks\":\"\"},\"colorscale\":[[0.0,\"#0d0887\"],[0.1111111111111111,\"#46039f\"],[0.2222222222222222,\"#7201a8\"],[0.3333333333333333,\"#9c179e\"],[0.4444444444444444,\"#bd3786\"],[0.5555555555555556,\"#d8576b\"],[0.6666666666666666,\"#ed7953\"],[0.7777777777777778,\"#fb9f3a\"],[0.8888888888888888,\"#fdca26\"],[1.0,\"#f0f921\"]]}],\"contourcarpet\":[{\"type\":\"contourcarpet\",\"colorbar\":{\"outlinewidth\":0,\"ticks\":\"\"}}],\"contour\":[{\"type\":\"contour\",\"colorbar\":{\"outlinewidth\":0,\"ticks\":\"\"},\"colorscale\":[[0.0,\"#0d0887\"],[0.1111111111111111,\"#46039f\"],[0.2222222222222222,\"#7201a8\"],[0.3333333333333333,\"#9c179e\"],[0.4444444444444444,\"#bd3786\"],[0.5555555555555556,\"#d8576b\"],[0.6666666666666666,\"#ed7953\"],[0.7777777777777778,\"#fb9f3a\"],[0.8888888888888888,\"#fdca26\"],[1.0,\"#f0f921\"]]}],\"surface\":[{\"type\":\"surface\",\"colorbar\":{\"outlinewidth\":0,\"ticks\":\"\"},\"colorscale\":[[0.0,\"#0d0887\"],[0.1111111111111111,\"#46039f\"],[0.2222222222222222,\"#7201a8\"],[0.3333333333333333,\"#9c179e\"],[0.4444444444444444,\"#bd3786\"],[0.5555555555555556,\"#d8576b\"],[0.6666666666666666,\"#ed7953\"],[0.7777777777777778,\"#fb9f3a\"],[0.8888888888888888,\"#fdca26\"],[1.0,\"#f0f921\"]]}],\"mesh3d\":[{\"type\":\"mesh3d\",\"colorbar\":{\"outlinewidth\":0,\"ticks\":\"\"}}],\"scatter\":[{\"fillpattern\":{\"fillmode\":\"overlay\",\"size\":10,\"solidity\":0.2},\"type\":\"scatter\"}],\"parcoords\":[{\"type\":\"parcoords\",\"line\":{\"colorbar\":{\"outlinewidth\":0,\"ticks\":\"\"}}}],\"scatterpolargl\":[{\"type\":\"scatterpolargl\",\"marker\":{\"colorbar\":{\"outlinewidth\":0,\"ticks\":\"\"}}}],\"bar\":[{\"error_x\":{\"color\":\"#2a3f5f\"},\"error_y\":{\"color\":\"#2a3f5f\"},\"marker\":{\"line\":{\"color\":\"#E5ECF6\",\"width\":0.5},\"pattern\":{\"fillmode\":\"overlay\",\"size\":10,\"solidity\":0.2}},\"type\":\"bar\"}],\"scattergeo\":[{\"type\":\"scattergeo\",\"marker\":{\"colorbar\":{\"outlinewidth\":0,\"ticks\":\"\"}}}],\"scatterpolar\":[{\"type\":\"scatterpolar\",\"marker\":{\"colorbar\":{\"outlinewidth\":0,\"ticks\":\"\"}}}],\"histogram\":[{\"marker\":{\"pattern\":{\"fillmode\":\"overlay\",\"size\":10,\"solidity\":0.2}},\"type\":\"histogram\"}],\"scattergl\":[{\"type\":\"scattergl\",\"marker\":{\"colorbar\":{\"outlinewidth\":0,\"ticks\":\"\"}}}],\"scatter3d\":[{\"type\":\"scatter3d\",\"line\":{\"colorbar\":{\"outlinewidth\":0,\"ticks\":\"\"}},\"marker\":{\"colorbar\":{\"outlinewidth\":0,\"ticks\":\"\"}}}],\"scattermapbox\":[{\"type\":\"scattermapbox\",\"marker\":{\"colorbar\":{\"outlinewidth\":0,\"ticks\":\"\"}}}],\"scatterternary\":[{\"type\":\"scatterternary\",\"marker\":{\"colorbar\":{\"outlinewidth\":0,\"ticks\":\"\"}}}],\"scattercarpet\":[{\"type\":\"scattercarpet\",\"marker\":{\"colorbar\":{\"outlinewidth\":0,\"ticks\":\"\"}}}],\"carpet\":[{\"aaxis\":{\"endlinecolor\":\"#2a3f5f\",\"gridcolor\":\"white\",\"linecolor\":\"white\",\"minorgridcolor\":\"white\",\"startlinecolor\":\"#2a3f5f\"},\"baxis\":{\"endlinecolor\":\"#2a3f5f\",\"gridcolor\":\"white\",\"linecolor\":\"white\",\"minorgridcolor\":\"white\",\"startlinecolor\":\"#2a3f5f\"},\"type\":\"carpet\"}],\"table\":[{\"cells\":{\"fill\":{\"color\":\"#EBF0F8\"},\"line\":{\"color\":\"white\"}},\"header\":{\"fill\":{\"color\":\"#C8D4E3\"},\"line\":{\"color\":\"white\"}},\"type\":\"table\"}],\"barpolar\":[{\"marker\":{\"line\":{\"color\":\"#E5ECF6\",\"width\":0.5},\"pattern\":{\"fillmode\":\"overlay\",\"size\":10,\"solidity\":0.2}},\"type\":\"barpolar\"}],\"pie\":[{\"automargin\":true,\"type\":\"pie\"}]},\"layout\":{\"autotypenumbers\":\"strict\",\"colorway\":[\"#636efa\",\"#EF553B\",\"#00cc96\",\"#ab63fa\",\"#FFA15A\",\"#19d3f3\",\"#FF6692\",\"#B6E880\",\"#FF97FF\",\"#FECB52\"],\"font\":{\"color\":\"#2a3f5f\"},\"hovermode\":\"closest\",\"hoverlabel\":{\"align\":\"left\"},\"paper_bgcolor\":\"white\",\"plot_bgcolor\":\"#E5ECF6\",\"polar\":{\"bgcolor\":\"#E5ECF6\",\"angularaxis\":{\"gridcolor\":\"white\",\"linecolor\":\"white\",\"ticks\":\"\"},\"radialaxis\":{\"gridcolor\":\"white\",\"linecolor\":\"white\",\"ticks\":\"\"}},\"ternary\":{\"bgcolor\":\"#E5ECF6\",\"aaxis\":{\"gridcolor\":\"white\",\"linecolor\":\"white\",\"ticks\":\"\"},\"baxis\":{\"gridcolor\":\"white\",\"linecolor\":\"white\",\"ticks\":\"\"},\"caxis\":{\"gridcolor\":\"white\",\"linecolor\":\"white\",\"ticks\":\"\"}},\"coloraxis\":{\"colorbar\":{\"outlinewidth\":0,\"ticks\":\"\"}},\"colorscale\":{\"sequential\":[[0.0,\"#0d0887\"],[0.1111111111111111,\"#46039f\"],[0.2222222222222222,\"#7201a8\"],[0.3333333333333333,\"#9c179e\"],[0.4444444444444444,\"#bd3786\"],[0.5555555555555556,\"#d8576b\"],[0.6666666666666666,\"#ed7953\"],[0.7777777777777778,\"#fb9f3a\"],[0.8888888888888888,\"#fdca26\"],[1.0,\"#f0f921\"]],\"sequentialminus\":[[0.0,\"#0d0887\"],[0.1111111111111111,\"#46039f\"],[0.2222222222222222,\"#7201a8\"],[0.3333333333333333,\"#9c179e\"],[0.4444444444444444,\"#bd3786\"],[0.5555555555555556,\"#d8576b\"],[0.6666666666666666,\"#ed7953\"],[0.7777777777777778,\"#fb9f3a\"],[0.8888888888888888,\"#fdca26\"],[1.0,\"#f0f921\"]],\"diverging\":[[0,\"#8e0152\"],[0.1,\"#c51b7d\"],[0.2,\"#de77ae\"],[0.3,\"#f1b6da\"],[0.4,\"#fde0ef\"],[0.5,\"#f7f7f7\"],[0.6,\"#e6f5d0\"],[0.7,\"#b8e186\"],[0.8,\"#7fbc41\"],[0.9,\"#4d9221\"],[1,\"#276419\"]]},\"xaxis\":{\"gridcolor\":\"white\",\"linecolor\":\"white\",\"ticks\":\"\",\"title\":{\"standoff\":15},\"zerolinecolor\":\"white\",\"automargin\":true,\"zerolinewidth\":2},\"yaxis\":{\"gridcolor\":\"white\",\"linecolor\":\"white\",\"ticks\":\"\",\"title\":{\"standoff\":15},\"zerolinecolor\":\"white\",\"automargin\":true,\"zerolinewidth\":2},\"scene\":{\"xaxis\":{\"backgroundcolor\":\"#E5ECF6\",\"gridcolor\":\"white\",\"linecolor\":\"white\",\"showbackground\":true,\"ticks\":\"\",\"zerolinecolor\":\"white\",\"gridwidth\":2},\"yaxis\":{\"backgroundcolor\":\"#E5ECF6\",\"gridcolor\":\"white\",\"linecolor\":\"white\",\"showbackground\":true,\"ticks\":\"\",\"zerolinecolor\":\"white\",\"gridwidth\":2},\"zaxis\":{\"backgroundcolor\":\"#E5ECF6\",\"gridcolor\":\"white\",\"linecolor\":\"white\",\"showbackground\":true,\"ticks\":\"\",\"zerolinecolor\":\"white\",\"gridwidth\":2}},\"shapedefaults\":{\"line\":{\"color\":\"#2a3f5f\"}},\"annotationdefaults\":{\"arrowcolor\":\"#2a3f5f\",\"arrowhead\":0,\"arrowwidth\":1},\"geo\":{\"bgcolor\":\"white\",\"landcolor\":\"#E5ECF6\",\"subunitcolor\":\"white\",\"showland\":true,\"showlakes\":true,\"lakecolor\":\"white\"},\"title\":{\"x\":0.05},\"mapbox\":{\"style\":\"light\"}}},\"xaxis\":{\"anchor\":\"y\",\"domain\":[0.0,1.0],\"showgrid\":false,\"gridcolor\":\"black\",\"linecolor\":\"black\",\"range\":[0,0.4],\"dtick\":0.05,\"fixedrange\":true},\"yaxis\":{\"anchor\":\"x\",\"domain\":[0.9200000000000002,1.0],\"showgrid\":false,\"showline\":false,\"showticklabels\":false,\"zeroline\":false,\"color\":\"black\",\"autorange\":true,\"rangemode\":\"normal\",\"fixedrange\":true},\"xaxis2\":{\"anchor\":\"y2\",\"domain\":[0.0,1.0],\"ticks\":\"outside\",\"tickmode\":\"array\",\"tickvals\":[2006.0,2007.0,2008.0,2009.0,2010.0,2011.0,2012.0,2013.0,2014.0,2015.0,2016.0,2017.0,2018.0,2019.0,2020.0],\"range\":[2003.2,2022.8]},\"yaxis2\":{\"anchor\":\"x2\",\"domain\":[0.0,0.7200000000000001],\"fixedrange\":true,\"autorange\":true,\"rangemode\":\"normal\",\"title\":{\"text\":\"Frequency\"}},\"annotations\":[{\"font\":{\"size\":16},\"showarrow\":false,\"text\":\"Drift Score (Kolmogorov-Smirnov)\",\"x\":0.5,\"xanchor\":\"center\",\"xref\":\"paper\",\"y\":1.0,\"yanchor\":\"bottom\",\"yref\":\"paper\"},{\"font\":{\"size\":16},\"showarrow\":false,\"text\":\"Distribution Plot\",\"x\":0.5,\"xanchor\":\"center\",\"xref\":\"paper\",\"y\":0.7200000000000001,\"yanchor\":\"bottom\",\"yref\":\"paper\"}],\"legend\":{\"title\":{\"text\":\"Legend\"},\"yanchor\":\"top\",\"y\":0.6},\"title\":{\"text\":\"vehicle_year (#1 in FI)\",\"x\":0.5,\"xanchor\":\"center\"},\"height\":400,\"bargroupgap\":0}}",
           "type": "plotly"
          },
          {
           "payload": "{\"data\":[{\"base\":0,\"marker\":{\"color\":\"#01B8AA\"},\"offsetgroup\":\"0\",\"orientation\":\"h\",\"showlegend\":false,\"x\":[0.037451737451737355],\"y\":[\"Drift Score\"],\"type\":\"bar\",\"xaxis\":\"x\",\"yaxis\":\"y\"},{\"fill\":\"tozeroy\",\"line\":{\"color\":\"#00008b\",\"shape\":\"linear\"},\"name\":\"Train Dataset\",\"x\":[0.0,4.045918367346939,8.091836734693878,12.137755102040817,16.183673469387756,20.229591836734695,24.275510204081634,28.321428571428573,32.36734693877551,36.413265306122454,40.45918367346939,44.505102040816325,46.3,46.3,47.3,47.3,48.55102040816327,51.37000000000005,52.59693877551021,53.3,55.2,55.2,56.642857142857146,57.6,58.2,60.68877551020408,62.1,62.1,63.0,63.0,64.73469387755102,67.0,67.0,67.0,67.04,67.04,67.048,67.05,67.1,67.1,68.0,68.05,68.78061224489797,69.0,69.0,70.0,70.0,72.82653061224491,73.0,73.0,73.9,73.9,74.0,74.0,74.0,74.0,74.0,74.0,74.02,74.02,75.0,76.38400000000001,76.87244897959184,78.9,80.91836734693878,81.8,81.8,81.8,81.8,81.8,81.83,81.83,81.86,81.86,82.0,82.0,82.82066354227598,82.85,83.14,83.67237642059291,83.8,84.0,84.96428571428572,85.8,85.8,86.8,88.5,88.5,88.5,88.7,88.7,88.7,88.73,88.73,88.73,88.76,88.8,89.01020408163265,90.0,90.0,91.76934024567429,91.76934024567429,93.0561224489796,94.9608,94.97340000000003,97.10204081632654,98.6,98.6,98.848,99.0,100.0,100.6,101.14795918367348,103.248,103.52,103.6,105.19387755102042,108.495,108.5,109.23979591836735,113.28571428571429,113.42,115.0,117.33163265306123,120.0,120.0,121.3216,121.37755102040816,123.7,125.4234693877551,126.32,126.32,129.46938775510205,133.51530612244898,137.56122448979593,140.0,140.0,141.60714285714286,145.65306122448982,149.69897959183675,153.74489795918367,157.79081632653063,161.83673469387756,165.8826530612245,169.92857142857144,173.97448979591837,178.0204081632653,182.06632653061226,186.1122448979592,190.15816326530614,194.20408163265307,198.25],\"y\":[0.0000831564662044971,0.00006379487194727908,0.000028809673097258165,7.800645711893668e-6,3.427880092947953e-6,0.0000205785351511252,0.00011410095889853324,0.0003938456756645503,0.000892729926911379,0.0015518792075957589,0.0025301524036212045,0.0038318922871161897,0.00434586340151209,0.00434586340151209,0.004582552294082006,0.004582552294082006,0.004826897088276602,0.005268721443055197,0.005498324062576711,0.005666457896049836,0.006336269927616325,0.006336269927616325,0.007130920573859148,0.007823221754757888,0.00832849856324636,0.010983390157061554,0.012799677375094654,0.012799677375094654,0.014013765354177603,0.014013765354177603,0.016321855263032536,0.018894924766887443,0.018894924766887443,0.018894924766887443,0.018933127161384514,0.018933127161384514,0.01894073245246932,0.018942631938054,0.01898987955236745,0.01898987955236745,0.019758428270499086,0.019796420544887932,0.020293000487759248,0.02042050683769102,0.02042050683769102,0.020875991084777737,0.020875991084777737,0.02118269508333881,0.021165011784046006,0.021165011784046006,0.021031364443176426,0.021031364443176426,0.0210130733215057,0.0210130733215057,0.0210130733215057,0.0210130733215057,0.0210130733215057,0.0210130733215057,0.021009351312013633,0.021009351312013633,0.020809110747466258,0.020522327214776533,0.020436341220887864,0.020243282894174743,0.02032482137003573,0.020406922298235992,0.020406922298235992,0.020406922298235992,0.020406922298235992,0.020406922298235992,0.020409748764582864,0.020409748764582864,0.020412565601003064,0.020412565601003064,0.020425549045211763,0.020425549045211763,0.020490500586162974,0.020492283137175184,0.020507095389035855,0.02051817654073856,0.02051713447130193,0.020512213574163666,0.020422293832400025,0.02023770051779288,0.02023770051779288,0.019863809081632766,0.01882059091893418,0.01882059091893418,0.01882059091893418,0.018665383054839113,0.018665383054839113,0.018665383054839113,0.018641555875923577,0.018641555875923577,0.018641555875923577,0.01861758843553086,0.018585415018777317,0.018412341833192087,0.017515613199975445,0.017515613199975445,0.01568083760687101,0.01568083760687101,0.014290934916256649,0.012379330487742007,0.012367704876279265,0.010641126396488095,0.009691309064729639,0.009691309064729639,0.00955072545743474,0.0094664574193842,0.008941435274822588,0.008644302786123841,0.008379853662122703,0.007383548483553555,0.007254048282156806,0.007215917739252057,0.006456576764131362,0.005023172151020486,0.005021309663948941,0.004760287685099819,0.003922790511887338,0.003912035144574405,0.003849269954227402,0.003887125972853807,0.0039036595086689462,0.0039036595086689462,0.003834667320496864,0.003830254628833091,0.003537453225224693,0.00320183750366154,0.0030031275378897405,0.0030031275378897405,0.0023229219729524768,0.001904635067326762,0.0020095165585575603,0.0020388818263255334,0.0020388818263255334,0.0019732717248646466,0.0015598067245500883,0.0010404859237312313,0.0005875575132830461,0.0002918472146496887,0.00015862988098809433,0.00009976863144993795,0.00006919376195967954,0.00007003998416645213,0.0000808232447835709,0.00007188084403195835,0.000048649185600011015,0.000027711778741288698,0.000013013356178177239,4.408119978486338e-6],\"type\":\"scatter\",\"xaxis\":\"x2\",\"yaxis\":\"y2\"},{\"line\":{\"color\":\"#00008b\",\"dash\":\"dash\"},\"mode\":\"lines+markers\",\"name\":\"Train Mean\",\"x\":[82.82066354227598,82.82066354227598],\"y\":[0,0.020490500586162974],\"type\":\"scatter\",\"xaxis\":\"x2\",\"yaxis\":\"y2\"},{\"line\":{\"color\":\"#00008b\"},\"mode\":\"lines\",\"name\":\"Train Median\",\"x\":[81.8,81.8],\"y\":[0,0.020406922298235992],\"type\":\"scatter\",\"xaxis\":\"x2\",\"yaxis\":\"y2\"},{\"fill\":\"tozeroy\",\"line\":{\"color\":\"#69b3a2\",\"shape\":\"linear\"},\"name\":\"Test Dataset\",\"x\":[0.0,4.045918367346939,8.091836734693878,12.137755102040817,16.183673469387756,20.229591836734695,24.275510204081634,28.321428571428573,32.36734693877551,36.413265306122454,40.45918367346939,44.505102040816325,46.3,46.3,47.3,47.3,48.55102040816327,51.37000000000005,52.59693877551021,53.3,55.2,55.2,56.642857142857146,57.6,58.2,60.68877551020408,62.1,62.1,63.0,63.0,64.73469387755102,67.0,67.0,67.0,67.04,67.04,67.048,67.05,67.1,67.1,68.0,68.05,68.78061224489797,69.0,69.0,70.0,70.0,72.82653061224491,73.0,73.0,73.9,73.9,74.0,74.0,74.0,74.0,74.0,74.0,74.02,74.02,75.0,76.38400000000001,76.87244897959184,78.9,80.91836734693878,81.8,81.8,81.8,81.8,81.8,81.83,81.83,81.86,81.86,82.0,82.0,82.82066354227598,82.85,83.14,83.67237642059291,83.8,84.0,84.96428571428572,85.8,85.8,86.8,88.5,88.5,88.5,88.7,88.7,88.7,88.73,88.73,88.73,88.76,88.8,89.01020408163265,90.0,90.0,91.76934024567429,91.76934024567429,93.0561224489796,94.9608,94.97340000000003,97.10204081632654,98.6,98.6,98.848,99.0,100.0,100.6,101.14795918367348,103.248,103.52,103.6,105.19387755102042,108.495,108.5,109.23979591836735,113.28571428571429,113.42,115.0,117.33163265306123,120.0,120.0,121.3216,121.37755102040816,123.7,125.4234693877551,126.32,126.32,129.46938775510205,133.51530612244898,137.56122448979593,140.0,140.0,141.60714285714286,145.65306122448982,149.69897959183675,153.74489795918367,157.79081632653063,161.83673469387756,165.8826530612245,169.92857142857144,173.97448979591837,178.0204081632653,182.06632653061226,186.1122448979592,190.15816326530614,194.20408163265307,198.25],\"y\":[6.493588096714898e-12,3.84550550451868e-10,1.3734641431736121e-8,2.968500971396465e-7,3.898937174333554e-6,0.000031292695959722664,0.0001547855692094882,0.000480810743337986,0.0009918438791456324,0.0015833216412832836,0.0024331197996963027,0.0036599827672849678,0.004212055137413484,0.004212055137413484,0.004495540104496405,0.004495540104496405,0.004821318863604696,0.005485346983480153,0.005791156096575608,0.005987084432702575,0.006648567874900061,0.006648567874900061,0.007339179927169115,0.007913898074323421,0.008326998389845698,0.010482564651382987,0.011971391380543877,0.011971391380543877,0.012978006913679048,0.012978006913679048,0.01492124546676676,0.017145412187957853,0.017145412187957853,0.017145412187957853,0.017179073577884823,0.017179073577884823,0.017185777839019093,0.017187452440872695,0.017229126590875835,0.017229126590875835,0.017913493058455025,0.01794771022309855,0.018399939355212565,0.018518052097709854,0.018518052097709854,0.018953147751076097,0.018953147751076097,0.019386476403942803,0.01938469362465272,0.01938469362465272,0.01934746037798983,0.01934746037798983,0.019341292470306196,0.019341292470306196,0.019341292470306196,0.019341292470306196,0.019341292470306196,0.019341292470306196,0.01934002836264682,0.01934002836264682,0.01927356081994887,0.01921842021693821,0.019225441728951628,0.0194730390462104,0.02005329780055942,0.020358103448775627,0.020358103448775627,0.020358103448775627,0.020358103448775627,0.020358103448775627,0.02036844583915476,0.02036844583915476,0.020378771852904404,0.020378771852904404,0.020426701330757156,0.020426701330757156,0.020692041815112017,0.020700806932646712,0.020783804240517307,0.020915511036314553,0.02094239090178066,0.02098037196015309,0.02108079140778464,0.021035849177191507,0.021035849177191507,0.02079472655100527,0.019891315329444343,0.019891315329444343,0.019891315329444343,0.019746045825609716,0.019746045825609716,0.019746045825609716,0.019723603531445377,0.019723603531445377,0.019723603531445377,0.019700993888394212,0.019670589056837277,0.019506042060081538,0.018633984547611563,0.018633984547611563,0.016799243036433542,0.016799243036433542,0.015393752652711961,0.013459090767077814,0.013447336687408738,0.011701316089151002,0.010734135899978422,0.010734135899978422,0.01058987319319547,0.01050321398804787,0.009959735083102057,0.009649231839914367,0.009371142724432737,0.008312099533862916,0.008173464479781309,0.008132607325784766,0.007314919894063832,0.005723346069780105,0.005721190104906504,0.005414702185644113,0.004277574632449499,0.004256585011374354,0.004081016619755009,0.0039951755989046265,0.003946218343091924,0.003946218343091924,0.0038682430776094978,0.0038636776816827977,0.0035733376736263762,0.003242537769822359,0.0030449294320845474,0.0030449294320845474,0.002349120528750016,0.0018302995870783975,0.0017873074918757805,0.0017993121874761084,0.0017993121874761084,0.0017764146670916309,0.0015901335362689662,0.0012005943230819528,0.0006677481605282005,0.0002639281751320731,0.00010261792407619559,0.00005822826471882472,0.00003479689562630042,0.000032314525555890395,0.00006436147191553851,0.0001048585952021889,0.0001078244801024044,0.00007942738420899385,0.0000632557135151404,0.00005937026404301769],\"type\":\"scatter\",\"xaxis\":\"x2\",\"yaxis\":\"y2\"},{\"line\":{\"color\":\"#69b3a2\",\"dash\":\"dash\"},\"mode\":\"lines+markers\",\"name\":\"Test Mean\",\"x\":[83.67237642059291,83.67237642059291],\"y\":[0,0.020915511036314553],\"type\":\"scatter\",\"xaxis\":\"x2\",\"yaxis\":\"y2\"},{\"line\":{\"color\":\"#69b3a2\"},\"mode\":\"lines\",\"name\":\"Test Median\",\"x\":[81.86,81.86],\"y\":[0,0.020378771852904404],\"type\":\"scatter\",\"xaxis\":\"x2\",\"yaxis\":\"y2\"}],\"layout\":{\"template\":{\"data\":{\"histogram2dcontour\":[{\"type\":\"histogram2dcontour\",\"colorbar\":{\"outlinewidth\":0,\"ticks\":\"\"},\"colorscale\":[[0.0,\"#0d0887\"],[0.1111111111111111,\"#46039f\"],[0.2222222222222222,\"#7201a8\"],[0.3333333333333333,\"#9c179e\"],[0.4444444444444444,\"#bd3786\"],[0.5555555555555556,\"#d8576b\"],[0.6666666666666666,\"#ed7953\"],[0.7777777777777778,\"#fb9f3a\"],[0.8888888888888888,\"#fdca26\"],[1.0,\"#f0f921\"]]}],\"choropleth\":[{\"type\":\"choropleth\",\"colorbar\":{\"outlinewidth\":0,\"ticks\":\"\"}}],\"histogram2d\":[{\"type\":\"histogram2d\",\"colorbar\":{\"outlinewidth\":0,\"ticks\":\"\"},\"colorscale\":[[0.0,\"#0d0887\"],[0.1111111111111111,\"#46039f\"],[0.2222222222222222,\"#7201a8\"],[0.3333333333333333,\"#9c179e\"],[0.4444444444444444,\"#bd3786\"],[0.5555555555555556,\"#d8576b\"],[0.6666666666666666,\"#ed7953\"],[0.7777777777777778,\"#fb9f3a\"],[0.8888888888888888,\"#fdca26\"],[1.0,\"#f0f921\"]]}],\"heatmap\":[{\"type\":\"heatmap\",\"colorbar\":{\"outlinewidth\":0,\"ticks\":\"\"},\"colorscale\":[[0.0,\"#0d0887\"],[0.1111111111111111,\"#46039f\"],[0.2222222222222222,\"#7201a8\"],[0.3333333333333333,\"#9c179e\"],[0.4444444444444444,\"#bd3786\"],[0.5555555555555556,\"#d8576b\"],[0.6666666666666666,\"#ed7953\"],[0.7777777777777778,\"#fb9f3a\"],[0.8888888888888888,\"#fdca26\"],[1.0,\"#f0f921\"]]}],\"heatmapgl\":[{\"type\":\"heatmapgl\",\"colorbar\":{\"outlinewidth\":0,\"ticks\":\"\"},\"colorscale\":[[0.0,\"#0d0887\"],[0.1111111111111111,\"#46039f\"],[0.2222222222222222,\"#7201a8\"],[0.3333333333333333,\"#9c179e\"],[0.4444444444444444,\"#bd3786\"],[0.5555555555555556,\"#d8576b\"],[0.6666666666666666,\"#ed7953\"],[0.7777777777777778,\"#fb9f3a\"],[0.8888888888888888,\"#fdca26\"],[1.0,\"#f0f921\"]]}],\"contourcarpet\":[{\"type\":\"contourcarpet\",\"colorbar\":{\"outlinewidth\":0,\"ticks\":\"\"}}],\"contour\":[{\"type\":\"contour\",\"colorbar\":{\"outlinewidth\":0,\"ticks\":\"\"},\"colorscale\":[[0.0,\"#0d0887\"],[0.1111111111111111,\"#46039f\"],[0.2222222222222222,\"#7201a8\"],[0.3333333333333333,\"#9c179e\"],[0.4444444444444444,\"#bd3786\"],[0.5555555555555556,\"#d8576b\"],[0.6666666666666666,\"#ed7953\"],[0.7777777777777778,\"#fb9f3a\"],[0.8888888888888888,\"#fdca26\"],[1.0,\"#f0f921\"]]}],\"surface\":[{\"type\":\"surface\",\"colorbar\":{\"outlinewidth\":0,\"ticks\":\"\"},\"colorscale\":[[0.0,\"#0d0887\"],[0.1111111111111111,\"#46039f\"],[0.2222222222222222,\"#7201a8\"],[0.3333333333333333,\"#9c179e\"],[0.4444444444444444,\"#bd3786\"],[0.5555555555555556,\"#d8576b\"],[0.6666666666666666,\"#ed7953\"],[0.7777777777777778,\"#fb9f3a\"],[0.8888888888888888,\"#fdca26\"],[1.0,\"#f0f921\"]]}],\"mesh3d\":[{\"type\":\"mesh3d\",\"colorbar\":{\"outlinewidth\":0,\"ticks\":\"\"}}],\"scatter\":[{\"fillpattern\":{\"fillmode\":\"overlay\",\"size\":10,\"solidity\":0.2},\"type\":\"scatter\"}],\"parcoords\":[{\"type\":\"parcoords\",\"line\":{\"colorbar\":{\"outlinewidth\":0,\"ticks\":\"\"}}}],\"scatterpolargl\":[{\"type\":\"scatterpolargl\",\"marker\":{\"colorbar\":{\"outlinewidth\":0,\"ticks\":\"\"}}}],\"bar\":[{\"error_x\":{\"color\":\"#2a3f5f\"},\"error_y\":{\"color\":\"#2a3f5f\"},\"marker\":{\"line\":{\"color\":\"#E5ECF6\",\"width\":0.5},\"pattern\":{\"fillmode\":\"overlay\",\"size\":10,\"solidity\":0.2}},\"type\":\"bar\"}],\"scattergeo\":[{\"type\":\"scattergeo\",\"marker\":{\"colorbar\":{\"outlinewidth\":0,\"ticks\":\"\"}}}],\"scatterpolar\":[{\"type\":\"scatterpolar\",\"marker\":{\"colorbar\":{\"outlinewidth\":0,\"ticks\":\"\"}}}],\"histogram\":[{\"marker\":{\"pattern\":{\"fillmode\":\"overlay\",\"size\":10,\"solidity\":0.2}},\"type\":\"histogram\"}],\"scattergl\":[{\"type\":\"scattergl\",\"marker\":{\"colorbar\":{\"outlinewidth\":0,\"ticks\":\"\"}}}],\"scatter3d\":[{\"type\":\"scatter3d\",\"line\":{\"colorbar\":{\"outlinewidth\":0,\"ticks\":\"\"}},\"marker\":{\"colorbar\":{\"outlinewidth\":0,\"ticks\":\"\"}}}],\"scattermapbox\":[{\"type\":\"scattermapbox\",\"marker\":{\"colorbar\":{\"outlinewidth\":0,\"ticks\":\"\"}}}],\"scatterternary\":[{\"type\":\"scatterternary\",\"marker\":{\"colorbar\":{\"outlinewidth\":0,\"ticks\":\"\"}}}],\"scattercarpet\":[{\"type\":\"scattercarpet\",\"marker\":{\"colorbar\":{\"outlinewidth\":0,\"ticks\":\"\"}}}],\"carpet\":[{\"aaxis\":{\"endlinecolor\":\"#2a3f5f\",\"gridcolor\":\"white\",\"linecolor\":\"white\",\"minorgridcolor\":\"white\",\"startlinecolor\":\"#2a3f5f\"},\"baxis\":{\"endlinecolor\":\"#2a3f5f\",\"gridcolor\":\"white\",\"linecolor\":\"white\",\"minorgridcolor\":\"white\",\"startlinecolor\":\"#2a3f5f\"},\"type\":\"carpet\"}],\"table\":[{\"cells\":{\"fill\":{\"color\":\"#EBF0F8\"},\"line\":{\"color\":\"white\"}},\"header\":{\"fill\":{\"color\":\"#C8D4E3\"},\"line\":{\"color\":\"white\"}},\"type\":\"table\"}],\"barpolar\":[{\"marker\":{\"line\":{\"color\":\"#E5ECF6\",\"width\":0.5},\"pattern\":{\"fillmode\":\"overlay\",\"size\":10,\"solidity\":0.2}},\"type\":\"barpolar\"}],\"pie\":[{\"automargin\":true,\"type\":\"pie\"}]},\"layout\":{\"autotypenumbers\":\"strict\",\"colorway\":[\"#636efa\",\"#EF553B\",\"#00cc96\",\"#ab63fa\",\"#FFA15A\",\"#19d3f3\",\"#FF6692\",\"#B6E880\",\"#FF97FF\",\"#FECB52\"],\"font\":{\"color\":\"#2a3f5f\"},\"hovermode\":\"closest\",\"hoverlabel\":{\"align\":\"left\"},\"paper_bgcolor\":\"white\",\"plot_bgcolor\":\"#E5ECF6\",\"polar\":{\"bgcolor\":\"#E5ECF6\",\"angularaxis\":{\"gridcolor\":\"white\",\"linecolor\":\"white\",\"ticks\":\"\"},\"radialaxis\":{\"gridcolor\":\"white\",\"linecolor\":\"white\",\"ticks\":\"\"}},\"ternary\":{\"bgcolor\":\"#E5ECF6\",\"aaxis\":{\"gridcolor\":\"white\",\"linecolor\":\"white\",\"ticks\":\"\"},\"baxis\":{\"gridcolor\":\"white\",\"linecolor\":\"white\",\"ticks\":\"\"},\"caxis\":{\"gridcolor\":\"white\",\"linecolor\":\"white\",\"ticks\":\"\"}},\"coloraxis\":{\"colorbar\":{\"outlinewidth\":0,\"ticks\":\"\"}},\"colorscale\":{\"sequential\":[[0.0,\"#0d0887\"],[0.1111111111111111,\"#46039f\"],[0.2222222222222222,\"#7201a8\"],[0.3333333333333333,\"#9c179e\"],[0.4444444444444444,\"#bd3786\"],[0.5555555555555556,\"#d8576b\"],[0.6666666666666666,\"#ed7953\"],[0.7777777777777778,\"#fb9f3a\"],[0.8888888888888888,\"#fdca26\"],[1.0,\"#f0f921\"]],\"sequentialminus\":[[0.0,\"#0d0887\"],[0.1111111111111111,\"#46039f\"],[0.2222222222222222,\"#7201a8\"],[0.3333333333333333,\"#9c179e\"],[0.4444444444444444,\"#bd3786\"],[0.5555555555555556,\"#d8576b\"],[0.6666666666666666,\"#ed7953\"],[0.7777777777777778,\"#fb9f3a\"],[0.8888888888888888,\"#fdca26\"],[1.0,\"#f0f921\"]],\"diverging\":[[0,\"#8e0152\"],[0.1,\"#c51b7d\"],[0.2,\"#de77ae\"],[0.3,\"#f1b6da\"],[0.4,\"#fde0ef\"],[0.5,\"#f7f7f7\"],[0.6,\"#e6f5d0\"],[0.7,\"#b8e186\"],[0.8,\"#7fbc41\"],[0.9,\"#4d9221\"],[1,\"#276419\"]]},\"xaxis\":{\"gridcolor\":\"white\",\"linecolor\":\"white\",\"ticks\":\"\",\"title\":{\"standoff\":15},\"zerolinecolor\":\"white\",\"automargin\":true,\"zerolinewidth\":2},\"yaxis\":{\"gridcolor\":\"white\",\"linecolor\":\"white\",\"ticks\":\"\",\"title\":{\"standoff\":15},\"zerolinecolor\":\"white\",\"automargin\":true,\"zerolinewidth\":2},\"scene\":{\"xaxis\":{\"backgroundcolor\":\"#E5ECF6\",\"gridcolor\":\"white\",\"linecolor\":\"white\",\"showbackground\":true,\"ticks\":\"\",\"zerolinecolor\":\"white\",\"gridwidth\":2},\"yaxis\":{\"backgroundcolor\":\"#E5ECF6\",\"gridcolor\":\"white\",\"linecolor\":\"white\",\"showbackground\":true,\"ticks\":\"\",\"zerolinecolor\":\"white\",\"gridwidth\":2},\"zaxis\":{\"backgroundcolor\":\"#E5ECF6\",\"gridcolor\":\"white\",\"linecolor\":\"white\",\"showbackground\":true,\"ticks\":\"\",\"zerolinecolor\":\"white\",\"gridwidth\":2}},\"shapedefaults\":{\"line\":{\"color\":\"#2a3f5f\"}},\"annotationdefaults\":{\"arrowcolor\":\"#2a3f5f\",\"arrowhead\":0,\"arrowwidth\":1},\"geo\":{\"bgcolor\":\"white\",\"landcolor\":\"#E5ECF6\",\"subunitcolor\":\"white\",\"showland\":true,\"showlakes\":true,\"lakecolor\":\"white\"},\"title\":{\"x\":0.05},\"mapbox\":{\"style\":\"light\"}}},\"xaxis\":{\"anchor\":\"y\",\"domain\":[0.0,1.0],\"showgrid\":false,\"gridcolor\":\"black\",\"linecolor\":\"black\",\"range\":[0,0.4],\"dtick\":0.05,\"fixedrange\":true},\"yaxis\":{\"anchor\":\"x\",\"domain\":[0.9200000000000002,1.0],\"showgrid\":false,\"showline\":false,\"showticklabels\":false,\"zeroline\":false,\"color\":\"black\",\"autorange\":true,\"rangemode\":\"normal\",\"fixedrange\":true},\"xaxis2\":{\"anchor\":\"y2\",\"domain\":[0.0,1.0],\"fixedrange\":false,\"range\":[46.3,140.0],\"title\":{\"text\":\"max_power_output\"}},\"yaxis2\":{\"anchor\":\"x2\",\"domain\":[0.0,0.7200000000000001],\"title\":{\"text\":\"Probability Density\"},\"fixedrange\":true},\"annotations\":[{\"font\":{\"size\":16},\"showarrow\":false,\"text\":\"Drift Score (Kolmogorov-Smirnov)\",\"x\":0.5,\"xanchor\":\"center\",\"xref\":\"paper\",\"y\":1.0,\"yanchor\":\"bottom\",\"yref\":\"paper\"},{\"font\":{\"size\":16},\"showarrow\":false,\"text\":\"Distribution Plot\",\"x\":0.5,\"xanchor\":\"center\",\"xref\":\"paper\",\"y\":0.7200000000000001,\"yanchor\":\"bottom\",\"yref\":\"paper\"}],\"legend\":{\"title\":{\"text\":\"Legend\"},\"yanchor\":\"top\",\"y\":0.6},\"title\":{\"text\":\"max_power_output (#2 in FI)\",\"x\":0.5,\"xanchor\":\"center\"},\"height\":400,\"bargroupgap\":0}}",
           "type": "plotly"
          },
          {
           "payload": "{\"data\":[{\"base\":0,\"marker\":{\"color\":\"#01B8AA\"},\"offsetgroup\":\"0\",\"orientation\":\"h\",\"showlegend\":false,\"x\":[0.02297297297297296],\"y\":[\"Drift Score\"],\"type\":\"bar\",\"xaxis\":\"x\",\"yaxis\":\"y\"},{\"fill\":\"tozeroy\",\"line\":{\"color\":\"#00008b\",\"shape\":\"linear\"},\"name\":\"Train Dataset\",\"x\":[624.0,671.5918367346939,719.1836734693877,766.7755102040817,796.0,796.0,796.0,796.0,799.0,799.0,814.0,814.0,814.3673469387755,861.9591836734694,909.5510204081633,957.1428571428571,995.0,995.0,998.0,998.0,998.0,998.0,998.0,998.0,999.0,1004.7346938775511,1052.3265306122448,1061.0,1086.0,1086.0,1099.9183673469388,1147.5102040816328,1186.0,1186.0,1195.1020408163265,1196.0,1196.0,1197.0,1197.0,1197.0,1197.0,1197.0,1197.0,1197.0,1197.0,1197.0,1197.0,1197.0,1197.0,1198.0,1198.0,1198.6,1199.0,1199.0,1199.0,1199.0,1242.6938775510203,1248.0,1248.0,1248.0,1248.0,1248.0,1248.0,1248.0,1248.0,1248.0,1248.0,1248.0,1248.0,1248.0,1248.0,1248.0,1248.0,1248.0,1290.2857142857142,1298.0,1337.8775510204082,1351.7614608944505,1353.6570757003747,1364.0,1385.4693877551022,1396.0,1396.0,1396.0,1396.0,1396.0,1399.0,1399.0,1405.0,1433.061224489796,1456.1100978059742,1461.0,1461.0,1461.0,1461.0,1480.6530612244896,1495.0,1495.0,1497.0,1497.0,1498.0,1498.0,1498.0,1498.0,1498.0,1498.0,1498.0,1528.2448979591836,1575.8367346938776,1582.0,1582.0,1598.0,1598.0,1623.4285714285716,1671.0204081632653,1718.6122448979593,1766.204081632653,1813.795918367347,1861.3877551020407,1908.9795918367347,1956.5714285714287,1991.0,1997.0,2004.1632653061224,2051.7551020408164,2099.3469387755104,2146.9387755102043,2179.0,2179.0,2179.0,2179.0,2194.5306122448983,2242.122448979592,2289.714285714286,2337.3061224489793,2384.8979591836733,2432.4897959183672,2480.081632653061,2494.96,2498.0,2523.0,2523.0,2527.673469387755,2575.265306122449,2622.857142857143,2670.448979591837,2718.0408163265306,2765.6326530612246,2813.2244897959185,2860.816326530612,2908.408163265306,2956.0],\"y\":[0.00008905041380060337,0.00016459761784597615,0.00025981451362433304,0.0003488952102175435,0.0003897453522039482,0.0003897453522039482,0.0003897453522039482,0.0003897453522039482,0.00039322268980417833,0.00039322268980417833,0.00040875285155950603,0.00040875285155950603,0.0004090969586160006,0.00044475413252863407,0.0004847180495673365,0.000557446901126322,0.0006508922002531891,0.0006508922002531891,0.0006599350138588277,0.0006599350138588277,0.0006599350138588277,0.0006599350138588277,0.0006599350138588277,0.0006599350138588277,0.0006630079426983607,0.0006812089198527736,0.0008741532703371537,0.0009178321487286845,0.001057150223492419,0.001057150223492419,0.0011414580250839281,0.001431719288906631,0.0016063763355534386,0.0016063763355534386,0.001632310541238493,0.0016344932473734734,0.0016344932473734734,0.0016368427589607815,0.0016368427589607815,0.0016368427589607815,0.0016368427589607815,0.0016368427589607815,0.0016368427589607815,0.0016368427589607815,0.0016368427589607815,0.0016368427589607815,0.0016368427589607815,0.0016368427589607815,0.0016368427589607815,0.0016391062510088888,0.0016391062510088888,0.0016404228843293935,0.001641283311454942,0.001641283311454942,0.001641283311454942,0.001641283311454942,0.0016507236805053229,0.0016410466140935945,0.0016410466140935945,0.0016410466140935945,0.0016410466140935945,0.0016410466140935945,0.0016410466140935945,0.0016410466140935945,0.0016410466140935945,0.0016410466140935945,0.0016410466140935945,0.0016410466140935945,0.0016410466140935945,0.0016410466140935945,0.0016410466140935945,0.0016410466140935945,0.0016410466140935945,0.0016410466140935945,0.0015053259062354752,0.0014736365449133507,0.0013102416776651937,0.0012605333582675375,0.0012542023245729983,0.0012217190294953647,0.0011653221504336132,0.0011425325283114806,0.0011425325283114806,0.0011425325283114806,0.0011425325283114806,0.0011425325283114806,0.0011365249930093111,0.0011365249930093111,0.0011250550776978235,0.0010771533898333247,0.0010370917871733126,0.0010276748812852194,0.0010276748812852194,0.0010276748812852194,0.0010276748812852194,0.000984630789082156,0.000946888092894407,0.000946888092894407,0.0009411622199617205,0.0009411622199617205,0.0009382558877544553,0.0009382558877544553,0.0009382558877544553,0.0009382558877544553,0.0009382558877544553,0.0009382558877544553,0.0009382558877544553,0.0008369767297672386,0.0006375329545074408,0.0006099729779980909,0.0006099729779980909,0.000538541747994518,0.000538541747994518,0.00042912706493034394,0.0002558733583420944,0.00013878410426326385,0.00007455085732670825,0.000047441665894055874,0.000041591007949640467,0.000046792317326433713,0.000058734035080601114,0.0000715673424297292,0.00007423129583242159,0.00007759219641922749,0.00010484696495527594,0.00013679905659403217,0.00016068270995766044,0.00016464859210155267,0.00016464859210155267,0.00016464859210155267,0.00016464859210155267,0.00016223585132359966,0.00014041632642964623,0.00011261414663686536,0.00010290195609514617,0.00012376189341584812,0.00016562867060125128,0.00020156178376293582,0.00020704906635106877,0.000207719991126225,0.00020702790469333905,0.00020702790469333905,0.00020565674073863902,0.00017216033305537433,0.0001178686679282267,0.00006634173079702707,0.000031408449995918486,0.000013904058442929975,8.221278956613978e-6,8.477864113658649e-6,0.000010422225517928372,0.00001133619900683571],\"type\":\"scatter\",\"xaxis\":\"x2\",\"yaxis\":\"y2\"},{\"line\":{\"color\":\"#00008b\",\"dash\":\"dash\"},\"mode\":\"lines+markers\",\"name\":\"Train Mean\",\"x\":[1353.6570757003747,1353.6570757003747],\"y\":[0,0.0012542023245729983],\"type\":\"scatter\",\"xaxis\":\"x2\",\"yaxis\":\"y2\"},{\"line\":{\"color\":\"#00008b\"},\"mode\":\"lines\",\"name\":\"Train Median\",\"x\":[1248.0,1248.0],\"y\":[0,0.0016410466140935945],\"type\":\"scatter\",\"xaxis\":\"x2\",\"yaxis\":\"y2\"},{\"fill\":\"tozeroy\",\"line\":{\"color\":\"#69b3a2\",\"shape\":\"linear\"},\"name\":\"Test Dataset\",\"x\":[624.0,671.5918367346939,719.1836734693877,766.7755102040817,796.0,796.0,796.0,796.0,799.0,799.0,814.0,814.0,814.3673469387755,861.9591836734694,909.5510204081633,957.1428571428571,995.0,995.0,998.0,998.0,998.0,998.0,998.0,998.0,999.0,1004.7346938775511,1052.3265306122448,1061.0,1086.0,1086.0,1099.9183673469388,1147.5102040816328,1186.0,1186.0,1195.1020408163265,1196.0,1196.0,1197.0,1197.0,1197.0,1197.0,1197.0,1197.0,1197.0,1197.0,1197.0,1197.0,1197.0,1197.0,1198.0,1198.0,1198.6,1199.0,1199.0,1199.0,1199.0,1242.6938775510203,1248.0,1248.0,1248.0,1248.0,1248.0,1248.0,1248.0,1248.0,1248.0,1248.0,1248.0,1248.0,1248.0,1248.0,1248.0,1248.0,1248.0,1290.2857142857142,1298.0,1337.8775510204082,1351.7614608944505,1353.6570757003747,1364.0,1385.4693877551022,1396.0,1396.0,1396.0,1396.0,1396.0,1399.0,1399.0,1405.0,1433.061224489796,1456.1100978059742,1461.0,1461.0,1461.0,1461.0,1480.6530612244896,1495.0,1495.0,1497.0,1497.0,1498.0,1498.0,1498.0,1498.0,1498.0,1498.0,1498.0,1528.2448979591836,1575.8367346938776,1582.0,1582.0,1598.0,1598.0,1623.4285714285716,1671.0204081632653,1718.6122448979593,1766.204081632653,1813.795918367347,1861.3877551020407,1908.9795918367347,1956.5714285714287,1991.0,1997.0,2004.1632653061224,2051.7551020408164,2099.3469387755104,2146.9387755102043,2179.0,2179.0,2179.0,2179.0,2194.5306122448983,2242.122448979592,2289.714285714286,2337.3061224489793,2384.8979591836733,2432.4897959183672,2480.081632653061,2494.96,2498.0,2523.0,2523.0,2527.673469387755,2575.265306122449,2622.857142857143,2670.448979591837,2718.0408163265306,2765.6326530612246,2813.2244897959185,2860.816326530612,2908.408163265306,2956.0],\"y\":[0.00008689658184308778,0.00016426609156535004,0.0002640201444676027,0.0003590366958194035,0.00040302107129983636,0.00040302107129983636,0.00040302107129983636,0.00040302107129983636,0.0004067669742794879,0.0004067669742794879,0.0004234588116855393,0.0004234588116855393,0.00042382741278551914,0.0004609769685985611,0.0004990718010354186,0.0005657532708732358,0.0006504931328117323,0.0006504931328117323,0.0006587018071154585,0.0006587018071154585,0.0006587018071154585,0.0006587018071154585,0.0006587018071154585,0.0006587018071154585,0.0006614926145614094,0.0006780386230771479,0.0008559534425805268,0.0008969469935606914,0.001029328846307287,0.001029328846307287,0.0011104990544485512,0.0013946194572712076,0.0015680490981471206,0.0015680490981471206,0.0015938631135453258,0.001596034304182701,0.001596034304182701,0.001598370950487176,0.001598370950487176,0.001598370950487176,0.001598370950487176,0.001598370950487176,0.001598370950487176,0.001598370950487176,0.001598370950487176,0.001598370950487176,0.001598370950487176,0.001598370950487176,0.001598370950487176,0.0016006215060335172,0.0016006215060335172,0.0016019303317888816,0.0016027855313025194,0.0016027855313025194,0.0016027855313025194,0.0016027855313025194,0.0016114204069929497,0.0016016395277016907,0.0016016395277016907,0.0016016395277016907,0.0016016395277016907,0.0016016395277016907,0.0016016395277016907,0.0016016395277016907,0.0016016395277016907,0.0016016395277016907,0.0016016395277016907,0.0016016395277016907,0.0016016395277016907,0.0016016395277016907,0.0016016395277016907,0.0016016395277016907,0.0016016395277016907,0.0016016395277016907,0.0014664778940294693,0.0014354141058945647,0.0012798718449733722,0.0012350781385657636,0.0012295113420228963,0.0012015857379888768,0.0011565956432225183,0.001140214235397729,0.001140214235397729,0.001140214235397729,0.001140214235397729,0.001140214235397729,0.001136110232606384,0.001136110232606384,0.0011285329598962953,0.0010996471526544252,0.001074731302796498,0.0010683011094021492,0.0010683011094021492,0.0010683011094021492,0.0010683011094021492,0.001035987168595731,0.001004465004547008,0.001004465004547008,0.000999481812880503,0.000999481812880503,0.0009969348439334883,0.0009969348439334883,0.0009969348439334883,0.0009969348439334883,0.0009969348439334883,0.0009969348439334883,0.0009969348439334883,0.0009025639384563958,0.0006990305712393148,0.0006698590664227326,0.0006698590664227326,0.0005934629882341631,0.0005934629882341631,0.00047469784849831756,0.0002838020410827138,0.0001537809465994233,0.00008191115233966537,0.00004979765049006735,0.00003926630730857805,0.00003989171872363037,0.00004862923850239799,0.000060719013475649456,0.00006340827881135446,0.00006685928239298578,0.00009619954831062904,0.0001318856747041228,0.0001593094696171607,0.00016465292922376973,0.00016465292922376973,0.00016465292922376973,0.00016465292922376973,0.00016250030444975026,0.00013983634586395893,0.00010936694563978834,0.00009625187321529906,0.0001139231134257509,0.00015371587307536349,0.00018949045626999434,0.00019538090937115224,0.00019616005089075756,0.00019666382911010454,0.00019666382911010454,0.00019557120868027262,0.0001655771527833297,0.0001150785140289016,0.00006641096025074442,0.00003276482326780289,0.000015118233563603931,8.483714520122278e-6,7.622267429520947e-6,8.720777091359745e-6,9.278379874350534e-6],\"type\":\"scatter\",\"xaxis\":\"x2\",\"yaxis\":\"y2\"},{\"line\":{\"color\":\"#69b3a2\",\"dash\":\"dash\"},\"mode\":\"lines+markers\",\"name\":\"Test Mean\",\"x\":[1351.7614608944505,1351.7614608944505],\"y\":[0,0.0012350781385657636],\"type\":\"scatter\",\"xaxis\":\"x2\",\"yaxis\":\"y2\"},{\"line\":{\"color\":\"#69b3a2\"},\"mode\":\"lines\",\"name\":\"Test Median\",\"x\":[1248.0,1248.0],\"y\":[0,0.0016016395277016907],\"type\":\"scatter\",\"xaxis\":\"x2\",\"yaxis\":\"y2\"}],\"layout\":{\"template\":{\"data\":{\"histogram2dcontour\":[{\"type\":\"histogram2dcontour\",\"colorbar\":{\"outlinewidth\":0,\"ticks\":\"\"},\"colorscale\":[[0.0,\"#0d0887\"],[0.1111111111111111,\"#46039f\"],[0.2222222222222222,\"#7201a8\"],[0.3333333333333333,\"#9c179e\"],[0.4444444444444444,\"#bd3786\"],[0.5555555555555556,\"#d8576b\"],[0.6666666666666666,\"#ed7953\"],[0.7777777777777778,\"#fb9f3a\"],[0.8888888888888888,\"#fdca26\"],[1.0,\"#f0f921\"]]}],\"choropleth\":[{\"type\":\"choropleth\",\"colorbar\":{\"outlinewidth\":0,\"ticks\":\"\"}}],\"histogram2d\":[{\"type\":\"histogram2d\",\"colorbar\":{\"outlinewidth\":0,\"ticks\":\"\"},\"colorscale\":[[0.0,\"#0d0887\"],[0.1111111111111111,\"#46039f\"],[0.2222222222222222,\"#7201a8\"],[0.3333333333333333,\"#9c179e\"],[0.4444444444444444,\"#bd3786\"],[0.5555555555555556,\"#d8576b\"],[0.6666666666666666,\"#ed7953\"],[0.7777777777777778,\"#fb9f3a\"],[0.8888888888888888,\"#fdca26\"],[1.0,\"#f0f921\"]]}],\"heatmap\":[{\"type\":\"heatmap\",\"colorbar\":{\"outlinewidth\":0,\"ticks\":\"\"},\"colorscale\":[[0.0,\"#0d0887\"],[0.1111111111111111,\"#46039f\"],[0.2222222222222222,\"#7201a8\"],[0.3333333333333333,\"#9c179e\"],[0.4444444444444444,\"#bd3786\"],[0.5555555555555556,\"#d8576b\"],[0.6666666666666666,\"#ed7953\"],[0.7777777777777778,\"#fb9f3a\"],[0.8888888888888888,\"#fdca26\"],[1.0,\"#f0f921\"]]}],\"heatmapgl\":[{\"type\":\"heatmapgl\",\"colorbar\":{\"outlinewidth\":0,\"ticks\":\"\"},\"colorscale\":[[0.0,\"#0d0887\"],[0.1111111111111111,\"#46039f\"],[0.2222222222222222,\"#7201a8\"],[0.3333333333333333,\"#9c179e\"],[0.4444444444444444,\"#bd3786\"],[0.5555555555555556,\"#d8576b\"],[0.6666666666666666,\"#ed7953\"],[0.7777777777777778,\"#fb9f3a\"],[0.8888888888888888,\"#fdca26\"],[1.0,\"#f0f921\"]]}],\"contourcarpet\":[{\"type\":\"contourcarpet\",\"colorbar\":{\"outlinewidth\":0,\"ticks\":\"\"}}],\"contour\":[{\"type\":\"contour\",\"colorbar\":{\"outlinewidth\":0,\"ticks\":\"\"},\"colorscale\":[[0.0,\"#0d0887\"],[0.1111111111111111,\"#46039f\"],[0.2222222222222222,\"#7201a8\"],[0.3333333333333333,\"#9c179e\"],[0.4444444444444444,\"#bd3786\"],[0.5555555555555556,\"#d8576b\"],[0.6666666666666666,\"#ed7953\"],[0.7777777777777778,\"#fb9f3a\"],[0.8888888888888888,\"#fdca26\"],[1.0,\"#f0f921\"]]}],\"surface\":[{\"type\":\"surface\",\"colorbar\":{\"outlinewidth\":0,\"ticks\":\"\"},\"colorscale\":[[0.0,\"#0d0887\"],[0.1111111111111111,\"#46039f\"],[0.2222222222222222,\"#7201a8\"],[0.3333333333333333,\"#9c179e\"],[0.4444444444444444,\"#bd3786\"],[0.5555555555555556,\"#d8576b\"],[0.6666666666666666,\"#ed7953\"],[0.7777777777777778,\"#fb9f3a\"],[0.8888888888888888,\"#fdca26\"],[1.0,\"#f0f921\"]]}],\"mesh3d\":[{\"type\":\"mesh3d\",\"colorbar\":{\"outlinewidth\":0,\"ticks\":\"\"}}],\"scatter\":[{\"fillpattern\":{\"fillmode\":\"overlay\",\"size\":10,\"solidity\":0.2},\"type\":\"scatter\"}],\"parcoords\":[{\"type\":\"parcoords\",\"line\":{\"colorbar\":{\"outlinewidth\":0,\"ticks\":\"\"}}}],\"scatterpolargl\":[{\"type\":\"scatterpolargl\",\"marker\":{\"colorbar\":{\"outlinewidth\":0,\"ticks\":\"\"}}}],\"bar\":[{\"error_x\":{\"color\":\"#2a3f5f\"},\"error_y\":{\"color\":\"#2a3f5f\"},\"marker\":{\"line\":{\"color\":\"#E5ECF6\",\"width\":0.5},\"pattern\":{\"fillmode\":\"overlay\",\"size\":10,\"solidity\":0.2}},\"type\":\"bar\"}],\"scattergeo\":[{\"type\":\"scattergeo\",\"marker\":{\"colorbar\":{\"outlinewidth\":0,\"ticks\":\"\"}}}],\"scatterpolar\":[{\"type\":\"scatterpolar\",\"marker\":{\"colorbar\":{\"outlinewidth\":0,\"ticks\":\"\"}}}],\"histogram\":[{\"marker\":{\"pattern\":{\"fillmode\":\"overlay\",\"size\":10,\"solidity\":0.2}},\"type\":\"histogram\"}],\"scattergl\":[{\"type\":\"scattergl\",\"marker\":{\"colorbar\":{\"outlinewidth\":0,\"ticks\":\"\"}}}],\"scatter3d\":[{\"type\":\"scatter3d\",\"line\":{\"colorbar\":{\"outlinewidth\":0,\"ticks\":\"\"}},\"marker\":{\"colorbar\":{\"outlinewidth\":0,\"ticks\":\"\"}}}],\"scattermapbox\":[{\"type\":\"scattermapbox\",\"marker\":{\"colorbar\":{\"outlinewidth\":0,\"ticks\":\"\"}}}],\"scatterternary\":[{\"type\":\"scatterternary\",\"marker\":{\"colorbar\":{\"outlinewidth\":0,\"ticks\":\"\"}}}],\"scattercarpet\":[{\"type\":\"scattercarpet\",\"marker\":{\"colorbar\":{\"outlinewidth\":0,\"ticks\":\"\"}}}],\"carpet\":[{\"aaxis\":{\"endlinecolor\":\"#2a3f5f\",\"gridcolor\":\"white\",\"linecolor\":\"white\",\"minorgridcolor\":\"white\",\"startlinecolor\":\"#2a3f5f\"},\"baxis\":{\"endlinecolor\":\"#2a3f5f\",\"gridcolor\":\"white\",\"linecolor\":\"white\",\"minorgridcolor\":\"white\",\"startlinecolor\":\"#2a3f5f\"},\"type\":\"carpet\"}],\"table\":[{\"cells\":{\"fill\":{\"color\":\"#EBF0F8\"},\"line\":{\"color\":\"white\"}},\"header\":{\"fill\":{\"color\":\"#C8D4E3\"},\"line\":{\"color\":\"white\"}},\"type\":\"table\"}],\"barpolar\":[{\"marker\":{\"line\":{\"color\":\"#E5ECF6\",\"width\":0.5},\"pattern\":{\"fillmode\":\"overlay\",\"size\":10,\"solidity\":0.2}},\"type\":\"barpolar\"}],\"pie\":[{\"automargin\":true,\"type\":\"pie\"}]},\"layout\":{\"autotypenumbers\":\"strict\",\"colorway\":[\"#636efa\",\"#EF553B\",\"#00cc96\",\"#ab63fa\",\"#FFA15A\",\"#19d3f3\",\"#FF6692\",\"#B6E880\",\"#FF97FF\",\"#FECB52\"],\"font\":{\"color\":\"#2a3f5f\"},\"hovermode\":\"closest\",\"hoverlabel\":{\"align\":\"left\"},\"paper_bgcolor\":\"white\",\"plot_bgcolor\":\"#E5ECF6\",\"polar\":{\"bgcolor\":\"#E5ECF6\",\"angularaxis\":{\"gridcolor\":\"white\",\"linecolor\":\"white\",\"ticks\":\"\"},\"radialaxis\":{\"gridcolor\":\"white\",\"linecolor\":\"white\",\"ticks\":\"\"}},\"ternary\":{\"bgcolor\":\"#E5ECF6\",\"aaxis\":{\"gridcolor\":\"white\",\"linecolor\":\"white\",\"ticks\":\"\"},\"baxis\":{\"gridcolor\":\"white\",\"linecolor\":\"white\",\"ticks\":\"\"},\"caxis\":{\"gridcolor\":\"white\",\"linecolor\":\"white\",\"ticks\":\"\"}},\"coloraxis\":{\"colorbar\":{\"outlinewidth\":0,\"ticks\":\"\"}},\"colorscale\":{\"sequential\":[[0.0,\"#0d0887\"],[0.1111111111111111,\"#46039f\"],[0.2222222222222222,\"#7201a8\"],[0.3333333333333333,\"#9c179e\"],[0.4444444444444444,\"#bd3786\"],[0.5555555555555556,\"#d8576b\"],[0.6666666666666666,\"#ed7953\"],[0.7777777777777778,\"#fb9f3a\"],[0.8888888888888888,\"#fdca26\"],[1.0,\"#f0f921\"]],\"sequentialminus\":[[0.0,\"#0d0887\"],[0.1111111111111111,\"#46039f\"],[0.2222222222222222,\"#7201a8\"],[0.3333333333333333,\"#9c179e\"],[0.4444444444444444,\"#bd3786\"],[0.5555555555555556,\"#d8576b\"],[0.6666666666666666,\"#ed7953\"],[0.7777777777777778,\"#fb9f3a\"],[0.8888888888888888,\"#fdca26\"],[1.0,\"#f0f921\"]],\"diverging\":[[0,\"#8e0152\"],[0.1,\"#c51b7d\"],[0.2,\"#de77ae\"],[0.3,\"#f1b6da\"],[0.4,\"#fde0ef\"],[0.5,\"#f7f7f7\"],[0.6,\"#e6f5d0\"],[0.7,\"#b8e186\"],[0.8,\"#7fbc41\"],[0.9,\"#4d9221\"],[1,\"#276419\"]]},\"xaxis\":{\"gridcolor\":\"white\",\"linecolor\":\"white\",\"ticks\":\"\",\"title\":{\"standoff\":15},\"zerolinecolor\":\"white\",\"automargin\":true,\"zerolinewidth\":2},\"yaxis\":{\"gridcolor\":\"white\",\"linecolor\":\"white\",\"ticks\":\"\",\"title\":{\"standoff\":15},\"zerolinecolor\":\"white\",\"automargin\":true,\"zerolinewidth\":2},\"scene\":{\"xaxis\":{\"backgroundcolor\":\"#E5ECF6\",\"gridcolor\":\"white\",\"linecolor\":\"white\",\"showbackground\":true,\"ticks\":\"\",\"zerolinecolor\":\"white\",\"gridwidth\":2},\"yaxis\":{\"backgroundcolor\":\"#E5ECF6\",\"gridcolor\":\"white\",\"linecolor\":\"white\",\"showbackground\":true,\"ticks\":\"\",\"zerolinecolor\":\"white\",\"gridwidth\":2},\"zaxis\":{\"backgroundcolor\":\"#E5ECF6\",\"gridcolor\":\"white\",\"linecolor\":\"white\",\"showbackground\":true,\"ticks\":\"\",\"zerolinecolor\":\"white\",\"gridwidth\":2}},\"shapedefaults\":{\"line\":{\"color\":\"#2a3f5f\"}},\"annotationdefaults\":{\"arrowcolor\":\"#2a3f5f\",\"arrowhead\":0,\"arrowwidth\":1},\"geo\":{\"bgcolor\":\"white\",\"landcolor\":\"#E5ECF6\",\"subunitcolor\":\"white\",\"showland\":true,\"showlakes\":true,\"lakecolor\":\"white\"},\"title\":{\"x\":0.05},\"mapbox\":{\"style\":\"light\"}}},\"xaxis\":{\"anchor\":\"y\",\"domain\":[0.0,1.0],\"showgrid\":false,\"gridcolor\":\"black\",\"linecolor\":\"black\",\"range\":[0,0.4],\"dtick\":0.05,\"fixedrange\":true},\"yaxis\":{\"anchor\":\"x\",\"domain\":[0.9200000000000002,1.0],\"showgrid\":false,\"showline\":false,\"showticklabels\":false,\"zeroline\":false,\"color\":\"black\",\"autorange\":true,\"rangemode\":\"normal\",\"fixedrange\":true},\"xaxis2\":{\"anchor\":\"y2\",\"domain\":[0.0,1.0],\"fixedrange\":false,\"range\":[796.0,2523.0],\"title\":{\"text\":\"engine_capacity\"}},\"yaxis2\":{\"anchor\":\"x2\",\"domain\":[0.0,0.7200000000000001],\"title\":{\"text\":\"Probability Density\"},\"fixedrange\":true},\"annotations\":[{\"font\":{\"size\":16},\"showarrow\":false,\"text\":\"Drift Score (Kolmogorov-Smirnov)\",\"x\":0.5,\"xanchor\":\"center\",\"xref\":\"paper\",\"y\":1.0,\"yanchor\":\"bottom\",\"yref\":\"paper\"},{\"font\":{\"size\":16},\"showarrow\":false,\"text\":\"Distribution Plot\",\"x\":0.5,\"xanchor\":\"center\",\"xref\":\"paper\",\"y\":0.7200000000000001,\"yanchor\":\"bottom\",\"yref\":\"paper\"}],\"legend\":{\"title\":{\"text\":\"Legend\"},\"yanchor\":\"top\",\"y\":0.6},\"title\":{\"text\":\"engine_capacity (#3 in FI)\",\"x\":0.5,\"xanchor\":\"center\"},\"height\":400,\"bargroupgap\":0}}",
           "type": "plotly"
          },
          {
           "payload": "{\"data\":[{\"base\":0,\"marker\":{\"color\":\"#01B8AA\"},\"offsetgroup\":\"0\",\"orientation\":\"h\",\"showlegend\":false,\"x\":[0.038223938223938214],\"y\":[\"Drift Score\"],\"type\":\"bar\",\"xaxis\":\"x\",\"yaxis\":\"y\"},{\"fill\":\"tozeroy\",\"line\":{\"color\":\"#00008b\",\"shape\":\"linear\"},\"name\":\"Train Dataset\",\"x\":[1.0,3980.5714285714284,5000.0,5570.179999999999,7159.679999999999,7960.142857142857,9774.0,10000.0,11000.0,11939.714285714286,14000.0,15000.0,15000.0,15919.285714285714,18000.0,19898.85714285714,20000.0,20000.0,20000.0,23878.428571428572,24001.14,24300.0,25000.0,25000.0,27000.0,27858.0,28000.0,30000.0,30000.0,30000.0,30000.0,31837.571428571428,34066.88,35000.0,35000.0,35000.0,35817.142857142855,38817.0,38817.0,39796.71428571428,40000.0,40000.0,40000.0,40000.0,42000.0,43776.28571428571,45000.0,47755.857142857145,48804.00000000002,49929.000000000015,50000.0,50000.0,50000.0,50000.0,51735.42857142857,52000.0,53216.480000000025,55715.0,56000.0,56494.0,58343.0,59694.57142857143,60000.0,60000.0,60000.0,60000.0,60000.0,60000.0,60000.0,60000.0,63331.142857142855,63674.142857142855,64000.0,66000.0,66237.85907335907,67653.71428571429,69000.0,70000.0,70000.0,70000.0,70000.0,70000.0,70000.0,71633.28571428571,72254.91999999997,75000.0,75612.85714285714,79000.0,79592.42857142857,80000.0,80000.0,80000.0,80000.0,80000.0,80000.0,82650.00000000009,83572.0,87551.57142857142,90000.0,90000.0,90000.0,90000.0,91000.0,91531.14285714286,95000.0,95510.71428571429,99490.28571428571,100000.0,100000.0,100000.0,100000.0,103469.85714285714,105780.00000000065,107449.42857142857,109309.12000000001,110000.0,110000.0,110000.0,111429.0,115408.57142857142,115720.00000000003,119388.14285714286,120000.0,120000.0,120000.0,120000.0,120000.0,120000.0,123367.71428571428,125000.0,127347.28571428571,131326.85714285713,135306.42857142858,138240.0,139286.0,141000.0,143265.57142857142,147245.14285714284,150720.47999999984,151224.7142857143,155204.2857142857,159183.85714285713,160000.0,163163.42857142858,167143.0,171122.57142857142,175102.14285714284,179081.7142857143,183061.2857142857,187040.85714285713,191020.42857142858,195000.0],\"y\":[2.6851381130473458e-6,3.8060967803086267e-6,4.098568092473669e-6,4.261218736161839e-6,4.707559590579483e-6,4.926781586827343e-6,5.405299183315722e-6,5.4629293305891785e-6,5.712202331687933e-6,5.937670849521941e-6,6.4017238803503085e-6,6.612239907038633e-6,6.612239907038633e-6,6.7976319851820615e-6,7.190090338766768e-6,7.517475324313783e-6,7.534122356923217e-6,7.534122356923217e-6,7.534122356923217e-6,8.111906573593166e-6,8.128190448576262e-6,8.167306869870169e-6,8.255859116337396e-6,8.255859116337396e-6,8.483934004939408e-6,8.569797380282842e-6,8.583284761364734e-6,8.75080287749521e-6,8.75080287749521e-6,8.75080287749521e-6,8.75080287749521e-6,8.867243831927414e-6,8.962004446373393e-6,8.987888289912406e-6,8.987888289912406e-6,8.987888289912406e-6,9.004687911386028e-6,9.029829753469241e-6,9.029829753469241e-6,9.029672261784758e-6,9.02935268613718e-6,9.02935268613718e-6,9.02935268613718e-6,9.02935268613718e-6,9.024054095725228e-6,9.021363644845537e-6,9.0235915243796e-6,9.046624297403476e-6,9.062408832819214e-6,9.08322403943012e-6,9.084657148464806e-6,9.084657148464806e-6,9.084657148464806e-6,9.084657148464806e-6,9.123117609720833e-6,9.129424471399416e-6,9.159139776708945e-6,9.218388648720595e-6,9.224522390688443e-6,9.234669871460802e-6,9.26570158602055e-6,9.279546312175525e-6,9.281454038432716e-6,9.281454038432716e-6,9.281454038432716e-6,9.281454038432716e-6,9.281454038432716e-6,9.281454038432716e-6,9.281454038432716e-6,9.281454038432716e-6,9.268030436744579e-6,9.26274765433379e-6,9.257004078858565e-6,9.205699436319634e-6,9.197702043031136e-6,9.141427627731564e-6,9.073774830272635e-6,9.014344521998943e-6,9.014344521998943e-6,9.014344521998943e-6,9.014344521998943e-6,9.014344521998943e-6,9.014344521998943e-6,8.900095867788337e-6,8.850959742652903e-6,8.596953230085272e-6,8.53220602170412e-6,8.12667531735819e-6,8.048446794025964e-6,7.993573928664067e-6,7.993573928664067e-6,7.993573928664067e-6,7.993573928664067e-6,7.993573928664067e-6,7.993573928664067e-6,7.62016070138971e-6,7.485595890166039e-6,6.903231597719043e-6,6.563975117786389e-6,6.563975117786389e-6,6.563975117786389e-6,6.563975117786389e-6,6.433664256856877e-6,6.366832795401803e-6,5.9784292485286955e-6,5.9290743891718645e-6,5.6209905120838795e-6,5.5915569256291315e-6,5.5915569256291315e-6,5.5915569256291315e-6,5.5915569256291315e-6,5.449220506649648e-6,5.402751103739814e-6,5.384978775969956e-6,5.370764029515922e-6,5.364555868583847e-6,5.364555868583847e-6,5.364555868583847e-6,5.345668010525556e-6,5.1993110096263495e-6,5.179276350018613e-6,4.821127423598116e-6,4.738561866425061e-6,4.738561866425061e-6,4.738561866425061e-6,4.738561866425061e-6,4.738561866425061e-6,4.738561866425061e-6,4.179395729703284e-6,3.859774692275725e-6,3.3759483835594576e-6,2.5914974455054415e-6,1.9759702050572734e-6,1.6615243703959815e-6,1.5756333567981366e-6,1.459701777031972e-6,1.3437169727169504e-6,1.2017518630758665e-6,1.1050698931207354e-6,1.0918347831559728e-6,9.913545839145587e-7,8.999588419982103e-7,8.827386876409741e-7,8.211666244783482e-7,7.529571146534056e-7,6.889043930551088e-7,6.234921200031829e-7,5.547919047786907e-7,4.828012683397987e-7,4.06995181957176e-7,3.268819410309059e-7,2.4489740794534144e-7],\"type\":\"scatter\",\"xaxis\":\"x2\",\"yaxis\":\"y2\"},{\"line\":{\"color\":\"#00008b\",\"dash\":\"dash\"},\"mode\":\"lines+markers\",\"name\":\"Train Mean\",\"x\":[66237.85907335907,66237.85907335907],\"y\":[0,9.197702043031136e-6],\"type\":\"scatter\",\"xaxis\":\"x2\",\"yaxis\":\"y2\"},{\"line\":{\"color\":\"#00008b\"},\"mode\":\"lines\",\"name\":\"Train Median\",\"x\":[60000.0,60000.0],\"y\":[0,9.281454038432716e-6],\"type\":\"scatter\",\"xaxis\":\"x2\",\"yaxis\":\"y2\"},{\"fill\":\"tozeroy\",\"line\":{\"color\":\"#69b3a2\",\"shape\":\"linear\"},\"name\":\"Test Dataset\",\"x\":[1.0,3980.5714285714284,5000.0,5570.179999999999,7159.679999999999,7960.142857142857,9774.0,10000.0,11000.0,11939.714285714286,14000.0,15000.0,15000.0,15919.285714285714,18000.0,19898.85714285714,20000.0,20000.0,20000.0,23878.428571428572,24001.14,24300.0,25000.0,25000.0,27000.0,27858.0,28000.0,30000.0,30000.0,30000.0,30000.0,31837.571428571428,34066.88,35000.0,35000.0,35000.0,35817.142857142855,38817.0,38817.0,39796.71428571428,40000.0,40000.0,40000.0,40000.0,42000.0,43776.28571428571,45000.0,47755.857142857145,48804.00000000002,49929.000000000015,50000.0,50000.0,50000.0,50000.0,51735.42857142857,52000.0,53216.480000000025,55715.0,56000.0,56494.0,58343.0,59694.57142857143,60000.0,60000.0,60000.0,60000.0,60000.0,60000.0,60000.0,60000.0,63331.142857142855,63674.142857142855,64000.0,66000.0,66237.85907335907,67653.71428571429,69000.0,70000.0,70000.0,70000.0,70000.0,70000.0,70000.0,71633.28571428571,72254.91999999997,75000.0,75612.85714285714,79000.0,79592.42857142857,80000.0,80000.0,80000.0,80000.0,80000.0,80000.0,82650.00000000009,83572.0,87551.57142857142,90000.0,90000.0,90000.0,90000.0,91000.0,91531.14285714286,95000.0,95510.71428571429,99490.28571428571,100000.0,100000.0,100000.0,100000.0,103469.85714285714,105780.00000000065,107449.42857142857,109309.12000000001,110000.0,110000.0,110000.0,111429.0,115408.57142857142,115720.00000000003,119388.14285714286,120000.0,120000.0,120000.0,120000.0,120000.0,120000.0,123367.71428571428,125000.0,127347.28571428571,131326.85714285713,135306.42857142858,138240.0,139286.0,141000.0,143265.57142857142,147245.14285714284,150720.47999999984,151224.7142857143,155204.2857142857,159183.85714285713,160000.0,163163.42857142858,167143.0,171122.57142857142,175102.14285714284,179081.7142857143,183061.2857142857,187040.85714285713,191020.42857142858,195000.0],\"y\":[3.080115466456552e-6,4.349896759327614e-6,4.675875340542174e-6,4.856022588560441e-6,5.3457716380357435e-6,5.583614798735373e-6,6.095819842285963e-6,6.156811445295013e-6,6.4187604814412326e-6,6.652946690882859e-6,7.125966628207555e-6,7.336239530577031e-6,7.336239530577031e-6,7.519029194314558e-6,7.89814727666559e-6,8.205671806420603e-6,8.221082351568942e-6,8.221082351568942e-6,8.221082351568942e-6,8.740361849806774e-6,8.75449224242398e-6,8.78829894764101e-6,8.864071062532466e-6,8.864071062532466e-6,9.053317471535791e-6,9.121647902054857e-6,9.132191102875593e-6,9.257201535977746e-6,9.257201535977746e-6,9.257201535977746e-6,9.257201535977746e-6,9.333403992510527e-6,9.378964462557714e-6,9.384497226613294e-6,9.384497226613294e-6,9.384497226613294e-6,9.38376465676989e-6,9.348879325332354e-6,9.348879325332354e-6,9.331359539388739e-6,9.32761741364822e-6,9.32761741364822e-6,9.32761741364822e-6,9.32761741364822e-6,9.292453555654719e-6,9.269705488782065e-6,9.261800153049326e-6,9.271387150830622e-6,9.28429286582085e-6,9.302366766217937e-6,9.303619739160498e-6,9.303619739160498e-6,9.303619739160498e-6,9.303619739160498e-6,9.336430747337745e-6,9.341547971115568e-6,9.364075125557402e-6,9.396530569325846e-6,9.398371291926314e-6,9.400427468836871e-6,9.393788531972614e-6,9.373051644213567e-6,9.366401301828387e-6,9.366401301828387e-6,9.366401301828387e-6,9.366401301828387e-6,9.366401301828387e-6,9.366401301828387e-6,9.366401301828387e-6,9.366401301828387e-6,9.24659406229907e-6,9.229470689551816e-6,9.21241097701304e-6,9.091379170329782e-6,9.075176127157841e-6,8.97106783504565e-6,8.860132929700464e-6,8.77026698502112e-6,8.77026698502112e-6,8.77026698502112e-6,8.77026698502112e-6,8.77026698502112e-6,8.77026698502112e-6,8.609727311655545e-6,8.544098551551302e-6,8.224393639441058e-6,8.146516061964513e-6,7.679135054618153e-6,7.5922308828658895e-6,7.531829627090644e-6,7.531829627090644e-6,7.531829627090644e-6,7.531829627090644e-6,7.531829627090644e-6,7.531829627090644e-6,7.132755095889323e-6,6.994134945233005e-6,6.428617364712707e-6,6.126818321878264e-6,6.126818321878264e-6,6.126818321878264e-6,6.126818321878264e-6,6.0164035619648165e-6,5.9609144582103205e-6,5.651359588193722e-6,5.613130942952884e-6,5.3709941612198984e-6,5.346390969875573e-6,5.346390969875573e-6,5.346390969875573e-6,5.346390969875573e-6,5.211134206047545e-6,5.146370775891679e-6,5.106957238526252e-6,5.063838594269996e-6,5.046368430444636e-6,5.046368430444636e-6,5.046368430444636e-6,5.00454840070544e-6,4.809599329907753e-6,4.787349522324688e-6,4.426839316672163e-6,4.348408300595152e-6,4.348408300595152e-6,4.348408300595152e-6,4.348408300595152e-6,4.348408300595152e-6,4.348408300595152e-6,3.834151836309315e-6,3.547735303887192e-6,3.120195895160426e-6,2.43858649584808e-6,1.9142278952291147e-6,1.6520360107598493e-6,1.5814826695308725e-6,1.4870983100052539e-6,1.393103140561379e-6,1.2724607350088397e-6,1.1754208164125996e-6,1.1605679386514976e-6,1.0333309058436343e-6,8.933683215131934e-7,8.642040037399077e-7,7.529190969658837e-7,6.217126194866123e-7,5.04077962813651e-7,4.0124455780639625e-7,3.1336505877643744e-7,2.3963535110168405e-7,1.781200711840778e-7,1.266557456350654e-7,8.419011715437578e-8],\"type\":\"scatter\",\"xaxis\":\"x2\",\"yaxis\":\"y2\"},{\"line\":{\"color\":\"#69b3a2\",\"dash\":\"dash\"},\"mode\":\"lines+markers\",\"name\":\"Test Mean\",\"x\":[63331.142857142855,63331.142857142855],\"y\":[0,9.24659406229907e-6],\"type\":\"scatter\",\"xaxis\":\"x2\",\"yaxis\":\"y2\"},{\"line\":{\"color\":\"#69b3a2\"},\"mode\":\"lines\",\"name\":\"Test Median\",\"x\":[60000.0,60000.0],\"y\":[0,9.366401301828387e-6],\"type\":\"scatter\",\"xaxis\":\"x2\",\"yaxis\":\"y2\"}],\"layout\":{\"template\":{\"data\":{\"histogram2dcontour\":[{\"type\":\"histogram2dcontour\",\"colorbar\":{\"outlinewidth\":0,\"ticks\":\"\"},\"colorscale\":[[0.0,\"#0d0887\"],[0.1111111111111111,\"#46039f\"],[0.2222222222222222,\"#7201a8\"],[0.3333333333333333,\"#9c179e\"],[0.4444444444444444,\"#bd3786\"],[0.5555555555555556,\"#d8576b\"],[0.6666666666666666,\"#ed7953\"],[0.7777777777777778,\"#fb9f3a\"],[0.8888888888888888,\"#fdca26\"],[1.0,\"#f0f921\"]]}],\"choropleth\":[{\"type\":\"choropleth\",\"colorbar\":{\"outlinewidth\":0,\"ticks\":\"\"}}],\"histogram2d\":[{\"type\":\"histogram2d\",\"colorbar\":{\"outlinewidth\":0,\"ticks\":\"\"},\"colorscale\":[[0.0,\"#0d0887\"],[0.1111111111111111,\"#46039f\"],[0.2222222222222222,\"#7201a8\"],[0.3333333333333333,\"#9c179e\"],[0.4444444444444444,\"#bd3786\"],[0.5555555555555556,\"#d8576b\"],[0.6666666666666666,\"#ed7953\"],[0.7777777777777778,\"#fb9f3a\"],[0.8888888888888888,\"#fdca26\"],[1.0,\"#f0f921\"]]}],\"heatmap\":[{\"type\":\"heatmap\",\"colorbar\":{\"outlinewidth\":0,\"ticks\":\"\"},\"colorscale\":[[0.0,\"#0d0887\"],[0.1111111111111111,\"#46039f\"],[0.2222222222222222,\"#7201a8\"],[0.3333333333333333,\"#9c179e\"],[0.4444444444444444,\"#bd3786\"],[0.5555555555555556,\"#d8576b\"],[0.6666666666666666,\"#ed7953\"],[0.7777777777777778,\"#fb9f3a\"],[0.8888888888888888,\"#fdca26\"],[1.0,\"#f0f921\"]]}],\"heatmapgl\":[{\"type\":\"heatmapgl\",\"colorbar\":{\"outlinewidth\":0,\"ticks\":\"\"},\"colorscale\":[[0.0,\"#0d0887\"],[0.1111111111111111,\"#46039f\"],[0.2222222222222222,\"#7201a8\"],[0.3333333333333333,\"#9c179e\"],[0.4444444444444444,\"#bd3786\"],[0.5555555555555556,\"#d8576b\"],[0.6666666666666666,\"#ed7953\"],[0.7777777777777778,\"#fb9f3a\"],[0.8888888888888888,\"#fdca26\"],[1.0,\"#f0f921\"]]}],\"contourcarpet\":[{\"type\":\"contourcarpet\",\"colorbar\":{\"outlinewidth\":0,\"ticks\":\"\"}}],\"contour\":[{\"type\":\"contour\",\"colorbar\":{\"outlinewidth\":0,\"ticks\":\"\"},\"colorscale\":[[0.0,\"#0d0887\"],[0.1111111111111111,\"#46039f\"],[0.2222222222222222,\"#7201a8\"],[0.3333333333333333,\"#9c179e\"],[0.4444444444444444,\"#bd3786\"],[0.5555555555555556,\"#d8576b\"],[0.6666666666666666,\"#ed7953\"],[0.7777777777777778,\"#fb9f3a\"],[0.8888888888888888,\"#fdca26\"],[1.0,\"#f0f921\"]]}],\"surface\":[{\"type\":\"surface\",\"colorbar\":{\"outlinewidth\":0,\"ticks\":\"\"},\"colorscale\":[[0.0,\"#0d0887\"],[0.1111111111111111,\"#46039f\"],[0.2222222222222222,\"#7201a8\"],[0.3333333333333333,\"#9c179e\"],[0.4444444444444444,\"#bd3786\"],[0.5555555555555556,\"#d8576b\"],[0.6666666666666666,\"#ed7953\"],[0.7777777777777778,\"#fb9f3a\"],[0.8888888888888888,\"#fdca26\"],[1.0,\"#f0f921\"]]}],\"mesh3d\":[{\"type\":\"mesh3d\",\"colorbar\":{\"outlinewidth\":0,\"ticks\":\"\"}}],\"scatter\":[{\"fillpattern\":{\"fillmode\":\"overlay\",\"size\":10,\"solidity\":0.2},\"type\":\"scatter\"}],\"parcoords\":[{\"type\":\"parcoords\",\"line\":{\"colorbar\":{\"outlinewidth\":0,\"ticks\":\"\"}}}],\"scatterpolargl\":[{\"type\":\"scatterpolargl\",\"marker\":{\"colorbar\":{\"outlinewidth\":0,\"ticks\":\"\"}}}],\"bar\":[{\"error_x\":{\"color\":\"#2a3f5f\"},\"error_y\":{\"color\":\"#2a3f5f\"},\"marker\":{\"line\":{\"color\":\"#E5ECF6\",\"width\":0.5},\"pattern\":{\"fillmode\":\"overlay\",\"size\":10,\"solidity\":0.2}},\"type\":\"bar\"}],\"scattergeo\":[{\"type\":\"scattergeo\",\"marker\":{\"colorbar\":{\"outlinewidth\":0,\"ticks\":\"\"}}}],\"scatterpolar\":[{\"type\":\"scatterpolar\",\"marker\":{\"colorbar\":{\"outlinewidth\":0,\"ticks\":\"\"}}}],\"histogram\":[{\"marker\":{\"pattern\":{\"fillmode\":\"overlay\",\"size\":10,\"solidity\":0.2}},\"type\":\"histogram\"}],\"scattergl\":[{\"type\":\"scattergl\",\"marker\":{\"colorbar\":{\"outlinewidth\":0,\"ticks\":\"\"}}}],\"scatter3d\":[{\"type\":\"scatter3d\",\"line\":{\"colorbar\":{\"outlinewidth\":0,\"ticks\":\"\"}},\"marker\":{\"colorbar\":{\"outlinewidth\":0,\"ticks\":\"\"}}}],\"scattermapbox\":[{\"type\":\"scattermapbox\",\"marker\":{\"colorbar\":{\"outlinewidth\":0,\"ticks\":\"\"}}}],\"scatterternary\":[{\"type\":\"scatterternary\",\"marker\":{\"colorbar\":{\"outlinewidth\":0,\"ticks\":\"\"}}}],\"scattercarpet\":[{\"type\":\"scattercarpet\",\"marker\":{\"colorbar\":{\"outlinewidth\":0,\"ticks\":\"\"}}}],\"carpet\":[{\"aaxis\":{\"endlinecolor\":\"#2a3f5f\",\"gridcolor\":\"white\",\"linecolor\":\"white\",\"minorgridcolor\":\"white\",\"startlinecolor\":\"#2a3f5f\"},\"baxis\":{\"endlinecolor\":\"#2a3f5f\",\"gridcolor\":\"white\",\"linecolor\":\"white\",\"minorgridcolor\":\"white\",\"startlinecolor\":\"#2a3f5f\"},\"type\":\"carpet\"}],\"table\":[{\"cells\":{\"fill\":{\"color\":\"#EBF0F8\"},\"line\":{\"color\":\"white\"}},\"header\":{\"fill\":{\"color\":\"#C8D4E3\"},\"line\":{\"color\":\"white\"}},\"type\":\"table\"}],\"barpolar\":[{\"marker\":{\"line\":{\"color\":\"#E5ECF6\",\"width\":0.5},\"pattern\":{\"fillmode\":\"overlay\",\"size\":10,\"solidity\":0.2}},\"type\":\"barpolar\"}],\"pie\":[{\"automargin\":true,\"type\":\"pie\"}]},\"layout\":{\"autotypenumbers\":\"strict\",\"colorway\":[\"#636efa\",\"#EF553B\",\"#00cc96\",\"#ab63fa\",\"#FFA15A\",\"#19d3f3\",\"#FF6692\",\"#B6E880\",\"#FF97FF\",\"#FECB52\"],\"font\":{\"color\":\"#2a3f5f\"},\"hovermode\":\"closest\",\"hoverlabel\":{\"align\":\"left\"},\"paper_bgcolor\":\"white\",\"plot_bgcolor\":\"#E5ECF6\",\"polar\":{\"bgcolor\":\"#E5ECF6\",\"angularaxis\":{\"gridcolor\":\"white\",\"linecolor\":\"white\",\"ticks\":\"\"},\"radialaxis\":{\"gridcolor\":\"white\",\"linecolor\":\"white\",\"ticks\":\"\"}},\"ternary\":{\"bgcolor\":\"#E5ECF6\",\"aaxis\":{\"gridcolor\":\"white\",\"linecolor\":\"white\",\"ticks\":\"\"},\"baxis\":{\"gridcolor\":\"white\",\"linecolor\":\"white\",\"ticks\":\"\"},\"caxis\":{\"gridcolor\":\"white\",\"linecolor\":\"white\",\"ticks\":\"\"}},\"coloraxis\":{\"colorbar\":{\"outlinewidth\":0,\"ticks\":\"\"}},\"colorscale\":{\"sequential\":[[0.0,\"#0d0887\"],[0.1111111111111111,\"#46039f\"],[0.2222222222222222,\"#7201a8\"],[0.3333333333333333,\"#9c179e\"],[0.4444444444444444,\"#bd3786\"],[0.5555555555555556,\"#d8576b\"],[0.6666666666666666,\"#ed7953\"],[0.7777777777777778,\"#fb9f3a\"],[0.8888888888888888,\"#fdca26\"],[1.0,\"#f0f921\"]],\"sequentialminus\":[[0.0,\"#0d0887\"],[0.1111111111111111,\"#46039f\"],[0.2222222222222222,\"#7201a8\"],[0.3333333333333333,\"#9c179e\"],[0.4444444444444444,\"#bd3786\"],[0.5555555555555556,\"#d8576b\"],[0.6666666666666666,\"#ed7953\"],[0.7777777777777778,\"#fb9f3a\"],[0.8888888888888888,\"#fdca26\"],[1.0,\"#f0f921\"]],\"diverging\":[[0,\"#8e0152\"],[0.1,\"#c51b7d\"],[0.2,\"#de77ae\"],[0.3,\"#f1b6da\"],[0.4,\"#fde0ef\"],[0.5,\"#f7f7f7\"],[0.6,\"#e6f5d0\"],[0.7,\"#b8e186\"],[0.8,\"#7fbc41\"],[0.9,\"#4d9221\"],[1,\"#276419\"]]},\"xaxis\":{\"gridcolor\":\"white\",\"linecolor\":\"white\",\"ticks\":\"\",\"title\":{\"standoff\":15},\"zerolinecolor\":\"white\",\"automargin\":true,\"zerolinewidth\":2},\"yaxis\":{\"gridcolor\":\"white\",\"linecolor\":\"white\",\"ticks\":\"\",\"title\":{\"standoff\":15},\"zerolinecolor\":\"white\",\"automargin\":true,\"zerolinewidth\":2},\"scene\":{\"xaxis\":{\"backgroundcolor\":\"#E5ECF6\",\"gridcolor\":\"white\",\"linecolor\":\"white\",\"showbackground\":true,\"ticks\":\"\",\"zerolinecolor\":\"white\",\"gridwidth\":2},\"yaxis\":{\"backgroundcolor\":\"#E5ECF6\",\"gridcolor\":\"white\",\"linecolor\":\"white\",\"showbackground\":true,\"ticks\":\"\",\"zerolinecolor\":\"white\",\"gridwidth\":2},\"zaxis\":{\"backgroundcolor\":\"#E5ECF6\",\"gridcolor\":\"white\",\"linecolor\":\"white\",\"showbackground\":true,\"ticks\":\"\",\"zerolinecolor\":\"white\",\"gridwidth\":2}},\"shapedefaults\":{\"line\":{\"color\":\"#2a3f5f\"}},\"annotationdefaults\":{\"arrowcolor\":\"#2a3f5f\",\"arrowhead\":0,\"arrowwidth\":1},\"geo\":{\"bgcolor\":\"white\",\"landcolor\":\"#E5ECF6\",\"subunitcolor\":\"white\",\"showland\":true,\"showlakes\":true,\"lakecolor\":\"white\"},\"title\":{\"x\":0.05},\"mapbox\":{\"style\":\"light\"}}},\"xaxis\":{\"anchor\":\"y\",\"domain\":[0.0,1.0],\"showgrid\":false,\"gridcolor\":\"black\",\"linecolor\":\"black\",\"range\":[0,0.4],\"dtick\":0.05,\"fixedrange\":true},\"yaxis\":{\"anchor\":\"x\",\"domain\":[0.9200000000000002,1.0],\"showgrid\":false,\"showline\":false,\"showticklabels\":false,\"zeroline\":false,\"color\":\"black\",\"autorange\":true,\"rangemode\":\"normal\",\"fixedrange\":true},\"xaxis2\":{\"anchor\":\"y2\",\"domain\":[0.0,1.0],\"fixedrange\":false,\"range\":[5000.0,160000.0],\"title\":{\"text\":\"kilometers_driven\"}},\"yaxis2\":{\"anchor\":\"x2\",\"domain\":[0.0,0.7200000000000001],\"title\":{\"text\":\"Probability Density\"},\"fixedrange\":true},\"annotations\":[{\"font\":{\"size\":16},\"showarrow\":false,\"text\":\"Drift Score (Kolmogorov-Smirnov)\",\"x\":0.5,\"xanchor\":\"center\",\"xref\":\"paper\",\"y\":1.0,\"yanchor\":\"bottom\",\"yref\":\"paper\"},{\"font\":{\"size\":16},\"showarrow\":false,\"text\":\"Distribution Plot\",\"x\":0.5,\"xanchor\":\"center\",\"xref\":\"paper\",\"y\":0.7200000000000001,\"yanchor\":\"bottom\",\"yref\":\"paper\"}],\"legend\":{\"title\":{\"text\":\"Legend\"},\"yanchor\":\"top\",\"y\":0.6},\"title\":{\"text\":\"kilometers_driven (#4 in FI)\",\"x\":0.5,\"xanchor\":\"center\"},\"height\":400,\"bargroupgap\":0}}",
           "type": "plotly"
          },
          {
           "payload": "{\"data\":[{\"base\":0,\"marker\":{\"color\":\"#01B8AA\"},\"offsetgroup\":\"0\",\"orientation\":\"h\",\"showlegend\":false,\"x\":[0.03513513513513522],\"y\":[\"Drift Score\"],\"type\":\"bar\",\"xaxis\":\"x\",\"yaxis\":\"y\"},{\"marker\":{\"color\":\"#00008b\"},\"name\":\"Train Dataset\",\"x\":[0.0,1.0,2.0],\"y\":[0.6637065637065637,0.2594594594594595,0.07683397683397683],\"type\":\"bar\",\"xaxis\":\"x2\",\"yaxis\":\"y2\"},{\"marker\":{\"color\":\"#69b3a2\"},\"name\":\"Test Dataset\",\"x\":[0.0,1.0,2.0],\"y\":[0.6988416988416989,0.23783783783783785,0.06332046332046332],\"type\":\"bar\",\"xaxis\":\"x2\",\"yaxis\":\"y2\"}],\"layout\":{\"template\":{\"data\":{\"histogram2dcontour\":[{\"type\":\"histogram2dcontour\",\"colorbar\":{\"outlinewidth\":0,\"ticks\":\"\"},\"colorscale\":[[0.0,\"#0d0887\"],[0.1111111111111111,\"#46039f\"],[0.2222222222222222,\"#7201a8\"],[0.3333333333333333,\"#9c179e\"],[0.4444444444444444,\"#bd3786\"],[0.5555555555555556,\"#d8576b\"],[0.6666666666666666,\"#ed7953\"],[0.7777777777777778,\"#fb9f3a\"],[0.8888888888888888,\"#fdca26\"],[1.0,\"#f0f921\"]]}],\"choropleth\":[{\"type\":\"choropleth\",\"colorbar\":{\"outlinewidth\":0,\"ticks\":\"\"}}],\"histogram2d\":[{\"type\":\"histogram2d\",\"colorbar\":{\"outlinewidth\":0,\"ticks\":\"\"},\"colorscale\":[[0.0,\"#0d0887\"],[0.1111111111111111,\"#46039f\"],[0.2222222222222222,\"#7201a8\"],[0.3333333333333333,\"#9c179e\"],[0.4444444444444444,\"#bd3786\"],[0.5555555555555556,\"#d8576b\"],[0.6666666666666666,\"#ed7953\"],[0.7777777777777778,\"#fb9f3a\"],[0.8888888888888888,\"#fdca26\"],[1.0,\"#f0f921\"]]}],\"heatmap\":[{\"type\":\"heatmap\",\"colorbar\":{\"outlinewidth\":0,\"ticks\":\"\"},\"colorscale\":[[0.0,\"#0d0887\"],[0.1111111111111111,\"#46039f\"],[0.2222222222222222,\"#7201a8\"],[0.3333333333333333,\"#9c179e\"],[0.4444444444444444,\"#bd3786\"],[0.5555555555555556,\"#d8576b\"],[0.6666666666666666,\"#ed7953\"],[0.7777777777777778,\"#fb9f3a\"],[0.8888888888888888,\"#fdca26\"],[1.0,\"#f0f921\"]]}],\"heatmapgl\":[{\"type\":\"heatmapgl\",\"colorbar\":{\"outlinewidth\":0,\"ticks\":\"\"},\"colorscale\":[[0.0,\"#0d0887\"],[0.1111111111111111,\"#46039f\"],[0.2222222222222222,\"#7201a8\"],[0.3333333333333333,\"#9c179e\"],[0.4444444444444444,\"#bd3786\"],[0.5555555555555556,\"#d8576b\"],[0.6666666666666666,\"#ed7953\"],[0.7777777777777778,\"#fb9f3a\"],[0.8888888888888888,\"#fdca26\"],[1.0,\"#f0f921\"]]}],\"contourcarpet\":[{\"type\":\"contourcarpet\",\"colorbar\":{\"outlinewidth\":0,\"ticks\":\"\"}}],\"contour\":[{\"type\":\"contour\",\"colorbar\":{\"outlinewidth\":0,\"ticks\":\"\"},\"colorscale\":[[0.0,\"#0d0887\"],[0.1111111111111111,\"#46039f\"],[0.2222222222222222,\"#7201a8\"],[0.3333333333333333,\"#9c179e\"],[0.4444444444444444,\"#bd3786\"],[0.5555555555555556,\"#d8576b\"],[0.6666666666666666,\"#ed7953\"],[0.7777777777777778,\"#fb9f3a\"],[0.8888888888888888,\"#fdca26\"],[1.0,\"#f0f921\"]]}],\"surface\":[{\"type\":\"surface\",\"colorbar\":{\"outlinewidth\":0,\"ticks\":\"\"},\"colorscale\":[[0.0,\"#0d0887\"],[0.1111111111111111,\"#46039f\"],[0.2222222222222222,\"#7201a8\"],[0.3333333333333333,\"#9c179e\"],[0.4444444444444444,\"#bd3786\"],[0.5555555555555556,\"#d8576b\"],[0.6666666666666666,\"#ed7953\"],[0.7777777777777778,\"#fb9f3a\"],[0.8888888888888888,\"#fdca26\"],[1.0,\"#f0f921\"]]}],\"mesh3d\":[{\"type\":\"mesh3d\",\"colorbar\":{\"outlinewidth\":0,\"ticks\":\"\"}}],\"scatter\":[{\"fillpattern\":{\"fillmode\":\"overlay\",\"size\":10,\"solidity\":0.2},\"type\":\"scatter\"}],\"parcoords\":[{\"type\":\"parcoords\",\"line\":{\"colorbar\":{\"outlinewidth\":0,\"ticks\":\"\"}}}],\"scatterpolargl\":[{\"type\":\"scatterpolargl\",\"marker\":{\"colorbar\":{\"outlinewidth\":0,\"ticks\":\"\"}}}],\"bar\":[{\"error_x\":{\"color\":\"#2a3f5f\"},\"error_y\":{\"color\":\"#2a3f5f\"},\"marker\":{\"line\":{\"color\":\"#E5ECF6\",\"width\":0.5},\"pattern\":{\"fillmode\":\"overlay\",\"size\":10,\"solidity\":0.2}},\"type\":\"bar\"}],\"scattergeo\":[{\"type\":\"scattergeo\",\"marker\":{\"colorbar\":{\"outlinewidth\":0,\"ticks\":\"\"}}}],\"scatterpolar\":[{\"type\":\"scatterpolar\",\"marker\":{\"colorbar\":{\"outlinewidth\":0,\"ticks\":\"\"}}}],\"histogram\":[{\"marker\":{\"pattern\":{\"fillmode\":\"overlay\",\"size\":10,\"solidity\":0.2}},\"type\":\"histogram\"}],\"scattergl\":[{\"type\":\"scattergl\",\"marker\":{\"colorbar\":{\"outlinewidth\":0,\"ticks\":\"\"}}}],\"scatter3d\":[{\"type\":\"scatter3d\",\"line\":{\"colorbar\":{\"outlinewidth\":0,\"ticks\":\"\"}},\"marker\":{\"colorbar\":{\"outlinewidth\":0,\"ticks\":\"\"}}}],\"scattermapbox\":[{\"type\":\"scattermapbox\",\"marker\":{\"colorbar\":{\"outlinewidth\":0,\"ticks\":\"\"}}}],\"scatterternary\":[{\"type\":\"scatterternary\",\"marker\":{\"colorbar\":{\"outlinewidth\":0,\"ticks\":\"\"}}}],\"scattercarpet\":[{\"type\":\"scattercarpet\",\"marker\":{\"colorbar\":{\"outlinewidth\":0,\"ticks\":\"\"}}}],\"carpet\":[{\"aaxis\":{\"endlinecolor\":\"#2a3f5f\",\"gridcolor\":\"white\",\"linecolor\":\"white\",\"minorgridcolor\":\"white\",\"startlinecolor\":\"#2a3f5f\"},\"baxis\":{\"endlinecolor\":\"#2a3f5f\",\"gridcolor\":\"white\",\"linecolor\":\"white\",\"minorgridcolor\":\"white\",\"startlinecolor\":\"#2a3f5f\"},\"type\":\"carpet\"}],\"table\":[{\"cells\":{\"fill\":{\"color\":\"#EBF0F8\"},\"line\":{\"color\":\"white\"}},\"header\":{\"fill\":{\"color\":\"#C8D4E3\"},\"line\":{\"color\":\"white\"}},\"type\":\"table\"}],\"barpolar\":[{\"marker\":{\"line\":{\"color\":\"#E5ECF6\",\"width\":0.5},\"pattern\":{\"fillmode\":\"overlay\",\"size\":10,\"solidity\":0.2}},\"type\":\"barpolar\"}],\"pie\":[{\"automargin\":true,\"type\":\"pie\"}]},\"layout\":{\"autotypenumbers\":\"strict\",\"colorway\":[\"#636efa\",\"#EF553B\",\"#00cc96\",\"#ab63fa\",\"#FFA15A\",\"#19d3f3\",\"#FF6692\",\"#B6E880\",\"#FF97FF\",\"#FECB52\"],\"font\":{\"color\":\"#2a3f5f\"},\"hovermode\":\"closest\",\"hoverlabel\":{\"align\":\"left\"},\"paper_bgcolor\":\"white\",\"plot_bgcolor\":\"#E5ECF6\",\"polar\":{\"bgcolor\":\"#E5ECF6\",\"angularaxis\":{\"gridcolor\":\"white\",\"linecolor\":\"white\",\"ticks\":\"\"},\"radialaxis\":{\"gridcolor\":\"white\",\"linecolor\":\"white\",\"ticks\":\"\"}},\"ternary\":{\"bgcolor\":\"#E5ECF6\",\"aaxis\":{\"gridcolor\":\"white\",\"linecolor\":\"white\",\"ticks\":\"\"},\"baxis\":{\"gridcolor\":\"white\",\"linecolor\":\"white\",\"ticks\":\"\"},\"caxis\":{\"gridcolor\":\"white\",\"linecolor\":\"white\",\"ticks\":\"\"}},\"coloraxis\":{\"colorbar\":{\"outlinewidth\":0,\"ticks\":\"\"}},\"colorscale\":{\"sequential\":[[0.0,\"#0d0887\"],[0.1111111111111111,\"#46039f\"],[0.2222222222222222,\"#7201a8\"],[0.3333333333333333,\"#9c179e\"],[0.4444444444444444,\"#bd3786\"],[0.5555555555555556,\"#d8576b\"],[0.6666666666666666,\"#ed7953\"],[0.7777777777777778,\"#fb9f3a\"],[0.8888888888888888,\"#fdca26\"],[1.0,\"#f0f921\"]],\"sequentialminus\":[[0.0,\"#0d0887\"],[0.1111111111111111,\"#46039f\"],[0.2222222222222222,\"#7201a8\"],[0.3333333333333333,\"#9c179e\"],[0.4444444444444444,\"#bd3786\"],[0.5555555555555556,\"#d8576b\"],[0.6666666666666666,\"#ed7953\"],[0.7777777777777778,\"#fb9f3a\"],[0.8888888888888888,\"#fdca26\"],[1.0,\"#f0f921\"]],\"diverging\":[[0,\"#8e0152\"],[0.1,\"#c51b7d\"],[0.2,\"#de77ae\"],[0.3,\"#f1b6da\"],[0.4,\"#fde0ef\"],[0.5,\"#f7f7f7\"],[0.6,\"#e6f5d0\"],[0.7,\"#b8e186\"],[0.8,\"#7fbc41\"],[0.9,\"#4d9221\"],[1,\"#276419\"]]},\"xaxis\":{\"gridcolor\":\"white\",\"linecolor\":\"white\",\"ticks\":\"\",\"title\":{\"standoff\":15},\"zerolinecolor\":\"white\",\"automargin\":true,\"zerolinewidth\":2},\"yaxis\":{\"gridcolor\":\"white\",\"linecolor\":\"white\",\"ticks\":\"\",\"title\":{\"standoff\":15},\"zerolinecolor\":\"white\",\"automargin\":true,\"zerolinewidth\":2},\"scene\":{\"xaxis\":{\"backgroundcolor\":\"#E5ECF6\",\"gridcolor\":\"white\",\"linecolor\":\"white\",\"showbackground\":true,\"ticks\":\"\",\"zerolinecolor\":\"white\",\"gridwidth\":2},\"yaxis\":{\"backgroundcolor\":\"#E5ECF6\",\"gridcolor\":\"white\",\"linecolor\":\"white\",\"showbackground\":true,\"ticks\":\"\",\"zerolinecolor\":\"white\",\"gridwidth\":2},\"zaxis\":{\"backgroundcolor\":\"#E5ECF6\",\"gridcolor\":\"white\",\"linecolor\":\"white\",\"showbackground\":true,\"ticks\":\"\",\"zerolinecolor\":\"white\",\"gridwidth\":2}},\"shapedefaults\":{\"line\":{\"color\":\"#2a3f5f\"}},\"annotationdefaults\":{\"arrowcolor\":\"#2a3f5f\",\"arrowhead\":0,\"arrowwidth\":1},\"geo\":{\"bgcolor\":\"white\",\"landcolor\":\"#E5ECF6\",\"subunitcolor\":\"white\",\"showland\":true,\"showlakes\":true,\"lakecolor\":\"white\"},\"title\":{\"x\":0.05},\"mapbox\":{\"style\":\"light\"}}},\"xaxis\":{\"anchor\":\"y\",\"domain\":[0.0,1.0],\"showgrid\":false,\"gridcolor\":\"black\",\"linecolor\":\"black\",\"range\":[0,0.4],\"dtick\":0.05,\"fixedrange\":true},\"yaxis\":{\"anchor\":\"x\",\"domain\":[0.9200000000000002,1.0],\"showgrid\":false,\"showline\":false,\"showticklabels\":false,\"zeroline\":false,\"color\":\"black\",\"autorange\":true,\"rangemode\":\"normal\",\"fixedrange\":true},\"xaxis2\":{\"anchor\":\"y2\",\"domain\":[0.0,1.0],\"ticks\":\"outside\",\"tickmode\":\"array\",\"tickvals\":[0.0,1.0,2.0],\"range\":[-0.4,2.4]},\"yaxis2\":{\"anchor\":\"x2\",\"domain\":[0.0,0.7200000000000001],\"fixedrange\":true,\"autorange\":true,\"rangemode\":\"normal\",\"title\":{\"text\":\"Frequency\"}},\"annotations\":[{\"font\":{\"size\":16},\"showarrow\":false,\"text\":\"Drift Score (Kolmogorov-Smirnov)\",\"x\":0.5,\"xanchor\":\"center\",\"xref\":\"paper\",\"y\":1.0,\"yanchor\":\"bottom\",\"yref\":\"paper\"},{\"font\":{\"size\":16},\"showarrow\":false,\"text\":\"Distribution Plot\",\"x\":0.5,\"xanchor\":\"center\",\"xref\":\"paper\",\"y\":0.7200000000000001,\"yanchor\":\"bottom\",\"yref\":\"paper\"}],\"legend\":{\"title\":{\"text\":\"Legend\"},\"yanchor\":\"top\",\"y\":0.6},\"title\":{\"text\":\"ownership (#6 in FI)\",\"x\":0.5,\"xanchor\":\"center\"},\"height\":400,\"bargroupgap\":0}}",
           "type": "plotly"
          }
         ],
         "header": "Feature Drift",
         "type": "CheckResult",
         "value": {
          "engine_capacity": {
           "Drift score": {
            "dtype": "float64",
            "value": 0.02297297297297296
           },
           "Importance": {
            "dtype": "float64",
            "value": 0.1758294473894641
           },
           "Method": "Kolmogorov-Smirnov"
          },
          "fuel_type": {
           "Drift score": {
            "dtype": "float64",
            "value": 0.003281853281853264
           },
           "Importance": {
            "dtype": "float64",
            "value": 0.010316267114828163
           },
           "Method": "Kolmogorov-Smirnov"
          },
          "kilometers_driven": {
           "Drift score": {
            "dtype": "float64",
            "value": 0.038223938223938214
           },
           "Importance": {
            "dtype": "float64",
            "value": 0.019013168478354152
           },
           "Method": "Kolmogorov-Smirnov"
          },
          "max_power_output": {
           "Drift score": {
            "dtype": "float64",
            "value": 0.037451737451737355
           },
           "Importance": {
            "dtype": "float64",
            "value": 0.26728974513763876
           },
           "Method": "Kolmogorov-Smirnov"
          },
          "ownership": {
           "Drift score": {
            "dtype": "float64",
            "value": 0.03513513513513522
           },
           "Importance": {
            "dtype": "float64",
            "value": 0.005404811489423775
           },
           "Method": "Kolmogorov-Smirnov"
          },
          "transmission_Automatic": {
           "Drift score": {
            "dtype": "float64",
            "value": 0
           },
           "Importance": {
            "dtype": "float64",
            "value": 0.002225142404681436
           },
           "Method": "Cramer's V"
          },
          "transmission_Manual": {
           "Drift score": {
            "dtype": "float64",
            "value": 0
           },
           "Importance": {
            "dtype": "float64",
            "value": 0.0009292913983077043
           },
           "Method": "Cramer's V"
          },
          "vehicle_year": {
           "Drift score": {
            "dtype": "float64",
            "value": 0.03725868725868725
           },
           "Importance": {
            "dtype": "float64",
            "value": 0.5189921265873019
           },
           "Method": "Kolmogorov-Smirnov"
          }
         }
        },
        {
         "check": {
          "name": "Label Drift",
          "params": {
           "balance_classes": false,
           "categorical_drift_method": "cramers_v",
           "ignore_na": false,
           "margin_quantile_filter": 0.025,
           "max_num_categories_for_display": 10,
           "max_num_categories_for_drift": null,
           "min_category_size_ratio": 0.01,
           "min_samples": 10,
           "n_samples": 100000,
           "numerical_drift_method": "KS",
           "random_state": 42,
           "show_categories_by": "largest_difference"
          },
          "summary": "    Calculate label drift between train dataset and test dataset, using statistical measures. <a href=\"https://docs.deepchecks.com/0.17/tabular/auto_checks/train_test_validation/plot_label_drift.html?utm_source=display_output&utm_medium=referral&utm_campaign=check_link\" target=\"_blank\">Read More...</a>"
         },
         "conditions_results": [
          {
           "Condition": "Label drift score < 0.15",
           "More Info": "Label's drift score Kolmogorov-Smirnov is 0.04",
           "Status": "PASS"
          }
         ],
         "display": [
          {
           "payload": "<span>\n                        The Drift score is a measure for the difference between two distributions, in this check -\n                        the test and train distributions.<br> The check shows the drift score\n                        and distributions for the label. </span>",
           "type": "html"
          },
          {
           "payload": "For discrete distribution plots, showing the top 10 categories with largest difference between train and test.",
           "type": "html"
          },
          {
           "payload": "{\"data\":[{\"base\":0,\"marker\":{\"color\":\"#01B8AA\"},\"offsetgroup\":\"0\",\"orientation\":\"h\",\"showlegend\":false,\"x\":[0.04092664092664089],\"y\":[\"Drift Score\"],\"type\":\"bar\",\"xaxis\":\"x\",\"yaxis\":\"y\"},{\"fill\":\"tozeroy\",\"line\":{\"color\":\"#00008b\",\"shape\":\"linear\"},\"name\":\"Train Dataset\",\"x\":[35000.0,58775.51020408163,82551.02040816325,100000.0,106326.5306122449,110000.0,128160.0,130000.0,130102.04081632652,150000.0,150000.0,153877.55102040817,160000.0,170000.0,177653.0612244898,180000.0,185800.0,195000.0,200000.0,200000.0,201428.57142857142,220000.0,220000.0,225000.0,225204.08163265305,229999.0,241839.99999999997,244399.99999999985,248979.59183673467,250000.0,250000.0,260000.0,265000.0,272755.10204081633,280000.0,280000.0,295000.0,296530.61224489793,300000.0,300000.0,300000.0,310000.0,315200.00000000006,320000.0,320306.1224489796,325159.99999999994,339000.0,344081.6326530612,350000.0,350000.0,350000.0,355000.0,360000.0,367857.14285714284,375000.0,380000.0,390000.0,391632.65306122444,400000.0,400000.0,409999.0,415000.0,415408.1632653061,425000.0,430000.0,430000.0,435599.12,439183.67346938775,450000.0,450000.0,450000.0,450000.0,454534.8088803089,462959.18367346935,466569.0725868726,466880.0,470000.0,484999.0,484999.0,486734.693877551,500000.0,500000.0,503000.0,509999.0,510510.2040816326,525000.0,530000.0,534285.7142857143,540000.0,550000.0,550000.0,550040.0000000001,557440.0000000005,558061.2244897959,575000.0,578300.0000000002,581836.7346938775,599800.0000000001,600000.0,600000.0,600000.0,605612.2448979592,620000.0,625000.0,629387.7551020408,631000.0,645000.0,650000.0,650000.0,650000.0,653163.2653061224,670000.0,675000.0,676938.775510204,700000.0,700000.0,700714.2857142857,715000.0,720000.0,724489.7959183673,748265.3061224489,750000.0,750000.0,755100.0000000003,763000.0000000007,772040.8163265305,795816.3265306122,799480.0,800000.0,819591.8367346938,840400.0000000019,843367.3469387755,850000.0,867142.857142857,890000.0,890918.3673469387,900000.0,914693.8775510204,938469.387755102,950000.0,957359.9999999997,962244.8979591836,986020.4081632652,1009795.9183673469,1033571.4285714285,1057346.93877551,1081122.4489795917,1104897.9591836734,1128673.469387755,1152448.9795918367,1176224.4897959183,1200000.0],\"y\":[2.1185250722853555e-7,3.4831649741322866e-7,5.215744294584336e-7,6.649876583313031e-7,7.188579435675814e-7,7.503587114291338e-7,9.058948916758019e-7,9.214447784550483e-7,9.223051729969549e-7,1.0845811039668035e-6,1.0845811039668035e-6,1.1145735867655795e-6,1.1605935959195029e-6,1.2318906209982945e-6,1.282926881520708e-6,1.2979314045696755e-6,1.3336681105777023e-6,1.3863253320939332e-6,1.4128248016054974e-6,1.4128248016054974e-6,1.42011878120825e-6,1.5036373467199734e-6,1.5036373467199734e-6,1.5225377896534567e-6,1.5232771202648582e-6,1.5399264197357666e-6,1.5751752874349093e-6,1.5817134058967602e-6,1.5924646803113943e-6,1.5946963836982398e-6,1.5946963836982398e-6,1.613456809728403e-6,1.6207579327829253e-6,1.6294177328308501e-6,1.6346671816499306e-6,1.6346671816499306e-6,1.637303507731317e-6,1.6369840711954167e-6,1.6358810233843767e-6,1.6358810233843767e-6,1.6358810233843767e-6,1.6299286834640947e-6,1.6253441861102448e-6,1.6203077803651365e-6,1.6199621919658445e-6,1.6141211331514404e-6,1.5943414306471294e-6,1.5862073624839027e-6,1.5763476600558874e-6,1.5763476600558874e-6,1.5763476600558874e-6,1.567798645183314e-6,1.559137632882903e-6,1.5454798604358557e-6,1.5331906840604359e-6,1.5247385256502874e-6,1.5083417877476172e-6,1.5057361406259748e-6,1.4927037124896471e-6,1.4927037124896471e-6,1.4777821416043836e-6,1.470538885356591e-6,1.4699529892292153e-6,1.4563561922212033e-6,1.4493550212903392e-6,1.4493550212903392e-6,1.4415395737335252e-6,1.436534370233387e-6,1.4213473946464691e-6,1.4213473946464691e-6,1.4213473946464691e-6,1.4213473946464691e-6,1.414924784817627e-6,1.4029060221501253e-6,1.3977308695082825e-6,1.3972847456853094e-6,1.3928069647539441e-6,1.3714351423668154e-6,1.3714351423668154e-6,1.3690029505948505e-6,1.3509761048492348e-6,1.3509761048492348e-6,1.34707739782119e-6,1.3383027493478829e-6,1.3376807475172795e-6,1.3212092018552762e-6,1.3160475984684936e-6,1.3118213186496136e-6,1.3064370624894894e-6,1.297519874006028e-6,1.297519874006028e-6,1.2974850294149723e-6,1.2910655218700635e-6,1.2905249790149851e-6,1.2748579523122513e-6,1.2714303893938466e-6,1.2675511417614528e-6,1.2434834912145028e-6,1.2431665946185644e-6,1.2431665946185644e-6,1.2431665946185644e-6,1.2337718205884658e-6,1.2049821672994627e-6,1.193340053836495e-6,1.1824366275389498e-6,1.178272643614692e-6,1.138803923810004e-6,1.1234184692276027e-6,1.1234184692276027e-6,1.1234184692276027e-6,1.1133860782320507e-6,1.0569585133729916e-6,1.0395004867349263e-6,1.0326759013224341e-6,9.504384749851048e-7,9.504384749851048e-7,9.478843701909329e-7,8.969496640411756e-7,8.791939361949313e-7,8.632731212436965e-7,7.78923607653234e-7,7.727450021439057e-7,7.727450021439057e-7,7.545525450781397e-7,7.263033415112126e-7,6.939385312278075e-7,6.099394757133835e-7,5.973453147566155e-7,5.95569164387646e-7,5.312683800426398e-7,4.7005838382765254e-7,4.6199213315640366e-7,4.44550876259374e-7,4.0292975688602773e-7,3.5333979586096104e-7,3.514440965077866e-7,3.329620203738731e-7,3.037757721714361e-7,2.576491102659547e-7,2.3582539005411317e-7,2.2219990062137868e-7,2.1332937956181468e-7,1.7291082845063338e-7,1.3866049979023625e-7,1.1149993465118373e-7,9.050755181182333e-8,7.366881500424497e-8,5.920766315909787e-8,4.641613660618496e-8,3.542882084601695e-8,2.641750686433379e-8,1.9140580562328664e-8],\"type\":\"scatter\",\"xaxis\":\"x2\",\"yaxis\":\"y2\"},{\"line\":{\"color\":\"#00008b\",\"dash\":\"dash\"},\"mode\":\"lines+markers\",\"name\":\"Train Mean\",\"x\":[454534.8088803089,454534.8088803089],\"y\":[0,1.414924784817627e-6],\"type\":\"scatter\",\"xaxis\":\"x2\",\"yaxis\":\"y2\"},{\"line\":{\"color\":\"#00008b\"},\"mode\":\"lines\",\"name\":\"Train Median\",\"x\":[430000.0,430000.0],\"y\":[0,1.4493550212903392e-6],\"type\":\"scatter\",\"xaxis\":\"x2\",\"yaxis\":\"y2\"},{\"fill\":\"tozeroy\",\"line\":{\"color\":\"#69b3a2\",\"shape\":\"linear\"},\"name\":\"Test Dataset\",\"x\":[35000.0,58775.51020408163,82551.02040816325,100000.0,106326.5306122449,110000.0,128160.0,130000.0,130102.04081632652,150000.0,150000.0,153877.55102040817,160000.0,170000.0,177653.0612244898,180000.0,185800.0,195000.0,200000.0,200000.0,201428.57142857142,220000.0,220000.0,225000.0,225204.08163265305,229999.0,241839.99999999997,244399.99999999985,248979.59183673467,250000.0,250000.0,260000.0,265000.0,272755.10204081633,280000.0,280000.0,295000.0,296530.61224489793,300000.0,300000.0,300000.0,310000.0,315200.00000000006,320000.0,320306.1224489796,325159.99999999994,339000.0,344081.6326530612,350000.0,350000.0,350000.0,355000.0,360000.0,367857.14285714284,375000.0,380000.0,390000.0,391632.65306122444,400000.0,400000.0,409999.0,415000.0,415408.1632653061,425000.0,430000.0,430000.0,435599.12,439183.67346938775,450000.0,450000.0,450000.0,450000.0,454534.8088803089,462959.18367346935,466569.0725868726,466880.0,470000.0,484999.0,484999.0,486734.693877551,500000.0,500000.0,503000.0,509999.0,510510.2040816326,525000.0,530000.0,534285.7142857143,540000.0,550000.0,550000.0,550040.0000000001,557440.0000000005,558061.2244897959,575000.0,578300.0000000002,581836.7346938775,599800.0000000001,600000.0,600000.0,600000.0,605612.2448979592,620000.0,625000.0,629387.7551020408,631000.0,645000.0,650000.0,650000.0,650000.0,653163.2653061224,670000.0,675000.0,676938.775510204,700000.0,700000.0,700714.2857142857,715000.0,720000.0,724489.7959183673,748265.3061224489,750000.0,750000.0,755100.0000000003,763000.0000000007,772040.8163265305,795816.3265306122,799480.0,800000.0,819591.8367346938,840400.0000000019,843367.3469387755,850000.0,867142.857142857,890000.0,890918.3673469387,900000.0,914693.8775510204,938469.387755102,950000.0,957359.9999999997,962244.8979591836,986020.4081632652,1009795.9183673469,1033571.4285714285,1057346.93877551,1081122.4489795917,1104897.9591836734,1128673.469387755,1152448.9795918367,1176224.4897959183,1200000.0],\"y\":[1.8866279917131396e-7,3.070540601652078e-7,4.587478510865742e-7,5.866377238146625e-7,6.353770290637143e-7,6.64075534314971e-7,8.08141253928769e-7,8.227773069076898e-7,8.235884465463287e-7,9.79155051415062e-7,9.79155051415062e-7,1.0084952249103936e-6,1.053884127521748e-6,1.1250874596847319e-6,1.1766972701192056e-6,1.19196640835682e-6,1.2284957195740846e-6,1.2826853611699385e-6,1.3100850945185998e-6,1.3100850945185998e-6,1.3176380893146343e-6,1.4042580186744974e-6,1.4042580186744974e-6,1.423844097272464e-6,1.4246098648562034e-6,1.4418475513011195e-6,1.4783531490935523e-6,1.4851490853370122e-6,1.4963758540419741e-6,1.4987183049083753e-6,1.4987183049083753e-6,1.518746112068351e-6,1.5268670476020212e-6,1.5371488943660025e-6,1.5443722708721616e-6,1.5443722708721616e-6,1.5526067800264043e-6,1.552964464365444e-6,1.553456127955308e-6,1.553456127955308e-6,1.553456127955308e-6,1.5524478927085435e-6,1.5505363084699491e-6,1.5479546383376121e-6,1.547763887288794e-6,1.5443304376723489e-6,1.5305667638158025e-6,1.5241896455711757e-6,1.516010038571593e-6,1.516010038571593e-6,1.516010038571593e-6,1.5085654811618636e-6,1.5007308692387288e-6,1.48787922366301e-6,1.4759373284857848e-6,1.467614989775166e-6,1.451558521273881e-6,1.449056876940193e-6,1.436985691833152e-6,1.436985691833152e-6,1.424626164708182e-6,1.4194563972995306e-6,1.419066846257132e-6,1.4113979214823896e-6,1.4085697688576638e-6,1.4085697688576638e-6,1.4063740688852252e-6,1.4055044922717914e-6,1.4053263405070267e-6,1.4053263405070267e-6,1.4053263405070267e-6,1.4053263405070267e-6,1.4062769097979402e-6,1.4094569938870004e-6,1.4113136855917109e-6,1.4114858638783478e-6,1.413312506681058e-6,1.4239812391808257e-6,1.4239812391808257e-6,1.425342624176101e-6,1.4358314227462353e-6,1.4358314227462353e-6,1.4381144122004125e-6,1.443127360628204e-6,1.443472265409994e-6,1.4516475912246134e-6,1.4536256421982641e-6,1.4549310311024421e-6,1.4560834610005192e-6,1.4564035431886133e-6,1.4564035431886133e-6,1.4564003404105009e-6,1.4551681162253375e-6,1.4550054890587396e-6,1.4466954362552517e-6,1.4441139714153604e-6,1.44094975477068e-6,1.4174326503718693e-6,1.4170909161324256e-6,1.4170909161324256e-6,1.4170909161324256e-6,1.4066847338161118e-6,1.3721589104352028e-6,1.357313907781279e-6,1.343037429808532e-6,1.3374989019297453e-6,1.2830446841775637e-6,1.2610507413469113e-6,1.2610507413469113e-6,1.2610507413469113e-6,1.246535636511649e-6,1.1633298139744252e-6,1.1373829164697674e-6,1.1272538122504149e-6,1.0079575940291981e-6,1.0079575940291981e-6,1.0043827263457011e-6,9.353856981715325e-7,9.124249843612742e-7,8.923181197954893e-7,7.921370611667076e-7,7.851069320915153e-7,7.851069320915153e-7,7.645482986620482e-7,7.329033547416123e-7,6.967978210199414e-7,6.023892111113262e-7,5.880979226487017e-7,5.860802351105075e-7,5.130080071263309e-7,4.4517130005777137e-7,4.365657882739838e-7,4.183845693534526e-7,3.782187382896047e-7,3.3869023476778166e-7,3.3738276182514533e-7,3.2536663443866113e-7,3.0858099113926764e-7,2.839203000160891e-7,2.71168191081429e-7,2.6233292366733587e-7,2.5610617064876123e-7,2.213643273009219e-7,1.8075700823999528e-7,1.38834288468861e-7,1.0069194140500115e-7,6.963821640002181e-8,4.659705686950212e-8,3.0769067410748154e-8,2.055098071752248e-8,1.4166193263953288e-8,1.0029478923029304e-8],\"type\":\"scatter\",\"xaxis\":\"x2\",\"yaxis\":\"y2\"},{\"line\":{\"color\":\"#69b3a2\",\"dash\":\"dash\"},\"mode\":\"lines+markers\",\"name\":\"Test Mean\",\"x\":[466569.0725868726,466569.0725868726],\"y\":[0,1.4113136855917109e-6],\"type\":\"scatter\",\"xaxis\":\"x2\",\"yaxis\":\"y2\"},{\"line\":{\"color\":\"#69b3a2\"},\"mode\":\"lines\",\"name\":\"Test Median\",\"x\":[450000.0,450000.0],\"y\":[0,1.4053263405070267e-6],\"type\":\"scatter\",\"xaxis\":\"x2\",\"yaxis\":\"y2\"}],\"layout\":{\"template\":{\"data\":{\"histogram2dcontour\":[{\"type\":\"histogram2dcontour\",\"colorbar\":{\"outlinewidth\":0,\"ticks\":\"\"},\"colorscale\":[[0.0,\"#0d0887\"],[0.1111111111111111,\"#46039f\"],[0.2222222222222222,\"#7201a8\"],[0.3333333333333333,\"#9c179e\"],[0.4444444444444444,\"#bd3786\"],[0.5555555555555556,\"#d8576b\"],[0.6666666666666666,\"#ed7953\"],[0.7777777777777778,\"#fb9f3a\"],[0.8888888888888888,\"#fdca26\"],[1.0,\"#f0f921\"]]}],\"choropleth\":[{\"type\":\"choropleth\",\"colorbar\":{\"outlinewidth\":0,\"ticks\":\"\"}}],\"histogram2d\":[{\"type\":\"histogram2d\",\"colorbar\":{\"outlinewidth\":0,\"ticks\":\"\"},\"colorscale\":[[0.0,\"#0d0887\"],[0.1111111111111111,\"#46039f\"],[0.2222222222222222,\"#7201a8\"],[0.3333333333333333,\"#9c179e\"],[0.4444444444444444,\"#bd3786\"],[0.5555555555555556,\"#d8576b\"],[0.6666666666666666,\"#ed7953\"],[0.7777777777777778,\"#fb9f3a\"],[0.8888888888888888,\"#fdca26\"],[1.0,\"#f0f921\"]]}],\"heatmap\":[{\"type\":\"heatmap\",\"colorbar\":{\"outlinewidth\":0,\"ticks\":\"\"},\"colorscale\":[[0.0,\"#0d0887\"],[0.1111111111111111,\"#46039f\"],[0.2222222222222222,\"#7201a8\"],[0.3333333333333333,\"#9c179e\"],[0.4444444444444444,\"#bd3786\"],[0.5555555555555556,\"#d8576b\"],[0.6666666666666666,\"#ed7953\"],[0.7777777777777778,\"#fb9f3a\"],[0.8888888888888888,\"#fdca26\"],[1.0,\"#f0f921\"]]}],\"heatmapgl\":[{\"type\":\"heatmapgl\",\"colorbar\":{\"outlinewidth\":0,\"ticks\":\"\"},\"colorscale\":[[0.0,\"#0d0887\"],[0.1111111111111111,\"#46039f\"],[0.2222222222222222,\"#7201a8\"],[0.3333333333333333,\"#9c179e\"],[0.4444444444444444,\"#bd3786\"],[0.5555555555555556,\"#d8576b\"],[0.6666666666666666,\"#ed7953\"],[0.7777777777777778,\"#fb9f3a\"],[0.8888888888888888,\"#fdca26\"],[1.0,\"#f0f921\"]]}],\"contourcarpet\":[{\"type\":\"contourcarpet\",\"colorbar\":{\"outlinewidth\":0,\"ticks\":\"\"}}],\"contour\":[{\"type\":\"contour\",\"colorbar\":{\"outlinewidth\":0,\"ticks\":\"\"},\"colorscale\":[[0.0,\"#0d0887\"],[0.1111111111111111,\"#46039f\"],[0.2222222222222222,\"#7201a8\"],[0.3333333333333333,\"#9c179e\"],[0.4444444444444444,\"#bd3786\"],[0.5555555555555556,\"#d8576b\"],[0.6666666666666666,\"#ed7953\"],[0.7777777777777778,\"#fb9f3a\"],[0.8888888888888888,\"#fdca26\"],[1.0,\"#f0f921\"]]}],\"surface\":[{\"type\":\"surface\",\"colorbar\":{\"outlinewidth\":0,\"ticks\":\"\"},\"colorscale\":[[0.0,\"#0d0887\"],[0.1111111111111111,\"#46039f\"],[0.2222222222222222,\"#7201a8\"],[0.3333333333333333,\"#9c179e\"],[0.4444444444444444,\"#bd3786\"],[0.5555555555555556,\"#d8576b\"],[0.6666666666666666,\"#ed7953\"],[0.7777777777777778,\"#fb9f3a\"],[0.8888888888888888,\"#fdca26\"],[1.0,\"#f0f921\"]]}],\"mesh3d\":[{\"type\":\"mesh3d\",\"colorbar\":{\"outlinewidth\":0,\"ticks\":\"\"}}],\"scatter\":[{\"fillpattern\":{\"fillmode\":\"overlay\",\"size\":10,\"solidity\":0.2},\"type\":\"scatter\"}],\"parcoords\":[{\"type\":\"parcoords\",\"line\":{\"colorbar\":{\"outlinewidth\":0,\"ticks\":\"\"}}}],\"scatterpolargl\":[{\"type\":\"scatterpolargl\",\"marker\":{\"colorbar\":{\"outlinewidth\":0,\"ticks\":\"\"}}}],\"bar\":[{\"error_x\":{\"color\":\"#2a3f5f\"},\"error_y\":{\"color\":\"#2a3f5f\"},\"marker\":{\"line\":{\"color\":\"#E5ECF6\",\"width\":0.5},\"pattern\":{\"fillmode\":\"overlay\",\"size\":10,\"solidity\":0.2}},\"type\":\"bar\"}],\"scattergeo\":[{\"type\":\"scattergeo\",\"marker\":{\"colorbar\":{\"outlinewidth\":0,\"ticks\":\"\"}}}],\"scatterpolar\":[{\"type\":\"scatterpolar\",\"marker\":{\"colorbar\":{\"outlinewidth\":0,\"ticks\":\"\"}}}],\"histogram\":[{\"marker\":{\"pattern\":{\"fillmode\":\"overlay\",\"size\":10,\"solidity\":0.2}},\"type\":\"histogram\"}],\"scattergl\":[{\"type\":\"scattergl\",\"marker\":{\"colorbar\":{\"outlinewidth\":0,\"ticks\":\"\"}}}],\"scatter3d\":[{\"type\":\"scatter3d\",\"line\":{\"colorbar\":{\"outlinewidth\":0,\"ticks\":\"\"}},\"marker\":{\"colorbar\":{\"outlinewidth\":0,\"ticks\":\"\"}}}],\"scattermapbox\":[{\"type\":\"scattermapbox\",\"marker\":{\"colorbar\":{\"outlinewidth\":0,\"ticks\":\"\"}}}],\"scatterternary\":[{\"type\":\"scatterternary\",\"marker\":{\"colorbar\":{\"outlinewidth\":0,\"ticks\":\"\"}}}],\"scattercarpet\":[{\"type\":\"scattercarpet\",\"marker\":{\"colorbar\":{\"outlinewidth\":0,\"ticks\":\"\"}}}],\"carpet\":[{\"aaxis\":{\"endlinecolor\":\"#2a3f5f\",\"gridcolor\":\"white\",\"linecolor\":\"white\",\"minorgridcolor\":\"white\",\"startlinecolor\":\"#2a3f5f\"},\"baxis\":{\"endlinecolor\":\"#2a3f5f\",\"gridcolor\":\"white\",\"linecolor\":\"white\",\"minorgridcolor\":\"white\",\"startlinecolor\":\"#2a3f5f\"},\"type\":\"carpet\"}],\"table\":[{\"cells\":{\"fill\":{\"color\":\"#EBF0F8\"},\"line\":{\"color\":\"white\"}},\"header\":{\"fill\":{\"color\":\"#C8D4E3\"},\"line\":{\"color\":\"white\"}},\"type\":\"table\"}],\"barpolar\":[{\"marker\":{\"line\":{\"color\":\"#E5ECF6\",\"width\":0.5},\"pattern\":{\"fillmode\":\"overlay\",\"size\":10,\"solidity\":0.2}},\"type\":\"barpolar\"}],\"pie\":[{\"automargin\":true,\"type\":\"pie\"}]},\"layout\":{\"autotypenumbers\":\"strict\",\"colorway\":[\"#636efa\",\"#EF553B\",\"#00cc96\",\"#ab63fa\",\"#FFA15A\",\"#19d3f3\",\"#FF6692\",\"#B6E880\",\"#FF97FF\",\"#FECB52\"],\"font\":{\"color\":\"#2a3f5f\"},\"hovermode\":\"closest\",\"hoverlabel\":{\"align\":\"left\"},\"paper_bgcolor\":\"white\",\"plot_bgcolor\":\"#E5ECF6\",\"polar\":{\"bgcolor\":\"#E5ECF6\",\"angularaxis\":{\"gridcolor\":\"white\",\"linecolor\":\"white\",\"ticks\":\"\"},\"radialaxis\":{\"gridcolor\":\"white\",\"linecolor\":\"white\",\"ticks\":\"\"}},\"ternary\":{\"bgcolor\":\"#E5ECF6\",\"aaxis\":{\"gridcolor\":\"white\",\"linecolor\":\"white\",\"ticks\":\"\"},\"baxis\":{\"gridcolor\":\"white\",\"linecolor\":\"white\",\"ticks\":\"\"},\"caxis\":{\"gridcolor\":\"white\",\"linecolor\":\"white\",\"ticks\":\"\"}},\"coloraxis\":{\"colorbar\":{\"outlinewidth\":0,\"ticks\":\"\"}},\"colorscale\":{\"sequential\":[[0.0,\"#0d0887\"],[0.1111111111111111,\"#46039f\"],[0.2222222222222222,\"#7201a8\"],[0.3333333333333333,\"#9c179e\"],[0.4444444444444444,\"#bd3786\"],[0.5555555555555556,\"#d8576b\"],[0.6666666666666666,\"#ed7953\"],[0.7777777777777778,\"#fb9f3a\"],[0.8888888888888888,\"#fdca26\"],[1.0,\"#f0f921\"]],\"sequentialminus\":[[0.0,\"#0d0887\"],[0.1111111111111111,\"#46039f\"],[0.2222222222222222,\"#7201a8\"],[0.3333333333333333,\"#9c179e\"],[0.4444444444444444,\"#bd3786\"],[0.5555555555555556,\"#d8576b\"],[0.6666666666666666,\"#ed7953\"],[0.7777777777777778,\"#fb9f3a\"],[0.8888888888888888,\"#fdca26\"],[1.0,\"#f0f921\"]],\"diverging\":[[0,\"#8e0152\"],[0.1,\"#c51b7d\"],[0.2,\"#de77ae\"],[0.3,\"#f1b6da\"],[0.4,\"#fde0ef\"],[0.5,\"#f7f7f7\"],[0.6,\"#e6f5d0\"],[0.7,\"#b8e186\"],[0.8,\"#7fbc41\"],[0.9,\"#4d9221\"],[1,\"#276419\"]]},\"xaxis\":{\"gridcolor\":\"white\",\"linecolor\":\"white\",\"ticks\":\"\",\"title\":{\"standoff\":15},\"zerolinecolor\":\"white\",\"automargin\":true,\"zerolinewidth\":2},\"yaxis\":{\"gridcolor\":\"white\",\"linecolor\":\"white\",\"ticks\":\"\",\"title\":{\"standoff\":15},\"zerolinecolor\":\"white\",\"automargin\":true,\"zerolinewidth\":2},\"scene\":{\"xaxis\":{\"backgroundcolor\":\"#E5ECF6\",\"gridcolor\":\"white\",\"linecolor\":\"white\",\"showbackground\":true,\"ticks\":\"\",\"zerolinecolor\":\"white\",\"gridwidth\":2},\"yaxis\":{\"backgroundcolor\":\"#E5ECF6\",\"gridcolor\":\"white\",\"linecolor\":\"white\",\"showbackground\":true,\"ticks\":\"\",\"zerolinecolor\":\"white\",\"gridwidth\":2},\"zaxis\":{\"backgroundcolor\":\"#E5ECF6\",\"gridcolor\":\"white\",\"linecolor\":\"white\",\"showbackground\":true,\"ticks\":\"\",\"zerolinecolor\":\"white\",\"gridwidth\":2}},\"shapedefaults\":{\"line\":{\"color\":\"#2a3f5f\"}},\"annotationdefaults\":{\"arrowcolor\":\"#2a3f5f\",\"arrowhead\":0,\"arrowwidth\":1},\"geo\":{\"bgcolor\":\"white\",\"landcolor\":\"#E5ECF6\",\"subunitcolor\":\"white\",\"showland\":true,\"showlakes\":true,\"lakecolor\":\"white\"},\"title\":{\"x\":0.05},\"mapbox\":{\"style\":\"light\"}}},\"xaxis\":{\"anchor\":\"y\",\"domain\":[0.0,1.0],\"showgrid\":false,\"gridcolor\":\"black\",\"linecolor\":\"black\",\"range\":[0,0.4],\"dtick\":0.05,\"fixedrange\":true},\"yaxis\":{\"anchor\":\"x\",\"domain\":[0.9200000000000002,1.0],\"showgrid\":false,\"showline\":false,\"showticklabels\":false,\"zeroline\":false,\"color\":\"black\",\"autorange\":true,\"rangemode\":\"normal\",\"fixedrange\":true},\"xaxis2\":{\"anchor\":\"y2\",\"domain\":[0.0,1.0],\"fixedrange\":false,\"range\":[100000.0,957359.9999999997],\"title\":{\"text\":\"price\"}},\"yaxis2\":{\"anchor\":\"x2\",\"domain\":[0.0,0.7200000000000001],\"title\":{\"text\":\"Probability Density\"},\"fixedrange\":true},\"annotations\":[{\"font\":{\"size\":16},\"showarrow\":false,\"text\":\"Drift Score (Kolmogorov-Smirnov)\",\"x\":0.5,\"xanchor\":\"center\",\"xref\":\"paper\",\"y\":1.0,\"yanchor\":\"bottom\",\"yref\":\"paper\"},{\"font\":{\"size\":16},\"showarrow\":false,\"text\":\"Distribution Plot\",\"x\":0.5,\"xanchor\":\"center\",\"xref\":\"paper\",\"y\":0.7200000000000001,\"yanchor\":\"bottom\",\"yref\":\"paper\"}],\"legend\":{\"title\":{\"text\":\"Legend\"},\"yanchor\":\"top\",\"y\":0.6},\"title\":{\"text\":\"price\",\"x\":0.5,\"xanchor\":\"center\"},\"height\":400,\"bargroupgap\":0}}",
           "type": "plotly"
          }
         ],
         "header": "Label Drift",
         "type": "CheckResult",
         "value": {
          "Drift score": {
           "dtype": "float64",
           "value": 0.04092664092664089
          },
          "Method": "Kolmogorov-Smirnov"
         }
        },
        {
         "check": {
          "name": "Multivariate Drift",
          "params": {
           "max_num_categories_for_display": 10,
           "min_feature_importance": 0.05,
           "min_meaningful_drift_score": 0.05,
           "n_samples": 10000,
           "n_top_columns": 3,
           "random_state": 42,
           "show_categories_by": "largest_difference",
           "test_size": 0.3
          },
          "summary": "    Calculate drift between the entire train and test datasets using a model trained to distinguish between them. <a href=\"https://docs.deepchecks.com/0.17/tabular/auto_checks/train_test_validation/plot_multivariate_drift.html?utm_source=display_output&utm_medium=referral&utm_campaign=check_link\" target=\"_blank\">Read More...</a>"
         },
         "conditions_results": [
          {
           "Condition": "Drift value is less than 0.25",
           "More Info": "Found drift value of: 0.06, corresponding to a domain classifier AUC of: 0.53",
           "Status": "PASS"
          }
         ],
         "display": [
          {
           "payload": "\n        <span>\n        The shown features are the features that are most important for the domain classifier - the\n        domain_classifier trained to distinguish between the train and test datasets.<br>\n        </span>\n        ",
           "type": "html"
          },
          {
           "payload": "\n    <span>\n    The percents of explained dataset difference are the importance values for the feature calculated\n    using `permutation_importance`.\n    </span><br><br>\n    ",
           "type": "html"
          },
          {
           "payload": "{\"data\":[{\"base\":0,\"marker\":{\"color\":\"#01B8AA\"},\"offsetgroup\":\"0\",\"orientation\":\"h\",\"showlegend\":false,\"x\":[0.05549518988683633],\"y\":[\"Drift Score\"],\"type\":\"bar\"}],\"layout\":{\"height\":200,\"title\":{\"text\":\"Drift Score - Multivariable\"},\"xaxis\":{\"dtick\":0.05,\"fixedrange\":true,\"gridcolor\":\"black\",\"linecolor\":\"black\",\"range\":[0,0.4],\"showgrid\":false,\"title\":{\"text\":\"Drift score\"}},\"yaxis\":{\"autorange\":true,\"color\":\"black\",\"fixedrange\":true,\"rangemode\":\"normal\",\"showgrid\":false,\"showline\":false,\"showticklabels\":false,\"zeroline\":false},\"template\":{\"data\":{\"histogram2dcontour\":[{\"type\":\"histogram2dcontour\",\"colorbar\":{\"outlinewidth\":0,\"ticks\":\"\"},\"colorscale\":[[0.0,\"#0d0887\"],[0.1111111111111111,\"#46039f\"],[0.2222222222222222,\"#7201a8\"],[0.3333333333333333,\"#9c179e\"],[0.4444444444444444,\"#bd3786\"],[0.5555555555555556,\"#d8576b\"],[0.6666666666666666,\"#ed7953\"],[0.7777777777777778,\"#fb9f3a\"],[0.8888888888888888,\"#fdca26\"],[1.0,\"#f0f921\"]]}],\"choropleth\":[{\"type\":\"choropleth\",\"colorbar\":{\"outlinewidth\":0,\"ticks\":\"\"}}],\"histogram2d\":[{\"type\":\"histogram2d\",\"colorbar\":{\"outlinewidth\":0,\"ticks\":\"\"},\"colorscale\":[[0.0,\"#0d0887\"],[0.1111111111111111,\"#46039f\"],[0.2222222222222222,\"#7201a8\"],[0.3333333333333333,\"#9c179e\"],[0.4444444444444444,\"#bd3786\"],[0.5555555555555556,\"#d8576b\"],[0.6666666666666666,\"#ed7953\"],[0.7777777777777778,\"#fb9f3a\"],[0.8888888888888888,\"#fdca26\"],[1.0,\"#f0f921\"]]}],\"heatmap\":[{\"type\":\"heatmap\",\"colorbar\":{\"outlinewidth\":0,\"ticks\":\"\"},\"colorscale\":[[0.0,\"#0d0887\"],[0.1111111111111111,\"#46039f\"],[0.2222222222222222,\"#7201a8\"],[0.3333333333333333,\"#9c179e\"],[0.4444444444444444,\"#bd3786\"],[0.5555555555555556,\"#d8576b\"],[0.6666666666666666,\"#ed7953\"],[0.7777777777777778,\"#fb9f3a\"],[0.8888888888888888,\"#fdca26\"],[1.0,\"#f0f921\"]]}],\"heatmapgl\":[{\"type\":\"heatmapgl\",\"colorbar\":{\"outlinewidth\":0,\"ticks\":\"\"},\"colorscale\":[[0.0,\"#0d0887\"],[0.1111111111111111,\"#46039f\"],[0.2222222222222222,\"#7201a8\"],[0.3333333333333333,\"#9c179e\"],[0.4444444444444444,\"#bd3786\"],[0.5555555555555556,\"#d8576b\"],[0.6666666666666666,\"#ed7953\"],[0.7777777777777778,\"#fb9f3a\"],[0.8888888888888888,\"#fdca26\"],[1.0,\"#f0f921\"]]}],\"contourcarpet\":[{\"type\":\"contourcarpet\",\"colorbar\":{\"outlinewidth\":0,\"ticks\":\"\"}}],\"contour\":[{\"type\":\"contour\",\"colorbar\":{\"outlinewidth\":0,\"ticks\":\"\"},\"colorscale\":[[0.0,\"#0d0887\"],[0.1111111111111111,\"#46039f\"],[0.2222222222222222,\"#7201a8\"],[0.3333333333333333,\"#9c179e\"],[0.4444444444444444,\"#bd3786\"],[0.5555555555555556,\"#d8576b\"],[0.6666666666666666,\"#ed7953\"],[0.7777777777777778,\"#fb9f3a\"],[0.8888888888888888,\"#fdca26\"],[1.0,\"#f0f921\"]]}],\"surface\":[{\"type\":\"surface\",\"colorbar\":{\"outlinewidth\":0,\"ticks\":\"\"},\"colorscale\":[[0.0,\"#0d0887\"],[0.1111111111111111,\"#46039f\"],[0.2222222222222222,\"#7201a8\"],[0.3333333333333333,\"#9c179e\"],[0.4444444444444444,\"#bd3786\"],[0.5555555555555556,\"#d8576b\"],[0.6666666666666666,\"#ed7953\"],[0.7777777777777778,\"#fb9f3a\"],[0.8888888888888888,\"#fdca26\"],[1.0,\"#f0f921\"]]}],\"mesh3d\":[{\"type\":\"mesh3d\",\"colorbar\":{\"outlinewidth\":0,\"ticks\":\"\"}}],\"scatter\":[{\"fillpattern\":{\"fillmode\":\"overlay\",\"size\":10,\"solidity\":0.2},\"type\":\"scatter\"}],\"parcoords\":[{\"type\":\"parcoords\",\"line\":{\"colorbar\":{\"outlinewidth\":0,\"ticks\":\"\"}}}],\"scatterpolargl\":[{\"type\":\"scatterpolargl\",\"marker\":{\"colorbar\":{\"outlinewidth\":0,\"ticks\":\"\"}}}],\"bar\":[{\"error_x\":{\"color\":\"#2a3f5f\"},\"error_y\":{\"color\":\"#2a3f5f\"},\"marker\":{\"line\":{\"color\":\"#E5ECF6\",\"width\":0.5},\"pattern\":{\"fillmode\":\"overlay\",\"size\":10,\"solidity\":0.2}},\"type\":\"bar\"}],\"scattergeo\":[{\"type\":\"scattergeo\",\"marker\":{\"colorbar\":{\"outlinewidth\":0,\"ticks\":\"\"}}}],\"scatterpolar\":[{\"type\":\"scatterpolar\",\"marker\":{\"colorbar\":{\"outlinewidth\":0,\"ticks\":\"\"}}}],\"histogram\":[{\"marker\":{\"pattern\":{\"fillmode\":\"overlay\",\"size\":10,\"solidity\":0.2}},\"type\":\"histogram\"}],\"scattergl\":[{\"type\":\"scattergl\",\"marker\":{\"colorbar\":{\"outlinewidth\":0,\"ticks\":\"\"}}}],\"scatter3d\":[{\"type\":\"scatter3d\",\"line\":{\"colorbar\":{\"outlinewidth\":0,\"ticks\":\"\"}},\"marker\":{\"colorbar\":{\"outlinewidth\":0,\"ticks\":\"\"}}}],\"scattermapbox\":[{\"type\":\"scattermapbox\",\"marker\":{\"colorbar\":{\"outlinewidth\":0,\"ticks\":\"\"}}}],\"scatterternary\":[{\"type\":\"scatterternary\",\"marker\":{\"colorbar\":{\"outlinewidth\":0,\"ticks\":\"\"}}}],\"scattercarpet\":[{\"type\":\"scattercarpet\",\"marker\":{\"colorbar\":{\"outlinewidth\":0,\"ticks\":\"\"}}}],\"carpet\":[{\"aaxis\":{\"endlinecolor\":\"#2a3f5f\",\"gridcolor\":\"white\",\"linecolor\":\"white\",\"minorgridcolor\":\"white\",\"startlinecolor\":\"#2a3f5f\"},\"baxis\":{\"endlinecolor\":\"#2a3f5f\",\"gridcolor\":\"white\",\"linecolor\":\"white\",\"minorgridcolor\":\"white\",\"startlinecolor\":\"#2a3f5f\"},\"type\":\"carpet\"}],\"table\":[{\"cells\":{\"fill\":{\"color\":\"#EBF0F8\"},\"line\":{\"color\":\"white\"}},\"header\":{\"fill\":{\"color\":\"#C8D4E3\"},\"line\":{\"color\":\"white\"}},\"type\":\"table\"}],\"barpolar\":[{\"marker\":{\"line\":{\"color\":\"#E5ECF6\",\"width\":0.5},\"pattern\":{\"fillmode\":\"overlay\",\"size\":10,\"solidity\":0.2}},\"type\":\"barpolar\"}],\"pie\":[{\"automargin\":true,\"type\":\"pie\"}]},\"layout\":{\"autotypenumbers\":\"strict\",\"colorway\":[\"#636efa\",\"#EF553B\",\"#00cc96\",\"#ab63fa\",\"#FFA15A\",\"#19d3f3\",\"#FF6692\",\"#B6E880\",\"#FF97FF\",\"#FECB52\"],\"font\":{\"color\":\"#2a3f5f\"},\"hovermode\":\"closest\",\"hoverlabel\":{\"align\":\"left\"},\"paper_bgcolor\":\"white\",\"plot_bgcolor\":\"#E5ECF6\",\"polar\":{\"bgcolor\":\"#E5ECF6\",\"angularaxis\":{\"gridcolor\":\"white\",\"linecolor\":\"white\",\"ticks\":\"\"},\"radialaxis\":{\"gridcolor\":\"white\",\"linecolor\":\"white\",\"ticks\":\"\"}},\"ternary\":{\"bgcolor\":\"#E5ECF6\",\"aaxis\":{\"gridcolor\":\"white\",\"linecolor\":\"white\",\"ticks\":\"\"},\"baxis\":{\"gridcolor\":\"white\",\"linecolor\":\"white\",\"ticks\":\"\"},\"caxis\":{\"gridcolor\":\"white\",\"linecolor\":\"white\",\"ticks\":\"\"}},\"coloraxis\":{\"colorbar\":{\"outlinewidth\":0,\"ticks\":\"\"}},\"colorscale\":{\"sequential\":[[0.0,\"#0d0887\"],[0.1111111111111111,\"#46039f\"],[0.2222222222222222,\"#7201a8\"],[0.3333333333333333,\"#9c179e\"],[0.4444444444444444,\"#bd3786\"],[0.5555555555555556,\"#d8576b\"],[0.6666666666666666,\"#ed7953\"],[0.7777777777777778,\"#fb9f3a\"],[0.8888888888888888,\"#fdca26\"],[1.0,\"#f0f921\"]],\"sequentialminus\":[[0.0,\"#0d0887\"],[0.1111111111111111,\"#46039f\"],[0.2222222222222222,\"#7201a8\"],[0.3333333333333333,\"#9c179e\"],[0.4444444444444444,\"#bd3786\"],[0.5555555555555556,\"#d8576b\"],[0.6666666666666666,\"#ed7953\"],[0.7777777777777778,\"#fb9f3a\"],[0.8888888888888888,\"#fdca26\"],[1.0,\"#f0f921\"]],\"diverging\":[[0,\"#8e0152\"],[0.1,\"#c51b7d\"],[0.2,\"#de77ae\"],[0.3,\"#f1b6da\"],[0.4,\"#fde0ef\"],[0.5,\"#f7f7f7\"],[0.6,\"#e6f5d0\"],[0.7,\"#b8e186\"],[0.8,\"#7fbc41\"],[0.9,\"#4d9221\"],[1,\"#276419\"]]},\"xaxis\":{\"gridcolor\":\"white\",\"linecolor\":\"white\",\"ticks\":\"\",\"title\":{\"standoff\":15},\"zerolinecolor\":\"white\",\"automargin\":true,\"zerolinewidth\":2},\"yaxis\":{\"gridcolor\":\"white\",\"linecolor\":\"white\",\"ticks\":\"\",\"title\":{\"standoff\":15},\"zerolinecolor\":\"white\",\"automargin\":true,\"zerolinewidth\":2},\"scene\":{\"xaxis\":{\"backgroundcolor\":\"#E5ECF6\",\"gridcolor\":\"white\",\"linecolor\":\"white\",\"showbackground\":true,\"ticks\":\"\",\"zerolinecolor\":\"white\",\"gridwidth\":2},\"yaxis\":{\"backgroundcolor\":\"#E5ECF6\",\"gridcolor\":\"white\",\"linecolor\":\"white\",\"showbackground\":true,\"ticks\":\"\",\"zerolinecolor\":\"white\",\"gridwidth\":2},\"zaxis\":{\"backgroundcolor\":\"#E5ECF6\",\"gridcolor\":\"white\",\"linecolor\":\"white\",\"showbackground\":true,\"ticks\":\"\",\"zerolinecolor\":\"white\",\"gridwidth\":2}},\"shapedefaults\":{\"line\":{\"color\":\"#2a3f5f\"}},\"annotationdefaults\":{\"arrowcolor\":\"#2a3f5f\",\"arrowhead\":0,\"arrowwidth\":1},\"geo\":{\"bgcolor\":\"white\",\"landcolor\":\"#E5ECF6\",\"subunitcolor\":\"white\",\"showland\":true,\"showlakes\":true,\"lakecolor\":\"white\"},\"title\":{\"x\":0.05},\"mapbox\":{\"style\":\"light\"}}}}}",
           "type": "plotly"
          },
          {
           "payload": "<h3>Main features contributing to drift</h3>",
           "type": "html"
          },
          {
           "payload": "Showing only the top 3 columns, you can change it using n_top_columns param",
           "type": "html"
          },
          {
           "payload": "For discrete distribution plots, showing the top 10 categories with largest difference between train and test.",
           "type": "html"
          },
          {
           "payload": "{\"data\":[{\"marker\":{\"color\":\"#00008b\"},\"name\":\"Train Dataset\",\"x\":[2006.0,2007.0,2008.0,2009.0,2010.0,2011.0,2012.0,2013.0,2014.0,2015.0,2016.0,2017.0,2018.0,2019.0,2020.0],\"y\":[0.009266409266409266,0.013899613899613899,0.016216216216216217,0.03861003861003861,0.055598455598455596,0.09420849420849421,0.09420849420849421,0.08416988416988418,0.09266409266409266,0.0918918918918919,0.12432432432432433,0.12586872586872586,0.0972972972972973,0.05019305019305019,0.011583011583011582],\"type\":\"bar\"},{\"marker\":{\"color\":\"#69b3a2\"},\"name\":\"Test Dataset\",\"x\":[2006.0,2007.0,2008.0,2009.0,2010.0,2011.0,2012.0,2013.0,2014.0,2015.0,2016.0,2017.0,2018.0,2019.0,2020.0],\"y\":[0.009266409266409266,0.01776061776061776,0.015444015444015444,0.023166023166023165,0.039382239382239385,0.06640926640926641,0.09498069498069497,0.10347490347490347,0.08416988416988418,0.10888030888030888,0.12818532818532818,0.12432432432432433,0.10656370656370656,0.07104247104247104,0.0069498069498069494],\"type\":\"bar\"}],\"layout\":{\"template\":{\"data\":{\"histogram2dcontour\":[{\"type\":\"histogram2dcontour\",\"colorbar\":{\"outlinewidth\":0,\"ticks\":\"\"},\"colorscale\":[[0.0,\"#0d0887\"],[0.1111111111111111,\"#46039f\"],[0.2222222222222222,\"#7201a8\"],[0.3333333333333333,\"#9c179e\"],[0.4444444444444444,\"#bd3786\"],[0.5555555555555556,\"#d8576b\"],[0.6666666666666666,\"#ed7953\"],[0.7777777777777778,\"#fb9f3a\"],[0.8888888888888888,\"#fdca26\"],[1.0,\"#f0f921\"]]}],\"choropleth\":[{\"type\":\"choropleth\",\"colorbar\":{\"outlinewidth\":0,\"ticks\":\"\"}}],\"histogram2d\":[{\"type\":\"histogram2d\",\"colorbar\":{\"outlinewidth\":0,\"ticks\":\"\"},\"colorscale\":[[0.0,\"#0d0887\"],[0.1111111111111111,\"#46039f\"],[0.2222222222222222,\"#7201a8\"],[0.3333333333333333,\"#9c179e\"],[0.4444444444444444,\"#bd3786\"],[0.5555555555555556,\"#d8576b\"],[0.6666666666666666,\"#ed7953\"],[0.7777777777777778,\"#fb9f3a\"],[0.8888888888888888,\"#fdca26\"],[1.0,\"#f0f921\"]]}],\"heatmap\":[{\"type\":\"heatmap\",\"colorbar\":{\"outlinewidth\":0,\"ticks\":\"\"},\"colorscale\":[[0.0,\"#0d0887\"],[0.1111111111111111,\"#46039f\"],[0.2222222222222222,\"#7201a8\"],[0.3333333333333333,\"#9c179e\"],[0.4444444444444444,\"#bd3786\"],[0.5555555555555556,\"#d8576b\"],[0.6666666666666666,\"#ed7953\"],[0.7777777777777778,\"#fb9f3a\"],[0.8888888888888888,\"#fdca26\"],[1.0,\"#f0f921\"]]}],\"heatmapgl\":[{\"type\":\"heatmapgl\",\"colorbar\":{\"outlinewidth\":0,\"ticks\":\"\"},\"colorscale\":[[0.0,\"#0d0887\"],[0.1111111111111111,\"#46039f\"],[0.2222222222222222,\"#7201a8\"],[0.3333333333333333,\"#9c179e\"],[0.4444444444444444,\"#bd3786\"],[0.5555555555555556,\"#d8576b\"],[0.6666666666666666,\"#ed7953\"],[0.7777777777777778,\"#fb9f3a\"],[0.8888888888888888,\"#fdca26\"],[1.0,\"#f0f921\"]]}],\"contourcarpet\":[{\"type\":\"contourcarpet\",\"colorbar\":{\"outlinewidth\":0,\"ticks\":\"\"}}],\"contour\":[{\"type\":\"contour\",\"colorbar\":{\"outlinewidth\":0,\"ticks\":\"\"},\"colorscale\":[[0.0,\"#0d0887\"],[0.1111111111111111,\"#46039f\"],[0.2222222222222222,\"#7201a8\"],[0.3333333333333333,\"#9c179e\"],[0.4444444444444444,\"#bd3786\"],[0.5555555555555556,\"#d8576b\"],[0.6666666666666666,\"#ed7953\"],[0.7777777777777778,\"#fb9f3a\"],[0.8888888888888888,\"#fdca26\"],[1.0,\"#f0f921\"]]}],\"surface\":[{\"type\":\"surface\",\"colorbar\":{\"outlinewidth\":0,\"ticks\":\"\"},\"colorscale\":[[0.0,\"#0d0887\"],[0.1111111111111111,\"#46039f\"],[0.2222222222222222,\"#7201a8\"],[0.3333333333333333,\"#9c179e\"],[0.4444444444444444,\"#bd3786\"],[0.5555555555555556,\"#d8576b\"],[0.6666666666666666,\"#ed7953\"],[0.7777777777777778,\"#fb9f3a\"],[0.8888888888888888,\"#fdca26\"],[1.0,\"#f0f921\"]]}],\"mesh3d\":[{\"type\":\"mesh3d\",\"colorbar\":{\"outlinewidth\":0,\"ticks\":\"\"}}],\"scatter\":[{\"fillpattern\":{\"fillmode\":\"overlay\",\"size\":10,\"solidity\":0.2},\"type\":\"scatter\"}],\"parcoords\":[{\"type\":\"parcoords\",\"line\":{\"colorbar\":{\"outlinewidth\":0,\"ticks\":\"\"}}}],\"scatterpolargl\":[{\"type\":\"scatterpolargl\",\"marker\":{\"colorbar\":{\"outlinewidth\":0,\"ticks\":\"\"}}}],\"bar\":[{\"error_x\":{\"color\":\"#2a3f5f\"},\"error_y\":{\"color\":\"#2a3f5f\"},\"marker\":{\"line\":{\"color\":\"#E5ECF6\",\"width\":0.5},\"pattern\":{\"fillmode\":\"overlay\",\"size\":10,\"solidity\":0.2}},\"type\":\"bar\"}],\"scattergeo\":[{\"type\":\"scattergeo\",\"marker\":{\"colorbar\":{\"outlinewidth\":0,\"ticks\":\"\"}}}],\"scatterpolar\":[{\"type\":\"scatterpolar\",\"marker\":{\"colorbar\":{\"outlinewidth\":0,\"ticks\":\"\"}}}],\"histogram\":[{\"marker\":{\"pattern\":{\"fillmode\":\"overlay\",\"size\":10,\"solidity\":0.2}},\"type\":\"histogram\"}],\"scattergl\":[{\"type\":\"scattergl\",\"marker\":{\"colorbar\":{\"outlinewidth\":0,\"ticks\":\"\"}}}],\"scatter3d\":[{\"type\":\"scatter3d\",\"line\":{\"colorbar\":{\"outlinewidth\":0,\"ticks\":\"\"}},\"marker\":{\"colorbar\":{\"outlinewidth\":0,\"ticks\":\"\"}}}],\"scattermapbox\":[{\"type\":\"scattermapbox\",\"marker\":{\"colorbar\":{\"outlinewidth\":0,\"ticks\":\"\"}}}],\"scatterternary\":[{\"type\":\"scatterternary\",\"marker\":{\"colorbar\":{\"outlinewidth\":0,\"ticks\":\"\"}}}],\"scattercarpet\":[{\"type\":\"scattercarpet\",\"marker\":{\"colorbar\":{\"outlinewidth\":0,\"ticks\":\"\"}}}],\"carpet\":[{\"aaxis\":{\"endlinecolor\":\"#2a3f5f\",\"gridcolor\":\"white\",\"linecolor\":\"white\",\"minorgridcolor\":\"white\",\"startlinecolor\":\"#2a3f5f\"},\"baxis\":{\"endlinecolor\":\"#2a3f5f\",\"gridcolor\":\"white\",\"linecolor\":\"white\",\"minorgridcolor\":\"white\",\"startlinecolor\":\"#2a3f5f\"},\"type\":\"carpet\"}],\"table\":[{\"cells\":{\"fill\":{\"color\":\"#EBF0F8\"},\"line\":{\"color\":\"white\"}},\"header\":{\"fill\":{\"color\":\"#C8D4E3\"},\"line\":{\"color\":\"white\"}},\"type\":\"table\"}],\"barpolar\":[{\"marker\":{\"line\":{\"color\":\"#E5ECF6\",\"width\":0.5},\"pattern\":{\"fillmode\":\"overlay\",\"size\":10,\"solidity\":0.2}},\"type\":\"barpolar\"}],\"pie\":[{\"automargin\":true,\"type\":\"pie\"}]},\"layout\":{\"autotypenumbers\":\"strict\",\"colorway\":[\"#636efa\",\"#EF553B\",\"#00cc96\",\"#ab63fa\",\"#FFA15A\",\"#19d3f3\",\"#FF6692\",\"#B6E880\",\"#FF97FF\",\"#FECB52\"],\"font\":{\"color\":\"#2a3f5f\"},\"hovermode\":\"closest\",\"hoverlabel\":{\"align\":\"left\"},\"paper_bgcolor\":\"white\",\"plot_bgcolor\":\"#E5ECF6\",\"polar\":{\"bgcolor\":\"#E5ECF6\",\"angularaxis\":{\"gridcolor\":\"white\",\"linecolor\":\"white\",\"ticks\":\"\"},\"radialaxis\":{\"gridcolor\":\"white\",\"linecolor\":\"white\",\"ticks\":\"\"}},\"ternary\":{\"bgcolor\":\"#E5ECF6\",\"aaxis\":{\"gridcolor\":\"white\",\"linecolor\":\"white\",\"ticks\":\"\"},\"baxis\":{\"gridcolor\":\"white\",\"linecolor\":\"white\",\"ticks\":\"\"},\"caxis\":{\"gridcolor\":\"white\",\"linecolor\":\"white\",\"ticks\":\"\"}},\"coloraxis\":{\"colorbar\":{\"outlinewidth\":0,\"ticks\":\"\"}},\"colorscale\":{\"sequential\":[[0.0,\"#0d0887\"],[0.1111111111111111,\"#46039f\"],[0.2222222222222222,\"#7201a8\"],[0.3333333333333333,\"#9c179e\"],[0.4444444444444444,\"#bd3786\"],[0.5555555555555556,\"#d8576b\"],[0.6666666666666666,\"#ed7953\"],[0.7777777777777778,\"#fb9f3a\"],[0.8888888888888888,\"#fdca26\"],[1.0,\"#f0f921\"]],\"sequentialminus\":[[0.0,\"#0d0887\"],[0.1111111111111111,\"#46039f\"],[0.2222222222222222,\"#7201a8\"],[0.3333333333333333,\"#9c179e\"],[0.4444444444444444,\"#bd3786\"],[0.5555555555555556,\"#d8576b\"],[0.6666666666666666,\"#ed7953\"],[0.7777777777777778,\"#fb9f3a\"],[0.8888888888888888,\"#fdca26\"],[1.0,\"#f0f921\"]],\"diverging\":[[0,\"#8e0152\"],[0.1,\"#c51b7d\"],[0.2,\"#de77ae\"],[0.3,\"#f1b6da\"],[0.4,\"#fde0ef\"],[0.5,\"#f7f7f7\"],[0.6,\"#e6f5d0\"],[0.7,\"#b8e186\"],[0.8,\"#7fbc41\"],[0.9,\"#4d9221\"],[1,\"#276419\"]]},\"xaxis\":{\"gridcolor\":\"white\",\"linecolor\":\"white\",\"ticks\":\"\",\"title\":{\"standoff\":15},\"zerolinecolor\":\"white\",\"automargin\":true,\"zerolinewidth\":2},\"yaxis\":{\"gridcolor\":\"white\",\"linecolor\":\"white\",\"ticks\":\"\",\"title\":{\"standoff\":15},\"zerolinecolor\":\"white\",\"automargin\":true,\"zerolinewidth\":2},\"scene\":{\"xaxis\":{\"backgroundcolor\":\"#E5ECF6\",\"gridcolor\":\"white\",\"linecolor\":\"white\",\"showbackground\":true,\"ticks\":\"\",\"zerolinecolor\":\"white\",\"gridwidth\":2},\"yaxis\":{\"backgroundcolor\":\"#E5ECF6\",\"gridcolor\":\"white\",\"linecolor\":\"white\",\"showbackground\":true,\"ticks\":\"\",\"zerolinecolor\":\"white\",\"gridwidth\":2},\"zaxis\":{\"backgroundcolor\":\"#E5ECF6\",\"gridcolor\":\"white\",\"linecolor\":\"white\",\"showbackground\":true,\"ticks\":\"\",\"zerolinecolor\":\"white\",\"gridwidth\":2}},\"shapedefaults\":{\"line\":{\"color\":\"#2a3f5f\"}},\"annotationdefaults\":{\"arrowcolor\":\"#2a3f5f\",\"arrowhead\":0,\"arrowwidth\":1},\"geo\":{\"bgcolor\":\"white\",\"landcolor\":\"#E5ECF6\",\"subunitcolor\":\"white\",\"showland\":true,\"showlakes\":true,\"lakecolor\":\"white\"},\"title\":{\"x\":0.05},\"mapbox\":{\"style\":\"light\"}}},\"legend\":{\"title\":{\"text\":\"Dataset\"},\"xanchor\":\"left\",\"y\":0.9,\"yanchor\":\"top\"},\"title\":{\"text\":\"Feature: vehicle_year - Explains 92.94% of dataset difference\"},\"xaxis\":{\"range\":[2003.2,2022.8],\"tickmode\":\"array\",\"ticks\":\"outside\",\"tickvals\":[2006.0,2007.0,2008.0,2009.0,2010.0,2011.0,2012.0,2013.0,2014.0,2015.0,2016.0,2017.0,2018.0,2019.0,2020.0]},\"yaxis\":{\"title\":{\"text\":\"Frequency\"},\"autorange\":true,\"fixedrange\":true,\"rangemode\":\"normal\"},\"height\":300}}",
           "type": "plotly"
          },
          {
           "payload": "{\"data\":[{\"fill\":\"tozeroy\",\"line\":{\"color\":\"#00008b\",\"shape\":\"linear\"},\"name\":\"Train Dataset\",\"x\":[0.0,4.045918367346939,8.091836734693878,12.137755102040817,16.183673469387756,20.229591836734695,24.275510204081634,28.321428571428573,32.36734693877551,36.413265306122454,40.45918367346939,44.505102040816325,46.3,46.3,46.3,47.3,47.3,48.55102040816327,52.59693877551021,53.3,55.2,55.2,56.642857142857146,57.6,60.68877551020408,61.7,62.1,62.1,63.0,63.0,64.73469387755102,65.32799999999999,67.0,67.0,67.04,67.04,67.048,67.05,67.1,67.1,68.0,68.05,68.78061224489797,69.0,69.0,70.0,70.0,72.82653061224491,73.0,73.0,73.9,73.9,73.97,74.0,74.0,74.0,74.0,74.0,74.02,74.02,75.0,76.38400000000001,76.87244897959184,78.9,80.91836734693878,81.8,81.8,81.8,81.83,81.83,81.83,81.86,81.86,81.86,82.0,82.0,82.82474227709983,83.1,83.14,83.67237642059291,84.0,84.0,84.96428571428572,85.8,85.8,88.5,88.5,88.5,88.5,88.7,88.7,88.73,88.73,88.73,88.76,88.76,88.8,89.01020408163265,90.0,90.0,91.76934024567429,91.76934024567429,93.0561224489796,94.01360000000005,94.9608,97.10204081632654,98.6,98.6,98.848,99.0,100.0,101.14795918367348,102.5,103.248,103.6,103.6,105.19387755102042,108.5,108.5,109.23979591836735,113.28571428571429,113.42,117.3,117.33163265306123,120.0,120.0,121.3216,121.37755102040816,122.22800000000029,125.4234693877551,126.32,126.32,129.46938775510205,133.51530612244898,137.56122448979593,140.0,140.0,141.60714285714286,145.65306122448982,149.69897959183675,153.74489795918367,157.79081632653063,161.83673469387756,165.8826530612245,169.92857142857144,173.97448979591837,178.0204081632653,182.06632653061226,186.1122448979592,190.15816326530614,194.20408163265307,198.25],\"y\":[0.0001097769899009039,0.0000846584526832082,0.00003883549402815711,0.000010777090061737838,4.468387641114058e-6,0.00002486965177144804,0.00013591319591833205,0.000466192966954546,0.0010517611257876759,0.0017887072381707625,0.002756414464014274,0.003914647291193528,0.004336705902398164,0.004336705902398164,0.004336705902398164,0.004521748047117552,0.004521748047117552,0.004706510703518104,0.005286516437665605,0.005461553630427735,0.006185683521784241,0.006185683521784241,0.00704836025062312,0.007791325934619216,0.011075946256688424,0.01237104425250804,0.012898201902634906,0.012898201902634906,0.014094241065879585,0.014094241065879585,0.016323940799273667,0.01702748824994567,0.018741321140493556,0.018741321140493556,0.018776582633125077,0.018776582633125077,0.01878359978583697,0.01878535223989401,0.018828924600795282,0.018828924600795282,0.01953216611338039,0.019566613833165953,0.020013038045346855,0.020126193219550708,0.020126193219550708,0.02052133569927558,0.02052133569927558,0.02070568473732257,0.02068253118997158,0.02068253118997158,0.020523338710857514,0.020523338710857514,0.020508785776942973,0.020502475314627355,0.020502475314627355,0.020502475314627355,0.020502475314627355,0.020502475314627355,0.02049824474425158,0.02049824474425158,0.020275358536625755,0.019964245966390633,0.019872288916745365,0.019678752842812862,0.019825784875316766,0.01996603636183799,0.01996603636183799,0.01996603636183799,0.019971193674045422,0.019971193674045422,0.019971193674045422,0.019976364817396033,0.019976364817396033,0.019976364817396033,0.020000645427734647,0.020000645427734647,0.020142703334180122,0.020186801264073944,0.020192955335145948,0.020266587330808664,0.020302151410966078,0.020302151410966078,0.020345330015670477,0.020284543810365045,0.020284543810365045,0.019240551922882255,0.019240551922882255,0.019240551922882255,0.019240551922882255,0.01910697558735193,0.01910697558735193,0.01908628303683318,0.01908628303683318,0.01908628303683318,0.019065420715734676,0.019065420715734676,0.01903734109368191,0.018884886600370215,0.018062921602505513,0.018062921602505513,0.01625615706320747,0.01625615706320747,0.01479874128402,0.01371174054395329,0.012679299065559022,0.01063992585522878,0.009499601729155377,0.009499601729155377,0.009331967338970298,0.009231889903834663,0.008618688678871646,0.007991907650207335,0.0073217082836028275,0.00697038471428591,0.0068085077620101625,0.0068085077620101625,0.006101103609480431,0.004858174108349606,0.004858174108349606,0.0046504710943840915,0.004147650908621732,0.00414841199279544,0.004402330581136304,0.004404771945135639,0.0045019998379771005,0.0045019998379771005,0.004432616347772813,0.004427628929192991,0.004331056830483504,0.00366104366777457,0.003412945788004798,0.003412945788004798,0.0025386519687890467,0.0018841569472616445,0.001832393340009822,0.0018226518202599008,0.0018226518202599008,0.001752316643220422,0.001367926035301883,0.000889940990989854,0.00047547711930889466,0.00021073165308129816,0.00010263590844110231,0.00007250234002699485,0.00007411905270381375,0.00010080118884665018,0.00011887751936935588,0.00010416393960177509,0.00008148678666154558,0.00006323323855843463,0.00003885134141792721,0.00001551832373513293],\"type\":\"scatter\"},{\"line\":{\"color\":\"#00008b\",\"dash\":\"dash\"},\"mode\":\"lines+markers\",\"name\":\"Train Mean\",\"x\":[82.82474227709983,82.82474227709983],\"y\":[0,0.020142703334180122],\"type\":\"scatter\"},{\"line\":{\"color\":\"#00008b\"},\"mode\":\"lines\",\"name\":\"Train Median\",\"x\":[81.83,81.83],\"y\":[0,0.019971193674045422],\"type\":\"scatter\"},{\"fill\":\"tozeroy\",\"line\":{\"color\":\"#69b3a2\",\"shape\":\"linear\"},\"name\":\"Test Dataset\",\"x\":[0.0,4.045918367346939,8.091836734693878,12.137755102040817,16.183673469387756,20.229591836734695,24.275510204081634,28.321428571428573,32.36734693877551,36.413265306122454,40.45918367346939,44.505102040816325,46.3,46.3,46.3,47.3,47.3,48.55102040816327,52.59693877551021,53.3,55.2,55.2,56.642857142857146,57.6,60.68877551020408,61.7,62.1,62.1,63.0,63.0,64.73469387755102,65.32799999999999,67.0,67.0,67.04,67.04,67.048,67.05,67.1,67.1,68.0,68.05,68.78061224489797,69.0,69.0,70.0,70.0,72.82653061224491,73.0,73.0,73.9,73.9,73.97,74.0,74.0,74.0,74.0,74.0,74.02,74.02,75.0,76.38400000000001,76.87244897959184,78.9,80.91836734693878,81.8,81.8,81.8,81.83,81.83,81.83,81.86,81.86,81.86,82.0,82.0,82.82474227709983,83.1,83.14,83.67237642059291,84.0,84.0,84.96428571428572,85.8,85.8,88.5,88.5,88.5,88.5,88.7,88.7,88.73,88.73,88.73,88.76,88.76,88.8,89.01020408163265,90.0,90.0,91.76934024567429,91.76934024567429,93.0561224489796,94.01360000000005,94.9608,97.10204081632654,98.6,98.6,98.848,99.0,100.0,101.14795918367348,102.5,103.248,103.6,103.6,105.19387755102042,108.5,108.5,109.23979591836735,113.28571428571429,113.42,117.3,117.33163265306123,120.0,120.0,121.3216,121.37755102040816,122.22800000000029,125.4234693877551,126.32,126.32,129.46938775510205,133.51530612244898,137.56122448979593,140.0,140.0,141.60714285714286,145.65306122448982,149.69897959183675,153.74489795918367,157.79081632653063,161.83673469387756,165.8826530612245,169.92857142857144,173.97448979591837,178.0204081632653,182.06632653061226,186.1122448979592,190.15816326530614,194.20408163265307,198.25],\"y\":[6.493588096714898e-12,3.84550550451868e-10,1.3734641431736121e-8,2.968500971396465e-7,3.898937174333554e-6,0.000031292695959722664,0.0001547855692094882,0.000480810743337986,0.0009918438791456324,0.0015833216412832836,0.0024331197996963027,0.0036599827672849678,0.004212055137413484,0.004212055137413484,0.004212055137413484,0.004495540104496405,0.004495540104496405,0.004821318863604696,0.005791156096575608,0.005987084432702575,0.006648567874900061,0.006648567874900061,0.007339179927169115,0.007913898074323421,0.010482564651382987,0.011535237305048171,0.011971391380543877,0.011971391380543877,0.012978006913679048,0.012978006913679048,0.01492124546676676,0.015554130933809779,0.017145412187957853,0.017145412187957853,0.017179073577884823,0.017179073577884823,0.017185777839019093,0.017187452440872695,0.017229126590875835,0.017229126590875835,0.017913493058455025,0.01794771022309855,0.018399939355212565,0.018518052097709854,0.018518052097709854,0.018953147751076097,0.018953147751076097,0.019386476403942803,0.01938469362465272,0.01938469362465272,0.01934746037798983,0.01934746037798983,0.01934317033486508,0.019341292470306196,0.019341292470306196,0.019341292470306196,0.019341292470306196,0.019341292470306196,0.01934002836264682,0.01934002836264682,0.01927356081994887,0.01921842021693821,0.019225441728951628,0.0194730390462104,0.02005329780055942,0.020358103448775627,0.020358103448775627,0.020358103448775627,0.02036844583915476,0.02036844583915476,0.02036844583915476,0.020378771852904404,0.020378771852904404,0.020378771852904404,0.020426701330757156,0.020426701330757156,0.020693264214554936,0.020772776045647468,0.020783804240517307,0.020915511036314553,0.02098037196015309,0.02098037196015309,0.02108079140778464,0.021035849177191507,0.021035849177191507,0.019891315329444343,0.019891315329444343,0.019891315329444343,0.019891315329444343,0.019746045825609716,0.019746045825609716,0.019723603531445377,0.019723603531445377,0.019723603531445377,0.019700993888394212,0.019700993888394212,0.019670589056837277,0.019506042060081538,0.018633984547611563,0.018633984547611563,0.016799243036433542,0.016799243036433542,0.015393752652711961,0.014385942068275826,0.013459090767077814,0.011701316089151002,0.010734135899978422,0.010734135899978422,0.01058987319319547,0.01050321398804787,0.009959735083102057,0.009371142724432737,0.008691004480410458,0.008312099533862916,0.008132607325784766,0.008132607325784766,0.007314919894063832,0.005721190104906504,0.005721190104906504,0.005414702185644113,0.004277574632449499,0.004256585011374354,0.003995590776907777,0.0039951755989046265,0.003946218343091924,0.003946218343091924,0.0038682430776094978,0.0038636776816827977,0.003780336906281107,0.003242537769822359,0.0030449294320845474,0.0030449294320845474,0.002349120528750016,0.0018302995870783975,0.0017873074918757805,0.0017993121874761084,0.0017993121874761084,0.0017764146670916309,0.0015901335362689662,0.0012005943230819528,0.0006677481605282005,0.0002639281751320731,0.00010261792407619559,0.00005822826471882472,0.00003479689562630042,0.000032314525555890395,0.00006436147191553851,0.0001048585952021889,0.0001078244801024044,0.00007942738420899385,0.0000632557135151404,0.00005937026404301769],\"type\":\"scatter\"},{\"line\":{\"color\":\"#69b3a2\",\"dash\":\"dash\"},\"mode\":\"lines+markers\",\"name\":\"Test Mean\",\"x\":[83.67237642059291,83.67237642059291],\"y\":[0,0.020915511036314553],\"type\":\"scatter\"},{\"line\":{\"color\":\"#69b3a2\"},\"mode\":\"lines\",\"name\":\"Test Median\",\"x\":[81.86,81.86],\"y\":[0,0.020378771852904404],\"type\":\"scatter\"}],\"layout\":{\"template\":{\"data\":{\"histogram2dcontour\":[{\"type\":\"histogram2dcontour\",\"colorbar\":{\"outlinewidth\":0,\"ticks\":\"\"},\"colorscale\":[[0.0,\"#0d0887\"],[0.1111111111111111,\"#46039f\"],[0.2222222222222222,\"#7201a8\"],[0.3333333333333333,\"#9c179e\"],[0.4444444444444444,\"#bd3786\"],[0.5555555555555556,\"#d8576b\"],[0.6666666666666666,\"#ed7953\"],[0.7777777777777778,\"#fb9f3a\"],[0.8888888888888888,\"#fdca26\"],[1.0,\"#f0f921\"]]}],\"choropleth\":[{\"type\":\"choropleth\",\"colorbar\":{\"outlinewidth\":0,\"ticks\":\"\"}}],\"histogram2d\":[{\"type\":\"histogram2d\",\"colorbar\":{\"outlinewidth\":0,\"ticks\":\"\"},\"colorscale\":[[0.0,\"#0d0887\"],[0.1111111111111111,\"#46039f\"],[0.2222222222222222,\"#7201a8\"],[0.3333333333333333,\"#9c179e\"],[0.4444444444444444,\"#bd3786\"],[0.5555555555555556,\"#d8576b\"],[0.6666666666666666,\"#ed7953\"],[0.7777777777777778,\"#fb9f3a\"],[0.8888888888888888,\"#fdca26\"],[1.0,\"#f0f921\"]]}],\"heatmap\":[{\"type\":\"heatmap\",\"colorbar\":{\"outlinewidth\":0,\"ticks\":\"\"},\"colorscale\":[[0.0,\"#0d0887\"],[0.1111111111111111,\"#46039f\"],[0.2222222222222222,\"#7201a8\"],[0.3333333333333333,\"#9c179e\"],[0.4444444444444444,\"#bd3786\"],[0.5555555555555556,\"#d8576b\"],[0.6666666666666666,\"#ed7953\"],[0.7777777777777778,\"#fb9f3a\"],[0.8888888888888888,\"#fdca26\"],[1.0,\"#f0f921\"]]}],\"heatmapgl\":[{\"type\":\"heatmapgl\",\"colorbar\":{\"outlinewidth\":0,\"ticks\":\"\"},\"colorscale\":[[0.0,\"#0d0887\"],[0.1111111111111111,\"#46039f\"],[0.2222222222222222,\"#7201a8\"],[0.3333333333333333,\"#9c179e\"],[0.4444444444444444,\"#bd3786\"],[0.5555555555555556,\"#d8576b\"],[0.6666666666666666,\"#ed7953\"],[0.7777777777777778,\"#fb9f3a\"],[0.8888888888888888,\"#fdca26\"],[1.0,\"#f0f921\"]]}],\"contourcarpet\":[{\"type\":\"contourcarpet\",\"colorbar\":{\"outlinewidth\":0,\"ticks\":\"\"}}],\"contour\":[{\"type\":\"contour\",\"colorbar\":{\"outlinewidth\":0,\"ticks\":\"\"},\"colorscale\":[[0.0,\"#0d0887\"],[0.1111111111111111,\"#46039f\"],[0.2222222222222222,\"#7201a8\"],[0.3333333333333333,\"#9c179e\"],[0.4444444444444444,\"#bd3786\"],[0.5555555555555556,\"#d8576b\"],[0.6666666666666666,\"#ed7953\"],[0.7777777777777778,\"#fb9f3a\"],[0.8888888888888888,\"#fdca26\"],[1.0,\"#f0f921\"]]}],\"surface\":[{\"type\":\"surface\",\"colorbar\":{\"outlinewidth\":0,\"ticks\":\"\"},\"colorscale\":[[0.0,\"#0d0887\"],[0.1111111111111111,\"#46039f\"],[0.2222222222222222,\"#7201a8\"],[0.3333333333333333,\"#9c179e\"],[0.4444444444444444,\"#bd3786\"],[0.5555555555555556,\"#d8576b\"],[0.6666666666666666,\"#ed7953\"],[0.7777777777777778,\"#fb9f3a\"],[0.8888888888888888,\"#fdca26\"],[1.0,\"#f0f921\"]]}],\"mesh3d\":[{\"type\":\"mesh3d\",\"colorbar\":{\"outlinewidth\":0,\"ticks\":\"\"}}],\"scatter\":[{\"fillpattern\":{\"fillmode\":\"overlay\",\"size\":10,\"solidity\":0.2},\"type\":\"scatter\"}],\"parcoords\":[{\"type\":\"parcoords\",\"line\":{\"colorbar\":{\"outlinewidth\":0,\"ticks\":\"\"}}}],\"scatterpolargl\":[{\"type\":\"scatterpolargl\",\"marker\":{\"colorbar\":{\"outlinewidth\":0,\"ticks\":\"\"}}}],\"bar\":[{\"error_x\":{\"color\":\"#2a3f5f\"},\"error_y\":{\"color\":\"#2a3f5f\"},\"marker\":{\"line\":{\"color\":\"#E5ECF6\",\"width\":0.5},\"pattern\":{\"fillmode\":\"overlay\",\"size\":10,\"solidity\":0.2}},\"type\":\"bar\"}],\"scattergeo\":[{\"type\":\"scattergeo\",\"marker\":{\"colorbar\":{\"outlinewidth\":0,\"ticks\":\"\"}}}],\"scatterpolar\":[{\"type\":\"scatterpolar\",\"marker\":{\"colorbar\":{\"outlinewidth\":0,\"ticks\":\"\"}}}],\"histogram\":[{\"marker\":{\"pattern\":{\"fillmode\":\"overlay\",\"size\":10,\"solidity\":0.2}},\"type\":\"histogram\"}],\"scattergl\":[{\"type\":\"scattergl\",\"marker\":{\"colorbar\":{\"outlinewidth\":0,\"ticks\":\"\"}}}],\"scatter3d\":[{\"type\":\"scatter3d\",\"line\":{\"colorbar\":{\"outlinewidth\":0,\"ticks\":\"\"}},\"marker\":{\"colorbar\":{\"outlinewidth\":0,\"ticks\":\"\"}}}],\"scattermapbox\":[{\"type\":\"scattermapbox\",\"marker\":{\"colorbar\":{\"outlinewidth\":0,\"ticks\":\"\"}}}],\"scatterternary\":[{\"type\":\"scatterternary\",\"marker\":{\"colorbar\":{\"outlinewidth\":0,\"ticks\":\"\"}}}],\"scattercarpet\":[{\"type\":\"scattercarpet\",\"marker\":{\"colorbar\":{\"outlinewidth\":0,\"ticks\":\"\"}}}],\"carpet\":[{\"aaxis\":{\"endlinecolor\":\"#2a3f5f\",\"gridcolor\":\"white\",\"linecolor\":\"white\",\"minorgridcolor\":\"white\",\"startlinecolor\":\"#2a3f5f\"},\"baxis\":{\"endlinecolor\":\"#2a3f5f\",\"gridcolor\":\"white\",\"linecolor\":\"white\",\"minorgridcolor\":\"white\",\"startlinecolor\":\"#2a3f5f\"},\"type\":\"carpet\"}],\"table\":[{\"cells\":{\"fill\":{\"color\":\"#EBF0F8\"},\"line\":{\"color\":\"white\"}},\"header\":{\"fill\":{\"color\":\"#C8D4E3\"},\"line\":{\"color\":\"white\"}},\"type\":\"table\"}],\"barpolar\":[{\"marker\":{\"line\":{\"color\":\"#E5ECF6\",\"width\":0.5},\"pattern\":{\"fillmode\":\"overlay\",\"size\":10,\"solidity\":0.2}},\"type\":\"barpolar\"}],\"pie\":[{\"automargin\":true,\"type\":\"pie\"}]},\"layout\":{\"autotypenumbers\":\"strict\",\"colorway\":[\"#636efa\",\"#EF553B\",\"#00cc96\",\"#ab63fa\",\"#FFA15A\",\"#19d3f3\",\"#FF6692\",\"#B6E880\",\"#FF97FF\",\"#FECB52\"],\"font\":{\"color\":\"#2a3f5f\"},\"hovermode\":\"closest\",\"hoverlabel\":{\"align\":\"left\"},\"paper_bgcolor\":\"white\",\"plot_bgcolor\":\"#E5ECF6\",\"polar\":{\"bgcolor\":\"#E5ECF6\",\"angularaxis\":{\"gridcolor\":\"white\",\"linecolor\":\"white\",\"ticks\":\"\"},\"radialaxis\":{\"gridcolor\":\"white\",\"linecolor\":\"white\",\"ticks\":\"\"}},\"ternary\":{\"bgcolor\":\"#E5ECF6\",\"aaxis\":{\"gridcolor\":\"white\",\"linecolor\":\"white\",\"ticks\":\"\"},\"baxis\":{\"gridcolor\":\"white\",\"linecolor\":\"white\",\"ticks\":\"\"},\"caxis\":{\"gridcolor\":\"white\",\"linecolor\":\"white\",\"ticks\":\"\"}},\"coloraxis\":{\"colorbar\":{\"outlinewidth\":0,\"ticks\":\"\"}},\"colorscale\":{\"sequential\":[[0.0,\"#0d0887\"],[0.1111111111111111,\"#46039f\"],[0.2222222222222222,\"#7201a8\"],[0.3333333333333333,\"#9c179e\"],[0.4444444444444444,\"#bd3786\"],[0.5555555555555556,\"#d8576b\"],[0.6666666666666666,\"#ed7953\"],[0.7777777777777778,\"#fb9f3a\"],[0.8888888888888888,\"#fdca26\"],[1.0,\"#f0f921\"]],\"sequentialminus\":[[0.0,\"#0d0887\"],[0.1111111111111111,\"#46039f\"],[0.2222222222222222,\"#7201a8\"],[0.3333333333333333,\"#9c179e\"],[0.4444444444444444,\"#bd3786\"],[0.5555555555555556,\"#d8576b\"],[0.6666666666666666,\"#ed7953\"],[0.7777777777777778,\"#fb9f3a\"],[0.8888888888888888,\"#fdca26\"],[1.0,\"#f0f921\"]],\"diverging\":[[0,\"#8e0152\"],[0.1,\"#c51b7d\"],[0.2,\"#de77ae\"],[0.3,\"#f1b6da\"],[0.4,\"#fde0ef\"],[0.5,\"#f7f7f7\"],[0.6,\"#e6f5d0\"],[0.7,\"#b8e186\"],[0.8,\"#7fbc41\"],[0.9,\"#4d9221\"],[1,\"#276419\"]]},\"xaxis\":{\"gridcolor\":\"white\",\"linecolor\":\"white\",\"ticks\":\"\",\"title\":{\"standoff\":15},\"zerolinecolor\":\"white\",\"automargin\":true,\"zerolinewidth\":2},\"yaxis\":{\"gridcolor\":\"white\",\"linecolor\":\"white\",\"ticks\":\"\",\"title\":{\"standoff\":15},\"zerolinecolor\":\"white\",\"automargin\":true,\"zerolinewidth\":2},\"scene\":{\"xaxis\":{\"backgroundcolor\":\"#E5ECF6\",\"gridcolor\":\"white\",\"linecolor\":\"white\",\"showbackground\":true,\"ticks\":\"\",\"zerolinecolor\":\"white\",\"gridwidth\":2},\"yaxis\":{\"backgroundcolor\":\"#E5ECF6\",\"gridcolor\":\"white\",\"linecolor\":\"white\",\"showbackground\":true,\"ticks\":\"\",\"zerolinecolor\":\"white\",\"gridwidth\":2},\"zaxis\":{\"backgroundcolor\":\"#E5ECF6\",\"gridcolor\":\"white\",\"linecolor\":\"white\",\"showbackground\":true,\"ticks\":\"\",\"zerolinecolor\":\"white\",\"gridwidth\":2}},\"shapedefaults\":{\"line\":{\"color\":\"#2a3f5f\"}},\"annotationdefaults\":{\"arrowcolor\":\"#2a3f5f\",\"arrowhead\":0,\"arrowwidth\":1},\"geo\":{\"bgcolor\":\"white\",\"landcolor\":\"#E5ECF6\",\"subunitcolor\":\"white\",\"showland\":true,\"showlakes\":true,\"lakecolor\":\"white\"},\"title\":{\"x\":0.05},\"mapbox\":{\"style\":\"light\"}}},\"legend\":{\"title\":{\"text\":\"Dataset\"},\"xanchor\":\"left\",\"y\":0.9,\"yanchor\":\"top\"},\"title\":{\"text\":\"Feature: max_power_output - Explains 7.06% of dataset difference\"},\"xaxis\":{\"title\":{\"text\":\"max_power_output\"},\"fixedrange\":false,\"range\":[46.3,140.0]},\"yaxis\":{\"title\":{\"text\":\"Probability Density\"},\"fixedrange\":true},\"height\":300}}",
           "type": "plotly"
          }
         ],
         "header": "Multivariate Drift",
         "type": "CheckResult",
         "value": {
          "domain_classifier_auc": {
           "dtype": "float64",
           "value": 0.5277475949434182
          },
          "domain_classifier_drift_score": {
           "dtype": "float64",
           "value": 0.05549518988683633
          },
          "domain_classifier_feature_importance": {
           "engine_capacity": 0,
           "fuel_type": 0,
           "kilometers_driven": 0,
           "max_power_output": 0.07058823529411755,
           "ownership": 0,
           "transmission_Automatic": 0,
           "transmission_Manual": 0,
           "vehicle_year": 0.9294117647058824
          }
         }
        },
        {
         "check": {
          "name": "Is Single Value",
          "params": {
           "columns": null,
           "ignore_columns": null,
           "ignore_nan": true,
           "n_samples": 10000000,
           "random_state": 42
          },
          "summary": "Check if there are columns which have only a single unique value in all rows. <a href=\"https://docs.deepchecks.com/0.17/tabular/auto_checks/data_integrity/plot_is_single_value.html?utm_source=display_output&utm_medium=referral&utm_campaign=check_link\" target=\"_blank\">Read More...</a>"
         },
         "conditions_results": [
          {
           "Condition": "Does not contain only a single value",
           "More Info": "Passed for 9 relevant columns",
           "Status": "PASS"
          }
         ],
         "display": [],
         "header": "Single Value in Column - Train Dataset",
         "type": "CheckResult",
         "value": {
          "engine_capacity": 80,
          "fuel_type": 4,
          "kilometers_driven": 631,
          "max_power_output": 211,
          "ownership": 3,
          "price": 449,
          "transmission_Automatic": 2,
          "transmission_Manual": 2,
          "vehicle_year": 15
         }
        },
        {
         "check": {
          "name": "Is Single Value",
          "params": {
           "columns": null,
           "ignore_columns": null,
           "ignore_nan": true,
           "n_samples": 10000000,
           "random_state": 42
          },
          "summary": "Check if there are columns which have only a single unique value in all rows. <a href=\"https://docs.deepchecks.com/0.17/tabular/auto_checks/data_integrity/plot_is_single_value.html?utm_source=display_output&utm_medium=referral&utm_campaign=check_link\" target=\"_blank\">Read More...</a>"
         },
         "conditions_results": [
          {
           "Condition": "Does not contain only a single value",
           "More Info": "Passed for 9 relevant columns",
           "Status": "PASS"
          }
         ],
         "display": [],
         "header": "Single Value in Column - Test Dataset",
         "type": "CheckResult",
         "value": {
          "engine_capacity": 63,
          "fuel_type": 4,
          "kilometers_driven": 296,
          "max_power_output": 161,
          "ownership": 3,
          "price": 255,
          "transmission_Automatic": 2,
          "transmission_Manual": 2,
          "vehicle_year": 15
         }
        },
        {
         "check": {
          "name": "Special Characters",
          "params": {
           "columns": null,
           "ignore_columns": null,
           "n_most_common": 2,
           "n_samples": 10000000,
           "n_top_columns": 10,
           "random_state": 42
          },
          "summary": "Search in column[s] for values that contains only special characters. <a href=\"https://docs.deepchecks.com/0.17/tabular/auto_checks/data_integrity/plot_special_chars.html?utm_source=display_output&utm_medium=referral&utm_campaign=check_link\" target=\"_blank\">Read More...</a>"
         },
         "conditions_results": [
          {
           "Condition": "Ratio of samples containing solely special character is less or equal to 0.1%",
           "More Info": "Passed for 9 relevant columns",
           "Status": "PASS"
          }
         ],
         "display": [],
         "header": "Special Characters - Train Dataset",
         "type": "CheckResult",
         "value": {
          "engine_capacity": 0,
          "fuel_type": 0,
          "kilometers_driven": 0,
          "max_power_output": 0,
          "ownership": 0,
          "price": 0,
          "transmission_Automatic": 0,
          "transmission_Manual": 0,
          "vehicle_year": 0
         }
        },
        {
         "check": {
          "name": "Special Characters",
          "params": {
           "columns": null,
           "ignore_columns": null,
           "n_most_common": 2,
           "n_samples": 10000000,
           "n_top_columns": 10,
           "random_state": 42
          },
          "summary": "Search in column[s] for values that contains only special characters. <a href=\"https://docs.deepchecks.com/0.17/tabular/auto_checks/data_integrity/plot_special_chars.html?utm_source=display_output&utm_medium=referral&utm_campaign=check_link\" target=\"_blank\">Read More...</a>"
         },
         "conditions_results": [
          {
           "Condition": "Ratio of samples containing solely special character is less or equal to 0.1%",
           "More Info": "Passed for 9 relevant columns",
           "Status": "PASS"
          }
         ],
         "display": [],
         "header": "Special Characters - Test Dataset",
         "type": "CheckResult",
         "value": {
          "engine_capacity": 0,
          "fuel_type": 0,
          "kilometers_driven": 0,
          "max_power_output": 0,
          "ownership": 0,
          "price": 0,
          "transmission_Automatic": 0,
          "transmission_Manual": 0,
          "vehicle_year": 0
         }
        },
        {
         "check": {
          "name": "Mixed Nulls",
          "params": {
           "aggregation_method": "max",
           "check_nan": true,
           "columns": null,
           "ignore_columns": null,
           "n_samples": 10000000,
           "n_top_columns": 10,
           "null_string_list": null,
           "random_state": 42
          },
          "summary": "Search for various types of null values, including string representations of null. <a href=\"https://docs.deepchecks.com/0.17/tabular/auto_checks/data_integrity/plot_mixed_nulls.html?utm_source=display_output&utm_medium=referral&utm_campaign=check_link\" target=\"_blank\">Read More...</a>"
         },
         "conditions_results": [
          {
           "Condition": "Number of different null types is less or equal to 1",
           "More Info": "Passed for 9 relevant columns",
           "Status": "PASS"
          }
         ],
         "display": [],
         "header": "Mixed Nulls - Train Dataset",
         "type": "CheckResult",
         "value": {
          "columns": {
           "engine_capacity": {},
           "fuel_type": {},
           "kilometers_driven": {},
           "max_power_output": {},
           "ownership": {},
           "price": {},
           "transmission_Automatic": {},
           "transmission_Manual": {},
           "vehicle_year": {}
          },
          "feature_importance": {
           "index": {
            "meta": {
             "dtype": "object",
             "name": null
            },
            "txt": true,
            "values": "[\"vehicle_year\", \"kilometers_driven\", \"fuel_type\", \"ownership\", \"engine_capacity\", \"max_power_output\", \"transmission_Automatic\", \"transmission_Manual\"]"
           },
           "name": null,
           "values": {
            "dtype": "float64",
            "values": [
             0.5189921265873019,
             0.019013168478354152,
             0.010316267114828163,
             0.005404811489423775,
             0.1758294473894641,
             0.26728974513763876,
             0.002225142404681436,
             0.0009292913983077043
            ]
           }
          },
          "n_samples": 5180
         }
        },
        {
         "check": {
          "name": "Mixed Nulls",
          "params": {
           "aggregation_method": "max",
           "check_nan": true,
           "columns": null,
           "ignore_columns": null,
           "n_samples": 10000000,
           "n_top_columns": 10,
           "null_string_list": null,
           "random_state": 42
          },
          "summary": "Search for various types of null values, including string representations of null. <a href=\"https://docs.deepchecks.com/0.17/tabular/auto_checks/data_integrity/plot_mixed_nulls.html?utm_source=display_output&utm_medium=referral&utm_campaign=check_link\" target=\"_blank\">Read More...</a>"
         },
         "conditions_results": [
          {
           "Condition": "Number of different null types is less or equal to 1",
           "More Info": "Passed for 9 relevant columns",
           "Status": "PASS"
          }
         ],
         "display": [],
         "header": "Mixed Nulls - Test Dataset",
         "type": "CheckResult",
         "value": {
          "columns": {
           "engine_capacity": {},
           "fuel_type": {},
           "kilometers_driven": {},
           "max_power_output": {},
           "ownership": {},
           "price": {},
           "transmission_Automatic": {},
           "transmission_Manual": {},
           "vehicle_year": {}
          },
          "feature_importance": {
           "index": {
            "meta": {
             "dtype": "object",
             "name": null
            },
            "txt": true,
            "values": "[\"vehicle_year\", \"kilometers_driven\", \"fuel_type\", \"ownership\", \"engine_capacity\", \"max_power_output\", \"transmission_Automatic\", \"transmission_Manual\"]"
           },
           "name": null,
           "values": {
            "dtype": "float64",
            "values": [
             0.5189921265873019,
             0.019013168478354152,
             0.010316267114828163,
             0.005404811489423775,
             0.1758294473894641,
             0.26728974513763876,
             0.002225142404681436,
             0.0009292913983077043
            ]
           }
          },
          "n_samples": 1295
         }
        },
        {
         "check": {
          "name": "Mixed Data Types",
          "params": {
           "columns": null,
           "ignore_columns": null,
           "n_samples": 10000000,
           "n_top_columns": 10,
           "random_state": 42
          },
          "summary": "Detect columns which contain a mix of numerical and string values. <a href=\"https://docs.deepchecks.com/0.17/tabular/auto_checks/data_integrity/plot_mixed_data_types.html?utm_source=display_output&utm_medium=referral&utm_campaign=check_link\" target=\"_blank\">Read More...</a>"
         },
         "conditions_results": [
          {
           "Condition": "Rare data types in column are either more than 10% or less than 1% of the data",
           "More Info": "9 columns passed: found 0 columns with negligible types mix, and 9 columns without any types mix",
           "Status": "PASS"
          }
         ],
         "display": [],
         "header": "Mixed Data Types - Train Dataset",
         "type": "CheckResult",
         "value": {
          "engine_capacity": {},
          "fuel_type": {},
          "kilometers_driven": {},
          "max_power_output": {},
          "ownership": {},
          "price": {},
          "transmission_Automatic": {},
          "transmission_Manual": {},
          "vehicle_year": {}
         }
        },
        {
         "check": {
          "name": "Mixed Data Types",
          "params": {
           "columns": null,
           "ignore_columns": null,
           "n_samples": 10000000,
           "n_top_columns": 10,
           "random_state": 42
          },
          "summary": "Detect columns which contain a mix of numerical and string values. <a href=\"https://docs.deepchecks.com/0.17/tabular/auto_checks/data_integrity/plot_mixed_data_types.html?utm_source=display_output&utm_medium=referral&utm_campaign=check_link\" target=\"_blank\">Read More...</a>"
         },
         "conditions_results": [
          {
           "Condition": "Rare data types in column are either more than 10% or less than 1% of the data",
           "More Info": "9 columns passed: found 0 columns with negligible types mix, and 9 columns without any types mix",
           "Status": "PASS"
          }
         ],
         "display": [],
         "header": "Mixed Data Types - Test Dataset",
         "type": "CheckResult",
         "value": {
          "engine_capacity": {},
          "fuel_type": {},
          "kilometers_driven": {},
          "max_power_output": {},
          "ownership": {},
          "price": {},
          "transmission_Automatic": {},
          "transmission_Manual": {},
          "vehicle_year": {}
         }
        },
        {
         "check": {
          "name": "String Mismatch",
          "params": {
           "aggregation_method": "max",
           "columns": null,
           "ignore_columns": null,
           "n_samples": 1000000,
           "n_top_columns": 10,
           "random_state": 42
          },
          "summary": "Detect different variants of string categories (e.g. \"mislabeled\" vs \"mis-labeled\") in a categorical column. <a href=\"https://docs.deepchecks.com/0.17/tabular/auto_checks/data_integrity/plot_string_mismatch.html?utm_source=display_output&utm_medium=referral&utm_campaign=check_link\" target=\"_blank\">Read More...</a>"
         },
         "conditions_results": [
          {
           "Condition": "No string variants",
           "More Info": "Passed for 1 relevant column",
           "Status": "PASS"
          }
         ],
         "display": [],
         "header": "String Mismatch - Train Dataset",
         "type": "CheckResult",
         "value": {
          "columns": {},
          "feature_importance": {
           "index": {
            "meta": {
             "dtype": "object",
             "name": null
            },
            "txt": true,
            "values": "[\"vehicle_year\", \"kilometers_driven\", \"fuel_type\", \"ownership\", \"engine_capacity\", \"max_power_output\", \"transmission_Automatic\", \"transmission_Manual\"]"
           },
           "name": null,
           "values": {
            "dtype": "float64",
            "values": [
             0.5189921265873019,
             0.019013168478354152,
             0.010316267114828163,
             0.005404811489423775,
             0.1758294473894641,
             0.26728974513763876,
             0.002225142404681436,
             0.0009292913983077043
            ]
           }
          },
          "n_samples": 5180
         }
        },
        {
         "check": {
          "name": "String Mismatch",
          "params": {
           "aggregation_method": "max",
           "columns": null,
           "ignore_columns": null,
           "n_samples": 1000000,
           "n_top_columns": 10,
           "random_state": 42
          },
          "summary": "Detect different variants of string categories (e.g. \"mislabeled\" vs \"mis-labeled\") in a categorical column. <a href=\"https://docs.deepchecks.com/0.17/tabular/auto_checks/data_integrity/plot_string_mismatch.html?utm_source=display_output&utm_medium=referral&utm_campaign=check_link\" target=\"_blank\">Read More...</a>"
         },
         "conditions_results": [
          {
           "Condition": "No string variants",
           "More Info": "Passed for 1 relevant column",
           "Status": "PASS"
          }
         ],
         "display": [],
         "header": "String Mismatch - Test Dataset",
         "type": "CheckResult",
         "value": {
          "columns": {},
          "feature_importance": {
           "index": {
            "meta": {
             "dtype": "object",
             "name": null
            },
            "txt": true,
            "values": "[\"vehicle_year\", \"kilometers_driven\", \"fuel_type\", \"ownership\", \"engine_capacity\", \"max_power_output\", \"transmission_Automatic\", \"transmission_Manual\"]"
           },
           "name": null,
           "values": {
            "dtype": "float64",
            "values": [
             0.5189921265873019,
             0.019013168478354152,
             0.010316267114828163,
             0.005404811489423775,
             0.1758294473894641,
             0.26728974513763876,
             0.002225142404681436,
             0.0009292913983077043
            ]
           }
          },
          "n_samples": 1295
         }
        },
        {
         "check": {
          "name": "String Length Out Of Bounds",
          "params": {
           "columns": null,
           "ignore_columns": null,
           "inner_quantile_range": 94,
           "min_length_difference": 5,
           "min_length_ratio_difference": 0.5,
           "min_unique_value_ratio": 0.01,
           "min_unique_values": 100,
           "n_samples": 10000000,
           "n_top_columns": 10,
           "num_percentiles": 1000,
           "outlier_factor": 4,
           "outlier_length_to_show": 50,
           "random_state": 42,
           "samples_per_range_to_show": 3
          },
          "summary": "Detect strings with length that is much longer/shorter than the identified \"normal\" string lengths. <a href=\"https://docs.deepchecks.com/0.17/tabular/auto_checks/data_integrity/plot_string_length_out_of_bounds.html?utm_source=display_output&utm_medium=referral&utm_campaign=check_link\" target=\"_blank\">Read More...</a>"
         },
         "conditions_results": [
          {
           "Condition": "Ratio of string length outliers is less or equal to 0%",
           "More Info": "No relevant columns to check were found",
           "Status": "PASS"
          }
         ],
         "display": [],
         "header": "String Length Out Of Bounds - Train Dataset",
         "type": "CheckResult",
         "value": {}
        },
        {
         "check": {
          "name": "String Length Out Of Bounds",
          "params": {
           "columns": null,
           "ignore_columns": null,
           "inner_quantile_range": 94,
           "min_length_difference": 5,
           "min_length_ratio_difference": 0.5,
           "min_unique_value_ratio": 0.01,
           "min_unique_values": 100,
           "n_samples": 10000000,
           "n_top_columns": 10,
           "num_percentiles": 1000,
           "outlier_factor": 4,
           "outlier_length_to_show": 50,
           "random_state": 42,
           "samples_per_range_to_show": 3
          },
          "summary": "Detect strings with length that is much longer/shorter than the identified \"normal\" string lengths. <a href=\"https://docs.deepchecks.com/0.17/tabular/auto_checks/data_integrity/plot_string_length_out_of_bounds.html?utm_source=display_output&utm_medium=referral&utm_campaign=check_link\" target=\"_blank\">Read More...</a>"
         },
         "conditions_results": [
          {
           "Condition": "Ratio of string length outliers is less or equal to 0%",
           "More Info": "No relevant columns to check were found",
           "Status": "PASS"
          }
         ],
         "display": [],
         "header": "String Length Out Of Bounds - Test Dataset",
         "type": "CheckResult",
         "value": {}
        },
        {
         "check": {
          "name": "Feature Label Correlation",
          "params": {
           "n_samples": 100000,
           "n_top_features": 5,
           "ppscore_params": {},
           "random_state": 42
          },
          "summary": "Return the PPS (Predictive Power Score) of all features in relation to the label. <a href=\"https://docs.deepchecks.com/0.17/tabular/auto_checks/data_integrity/plot_feature_label_correlation.html?utm_source=display_output&utm_medium=referral&utm_campaign=check_link\" target=\"_blank\">Read More...</a>"
         },
         "conditions_results": [
          {
           "Condition": "Features' Predictive Power Score is less than 0.8",
           "More Info": "Passed for 8 relevant columns",
           "Status": "PASS"
          }
         ],
         "display": [
          {
           "payload": "{\"data\":[{\"marker\":{\"color\":\"#00008b\"},\"name\":\"Train\",\"text\":[\"\\u003cb\\u003e0.48\\u003c\\u002fb\\u003e\",\"\\u003cb\\u003e0.31\\u003c\\u002fb\\u003e\",\"\\u003cb\\u003e0.27\\u003c\\u002fb\\u003e\",\"\\u003cb\\u003e0.08\\u003c\\u002fb\\u003e\",\"\\u003cb\\u003e0.06\\u003c\\u002fb\\u003e\"],\"textposition\":\"outside\",\"x\":[\"max_power_output\",\"vehicle_year\",\"engine_capacity\",\"ownership\",\"kilometers_driven\"],\"y\":[0.4776287379437618,0.3081294466261485,0.2722312963575917,0.07522257393876419,0.0583706304642857],\"type\":\"bar\"}],\"layout\":{\"template\":{\"data\":{\"histogram2dcontour\":[{\"type\":\"histogram2dcontour\",\"colorbar\":{\"outlinewidth\":0,\"ticks\":\"\"},\"colorscale\":[[0.0,\"#0d0887\"],[0.1111111111111111,\"#46039f\"],[0.2222222222222222,\"#7201a8\"],[0.3333333333333333,\"#9c179e\"],[0.4444444444444444,\"#bd3786\"],[0.5555555555555556,\"#d8576b\"],[0.6666666666666666,\"#ed7953\"],[0.7777777777777778,\"#fb9f3a\"],[0.8888888888888888,\"#fdca26\"],[1.0,\"#f0f921\"]]}],\"choropleth\":[{\"type\":\"choropleth\",\"colorbar\":{\"outlinewidth\":0,\"ticks\":\"\"}}],\"histogram2d\":[{\"type\":\"histogram2d\",\"colorbar\":{\"outlinewidth\":0,\"ticks\":\"\"},\"colorscale\":[[0.0,\"#0d0887\"],[0.1111111111111111,\"#46039f\"],[0.2222222222222222,\"#7201a8\"],[0.3333333333333333,\"#9c179e\"],[0.4444444444444444,\"#bd3786\"],[0.5555555555555556,\"#d8576b\"],[0.6666666666666666,\"#ed7953\"],[0.7777777777777778,\"#fb9f3a\"],[0.8888888888888888,\"#fdca26\"],[1.0,\"#f0f921\"]]}],\"heatmap\":[{\"type\":\"heatmap\",\"colorbar\":{\"outlinewidth\":0,\"ticks\":\"\"},\"colorscale\":[[0.0,\"#0d0887\"],[0.1111111111111111,\"#46039f\"],[0.2222222222222222,\"#7201a8\"],[0.3333333333333333,\"#9c179e\"],[0.4444444444444444,\"#bd3786\"],[0.5555555555555556,\"#d8576b\"],[0.6666666666666666,\"#ed7953\"],[0.7777777777777778,\"#fb9f3a\"],[0.8888888888888888,\"#fdca26\"],[1.0,\"#f0f921\"]]}],\"heatmapgl\":[{\"type\":\"heatmapgl\",\"colorbar\":{\"outlinewidth\":0,\"ticks\":\"\"},\"colorscale\":[[0.0,\"#0d0887\"],[0.1111111111111111,\"#46039f\"],[0.2222222222222222,\"#7201a8\"],[0.3333333333333333,\"#9c179e\"],[0.4444444444444444,\"#bd3786\"],[0.5555555555555556,\"#d8576b\"],[0.6666666666666666,\"#ed7953\"],[0.7777777777777778,\"#fb9f3a\"],[0.8888888888888888,\"#fdca26\"],[1.0,\"#f0f921\"]]}],\"contourcarpet\":[{\"type\":\"contourcarpet\",\"colorbar\":{\"outlinewidth\":0,\"ticks\":\"\"}}],\"contour\":[{\"type\":\"contour\",\"colorbar\":{\"outlinewidth\":0,\"ticks\":\"\"},\"colorscale\":[[0.0,\"#0d0887\"],[0.1111111111111111,\"#46039f\"],[0.2222222222222222,\"#7201a8\"],[0.3333333333333333,\"#9c179e\"],[0.4444444444444444,\"#bd3786\"],[0.5555555555555556,\"#d8576b\"],[0.6666666666666666,\"#ed7953\"],[0.7777777777777778,\"#fb9f3a\"],[0.8888888888888888,\"#fdca26\"],[1.0,\"#f0f921\"]]}],\"surface\":[{\"type\":\"surface\",\"colorbar\":{\"outlinewidth\":0,\"ticks\":\"\"},\"colorscale\":[[0.0,\"#0d0887\"],[0.1111111111111111,\"#46039f\"],[0.2222222222222222,\"#7201a8\"],[0.3333333333333333,\"#9c179e\"],[0.4444444444444444,\"#bd3786\"],[0.5555555555555556,\"#d8576b\"],[0.6666666666666666,\"#ed7953\"],[0.7777777777777778,\"#fb9f3a\"],[0.8888888888888888,\"#fdca26\"],[1.0,\"#f0f921\"]]}],\"mesh3d\":[{\"type\":\"mesh3d\",\"colorbar\":{\"outlinewidth\":0,\"ticks\":\"\"}}],\"scatter\":[{\"fillpattern\":{\"fillmode\":\"overlay\",\"size\":10,\"solidity\":0.2},\"type\":\"scatter\"}],\"parcoords\":[{\"type\":\"parcoords\",\"line\":{\"colorbar\":{\"outlinewidth\":0,\"ticks\":\"\"}}}],\"scatterpolargl\":[{\"type\":\"scatterpolargl\",\"marker\":{\"colorbar\":{\"outlinewidth\":0,\"ticks\":\"\"}}}],\"bar\":[{\"error_x\":{\"color\":\"#2a3f5f\"},\"error_y\":{\"color\":\"#2a3f5f\"},\"marker\":{\"line\":{\"color\":\"#E5ECF6\",\"width\":0.5},\"pattern\":{\"fillmode\":\"overlay\",\"size\":10,\"solidity\":0.2}},\"type\":\"bar\"}],\"scattergeo\":[{\"type\":\"scattergeo\",\"marker\":{\"colorbar\":{\"outlinewidth\":0,\"ticks\":\"\"}}}],\"scatterpolar\":[{\"type\":\"scatterpolar\",\"marker\":{\"colorbar\":{\"outlinewidth\":0,\"ticks\":\"\"}}}],\"histogram\":[{\"marker\":{\"pattern\":{\"fillmode\":\"overlay\",\"size\":10,\"solidity\":0.2}},\"type\":\"histogram\"}],\"scattergl\":[{\"type\":\"scattergl\",\"marker\":{\"colorbar\":{\"outlinewidth\":0,\"ticks\":\"\"}}}],\"scatter3d\":[{\"type\":\"scatter3d\",\"line\":{\"colorbar\":{\"outlinewidth\":0,\"ticks\":\"\"}},\"marker\":{\"colorbar\":{\"outlinewidth\":0,\"ticks\":\"\"}}}],\"scattermapbox\":[{\"type\":\"scattermapbox\",\"marker\":{\"colorbar\":{\"outlinewidth\":0,\"ticks\":\"\"}}}],\"scatterternary\":[{\"type\":\"scatterternary\",\"marker\":{\"colorbar\":{\"outlinewidth\":0,\"ticks\":\"\"}}}],\"scattercarpet\":[{\"type\":\"scattercarpet\",\"marker\":{\"colorbar\":{\"outlinewidth\":0,\"ticks\":\"\"}}}],\"carpet\":[{\"aaxis\":{\"endlinecolor\":\"#2a3f5f\",\"gridcolor\":\"white\",\"linecolor\":\"white\",\"minorgridcolor\":\"white\",\"startlinecolor\":\"#2a3f5f\"},\"baxis\":{\"endlinecolor\":\"#2a3f5f\",\"gridcolor\":\"white\",\"linecolor\":\"white\",\"minorgridcolor\":\"white\",\"startlinecolor\":\"#2a3f5f\"},\"type\":\"carpet\"}],\"table\":[{\"cells\":{\"fill\":{\"color\":\"#EBF0F8\"},\"line\":{\"color\":\"white\"}},\"header\":{\"fill\":{\"color\":\"#C8D4E3\"},\"line\":{\"color\":\"white\"}},\"type\":\"table\"}],\"barpolar\":[{\"marker\":{\"line\":{\"color\":\"#E5ECF6\",\"width\":0.5},\"pattern\":{\"fillmode\":\"overlay\",\"size\":10,\"solidity\":0.2}},\"type\":\"barpolar\"}],\"pie\":[{\"automargin\":true,\"type\":\"pie\"}]},\"layout\":{\"autotypenumbers\":\"strict\",\"colorway\":[\"#636efa\",\"#EF553B\",\"#00cc96\",\"#ab63fa\",\"#FFA15A\",\"#19d3f3\",\"#FF6692\",\"#B6E880\",\"#FF97FF\",\"#FECB52\"],\"font\":{\"color\":\"#2a3f5f\"},\"hovermode\":\"closest\",\"hoverlabel\":{\"align\":\"left\"},\"paper_bgcolor\":\"white\",\"plot_bgcolor\":\"#E5ECF6\",\"polar\":{\"bgcolor\":\"#E5ECF6\",\"angularaxis\":{\"gridcolor\":\"white\",\"linecolor\":\"white\",\"ticks\":\"\"},\"radialaxis\":{\"gridcolor\":\"white\",\"linecolor\":\"white\",\"ticks\":\"\"}},\"ternary\":{\"bgcolor\":\"#E5ECF6\",\"aaxis\":{\"gridcolor\":\"white\",\"linecolor\":\"white\",\"ticks\":\"\"},\"baxis\":{\"gridcolor\":\"white\",\"linecolor\":\"white\",\"ticks\":\"\"},\"caxis\":{\"gridcolor\":\"white\",\"linecolor\":\"white\",\"ticks\":\"\"}},\"coloraxis\":{\"colorbar\":{\"outlinewidth\":0,\"ticks\":\"\"}},\"colorscale\":{\"sequential\":[[0.0,\"#0d0887\"],[0.1111111111111111,\"#46039f\"],[0.2222222222222222,\"#7201a8\"],[0.3333333333333333,\"#9c179e\"],[0.4444444444444444,\"#bd3786\"],[0.5555555555555556,\"#d8576b\"],[0.6666666666666666,\"#ed7953\"],[0.7777777777777778,\"#fb9f3a\"],[0.8888888888888888,\"#fdca26\"],[1.0,\"#f0f921\"]],\"sequentialminus\":[[0.0,\"#0d0887\"],[0.1111111111111111,\"#46039f\"],[0.2222222222222222,\"#7201a8\"],[0.3333333333333333,\"#9c179e\"],[0.4444444444444444,\"#bd3786\"],[0.5555555555555556,\"#d8576b\"],[0.6666666666666666,\"#ed7953\"],[0.7777777777777778,\"#fb9f3a\"],[0.8888888888888888,\"#fdca26\"],[1.0,\"#f0f921\"]],\"diverging\":[[0,\"#8e0152\"],[0.1,\"#c51b7d\"],[0.2,\"#de77ae\"],[0.3,\"#f1b6da\"],[0.4,\"#fde0ef\"],[0.5,\"#f7f7f7\"],[0.6,\"#e6f5d0\"],[0.7,\"#b8e186\"],[0.8,\"#7fbc41\"],[0.9,\"#4d9221\"],[1,\"#276419\"]]},\"xaxis\":{\"gridcolor\":\"white\",\"linecolor\":\"white\",\"ticks\":\"\",\"title\":{\"standoff\":15},\"zerolinecolor\":\"white\",\"automargin\":true,\"zerolinewidth\":2},\"yaxis\":{\"gridcolor\":\"white\",\"linecolor\":\"white\",\"ticks\":\"\",\"title\":{\"standoff\":15},\"zerolinecolor\":\"white\",\"automargin\":true,\"zerolinewidth\":2},\"scene\":{\"xaxis\":{\"backgroundcolor\":\"#E5ECF6\",\"gridcolor\":\"white\",\"linecolor\":\"white\",\"showbackground\":true,\"ticks\":\"\",\"zerolinecolor\":\"white\",\"gridwidth\":2},\"yaxis\":{\"backgroundcolor\":\"#E5ECF6\",\"gridcolor\":\"white\",\"linecolor\":\"white\",\"showbackground\":true,\"ticks\":\"\",\"zerolinecolor\":\"white\",\"gridwidth\":2},\"zaxis\":{\"backgroundcolor\":\"#E5ECF6\",\"gridcolor\":\"white\",\"linecolor\":\"white\",\"showbackground\":true,\"ticks\":\"\",\"zerolinecolor\":\"white\",\"gridwidth\":2}},\"shapedefaults\":{\"line\":{\"color\":\"#2a3f5f\"}},\"annotationdefaults\":{\"arrowcolor\":\"#2a3f5f\",\"arrowhead\":0,\"arrowwidth\":1},\"geo\":{\"bgcolor\":\"white\",\"landcolor\":\"#E5ECF6\",\"subunitcolor\":\"white\",\"showland\":true,\"showlakes\":true,\"lakecolor\":\"white\"},\"title\":{\"x\":0.05},\"mapbox\":{\"style\":\"light\"}}},\"yaxis\":{\"title\":{\"text\":\"Predictive Power Score (PPS)\"},\"range\":[0,1.05]},\"xaxis\":{\"range\":[-3,7],\"type\":\"category\",\"title\":{\"text\":\"Column\"}},\"legend\":{\"x\":1.0,\"y\":1.0},\"barmode\":\"group\",\"height\":500,\"title\":{\"text\":\"Predictive Power Score (PPS) - Can a feature predict the label by itself?\"}}}",
           "type": "plotly"
          },
          {
           "payload": "The Predictive Power Score (PPS) is used to estimate the ability of a feature to predict the label by itself (Read more about <a href=https://docs.deepchecks.com/stable/tabular/auto_checks/train_test_validation/plot_feature_label_correlation_change.html target=\"_blank\">Predictive Power Score</a>). A high PPS (close to 1) can mean that this feature's success in predicting the label is actually due to data leakage - meaning that the feature holds information that is based on the label to begin with.",
           "type": "html"
          }
         ],
         "header": "Feature Label Correlation - Train Dataset",
         "type": "CheckResult",
         "value": {
          "engine_capacity": 0.2722312963575917,
          "fuel_type": 0.036259875805288444,
          "kilometers_driven": 0.0583706304642857,
          "max_power_output": 0.4776287379437618,
          "ownership": 0.07522257393876419,
          "transmission_Automatic": 0.024880677916994,
          "transmission_Manual": 0.024880677916994,
          "vehicle_year": 0.3081294466261485
         }
        },
        {
         "check": {
          "name": "Feature Label Correlation",
          "params": {
           "n_samples": 100000,
           "n_top_features": 5,
           "ppscore_params": {},
           "random_state": 42
          },
          "summary": "Return the PPS (Predictive Power Score) of all features in relation to the label. <a href=\"https://docs.deepchecks.com/0.17/tabular/auto_checks/data_integrity/plot_feature_label_correlation.html?utm_source=display_output&utm_medium=referral&utm_campaign=check_link\" target=\"_blank\">Read More...</a>"
         },
         "conditions_results": [
          {
           "Condition": "Features' Predictive Power Score is less than 0.8",
           "More Info": "Passed for 8 relevant columns",
           "Status": "PASS"
          }
         ],
         "display": [
          {
           "payload": "{\"data\":[{\"marker\":{\"color\":\"#69b3a2\"},\"name\":\"Test\",\"text\":[\"\\u003cb\\u003e0.41\\u003c\\u002fb\\u003e\",\"\\u003cb\\u003e0.33\\u003c\\u002fb\\u003e\",\"\\u003cb\\u003e0.29\\u003c\\u002fb\\u003e\",\"\\u003cb\\u003e0.08\\u003c\\u002fb\\u003e\",\"\\u003cb\\u003e0.04\\u003c\\u002fb\\u003e\"],\"textposition\":\"outside\",\"x\":[\"max_power_output\",\"vehicle_year\",\"engine_capacity\",\"ownership\",\"fuel_type\"],\"y\":[0.4093082848562559,0.32620303634215453,0.2943046415120718,0.08140052027600075,0.042250189832246376],\"type\":\"bar\"}],\"layout\":{\"template\":{\"data\":{\"histogram2dcontour\":[{\"type\":\"histogram2dcontour\",\"colorbar\":{\"outlinewidth\":0,\"ticks\":\"\"},\"colorscale\":[[0.0,\"#0d0887\"],[0.1111111111111111,\"#46039f\"],[0.2222222222222222,\"#7201a8\"],[0.3333333333333333,\"#9c179e\"],[0.4444444444444444,\"#bd3786\"],[0.5555555555555556,\"#d8576b\"],[0.6666666666666666,\"#ed7953\"],[0.7777777777777778,\"#fb9f3a\"],[0.8888888888888888,\"#fdca26\"],[1.0,\"#f0f921\"]]}],\"choropleth\":[{\"type\":\"choropleth\",\"colorbar\":{\"outlinewidth\":0,\"ticks\":\"\"}}],\"histogram2d\":[{\"type\":\"histogram2d\",\"colorbar\":{\"outlinewidth\":0,\"ticks\":\"\"},\"colorscale\":[[0.0,\"#0d0887\"],[0.1111111111111111,\"#46039f\"],[0.2222222222222222,\"#7201a8\"],[0.3333333333333333,\"#9c179e\"],[0.4444444444444444,\"#bd3786\"],[0.5555555555555556,\"#d8576b\"],[0.6666666666666666,\"#ed7953\"],[0.7777777777777778,\"#fb9f3a\"],[0.8888888888888888,\"#fdca26\"],[1.0,\"#f0f921\"]]}],\"heatmap\":[{\"type\":\"heatmap\",\"colorbar\":{\"outlinewidth\":0,\"ticks\":\"\"},\"colorscale\":[[0.0,\"#0d0887\"],[0.1111111111111111,\"#46039f\"],[0.2222222222222222,\"#7201a8\"],[0.3333333333333333,\"#9c179e\"],[0.4444444444444444,\"#bd3786\"],[0.5555555555555556,\"#d8576b\"],[0.6666666666666666,\"#ed7953\"],[0.7777777777777778,\"#fb9f3a\"],[0.8888888888888888,\"#fdca26\"],[1.0,\"#f0f921\"]]}],\"heatmapgl\":[{\"type\":\"heatmapgl\",\"colorbar\":{\"outlinewidth\":0,\"ticks\":\"\"},\"colorscale\":[[0.0,\"#0d0887\"],[0.1111111111111111,\"#46039f\"],[0.2222222222222222,\"#7201a8\"],[0.3333333333333333,\"#9c179e\"],[0.4444444444444444,\"#bd3786\"],[0.5555555555555556,\"#d8576b\"],[0.6666666666666666,\"#ed7953\"],[0.7777777777777778,\"#fb9f3a\"],[0.8888888888888888,\"#fdca26\"],[1.0,\"#f0f921\"]]}],\"contourcarpet\":[{\"type\":\"contourcarpet\",\"colorbar\":{\"outlinewidth\":0,\"ticks\":\"\"}}],\"contour\":[{\"type\":\"contour\",\"colorbar\":{\"outlinewidth\":0,\"ticks\":\"\"},\"colorscale\":[[0.0,\"#0d0887\"],[0.1111111111111111,\"#46039f\"],[0.2222222222222222,\"#7201a8\"],[0.3333333333333333,\"#9c179e\"],[0.4444444444444444,\"#bd3786\"],[0.5555555555555556,\"#d8576b\"],[0.6666666666666666,\"#ed7953\"],[0.7777777777777778,\"#fb9f3a\"],[0.8888888888888888,\"#fdca26\"],[1.0,\"#f0f921\"]]}],\"surface\":[{\"type\":\"surface\",\"colorbar\":{\"outlinewidth\":0,\"ticks\":\"\"},\"colorscale\":[[0.0,\"#0d0887\"],[0.1111111111111111,\"#46039f\"],[0.2222222222222222,\"#7201a8\"],[0.3333333333333333,\"#9c179e\"],[0.4444444444444444,\"#bd3786\"],[0.5555555555555556,\"#d8576b\"],[0.6666666666666666,\"#ed7953\"],[0.7777777777777778,\"#fb9f3a\"],[0.8888888888888888,\"#fdca26\"],[1.0,\"#f0f921\"]]}],\"mesh3d\":[{\"type\":\"mesh3d\",\"colorbar\":{\"outlinewidth\":0,\"ticks\":\"\"}}],\"scatter\":[{\"fillpattern\":{\"fillmode\":\"overlay\",\"size\":10,\"solidity\":0.2},\"type\":\"scatter\"}],\"parcoords\":[{\"type\":\"parcoords\",\"line\":{\"colorbar\":{\"outlinewidth\":0,\"ticks\":\"\"}}}],\"scatterpolargl\":[{\"type\":\"scatterpolargl\",\"marker\":{\"colorbar\":{\"outlinewidth\":0,\"ticks\":\"\"}}}],\"bar\":[{\"error_x\":{\"color\":\"#2a3f5f\"},\"error_y\":{\"color\":\"#2a3f5f\"},\"marker\":{\"line\":{\"color\":\"#E5ECF6\",\"width\":0.5},\"pattern\":{\"fillmode\":\"overlay\",\"size\":10,\"solidity\":0.2}},\"type\":\"bar\"}],\"scattergeo\":[{\"type\":\"scattergeo\",\"marker\":{\"colorbar\":{\"outlinewidth\":0,\"ticks\":\"\"}}}],\"scatterpolar\":[{\"type\":\"scatterpolar\",\"marker\":{\"colorbar\":{\"outlinewidth\":0,\"ticks\":\"\"}}}],\"histogram\":[{\"marker\":{\"pattern\":{\"fillmode\":\"overlay\",\"size\":10,\"solidity\":0.2}},\"type\":\"histogram\"}],\"scattergl\":[{\"type\":\"scattergl\",\"marker\":{\"colorbar\":{\"outlinewidth\":0,\"ticks\":\"\"}}}],\"scatter3d\":[{\"type\":\"scatter3d\",\"line\":{\"colorbar\":{\"outlinewidth\":0,\"ticks\":\"\"}},\"marker\":{\"colorbar\":{\"outlinewidth\":0,\"ticks\":\"\"}}}],\"scattermapbox\":[{\"type\":\"scattermapbox\",\"marker\":{\"colorbar\":{\"outlinewidth\":0,\"ticks\":\"\"}}}],\"scatterternary\":[{\"type\":\"scatterternary\",\"marker\":{\"colorbar\":{\"outlinewidth\":0,\"ticks\":\"\"}}}],\"scattercarpet\":[{\"type\":\"scattercarpet\",\"marker\":{\"colorbar\":{\"outlinewidth\":0,\"ticks\":\"\"}}}],\"carpet\":[{\"aaxis\":{\"endlinecolor\":\"#2a3f5f\",\"gridcolor\":\"white\",\"linecolor\":\"white\",\"minorgridcolor\":\"white\",\"startlinecolor\":\"#2a3f5f\"},\"baxis\":{\"endlinecolor\":\"#2a3f5f\",\"gridcolor\":\"white\",\"linecolor\":\"white\",\"minorgridcolor\":\"white\",\"startlinecolor\":\"#2a3f5f\"},\"type\":\"carpet\"}],\"table\":[{\"cells\":{\"fill\":{\"color\":\"#EBF0F8\"},\"line\":{\"color\":\"white\"}},\"header\":{\"fill\":{\"color\":\"#C8D4E3\"},\"line\":{\"color\":\"white\"}},\"type\":\"table\"}],\"barpolar\":[{\"marker\":{\"line\":{\"color\":\"#E5ECF6\",\"width\":0.5},\"pattern\":{\"fillmode\":\"overlay\",\"size\":10,\"solidity\":0.2}},\"type\":\"barpolar\"}],\"pie\":[{\"automargin\":true,\"type\":\"pie\"}]},\"layout\":{\"autotypenumbers\":\"strict\",\"colorway\":[\"#636efa\",\"#EF553B\",\"#00cc96\",\"#ab63fa\",\"#FFA15A\",\"#19d3f3\",\"#FF6692\",\"#B6E880\",\"#FF97FF\",\"#FECB52\"],\"font\":{\"color\":\"#2a3f5f\"},\"hovermode\":\"closest\",\"hoverlabel\":{\"align\":\"left\"},\"paper_bgcolor\":\"white\",\"plot_bgcolor\":\"#E5ECF6\",\"polar\":{\"bgcolor\":\"#E5ECF6\",\"angularaxis\":{\"gridcolor\":\"white\",\"linecolor\":\"white\",\"ticks\":\"\"},\"radialaxis\":{\"gridcolor\":\"white\",\"linecolor\":\"white\",\"ticks\":\"\"}},\"ternary\":{\"bgcolor\":\"#E5ECF6\",\"aaxis\":{\"gridcolor\":\"white\",\"linecolor\":\"white\",\"ticks\":\"\"},\"baxis\":{\"gridcolor\":\"white\",\"linecolor\":\"white\",\"ticks\":\"\"},\"caxis\":{\"gridcolor\":\"white\",\"linecolor\":\"white\",\"ticks\":\"\"}},\"coloraxis\":{\"colorbar\":{\"outlinewidth\":0,\"ticks\":\"\"}},\"colorscale\":{\"sequential\":[[0.0,\"#0d0887\"],[0.1111111111111111,\"#46039f\"],[0.2222222222222222,\"#7201a8\"],[0.3333333333333333,\"#9c179e\"],[0.4444444444444444,\"#bd3786\"],[0.5555555555555556,\"#d8576b\"],[0.6666666666666666,\"#ed7953\"],[0.7777777777777778,\"#fb9f3a\"],[0.8888888888888888,\"#fdca26\"],[1.0,\"#f0f921\"]],\"sequentialminus\":[[0.0,\"#0d0887\"],[0.1111111111111111,\"#46039f\"],[0.2222222222222222,\"#7201a8\"],[0.3333333333333333,\"#9c179e\"],[0.4444444444444444,\"#bd3786\"],[0.5555555555555556,\"#d8576b\"],[0.6666666666666666,\"#ed7953\"],[0.7777777777777778,\"#fb9f3a\"],[0.8888888888888888,\"#fdca26\"],[1.0,\"#f0f921\"]],\"diverging\":[[0,\"#8e0152\"],[0.1,\"#c51b7d\"],[0.2,\"#de77ae\"],[0.3,\"#f1b6da\"],[0.4,\"#fde0ef\"],[0.5,\"#f7f7f7\"],[0.6,\"#e6f5d0\"],[0.7,\"#b8e186\"],[0.8,\"#7fbc41\"],[0.9,\"#4d9221\"],[1,\"#276419\"]]},\"xaxis\":{\"gridcolor\":\"white\",\"linecolor\":\"white\",\"ticks\":\"\",\"title\":{\"standoff\":15},\"zerolinecolor\":\"white\",\"automargin\":true,\"zerolinewidth\":2},\"yaxis\":{\"gridcolor\":\"white\",\"linecolor\":\"white\",\"ticks\":\"\",\"title\":{\"standoff\":15},\"zerolinecolor\":\"white\",\"automargin\":true,\"zerolinewidth\":2},\"scene\":{\"xaxis\":{\"backgroundcolor\":\"#E5ECF6\",\"gridcolor\":\"white\",\"linecolor\":\"white\",\"showbackground\":true,\"ticks\":\"\",\"zerolinecolor\":\"white\",\"gridwidth\":2},\"yaxis\":{\"backgroundcolor\":\"#E5ECF6\",\"gridcolor\":\"white\",\"linecolor\":\"white\",\"showbackground\":true,\"ticks\":\"\",\"zerolinecolor\":\"white\",\"gridwidth\":2},\"zaxis\":{\"backgroundcolor\":\"#E5ECF6\",\"gridcolor\":\"white\",\"linecolor\":\"white\",\"showbackground\":true,\"ticks\":\"\",\"zerolinecolor\":\"white\",\"gridwidth\":2}},\"shapedefaults\":{\"line\":{\"color\":\"#2a3f5f\"}},\"annotationdefaults\":{\"arrowcolor\":\"#2a3f5f\",\"arrowhead\":0,\"arrowwidth\":1},\"geo\":{\"bgcolor\":\"white\",\"landcolor\":\"#E5ECF6\",\"subunitcolor\":\"white\",\"showland\":true,\"showlakes\":true,\"lakecolor\":\"white\"},\"title\":{\"x\":0.05},\"mapbox\":{\"style\":\"light\"}}},\"yaxis\":{\"title\":{\"text\":\"Predictive Power Score (PPS)\"},\"range\":[0,1.05]},\"xaxis\":{\"range\":[-3,7],\"type\":\"category\",\"title\":{\"text\":\"Column\"}},\"legend\":{\"x\":1.0,\"y\":1.0},\"barmode\":\"group\",\"height\":500,\"title\":{\"text\":\"Predictive Power Score (PPS) - Can a feature predict the label by itself?\"}}}",
           "type": "plotly"
          },
          {
           "payload": "The Predictive Power Score (PPS) is used to estimate the ability of a feature to predict the label by itself (Read more about <a href=https://docs.deepchecks.com/stable/tabular/auto_checks/train_test_validation/plot_feature_label_correlation_change.html target=\"_blank\">Predictive Power Score</a>). A high PPS (close to 1) can mean that this feature's success in predicting the label is actually due to data leakage - meaning that the feature holds information that is based on the label to begin with.",
           "type": "html"
          }
         ],
         "header": "Feature Label Correlation - Test Dataset",
         "type": "CheckResult",
         "value": {
          "engine_capacity": 0.2943046415120718,
          "fuel_type": 0.042250189832246376,
          "kilometers_driven": 0.017870329389987116,
          "max_power_output": 0.4093082848562559,
          "ownership": 0.08140052027600075,
          "transmission_Automatic": 0.033070877957251166,
          "transmission_Manual": 0.033070877957251166,
          "vehicle_year": 0.32620303634215453
         }
        },
        {
         "check": {
          "name": "Outlier Sample Detection",
          "params": {
           "columns": null,
           "extent_parameter": 3,
           "ignore_columns": null,
           "n_samples": 5000,
           "n_to_show": 5,
           "nearest_neighbors_percent": 0.01,
           "random_state": 42,
           "timeout": 10
          },
          "summary": "Detects outliers in a dataset using the LoOP algorithm. <a href=\"https://docs.deepchecks.com/0.17/tabular/auto_checks/data_integrity/plot_outlier_sample_detection.html?utm_source=display_output&utm_medium=referral&utm_campaign=check_link\" target=\"_blank\">Read More...</a>"
         },
         "conditions_results": [],
         "display": [
          {
           "payload": "<span>\n                    The Outlier Probability Score is calculated by the LoOP algorithm which measures the local deviation\n                    of density of a given sample with respect to its neighbors. These outlier scores are directly\n                    interpretable as a probability of an object being an outlier (see\n                    <a href=\"https://www.dbs.ifi.lmu.de/Publikationen/Papers/LoOP1649.pdf\"\n                    target=\"_blank\" rel=\"noopener noreferrer\">link</a> for more information).<br><br>\n                    </span>",
           "type": "html"
          },
          {
           "payload": [
            {
             "Outlier Probability Score": 0.9992914220910745,
             "engine_capacity": 1198,
             "fuel_type": 2,
             "kilometers_driven": 5000,
             "max_power_output": 108.5,
             "ownership": 0,
             "price": 950000,
             "transmission_Automatic": 1,
             "transmission_Manual": 0,
             "vehicle_year": 2020
            },
            {
             "Outlier Probability Score": 0.9985010639589202,
             "engine_capacity": 1462,
             "fuel_type": 2,
             "kilometers_driven": 10000,
             "max_power_output": 103.26,
             "ownership": 0,
             "price": 737000,
             "transmission_Automatic": 1,
             "transmission_Manual": 0,
             "vehicle_year": 2020
            },
            {
             "Outlier Probability Score": 0.9952202595270556,
             "engine_capacity": 1456.1100978059742,
             "fuel_type": 1,
             "kilometers_driven": 41232,
             "max_power_output": 0,
             "ownership": 0,
             "price": 589000,
             "transmission_Automatic": 0,
             "transmission_Manual": 1,
             "vehicle_year": 2017
            },
            {
             "Outlier Probability Score": 0.9952202595270556,
             "engine_capacity": 1456.1100978059742,
             "fuel_type": 1,
             "kilometers_driven": 41232,
             "max_power_output": 0,
             "ownership": 0,
             "price": 589000,
             "transmission_Automatic": 0,
             "transmission_Manual": 1,
             "vehicle_year": 2017
            },
            {
             "Outlier Probability Score": 0.9939966458099774,
             "engine_capacity": 1197,
             "fuel_type": 2,
             "kilometers_driven": 19000,
             "max_power_output": 81.8,
             "ownership": 1,
             "price": 570000,
             "transmission_Automatic": 1,
             "transmission_Manual": 0,
             "vehicle_year": 2019
            }
           ],
           "type": "dataframe"
          },
          {
           "payload": "<p style=\"font-size:0.9em;line-height:1;\"><i>Note - data sampling: Data is sampled from the original dataset, running on 5000 samples out of 5180. Sample size can be controlled with the \"n_samples\" parameter.</i></p>",
           "type": "html"
          }
         ],
         "header": "Outlier Sample Detection - Train Dataset",
         "type": "CheckResult",
         "value": [
          0,
          0,
          0,
          0,
          0,
          0,
          0,
          0,
          0,
          0,
          0,
          0,
          0,
          0,
          0,
          0,
          0,
          0,
          0,
          0,
          0,
          0,
          0,
          0,
          0,
          0,
          0,
          0,
          0,
          0,
          0,
          0,
          0,
          0,
          0,
          0,
          0,
          0,
          0,
          0,
          0,
          0,
          0,
          0,
          0,
          0,
          0,
          0,
          0,
          0,
          0,
          0,
          0,
          0,
          0,
          0,
          0,
          0,
          0,
          0,
          0,
          0,
          0,
          0,
          0,
          0,
          0,
          0,
          0,
          0,
          0,
          0,
          0,
          0,
          0,
          0,
          0,
          0,
          0,
          0,
          0,
          0,
          0,
          0,
          0,
          0,
          0,
          0,
          0,
          0,
          0,
          0,
          0,
          0,
          0,
          0,
          0,
          0,
          0,
          0,
          0,
          0,
          0,
          0,
          0,
          0,
          0,
          0,
          0,
          0,
          0,
          0,
          0,
          0,
          0,
          0,
          0,
          0,
          0,
          0,
          0,
          0,
          0,
          0,
          0,
          0,
          0,
          0,
          0,
          0,
          0,
          0,
          0,
          0,
          0,
          0,
          0,
          0,
          0,
          0,
          0,
          0,
          0,
          0,
          0,
          0,
          0,
          0,
          0,
          0,
          0,
          0,
          0,
          0,
          0,
          0,
          0,
          0,
          0,
          0,
          0,
          0,
          0,
          0,
          0,
          0,
          0,
          0,
          0,
          0,
          0,
          0,
          0,
          0,
          0,
          0,
          0,
          0,
          0,
          0,
          0,
          0,
          0,
          0,
          0,
          0,
          0,
          0,
          0,
          0,
          0,
          0,
          0,
          0,
          0,
          0,
          0,
          0,
          0,
          0,
          0,
          0,
          0,
          0,
          0,
          0,
          0,
          0,
          0,
          0,
          0,
          0,
          0,
          0,
          0,
          0,
          0,
          0,
          0,
          0,
          0,
          0,
          0,
          0,
          0,
          0,
          0,
          0,
          0,
          0,
          0,
          0,
          0,
          0,
          0,
          0,
          0,
          0,
          0,
          0,
          0,
          0,
          0,
          0,
          0,
          0,
          0,
          0,
          0,
          0,
          0,
          0,
          0,
          0,
          0,
          0,
          0,
          0,
          0,
          0,
          0,
          0,
          0,
          0,
          0,
          0,
          0,
          0,
          0,
          0,
          0,
          0,
          0,
          0,
          0,
          0,
          0,
          0,
          0,
          0,
          0,
          0,
          0,
          0,
          0,
          0,
          0,
          0,
          0,
          0,
          0,
          0,
          0,
          0,
          0,
          0,
          0,
          0,
          0,
          0,
          0,
          0,
          0,
          0,
          0,
          0,
          0,
          0,
          0,
          0,
          0,
          0,
          0,
          0,
          0,
          0,
          0,
          0,
          0,
          0,
          0,
          0,
          0,
          0.0006946624589801348,
          0.001120637629469748,
          0.001969282069920848,
          0.002136628772750615,
          0.002499095150883742,
          0.0030043178051018453,
          0.0032039050490653017,
          0.0038037603094234467,
          0.0040442171858055395,
          0.004132292153032353,
          0.004499295964140574,
          0.004826188654290401,
          0.004996436094479428,
          0.005107388187494685,
          0.005107388187494685,
          0.005107388187494685,
          0.005107388187494685,
          0.005107388187494685,
          0.005292278809405357,
          0.00570240893995223,
          0.006086641351766705,
          0.0063850586333415536,
          0.006833203348720723,
          0.007603869279022167,
          0.007880420774324454,
          0.008404947306900088,
          0.008744993556355196,
          0.00947042939552719,
          0.009824539745338734,
          0.010532691505625778,
          0.010823377223159588,
          0.011028558542388697,
          0.011130908280984744,
          0.011337816788198915,
          0.01157304912180797,
          0.011923375946232528,
          0.012278496115824915,
          0.012695907736310264,
          0.012847763574325799,
          0.013407710910441644,
          0.013560963697354862,
          0.01383296037126588,
          0.014171932565460591,
          0.014252275410253028,
          0.014528118168378122,
          0.015008269262538024,
          0.015296835106169172,
          0.015605173429353593,
          0.01619514960286235,
          0.01690710657507863,
          0.017472794305500323,
          0.017940779448393927,
          0.01821887238358021,
          0.018401873860951858,
          0.01863000096457831,
          0.019011752676660155,
          0.019335134299130773,
          0.01969861218351764,
          0.02032010031984637,
          0.020767417666354652,
          0.021205530663419615,
          0.02148223799601564,
          0.021963436033867276,
          0.022214163217468916,
          0.022214163217468916,
          0.022214163217468916,
          0.022214163217468916,
          0.022214163217468916,
          0.02251732929703487,
          0.02305973619481197,
          0.023272350381336786,
          0.02410062125136071,
          0.02456881635194814,
          0.024720068691857014,
          0.025046683779533906,
          0.025211275379449116,
          0.025489961593406274,
          0.02573906401341529,
          0.026016531969883756,
          0.02641001614248436,
          0.026689181177555223,
          0.027080054454235756,
          0.027331066197887086,
          0.027474158746018933,
          0.027848904019026836,
          0.028082407129323403,
          0.02866265181918716,
          0.028977406219993243,
          0.029291547488970032,
          0.029537223656841676,
          0.02975915479605354,
          0.029940692342632476,
          0.030083337539246444,
          0.030489118547022222,
          0.030936632674910623,
          0.031213190231854936,
          0.03164051092528292,
          0.03198822316857962,
          0.03215052945576702,
          0.03237296390527268,
          0.03245149211735017,
          0.03262950761638718,
          0.03277158575127976,
          0.033049354822108155,
          0.0335112888221498,
          0.03414608251431329,
          0.03435491647599531,
          0.034628436021659555,
          0.03481835589625065,
          0.03512041897818688,
          0.0353544945981052,
          0.035805757442642194,
          0.036223758749075116,
          0.03726994054386267,
          0.037635737693574964,
          0.03834111437064986,
          0.03859690119032307,
          0.03904653174070251,
          0.039474463824441426,
          0.03975881886259491,
          0.04018427090319239,
          0.040578883585512905,
          0.040892703183642756,
          0.041319766260804316,
          0.04144355329492962,
          0.04200298365243579,
          0.04272008142897956,
          0.04326784616759646,
          0.04365217015810306,
          0.043816623735219114,
          0.04404376315139075,
          0.044422829229260385,
          0.044701687105056086,
          0.045286183853839444,
          0.045690910646083285,
          0.04601886228751938,
          0.04653554605671326,
          0.04687371946036692,
          0.04759035889466542,
          0.04790079409220603,
          0.04790079409220603,
          0.04790079409220603,
          0.04790079409220603,
          0.04790079409220603,
          0.04857612532600942,
          0.049181026901026825,
          0.04946906685851434,
          0.04971147508521051,
          0.04978202360519183,
          0.05008608231867987,
          0.05049405093173311,
          0.05073002405195624,
          0.051282487722333424,
          0.051876674121618255,
          0.052381981918282534,
          0.05284291401810126,
          0.053025840880023746,
          0.05328046897528162,
          0.05351746791696703,
          0.05386838492053219,
          0.054100645842458446,
          0.054621321462616564,
          0.055087813088781586,
          0.055716355044674204,
          0.05590566836883791,
          0.056220587417276056,
          0.05637954559760308,
          0.05672838983160139,
          0.05731462069610974,
          0.05766372393381166,
          0.057820298446976434,
          0.058207129747684626,
          0.058523892946488326,
          0.058773826667988124,
          0.059160205329945405,
          0.05938072989376261,
          0.0596752668903139,
          0.0602853747672857,
          0.060828019970905485,
          0.06154388084205562,
          0.06178147412848163,
          0.06182373136173526,
          0.062454856135729146,
          0.06280394708404927,
          0.06330939609555174,
          0.06378740810331927,
          0.06389751894318786,
          0.06475257706988038,
          0.06532300630917721,
          0.06569178025655247,
          0.06647971920551056,
          0.06691915008819543,
          0.06726314693641436,
          0.06769715775144113,
          0.068040707006425,
          0.06859821173204034,
          0.06901138223052919,
          0.07008139272267738,
          0.07033827261685104,
          0.0705715470008714,
          0.07112480921574503,
          0.07127536270653641,
          0.07170580147708772,
          0.07177300571021793,
          0.07210704538947846,
          0.07264766755860151,
          0.07290566360423079,
          0.07322045347210113,
          0.07347204292365044,
          0.07360676631036278,
          0.07406468198309621,
          0.07451972410420944,
          0.07498746171627801,
          0.07532317850815683,
          0.07571683717522451,
          0.07602195320424901,
          0.07628874457671496,
          0.0764100339230308,
          0.0769179400401489,
          0.07740859661837524,
          0.07779485337348474,
          0.07844933280618516,
          0.0790370457588484,
          0.07916656908502342,
          0.07931595741047036,
          0.07990869544055806,
          0.08003000441020901,
          0.08049454194187207,
          0.08118529292501304,
          0.08143597540483859,
          0.0817024560636296,
          0.0821983015824584,
          0.0825993738049497,
          0.08274805834386022,
          0.08310272219561961,
          0.08361342529843636,
          0.08373642615930824,
          0.08396150243119743,
          0.08451710354137916,
          0.0853560224126724,
          0.0861046364915866,
          0.08663740118711719,
          0.08697451269645794,
          0.08729704549988583,
          0.08851320571719946,
          0.08908638079314081,
          0.08933702324777952,
          0.0894068909576227,
          0.09026464571010102,
          0.09058762974470302,
          0.09119946526116056,
          0.09128734597028272,
          0.09190095612266055,
          0.09212792597514659,
          0.09258894678290334,
          0.09367851798303281,
          0.09433866727790421,
          0.09484283398789205,
          0.09532079964333894,
          0.09554913618183337,
          0.09608509396724692,
          0.09662496925958733,
          0.09731443548200679,
          0.09777769865404111,
          0.09818016600612185,
          0.09854217537061041,
          0.09903547575062722,
          0.0992392473633951,
          0.09960962821395225,
          0.09975258082750114,
          0.10054543562226556,
          0.10124721538751419,
          0.10144482420822509,
          0.10197819075165965,
          0.10228766724256015,
          0.10284912397309337,
          0.10329791849301487,
          0.10395600629001732,
          0.10422565437031954,
          0.10435921422762666,
          0.10478088311697824,
          0.10511866324451441,
          0.1057178472997356,
          0.10635814145245251,
          0.10734867968457518,
          0.10773240816579359,
          0.10826598432268392,
          0.10867136394479032,
          0.10910684036761872,
          0.10951396743138632,
          0.10986331225131336,
          0.11042502695324975,
          0.11096125565040989,
          0.11135521563292812,
          0.11169808950157518,
          0.1120329278350148,
          0.1123543285975774,
          0.1127069421206852,
          0.11300092274095086,
          0.11343365605019534,
          0.11399157277027477,
          0.11469700240975139,
          0.11490375005757765,
          0.11509133967869845,
          0.11520841892324149,
          0.11565427864930598,
          0.11615125496554109,
          0.11645698514270995,
          0.11708588562282322,
          0.11736209406749726,
          0.11763464192625754,
          0.11842518954273629,
          0.11905443548116386,
          0.11942316044520555,
          0.11959492787629378,
          0.12049456821042157,
          0.12077631556439548,
          0.12144908759231411,
          0.12150460540576422,
          0.12253474731304953,
          0.12369724770576476,
          0.12391938201930497,
          0.1248969166535266,
          0.12524862914777707,
          0.12568976781790578,
          0.12623044086725424,
          0.12640043535930573,
          0.12704184751866848,
          0.1279788156969144,
          0.12855660323540777,
          0.12902178938481768,
          0.12960311084402523,
          0.12992231664676857,
          0.1319304618437846,
          0.13231197246663906,
          0.13301799294827304,
          0.1336512079080547,
          0.13403134364401217,
          0.1345344588995771,
          0.13499143818649537,
          0.1353842094068984,
          0.13564260174149262,
          0.13618526454332344,
          0.13684877209158786,
          0.13721321393188113,
          0.1376949188196498,
          0.13832302003579322,
          0.13896084184713822,
          0.13980476707579087,
          0.14033116700415715,
          0.1409689100133506,
          0.14227204145464864,
          0.14269378184867254,
          0.1430178771249818,
          0.14329029716895045,
          0.14387089578170592,
          0.1443947830821898,
          0.1447390107759104,
          0.1451144328409961,
          0.14636852195614725,
          0.1467954605970943,
          0.14762989767588316,
          0.14831834288889023,
          0.14872938241182007,
          0.14943133386538315,
          0.14981132920181156,
          0.15024022011709454,
          0.15077205394487644,
          0.15171856714812249,
          0.15214450770490706,
          0.15242647955896307,
          0.1531116047012411,
          0.15378752381173222,
          0.15413101073141575,
          0.15541081191745368,
          0.1558872890733085,
          0.15612694250493744,
          0.15673336906849056,
          0.15770125602005855,
          0.15857731692564242,
          0.16020209840523295,
          0.160409696024269,
          0.1615683159502545,
          0.16181877485024143,
          0.16282340741786724,
          0.16321840596536805,
          0.16401360807207896,
          0.16519942522731274,
          0.16628666530244102,
          0.16701543280830441,
          0.16746253877222297,
          0.16863803263907862,
          0.16962952380834553,
          0.16988929123584437,
          0.17039759785329198,
          0.17086956280301652,
          0.1713361628663499,
          0.17168010795239091,
          0.17212433738354807,
          0.17317357707725936,
          0.17397220733762067,
          0.17447750844722826,
          0.17489349347611213,
          0.17540147733008557,
          0.17618415796714496,
          0.17696608667827013,
          0.17828772726792652,
          0.17873343612652623,
          0.17939534500086948,
          0.18068782048782062,
          0.18125974518280574,
          0.18205600578485626,
          0.18243196252622262,
          0.18289094669550837,
          0.18375557960800626,
          0.18423202911521452,
          0.18506847829739925,
          0.18556044061828073,
          0.18690768746193415,
          0.18742968744863908,
          0.18845420551897654,
          0.18963962332173614,
          0.1905068439250769,
          0.19085384940077363,
          0.19157846196582065,
          0.1922599485723256,
          0.19390055461386616,
          0.1944402609075911,
          0.1951667639211612,
          0.19620138633071926,
          0.19655643305541973,
          0.19723667067794257,
          0.1978555559288206,
          0.1984442656945782,
          0.19883622707853216,
          0.2001023352834562,
          0.20106386811378188,
          0.2023010843232256,
          0.20319215685902642,
          0.20359449557154197,
          0.20412669969877664,
          0.20495254905843588,
          0.20583622377422137,
          0.20737187651074754,
          0.2086163485163944,
          0.2093039888024073,
          0.21018899798847057,
          0.2111777232638927,
          0.21135960867811304,
          0.21310261316304874,
          0.2140250201942903,
          0.21503285066046854,
          0.21556165041103448,
          0.21654660030848574,
          0.21741109846347495,
          0.21801172862105775,
          0.21916677550672828,
          0.22034367906376562,
          0.22137860784052582,
          0.2218960450655669,
          0.22239345797778956,
          0.2230260143513682,
          0.22358000190528976,
          0.2245298392916416,
          0.2245298392916416,
          0.2245298392916416,
          0.2245298392916416,
          0.2245770590266912,
          0.2251303141278642,
          0.2257810084826201,
          0.22646705573933792,
          0.22733415455602804,
          0.22766756888994846,
          0.22913646458542583,
          0.2301155224325801,
          0.23113180084973864,
          0.2323215453135435,
          0.23377654507103163,
          0.23497980764204626,
          0.23698106309513767,
          0.23710609735187008,
          0.23814247445331233,
          0.23898307739526833,
          0.24062673833166134,
          0.241210544233842,
          0.24361512300577054,
          0.24431060869165047,
          0.24513707081629021,
          0.24672245581073624,
          0.24771990888489884,
          0.24889287213967273,
          0.24939963135248355,
          0.2510313087005847,
          0.2519120258785859,
          0.2527782124507117,
          0.25409441963738855,
          0.25563969127392044,
          0.2575073908484267,
          0.25913908995307244,
          0.26031725154804647,
          0.26164325843559144,
          0.26259947576677395,
          0.2635560362320257,
          0.2658262367277424,
          0.26692751825142297,
          0.26869075709700424,
          0.26966870479540134,
          0.2702626067613559,
          0.2711393565432089,
          0.27215523547707804,
          0.2736829116432276,
          0.2750425876964334,
          0.27577116494540593,
          0.27691826503830813,
          0.2780115802133803,
          0.2790166742063614,
          0.27944482240414903,
          0.28043968365703303,
          0.2821238123600812,
          0.2830090565134088,
          0.28436345569154065,
          0.2857708132826964,
          0.2864679732602454,
          0.286864718896403,
          0.2881898413600634,
          0.28988464608437825,
          0.2908030515168755,
          0.29264147188862827,
          0.29445118872443504,
          0.29564335619792087,
          0.2961968633519999,
          0.29727624967593713,
          0.29838902128871364,
          0.29999774998456463,
          0.3009933247581767,
          0.303066806332859,
          0.30367689402072695,
          0.30728550327420817,
          0.3081712915366206,
          0.3085001450159459,
          0.31065636412342595,
          0.31220301919664917,
          0.31287970872157267,
          0.31362801538437146,
          0.314229684732736,
          0.3156505870408245,
          0.3173939095990226,
          0.31957087595140304,
          0.3209808765224884,
          0.32139311875980126,
          0.32187542390188784,
          0.32514995346309195,
          0.32831205424982995,
          0.3286221477800024,
          0.33053732098987476,
          0.33303288782068735,
          0.3333694054297182,
          0.33530530477009246,
          0.33736134881938074,
          0.3402537976656333,
          0.3436287032805603,
          0.34476477302982944,
          0.3462427996189026,
          0.3499890442521931,
          0.3519291380002731,
          0.3529291534448502,
          0.35410841298523693,
          0.355114319749771,
          0.3559812500289458,
          0.3589034558328411,
          0.36160993246123657,
          0.3634850151154793,
          0.3644398632202753,
          0.36582326996482084,
          0.3671011258022691,
          0.36845175058709057,
          0.36914749467338875,
          0.37058364592674975,
          0.3717578212449913,
          0.37585563300322045,
          0.3786123812206086,
          0.38183077999472376,
          0.38552988673347466,
          0.3886373256418774,
          0.39182383096310447,
          0.39489305871290314,
          0.395840414395887,
          0.3969712556018776,
          0.4026654075866718,
          0.4048597466102261,
          0.40690123678442824,
          0.40982783884224344,
          0.4115209225211901,
          0.4139614350709612,
          0.41646106915816217,
          0.4197364189739552,
          0.42238380502663536,
          0.424381469270221,
          0.4272159275319251,
          0.43026376793595983,
          0.43221399817188166,
          0.4353857686680128,
          0.4370584828514075,
          0.44090985706095487,
          0.4444250561044089,
          0.44635228351778194,
          0.4532088459106967,
          0.45583655682965846,
          0.4581179550334811,
          0.46371354797602765,
          0.466857660019931,
          0.4698300189356545,
          0.47199382575408594,
          0.47329042848175795,
          0.4765342739255431,
          0.47770330187044246,
          0.4805286557084391,
          0.48332734729536075,
          0.48819886243093014,
          0.49105659749961694,
          0.4931897024088802,
          0.4974396940432002,
          0.49961289987087276,
          0.5024701553180019,
          0.5111731466126582,
          0.5125979178342075,
          0.5137162938734076,
          0.5173712652862621,
          0.5261524298671003,
          0.5282487144495865,
          0.531058665091408,
          0.5348934030802125,
          0.5370907233657427,
          0.5401735057664336,
          0.5436097922520753,
          0.5483377177450843,
          0.555809795025203,
          0.5625484864794217,
          0.5715122935726674,
          0.5751101385443774,
          0.5780799406883875,
          0.5797226311747866,
          0.5831981391624934,
          0.5889773176836217,
          0.590410755131434,
          0.5949156970620229,
          0.6006098114244067,
          0.6063595665586979,
          0.6123563737794884,
          0.619897800306278,
          0.6262816755763584,
          0.6348400945072392,
          0.6381540202819651,
          0.6550318567178007,
          0.6617732164451914,
          0.6680776787219755,
          0.6739629501170963,
          0.6833088872711299,
          0.6919652784824413,
          0.6973721636172568,
          0.7034650472741646,
          0.7156966041311349,
          0.7236694349660365,
          0.7321448831739005,
          0.751703299176084,
          0.7638249027731263,
          0.7813618347222386,
          0.8024778579646785,
          0.8117510959985144,
          0.823291658674636,
          0.8347958360380702,
          0.8664116481275607,
          0.8842816473756084,
          0.8875463331774761,
          0.9255430084480758,
          0.965254183709402,
          0.9939966458099774
         ]
        },
        {
         "check": {
          "name": "Outlier Sample Detection",
          "params": {
           "columns": null,
           "extent_parameter": 3,
           "ignore_columns": null,
           "n_samples": 5000,
           "n_to_show": 5,
           "nearest_neighbors_percent": 0.01,
           "random_state": 42,
           "timeout": 10
          },
          "summary": "Detects outliers in a dataset using the LoOP algorithm. <a href=\"https://docs.deepchecks.com/0.17/tabular/auto_checks/data_integrity/plot_outlier_sample_detection.html?utm_source=display_output&utm_medium=referral&utm_campaign=check_link\" target=\"_blank\">Read More...</a>"
         },
         "conditions_results": [],
         "display": [
          {
           "payload": "<span>\n                    The Outlier Probability Score is calculated by the LoOP algorithm which measures the local deviation\n                    of density of a given sample with respect to its neighbors. These outlier scores are directly\n                    interpretable as a probability of an object being an outlier (see\n                    <a href=\"https://www.dbs.ifi.lmu.de/Publikationen/Papers/LoOP1649.pdf\"\n                    target=\"_blank\" rel=\"noopener noreferrer\">link</a> for more information).<br><br>\n                    </span>",
           "type": "html"
          },
          {
           "payload": [
            {
             "Outlier Probability Score": 0.9958269996061052,
             "engine_capacity": 1373,
             "fuel_type": 3,
             "kilometers_driven": 35000,
             "max_power_output": 80.9,
             "ownership": 0,
             "price": 545000,
             "transmission_Automatic": 0,
             "transmission_Manual": 1,
             "vehicle_year": 2014
            },
            {
             "Outlier Probability Score": 0.9594496700408089,
             "engine_capacity": 909,
             "fuel_type": 1,
             "kilometers_driven": 10000,
             "max_power_output": 45,
             "ownership": 0,
             "price": 500000,
             "transmission_Automatic": 0,
             "transmission_Manual": 1,
             "vehicle_year": 2018
            },
            {
             "Outlier Probability Score": 0.9426066241689208,
             "engine_capacity": 1086,
             "fuel_type": 2,
             "kilometers_driven": 25000,
             "max_power_output": 68,
             "ownership": 2,
             "price": 466000,
             "transmission_Automatic": 1,
             "transmission_Manual": 0,
             "vehicle_year": 2019
            },
            {
             "Outlier Probability Score": 0.8406150625259949,
             "engine_capacity": 998,
             "fuel_type": 2,
             "kilometers_driven": 7200,
             "max_power_output": 100.5,
             "ownership": 0,
             "price": 780000,
             "transmission_Automatic": 0,
             "transmission_Manual": 1,
             "vehicle_year": 2019
            },
            {
             "Outlier Probability Score": 0.8258866419511807,
             "engine_capacity": 1194,
             "fuel_type": 2,
             "kilometers_driven": 6000,
             "max_power_output": 94.68,
             "ownership": 0,
             "price": 700000,
             "transmission_Automatic": 0,
             "transmission_Manual": 1,
             "vehicle_year": 2019
            }
           ],
           "type": "dataframe"
          }
         ],
         "header": "Outlier Sample Detection - Test Dataset",
         "type": "CheckResult",
         "value": [
          0,
          0,
          0,
          0,
          0,
          0,
          0,
          0,
          0,
          0,
          0,
          0,
          0,
          0,
          0,
          0,
          0,
          0,
          0,
          0,
          0,
          0,
          0,
          0,
          0,
          0,
          0,
          0,
          0,
          0,
          0,
          0,
          0,
          0,
          0,
          0,
          0,
          0,
          0,
          0,
          0,
          0,
          0,
          0,
          0,
          0,
          0,
          0,
          0,
          0,
          0,
          0,
          0,
          0,
          0,
          0,
          0,
          0,
          0,
          0,
          0,
          0,
          0,
          0,
          0,
          0,
          0,
          0,
          0,
          0,
          0,
          0,
          0,
          0,
          0,
          0,
          0,
          0,
          0,
          0,
          0,
          0,
          0,
          0,
          0,
          0,
          0,
          0,
          0,
          0,
          0,
          0,
          0,
          0,
          0,
          0,
          0,
          0,
          0,
          0,
          0,
          0,
          0,
          0,
          0,
          0,
          0,
          0,
          0,
          0,
          0,
          0,
          0,
          0,
          0,
          0,
          0,
          0,
          0,
          0,
          0,
          0,
          0,
          0,
          0,
          0,
          0,
          0,
          0,
          0,
          0,
          0,
          0,
          0,
          0,
          0,
          0,
          0,
          0,
          0,
          0,
          0,
          0,
          0,
          0,
          0,
          0,
          0,
          0,
          0,
          0,
          0,
          0,
          0,
          0,
          0,
          0,
          0,
          0,
          0,
          0,
          0,
          0,
          0,
          0,
          0,
          0,
          0,
          0,
          0,
          0,
          0,
          0,
          0,
          0,
          0,
          0,
          0,
          0,
          0,
          0,
          0,
          0,
          0,
          0,
          0,
          0,
          0,
          0,
          0,
          0,
          0,
          0,
          0,
          0,
          0,
          0,
          0,
          0,
          0,
          0,
          0,
          0,
          0,
          0,
          0,
          0,
          0,
          0,
          0,
          0,
          0,
          0,
          0,
          0,
          0,
          0,
          0,
          0,
          0,
          0,
          0,
          0,
          0,
          0,
          0,
          0,
          0,
          0,
          0,
          0,
          0,
          0,
          0,
          0,
          0,
          0,
          0,
          0,
          0,
          0,
          0,
          0,
          0,
          0,
          0,
          0,
          0,
          0,
          0,
          0,
          0,
          0,
          0,
          0,
          0,
          0,
          0,
          0,
          0,
          0,
          0,
          0,
          0,
          0,
          0,
          0,
          0,
          0,
          0,
          0,
          0,
          0,
          0,
          0,
          0,
          0,
          0,
          0,
          0,
          0,
          0,
          0,
          0,
          0,
          0,
          0,
          0,
          0,
          0,
          0,
          0,
          0,
          0,
          0,
          0,
          0,
          0,
          0,
          0,
          0,
          0,
          0,
          0,
          0,
          0,
          0,
          0,
          0,
          0,
          0,
          0,
          0,
          0,
          0,
          0,
          0,
          0,
          0,
          0,
          0,
          0,
          0,
          0,
          0,
          0,
          0,
          0,
          0.0005442538564876508,
          0.0008246927678098354,
          0.0016396050695979365,
          0.0016880778314154734,
          0.0020382488081734074,
          0.0026619973220911148,
          0.0028603183797185428,
          0.0028881806707730827,
          0.0029273297671212673,
          0.0032946571380050816,
          0.0038421700903607885,
          0.0038483122463886447,
          0.003912018664344454,
          0.003945761639967899,
          0.003945761639967899,
          0.003945761639967899,
          0.003945761639967899,
          0.003945761639967899,
          0.003945761639967899,
          0.004202502000061139,
          0.004574303841599332,
          0.004713379249541239,
          0.0049276704684209326,
          0.006765089526252356,
          0.006927646009066023,
          0.007746618229074288,
          0.00787258096864932,
          0.008025280380571296,
          0.008156633106538708,
          0.008428093899485317,
          0.009190220441140848,
          0.00932249297774539,
          0.009721903495775673,
          0.010658537167692751,
          0.011185143948411365,
          0.0113162717778858,
          0.013036213359625043,
          0.013281338362899053,
          0.013801689530907423,
          0.014313177667499566,
          0.014561453799349503,
          0.01499674242268313,
          0.015053115923071937,
          0.016096668599262856,
          0.016281493151053844,
          0.016543705085081926,
          0.01706604918165397,
          0.017288938305415762,
          0.017818653940163538,
          0.0179237664334387,
          0.018577113074027193,
          0.018620241487154406,
          0.019028026439732774,
          0.019783620643401563,
          0.019977463269108126,
          0.020135473495608194,
          0.02032934792714748,
          0.02106741519813154,
          0.021403814542327843,
          0.021774449855802038,
          0.02226585275183209,
          0.022539375905258688,
          0.022856034290297478,
          0.022877836867673123,
          0.023439256373983988,
          0.023673424696412308,
          0.023771493499051142,
          0.024713787981529765,
          0.024953810609859416,
          0.025134687062041455,
          0.02701263131934573,
          0.02730793871240205,
          0.02749092631697703,
          0.028071451137019317,
          0.02851127725521828,
          0.02851127725521828,
          0.028779759928838786,
          0.029100159280912072,
          0.030424913851880613,
          0.030424913851880613,
          0.030594178724507693,
          0.03129815608555345,
          0.031338017124268654,
          0.0317744104246635,
          0.031984718581063776,
          0.03204113254648092,
          0.03204113254648092,
          0.03214409011710977,
          0.03237564021439774,
          0.03262278800360663,
          0.0334251046446613,
          0.033691619349393145,
          0.03374090430730141,
          0.03388516037793023,
          0.03388516037793023,
          0.03388516037793023,
          0.03388516037793023,
          0.03388516037793023,
          0.03388516037793023,
          0.0339129593447982,
          0.0339129593447982,
          0.0343942669169224,
          0.03453813387346418,
          0.034991479036885695,
          0.0355631894974337,
          0.03567313773397394,
          0.035796355692895084,
          0.03632761609865643,
          0.03641423179620842,
          0.036889578599573855,
          0.036889578599573855,
          0.03712275862608681,
          0.03795484402337351,
          0.03799494251077626,
          0.038304618107874215,
          0.039022605046423645,
          0.039035797073132115,
          0.039307480844371905,
          0.04083423025677383,
          0.04094334837422577,
          0.0412755376569074,
          0.041525965465599196,
          0.042574763468671104,
          0.04276176930450408,
          0.042777665752628063,
          0.04454196435839402,
          0.04470487205240551,
          0.044967345898098206,
          0.04580174868304144,
          0.04595781187802268,
          0.04661611110577944,
          0.04664359122698872,
          0.04693130071786099,
          0.047716488401575344,
          0.0482690679932187,
          0.04873325484343493,
          0.04873863895985373,
          0.04882871830290301,
          0.049049547134963185,
          0.04958524271216388,
          0.05002910175492553,
          0.05002910175492553,
          0.05138043935492303,
          0.05144554071377462,
          0.05165238769336986,
          0.05166280021126492,
          0.05166280021126492,
          0.051710453014857174,
          0.0520742520703448,
          0.0520786904948885,
          0.05209156198709224,
          0.052200324823848426,
          0.052483338683946675,
          0.05254080196928969,
          0.05266910138055979,
          0.052884975337830244,
          0.052933093160238136,
          0.0529370702552079,
          0.05329665424457083,
          0.05333911856462501,
          0.053484104833876195,
          0.054540125050775226,
          0.05477052544159652,
          0.05477328684446092,
          0.0548060343507483,
          0.05517465379183102,
          0.0561731173401948,
          0.056772327427124,
          0.0576549464543246,
          0.05818516579375294,
          0.05884542334175872,
          0.05938061125561263,
          0.05961537023469108,
          0.062002351804724264,
          0.06225293407431442,
          0.06292161132434385,
          0.06314049419032278,
          0.06320096308115403,
          0.06324721690541246,
          0.06439905503787768,
          0.06492372109728607,
          0.06492923360563137,
          0.06602883492863815,
          0.0665688344170512,
          0.06669138655204225,
          0.06733527251965045,
          0.06846926732075936,
          0.06863524495581372,
          0.0706394529468217,
          0.07193415203260893,
          0.07244235157191213,
          0.07289577318800626,
          0.07289577318800626,
          0.07315145876053084,
          0.07335710704321159,
          0.07339120188245353,
          0.07373522985204613,
          0.07481735198929758,
          0.07504736648142389,
          0.07504736648142389,
          0.07802637516139886,
          0.07809444725959305,
          0.07851672778714311,
          0.07874488139090786,
          0.07905645191325182,
          0.07913817275972228,
          0.0792277608935172,
          0.08110540486476583,
          0.08114253001367779,
          0.0818556152249206,
          0.08221814923429101,
          0.08256983631189237,
          0.08359893791899721,
          0.08416563016159873,
          0.0843429096592227,
          0.08474686184778836,
          0.08485797395893728,
          0.08699772327809291,
          0.08748807982608829,
          0.08751319848759101,
          0.08864465551113136,
          0.08867703145149666,
          0.08867703145149666,
          0.08869523724828991,
          0.0888864783304241,
          0.08889143363204838,
          0.08932388956676637,
          0.0897217054545711,
          0.08992722172208326,
          0.09086582533850628,
          0.0913420749367817,
          0.09236320106488229,
          0.09260188879741703,
          0.09320124640764181,
          0.09422866443986887,
          0.0944327431663012,
          0.09445704253974523,
          0.09547802782825074,
          0.09558963211701806,
          0.09570802056908909,
          0.09613269193807351,
          0.09770701366463273,
          0.0981582662712801,
          0.09860135667049129,
          0.09980202922765881,
          0.10012081996009674,
          0.10062777668384922,
          0.10126117314602236,
          0.10146732555407544,
          0.10167799957923261,
          0.10186694343403925,
          0.10312914078718173,
          0.10333338526411638,
          0.10350744455271957,
          0.10394698519329679,
          0.10415014829351427,
          0.1043388199576782,
          0.10512657333909901,
          0.10593090085059495,
          0.10625364352960413,
          0.1067333199903607,
          0.10751192065511879,
          0.10758654708594435,
          0.1078279513092443,
          0.10809511751275044,
          0.10838178083380395,
          0.10867793725469882,
          0.10893132516874351,
          0.11013256431124009,
          0.11078303284612895,
          0.11120639467743093,
          0.11194567994874817,
          0.11296948492765685,
          0.11330688908861855,
          0.11371968614813964,
          0.11554029437812365,
          0.11565615046729233,
          0.11636042608759306,
          0.11717211724279554,
          0.11732426513898689,
          0.11791451271976931,
          0.11972444072976783,
          0.12095910331097272,
          0.12114596605343968,
          0.12178640178077242,
          0.12281757881631128,
          0.12345323207279368,
          0.12437174798133846,
          0.12461003816770842,
          0.1248758930678193,
          0.12655864268020756,
          0.12709988519869614,
          0.1278438908237341,
          0.1302368269573027,
          0.13026308087309188,
          0.13030486801141966,
          0.13034066675913877,
          0.13037682040957693,
          0.1315827606630091,
          0.13318021262063412,
          0.1332498175233979,
          0.13340946712459503,
          0.1348936099031808,
          0.13496806439744619,
          0.13516365650534867,
          0.13563974212108498,
          0.13624430898562626,
          0.13658917626808162,
          0.1374847712365873,
          0.13781931397324265,
          0.1381490708203372,
          0.13821784564434444,
          0.13875715742407158,
          0.13885931791445294,
          0.13916326149659872,
          0.1397984941749864,
          0.1398812403097204,
          0.14140326870327433,
          0.14164369049592138,
          0.14301536444994373,
          0.14318662499505613,
          0.14345921926944463,
          0.14570318711244876,
          0.14685669835660745,
          0.14707771870749925,
          0.14754933672480547,
          0.1487897389736611,
          0.1496736667843502,
          0.15031710914986107,
          0.151595898767978,
          0.151595898767978,
          0.15195443580738155,
          0.15224989111457965,
          0.15266207113840274,
          0.1528636886406947,
          0.1531667649949175,
          0.15341816740728675,
          0.1538903219470817,
          0.1539617985602122,
          0.1545867507474642,
          0.15459159223636687,
          0.1550734581578499,
          0.1556087051231984,
          0.15795536784146866,
          0.15991109595964847,
          0.15997720143216604,
          0.16020061023665483,
          0.16081730829893567,
          0.16205757309143207,
          0.16244664131488634,
          0.16258895306858975,
          0.16367616757584938,
          0.1642321748288655,
          0.16516103992429662,
          0.1653743869424238,
          0.16541493746383618,
          0.16607142006790576,
          0.16654789784777504,
          0.1665765186501493,
          0.1667835664205227,
          0.16759224679152404,
          0.16948219958520444,
          0.1698075228723707,
          0.1698075228723707,
          0.1698075228723707,
          0.1698075228723707,
          0.170843578389468,
          0.17160220099883575,
          0.17233096465767161,
          0.17250674516970088,
          0.1732794608234084,
          0.17367832045640363,
          0.17477813725805796,
          0.17546017320315338,
          0.17598128048598757,
          0.1761738622093922,
          0.1763076378195089,
          0.1772690641934418,
          0.17775226512839273,
          0.1779528430855094,
          0.17892786656367635,
          0.17893359759534846,
          0.17952380535126314,
          0.18055965568991963,
          0.18069113361712752,
          0.18123755794496052,
          0.18218630594760885,
          0.18394368656581292,
          0.186382648781972,
          0.18658288243607787,
          0.18776695919821787,
          0.18979758521137335,
          0.18995739920652735,
          0.19010746785434324,
          0.19070800224055792,
          0.19072534683934655,
          0.19077420382952828,
          0.1920424483620605,
          0.19216456930064937,
          0.19226379042000546,
          0.19437452572651343,
          0.19482258008664216,
          0.19612080496254855,
          0.19623611427891594,
          0.19699072008722454,
          0.19781691256373263,
          0.19805631963420522,
          0.20090854024143298,
          0.20118042415502008,
          0.20122737475534994,
          0.20185780197906653,
          0.2033278804943669,
          0.20524364346284135,
          0.20582434880179862,
          0.20627982309292073,
          0.20762508591492826,
          0.2078077495481381,
          0.21055994042613604,
          0.21296104554326417,
          0.2130843628032179,
          0.21343017763853095,
          0.2149397677288474,
          0.21580108733927394,
          0.21586493968742726,
          0.21653490044172696,
          0.21764252261040928,
          0.21794623999572674,
          0.21850104823971006,
          0.22149794052971422,
          0.22152817111460124,
          0.22248010214932887,
          0.22284767753348703,
          0.22337761979188098,
          0.22360648879500178,
          0.22598338436260693,
          0.22611062572706894,
          0.22613063155846178,
          0.22613063155846178,
          0.22759164691394704,
          0.22792783017423476,
          0.22838534612900174,
          0.22946827838451372,
          0.23240019252637925,
          0.23242766105506438,
          0.2328208951924825,
          0.23309251042136583,
          0.233452095121773,
          0.23354676004352842,
          0.23411415988564255,
          0.23488903658698182,
          0.23542966088542566,
          0.2356957420941163,
          0.23779372574375768,
          0.23904884600047355,
          0.24049000939913376,
          0.24116129539654937,
          0.24139095036765668,
          0.2414272592245724,
          0.24177807820433272,
          0.24218578489750886,
          0.24235177433675492,
          0.24374882634238984,
          0.24542314090662415,
          0.24636279332427613,
          0.24648190290040475,
          0.24674617984692196,
          0.24753987027348218,
          0.24963051294679198,
          0.2512832394127996,
          0.2513453743879351,
          0.2546014557078652,
          0.2578348593157291,
          0.26060897727849414,
          0.26180083084463546,
          0.261853029385477,
          0.26302870704900744,
          0.2642617824838772,
          0.2645261754076078,
          0.2678729834093243,
          0.26879509613279823,
          0.2694459990394361,
          0.2697902371010962,
          0.27003110779632683,
          0.27167436211909723,
          0.271812939790143,
          0.2723860027149357,
          0.27457893269256983,
          0.2749856556944794,
          0.27557238533148887,
          0.27740924722582416,
          0.27790999098391,
          0.27816135437724615,
          0.2796775388255511,
          0.28022844827493554,
          0.28250985104326526,
          0.2825211947262243,
          0.28414281776140976,
          0.2857227353923446,
          0.2877121312248966,
          0.29200175538229634,
          0.2946964327169364,
          0.29531246525855187,
          0.297421657003976,
          0.2986031669091559,
          0.3001045495601358,
          0.3014166503611585,
          0.30306967868024165,
          0.30356631326615496,
          0.3039215111570526,
          0.30471492579883275,
          0.306721029971126,
          0.3068817189864762,
          0.30962977613528264,
          0.31275357818400695,
          0.31278733857818847,
          0.3134711486271109,
          0.3158830523225628,
          0.31646778240203094,
          0.31852137970760985,
          0.3192023230287792,
          0.32118059922984027,
          0.3216470034568659,
          0.3227130938919911,
          0.3261118948437444,
          0.3271920051494683,
          0.32734177721420044,
          0.32935539787609636,
          0.3297380500525997,
          0.3353911797405668,
          0.33815427378332985,
          0.33985476508126067,
          0.33997580295607815,
          0.3407968872615262,
          0.34357537253049975,
          0.3436927568964893,
          0.3450532471223977,
          0.34896728698439283,
          0.35484145725028815,
          0.35513966227710775,
          0.3558377179027946,
          0.3587253536002278,
          0.3602737123367672,
          0.3606288519415686,
          0.36496165139898307,
          0.36496165139898307,
          0.36588227826612363,
          0.36712339651202897,
          0.3679350063677351,
          0.3680842528343504,
          0.3707384181111907,
          0.37426206948701685,
          0.37608837278107166,
          0.3764566272827622,
          0.37833917826868535,
          0.37854589319244175,
          0.3802634652197791,
          0.38581853579164616,
          0.3879912476633956,
          0.3881513076347349,
          0.39022494968643573,
          0.3932443029726484,
          0.3949933449244219,
          0.401145313112434,
          0.40126386520761326,
          0.402578849263982,
          0.4031648598290147,
          0.40479060427647023,
          0.41127376610811894,
          0.41812806296829397,
          0.41873378969784275,
          0.4208912820951158,
          0.42142903460671777,
          0.4222192843954337,
          0.42432883191012066,
          0.42799480740012597,
          0.431405365643975,
          0.4322923491699122,
          0.4344758972378256,
          0.43510392624880667,
          0.43564563293133773,
          0.4370055519903467,
          0.4401357207919171,
          0.4416940473984976,
          0.44213464641395994,
          0.4426306115413659,
          0.44320767766778413,
          0.4442708034784679,
          0.45477446464397386,
          0.45495892325945636,
          0.45546795817089014,
          0.4562475713181862,
          0.4574836691357219,
          0.4575352351293963,
          0.4576815907016652,
          0.46470103471400226,
          0.46470103471400226,
          0.4670657497649019,
          0.46999106037361266,
          0.4730997265539803,
          0.4747458743500871,
          0.47571128132866997,
          0.47807942589191915,
          0.48441611758972736,
          0.4856578961137524,
          0.4906695022519736,
          0.49143223021932114,
          0.49530559760132475,
          0.49717778457352846,
          0.49873681592433894,
          0.4991464590253495,
          0.5046901457425669,
          0.5054802034791255,
          0.5078036913063256,
          0.5117135693748269,
          0.5120607731493861,
          0.5144681642682267,
          0.5225323839257159,
          0.5237255240418155,
          0.5356408701016724,
          0.5395922705743176,
          0.5404013540620183,
          0.5456172697953895,
          0.5517353654840972,
          0.5550516953811099,
          0.557465325526741,
          0.5592748891544034,
          0.5601434787041728,
          0.5689121708937517,
          0.5715838331427876,
          0.5760267651945189,
          0.57631845181844,
          0.5769173970558742,
          0.5811354764674078,
          0.5828510491006296,
          0.5843770058337227,
          0.5868537619744021,
          0.5890744186741739,
          0.5927879050545345,
          0.5991635132135038,
          0.601979658990702,
          0.6029630008665121,
          0.6051698955375756,
          0.6090493817770268,
          0.6101842409319065,
          0.6140414843898023,
          0.6231245265521708,
          0.6234097209309578,
          0.626576972503267,
          0.626989690094416,
          0.6428957982147876,
          0.64419502058698,
          0.6573096363017775,
          0.6747098234462229,
          0.6771404464131726,
          0.6776000194478408,
          0.6875132733159621,
          0.6965593765039026,
          0.6976963259995664,
          0.698665423365174,
          0.7094002558779767,
          0.7186372268756183,
          0.7197339028344022,
          0.7236334504722529,
          0.7353884679468872,
          0.7382589371969877,
          0.7444539181053705,
          0.7824290980043263,
          0.7996527753753926,
          0.823619891624922,
          0.8406150625259949,
          0.9426066241689208,
          0.9594496700408089
         ]
        },
        {
         "check": {
          "name": "Roc Report",
          "params": {
           "excluded_classes": null,
           "n_samples": 1000000,
           "random_state": 42
          },
          "summary": "Calculate the ROC curve for each class."
         },
         "exception": "Check is irrelevant for regression tasks",
         "header": "Roc Report - Train Dataset",
         "type": "CheckFailure"
        },
        {
         "check": {
          "name": "Roc Report",
          "params": {
           "excluded_classes": null,
           "n_samples": 1000000,
           "random_state": 42
          },
          "summary": "Calculate the ROC curve for each class."
         },
         "exception": "Check is irrelevant for regression tasks",
         "header": "Roc Report - Test Dataset",
         "type": "CheckFailure"
        },
        {
         "check": {
          "name": "Confusion Matrix Report",
          "params": {
           "n_samples": 1000000,
           "normalize_display": true,
           "random_state": 42
          },
          "summary": "Calculate the confusion matrix of the model on the given dataset."
         },
         "exception": "Check is irrelevant for regression tasks",
         "header": "Confusion Matrix Report - Train Dataset",
         "type": "CheckFailure"
        },
        {
         "check": {
          "name": "Confusion Matrix Report",
          "params": {
           "n_samples": 1000000,
           "normalize_display": true,
           "random_state": 42
          },
          "summary": "Calculate the confusion matrix of the model on the given dataset."
         },
         "exception": "Check is irrelevant for regression tasks",
         "header": "Confusion Matrix Report - Test Dataset",
         "type": "CheckFailure"
        },
        {
         "check": {
          "name": "Calibration Score",
          "params": {
           "n_samples": 1000000,
           "random_state": 42
          },
          "summary": "Calculate the calibration curve with brier score for each class."
         },
         "exception": "Check is irrelevant for regression tasks",
         "header": "Calibration Score - Train Dataset",
         "type": "CheckFailure"
        },
        {
         "check": {
          "name": "Calibration Score",
          "params": {
           "n_samples": 1000000,
           "random_state": 42
          },
          "summary": "Calculate the calibration curve with brier score for each class."
         },
         "exception": "Check is irrelevant for regression tasks",
         "header": "Calibration Score - Test Dataset",
         "type": "CheckFailure"
        },
        {
         "check": {
          "name": "New Label Train Test",
          "params": {
           "n_samples": 10000000,
           "random_state": 42
          },
          "summary": "Find new labels in test."
         },
         "exception": "Check is irrelevant for regression tasks",
         "header": "New Label Train Test",
         "type": "CheckFailure"
        },
        {
         "check": {
          "name": "Date Train Test Leakage Duplicates",
          "params": {
           "n_samples": 10000000,
           "n_to_show": 5,
           "random_state": 42
          },
          "summary": "Check if test dates are present in train data."
         },
         "exception": "Dataset does not contain a datetime",
         "header": "Date Train Test Leakage Duplicates",
         "type": "CheckFailure"
        },
        {
         "check": {
          "name": "Date Train Test Leakage Overlap",
          "params": {
           "n_samples": 1000000,
           "random_state": 42
          },
          "summary": "Check test data that is dated earlier than the latest date in train."
         },
         "exception": "Dataset does not contain a datetime",
         "header": "Date Train Test Leakage Overlap",
         "type": "CheckFailure"
        },
        {
         "check": {
          "name": "Index Train Test Leakage",
          "params": {
           "n_samples": 10000000,
           "n_to_show": 5,
           "random_state": 42
          },
          "summary": "Check if test indexes are present in train data."
         },
         "exception": "Dataset does not contain an index",
         "header": "Index Train Test Leakage",
         "type": "CheckFailure"
        },
        {
         "check": {
          "name": "Conflicting Labels",
          "params": {
           "columns": null,
           "ignore_columns": null,
           "n_samples": 10000000,
           "n_to_show": 5,
           "random_state": 42
          },
          "summary": "Find samples which have the exact same features' values but different labels."
         },
         "exception": "Check is irrelevant for regression tasks",
         "header": "Conflicting Labels - Train Dataset",
         "type": "CheckFailure"
        },
        {
         "check": {
          "name": "Conflicting Labels",
          "params": {
           "columns": null,
           "ignore_columns": null,
           "n_samples": 10000000,
           "n_to_show": 5,
           "random_state": 42
          },
          "summary": "Find samples which have the exact same features' values but different labels."
         },
         "exception": "Check is irrelevant for regression tasks",
         "header": "Conflicting Labels - Test Dataset",
         "type": "CheckFailure"
        },
        {
         "check": {
          "name": "Identifier Label Correlation",
          "params": {
           "n_samples": 1000000,
           "ppscore_params": {},
           "random_state": 42
          },
          "summary": "Check if identifiers (Index/Date) can be used to predict the label."
         },
         "exception": "Dataset does not contain an index or a datetime",
         "header": "Identifier Label Correlation - Train Dataset",
         "type": "CheckFailure"
        },
        {
         "check": {
          "name": "Identifier Label Correlation",
          "params": {
           "n_samples": 1000000,
           "ppscore_params": {},
           "random_state": 42
          },
          "summary": "Check if identifiers (Index/Date) can be used to predict the label."
         },
         "exception": "Dataset does not contain an index or a datetime",
         "header": "Identifier Label Correlation - Test Dataset",
         "type": "CheckFailure"
        }
       ],
       "type": "SuiteResult"
      },
      "text/plain": [
       "Full Suite"
      ]
     },
     "execution_count": 84,
     "metadata": {},
     "output_type": "execute_result"
    }
   ],
   "source": [
    "result_model_test"
   ]
  },
  {
   "cell_type": "code",
   "execution_count": 85,
   "metadata": {
    "pycharm": {
     "name": "#%%\n"
    }
   },
   "outputs": [
    {
     "ename": "IndexError",
     "evalue": "list assignment index out of range",
     "output_type": "error",
     "traceback": [
      "\u001b[1;31m---------------------------------------------------------------------------\u001b[0m",
      "\u001b[1;31mIndexError\u001b[0m                                Traceback (most recent call last)",
      "Cell \u001b[1;32mIn[85], line 1\u001b[0m\n\u001b[1;32m----> 1\u001b[0m html_result_model_test\u001b[38;5;241m=\u001b[39m\u001b[43mresult_model_test\u001b[49m\u001b[38;5;241;43m.\u001b[39;49m\u001b[43msave_as_html\u001b[49m\u001b[43m(\u001b[49m\u001b[38;5;124;43m'\u001b[39;49m\u001b[38;5;124;43mresult_model_test\u001b[39;49m\u001b[38;5;124;43m'\u001b[39;49m\u001b[43m)\u001b[49m\n",
      "File \u001b[1;32m~\\anaconda3\\envs\\mlops\\lib\\site-packages\\deepchecks\\core\\suite.py:245\u001b[0m, in \u001b[0;36mSuiteResult.save_as_html\u001b[1;34m(self, file, as_widget, requirejs, unique_id, connected, **kwargs)\u001b[0m\n\u001b[0;32m    212\u001b[0m \u001b[38;5;28;01mdef\u001b[39;00m \u001b[38;5;21msave_as_html\u001b[39m(\n\u001b[0;32m    213\u001b[0m     \u001b[38;5;28mself\u001b[39m,\n\u001b[0;32m    214\u001b[0m     file: Union[\u001b[38;5;28mstr\u001b[39m, io\u001b[38;5;241m.\u001b[39mTextIOWrapper, \u001b[38;5;28;01mNone\u001b[39;00m] \u001b[38;5;241m=\u001b[39m \u001b[38;5;28;01mNone\u001b[39;00m,\n\u001b[1;32m   (...)\u001b[0m\n\u001b[0;32m    219\u001b[0m     \u001b[38;5;241m*\u001b[39m\u001b[38;5;241m*\u001b[39mkwargs\n\u001b[0;32m    220\u001b[0m ):\n\u001b[0;32m    221\u001b[0m \u001b[38;5;250m    \u001b[39m\u001b[38;5;124;03m\"\"\"Save output as html file.\u001b[39;00m\n\u001b[0;32m    222\u001b[0m \n\u001b[0;32m    223\u001b[0m \u001b[38;5;124;03m    Parameters\u001b[39;00m\n\u001b[1;32m   (...)\u001b[0m\n\u001b[0;32m    243\u001b[0m \u001b[38;5;124;03m        name of newly create file\u001b[39;00m\n\u001b[0;32m    244\u001b[0m \u001b[38;5;124;03m    \"\"\"\u001b[39;00m\n\u001b[1;32m--> 245\u001b[0m     \u001b[38;5;28;01mreturn\u001b[39;00m \u001b[43msave_as_html\u001b[49m\u001b[43m(\u001b[49m\n\u001b[0;32m    246\u001b[0m \u001b[43m        \u001b[49m\u001b[43mfile\u001b[49m\u001b[38;5;241;43m=\u001b[39;49m\u001b[43mfile\u001b[49m\u001b[43m,\u001b[49m\n\u001b[0;32m    247\u001b[0m \u001b[43m        \u001b[49m\u001b[43mserializer\u001b[49m\u001b[38;5;241;43m=\u001b[39;49m\u001b[38;5;28;43mself\u001b[39;49m\u001b[38;5;241;43m.\u001b[39;49m\u001b[43mwidget_serializer\u001b[49m\u001b[43m \u001b[49m\u001b[38;5;28;43;01mif\u001b[39;49;00m\u001b[43m \u001b[49m\u001b[43mas_widget\u001b[49m\u001b[43m \u001b[49m\u001b[38;5;28;43;01melse\u001b[39;49;00m\u001b[43m \u001b[49m\u001b[38;5;28;43mself\u001b[39;49m\u001b[38;5;241;43m.\u001b[39;49m\u001b[43mhtml_serializer\u001b[49m\u001b[43m,\u001b[49m\n\u001b[0;32m    248\u001b[0m \u001b[43m        \u001b[49m\u001b[43mconnected\u001b[49m\u001b[38;5;241;43m=\u001b[39;49m\u001b[43mconnected\u001b[49m\u001b[43m,\u001b[49m\n\u001b[0;32m    249\u001b[0m \u001b[43m        \u001b[49m\u001b[38;5;66;43;03m# next kwargs will be passed to the serializer.serialize method\u001b[39;49;00m\n\u001b[0;32m    250\u001b[0m \u001b[43m        \u001b[49m\u001b[43mrequirejs\u001b[49m\u001b[38;5;241;43m=\u001b[39;49m\u001b[43mrequirejs\u001b[49m\u001b[43m,\u001b[49m\n\u001b[0;32m    251\u001b[0m \u001b[43m        \u001b[49m\u001b[43moutput_id\u001b[49m\u001b[38;5;241;43m=\u001b[39;49m\u001b[43munique_id\u001b[49m\u001b[43m \u001b[49m\u001b[38;5;129;43;01mor\u001b[39;49;00m\u001b[43m \u001b[49m\u001b[43mget_random_string\u001b[49m\u001b[43m(\u001b[49m\u001b[43mn\u001b[49m\u001b[38;5;241;43m=\u001b[39;49m\u001b[38;5;241;43m25\u001b[39;49m\u001b[43m)\u001b[49m\u001b[43m,\u001b[49m\n\u001b[0;32m    252\u001b[0m \u001b[43m    \u001b[49m\u001b[43m)\u001b[49m\n",
      "File \u001b[1;32m~\\anaconda3\\envs\\mlops\\lib\\site-packages\\deepchecks\\core\\display.py:333\u001b[0m, in \u001b[0;36msave_as_html\u001b[1;34m(serializer, file, requirejs, connected, **kwargs)\u001b[0m\n\u001b[0;32m    329\u001b[0m     file \u001b[38;5;241m=\u001b[39m create_new_file_name(file)\n\u001b[0;32m    331\u001b[0m \u001b[38;5;28;01mif\u001b[39;00m \u001b[38;5;28misinstance\u001b[39m(serializer, WidgetSerializer):\n\u001b[0;32m    332\u001b[0m     widget_to_html(\n\u001b[1;32m--> 333\u001b[0m         serializer\u001b[38;5;241m.\u001b[39mserialize(\u001b[38;5;241m*\u001b[39m\u001b[38;5;241m*\u001b[39mkwargs),\n\u001b[0;32m    334\u001b[0m         html_out\u001b[38;5;241m=\u001b[39mfile,\n\u001b[0;32m    335\u001b[0m         title\u001b[38;5;241m=\u001b[39mget_result_name(serializer\u001b[38;5;241m.\u001b[39mvalue),\n\u001b[0;32m    336\u001b[0m         requirejs\u001b[38;5;241m=\u001b[39mrequirejs,\n\u001b[0;32m    337\u001b[0m         connected\u001b[38;5;241m=\u001b[39mconnected,\n\u001b[0;32m    338\u001b[0m     )\n\u001b[0;32m    339\u001b[0m \u001b[38;5;28;01melif\u001b[39;00m \u001b[38;5;28misinstance\u001b[39m(serializer, HtmlSerializer):\n\u001b[0;32m    340\u001b[0m     html \u001b[38;5;241m=\u001b[39m serializer\u001b[38;5;241m.\u001b[39mserialize(  \u001b[38;5;66;03m# pylint: disable=redefined-outer-name\u001b[39;00m\n\u001b[0;32m    341\u001b[0m         full_html\u001b[38;5;241m=\u001b[39m\u001b[38;5;28;01mTrue\u001b[39;00m,\n\u001b[0;32m    342\u001b[0m         include_requirejs\u001b[38;5;241m=\u001b[39mrequirejs,\n\u001b[1;32m   (...)\u001b[0m\n\u001b[0;32m    345\u001b[0m         \u001b[38;5;241m*\u001b[39m\u001b[38;5;241m*\u001b[39mkwargs\n\u001b[0;32m    346\u001b[0m     )\n",
      "File \u001b[1;32m~\\anaconda3\\envs\\mlops\\lib\\site-packages\\deepchecks\\core\\serialization\\suite_result\\widget.py:84\u001b[0m, in \u001b[0;36mSuiteResultSerializer.serialize\u001b[1;34m(self, output_id, **kwargs)\u001b[0m\n\u001b[0;32m     77\u001b[0m not_ran_checks \u001b[38;5;241m=\u001b[39m \u001b[38;5;28mself\u001b[39m\u001b[38;5;241m.\u001b[39mvalue\u001b[38;5;241m.\u001b[39mget_not_ran_checks()\n\u001b[0;32m     78\u001b[0m other_checks \u001b[38;5;241m=\u001b[39m t\u001b[38;5;241m.\u001b[39mcast(\n\u001b[0;32m     79\u001b[0m     t\u001b[38;5;241m.\u001b[39mList[check_types\u001b[38;5;241m.\u001b[39mCheckResult],\n\u001b[0;32m     80\u001b[0m     \u001b[38;5;28mself\u001b[39m\u001b[38;5;241m.\u001b[39mvalue\u001b[38;5;241m.\u001b[39mselect_results(\u001b[38;5;28mself\u001b[39m\u001b[38;5;241m.\u001b[39mvalue\u001b[38;5;241m.\u001b[39mresults_without_conditions)\n\u001b[0;32m     81\u001b[0m )\n\u001b[0;32m     83\u001b[0m accordions \u001b[38;5;241m=\u001b[39m [\n\u001b[1;32m---> 84\u001b[0m     \u001b[38;5;28mself\u001b[39m\u001b[38;5;241m.\u001b[39mprepare_results(\n\u001b[0;32m     85\u001b[0m         title\u001b[38;5;241m=\u001b[39m\u001b[38;5;124m'\u001b[39m\u001b[38;5;124mDidn\u001b[39m\u001b[38;5;130;01m\\'\u001b[39;00m\u001b[38;5;124mt Pass\u001b[39m\u001b[38;5;124m'\u001b[39m,\n\u001b[0;32m     86\u001b[0m         results\u001b[38;5;241m=\u001b[39mnot_passed_checks,\n\u001b[0;32m     87\u001b[0m         output_id\u001b[38;5;241m=\u001b[39moutput_id,\n\u001b[0;32m     88\u001b[0m         summary_creation_method\u001b[38;5;241m=\u001b[39m\u001b[38;5;28mself\u001b[39m\u001b[38;5;241m.\u001b[39mprepare_conditions_summary,\n\u001b[0;32m     89\u001b[0m         \u001b[38;5;241m*\u001b[39m\u001b[38;5;241m*\u001b[39mkwargs\n\u001b[0;32m     90\u001b[0m     ),\n\u001b[0;32m     91\u001b[0m     \u001b[38;5;28mself\u001b[39m\u001b[38;5;241m.\u001b[39mprepare_results(\n\u001b[0;32m     92\u001b[0m         title\u001b[38;5;241m=\u001b[39m\u001b[38;5;124m'\u001b[39m\u001b[38;5;124mPassed\u001b[39m\u001b[38;5;124m'\u001b[39m,\n\u001b[0;32m     93\u001b[0m         results\u001b[38;5;241m=\u001b[39mpassed_checks,\n\u001b[0;32m     94\u001b[0m         output_id\u001b[38;5;241m=\u001b[39moutput_id,\n\u001b[0;32m     95\u001b[0m         summary_creation_method\u001b[38;5;241m=\u001b[39m\u001b[38;5;28mself\u001b[39m\u001b[38;5;241m.\u001b[39mprepare_conditions_summary,\n\u001b[0;32m     96\u001b[0m         \u001b[38;5;241m*\u001b[39m\u001b[38;5;241m*\u001b[39mkwargs\n\u001b[0;32m     97\u001b[0m     ),\n\u001b[0;32m     98\u001b[0m     \u001b[38;5;28mself\u001b[39m\u001b[38;5;241m.\u001b[39mprepare_results(\n\u001b[0;32m     99\u001b[0m         title\u001b[38;5;241m=\u001b[39m\u001b[38;5;124m'\u001b[39m\u001b[38;5;124mOther\u001b[39m\u001b[38;5;124m'\u001b[39m,\n\u001b[0;32m    100\u001b[0m         results\u001b[38;5;241m=\u001b[39mother_checks,\n\u001b[0;32m    101\u001b[0m         output_id\u001b[38;5;241m=\u001b[39moutput_id,\n\u001b[0;32m    102\u001b[0m         summary_creation_method\u001b[38;5;241m=\u001b[39m\u001b[38;5;28mself\u001b[39m\u001b[38;5;241m.\u001b[39mprepare_unconditioned_results_summary,\n\u001b[0;32m    103\u001b[0m         check_sections\u001b[38;5;241m=\u001b[39m[\u001b[38;5;124m'\u001b[39m\u001b[38;5;124madditional-output\u001b[39m\u001b[38;5;124m'\u001b[39m],\n\u001b[0;32m    104\u001b[0m         \u001b[38;5;241m*\u001b[39m\u001b[38;5;241m*\u001b[39mkwargs\n\u001b[0;32m    105\u001b[0m     ),\n\u001b[0;32m    106\u001b[0m     \u001b[38;5;28mself\u001b[39m\u001b[38;5;241m.\u001b[39mprepare_failures(\n\u001b[0;32m    107\u001b[0m         title\u001b[38;5;241m=\u001b[39m\u001b[38;5;124m'\u001b[39m\u001b[38;5;124mDidn\u001b[39m\u001b[38;5;130;01m\\'\u001b[39;00m\u001b[38;5;124mt Run\u001b[39m\u001b[38;5;124m'\u001b[39m,\n\u001b[0;32m    108\u001b[0m         failures\u001b[38;5;241m=\u001b[39mnot_ran_checks,\n\u001b[0;32m    109\u001b[0m         output_id\u001b[38;5;241m=\u001b[39moutput_id,\n\u001b[0;32m    110\u001b[0m         \u001b[38;5;241m*\u001b[39m\u001b[38;5;241m*\u001b[39mkwargs\n\u001b[0;32m    111\u001b[0m     )\n\u001b[0;32m    112\u001b[0m ]\n\u001b[0;32m    114\u001b[0m content \u001b[38;5;241m=\u001b[39m VBox(children\u001b[38;5;241m=\u001b[39m[\n\u001b[0;32m    115\u001b[0m     \u001b[38;5;28mself\u001b[39m\u001b[38;5;241m.\u001b[39mprepare_summary(output_id\u001b[38;5;241m=\u001b[39moutput_id, \u001b[38;5;241m*\u001b[39m\u001b[38;5;241m*\u001b[39mkwargs),\n\u001b[0;32m    116\u001b[0m     \u001b[38;5;241m*\u001b[39maccordions\n\u001b[0;32m    117\u001b[0m ])\n\u001b[0;32m    118\u001b[0m \u001b[38;5;28;01mreturn\u001b[39;00m Accordion(\n\u001b[0;32m    119\u001b[0m     children\u001b[38;5;241m=\u001b[39m[content],\n\u001b[0;32m    120\u001b[0m     _titles\u001b[38;5;241m=\u001b[39m{\u001b[38;5;124m'\u001b[39m\u001b[38;5;124m0\u001b[39m\u001b[38;5;124m'\u001b[39m: \u001b[38;5;28mself\u001b[39m\u001b[38;5;241m.\u001b[39mvalue\u001b[38;5;241m.\u001b[39mname},\n\u001b[0;32m    121\u001b[0m     selected_index\u001b[38;5;241m=\u001b[39m\u001b[38;5;124m'\u001b[39m\u001b[38;5;124m0\u001b[39m\u001b[38;5;124m'\u001b[39m\n\u001b[0;32m    122\u001b[0m )\n",
      "File \u001b[1;32m~\\anaconda3\\envs\\mlops\\lib\\site-packages\\deepchecks\\core\\serialization\\suite_result\\widget.py:210\u001b[0m, in \u001b[0;36mSuiteResultSerializer.prepare_results\u001b[1;34m(self, results, title, output_id, summary_creation_method, **kwargs)\u001b[0m\n\u001b[0;32m    207\u001b[0m section_id \u001b[38;5;241m=\u001b[39m \u001b[38;5;124mf\u001b[39m\u001b[38;5;124m'\u001b[39m\u001b[38;5;132;01m{\u001b[39;00moutput_id\u001b[38;5;132;01m}\u001b[39;00m\u001b[38;5;124m-section-\u001b[39m\u001b[38;5;132;01m{\u001b[39;00mget_random_string()\u001b[38;5;132;01m}\u001b[39;00m\u001b[38;5;124m'\u001b[39m\n\u001b[0;32m    208\u001b[0m section_anchor \u001b[38;5;241m=\u001b[39m HTML(value\u001b[38;5;241m=\u001b[39m\u001b[38;5;124mf\u001b[39m\u001b[38;5;124m'\u001b[39m\u001b[38;5;124m<span id=\u001b[39m\u001b[38;5;124m\"\u001b[39m\u001b[38;5;132;01m{\u001b[39;00mform_output_anchor(section_id)\u001b[38;5;132;01m}\u001b[39;00m\u001b[38;5;124m\"\u001b[39m\u001b[38;5;124m></span>\u001b[39m\u001b[38;5;124m'\u001b[39m)\n\u001b[1;32m--> 210\u001b[0m serialized_results \u001b[38;5;241m=\u001b[39m [\n\u001b[0;32m    211\u001b[0m     select_serializer(it)\u001b[38;5;241m.\u001b[39mserialize(output_id\u001b[38;5;241m=\u001b[39msection_id, \u001b[38;5;241m*\u001b[39m\u001b[38;5;241m*\u001b[39mkwargs)\n\u001b[0;32m    212\u001b[0m     \u001b[38;5;28;01mfor\u001b[39;00m it \u001b[38;5;129;01min\u001b[39;00m results\n\u001b[0;32m    213\u001b[0m     \u001b[38;5;28;01mif\u001b[39;00m it\u001b[38;5;241m.\u001b[39mdisplay  \u001b[38;5;66;03m# we do not form full-output for the check results without display\u001b[39;00m\n\u001b[0;32m    214\u001b[0m ]\n\u001b[0;32m    216\u001b[0m \u001b[38;5;28;01mif\u001b[39;00m \u001b[38;5;28mcallable\u001b[39m(summary_creation_method):\n\u001b[0;32m    217\u001b[0m     children \u001b[38;5;241m=\u001b[39m (\n\u001b[0;32m    218\u001b[0m         summary_creation_method(results\u001b[38;5;241m=\u001b[39mresults, output_id\u001b[38;5;241m=\u001b[39msection_id, \u001b[38;5;241m*\u001b[39m\u001b[38;5;241m*\u001b[39mkwargs),\n\u001b[0;32m    219\u001b[0m         HTML(value\u001b[38;5;241m=\u001b[39mCommonHtml\u001b[38;5;241m.\u001b[39mlight_hr),\n\u001b[0;32m    220\u001b[0m         \u001b[38;5;241m*\u001b[39mjoin(serialized_results, HTML(value\u001b[38;5;241m=\u001b[39mCommonHtml\u001b[38;5;241m.\u001b[39mlight_hr))\n\u001b[0;32m    221\u001b[0m     )\n",
      "File \u001b[1;32m~\\anaconda3\\envs\\mlops\\lib\\site-packages\\deepchecks\\core\\serialization\\suite_result\\widget.py:211\u001b[0m, in \u001b[0;36m<listcomp>\u001b[1;34m(.0)\u001b[0m\n\u001b[0;32m    207\u001b[0m section_id \u001b[38;5;241m=\u001b[39m \u001b[38;5;124mf\u001b[39m\u001b[38;5;124m'\u001b[39m\u001b[38;5;132;01m{\u001b[39;00moutput_id\u001b[38;5;132;01m}\u001b[39;00m\u001b[38;5;124m-section-\u001b[39m\u001b[38;5;132;01m{\u001b[39;00mget_random_string()\u001b[38;5;132;01m}\u001b[39;00m\u001b[38;5;124m'\u001b[39m\n\u001b[0;32m    208\u001b[0m section_anchor \u001b[38;5;241m=\u001b[39m HTML(value\u001b[38;5;241m=\u001b[39m\u001b[38;5;124mf\u001b[39m\u001b[38;5;124m'\u001b[39m\u001b[38;5;124m<span id=\u001b[39m\u001b[38;5;124m\"\u001b[39m\u001b[38;5;132;01m{\u001b[39;00mform_output_anchor(section_id)\u001b[38;5;132;01m}\u001b[39;00m\u001b[38;5;124m\"\u001b[39m\u001b[38;5;124m></span>\u001b[39m\u001b[38;5;124m'\u001b[39m)\n\u001b[0;32m    210\u001b[0m serialized_results \u001b[38;5;241m=\u001b[39m [\n\u001b[1;32m--> 211\u001b[0m     select_serializer(it)\u001b[38;5;241m.\u001b[39mserialize(output_id\u001b[38;5;241m=\u001b[39msection_id, \u001b[38;5;241m*\u001b[39m\u001b[38;5;241m*\u001b[39mkwargs)\n\u001b[0;32m    212\u001b[0m     \u001b[38;5;28;01mfor\u001b[39;00m it \u001b[38;5;129;01min\u001b[39;00m results\n\u001b[0;32m    213\u001b[0m     \u001b[38;5;28;01mif\u001b[39;00m it\u001b[38;5;241m.\u001b[39mdisplay  \u001b[38;5;66;03m# we do not form full-output for the check results without display\u001b[39;00m\n\u001b[0;32m    214\u001b[0m ]\n\u001b[0;32m    216\u001b[0m \u001b[38;5;28;01mif\u001b[39;00m \u001b[38;5;28mcallable\u001b[39m(summary_creation_method):\n\u001b[0;32m    217\u001b[0m     children \u001b[38;5;241m=\u001b[39m (\n\u001b[0;32m    218\u001b[0m         summary_creation_method(results\u001b[38;5;241m=\u001b[39mresults, output_id\u001b[38;5;241m=\u001b[39msection_id, \u001b[38;5;241m*\u001b[39m\u001b[38;5;241m*\u001b[39mkwargs),\n\u001b[0;32m    219\u001b[0m         HTML(value\u001b[38;5;241m=\u001b[39mCommonHtml\u001b[38;5;241m.\u001b[39mlight_hr),\n\u001b[0;32m    220\u001b[0m         \u001b[38;5;241m*\u001b[39mjoin(serialized_results, HTML(value\u001b[38;5;241m=\u001b[39mCommonHtml\u001b[38;5;241m.\u001b[39mlight_hr))\n\u001b[0;32m    221\u001b[0m     )\n",
      "File \u001b[1;32m~\\anaconda3\\envs\\mlops\\lib\\site-packages\\deepchecks\\core\\serialization\\check_result\\widget.py:85\u001b[0m, in \u001b[0;36mCheckResultSerializer.serialize\u001b[1;34m(self, output_id, check_sections, plotly_to_image, is_for_iframe_with_srcdoc, **kwargs)\u001b[0m\n\u001b[0;32m     80\u001b[0m     sections\u001b[38;5;241m.\u001b[39mappend(\u001b[38;5;28mself\u001b[39m\u001b[38;5;241m.\u001b[39mprepare_conditions_table(\n\u001b[0;32m     81\u001b[0m         output_id\u001b[38;5;241m=\u001b[39moutput_id\n\u001b[0;32m     82\u001b[0m     ))\n\u001b[0;32m     84\u001b[0m \u001b[38;5;28;01mif\u001b[39;00m \u001b[38;5;124m'\u001b[39m\u001b[38;5;124madditional-output\u001b[39m\u001b[38;5;124m'\u001b[39m \u001b[38;5;129;01min\u001b[39;00m sections_to_include:\n\u001b[1;32m---> 85\u001b[0m     sections\u001b[38;5;241m.\u001b[39mappend(\u001b[38;5;28;43mself\u001b[39;49m\u001b[38;5;241;43m.\u001b[39;49m\u001b[43mprepare_additional_output\u001b[49m\u001b[43m(\u001b[49m\n\u001b[0;32m     86\u001b[0m \u001b[43m        \u001b[49m\u001b[43moutput_id\u001b[49m\u001b[38;5;241;43m=\u001b[39;49m\u001b[43moutput_id\u001b[49m\u001b[43m,\u001b[49m\n\u001b[0;32m     87\u001b[0m \u001b[43m        \u001b[49m\u001b[43mplotly_to_image\u001b[49m\u001b[38;5;241;43m=\u001b[39;49m\u001b[43mplotly_to_image\u001b[49m\u001b[43m,\u001b[49m\n\u001b[0;32m     88\u001b[0m \u001b[43m        \u001b[49m\u001b[43mis_for_iframe_with_srcdoc\u001b[49m\u001b[38;5;241;43m=\u001b[39;49m\u001b[43mis_for_iframe_with_srcdoc\u001b[49m\n\u001b[0;32m     89\u001b[0m \u001b[43m    \u001b[49m\u001b[43m)\u001b[49m)\n\u001b[0;32m     91\u001b[0m \u001b[38;5;28;01mreturn\u001b[39;00m normalize_widget_style(VBox(children\u001b[38;5;241m=\u001b[39msections))\n",
      "File \u001b[1;32m~\\anaconda3\\envs\\mlops\\lib\\site-packages\\deepchecks\\core\\serialization\\check_result\\widget.py:156\u001b[0m, in \u001b[0;36mCheckResultSerializer.prepare_additional_output\u001b[1;34m(self, output_id, plotly_to_image, is_for_iframe_with_srcdoc)\u001b[0m\n\u001b[0;32m    133\u001b[0m \u001b[38;5;28;01mdef\u001b[39;00m \u001b[38;5;21mprepare_additional_output\u001b[39m(\n\u001b[0;32m    134\u001b[0m     \u001b[38;5;28mself\u001b[39m,\n\u001b[0;32m    135\u001b[0m     output_id: t\u001b[38;5;241m.\u001b[39mOptional[\u001b[38;5;28mstr\u001b[39m] \u001b[38;5;241m=\u001b[39m \u001b[38;5;28;01mNone\u001b[39;00m,\n\u001b[0;32m    136\u001b[0m     plotly_to_image: \u001b[38;5;28mbool\u001b[39m \u001b[38;5;241m=\u001b[39m \u001b[38;5;28;01mFalse\u001b[39;00m,\n\u001b[0;32m    137\u001b[0m     is_for_iframe_with_srcdoc: \u001b[38;5;28mbool\u001b[39m \u001b[38;5;241m=\u001b[39m \u001b[38;5;28;01mFalse\u001b[39;00m\n\u001b[0;32m    138\u001b[0m ) \u001b[38;5;241m-\u001b[39m\u001b[38;5;241m>\u001b[39m VBox:\n\u001b[0;32m    139\u001b[0m \u001b[38;5;250m    \u001b[39m\u001b[38;5;124;03m\"\"\"Prepare additional output widget.\u001b[39;00m\n\u001b[0;32m    140\u001b[0m \n\u001b[0;32m    141\u001b[0m \u001b[38;5;124;03m    Parameters\u001b[39;00m\n\u001b[1;32m   (...)\u001b[0m\n\u001b[0;32m    154\u001b[0m \u001b[38;5;124;03m    ipywidgets.VBox\u001b[39;00m\n\u001b[0;32m    155\u001b[0m \u001b[38;5;124;03m    \"\"\"\u001b[39;00m\n\u001b[1;32m--> 156\u001b[0m     \u001b[38;5;28;01mreturn\u001b[39;00m VBox(children\u001b[38;5;241m=\u001b[39m\u001b[43mDisplayItemsHandler\u001b[49m\u001b[38;5;241;43m.\u001b[39;49m\u001b[43mhandle_display\u001b[49m\u001b[43m(\u001b[49m\n\u001b[0;32m    157\u001b[0m \u001b[43m        \u001b[49m\u001b[43mdisplay\u001b[49m\u001b[38;5;241;43m=\u001b[39;49m\u001b[38;5;28;43mself\u001b[39;49m\u001b[38;5;241;43m.\u001b[39;49m\u001b[43mvalue\u001b[49m\u001b[38;5;241;43m.\u001b[39;49m\u001b[43mdisplay\u001b[49m\u001b[43m,\u001b[49m\n\u001b[0;32m    158\u001b[0m \u001b[43m        \u001b[49m\u001b[43moutput_id\u001b[49m\u001b[38;5;241;43m=\u001b[39;49m\u001b[43moutput_id\u001b[49m\u001b[43m,\u001b[49m\n\u001b[0;32m    159\u001b[0m \u001b[43m        \u001b[49m\u001b[43mplotly_to_image\u001b[49m\u001b[38;5;241;43m=\u001b[39;49m\u001b[43mplotly_to_image\u001b[49m\u001b[43m,\u001b[49m\n\u001b[0;32m    160\u001b[0m \u001b[43m        \u001b[49m\u001b[43mis_for_iframe_with_srcdoc\u001b[49m\u001b[38;5;241;43m=\u001b[39;49m\u001b[43mis_for_iframe_with_srcdoc\u001b[49m\n\u001b[0;32m    161\u001b[0m \u001b[43m    \u001b[49m\u001b[43m)\u001b[49m)\n",
      "File \u001b[1;32m~\\anaconda3\\envs\\mlops\\lib\\site-packages\\deepchecks\\core\\serialization\\check_result\\widget.py:193\u001b[0m, in \u001b[0;36mDisplayItemsHandler.handle_display\u001b[1;34m(cls, display, output_id, include_header, include_trailing_link, **kwargs)\u001b[0m\n\u001b[0;32m    167\u001b[0m \u001b[38;5;129m@classmethod\u001b[39m\n\u001b[0;32m    168\u001b[0m \u001b[38;5;28;01mdef\u001b[39;00m \u001b[38;5;21mhandle_display\u001b[39m(\n\u001b[0;32m    169\u001b[0m     \u001b[38;5;28mcls\u001b[39m,\n\u001b[1;32m   (...)\u001b[0m\n\u001b[0;32m    174\u001b[0m     \u001b[38;5;241m*\u001b[39m\u001b[38;5;241m*\u001b[39mkwargs\n\u001b[0;32m    175\u001b[0m ) \u001b[38;5;241m-\u001b[39m\u001b[38;5;241m>\u001b[39m t\u001b[38;5;241m.\u001b[39mList[Widget]:\n\u001b[0;32m    176\u001b[0m \u001b[38;5;250m    \u001b[39m\u001b[38;5;124;03m\"\"\"Serialize CheckResult display items into list if Widget instances.\u001b[39;00m\n\u001b[0;32m    177\u001b[0m \n\u001b[0;32m    178\u001b[0m \u001b[38;5;124;03m    Parameters\u001b[39;00m\n\u001b[1;32m   (...)\u001b[0m\n\u001b[0;32m    191\u001b[0m \u001b[38;5;124;03m    List[Widget]\u001b[39;00m\n\u001b[0;32m    192\u001b[0m \u001b[38;5;124;03m    \"\"\"\u001b[39;00m\n\u001b[1;32m--> 193\u001b[0m     \u001b[38;5;28;01mreturn\u001b[39;00m t\u001b[38;5;241m.\u001b[39mcast(t\u001b[38;5;241m.\u001b[39mList[Widget], \u001b[38;5;28msuper\u001b[39m()\u001b[38;5;241m.\u001b[39mhandle_display(\n\u001b[0;32m    194\u001b[0m         display\u001b[38;5;241m=\u001b[39mdisplay,\n\u001b[0;32m    195\u001b[0m         output_id\u001b[38;5;241m=\u001b[39moutput_id,\n\u001b[0;32m    196\u001b[0m         include_header\u001b[38;5;241m=\u001b[39minclude_header,\n\u001b[0;32m    197\u001b[0m         include_trailing_link\u001b[38;5;241m=\u001b[39minclude_trailing_link,\n\u001b[0;32m    198\u001b[0m         \u001b[38;5;241m*\u001b[39m\u001b[38;5;241m*\u001b[39mkwargs\n\u001b[0;32m    199\u001b[0m     ))\n",
      "File \u001b[1;32m~\\anaconda3\\envs\\mlops\\lib\\site-packages\\deepchecks\\core\\serialization\\check_result\\html.py:242\u001b[0m, in \u001b[0;36mDisplayItemsHandler.handle_display\u001b[1;34m(cls, display, output_id, is_for_iframe_with_srcdoc, include_header, include_trailing_link, **kwargs)\u001b[0m\n\u001b[0;32m    220\u001b[0m \u001b[38;5;250m\u001b[39m\u001b[38;5;124;03m\"\"\"Serialize CheckResult display items into HTML.\u001b[39;00m\n\u001b[0;32m    221\u001b[0m \n\u001b[0;32m    222\u001b[0m \u001b[38;5;124;03mParameters\u001b[39;00m\n\u001b[1;32m   (...)\u001b[0m\n\u001b[0;32m    239\u001b[0m \u001b[38;5;124;03mList[str]\u001b[39;00m\n\u001b[0;32m    240\u001b[0m \u001b[38;5;124;03m\"\"\"\u001b[39;00m\n\u001b[0;32m    241\u001b[0m output \u001b[38;5;241m=\u001b[39m [\u001b[38;5;28mcls\u001b[39m\u001b[38;5;241m.\u001b[39mheader()] \u001b[38;5;28;01mif\u001b[39;00m include_header \u001b[38;5;28;01melse\u001b[39;00m []\n\u001b[1;32m--> 242\u001b[0m output\u001b[38;5;241m.\u001b[39mextend(\u001b[38;5;28msuper\u001b[39m()\u001b[38;5;241m.\u001b[39mhandle_display(display, \u001b[38;5;241m*\u001b[39m\u001b[38;5;241m*\u001b[39m{\u001b[38;5;124m'\u001b[39m\u001b[38;5;124moutput_id\u001b[39m\u001b[38;5;124m'\u001b[39m: output_id, \u001b[38;5;241m*\u001b[39m\u001b[38;5;241m*\u001b[39mkwargs}))\n\u001b[0;32m    244\u001b[0m \u001b[38;5;28;01mif\u001b[39;00m \u001b[38;5;28mlen\u001b[39m(display) \u001b[38;5;241m==\u001b[39m \u001b[38;5;241m0\u001b[39m:\n\u001b[0;32m    245\u001b[0m     output\u001b[38;5;241m.\u001b[39mappend(\u001b[38;5;28mcls\u001b[39m\u001b[38;5;241m.\u001b[39mempty_content_placeholder())\n",
      "File \u001b[1;32m~\\anaconda3\\envs\\mlops\\lib\\site-packages\\deepchecks\\core\\serialization\\abc.py:210\u001b[0m, in \u001b[0;36mABCDisplayItemsHandler.handle_display\u001b[1;34m(cls, display, **kwargs)\u001b[0m\n\u001b[0;32m    192\u001b[0m \u001b[38;5;129m@classmethod\u001b[39m\n\u001b[0;32m    193\u001b[0m \u001b[38;5;129m@abc\u001b[39m\u001b[38;5;241m.\u001b[39mabstractmethod\n\u001b[0;32m    194\u001b[0m \u001b[38;5;28;01mdef\u001b[39;00m \u001b[38;5;21mhandle_display\u001b[39m(\n\u001b[1;32m   (...)\u001b[0m\n\u001b[0;32m    197\u001b[0m     \u001b[38;5;241m*\u001b[39m\u001b[38;5;241m*\u001b[39mkwargs\n\u001b[0;32m    198\u001b[0m ) \u001b[38;5;241m-\u001b[39m\u001b[38;5;241m>\u001b[39m t\u001b[38;5;241m.\u001b[39mList[t\u001b[38;5;241m.\u001b[39mAny]:\n\u001b[0;32m    199\u001b[0m \u001b[38;5;250m    \u001b[39m\u001b[38;5;124;03m\"\"\"Serialize list of display items.\u001b[39;00m\n\u001b[0;32m    200\u001b[0m \n\u001b[0;32m    201\u001b[0m \u001b[38;5;124;03m    Parameters\u001b[39;00m\n\u001b[1;32m   (...)\u001b[0m\n\u001b[0;32m    208\u001b[0m \u001b[38;5;124;03m    List[Any]\u001b[39;00m\n\u001b[0;32m    209\u001b[0m \u001b[38;5;124;03m    \"\"\"\u001b[39;00m\n\u001b[1;32m--> 210\u001b[0m     \u001b[38;5;28;01mreturn\u001b[39;00m [\u001b[38;5;28mcls\u001b[39m\u001b[38;5;241m.\u001b[39mhandle_item(it, index, \u001b[38;5;241m*\u001b[39m\u001b[38;5;241m*\u001b[39mkwargs) \u001b[38;5;28;01mfor\u001b[39;00m index, it \u001b[38;5;129;01min\u001b[39;00m \u001b[38;5;28menumerate\u001b[39m(display)]\n",
      "File \u001b[1;32m~\\anaconda3\\envs\\mlops\\lib\\site-packages\\deepchecks\\core\\serialization\\abc.py:210\u001b[0m, in \u001b[0;36m<listcomp>\u001b[1;34m(.0)\u001b[0m\n\u001b[0;32m    192\u001b[0m \u001b[38;5;129m@classmethod\u001b[39m\n\u001b[0;32m    193\u001b[0m \u001b[38;5;129m@abc\u001b[39m\u001b[38;5;241m.\u001b[39mabstractmethod\n\u001b[0;32m    194\u001b[0m \u001b[38;5;28;01mdef\u001b[39;00m \u001b[38;5;21mhandle_display\u001b[39m(\n\u001b[1;32m   (...)\u001b[0m\n\u001b[0;32m    197\u001b[0m     \u001b[38;5;241m*\u001b[39m\u001b[38;5;241m*\u001b[39mkwargs\n\u001b[0;32m    198\u001b[0m ) \u001b[38;5;241m-\u001b[39m\u001b[38;5;241m>\u001b[39m t\u001b[38;5;241m.\u001b[39mList[t\u001b[38;5;241m.\u001b[39mAny]:\n\u001b[0;32m    199\u001b[0m \u001b[38;5;250m    \u001b[39m\u001b[38;5;124;03m\"\"\"Serialize list of display items.\u001b[39;00m\n\u001b[0;32m    200\u001b[0m \n\u001b[0;32m    201\u001b[0m \u001b[38;5;124;03m    Parameters\u001b[39;00m\n\u001b[1;32m   (...)\u001b[0m\n\u001b[0;32m    208\u001b[0m \u001b[38;5;124;03m    List[Any]\u001b[39;00m\n\u001b[0;32m    209\u001b[0m \u001b[38;5;124;03m    \"\"\"\u001b[39;00m\n\u001b[1;32m--> 210\u001b[0m     \u001b[38;5;28;01mreturn\u001b[39;00m [\u001b[38;5;28mcls\u001b[39m\u001b[38;5;241m.\u001b[39mhandle_item(it, index, \u001b[38;5;241m*\u001b[39m\u001b[38;5;241m*\u001b[39mkwargs) \u001b[38;5;28;01mfor\u001b[39;00m index, it \u001b[38;5;129;01min\u001b[39;00m \u001b[38;5;28menumerate\u001b[39m(display)]\n",
      "File \u001b[1;32m~\\anaconda3\\envs\\mlops\\lib\\site-packages\\deepchecks\\core\\serialization\\abc.py:223\u001b[0m, in \u001b[0;36mABCDisplayItemsHandler.handle_item\u001b[1;34m(cls, item, index, **kwargs)\u001b[0m\n\u001b[0;32m    221\u001b[0m     \u001b[38;5;28;01mreturn\u001b[39;00m \u001b[38;5;28mcls\u001b[39m\u001b[38;5;241m.\u001b[39mhandle_figure(item, index, \u001b[38;5;241m*\u001b[39m\u001b[38;5;241m*\u001b[39mkwargs)\n\u001b[0;32m    222\u001b[0m \u001b[38;5;28;01melif\u001b[39;00m \u001b[38;5;28misinstance\u001b[39m(item, check_types\u001b[38;5;241m.\u001b[39mDisplayMap):\n\u001b[1;32m--> 223\u001b[0m     \u001b[38;5;28;01mreturn\u001b[39;00m \u001b[38;5;28mcls\u001b[39m\u001b[38;5;241m.\u001b[39mhandle_display_map(item, index, \u001b[38;5;241m*\u001b[39m\u001b[38;5;241m*\u001b[39mkwargs)\n\u001b[0;32m    224\u001b[0m \u001b[38;5;28;01melif\u001b[39;00m \u001b[38;5;28mcallable\u001b[39m(item):\n\u001b[0;32m    225\u001b[0m     \u001b[38;5;28;01mreturn\u001b[39;00m \u001b[38;5;28mcls\u001b[39m\u001b[38;5;241m.\u001b[39mhandle_callable(item, index, \u001b[38;5;241m*\u001b[39m\u001b[38;5;241m*\u001b[39mkwargs)\n",
      "File \u001b[1;32m~\\anaconda3\\envs\\mlops\\lib\\site-packages\\deepchecks\\core\\serialization\\check_result\\widget.py:254\u001b[0m, in \u001b[0;36mDisplayItemsHandler.handle_display_map\u001b[1;34m(cls, item, index, **kwargs)\u001b[0m\n\u001b[0;32m    251\u001b[0m children \u001b[38;5;241m=\u001b[39m []\n\u001b[0;32m    253\u001b[0m \u001b[38;5;28;01mfor\u001b[39;00m i, (name, display) \u001b[38;5;129;01min\u001b[39;00m \u001b[38;5;28menumerate\u001b[39m(item\u001b[38;5;241m.\u001b[39mitems()):\n\u001b[1;32m--> 254\u001b[0m     \u001b[43mtab\u001b[49m\u001b[38;5;241;43m.\u001b[39;49m\u001b[43mset_title\u001b[49m\u001b[43m(\u001b[49m\u001b[43mi\u001b[49m\u001b[43m,\u001b[49m\u001b[43m \u001b[49m\u001b[43mname\u001b[49m\u001b[43m)\u001b[49m\n\u001b[0;32m    255\u001b[0m     children\u001b[38;5;241m.\u001b[39mappend(VBox(children\u001b[38;5;241m=\u001b[39m\u001b[38;5;28mcls\u001b[39m\u001b[38;5;241m.\u001b[39mhandle_display(\n\u001b[0;32m    256\u001b[0m         display,\n\u001b[0;32m    257\u001b[0m         include_header\u001b[38;5;241m=\u001b[39m\u001b[38;5;28;01mFalse\u001b[39;00m,\n\u001b[0;32m    258\u001b[0m         include_trailing_link\u001b[38;5;241m=\u001b[39m\u001b[38;5;28;01mFalse\u001b[39;00m,\n\u001b[0;32m    259\u001b[0m         \u001b[38;5;241m*\u001b[39m\u001b[38;5;241m*\u001b[39mkwargs\n\u001b[0;32m    260\u001b[0m     )))\n\u001b[0;32m    262\u001b[0m tab\u001b[38;5;241m.\u001b[39mchildren \u001b[38;5;241m=\u001b[39m children\n",
      "File \u001b[1;32m~\\anaconda3\\envs\\mlops\\lib\\site-packages\\ipywidgets\\widgets\\widget_selectioncontainer.py:69\u001b[0m, in \u001b[0;36m_SelectionContainer.set_title\u001b[1;34m(self, index, title)\u001b[0m\n\u001b[0;32m     67\u001b[0m \u001b[38;5;28;01mif\u001b[39;00m title \u001b[38;5;129;01mis\u001b[39;00m \u001b[38;5;28;01mNone\u001b[39;00m:\n\u001b[0;32m     68\u001b[0m     title \u001b[38;5;241m=\u001b[39m \u001b[38;5;124m'\u001b[39m\u001b[38;5;124m'\u001b[39m\n\u001b[1;32m---> 69\u001b[0m titles[index]\u001b[38;5;241m=\u001b[39mtitle\n\u001b[0;32m     70\u001b[0m \u001b[38;5;28mself\u001b[39m\u001b[38;5;241m.\u001b[39mtitles \u001b[38;5;241m=\u001b[39m \u001b[38;5;28mtuple\u001b[39m(titles)\n",
      "\u001b[1;31mIndexError\u001b[0m: list assignment index out of range"
     ]
    }
   ],
   "source": [
    "html_result_model_test=result_model_test.save_as_html('result_model_test')"
   ]
  },
  {
   "cell_type": "code",
   "execution_count": null,
   "metadata": {},
   "outputs": [],
   "source": []
  }
 ],
 "metadata": {
  "kernelspec": {
   "display_name": "Python 3 (ipykernel)",
   "language": "python",
   "name": "python3"
  },
  "language_info": {
   "codemirror_mode": {
    "name": "ipython",
    "version": 3
   },
   "file_extension": ".py",
   "mimetype": "text/x-python",
   "name": "python",
   "nbconvert_exporter": "python",
   "pygments_lexer": "ipython3",
   "version": "3.10.9"
  },
  "vscode": {
   "interpreter": {
    "hash": "f47cee5ce7f0e86d1697bc830ef64d3cfed3ed1d870feb222f972fa9d7058365"
   }
  }
 },
 "nbformat": 4,
 "nbformat_minor": 1
}
